{
 "cells": [
  {
   "metadata": {
    "ExecuteTime": {
     "end_time": "2024-12-10T15:13:04.713601Z",
     "start_time": "2024-12-10T15:13:00.778290Z"
    }
   },
   "cell_type": "code",
   "source": [
    "import torch\n",
    "import sys\n",
    "import os.path as osp\n",
    "import os\n",
    "import sys\n",
    "import numpy as np\n",
    "sys.path.append(\"/eos/home-g/gkrzmanc/jetclustering/code\")\n",
    "from src.dataset.dataset import SimpleIterDataset\n",
    "from src.utils.utils import to_filelist\n",
    "from torch.utils.data import DataLoader\n",
    "from tqdm import tqdm\n",
    "from torch_scatter import scatter_sum\n",
    "import matplotlib.pyplot as plt\n",
    "import pickle\n",
    "import numpy as np\n",
    "import mplhep as hep\n",
    "hep.style.use(\"CMS\")\n",
    "import matplotlib\n",
    "matplotlib.rc('font', size=13)"
   ],
   "id": "6bae9707acf4a848",
   "outputs": [],
   "execution_count": 1
  },
  {
   "metadata": {
    "ExecuteTime": {
     "end_time": "2024-12-10T15:13:11.260902Z",
     "start_time": "2024-12-10T15:13:04.753406Z"
    }
   },
   "cell_type": "code",
   "source": [
    "def remove_from_list(lst):\n",
    "    out = []\n",
    "    for item in lst:\n",
    "        if item in [\"hgcal\", \"data.txt\", \"test_file.root\"]:\n",
    "            continue\n",
    "        out.append(item)\n",
    "    return out\n",
    "\n",
    "path = \"/eos/user/g/gkrzmanc/jetclustering/data/SVJ_std_UL2018_scouting_test_large/SVJ_mMed-700GeV_mDark-20GeV_rinv-0.7_alpha-peak\"\n",
    "\n",
    "datasets = os.listdir(path)\n",
    "datasets = [os.path.join(path, x) for x in datasets]\n",
    "datasets = datasets[:5]\n",
    "\n",
    "class Args:\n",
    "    def __init__(self):\n",
    "        self.data_train = datasets\n",
    "        self.data_val = datasets\n",
    "        #self.data_train = files_train\n",
    "        self.data_config = '/eos/home-g/gkrzmanc/jetclustering/code/config_files/config_jets.yaml'\n",
    "        self.extra_selection = None\n",
    "        self.train_val_split = 0.8\n",
    "        self.data_fraction = 1\n",
    "        self.file_fraction = 1\n",
    "        self.fetch_by_files = False\n",
    "        self.fetch_step = 0.2\n",
    "        self.steps_per_epoch = None\n",
    "        self.in_memory = False\n",
    "        self.local_rank = None\n",
    "        self.copy_inputs = False\n",
    "        self.no_remake_weights = False\n",
    "        self.batch_size = 10\n",
    "        self.num_workers = 0\n",
    "        self.demo = False\n",
    "        self.laplace = False\n",
    "        self.diffs = False\n",
    "        self.class_edges = False\n",
    "\n",
    "args = Args()\n",
    "train_range = (0, args.train_val_split)\n",
    "train_file_dict, train_files = to_filelist(args, 'train')\n",
    "train_data = SimpleIterDataset(train_file_dict, args.data_config, for_training=True,\n",
    "                               extra_selection=args.extra_selection,\n",
    "                               remake_weights=True,\n",
    "                               load_range_and_fraction=(train_range, args.data_fraction),\n",
    "                               file_fraction=args.file_fraction,\n",
    "                               fetch_by_files=args.fetch_by_files,\n",
    "                               fetch_step=args.fetch_step,\n",
    "                               infinity_mode=False,\n",
    "                               in_memory=args.in_memory,\n",
    "                               async_load=False,\n",
    "                               name='train', jets=True)\n",
    "\n",
    "iterator = iter(train_data)\n"
   ],
   "id": "e7a7ef680143801e",
   "outputs": [
    {
     "name": "stdout",
     "output_type": "stream",
     "text": [
      "['/eos/user/g/gkrzmanc/jetclustering/data/SVJ_std_UL2018_scouting_test_large/SVJ_mMed-700GeV_mDark-20GeV_rinv-0.7_alpha-peak/PFNano_s-channel_mMed-700_mDark-20_rinv-0.7_alpha-peak_13TeV-pythia8_n-1000_part-1.root', '/eos/user/g/gkrzmanc/jetclustering/data/SVJ_std_UL2018_scouting_test_large/SVJ_mMed-700GeV_mDark-20GeV_rinv-0.7_alpha-peak/PFNano_s-channel_mMed-700_mDark-20_rinv-0.7_alpha-peak_13TeV-pythia8_n-1000_part-10.root', '/eos/user/g/gkrzmanc/jetclustering/data/SVJ_std_UL2018_scouting_test_large/SVJ_mMed-700GeV_mDark-20GeV_rinv-0.7_alpha-peak/PFNano_s-channel_mMed-700_mDark-20_rinv-0.7_alpha-peak_13TeV-pythia8_n-1000_part-11.root', '/eos/user/g/gkrzmanc/jetclustering/data/SVJ_std_UL2018_scouting_test_large/SVJ_mMed-700GeV_mDark-20GeV_rinv-0.7_alpha-peak/PFNano_s-channel_mMed-700_mDark-20_rinv-0.7_alpha-peak_13TeV-pythia8_n-1000_part-12.root', '/eos/user/g/gkrzmanc/jetclustering/data/SVJ_std_UL2018_scouting_test_large/SVJ_mMed-700GeV_mDark-20GeV_rinv-0.7_alpha-peak/PFNano_s-channel_mMed-700_mDark-20_rinv-0.7_alpha-peak_13TeV-pythia8_n-1000_part-13.root']\n",
      "=== Restarting DataIter train, seed=None ===\n"
     ]
    }
   ],
   "execution_count": 2
  },
  {
   "metadata": {
    "ExecuteTime": {
     "end_time": "2024-12-10T15:13:19.707527Z",
     "start_time": "2024-12-10T15:13:11.517582Z"
    }
   },
   "cell_type": "code",
   "source": "data = next(iterator)",
   "id": "358804216dd950f6",
   "outputs": [],
   "execution_count": 3
  },
  {
   "metadata": {
    "ExecuteTime": {
     "end_time": "2024-12-10T15:13:19.738048Z",
     "start_time": "2024-12-10T15:13:19.732126Z"
    }
   },
   "cell_type": "code",
   "source": [
    "def plot_event(data):\n",
    "    eta = data[\"pfcands\"].eta\n",
    "    phi = data[\"pfcands\"].phi\n",
    "    pt = data[\"pfcands\"].pt\n",
    "    mapping = data[\"pfcands\"].pf_cand_jet_idx\n",
    "    print(\"N jets:\", mapping.max().item()+1)\n",
    "    #ffline_eta = data[\"offline_pfcands\"].eta\n",
    "    #o#ffline_phi = data[\"offline_pfcands\"].phi\n",
    "    #o#ffline_pt = data[\"offline_pfcands\"].pt\n",
    "    #offline_mapping = data[\"offline_pfcands\"].pf_cand_to_jet\n",
    "    genjet_eta = data[\"genjets\"].eta\n",
    "    genjet_phi = data[\"genjets\"].phi\n",
    "    genjet_pt = data[\"genjets\"].pt\n",
    "    fig, ax = plt.subplots(figsize=(5,5))\n",
    "    # plot eta, phi and the size of circles proportional to p_t. The colors should be either gray (if not in mapping) or some other color that 'represents' the identified jet\n",
    "    colorlist = [\"red\", \"green\", \"blue\"]\n",
    "    colors = []\n",
    "    for i in range(len(eta)):\n",
    "        if mapping[i] != -1:\n",
    "            colors.append(colorlist[mapping[i]])\n",
    "        else:\n",
    "            colors.append(\"gray\")\n",
    "    ax.scatter(eta, phi, s=pt, c=colors)\n",
    "    ax.scatter(genjet_eta, genjet_phi, marker=\"*\", s=genjet_pt, c=\"blue\", alpha=1.0)\n",
    "    ax.set_xlabel(\"eta\")\n",
    "    ax.set_ylabel(\"phi\")\n",
    "    fig.show()"
   ],
   "id": "bd6083c26e613497",
   "outputs": [],
   "execution_count": 4
  },
  {
   "metadata": {
    "ExecuteTime": {
     "end_time": "2024-12-10T15:22:37.374418Z",
     "start_time": "2024-12-10T15:22:36.573390Z"
    }
   },
   "cell_type": "code",
   "source": [
    "data = next(iterator)\n",
    "plot_event(data)"
   ],
   "id": "bff9fb512c141633",
   "outputs": [
    {
     "name": "stdout",
     "output_type": "stream",
     "text": [
      "N jets: 0\n"
     ]
    },
    {
     "data": {
      "text/plain": [
       "<Figure size 500x500 with 1 Axes>"
      ],
      "image/png": "[encoded data removed]"
     },
     "metadata": {},
     "output_type": "display_data"
    }
   ],
   "execution_count": 10
  },
  {
   "metadata": {
    "ExecuteTime": {
     "end_time": "2024-12-10T15:22:44.104824Z",
     "start_time": "2024-12-10T15:22:44.093038Z"
    }
   },
   "cell_type": "code",
   "source": "data[\"pfcands\"].pf_cand_jet_idx",
   "id": "ddd0ae18d75c0b57",
   "outputs": [
    {
     "data": {
      "text/plain": [
       "tensor([-1, -1, -1, -1, -1, -1, -1, -1, -1, -1, -1, -1, -1, -1, -1, -1, -1, -1,\n",
       "        -1, -1, -1, -1, -1, -1, -1, -1, -1, -1, -1, -1, -1, -1, -1, -1, -1, -1,\n",
       "        -1, -1, -1, -1, -1, -1, -1, -1, -1, -1, -1, -1, -1, -1, -1, -1, -1, -1,\n",
       "        -1, -1, -1, -1, -1, -1, -1, -1, -1, -1, -1, -1, -1, -1, -1, -1, -1, -1,\n",
       "        -1, -1, -1, -1, -1, -1, -1, -1, -1, -1, -1, -1, -1, -1, -1, -1, -1, -1,\n",
       "        -1, -1, -1, -1, -1, -1, -1, -1, -1, -1, -1, -1, -1, -1, -1, -1, -1, -1,\n",
       "        -1, -1, -1, -1, -1, -1, -1, -1, -1, -1, -1, -1, -1, -1, -1, -1, -1, -1,\n",
       "        -1, -1, -1, -1, -1, -1, -1, -1, -1, -1, -1, -1, -1, -1, -1, -1, -1, -1,\n",
       "        -1, -1, -1, -1, -1, -1, -1, -1, -1, -1, -1, -1, -1, -1, -1, -1, -1, -1,\n",
       "        -1, -1, -1, -1, -1, -1, -1, -1, -1, -1, -1, -1, -1, -1, -1, -1, -1, -1,\n",
       "        -1, -1, -1, -1, -1, -1, -1, -1, -1, -1, -1, -1, -1, -1, -1, -1, -1, -1,\n",
       "        -1, -1, -1, -1, -1, -1, -1, -1, -1, -1, -1, -1, -1, -1, -1, -1, -1, -1,\n",
       "        -1, -1, -1, -1, -1, -1, -1, -1, -1, -1, -1, -1, -1, -1, -1, -1, -1, -1,\n",
       "        -1, -1, -1, -1, -1, -1, -1, -1, -1, -1, -1, -1, -1, -1, -1, -1, -1, -1,\n",
       "        -1, -1, -1, -1, -1, -1, -1, -1, -1, -1, -1, -1, -1, -1, -1, -1, -1, -1,\n",
       "        -1, -1, -1, -1, -1, -1, -1, -1, -1, -1, -1, -1, -1, -1, -1, -1, -1, -1,\n",
       "        -1, -1, -1, -1, -1, -1, -1, -1, -1, -1, -1, -1, -1, -1, -1, -1, -1, -1,\n",
       "        -1, -1, -1, -1, -1, -1, -1, -1, -1, -1, -1, -1, -1, -1, -1, -1, -1, -1,\n",
       "        -1, -1, -1, -1, -1, -1, -1, -1, -1, -1, -1, -1, -1, -1, -1, -1, -1, -1,\n",
       "        -1, -1, -1, -1, -1, -1, -1, -1, -1, -1, -1, -1, -1, -1, -1, -1, -1, -1,\n",
       "        -1, -1, -1, -1, -1, -1, -1, -1, -1, -1, -1, -1, -1, -1, -1],\n",
       "       dtype=torch.int32)"
      ]
     },
     "execution_count": 13,
     "metadata": {},
     "output_type": "execute_result"
    }
   ],
   "execution_count": 13
  },
  {
   "metadata": {},
   "cell_type": "code",
   "source": "",
   "id": "3e0c51fbaefc5f01",
   "outputs": [],
   "execution_count": null
  },
  {
   "metadata": {
    "ExecuteTime": {
     "end_time": "2024-10-28T13:23:11.060512Z",
     "start_time": "2024-10-28T13:23:10.464916Z"
    }
   },
   "cell_type": "code",
   "source": [
    "fig, ax = plt.subplots(figsize=(5,5))\n",
    "# plot eta, phi and the size of circles proportional to p_t. The colors should be either gray (if not in mapping) or some other color that 'represents' the identified jet\n",
    "\n",
    "colorlist = [\"red\", \"green\", \"blue\", \"purple\", \"orange\", \"white\", \"white\", \"white\"]\n",
    "colors = []\n",
    "for i in range(len(offline_eta)):\n",
    "    if i in offline_mapping:\n",
    "        colors.append(colorlist[offline_mapping[i]])\n",
    "    else:\n",
    "        colors.append(\"gray\")\n",
    "\n",
    "ax.scatter(offline_eta, offline_phi, s=offline_pt, c=colors)\n",
    "ax.set_xlabel(\"eta\")\n",
    "ax.set_ylabel(\"phi\")\n",
    "ax.set_title(\"Offline\")\n",
    "fig.show()"
   ],
   "id": "68d61f2e391f6ba",
   "outputs": [
    {
     "data": {
      "text/plain": [
       "<Figure size 500x500 with 1 Axes>"
      ],
      "image/png": "[encoded data removed]"
     },
     "metadata": {},
     "output_type": "display_data"
    }
   ],
   "execution_count": 55
  },
  {
   "metadata": {
    "ExecuteTime": {
     "end_time": "2024-10-28T12:49:36.552987Z",
     "start_time": "2024-10-28T12:49:36.512141Z"
    }
   },
   "cell_type": "code",
   "source": "",
   "id": "db17f53fd0963027",
   "outputs": [
    {
     "data": {
      "text/plain": [
       "{1: 0,\n",
       " 8: 0,\n",
       " 9: 0,\n",
       " 15: 0,\n",
       " 17: 0,\n",
       " 23: 0,\n",
       " 55: 0,\n",
       " 70: 0,\n",
       " 72: 0,\n",
       " 73: 0,\n",
       " 83: 0,\n",
       " 127: 0,\n",
       " 130: 0,\n",
       " 145: 0,\n",
       " 146: 0,\n",
       " 147: 0,\n",
       " 148: 0,\n",
       " 172: 0,\n",
       " 181: 0,\n",
       " 7: 1,\n",
       " 10: 1,\n",
       " 13: 1,\n",
       " 18: 0,\n",
       " 30: 0,\n",
       " 38: 2,\n",
       " 50: 1,\n",
       " 51: 1,\n",
       " 65: 2,\n",
       " 66: 2,\n",
       " 69: 1,\n",
       " 74: 0,\n",
       " 78: 0,\n",
       " 84: 2,\n",
       " 98: 0,\n",
       " 104: 2,\n",
       " 111: 1,\n",
       " 112: 1,\n",
       " 116: 0,\n",
       " 117: 0,\n",
       " 118: 0,\n",
       " 120: 0,\n",
       " 121: 0,\n",
       " 124: 0,\n",
       " 132: 2,\n",
       " 154: 0,\n",
       " 164: 1,\n",
       " 165: 0,\n",
       " 171: 2,\n",
       " 177: 0,\n",
       " 178: 0,\n",
       " 179: 0,\n",
       " 183: 1,\n",
       " 188: 0,\n",
       " 198: 2,\n",
       " 211: 2,\n",
       " 217: 2,\n",
       " 223: 1,\n",
       " 226: 2,\n",
       " 229: 1,\n",
       " 233: 0,\n",
       " 234: 0,\n",
       " 238: 2,\n",
       " 239: 2,\n",
       " 245: 0,\n",
       " 264: 1,\n",
       " 265: 0,\n",
       " 266: 2,\n",
       " 269: 1,\n",
       " 270: 1,\n",
       " 274: 0,\n",
       " 283: 1,\n",
       " 286: 1,\n",
       " 288: 0,\n",
       " 292: 1,\n",
       " 297: 2,\n",
       " 304: 2}"
      ]
     },
     "execution_count": 17,
     "metadata": {},
     "output_type": "execute_result"
    }
   ],
   "execution_count": 17
  },
  {
   "metadata": {},
   "cell_type": "code",
   "outputs": [],
   "execution_count": null,
   "source": "",
   "id": "407d231636ca27"
  }
 ],
 "metadata": {
  "kernelspec": {
   "display_name": "Python 3",
   "language": "python",
   "name": "python3"
  },
  "language_info": {
   "codemirror_mode": {
    "name": "ipython",
    "version": 2
   },
   "file_extension": ".py",
   "mimetype": "text/x-python",
   "name": "python",
   "nbconvert_exporter": "python",
   "pygments_lexer": "ipython2",
   "version": "2.7.6"
  }
 },
 "nbformat": 4,
 "nbformat_minor": 5
}
