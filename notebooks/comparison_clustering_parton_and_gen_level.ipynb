{
 "cells": [
  {
   "metadata": {
    "ExecuteTime": {
     "end_time": "2025-03-06T13:45:15.381351Z",
     "start_time": "2025-03-06T13:45:10.161490Z"
    }
   },
   "cell_type": "code",
   "source": [
    "import pickle\n",
    "import torch\n",
    "import os\n",
    "import matplotlib.pyplot as plt\n",
    "from src.utils.paths import get_path\n",
    "from src.utils.utils import CPU_Unpickler\n",
    "from pathlib import Path\n",
    "import fastjet\n",
    "from src.dataset.dataset import EventDataset\n",
    "import numpy as np\n",
    "from src.plotting.plot_coordinates import plot_coordinates\n",
    "\n",
    "\n",
    "filename_parton_level = get_path(\"/work/gkrzmanc/jetclustering/results/train/Eval_no_pid_eval_1_2025_03_05_14_41_16/eval_1.pkl\", \"results\")\n",
    "result_parton_level = CPU_Unpickler(open(filename_parton_level, \"rb\")).load()\n",
    "dataset_parton_level = EventDataset.from_directory(result_parton_level[\"filename\"], mmap=True)\n",
    "\n",
    "filename_gen_level = get_path(\"/work/gkrzmanc/jetclustering/results/train/Eval_no_pid_eval_1_2025_03_05_14_40_30/eval_1.pkl\", \"results\")\n",
    "result_gen_level = CPU_Unpickler(open(filename_gen_level, \"rb\")).load()\n",
    "dataset_gen_level = EventDataset.from_directory(result_gen_level[\"filename\"], mmap=True)\n",
    "\n",
    "filename_pfcands_level = get_path(\"/work/gkrzmanc/jetclustering/results/train/Eval_no_pid_eval_1_2025_03_05_14_41_38/eval_1.pkl\", \"results\")\n",
    "result_pfcands_level = CPU_Unpickler(open(filename_pfcands_level, \"rb\")).load()\n",
    "dataset_pfcands_level = EventDataset.from_directory(result_pfcands_level[\"filename\"], mmap=True)\n"
   ],
   "id": "862bda2d2f12153f",
   "outputs": [
    {
     "name": "stderr",
     "output_type": "stream",
     "text": [
      "Exception ignored in: OpenBLAS blas_thread_init: pthread_create failed for thread 54 of 64: Resource temporarily unavailable\n",
      "<bound method IPythonKernel._clean_thread_parent_frames of <ipykernel.ipkernel.IPythonKernel object at 0x7fb00f61e560>>\n",
      "Traceback (most recent call last):\n",
      "  File \"/work/gkrzmanc/1gatr/lib/python3.10/site-packages/ipykernel/ipkernel.py\", line 775, in _clean_thread_parent_frames\n",
      "OpenBLAS blas_thread_init: RLIMIT_NPROC 4096 current, 514581 max\n",
      "OpenBLAS blas_thread_init: pthread_create failed for thread 55 of 64: Resource temporarily unavailable\n",
      "OpenBLAS blas_thread_init: RLIMIT_NPROC 4096 current, 514581 max\n",
      "OpenBLAS blas_thread_init: pthread_create failed for thread 56 of 64: Resource temporarily unavailable\n",
      "OpenBLAS blas_thread_init: RLIMIT_NPROC 4096 current, 514581 max\n",
      "OpenBLAS blas_thread_init: pthread_create failed for thread 57 of 64: Resource temporarily unavailable\n",
      "OpenBLAS blas_thread_init: RLIMIT_NPROC 4096 current, 514581 max\n",
      "OpenBLAS blas_thread_init: pthread_create failed for thread 58 of 64: Resource temporarily unavailable\n",
      "OpenBLAS blas_thread_init: RLIMIT_NPROC 4096 current, 514581 max\n",
      "OpenBLAS blas_thread_init: pthread_create failed for thread 59 of 64: Resource temporarily unavailable\n",
      "OpenBLAS blas_thread_init: RLIMIT_NPROC 4096 current, 514581 max\n",
      "OpenBLAS blas_thread_init: pthread_create failed for thread 60 of 64: Resource temporarily unavailable\n",
      "OpenBLAS blas_thread_init: RLIMIT_NPROC 4096 current, 514581 max\n",
      "OpenBLAS blas_thread_init: pthread_create failed for thread 61 of 64: Resource temporarily unavailable\n",
      "OpenBLAS blas_thread_init: RLIMIT_NPROC 4096 current, 514581 max\n",
      "OpenBLAS blas_thread_init: pthread_create failed for thread 62 of 64: Resource temporarily unavailable\n",
      "OpenBLAS blas_thread_init: RLIMIT_NPROC 4096 current, 514581 max\n",
      "OpenBLAS blas_thread_init: pthread_create failed for thread 63 of 64: Resource temporarily unavailable\n",
      "OpenBLAS blas_thread_init: RLIMIT_NPROC 4096 current, 514581 max\n",
      "    def _clean_thread_parent_frames(\n",
      "KeyboardInterrupt: \n",
      "/work/gkrzmanc/jetclustering/code/src/utils/utils.py:91: FutureWarning: You are using `torch.load` with `weights_only=False` (the current default value), which uses the default pickle module implicitly. It is possible to construct malicious pickle data which will execute arbitrary code during unpickling (See https://github.com/pytorch/pytorch/blob/main/SECURITY.md#untrusted-models for more details). In a future release, the default value for `weights_only` will be flipped to `True`. This limits the functions that could be executed during unpickling. Arbitrary objects will no longer be allowed to be loaded via this mode unless they are explicitly allowlisted by the user via `torch.serialization.add_safe_globals`. We recommend you start setting `weights_only=True` for any use case where you don't have full control of the loaded file. Please open an issue on GitHub for any issues related to this experimental feature.\n",
      "  return lambda b: torch.load(io.BytesIO(b), map_location='cpu')\n"
     ]
    }
   ],
   "execution_count": 1
  },
  {
   "metadata": {
    "ExecuteTime": {
     "end_time": "2025-03-06T11:21:19.564382290Z",
     "start_time": "2025-03-06T11:20:56.393854Z"
    }
   },
   "cell_type": "code",
   "source": [
    "# plotly 3d plot of result[\"pred\"], colored by result[\"GT_cluster\"]\n",
    "def plot_result(result, dataset_path):\n",
    "    filt = result[\"event_idx\"] == 15\n",
    "    # normalized coordinates\n",
    "    norm_coords = result[\"pred\"][filt, 1:4] #/ np.linalg.norm(result[\"pred\"][filt, 1:4] , axis=1 ,keepdims=1)\n",
    "    pt = torch.tensor(result[\"pt\"][filt])\n",
    "    clusters_file = get_path(os.path.join(dataset_path, f\"clustering_hdbscan_4_05_1.pkl\"), \"results\")\n",
    "        #clusters_file=None\n",
    "    model_clusters = CPU_Unpickler(open(clusters_file, \"rb\")).load()\n",
    "    plot_coordinates(norm_coords, pt, torch.tensor(model_clusters[filt])).show()\n",
    "    print(\"-----\")\n",
    "\n"
   ],
   "id": "d584df4044d8a585",
   "outputs": [],
   "execution_count": 2
  },
  {
   "metadata": {
    "ExecuteTime": {
     "end_time": "2025-03-06T11:21:19.571882420Z",
     "start_time": "2025-03-06T11:20:56.637833Z"
    }
   },
   "cell_type": "code",
   "source": "plot_result(result_parton_level, \"/work/gkrzmanc/jetclustering/results/train/Eval_no_pid_eval_1_2025_03_05_14_41_16\")\n",
   "id": "a887bb652ed54eac",
   "outputs": [
    {
     "name": "stdout",
     "output_type": "stream",
     "text": [
      "[('X', (32, 1)), ('Y', (32, 1)), ('Z', (32, 1)), ('tIdx', (32, 1)), ('pt', (32, 1))]\n"
     ]
    },
    {
     "name": "stderr",
     "output_type": "stream",
     "text": [
      "/tmp/ipykernel_42283/481596008.py:6: UserWarning: To copy construct from a tensor, it is recommended to use sourceTensor.clone().detach() or sourceTensor.clone().detach().requires_grad_(True), rather than torch.tensor(sourceTensor).\n",
      "  pt = torch.tensor(result[\"pt\"][filt])\n"
     ]
    },
    {
     "data": {
      "application/vnd.plotly.v1+json": {
       "data": [
        {
         "hovertemplate": "X=%{x}<br>Y=%{y}<br>Z=%{z}<br>pt=%{marker.size}<br>tIdx=%{marker.color}<extra></extra>",
         "legendgroup": "",
         "marker": {
          "color": [
           0.0,
           0.0,
           -1.0,
           0.0,
           0.0,
           0.0,
           -1.0,
           0.0,
           0.0,
           1.0,
           1.0,
           0.0,
           0.0,
           1.0,
           0.0,
           1.0,
           1.0,
           1.0,
           1.0,
           1.0,
           1.0,
           1.0,
           2.0,
           1.0,
           2.0,
           2.0,
           1.0,
           2.0,
           3.0,
           3.0,
           3.0,
           3.0
          ],
          "coloraxis": "coloraxis",
          "opacity": 0.5,
          "size": [
           5.429415225982666,
           0.6081729531288147,
           1.9733420610427856,
           1.3163951635360718,
           2.733966112136841,
           0.6446159482002258,
           1.9690138101577759,
           0.6289293169975281,
           0.5108833312988281,
           1.1707555055618286,
           1.1588191986083984,
           1.1909750699996948,
           2.0548150539398193,
           1.3339203596115112,
           2.0361104011535645,
           43.182132720947266,
           7.180440425872803,
           6.838322162628174,
           0.7990854978561401,
           6.540283679962158,
           5.935789585113525,
           19.336912155151367,
           6.375602722167969,
           28.59280776977539,
           5.872469902038574,
           5.258073329925537,
           0.9352484345436096,
           4.3812971115112305,
           58.224815368652344,
           113.52828216552734,
           108.6135025024414,
           93.19868469238281
          ],
          "sizemode": "area",
          "sizeref": 0.2838207054138184,
          "symbol": "circle",
          "line": {
           "width": 0
          }
         },
         "mode": "markers",
         "name": "",
         "scene": "scene",
         "showlegend": false,
         "x": [
          0.4765247106552124,
          2.060394287109375,
          0.796140193939209,
          0.49241510033607483,
          1.5043977499008179,
          0.5099642872810364,
          0.7963659763336182,
          0.49603110551834106,
          0.49603211879730225,
          -1.1970014572143555,
          -1.2008448839187622,
          0.45484983921051025,
          0.488547146320343,
          -0.9394121170043945,
          1.4640408754348755,
          -1.3883676528930664,
          -1.7735252380371094,
          -1.7738075256347656,
          -1.558084487915039,
          -1.5148839950561523,
          -1.7748527526855469,
          -1.3806838989257812,
          -0.07535076141357422,
          -1.4020256996154785,
          -0.08168691396713257,
          -0.09156012535095215,
          -1.5733389854431152,
          -0.11341261863708496,
          0.5200929641723633,
          0.4879298210144043,
          0.48917853832244873,
          0.49674737453460693
         ],
         "y": [
          0.7626745700836182,
          3.982333183288574,
          0.9171181917190552,
          0.6865851283073425,
          1.3591046333312988,
          0.8154962062835693,
          0.9174587726593018,
          0.7961084246635437,
          0.7655313611030579,
          -2.334413528442383,
          -2.340780735015869,
          0.6274768114089966,
          0.74968421459198,
          -2.924154281616211,
          1.3262934684753418,
          -0.6972968578338623,
          -1.4630308151245117,
          -1.463027000427246,
          -1.14402437210083,
          -0.9294133186340332,
          -1.4630327224731445,
          -0.6878607273101807,
          -0.10533404350280762,
          -0.661689281463623,
          -0.11552739143371582,
          -0.13159489631652832,
          -0.8759052753448486,
          -0.16657257080078125,
          0.42116332054138184,
          0.3869478702545166,
          0.38782334327697754,
          0.3934662342071533
         ],
         "z": [
          7.322221755981445,
          3.7022809982299805,
          -3.1507797241210938,
          4.770708084106445,
          6.06634521484375,
          7.479061126708984,
          -3.1502552032470703,
          7.526288986206055,
          7.372432708740234,
          -4.201669692993164,
          -4.191755294799805,
          5.064359664916992,
          7.274496078491211,
          -2.9367713928222656,
          6.063165664672852,
          -3.712099075317383,
          -2.535440444946289,
          -2.5349302291870117,
          -4.268980026245117,
          -3.4681921005249023,
          -2.5334043502807617,
          -3.7572383880615234,
          -4.83375358581543,
          -3.750673294067383,
          -4.817991256713867,
          -4.801008224487305,
          -3.85335636138916,
          -4.787126541137695,
          -5.682256698608398,
          -5.670263290405273,
          -5.674249649047852,
          -5.692686080932617
         ],
         "type": "scatter3d"
        }
       ],
       "layout": {
        "template": {
         "data": {
          "barpolar": [
           {
            "marker": {
             "line": {
              "color": "rgb(17,17,17)",
              "width": 0.5
             },
             "pattern": {
              "fillmode": "overlay",
              "size": 10,
              "solidity": 0.2
             }
            },
            "type": "barpolar"
           }
          ],
          "bar": [
           {
            "error_x": {
             "color": "#f2f5fa"
            },
            "error_y": {
             "color": "#f2f5fa"
            },
            "marker": {
             "line": {
              "color": "rgb(17,17,17)",
              "width": 0.5
             },
             "pattern": {
              "fillmode": "overlay",
              "size": 10,
              "solidity": 0.2
             }
            },
            "type": "bar"
           }
          ],
          "carpet": [
           {
            "aaxis": {
             "endlinecolor": "#A2B1C6",
             "gridcolor": "#506784",
             "linecolor": "#506784",
             "minorgridcolor": "#506784",
             "startlinecolor": "#A2B1C6"
            },
            "baxis": {
             "endlinecolor": "#A2B1C6",
             "gridcolor": "#506784",
             "linecolor": "#506784",
             "minorgridcolor": "#506784",
             "startlinecolor": "#A2B1C6"
            },
            "type": "carpet"
           }
          ],
          "choropleth": [
           {
            "colorbar": {
             "outlinewidth": 0,
             "ticks": ""
            },
            "type": "choropleth"
           }
          ],
          "contourcarpet": [
           {
            "colorbar": {
             "outlinewidth": 0,
             "ticks": ""
            },
            "type": "contourcarpet"
           }
          ],
          "contour": [
           {
            "colorbar": {
             "outlinewidth": 0,
             "ticks": ""
            },
            "colorscale": [
             [
              0.0,
              "#0d0887"
             ],
             [
              0.1111111111111111,
              "#46039f"
             ],
             [
              0.2222222222222222,
              "#7201a8"
             ],
             [
              0.3333333333333333,
              "#9c179e"
             ],
             [
              0.4444444444444444,
              "#bd3786"
             ],
             [
              0.5555555555555556,
              "#d8576b"
             ],
             [
              0.6666666666666666,
              "#ed7953"
             ],
             [
              0.7777777777777778,
              "#fb9f3a"
             ],
             [
              0.8888888888888888,
              "#fdca26"
             ],
             [
              1.0,
              "#f0f921"
             ]
            ],
            "type": "contour"
           }
          ],
          "heatmapgl": [
           {
            "colorbar": {
             "outlinewidth": 0,
             "ticks": ""
            },
            "colorscale": [
             [
              0.0,
              "#0d0887"
             ],
             [
              0.1111111111111111,
              "#46039f"
             ],
             [
              0.2222222222222222,
              "#7201a8"
             ],
             [
              0.3333333333333333,
              "#9c179e"
             ],
             [
              0.4444444444444444,
              "#bd3786"
             ],
             [
              0.5555555555555556,
              "#d8576b"
             ],
             [
              0.6666666666666666,
              "#ed7953"
             ],
             [
              0.7777777777777778,
              "#fb9f3a"
             ],
             [
              0.8888888888888888,
              "#fdca26"
             ],
             [
              1.0,
              "#f0f921"
             ]
            ],
            "type": "heatmapgl"
           }
          ],
          "heatmap": [
           {
            "colorbar": {
             "outlinewidth": 0,
             "ticks": ""
            },
            "colorscale": [
             [
              0.0,
              "#0d0887"
             ],
             [
              0.1111111111111111,
              "#46039f"
             ],
             [
              0.2222222222222222,
              "#7201a8"
             ],
             [
              0.3333333333333333,
              "#9c179e"
             ],
             [
              0.4444444444444444,
              "#bd3786"
             ],
             [
              0.5555555555555556,
              "#d8576b"
             ],
             [
              0.6666666666666666,
              "#ed7953"
             ],
             [
              0.7777777777777778,
              "#fb9f3a"
             ],
             [
              0.8888888888888888,
              "#fdca26"
             ],
             [
              1.0,
              "#f0f921"
             ]
            ],
            "type": "heatmap"
           }
          ],
          "histogram2dcontour": [
           {
            "colorbar": {
             "outlinewidth": 0,
             "ticks": ""
            },
            "colorscale": [
             [
              0.0,
              "#0d0887"
             ],
             [
              0.1111111111111111,
              "#46039f"
             ],
             [
              0.2222222222222222,
              "#7201a8"
             ],
             [
              0.3333333333333333,
              "#9c179e"
             ],
             [
              0.4444444444444444,
              "#bd3786"
             ],
             [
              0.5555555555555556,
              "#d8576b"
             ],
             [
              0.6666666666666666,
              "#ed7953"
             ],
             [
              0.7777777777777778,
              "#fb9f3a"
             ],
             [
              0.8888888888888888,
              "#fdca26"
             ],
             [
              1.0,
              "#f0f921"
             ]
            ],
            "type": "histogram2dcontour"
           }
          ],
          "histogram2d": [
           {
            "colorbar": {
             "outlinewidth": 0,
             "ticks": ""
            },
            "colorscale": [
             [
              0.0,
              "#0d0887"
             ],
             [
              0.1111111111111111,
              "#46039f"
             ],
             [
              0.2222222222222222,
              "#7201a8"
             ],
             [
              0.3333333333333333,
              "#9c179e"
             ],
             [
              0.4444444444444444,
              "#bd3786"
             ],
             [
              0.5555555555555556,
              "#d8576b"
             ],
             [
              0.6666666666666666,
              "#ed7953"
             ],
             [
              0.7777777777777778,
              "#fb9f3a"
             ],
             [
              0.8888888888888888,
              "#fdca26"
             ],
             [
              1.0,
              "#f0f921"
             ]
            ],
            "type": "histogram2d"
           }
          ],
          "histogram": [
           {
            "marker": {
             "pattern": {
              "fillmode": "overlay",
              "size": 10,
              "solidity": 0.2
             }
            },
            "type": "histogram"
           }
          ],
          "mesh3d": [
           {
            "colorbar": {
             "outlinewidth": 0,
             "ticks": ""
            },
            "type": "mesh3d"
           }
          ],
          "parcoords": [
           {
            "line": {
             "colorbar": {
              "outlinewidth": 0,
              "ticks": ""
             }
            },
            "type": "parcoords"
           }
          ],
          "pie": [
           {
            "automargin": true,
            "type": "pie"
           }
          ],
          "scatter3d": [
           {
            "line": {
             "colorbar": {
              "outlinewidth": 0,
              "ticks": ""
             }
            },
            "marker": {
             "colorbar": {
              "outlinewidth": 0,
              "ticks": ""
             }
            },
            "type": "scatter3d"
           }
          ],
          "scattercarpet": [
           {
            "marker": {
             "colorbar": {
              "outlinewidth": 0,
              "ticks": ""
             }
            },
            "type": "scattercarpet"
           }
          ],
          "scattergeo": [
           {
            "marker": {
             "colorbar": {
              "outlinewidth": 0,
              "ticks": ""
             }
            },
            "type": "scattergeo"
           }
          ],
          "scattergl": [
           {
            "marker": {
             "line": {
              "color": "#283442"
             }
            },
            "type": "scattergl"
           }
          ],
          "scattermapbox": [
           {
            "marker": {
             "colorbar": {
              "outlinewidth": 0,
              "ticks": ""
             }
            },
            "type": "scattermapbox"
           }
          ],
          "scatterpolargl": [
           {
            "marker": {
             "colorbar": {
              "outlinewidth": 0,
              "ticks": ""
             }
            },
            "type": "scatterpolargl"
           }
          ],
          "scatterpolar": [
           {
            "marker": {
             "colorbar": {
              "outlinewidth": 0,
              "ticks": ""
             }
            },
            "type": "scatterpolar"
           }
          ],
          "scatter": [
           {
            "marker": {
             "line": {
              "color": "#283442"
             }
            },
            "type": "scatter"
           }
          ],
          "scatterternary": [
           {
            "marker": {
             "colorbar": {
              "outlinewidth": 0,
              "ticks": ""
             }
            },
            "type": "scatterternary"
           }
          ],
          "surface": [
           {
            "colorbar": {
             "outlinewidth": 0,
             "ticks": ""
            },
            "colorscale": [
             [
              0.0,
              "#0d0887"
             ],
             [
              0.1111111111111111,
              "#46039f"
             ],
             [
              0.2222222222222222,
              "#7201a8"
             ],
             [
              0.3333333333333333,
              "#9c179e"
             ],
             [
              0.4444444444444444,
              "#bd3786"
             ],
             [
              0.5555555555555556,
              "#d8576b"
             ],
             [
              0.6666666666666666,
              "#ed7953"
             ],
             [
              0.7777777777777778,
              "#fb9f3a"
             ],
             [
              0.8888888888888888,
              "#fdca26"
             ],
             [
              1.0,
              "#f0f921"
             ]
            ],
            "type": "surface"
           }
          ],
          "table": [
           {
            "cells": {
             "fill": {
              "color": "#506784"
             },
             "line": {
              "color": "rgb(17,17,17)"
             }
            },
            "header": {
             "fill": {
              "color": "#2a3f5f"
             },
             "line": {
              "color": "rgb(17,17,17)"
             }
            },
            "type": "table"
           }
          ]
         },
         "layout": {
          "annotationdefaults": {
           "arrowcolor": "#f2f5fa",
           "arrowhead": 0,
           "arrowwidth": 1
          },
          "autotypenumbers": "strict",
          "coloraxis": {
           "colorbar": {
            "outlinewidth": 0,
            "ticks": ""
           }
          },
          "colorscale": {
           "diverging": [
            [
             0,
             "#8e0152"
            ],
            [
             0.1,
             "#c51b7d"
            ],
            [
             0.2,
             "#de77ae"
            ],
            [
             0.3,
             "#f1b6da"
            ],
            [
             0.4,
             "#fde0ef"
            ],
            [
             0.5,
             "#f7f7f7"
            ],
            [
             0.6,
             "#e6f5d0"
            ],
            [
             0.7,
             "#b8e186"
            ],
            [
             0.8,
             "#7fbc41"
            ],
            [
             0.9,
             "#4d9221"
            ],
            [
             1,
             "#276419"
            ]
           ],
           "sequential": [
            [
             0.0,
             "#0d0887"
            ],
            [
             0.1111111111111111,
             "#46039f"
            ],
            [
             0.2222222222222222,
             "#7201a8"
            ],
            [
             0.3333333333333333,
             "#9c179e"
            ],
            [
             0.4444444444444444,
             "#bd3786"
            ],
            [
             0.5555555555555556,
             "#d8576b"
            ],
            [
             0.6666666666666666,
             "#ed7953"
            ],
            [
             0.7777777777777778,
             "#fb9f3a"
            ],
            [
             0.8888888888888888,
             "#fdca26"
            ],
            [
             1.0,
             "#f0f921"
            ]
           ],
           "sequentialminus": [
            [
             0.0,
             "#0d0887"
            ],
            [
             0.1111111111111111,
             "#46039f"
            ],
            [
             0.2222222222222222,
             "#7201a8"
            ],
            [
             0.3333333333333333,
             "#9c179e"
            ],
            [
             0.4444444444444444,
             "#bd3786"
            ],
            [
             0.5555555555555556,
             "#d8576b"
            ],
            [
             0.6666666666666666,
             "#ed7953"
            ],
            [
             0.7777777777777778,
             "#fb9f3a"
            ],
            [
             0.8888888888888888,
             "#fdca26"
            ],
            [
             1.0,
             "#f0f921"
            ]
           ]
          },
          "colorway": [
           "#636efa",
           "#EF553B",
           "#00cc96",
           "#ab63fa",
           "#FFA15A",
           "#19d3f3",
           "#FF6692",
           "#B6E880",
           "#FF97FF",
           "#FECB52"
          ],
          "font": {
           "color": "#f2f5fa"
          },
          "geo": {
           "bgcolor": "rgb(17,17,17)",
           "lakecolor": "rgb(17,17,17)",
           "landcolor": "rgb(17,17,17)",
           "showlakes": true,
           "showland": true,
           "subunitcolor": "#506784"
          },
          "hoverlabel": {
           "align": "left"
          },
          "hovermode": "closest",
          "mapbox": {
           "style": "dark"
          },
          "paper_bgcolor": "rgb(17,17,17)",
          "plot_bgcolor": "rgb(17,17,17)",
          "polar": {
           "angularaxis": {
            "gridcolor": "#506784",
            "linecolor": "#506784",
            "ticks": ""
           },
           "bgcolor": "rgb(17,17,17)",
           "radialaxis": {
            "gridcolor": "#506784",
            "linecolor": "#506784",
            "ticks": ""
           }
          },
          "scene": {
           "xaxis": {
            "backgroundcolor": "rgb(17,17,17)",
            "gridcolor": "#506784",
            "gridwidth": 2,
            "linecolor": "#506784",
            "showbackground": true,
            "ticks": "",
            "zerolinecolor": "#C8D4E3"
           },
           "yaxis": {
            "backgroundcolor": "rgb(17,17,17)",
            "gridcolor": "#506784",
            "gridwidth": 2,
            "linecolor": "#506784",
            "showbackground": true,
            "ticks": "",
            "zerolinecolor": "#C8D4E3"
           },
           "zaxis": {
            "backgroundcolor": "rgb(17,17,17)",
            "gridcolor": "#506784",
            "gridwidth": 2,
            "linecolor": "#506784",
            "showbackground": true,
            "ticks": "",
            "zerolinecolor": "#C8D4E3"
           }
          },
          "shapedefaults": {
           "line": {
            "color": "#f2f5fa"
           }
          },
          "sliderdefaults": {
           "bgcolor": "#C8D4E3",
           "bordercolor": "rgb(17,17,17)",
           "borderwidth": 1,
           "tickwidth": 0
          },
          "ternary": {
           "aaxis": {
            "gridcolor": "#506784",
            "linecolor": "#506784",
            "ticks": ""
           },
           "baxis": {
            "gridcolor": "#506784",
            "linecolor": "#506784",
            "ticks": ""
           },
           "bgcolor": "rgb(17,17,17)",
           "caxis": {
            "gridcolor": "#506784",
            "linecolor": "#506784",
            "ticks": ""
           }
          },
          "title": {
           "x": 0.05
          },
          "updatemenudefaults": {
           "bgcolor": "#506784",
           "borderwidth": 0
          },
          "xaxis": {
           "automargin": true,
           "gridcolor": "#283442",
           "linecolor": "#506784",
           "ticks": "",
           "title": {
            "standoff": 15
           },
           "zerolinecolor": "#283442",
           "zerolinewidth": 2
          },
          "yaxis": {
           "automargin": true,
           "gridcolor": "#283442",
           "linecolor": "#506784",
           "ticks": "",
           "title": {
            "standoff": 15
           },
           "zerolinecolor": "#283442",
           "zerolinewidth": 2
          }
         }
        },
        "scene": {
         "domain": {
          "x": [
           0.0,
           1.0
          ],
          "y": [
           0.0,
           1.0
          ]
         },
         "xaxis": {
          "title": {
           "text": "X"
          }
         },
         "yaxis": {
          "title": {
           "text": "Y"
          }
         },
         "zaxis": {
          "title": {
           "text": "Z"
          }
         }
        },
        "coloraxis": {
         "colorbar": {
          "title": {
           "text": "tIdx"
          }
         },
         "colorscale": [
          [
           0.0,
           "rgb(150,0,90)"
          ],
          [
           0.125,
           "rgb(0,0,200)"
          ],
          [
           0.25,
           "rgb(0,25,255)"
          ],
          [
           0.375,
           "rgb(0,152,255)"
          ],
          [
           0.5,
           "rgb(44,255,150)"
          ],
          [
           0.625,
           "rgb(151,255,0)"
          ],
          [
           0.75,
           "rgb(255,234,0)"
          ],
          [
           0.875,
           "rgb(255,111,0)"
          ],
          [
           1.0,
           "rgb(255,0,0)"
          ]
         ]
        },
        "legend": {
         "tracegroupgap": 0,
         "itemsizing": "constant"
        },
        "margin": {
         "t": 60
        }
       },
       "config": {
        "plotlyServerURL": "https://plot.ly"
       }
      },
      "text/html": [
       "<div>                            <div id=\"60f8d9b2-0286-4e3f-ad67-ac20107f888f\" class=\"plotly-graph-div\" style=\"height:525px; width:100%;\"></div>            <script type=\"text/javascript\">                require([\"plotly\"], function(Plotly) {                    window.PLOTLYENV=window.PLOTLYENV || {};                                    if (document.getElementById(\"60f8d9b2-0286-4e3f-ad67-ac20107f888f\")) {                    Plotly.newPlot(                        \"60f8d9b2-0286-4e3f-ad67-ac20107f888f\",                        [{\"hovertemplate\":\"X=%{x}\\u003cbr\\u003eY=%{y}\\u003cbr\\u003eZ=%{z}\\u003cbr\\u003ept=%{marker.size}\\u003cbr\\u003etIdx=%{marker.color}\\u003cextra\\u003e\\u003c\\u002fextra\\u003e\",\"legendgroup\":\"\",\"marker\":{\"color\":[0.0,0.0,-1.0,0.0,0.0,0.0,-1.0,0.0,0.0,1.0,1.0,0.0,0.0,1.0,0.0,1.0,1.0,1.0,1.0,1.0,1.0,1.0,2.0,1.0,2.0,2.0,1.0,2.0,3.0,3.0,3.0,3.0],\"coloraxis\":\"coloraxis\",\"opacity\":0.5,\"size\":[5.429415225982666,0.6081729531288147,1.9733420610427856,1.3163951635360718,2.733966112136841,0.6446159482002258,1.9690138101577759,0.6289293169975281,0.5108833312988281,1.1707555055618286,1.1588191986083984,1.1909750699996948,2.0548150539398193,1.3339203596115112,2.0361104011535645,43.182132720947266,7.180440425872803,6.838322162628174,0.7990854978561401,6.540283679962158,5.935789585113525,19.336912155151367,6.375602722167969,28.59280776977539,5.872469902038574,5.258073329925537,0.9352484345436096,4.3812971115112305,58.224815368652344,113.52828216552734,108.6135025024414,93.19868469238281],\"sizemode\":\"area\",\"sizeref\":0.2838207054138184,\"symbol\":\"circle\",\"line\":{\"width\":0}},\"mode\":\"markers\",\"name\":\"\",\"scene\":\"scene\",\"showlegend\":false,\"x\":[0.4765247106552124,2.060394287109375,0.796140193939209,0.49241510033607483,1.5043977499008179,0.5099642872810364,0.7963659763336182,0.49603110551834106,0.49603211879730225,-1.1970014572143555,-1.2008448839187622,0.45484983921051025,0.488547146320343,-0.9394121170043945,1.4640408754348755,-1.3883676528930664,-1.7735252380371094,-1.7738075256347656,-1.558084487915039,-1.5148839950561523,-1.7748527526855469,-1.3806838989257812,-0.07535076141357422,-1.4020256996154785,-0.08168691396713257,-0.09156012535095215,-1.5733389854431152,-0.11341261863708496,0.5200929641723633,0.4879298210144043,0.48917853832244873,0.49674737453460693],\"y\":[0.7626745700836182,3.982333183288574,0.9171181917190552,0.6865851283073425,1.3591046333312988,0.8154962062835693,0.9174587726593018,0.7961084246635437,0.7655313611030579,-2.334413528442383,-2.340780735015869,0.6274768114089966,0.74968421459198,-2.924154281616211,1.3262934684753418,-0.6972968578338623,-1.4630308151245117,-1.463027000427246,-1.14402437210083,-0.9294133186340332,-1.4630327224731445,-0.6878607273101807,-0.10533404350280762,-0.661689281463623,-0.11552739143371582,-0.13159489631652832,-0.8759052753448486,-0.16657257080078125,0.42116332054138184,0.3869478702545166,0.38782334327697754,0.3934662342071533],\"z\":[7.322221755981445,3.7022809982299805,-3.1507797241210938,4.770708084106445,6.06634521484375,7.479061126708984,-3.1502552032470703,7.526288986206055,7.372432708740234,-4.201669692993164,-4.191755294799805,5.064359664916992,7.274496078491211,-2.9367713928222656,6.063165664672852,-3.712099075317383,-2.535440444946289,-2.5349302291870117,-4.268980026245117,-3.4681921005249023,-2.5334043502807617,-3.7572383880615234,-4.83375358581543,-3.750673294067383,-4.817991256713867,-4.801008224487305,-3.85335636138916,-4.787126541137695,-5.682256698608398,-5.670263290405273,-5.674249649047852,-5.692686080932617],\"type\":\"scatter3d\"}],                        {\"template\":{\"data\":{\"barpolar\":[{\"marker\":{\"line\":{\"color\":\"rgb(17,17,17)\",\"width\":0.5},\"pattern\":{\"fillmode\":\"overlay\",\"size\":10,\"solidity\":0.2}},\"type\":\"barpolar\"}],\"bar\":[{\"error_x\":{\"color\":\"#f2f5fa\"},\"error_y\":{\"color\":\"#f2f5fa\"},\"marker\":{\"line\":{\"color\":\"rgb(17,17,17)\",\"width\":0.5},\"pattern\":{\"fillmode\":\"overlay\",\"size\":10,\"solidity\":0.2}},\"type\":\"bar\"}],\"carpet\":[{\"aaxis\":{\"endlinecolor\":\"#A2B1C6\",\"gridcolor\":\"#506784\",\"linecolor\":\"#506784\",\"minorgridcolor\":\"#506784\",\"startlinecolor\":\"#A2B1C6\"},\"baxis\":{\"endlinecolor\":\"#A2B1C6\",\"gridcolor\":\"#506784\",\"linecolor\":\"#506784\",\"minorgridcolor\":\"#506784\",\"startlinecolor\":\"#A2B1C6\"},\"type\":\"carpet\"}],\"choropleth\":[{\"colorbar\":{\"outlinewidth\":0,\"ticks\":\"\"},\"type\":\"choropleth\"}],\"contourcarpet\":[{\"colorbar\":{\"outlinewidth\":0,\"ticks\":\"\"},\"type\":\"contourcarpet\"}],\"contour\":[{\"colorbar\":{\"outlinewidth\":0,\"ticks\":\"\"},\"colorscale\":[[0.0,\"#0d0887\"],[0.1111111111111111,\"#46039f\"],[0.2222222222222222,\"#7201a8\"],[0.3333333333333333,\"#9c179e\"],[0.4444444444444444,\"#bd3786\"],[0.5555555555555556,\"#d8576b\"],[0.6666666666666666,\"#ed7953\"],[0.7777777777777778,\"#fb9f3a\"],[0.8888888888888888,\"#fdca26\"],[1.0,\"#f0f921\"]],\"type\":\"contour\"}],\"heatmapgl\":[{\"colorbar\":{\"outlinewidth\":0,\"ticks\":\"\"},\"colorscale\":[[0.0,\"#0d0887\"],[0.1111111111111111,\"#46039f\"],[0.2222222222222222,\"#7201a8\"],[0.3333333333333333,\"#9c179e\"],[0.4444444444444444,\"#bd3786\"],[0.5555555555555556,\"#d8576b\"],[0.6666666666666666,\"#ed7953\"],[0.7777777777777778,\"#fb9f3a\"],[0.8888888888888888,\"#fdca26\"],[1.0,\"#f0f921\"]],\"type\":\"heatmapgl\"}],\"heatmap\":[{\"colorbar\":{\"outlinewidth\":0,\"ticks\":\"\"},\"colorscale\":[[0.0,\"#0d0887\"],[0.1111111111111111,\"#46039f\"],[0.2222222222222222,\"#7201a8\"],[0.3333333333333333,\"#9c179e\"],[0.4444444444444444,\"#bd3786\"],[0.5555555555555556,\"#d8576b\"],[0.6666666666666666,\"#ed7953\"],[0.7777777777777778,\"#fb9f3a\"],[0.8888888888888888,\"#fdca26\"],[1.0,\"#f0f921\"]],\"type\":\"heatmap\"}],\"histogram2dcontour\":[{\"colorbar\":{\"outlinewidth\":0,\"ticks\":\"\"},\"colorscale\":[[0.0,\"#0d0887\"],[0.1111111111111111,\"#46039f\"],[0.2222222222222222,\"#7201a8\"],[0.3333333333333333,\"#9c179e\"],[0.4444444444444444,\"#bd3786\"],[0.5555555555555556,\"#d8576b\"],[0.6666666666666666,\"#ed7953\"],[0.7777777777777778,\"#fb9f3a\"],[0.8888888888888888,\"#fdca26\"],[1.0,\"#f0f921\"]],\"type\":\"histogram2dcontour\"}],\"histogram2d\":[{\"colorbar\":{\"outlinewidth\":0,\"ticks\":\"\"},\"colorscale\":[[0.0,\"#0d0887\"],[0.1111111111111111,\"#46039f\"],[0.2222222222222222,\"#7201a8\"],[0.3333333333333333,\"#9c179e\"],[0.4444444444444444,\"#bd3786\"],[0.5555555555555556,\"#d8576b\"],[0.6666666666666666,\"#ed7953\"],[0.7777777777777778,\"#fb9f3a\"],[0.8888888888888888,\"#fdca26\"],[1.0,\"#f0f921\"]],\"type\":\"histogram2d\"}],\"histogram\":[{\"marker\":{\"pattern\":{\"fillmode\":\"overlay\",\"size\":10,\"solidity\":0.2}},\"type\":\"histogram\"}],\"mesh3d\":[{\"colorbar\":{\"outlinewidth\":0,\"ticks\":\"\"},\"type\":\"mesh3d\"}],\"parcoords\":[{\"line\":{\"colorbar\":{\"outlinewidth\":0,\"ticks\":\"\"}},\"type\":\"parcoords\"}],\"pie\":[{\"automargin\":true,\"type\":\"pie\"}],\"scatter3d\":[{\"line\":{\"colorbar\":{\"outlinewidth\":0,\"ticks\":\"\"}},\"marker\":{\"colorbar\":{\"outlinewidth\":0,\"ticks\":\"\"}},\"type\":\"scatter3d\"}],\"scattercarpet\":[{\"marker\":{\"colorbar\":{\"outlinewidth\":0,\"ticks\":\"\"}},\"type\":\"scattercarpet\"}],\"scattergeo\":[{\"marker\":{\"colorbar\":{\"outlinewidth\":0,\"ticks\":\"\"}},\"type\":\"scattergeo\"}],\"scattergl\":[{\"marker\":{\"line\":{\"color\":\"#283442\"}},\"type\":\"scattergl\"}],\"scattermapbox\":[{\"marker\":{\"colorbar\":{\"outlinewidth\":0,\"ticks\":\"\"}},\"type\":\"scattermapbox\"}],\"scatterpolargl\":[{\"marker\":{\"colorbar\":{\"outlinewidth\":0,\"ticks\":\"\"}},\"type\":\"scatterpolargl\"}],\"scatterpolar\":[{\"marker\":{\"colorbar\":{\"outlinewidth\":0,\"ticks\":\"\"}},\"type\":\"scatterpolar\"}],\"scatter\":[{\"marker\":{\"line\":{\"color\":\"#283442\"}},\"type\":\"scatter\"}],\"scatterternary\":[{\"marker\":{\"colorbar\":{\"outlinewidth\":0,\"ticks\":\"\"}},\"type\":\"scatterternary\"}],\"surface\":[{\"colorbar\":{\"outlinewidth\":0,\"ticks\":\"\"},\"colorscale\":[[0.0,\"#0d0887\"],[0.1111111111111111,\"#46039f\"],[0.2222222222222222,\"#7201a8\"],[0.3333333333333333,\"#9c179e\"],[0.4444444444444444,\"#bd3786\"],[0.5555555555555556,\"#d8576b\"],[0.6666666666666666,\"#ed7953\"],[0.7777777777777778,\"#fb9f3a\"],[0.8888888888888888,\"#fdca26\"],[1.0,\"#f0f921\"]],\"type\":\"surface\"}],\"table\":[{\"cells\":{\"fill\":{\"color\":\"#506784\"},\"line\":{\"color\":\"rgb(17,17,17)\"}},\"header\":{\"fill\":{\"color\":\"#2a3f5f\"},\"line\":{\"color\":\"rgb(17,17,17)\"}},\"type\":\"table\"}]},\"layout\":{\"annotationdefaults\":{\"arrowcolor\":\"#f2f5fa\",\"arrowhead\":0,\"arrowwidth\":1},\"autotypenumbers\":\"strict\",\"coloraxis\":{\"colorbar\":{\"outlinewidth\":0,\"ticks\":\"\"}},\"colorscale\":{\"diverging\":[[0,\"#8e0152\"],[0.1,\"#c51b7d\"],[0.2,\"#de77ae\"],[0.3,\"#f1b6da\"],[0.4,\"#fde0ef\"],[0.5,\"#f7f7f7\"],[0.6,\"#e6f5d0\"],[0.7,\"#b8e186\"],[0.8,\"#7fbc41\"],[0.9,\"#4d9221\"],[1,\"#276419\"]],\"sequential\":[[0.0,\"#0d0887\"],[0.1111111111111111,\"#46039f\"],[0.2222222222222222,\"#7201a8\"],[0.3333333333333333,\"#9c179e\"],[0.4444444444444444,\"#bd3786\"],[0.5555555555555556,\"#d8576b\"],[0.6666666666666666,\"#ed7953\"],[0.7777777777777778,\"#fb9f3a\"],[0.8888888888888888,\"#fdca26\"],[1.0,\"#f0f921\"]],\"sequentialminus\":[[0.0,\"#0d0887\"],[0.1111111111111111,\"#46039f\"],[0.2222222222222222,\"#7201a8\"],[0.3333333333333333,\"#9c179e\"],[0.4444444444444444,\"#bd3786\"],[0.5555555555555556,\"#d8576b\"],[0.6666666666666666,\"#ed7953\"],[0.7777777777777778,\"#fb9f3a\"],[0.8888888888888888,\"#fdca26\"],[1.0,\"#f0f921\"]]},\"colorway\":[\"#636efa\",\"#EF553B\",\"#00cc96\",\"#ab63fa\",\"#FFA15A\",\"#19d3f3\",\"#FF6692\",\"#B6E880\",\"#FF97FF\",\"#FECB52\"],\"font\":{\"color\":\"#f2f5fa\"},\"geo\":{\"bgcolor\":\"rgb(17,17,17)\",\"lakecolor\":\"rgb(17,17,17)\",\"landcolor\":\"rgb(17,17,17)\",\"showlakes\":true,\"showland\":true,\"subunitcolor\":\"#506784\"},\"hoverlabel\":{\"align\":\"left\"},\"hovermode\":\"closest\",\"mapbox\":{\"style\":\"dark\"},\"paper_bgcolor\":\"rgb(17,17,17)\",\"plot_bgcolor\":\"rgb(17,17,17)\",\"polar\":{\"angularaxis\":{\"gridcolor\":\"#506784\",\"linecolor\":\"#506784\",\"ticks\":\"\"},\"bgcolor\":\"rgb(17,17,17)\",\"radialaxis\":{\"gridcolor\":\"#506784\",\"linecolor\":\"#506784\",\"ticks\":\"\"}},\"scene\":{\"xaxis\":{\"backgroundcolor\":\"rgb(17,17,17)\",\"gridcolor\":\"#506784\",\"gridwidth\":2,\"linecolor\":\"#506784\",\"showbackground\":true,\"ticks\":\"\",\"zerolinecolor\":\"#C8D4E3\"},\"yaxis\":{\"backgroundcolor\":\"rgb(17,17,17)\",\"gridcolor\":\"#506784\",\"gridwidth\":2,\"linecolor\":\"#506784\",\"showbackground\":true,\"ticks\":\"\",\"zerolinecolor\":\"#C8D4E3\"},\"zaxis\":{\"backgroundcolor\":\"rgb(17,17,17)\",\"gridcolor\":\"#506784\",\"gridwidth\":2,\"linecolor\":\"#506784\",\"showbackground\":true,\"ticks\":\"\",\"zerolinecolor\":\"#C8D4E3\"}},\"shapedefaults\":{\"line\":{\"color\":\"#f2f5fa\"}},\"sliderdefaults\":{\"bgcolor\":\"#C8D4E3\",\"bordercolor\":\"rgb(17,17,17)\",\"borderwidth\":1,\"tickwidth\":0},\"ternary\":{\"aaxis\":{\"gridcolor\":\"#506784\",\"linecolor\":\"#506784\",\"ticks\":\"\"},\"baxis\":{\"gridcolor\":\"#506784\",\"linecolor\":\"#506784\",\"ticks\":\"\"},\"bgcolor\":\"rgb(17,17,17)\",\"caxis\":{\"gridcolor\":\"#506784\",\"linecolor\":\"#506784\",\"ticks\":\"\"}},\"title\":{\"x\":0.05},\"updatemenudefaults\":{\"bgcolor\":\"#506784\",\"borderwidth\":0},\"xaxis\":{\"automargin\":true,\"gridcolor\":\"#283442\",\"linecolor\":\"#506784\",\"ticks\":\"\",\"title\":{\"standoff\":15},\"zerolinecolor\":\"#283442\",\"zerolinewidth\":2},\"yaxis\":{\"automargin\":true,\"gridcolor\":\"#283442\",\"linecolor\":\"#506784\",\"ticks\":\"\",\"title\":{\"standoff\":15},\"zerolinecolor\":\"#283442\",\"zerolinewidth\":2}}},\"scene\":{\"domain\":{\"x\":[0.0,1.0],\"y\":[0.0,1.0]},\"xaxis\":{\"title\":{\"text\":\"X\"}},\"yaxis\":{\"title\":{\"text\":\"Y\"}},\"zaxis\":{\"title\":{\"text\":\"Z\"}}},\"coloraxis\":{\"colorbar\":{\"title\":{\"text\":\"tIdx\"}},\"colorscale\":[[0.0,\"rgb(150,0,90)\"],[0.125,\"rgb(0,0,200)\"],[0.25,\"rgb(0,25,255)\"],[0.375,\"rgb(0,152,255)\"],[0.5,\"rgb(44,255,150)\"],[0.625,\"rgb(151,255,0)\"],[0.75,\"rgb(255,234,0)\"],[0.875,\"rgb(255,111,0)\"],[1.0,\"rgb(255,0,0)\"]]},\"legend\":{\"tracegroupgap\":0,\"itemsizing\":\"constant\"},\"margin\":{\"t\":60}},                        {\"responsive\": true}                    ).then(function(){\n",
       "                            \n",
       "var gd = document.getElementById('60f8d9b2-0286-4e3f-ad67-ac20107f888f');\n",
       "var x = new MutationObserver(function (mutations, observer) {{\n",
       "        var display = window.getComputedStyle(gd).display;\n",
       "        if (!display || display === 'none') {{\n",
       "            console.log([gd, 'removed!']);\n",
       "            Plotly.purge(gd);\n",
       "            observer.disconnect();\n",
       "        }}\n",
       "}});\n",
       "\n",
       "// Listen for the removal of the full notebook cells\n",
       "var notebookContainer = gd.closest('#notebook-container');\n",
       "if (notebookContainer) {{\n",
       "    x.observe(notebookContainer, {childList: true});\n",
       "}}\n",
       "\n",
       "// Listen for the clearing of the current output cell\n",
       "var outputEl = gd.closest('.output');\n",
       "if (outputEl) {{\n",
       "    x.observe(outputEl, {childList: true});\n",
       "}}\n",
       "\n",
       "                        })                };                });            </script>        </div>"
      ]
     },
     "metadata": {},
     "output_type": "display_data"
    },
    {
     "name": "stdout",
     "output_type": "stream",
     "text": [
      "-----\n"
     ]
    }
   ],
   "execution_count": 3
  },
  {
   "metadata": {
    "ExecuteTime": {
     "end_time": "2025-03-06T11:21:19.583236325Z",
     "start_time": "2025-03-06T11:20:57.587961Z"
    }
   },
   "cell_type": "code",
   "source": "plot_result(result_gen_level, \"/work/gkrzmanc/jetclustering/results/train/Eval_no_pid_eval_1_2025_03_05_14_40_30\")\n",
   "id": "c52bf5ccd6385464",
   "outputs": [],
   "execution_count": null
  },
  {
   "metadata": {
    "ExecuteTime": {
     "end_time": "2025-03-06T11:21:19.558535887Z",
     "start_time": "2025-03-06T08:43:19.834577Z"
    }
   },
   "cell_type": "code",
   "source": "plot_result(result_pfcands_level, \"/work/gkrzmanc/jetclustering/results/train/Eval_no_pid_eval_1_2025_03_05_14_41_38\")",
   "id": "6501e8a55e915b23",
   "outputs": [
    {
     "ename": "NameError",
     "evalue": "name 'plot_result' is not defined",
     "output_type": "error",
     "traceback": [
      "\u001B[0;31m---------------------------------------------------------------------------\u001B[0m",
      "\u001B[0;31mNameError\u001B[0m                                 Traceback (most recent call last)",
      "Cell \u001B[0;32mIn[2], line 1\u001B[0m\n\u001B[0;32m----> 1\u001B[0m \u001B[43mplot_result\u001B[49m(result_pfcands_level, \u001B[38;5;124m\"\u001B[39m\u001B[38;5;124m/work/gkrzmanc/jetclustering/results/train/Eval_no_pid_eval_1_2025_03_05_14_41_38\u001B[39m\u001B[38;5;124m\"\u001B[39m)\n",
      "\u001B[0;31mNameError\u001B[0m: name 'plot_result' is not defined"
     ]
    }
   ],
   "execution_count": 2
  },
  {
   "metadata": {
    "ExecuteTime": {
     "end_time": "2025-03-06T11:21:19.559769479Z",
     "start_time": "2025-03-05T14:14:46.437920Z"
    }
   },
   "cell_type": "code",
   "source": "",
   "id": "c386fe40cc978955",
   "outputs": [],
   "execution_count": null
  },
  {
   "metadata": {
    "ExecuteTime": {
     "end_time": "2025-03-06T11:21:19.560855633Z",
     "start_time": "2025-03-05T14:14:46.486981Z"
    }
   },
   "cell_type": "code",
   "source": "",
   "id": "cbc3d8a28e3beb4e",
   "outputs": [],
   "execution_count": null
  },
  {
   "metadata": {},
   "cell_type": "code",
   "outputs": [],
   "execution_count": null,
   "source": "",
   "id": "fcdc97a790d3cbc0"
  }
 ],
 "metadata": {
  "kernelspec": {
   "name": "python3",
   "language": "python",
   "display_name": "Python 3 (ipykernel)"
  }
 },
 "nbformat": 5,
 "nbformat_minor": 9
}
