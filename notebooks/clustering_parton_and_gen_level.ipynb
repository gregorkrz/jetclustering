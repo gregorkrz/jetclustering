{
 "cells": [
  {
   "metadata": {
    "ExecuteTime": {
     "end_time": "2025-03-19T14:08:46.152785Z",
     "start_time": "2025-03-19T14:08:40.892203Z"
    }
   },
   "cell_type": "code",
   "source": [
    "import pickle\n",
    "import torch\n",
    "import os\n",
    "import matplotlib.pyplot as plt\n",
    "from src.utils.paths import get_path\n",
    "from src.utils.utils import CPU_Unpickler\n",
    "from pathlib import Path\n",
    "import fastjet\n",
    "from src.dataset.dataset import EventDataset\n",
    "import numpy as np\n",
    "filename = get_path(\"/work/gkrzmanc/jetclustering/results/train/Eval_no_pid_eval_1_2025_03_05_14_41_16/eval_1.pkl\", \"results\")\n",
    "# for rinv=0.7, see /work/gkrzmanc/jetclustering/results/train/Test_betaPt_BC_rinv07_2025_01_03_15_38_58\n",
    "\n",
    "result = CPU_Unpickler(open(filename, \"rb\")).load()\n",
    "dataset = EventDataset.from_directory(result[\"filename\"], mmap=True)\n"
   ],
   "id": "862bda2d2f12153f",
   "outputs": [
    {
     "ename": "FileNotFoundError",
     "evalue": "[Errno 2] No such file or directory: '/work/gkrzmanc/jetclustering/results/train/Eval_no_pid_eval_1_2025_03_05_14_41_16/eval_1.pkl'",
     "output_type": "error",
     "traceback": [
      "\u001B[0;31m---------------------------------------------------------------------------\u001B[0m",
      "\u001B[0;31mFileNotFoundError\u001B[0m                         Traceback (most recent call last)",
      "Cell \u001B[0;32mIn[1], line 14\u001B[0m\n\u001B[1;32m     11\u001B[0m filename \u001B[38;5;241m=\u001B[39m get_path(\u001B[38;5;124m\"\u001B[39m\u001B[38;5;124m/work/gkrzmanc/jetclustering/results/train/Eval_no_pid_eval_1_2025_03_05_14_41_16/eval_1.pkl\u001B[39m\u001B[38;5;124m\"\u001B[39m, \u001B[38;5;124m\"\u001B[39m\u001B[38;5;124mresults\u001B[39m\u001B[38;5;124m\"\u001B[39m)\n\u001B[1;32m     12\u001B[0m \u001B[38;5;66;03m# for rinv=0.7, see /work/gkrzmanc/jetclustering/results/train/Test_betaPt_BC_rinv07_2025_01_03_15_38_58\u001B[39;00m\n\u001B[0;32m---> 14\u001B[0m result \u001B[38;5;241m=\u001B[39m CPU_Unpickler(\u001B[38;5;28;43mopen\u001B[39;49m\u001B[43m(\u001B[49m\u001B[43mfilename\u001B[49m\u001B[43m,\u001B[49m\u001B[43m \u001B[49m\u001B[38;5;124;43m\"\u001B[39;49m\u001B[38;5;124;43mrb\u001B[39;49m\u001B[38;5;124;43m\"\u001B[39;49m\u001B[43m)\u001B[49m)\u001B[38;5;241m.\u001B[39mload()\n\u001B[1;32m     15\u001B[0m dataset \u001B[38;5;241m=\u001B[39m EventDataset\u001B[38;5;241m.\u001B[39mfrom_directory(result[\u001B[38;5;124m\"\u001B[39m\u001B[38;5;124mfilename\u001B[39m\u001B[38;5;124m\"\u001B[39m], mmap\u001B[38;5;241m=\u001B[39m\u001B[38;5;28;01mTrue\u001B[39;00m)\n",
      "File \u001B[0;32m/work/gkrzmanc/1gatr/lib/python3.10/site-packages/IPython/core/interactiveshell.py:324\u001B[0m, in \u001B[0;36m_modified_open\u001B[0;34m(file, *args, **kwargs)\u001B[0m\n\u001B[1;32m    317\u001B[0m \u001B[38;5;28;01mif\u001B[39;00m file \u001B[38;5;129;01min\u001B[39;00m {\u001B[38;5;241m0\u001B[39m, \u001B[38;5;241m1\u001B[39m, \u001B[38;5;241m2\u001B[39m}:\n\u001B[1;32m    318\u001B[0m     \u001B[38;5;28;01mraise\u001B[39;00m \u001B[38;5;167;01mValueError\u001B[39;00m(\n\u001B[1;32m    319\u001B[0m         \u001B[38;5;124mf\u001B[39m\u001B[38;5;124m\"\u001B[39m\u001B[38;5;124mIPython won\u001B[39m\u001B[38;5;124m'\u001B[39m\u001B[38;5;124mt let you open fd=\u001B[39m\u001B[38;5;132;01m{\u001B[39;00mfile\u001B[38;5;132;01m}\u001B[39;00m\u001B[38;5;124m by default \u001B[39m\u001B[38;5;124m\"\u001B[39m\n\u001B[1;32m    320\u001B[0m         \u001B[38;5;124m\"\u001B[39m\u001B[38;5;124mas it is likely to crash IPython. If you know what you are doing, \u001B[39m\u001B[38;5;124m\"\u001B[39m\n\u001B[1;32m    321\u001B[0m         \u001B[38;5;124m\"\u001B[39m\u001B[38;5;124myou can use builtins\u001B[39m\u001B[38;5;124m'\u001B[39m\u001B[38;5;124m open.\u001B[39m\u001B[38;5;124m\"\u001B[39m\n\u001B[1;32m    322\u001B[0m     )\n\u001B[0;32m--> 324\u001B[0m \u001B[38;5;28;01mreturn\u001B[39;00m \u001B[43mio_open\u001B[49m\u001B[43m(\u001B[49m\u001B[43mfile\u001B[49m\u001B[43m,\u001B[49m\u001B[43m \u001B[49m\u001B[38;5;241;43m*\u001B[39;49m\u001B[43margs\u001B[49m\u001B[43m,\u001B[49m\u001B[43m \u001B[49m\u001B[38;5;241;43m*\u001B[39;49m\u001B[38;5;241;43m*\u001B[39;49m\u001B[43mkwargs\u001B[49m\u001B[43m)\u001B[49m\n",
      "\u001B[0;31mFileNotFoundError\u001B[0m: [Errno 2] No such file or directory: '/work/gkrzmanc/jetclustering/results/train/Eval_no_pid_eval_1_2025_03_05_14_41_16/eval_1.pkl'"
     ]
    }
   ],
   "execution_count": 1
  },
  {
   "metadata": {
    "ExecuteTime": {
     "end_time": "2025-03-19T14:08:46.177874072Z",
     "start_time": "2025-03-05T14:22:24.763317Z"
    }
   },
   "cell_type": "code",
   "source": "",
   "id": "9087767e438ba4e7",
   "outputs": [],
   "execution_count": null
  },
  {
   "metadata": {
    "ExecuteTime": {
     "end_time": "2025-03-19T14:08:46.181119723Z",
     "start_time": "2025-03-05T14:22:24.880737Z"
    }
   },
   "cell_type": "code",
   "source": "",
   "id": "d5c75efc6fdc491c",
   "outputs": [],
   "execution_count": null
  },
  {
   "metadata": {
    "ExecuteTime": {
     "end_time": "2025-03-19T14:08:46.182137398Z",
     "start_time": "2025-03-05T14:22:24.976045Z"
    }
   },
   "cell_type": "code",
   "source": [
    "# plotly 3d plot of result[\"pred\"], colored by result[\"GT_cluster\"]\n",
    "from src.plotting.plot_coordinates import plot_coordinates\n",
    "filt = result[\"event_idx\"] == 15\n",
    "# normalized coordinates\n",
    "norm_coords = result[\"pred\"][filt, 1:4] #/ np.linalg.norm(result[\"pred\"][filt, 1:4] , axis=1 ,keepdims=1)\n",
    "pt = torch.tensor(result[\"pt\"][filt])\n",
    "plot_coordinates(norm_coords, torch.tensor(result[\"pt\"][filt]), torch.tensor(result[\"GT_cluster\"][filt])).show()\n"
   ],
   "id": "d584df4044d8a585",
   "outputs": [
    {
     "name": "stdout",
     "output_type": "stream",
     "text": [
      "[('X', (32, 1)), ('Y', (32, 1)), ('Z', (32, 1)), ('tIdx', (32, 1)), ('pt', (32, 1))]\n"
     ]
    },
    {
     "name": "stderr",
     "output_type": "stream",
     "text": [
      "/tmp/ipykernel_51221/2041003322.py:6: UserWarning:\n",
      "\n",
      "To copy construct from a tensor, it is recommended to use sourceTensor.clone().detach() or sourceTensor.clone().detach().requires_grad_(True), rather than torch.tensor(sourceTensor).\n",
      "\n",
      "/tmp/ipykernel_51221/2041003322.py:7: UserWarning:\n",
      "\n",
      "To copy construct from a tensor, it is recommended to use sourceTensor.clone().detach() or sourceTensor.clone().detach().requires_grad_(True), rather than torch.tensor(sourceTensor).\n",
      "\n"
     ]
    },
    {
     "data": {
      "application/vnd.plotly.v1+json": {
       "data": [
        {
         "hovertemplate": "X=%{x}<br>Y=%{y}<br>Z=%{z}<br>pt=%{marker.size}<br>tIdx=%{marker.color}<extra></extra>",
         "legendgroup": "",
         "marker": {
          "color": [
           -1.0,
           -1.0,
           -1.0,
           -1.0,
           -1.0,
           -1.0,
           -1.0,
           -1.0,
           -1.0,
           -1.0,
           -1.0,
           -1.0,
           -1.0,
           -1.0,
           -1.0,
           0.0,
           -1.0,
           -1.0,
           0.0,
           0.0,
           -1.0,
           0.0,
           -1.0,
           0.0,
           -1.0,
           -1.0,
           0.0,
           -1.0,
           1.0,
           1.0,
           1.0,
           1.0
          ],
          "coloraxis": "coloraxis",
          "opacity": 0.5,
          "size": [
           5.429415225982666,
           0.6081729531288147,
           1.9733420610427856,
           1.3163951635360718,
           2.733966112136841,
           0.6446159482002258,
           1.9690138101577759,
           0.6289293169975281,
           0.5108833312988281,
           1.1707555055618286,
           1.1588191986083984,
           1.1909750699996948,
           2.0548150539398193,
           1.3339203596115112,
           2.0361104011535645,
           43.182132720947266,
           7.180440425872803,
           6.838322162628174,
           0.7990854978561401,
           6.540283679962158,
           5.935789585113525,
           19.336912155151367,
           6.375602722167969,
           28.59280776977539,
           5.872469902038574,
           5.258073329925537,
           0.9352484345436096,
           4.3812971115112305,
           58.224815368652344,
           113.52828216552734,
           108.6135025024414,
           93.19868469238281
          ],
          "sizemode": "area",
          "sizeref": 0.2838207054138184,
          "symbol": "circle",
          "line": {
           "width": 0
          }
         },
         "mode": "markers",
         "name": "",
         "scene": "scene",
         "showlegend": false,
         "x": [
          0.4765247106552124,
          2.060394287109375,
          0.796140193939209,
          0.49241510033607483,
          1.5043977499008179,
          0.5099642872810364,
          0.7963659763336182,
          0.49603110551834106,
          0.49603211879730225,
          -1.1970014572143555,
          -1.2008448839187622,
          0.45484983921051025,
          0.488547146320343,
          -0.9394121170043945,
          1.4640408754348755,
          -1.3883676528930664,
          -1.7735252380371094,
          -1.7738075256347656,
          -1.558084487915039,
          -1.5148839950561523,
          -1.7748527526855469,
          -1.3806838989257812,
          -0.07535076141357422,
          -1.4020256996154785,
          -0.08168691396713257,
          -0.09156012535095215,
          -1.5733389854431152,
          -0.11341261863708496,
          0.5200929641723633,
          0.4879298210144043,
          0.48917853832244873,
          0.49674737453460693
         ],
         "y": [
          0.7626745700836182,
          3.982333183288574,
          0.9171181917190552,
          0.6865851283073425,
          1.3591046333312988,
          0.8154962062835693,
          0.9174587726593018,
          0.7961084246635437,
          0.7655313611030579,
          -2.334413528442383,
          -2.340780735015869,
          0.6274768114089966,
          0.74968421459198,
          -2.924154281616211,
          1.3262934684753418,
          -0.6972968578338623,
          -1.4630308151245117,
          -1.463027000427246,
          -1.14402437210083,
          -0.9294133186340332,
          -1.4630327224731445,
          -0.6878607273101807,
          -0.10533404350280762,
          -0.661689281463623,
          -0.11552739143371582,
          -0.13159489631652832,
          -0.8759052753448486,
          -0.16657257080078125,
          0.42116332054138184,
          0.3869478702545166,
          0.38782334327697754,
          0.3934662342071533
         ],
         "z": [
          7.322221755981445,
          3.7022809982299805,
          -3.1507797241210938,
          4.770708084106445,
          6.06634521484375,
          7.479061126708984,
          -3.1502552032470703,
          7.526288986206055,
          7.372432708740234,
          -4.201669692993164,
          -4.191755294799805,
          5.064359664916992,
          7.274496078491211,
          -2.9367713928222656,
          6.063165664672852,
          -3.712099075317383,
          -2.535440444946289,
          -2.5349302291870117,
          -4.268980026245117,
          -3.4681921005249023,
          -2.5334043502807617,
          -3.7572383880615234,
          -4.83375358581543,
          -3.750673294067383,
          -4.817991256713867,
          -4.801008224487305,
          -3.85335636138916,
          -4.787126541137695,
          -5.682256698608398,
          -5.670263290405273,
          -5.674249649047852,
          -5.692686080932617
         ],
         "type": "scatter3d"
        }
       ],
       "layout": {
        "template": {
         "data": {
          "barpolar": [
           {
            "marker": {
             "line": {
              "color": "rgb(17,17,17)",
              "width": 0.5
             },
             "pattern": {
              "fillmode": "overlay",
              "size": 10,
              "solidity": 0.2
             }
            },
            "type": "barpolar"
           }
          ],
          "bar": [
           {
            "error_x": {
             "color": "#f2f5fa"
            },
            "error_y": {
             "color": "#f2f5fa"
            },
            "marker": {
             "line": {
              "color": "rgb(17,17,17)",
              "width": 0.5
             },
             "pattern": {
              "fillmode": "overlay",
              "size": 10,
              "solidity": 0.2
             }
            },
            "type": "bar"
           }
          ],
          "carpet": [
           {
            "aaxis": {
             "endlinecolor": "#A2B1C6",
             "gridcolor": "#506784",
             "linecolor": "#506784",
             "minorgridcolor": "#506784",
             "startlinecolor": "#A2B1C6"
            },
            "baxis": {
             "endlinecolor": "#A2B1C6",
             "gridcolor": "#506784",
             "linecolor": "#506784",
             "minorgridcolor": "#506784",
             "startlinecolor": "#A2B1C6"
            },
            "type": "carpet"
           }
          ],
          "choropleth": [
           {
            "colorbar": {
             "outlinewidth": 0,
             "ticks": ""
            },
            "type": "choropleth"
           }
          ],
          "contourcarpet": [
           {
            "colorbar": {
             "outlinewidth": 0,
             "ticks": ""
            },
            "type": "contourcarpet"
           }
          ],
          "contour": [
           {
            "colorbar": {
             "outlinewidth": 0,
             "ticks": ""
            },
            "colorscale": [
             [
              0.0,
              "#0d0887"
             ],
             [
              0.1111111111111111,
              "#46039f"
             ],
             [
              0.2222222222222222,
              "#7201a8"
             ],
             [
              0.3333333333333333,
              "#9c179e"
             ],
             [
              0.4444444444444444,
              "#bd3786"
             ],
             [
              0.5555555555555556,
              "#d8576b"
             ],
             [
              0.6666666666666666,
              "#ed7953"
             ],
             [
              0.7777777777777778,
              "#fb9f3a"
             ],
             [
              0.8888888888888888,
              "#fdca26"
             ],
             [
              1.0,
              "#f0f921"
             ]
            ],
            "type": "contour"
           }
          ],
          "heatmapgl": [
           {
            "colorbar": {
             "outlinewidth": 0,
             "ticks": ""
            },
            "colorscale": [
             [
              0.0,
              "#0d0887"
             ],
             [
              0.1111111111111111,
              "#46039f"
             ],
             [
              0.2222222222222222,
              "#7201a8"
             ],
             [
              0.3333333333333333,
              "#9c179e"
             ],
             [
              0.4444444444444444,
              "#bd3786"
             ],
             [
              0.5555555555555556,
              "#d8576b"
             ],
             [
              0.6666666666666666,
              "#ed7953"
             ],
             [
              0.7777777777777778,
              "#fb9f3a"
             ],
             [
              0.8888888888888888,
              "#fdca26"
             ],
             [
              1.0,
              "#f0f921"
             ]
            ],
            "type": "heatmapgl"
           }
          ],
          "heatmap": [
           {
            "colorbar": {
             "outlinewidth": 0,
             "ticks": ""
            },
            "colorscale": [
             [
              0.0,
              "#0d0887"
             ],
             [
              0.1111111111111111,
              "#46039f"
             ],
             [
              0.2222222222222222,
              "#7201a8"
             ],
             [
              0.3333333333333333,
              "#9c179e"
             ],
             [
              0.4444444444444444,
              "#bd3786"
             ],
             [
              0.5555555555555556,
              "#d8576b"
             ],
             [
              0.6666666666666666,
              "#ed7953"
             ],
             [
              0.7777777777777778,
              "#fb9f3a"
             ],
             [
              0.8888888888888888,
              "#fdca26"
             ],
             [
              1.0,
              "#f0f921"
             ]
            ],
            "type": "heatmap"
           }
          ],
          "histogram2dcontour": [
           {
            "colorbar": {
             "outlinewidth": 0,
             "ticks": ""
            },
            "colorscale": [
             [
              0.0,
              "#0d0887"
             ],
             [
              0.1111111111111111,
              "#46039f"
             ],
             [
              0.2222222222222222,
              "#7201a8"
             ],
             [
              0.3333333333333333,
              "#9c179e"
             ],
             [
              0.4444444444444444,
              "#bd3786"
             ],
             [
              0.5555555555555556,
              "#d8576b"
             ],
             [
              0.6666666666666666,
              "#ed7953"
             ],
             [
              0.7777777777777778,
              "#fb9f3a"
             ],
             [
              0.8888888888888888,
              "#fdca26"
             ],
             [
              1.0,
              "#f0f921"
             ]
            ],
            "type": "histogram2dcontour"
           }
          ],
          "histogram2d": [
           {
            "colorbar": {
             "outlinewidth": 0,
             "ticks": ""
            },
            "colorscale": [
             [
              0.0,
              "#0d0887"
             ],
             [
              0.1111111111111111,
              "#46039f"
             ],
             [
              0.2222222222222222,
              "#7201a8"
             ],
             [
              0.3333333333333333,
              "#9c179e"
             ],
             [
              0.4444444444444444,
              "#bd3786"
             ],
             [
              0.5555555555555556,
              "#d8576b"
             ],
             [
              0.6666666666666666,
              "#ed7953"
             ],
             [
              0.7777777777777778,
              "#fb9f3a"
             ],
             [
              0.8888888888888888,
              "#fdca26"
             ],
             [
              1.0,
              "#f0f921"
             ]
            ],
            "type": "histogram2d"
           }
          ],
          "histogram": [
           {
            "marker": {
             "pattern": {
              "fillmode": "overlay",
              "size": 10,
              "solidity": 0.2
             }
            },
            "type": "histogram"
           }
          ],
          "mesh3d": [
           {
            "colorbar": {
             "outlinewidth": 0,
             "ticks": ""
            },
            "type": "mesh3d"
           }
          ],
          "parcoords": [
           {
            "line": {
             "colorbar": {
              "outlinewidth": 0,
              "ticks": ""
             }
            },
            "type": "parcoords"
           }
          ],
          "pie": [
           {
            "automargin": true,
            "type": "pie"
           }
          ],
          "scatter3d": [
           {
            "line": {
             "colorbar": {
              "outlinewidth": 0,
              "ticks": ""
             }
            },
            "marker": {
             "colorbar": {
              "outlinewidth": 0,
              "ticks": ""
             }
            },
            "type": "scatter3d"
           }
          ],
          "scattercarpet": [
           {
            "marker": {
             "colorbar": {
              "outlinewidth": 0,
              "ticks": ""
             }
            },
            "type": "scattercarpet"
           }
          ],
          "scattergeo": [
           {
            "marker": {
             "colorbar": {
              "outlinewidth": 0,
              "ticks": ""
             }
            },
            "type": "scattergeo"
           }
          ],
          "scattergl": [
           {
            "marker": {
             "line": {
              "color": "#283442"
             }
            },
            "type": "scattergl"
           }
          ],
          "scattermapbox": [
           {
            "marker": {
             "colorbar": {
              "outlinewidth": 0,
              "ticks": ""
             }
            },
            "type": "scattermapbox"
           }
          ],
          "scatterpolargl": [
           {
            "marker": {
             "colorbar": {
              "outlinewidth": 0,
              "ticks": ""
             }
            },
            "type": "scatterpolargl"
           }
          ],
          "scatterpolar": [
           {
            "marker": {
             "colorbar": {
              "outlinewidth": 0,
              "ticks": ""
             }
            },
            "type": "scatterpolar"
           }
          ],
          "scatter": [
           {
            "marker": {
             "line": {
              "color": "#283442"
             }
            },
            "type": "scatter"
           }
          ],
          "scatterternary": [
           {
            "marker": {
             "colorbar": {
              "outlinewidth": 0,
              "ticks": ""
             }
            },
            "type": "scatterternary"
           }
          ],
          "surface": [
           {
            "colorbar": {
             "outlinewidth": 0,
             "ticks": ""
            },
            "colorscale": [
             [
              0.0,
              "#0d0887"
             ],
             [
              0.1111111111111111,
              "#46039f"
             ],
             [
              0.2222222222222222,
              "#7201a8"
             ],
             [
              0.3333333333333333,
              "#9c179e"
             ],
             [
              0.4444444444444444,
              "#bd3786"
             ],
             [
              0.5555555555555556,
              "#d8576b"
             ],
             [
              0.6666666666666666,
              "#ed7953"
             ],
             [
              0.7777777777777778,
              "#fb9f3a"
             ],
             [
              0.8888888888888888,
              "#fdca26"
             ],
             [
              1.0,
              "#f0f921"
             ]
            ],
            "type": "surface"
           }
          ],
          "table": [
           {
            "cells": {
             "fill": {
              "color": "#506784"
             },
             "line": {
              "color": "rgb(17,17,17)"
             }
            },
            "header": {
             "fill": {
              "color": "#2a3f5f"
             },
             "line": {
              "color": "rgb(17,17,17)"
             }
            },
            "type": "table"
           }
          ]
         },
         "layout": {
          "annotationdefaults": {
           "arrowcolor": "#f2f5fa",
           "arrowhead": 0,
           "arrowwidth": 1
          },
          "autotypenumbers": "strict",
          "coloraxis": {
           "colorbar": {
            "outlinewidth": 0,
            "ticks": ""
           }
          },
          "colorscale": {
           "diverging": [
            [
             0,
             "#8e0152"
            ],
            [
             0.1,
             "#c51b7d"
            ],
            [
             0.2,
             "#de77ae"
            ],
            [
             0.3,
             "#f1b6da"
            ],
            [
             0.4,
             "#fde0ef"
            ],
            [
             0.5,
             "#f7f7f7"
            ],
            [
             0.6,
             "#e6f5d0"
            ],
            [
             0.7,
             "#b8e186"
            ],
            [
             0.8,
             "#7fbc41"
            ],
            [
             0.9,
             "#4d9221"
            ],
            [
             1,
             "#276419"
            ]
           ],
           "sequential": [
            [
             0.0,
             "#0d0887"
            ],
            [
             0.1111111111111111,
             "#46039f"
            ],
            [
             0.2222222222222222,
             "#7201a8"
            ],
            [
             0.3333333333333333,
             "#9c179e"
            ],
            [
             0.4444444444444444,
             "#bd3786"
            ],
            [
             0.5555555555555556,
             "#d8576b"
            ],
            [
             0.6666666666666666,
             "#ed7953"
            ],
            [
             0.7777777777777778,
             "#fb9f3a"
            ],
            [
             0.8888888888888888,
             "#fdca26"
            ],
            [
             1.0,
             "#f0f921"
            ]
           ],
           "sequentialminus": [
            [
             0.0,
             "#0d0887"
            ],
            [
             0.1111111111111111,
             "#46039f"
            ],
            [
             0.2222222222222222,
             "#7201a8"
            ],
            [
             0.3333333333333333,
             "#9c179e"
            ],
            [
             0.4444444444444444,
             "#bd3786"
            ],
            [
             0.5555555555555556,
             "#d8576b"
            ],
            [
             0.6666666666666666,
             "#ed7953"
            ],
            [
             0.7777777777777778,
             "#fb9f3a"
            ],
            [
             0.8888888888888888,
             "#fdca26"
            ],
            [
             1.0,
             "#f0f921"
            ]
           ]
          },
          "colorway": [
           "#636efa",
           "#EF553B",
           "#00cc96",
           "#ab63fa",
           "#FFA15A",
           "#19d3f3",
           "#FF6692",
           "#B6E880",
           "#FF97FF",
           "#FECB52"
          ],
          "font": {
           "color": "#f2f5fa"
          },
          "geo": {
           "bgcolor": "rgb(17,17,17)",
           "lakecolor": "rgb(17,17,17)",
           "landcolor": "rgb(17,17,17)",
           "showlakes": true,
           "showland": true,
           "subunitcolor": "#506784"
          },
          "hoverlabel": {
           "align": "left"
          },
          "hovermode": "closest",
          "mapbox": {
           "style": "dark"
          },
          "paper_bgcolor": "rgb(17,17,17)",
          "plot_bgcolor": "rgb(17,17,17)",
          "polar": {
           "angularaxis": {
            "gridcolor": "#506784",
            "linecolor": "#506784",
            "ticks": ""
           },
           "bgcolor": "rgb(17,17,17)",
           "radialaxis": {
            "gridcolor": "#506784",
            "linecolor": "#506784",
            "ticks": ""
           }
          },
          "scene": {
           "xaxis": {
            "backgroundcolor": "rgb(17,17,17)",
            "gridcolor": "#506784",
            "gridwidth": 2,
            "linecolor": "#506784",
            "showbackground": true,
            "ticks": "",
            "zerolinecolor": "#C8D4E3"
           },
           "yaxis": {
            "backgroundcolor": "rgb(17,17,17)",
            "gridcolor": "#506784",
            "gridwidth": 2,
            "linecolor": "#506784",
            "showbackground": true,
            "ticks": "",
            "zerolinecolor": "#C8D4E3"
           },
           "zaxis": {
            "backgroundcolor": "rgb(17,17,17)",
            "gridcolor": "#506784",
            "gridwidth": 2,
            "linecolor": "#506784",
            "showbackground": true,
            "ticks": "",
            "zerolinecolor": "#C8D4E3"
           }
          },
          "shapedefaults": {
           "line": {
            "color": "#f2f5fa"
           }
          },
          "sliderdefaults": {
           "bgcolor": "#C8D4E3",
           "bordercolor": "rgb(17,17,17)",
           "borderwidth": 1,
           "tickwidth": 0
          },
          "ternary": {
           "aaxis": {
            "gridcolor": "#506784",
            "linecolor": "#506784",
            "ticks": ""
           },
           "baxis": {
            "gridcolor": "#506784",
            "linecolor": "#506784",
            "ticks": ""
           },
           "bgcolor": "rgb(17,17,17)",
           "caxis": {
            "gridcolor": "#506784",
            "linecolor": "#506784",
            "ticks": ""
           }
          },
          "title": {
           "x": 0.05
          },
          "updatemenudefaults": {
           "bgcolor": "#506784",
           "borderwidth": 0
          },
          "xaxis": {
           "automargin": true,
           "gridcolor": "#283442",
           "linecolor": "#506784",
           "ticks": "",
           "title": {
            "standoff": 15
           },
           "zerolinecolor": "#283442",
           "zerolinewidth": 2
          },
          "yaxis": {
           "automargin": true,
           "gridcolor": "#283442",
           "linecolor": "#506784",
           "ticks": "",
           "title": {
            "standoff": 15
           },
           "zerolinecolor": "#283442",
           "zerolinewidth": 2
          }
         }
        },
        "scene": {
         "domain": {
          "x": [
           0.0,
           1.0
          ],
          "y": [
           0.0,
           1.0
          ]
         },
         "xaxis": {
          "title": {
           "text": "X"
          }
         },
         "yaxis": {
          "title": {
           "text": "Y"
          }
         },
         "zaxis": {
          "title": {
           "text": "Z"
          }
         }
        },
        "coloraxis": {
         "colorbar": {
          "title": {
           "text": "tIdx"
          }
         },
         "colorscale": [
          [
           0.0,
           "rgb(150,0,90)"
          ],
          [
           0.125,
           "rgb(0,0,200)"
          ],
          [
           0.25,
           "rgb(0,25,255)"
          ],
          [
           0.375,
           "rgb(0,152,255)"
          ],
          [
           0.5,
           "rgb(44,255,150)"
          ],
          [
           0.625,
           "rgb(151,255,0)"
          ],
          [
           0.75,
           "rgb(255,234,0)"
          ],
          [
           0.875,
           "rgb(255,111,0)"
          ],
          [
           1.0,
           "rgb(255,0,0)"
          ]
         ]
        },
        "legend": {
         "tracegroupgap": 0,
         "itemsizing": "constant"
        },
        "margin": {
         "t": 60
        }
       },
       "config": {
        "plotlyServerURL": "https://plot.ly"
       }
      },
      "text/html": [
       "<div>                            <div id=\"8bd371bc-bb92-42c1-b669-6f11dc274118\" class=\"plotly-graph-div\" style=\"height:525px; width:100%;\"></div>            <script type=\"text/javascript\">                require([\"plotly\"], function(Plotly) {                    window.PLOTLYENV=window.PLOTLYENV || {};                                    if (document.getElementById(\"8bd371bc-bb92-42c1-b669-6f11dc274118\")) {                    Plotly.newPlot(                        \"8bd371bc-bb92-42c1-b669-6f11dc274118\",                        [{\"hovertemplate\":\"X=%{x}\\u003cbr\\u003eY=%{y}\\u003cbr\\u003eZ=%{z}\\u003cbr\\u003ept=%{marker.size}\\u003cbr\\u003etIdx=%{marker.color}\\u003cextra\\u003e\\u003c\\u002fextra\\u003e\",\"legendgroup\":\"\",\"marker\":{\"color\":[-1.0,-1.0,-1.0,-1.0,-1.0,-1.0,-1.0,-1.0,-1.0,-1.0,-1.0,-1.0,-1.0,-1.0,-1.0,0.0,-1.0,-1.0,0.0,0.0,-1.0,0.0,-1.0,0.0,-1.0,-1.0,0.0,-1.0,1.0,1.0,1.0,1.0],\"coloraxis\":\"coloraxis\",\"opacity\":0.5,\"size\":[5.429415225982666,0.6081729531288147,1.9733420610427856,1.3163951635360718,2.733966112136841,0.6446159482002258,1.9690138101577759,0.6289293169975281,0.5108833312988281,1.1707555055618286,1.1588191986083984,1.1909750699996948,2.0548150539398193,1.3339203596115112,2.0361104011535645,43.182132720947266,7.180440425872803,6.838322162628174,0.7990854978561401,6.540283679962158,5.935789585113525,19.336912155151367,6.375602722167969,28.59280776977539,5.872469902038574,5.258073329925537,0.9352484345436096,4.3812971115112305,58.224815368652344,113.52828216552734,108.6135025024414,93.19868469238281],\"sizemode\":\"area\",\"sizeref\":0.2838207054138184,\"symbol\":\"circle\",\"line\":{\"width\":0}},\"mode\":\"markers\",\"name\":\"\",\"scene\":\"scene\",\"showlegend\":false,\"x\":[0.4765247106552124,2.060394287109375,0.796140193939209,0.49241510033607483,1.5043977499008179,0.5099642872810364,0.7963659763336182,0.49603110551834106,0.49603211879730225,-1.1970014572143555,-1.2008448839187622,0.45484983921051025,0.488547146320343,-0.9394121170043945,1.4640408754348755,-1.3883676528930664,-1.7735252380371094,-1.7738075256347656,-1.558084487915039,-1.5148839950561523,-1.7748527526855469,-1.3806838989257812,-0.07535076141357422,-1.4020256996154785,-0.08168691396713257,-0.09156012535095215,-1.5733389854431152,-0.11341261863708496,0.5200929641723633,0.4879298210144043,0.48917853832244873,0.49674737453460693],\"y\":[0.7626745700836182,3.982333183288574,0.9171181917190552,0.6865851283073425,1.3591046333312988,0.8154962062835693,0.9174587726593018,0.7961084246635437,0.7655313611030579,-2.334413528442383,-2.340780735015869,0.6274768114089966,0.74968421459198,-2.924154281616211,1.3262934684753418,-0.6972968578338623,-1.4630308151245117,-1.463027000427246,-1.14402437210083,-0.9294133186340332,-1.4630327224731445,-0.6878607273101807,-0.10533404350280762,-0.661689281463623,-0.11552739143371582,-0.13159489631652832,-0.8759052753448486,-0.16657257080078125,0.42116332054138184,0.3869478702545166,0.38782334327697754,0.3934662342071533],\"z\":[7.322221755981445,3.7022809982299805,-3.1507797241210938,4.770708084106445,6.06634521484375,7.479061126708984,-3.1502552032470703,7.526288986206055,7.372432708740234,-4.201669692993164,-4.191755294799805,5.064359664916992,7.274496078491211,-2.9367713928222656,6.063165664672852,-3.712099075317383,-2.535440444946289,-2.5349302291870117,-4.268980026245117,-3.4681921005249023,-2.5334043502807617,-3.7572383880615234,-4.83375358581543,-3.750673294067383,-4.817991256713867,-4.801008224487305,-3.85335636138916,-4.787126541137695,-5.682256698608398,-5.670263290405273,-5.674249649047852,-5.692686080932617],\"type\":\"scatter3d\"}],                        {\"template\":{\"data\":{\"barpolar\":[{\"marker\":{\"line\":{\"color\":\"rgb(17,17,17)\",\"width\":0.5},\"pattern\":{\"fillmode\":\"overlay\",\"size\":10,\"solidity\":0.2}},\"type\":\"barpolar\"}],\"bar\":[{\"error_x\":{\"color\":\"#f2f5fa\"},\"error_y\":{\"color\":\"#f2f5fa\"},\"marker\":{\"line\":{\"color\":\"rgb(17,17,17)\",\"width\":0.5},\"pattern\":{\"fillmode\":\"overlay\",\"size\":10,\"solidity\":0.2}},\"type\":\"bar\"}],\"carpet\":[{\"aaxis\":{\"endlinecolor\":\"#A2B1C6\",\"gridcolor\":\"#506784\",\"linecolor\":\"#506784\",\"minorgridcolor\":\"#506784\",\"startlinecolor\":\"#A2B1C6\"},\"baxis\":{\"endlinecolor\":\"#A2B1C6\",\"gridcolor\":\"#506784\",\"linecolor\":\"#506784\",\"minorgridcolor\":\"#506784\",\"startlinecolor\":\"#A2B1C6\"},\"type\":\"carpet\"}],\"choropleth\":[{\"colorbar\":{\"outlinewidth\":0,\"ticks\":\"\"},\"type\":\"choropleth\"}],\"contourcarpet\":[{\"colorbar\":{\"outlinewidth\":0,\"ticks\":\"\"},\"type\":\"contourcarpet\"}],\"contour\":[{\"colorbar\":{\"outlinewidth\":0,\"ticks\":\"\"},\"colorscale\":[[0.0,\"#0d0887\"],[0.1111111111111111,\"#46039f\"],[0.2222222222222222,\"#7201a8\"],[0.3333333333333333,\"#9c179e\"],[0.4444444444444444,\"#bd3786\"],[0.5555555555555556,\"#d8576b\"],[0.6666666666666666,\"#ed7953\"],[0.7777777777777778,\"#fb9f3a\"],[0.8888888888888888,\"#fdca26\"],[1.0,\"#f0f921\"]],\"type\":\"contour\"}],\"heatmapgl\":[{\"colorbar\":{\"outlinewidth\":0,\"ticks\":\"\"},\"colorscale\":[[0.0,\"#0d0887\"],[0.1111111111111111,\"#46039f\"],[0.2222222222222222,\"#7201a8\"],[0.3333333333333333,\"#9c179e\"],[0.4444444444444444,\"#bd3786\"],[0.5555555555555556,\"#d8576b\"],[0.6666666666666666,\"#ed7953\"],[0.7777777777777778,\"#fb9f3a\"],[0.8888888888888888,\"#fdca26\"],[1.0,\"#f0f921\"]],\"type\":\"heatmapgl\"}],\"heatmap\":[{\"colorbar\":{\"outlinewidth\":0,\"ticks\":\"\"},\"colorscale\":[[0.0,\"#0d0887\"],[0.1111111111111111,\"#46039f\"],[0.2222222222222222,\"#7201a8\"],[0.3333333333333333,\"#9c179e\"],[0.4444444444444444,\"#bd3786\"],[0.5555555555555556,\"#d8576b\"],[0.6666666666666666,\"#ed7953\"],[0.7777777777777778,\"#fb9f3a\"],[0.8888888888888888,\"#fdca26\"],[1.0,\"#f0f921\"]],\"type\":\"heatmap\"}],\"histogram2dcontour\":[{\"colorbar\":{\"outlinewidth\":0,\"ticks\":\"\"},\"colorscale\":[[0.0,\"#0d0887\"],[0.1111111111111111,\"#46039f\"],[0.2222222222222222,\"#7201a8\"],[0.3333333333333333,\"#9c179e\"],[0.4444444444444444,\"#bd3786\"],[0.5555555555555556,\"#d8576b\"],[0.6666666666666666,\"#ed7953\"],[0.7777777777777778,\"#fb9f3a\"],[0.8888888888888888,\"#fdca26\"],[1.0,\"#f0f921\"]],\"type\":\"histogram2dcontour\"}],\"histogram2d\":[{\"colorbar\":{\"outlinewidth\":0,\"ticks\":\"\"},\"colorscale\":[[0.0,\"#0d0887\"],[0.1111111111111111,\"#46039f\"],[0.2222222222222222,\"#7201a8\"],[0.3333333333333333,\"#9c179e\"],[0.4444444444444444,\"#bd3786\"],[0.5555555555555556,\"#d8576b\"],[0.6666666666666666,\"#ed7953\"],[0.7777777777777778,\"#fb9f3a\"],[0.8888888888888888,\"#fdca26\"],[1.0,\"#f0f921\"]],\"type\":\"histogram2d\"}],\"histogram\":[{\"marker\":{\"pattern\":{\"fillmode\":\"overlay\",\"size\":10,\"solidity\":0.2}},\"type\":\"histogram\"}],\"mesh3d\":[{\"colorbar\":{\"outlinewidth\":0,\"ticks\":\"\"},\"type\":\"mesh3d\"}],\"parcoords\":[{\"line\":{\"colorbar\":{\"outlinewidth\":0,\"ticks\":\"\"}},\"type\":\"parcoords\"}],\"pie\":[{\"automargin\":true,\"type\":\"pie\"}],\"scatter3d\":[{\"line\":{\"colorbar\":{\"outlinewidth\":0,\"ticks\":\"\"}},\"marker\":{\"colorbar\":{\"outlinewidth\":0,\"ticks\":\"\"}},\"type\":\"scatter3d\"}],\"scattercarpet\":[{\"marker\":{\"colorbar\":{\"outlinewidth\":0,\"ticks\":\"\"}},\"type\":\"scattercarpet\"}],\"scattergeo\":[{\"marker\":{\"colorbar\":{\"outlinewidth\":0,\"ticks\":\"\"}},\"type\":\"scattergeo\"}],\"scattergl\":[{\"marker\":{\"line\":{\"color\":\"#283442\"}},\"type\":\"scattergl\"}],\"scattermapbox\":[{\"marker\":{\"colorbar\":{\"outlinewidth\":0,\"ticks\":\"\"}},\"type\":\"scattermapbox\"}],\"scatterpolargl\":[{\"marker\":{\"colorbar\":{\"outlinewidth\":0,\"ticks\":\"\"}},\"type\":\"scatterpolargl\"}],\"scatterpolar\":[{\"marker\":{\"colorbar\":{\"outlinewidth\":0,\"ticks\":\"\"}},\"type\":\"scatterpolar\"}],\"scatter\":[{\"marker\":{\"line\":{\"color\":\"#283442\"}},\"type\":\"scatter\"}],\"scatterternary\":[{\"marker\":{\"colorbar\":{\"outlinewidth\":0,\"ticks\":\"\"}},\"type\":\"scatterternary\"}],\"surface\":[{\"colorbar\":{\"outlinewidth\":0,\"ticks\":\"\"},\"colorscale\":[[0.0,\"#0d0887\"],[0.1111111111111111,\"#46039f\"],[0.2222222222222222,\"#7201a8\"],[0.3333333333333333,\"#9c179e\"],[0.4444444444444444,\"#bd3786\"],[0.5555555555555556,\"#d8576b\"],[0.6666666666666666,\"#ed7953\"],[0.7777777777777778,\"#fb9f3a\"],[0.8888888888888888,\"#fdca26\"],[1.0,\"#f0f921\"]],\"type\":\"surface\"}],\"table\":[{\"cells\":{\"fill\":{\"color\":\"#506784\"},\"line\":{\"color\":\"rgb(17,17,17)\"}},\"header\":{\"fill\":{\"color\":\"#2a3f5f\"},\"line\":{\"color\":\"rgb(17,17,17)\"}},\"type\":\"table\"}]},\"layout\":{\"annotationdefaults\":{\"arrowcolor\":\"#f2f5fa\",\"arrowhead\":0,\"arrowwidth\":1},\"autotypenumbers\":\"strict\",\"coloraxis\":{\"colorbar\":{\"outlinewidth\":0,\"ticks\":\"\"}},\"colorscale\":{\"diverging\":[[0,\"#8e0152\"],[0.1,\"#c51b7d\"],[0.2,\"#de77ae\"],[0.3,\"#f1b6da\"],[0.4,\"#fde0ef\"],[0.5,\"#f7f7f7\"],[0.6,\"#e6f5d0\"],[0.7,\"#b8e186\"],[0.8,\"#7fbc41\"],[0.9,\"#4d9221\"],[1,\"#276419\"]],\"sequential\":[[0.0,\"#0d0887\"],[0.1111111111111111,\"#46039f\"],[0.2222222222222222,\"#7201a8\"],[0.3333333333333333,\"#9c179e\"],[0.4444444444444444,\"#bd3786\"],[0.5555555555555556,\"#d8576b\"],[0.6666666666666666,\"#ed7953\"],[0.7777777777777778,\"#fb9f3a\"],[0.8888888888888888,\"#fdca26\"],[1.0,\"#f0f921\"]],\"sequentialminus\":[[0.0,\"#0d0887\"],[0.1111111111111111,\"#46039f\"],[0.2222222222222222,\"#7201a8\"],[0.3333333333333333,\"#9c179e\"],[0.4444444444444444,\"#bd3786\"],[0.5555555555555556,\"#d8576b\"],[0.6666666666666666,\"#ed7953\"],[0.7777777777777778,\"#fb9f3a\"],[0.8888888888888888,\"#fdca26\"],[1.0,\"#f0f921\"]]},\"colorway\":[\"#636efa\",\"#EF553B\",\"#00cc96\",\"#ab63fa\",\"#FFA15A\",\"#19d3f3\",\"#FF6692\",\"#B6E880\",\"#FF97FF\",\"#FECB52\"],\"font\":{\"color\":\"#f2f5fa\"},\"geo\":{\"bgcolor\":\"rgb(17,17,17)\",\"lakecolor\":\"rgb(17,17,17)\",\"landcolor\":\"rgb(17,17,17)\",\"showlakes\":true,\"showland\":true,\"subunitcolor\":\"#506784\"},\"hoverlabel\":{\"align\":\"left\"},\"hovermode\":\"closest\",\"mapbox\":{\"style\":\"dark\"},\"paper_bgcolor\":\"rgb(17,17,17)\",\"plot_bgcolor\":\"rgb(17,17,17)\",\"polar\":{\"angularaxis\":{\"gridcolor\":\"#506784\",\"linecolor\":\"#506784\",\"ticks\":\"\"},\"bgcolor\":\"rgb(17,17,17)\",\"radialaxis\":{\"gridcolor\":\"#506784\",\"linecolor\":\"#506784\",\"ticks\":\"\"}},\"scene\":{\"xaxis\":{\"backgroundcolor\":\"rgb(17,17,17)\",\"gridcolor\":\"#506784\",\"gridwidth\":2,\"linecolor\":\"#506784\",\"showbackground\":true,\"ticks\":\"\",\"zerolinecolor\":\"#C8D4E3\"},\"yaxis\":{\"backgroundcolor\":\"rgb(17,17,17)\",\"gridcolor\":\"#506784\",\"gridwidth\":2,\"linecolor\":\"#506784\",\"showbackground\":true,\"ticks\":\"\",\"zerolinecolor\":\"#C8D4E3\"},\"zaxis\":{\"backgroundcolor\":\"rgb(17,17,17)\",\"gridcolor\":\"#506784\",\"gridwidth\":2,\"linecolor\":\"#506784\",\"showbackground\":true,\"ticks\":\"\",\"zerolinecolor\":\"#C8D4E3\"}},\"shapedefaults\":{\"line\":{\"color\":\"#f2f5fa\"}},\"sliderdefaults\":{\"bgcolor\":\"#C8D4E3\",\"bordercolor\":\"rgb(17,17,17)\",\"borderwidth\":1,\"tickwidth\":0},\"ternary\":{\"aaxis\":{\"gridcolor\":\"#506784\",\"linecolor\":\"#506784\",\"ticks\":\"\"},\"baxis\":{\"gridcolor\":\"#506784\",\"linecolor\":\"#506784\",\"ticks\":\"\"},\"bgcolor\":\"rgb(17,17,17)\",\"caxis\":{\"gridcolor\":\"#506784\",\"linecolor\":\"#506784\",\"ticks\":\"\"}},\"title\":{\"x\":0.05},\"updatemenudefaults\":{\"bgcolor\":\"#506784\",\"borderwidth\":0},\"xaxis\":{\"automargin\":true,\"gridcolor\":\"#283442\",\"linecolor\":\"#506784\",\"ticks\":\"\",\"title\":{\"standoff\":15},\"zerolinecolor\":\"#283442\",\"zerolinewidth\":2},\"yaxis\":{\"automargin\":true,\"gridcolor\":\"#283442\",\"linecolor\":\"#506784\",\"ticks\":\"\",\"title\":{\"standoff\":15},\"zerolinecolor\":\"#283442\",\"zerolinewidth\":2}}},\"scene\":{\"domain\":{\"x\":[0.0,1.0],\"y\":[0.0,1.0]},\"xaxis\":{\"title\":{\"text\":\"X\"}},\"yaxis\":{\"title\":{\"text\":\"Y\"}},\"zaxis\":{\"title\":{\"text\":\"Z\"}}},\"coloraxis\":{\"colorbar\":{\"title\":{\"text\":\"tIdx\"}},\"colorscale\":[[0.0,\"rgb(150,0,90)\"],[0.125,\"rgb(0,0,200)\"],[0.25,\"rgb(0,25,255)\"],[0.375,\"rgb(0,152,255)\"],[0.5,\"rgb(44,255,150)\"],[0.625,\"rgb(151,255,0)\"],[0.75,\"rgb(255,234,0)\"],[0.875,\"rgb(255,111,0)\"],[1.0,\"rgb(255,0,0)\"]]},\"legend\":{\"tracegroupgap\":0,\"itemsizing\":\"constant\"},\"margin\":{\"t\":60}},                        {\"responsive\": true}                    ).then(function(){\n",
       "                            \n",
       "var gd = document.getElementById('8bd371bc-bb92-42c1-b669-6f11dc274118');\n",
       "var x = new MutationObserver(function (mutations, observer) {{\n",
       "        var display = window.getComputedStyle(gd).display;\n",
       "        if (!display || display === 'none') {{\n",
       "            console.log([gd, 'removed!']);\n",
       "            Plotly.purge(gd);\n",
       "            observer.disconnect();\n",
       "        }}\n",
       "}});\n",
       "\n",
       "// Listen for the removal of the full notebook cells\n",
       "var notebookContainer = gd.closest('#notebook-container');\n",
       "if (notebookContainer) {{\n",
       "    x.observe(notebookContainer, {childList: true});\n",
       "}}\n",
       "\n",
       "// Listen for the clearing of the current output cell\n",
       "var outputEl = gd.closest('.output');\n",
       "if (outputEl) {{\n",
       "    x.observe(outputEl, {childList: true});\n",
       "}}\n",
       "\n",
       "                        })                };                });            </script>        </div>"
      ]
     },
     "metadata": {},
     "output_type": "display_data"
    }
   ],
   "execution_count": 25
  },
  {
   "metadata": {
    "ExecuteTime": {
     "end_time": "2025-03-05T14:22:25.141362Z",
     "start_time": "2025-03-05T14:22:25.137456Z"
    }
   },
   "cell_type": "code",
   "source": "",
   "id": "c52bf5ccd6385464",
   "outputs": [],
   "execution_count": null
  },
  {
   "metadata": {
    "ExecuteTime": {
     "end_time": "2025-03-05T14:22:25.345863Z",
     "start_time": "2025-03-05T14:22:25.242556Z"
    }
   },
   "cell_type": "code",
   "source": [
    "import hdbscan\n",
    "from time import time\n",
    "clusterer = hdbscan.HDBSCAN(metric='euclidean', min_cluster_size=4, min_samples=2, cluster_selection_epsilon=0.5)\n",
    "def custom_metric(xyz, pt):\n",
    "    \"\"\"\n",
    "    Computes the distance matrix where the distance function is defined as:\n",
    "    Euclidean distance between two points in xyz space * min(pt1, pt2)\n",
    "\n",
    "    Parameters:\n",
    "    xyz (numpy.ndarray): An (N, 3) array of N points in 3D space.\n",
    "    pt (numpy.ndarray): A (N,) array of scalars associated with each point.\n",
    "\n",
    "    Returns:\n",
    "    numpy.ndarray: An (N, N) distance matrix.\n",
    "    \"\"\"\n",
    "    N = xyz.shape[0]\n",
    "    distance_matrix = np.zeros((N, N))\n",
    "\n",
    "    for i in range(N):\n",
    "        for j in range(N):\n",
    "            if i != j:\n",
    "                euclidean_distance = np.linalg.norm(xyz[i] - xyz[j])\n",
    "                scale_factor = min(pt[i], pt[j])\n",
    "                distance_matrix[i, j] = euclidean_distance * scale_factor\n",
    "\n",
    "    return distance_matrix\n",
    "\n",
    "t0 = time()\n",
    "#cluster_labels = clusterer.fit_predict(custom_metric(norm_coords, pt))\n",
    "cluster_labels= clusterer.fit_predict(norm_coords)\n",
    "t1 = time()\n",
    "print(t1 - t0)\n",
    "plot_coordinates(result[\"pred\"][filt, 1:4], result[\"pt\"][filt], torch.tensor(cluster_labels)).show()\n"
   ],
   "id": "20aca7fd9d085be4",
   "outputs": [
    {
     "name": "stdout",
     "output_type": "stream",
     "text": [
      "0.007281064987182617\n",
      "[('X', (32, 1)), ('Y', (32, 1)), ('Z', (32, 1)), ('tIdx', (32, 1)), ('pt', (32, 1))]\n"
     ]
    },
    {
     "name": "stderr",
     "output_type": "stream",
     "text": [
      "/work/gkrzmanc/1gatr/lib/python3.10/site-packages/sklearn/utils/deprecation.py:151: FutureWarning:\n",
      "\n",
      "'force_all_finite' was renamed to 'ensure_all_finite' in 1.6 and will be removed in 1.8.\n",
      "\n",
      "/work/gkrzmanc/1gatr/lib/python3.10/site-packages/sklearn/utils/deprecation.py:151: FutureWarning:\n",
      "\n",
      "'force_all_finite' was renamed to 'ensure_all_finite' in 1.6 and will be removed in 1.8.\n",
      "\n"
     ]
    },
    {
     "data": {
      "application/vnd.plotly.v1+json": {
       "data": [
        {
         "hovertemplate": "X=%{x}<br>Y=%{y}<br>Z=%{z}<br>pt=%{marker.size}<br>tIdx=%{marker.color}<extra></extra>",
         "legendgroup": "",
         "marker": {
          "color": [
           0.0,
           0.0,
           -1.0,
           0.0,
           0.0,
           0.0,
           -1.0,
           0.0,
           0.0,
           1.0,
           1.0,
           0.0,
           0.0,
           1.0,
           0.0,
           1.0,
           1.0,
           1.0,
           1.0,
           1.0,
           1.0,
           1.0,
           2.0,
           1.0,
           2.0,
           2.0,
           1.0,
           2.0,
           3.0,
           3.0,
           3.0,
           3.0
          ],
          "coloraxis": "coloraxis",
          "opacity": 0.5,
          "size": [
           5.429415225982666,
           0.6081729531288147,
           1.9733420610427856,
           1.3163951635360718,
           2.733966112136841,
           0.6446159482002258,
           1.9690138101577759,
           0.6289293169975281,
           0.5108833312988281,
           1.1707555055618286,
           1.1588191986083984,
           1.1909750699996948,
           2.0548150539398193,
           1.3339203596115112,
           2.0361104011535645,
           43.182132720947266,
           7.180440425872803,
           6.838322162628174,
           0.7990854978561401,
           6.540283679962158,
           5.935789585113525,
           19.336912155151367,
           6.375602722167969,
           28.59280776977539,
           5.872469902038574,
           5.258073329925537,
           0.9352484345436096,
           4.3812971115112305,
           58.224815368652344,
           113.52828216552734,
           108.6135025024414,
           93.19868469238281
          ],
          "sizemode": "area",
          "sizeref": 0.2838207054138184,
          "symbol": "circle",
          "line": {
           "width": 0
          }
         },
         "mode": "markers",
         "name": "",
         "scene": "scene",
         "showlegend": false,
         "x": [
          0.4765247106552124,
          2.060394287109375,
          0.796140193939209,
          0.49241510033607483,
          1.5043977499008179,
          0.5099642872810364,
          0.7963659763336182,
          0.49603110551834106,
          0.49603211879730225,
          -1.1970014572143555,
          -1.2008448839187622,
          0.45484983921051025,
          0.488547146320343,
          -0.9394121170043945,
          1.4640408754348755,
          -1.3883676528930664,
          -1.7735252380371094,
          -1.7738075256347656,
          -1.558084487915039,
          -1.5148839950561523,
          -1.7748527526855469,
          -1.3806838989257812,
          -0.07535076141357422,
          -1.4020256996154785,
          -0.08168691396713257,
          -0.09156012535095215,
          -1.5733389854431152,
          -0.11341261863708496,
          0.5200929641723633,
          0.4879298210144043,
          0.48917853832244873,
          0.49674737453460693
         ],
         "y": [
          0.7626745700836182,
          3.982333183288574,
          0.9171181917190552,
          0.6865851283073425,
          1.3591046333312988,
          0.8154962062835693,
          0.9174587726593018,
          0.7961084246635437,
          0.7655313611030579,
          -2.334413528442383,
          -2.340780735015869,
          0.6274768114089966,
          0.74968421459198,
          -2.924154281616211,
          1.3262934684753418,
          -0.6972968578338623,
          -1.4630308151245117,
          -1.463027000427246,
          -1.14402437210083,
          -0.9294133186340332,
          -1.4630327224731445,
          -0.6878607273101807,
          -0.10533404350280762,
          -0.661689281463623,
          -0.11552739143371582,
          -0.13159489631652832,
          -0.8759052753448486,
          -0.16657257080078125,
          0.42116332054138184,
          0.3869478702545166,
          0.38782334327697754,
          0.3934662342071533
         ],
         "z": [
          7.322221755981445,
          3.7022809982299805,
          -3.1507797241210938,
          4.770708084106445,
          6.06634521484375,
          7.479061126708984,
          -3.1502552032470703,
          7.526288986206055,
          7.372432708740234,
          -4.201669692993164,
          -4.191755294799805,
          5.064359664916992,
          7.274496078491211,
          -2.9367713928222656,
          6.063165664672852,
          -3.712099075317383,
          -2.535440444946289,
          -2.5349302291870117,
          -4.268980026245117,
          -3.4681921005249023,
          -2.5334043502807617,
          -3.7572383880615234,
          -4.83375358581543,
          -3.750673294067383,
          -4.817991256713867,
          -4.801008224487305,
          -3.85335636138916,
          -4.787126541137695,
          -5.682256698608398,
          -5.670263290405273,
          -5.674249649047852,
          -5.692686080932617
         ],
         "type": "scatter3d"
        }
       ],
       "layout": {
        "template": {
         "data": {
          "barpolar": [
           {
            "marker": {
             "line": {
              "color": "rgb(17,17,17)",
              "width": 0.5
             },
             "pattern": {
              "fillmode": "overlay",
              "size": 10,
              "solidity": 0.2
             }
            },
            "type": "barpolar"
           }
          ],
          "bar": [
           {
            "error_x": {
             "color": "#f2f5fa"
            },
            "error_y": {
             "color": "#f2f5fa"
            },
            "marker": {
             "line": {
              "color": "rgb(17,17,17)",
              "width": 0.5
             },
             "pattern": {
              "fillmode": "overlay",
              "size": 10,
              "solidity": 0.2
             }
            },
            "type": "bar"
           }
          ],
          "carpet": [
           {
            "aaxis": {
             "endlinecolor": "#A2B1C6",
             "gridcolor": "#506784",
             "linecolor": "#506784",
             "minorgridcolor": "#506784",
             "startlinecolor": "#A2B1C6"
            },
            "baxis": {
             "endlinecolor": "#A2B1C6",
             "gridcolor": "#506784",
             "linecolor": "#506784",
             "minorgridcolor": "#506784",
             "startlinecolor": "#A2B1C6"
            },
            "type": "carpet"
           }
          ],
          "choropleth": [
           {
            "colorbar": {
             "outlinewidth": 0,
             "ticks": ""
            },
            "type": "choropleth"
           }
          ],
          "contourcarpet": [
           {
            "colorbar": {
             "outlinewidth": 0,
             "ticks": ""
            },
            "type": "contourcarpet"
           }
          ],
          "contour": [
           {
            "colorbar": {
             "outlinewidth": 0,
             "ticks": ""
            },
            "colorscale": [
             [
              0.0,
              "#0d0887"
             ],
             [
              0.1111111111111111,
              "#46039f"
             ],
             [
              0.2222222222222222,
              "#7201a8"
             ],
             [
              0.3333333333333333,
              "#9c179e"
             ],
             [
              0.4444444444444444,
              "#bd3786"
             ],
             [
              0.5555555555555556,
              "#d8576b"
             ],
             [
              0.6666666666666666,
              "#ed7953"
             ],
             [
              0.7777777777777778,
              "#fb9f3a"
             ],
             [
              0.8888888888888888,
              "#fdca26"
             ],
             [
              1.0,
              "#f0f921"
             ]
            ],
            "type": "contour"
           }
          ],
          "heatmapgl": [
           {
            "colorbar": {
             "outlinewidth": 0,
             "ticks": ""
            },
            "colorscale": [
             [
              0.0,
              "#0d0887"
             ],
             [
              0.1111111111111111,
              "#46039f"
             ],
             [
              0.2222222222222222,
              "#7201a8"
             ],
             [
              0.3333333333333333,
              "#9c179e"
             ],
             [
              0.4444444444444444,
              "#bd3786"
             ],
             [
              0.5555555555555556,
              "#d8576b"
             ],
             [
              0.6666666666666666,
              "#ed7953"
             ],
             [
              0.7777777777777778,
              "#fb9f3a"
             ],
             [
              0.8888888888888888,
              "#fdca26"
             ],
             [
              1.0,
              "#f0f921"
             ]
            ],
            "type": "heatmapgl"
           }
          ],
          "heatmap": [
           {
            "colorbar": {
             "outlinewidth": 0,
             "ticks": ""
            },
            "colorscale": [
             [
              0.0,
              "#0d0887"
             ],
             [
              0.1111111111111111,
              "#46039f"
             ],
             [
              0.2222222222222222,
              "#7201a8"
             ],
             [
              0.3333333333333333,
              "#9c179e"
             ],
             [
              0.4444444444444444,
              "#bd3786"
             ],
             [
              0.5555555555555556,
              "#d8576b"
             ],
             [
              0.6666666666666666,
              "#ed7953"
             ],
             [
              0.7777777777777778,
              "#fb9f3a"
             ],
             [
              0.8888888888888888,
              "#fdca26"
             ],
             [
              1.0,
              "#f0f921"
             ]
            ],
            "type": "heatmap"
           }
          ],
          "histogram2dcontour": [
           {
            "colorbar": {
             "outlinewidth": 0,
             "ticks": ""
            },
            "colorscale": [
             [
              0.0,
              "#0d0887"
             ],
             [
              0.1111111111111111,
              "#46039f"
             ],
             [
              0.2222222222222222,
              "#7201a8"
             ],
             [
              0.3333333333333333,
              "#9c179e"
             ],
             [
              0.4444444444444444,
              "#bd3786"
             ],
             [
              0.5555555555555556,
              "#d8576b"
             ],
             [
              0.6666666666666666,
              "#ed7953"
             ],
             [
              0.7777777777777778,
              "#fb9f3a"
             ],
             [
              0.8888888888888888,
              "#fdca26"
             ],
             [
              1.0,
              "#f0f921"
             ]
            ],
            "type": "histogram2dcontour"
           }
          ],
          "histogram2d": [
           {
            "colorbar": {
             "outlinewidth": 0,
             "ticks": ""
            },
            "colorscale": [
             [
              0.0,
              "#0d0887"
             ],
             [
              0.1111111111111111,
              "#46039f"
             ],
             [
              0.2222222222222222,
              "#7201a8"
             ],
             [
              0.3333333333333333,
              "#9c179e"
             ],
             [
              0.4444444444444444,
              "#bd3786"
             ],
             [
              0.5555555555555556,
              "#d8576b"
             ],
             [
              0.6666666666666666,
              "#ed7953"
             ],
             [
              0.7777777777777778,
              "#fb9f3a"
             ],
             [
              0.8888888888888888,
              "#fdca26"
             ],
             [
              1.0,
              "#f0f921"
             ]
            ],
            "type": "histogram2d"
           }
          ],
          "histogram": [
           {
            "marker": {
             "pattern": {
              "fillmode": "overlay",
              "size": 10,
              "solidity": 0.2
             }
            },
            "type": "histogram"
           }
          ],
          "mesh3d": [
           {
            "colorbar": {
             "outlinewidth": 0,
             "ticks": ""
            },
            "type": "mesh3d"
           }
          ],
          "parcoords": [
           {
            "line": {
             "colorbar": {
              "outlinewidth": 0,
              "ticks": ""
             }
            },
            "type": "parcoords"
           }
          ],
          "pie": [
           {
            "automargin": true,
            "type": "pie"
           }
          ],
          "scatter3d": [
           {
            "line": {
             "colorbar": {
              "outlinewidth": 0,
              "ticks": ""
             }
            },
            "marker": {
             "colorbar": {
              "outlinewidth": 0,
              "ticks": ""
             }
            },
            "type": "scatter3d"
           }
          ],
          "scattercarpet": [
           {
            "marker": {
             "colorbar": {
              "outlinewidth": 0,
              "ticks": ""
             }
            },
            "type": "scattercarpet"
           }
          ],
          "scattergeo": [
           {
            "marker": {
             "colorbar": {
              "outlinewidth": 0,
              "ticks": ""
             }
            },
            "type": "scattergeo"
           }
          ],
          "scattergl": [
           {
            "marker": {
             "line": {
              "color": "#283442"
             }
            },
            "type": "scattergl"
           }
          ],
          "scattermapbox": [
           {
            "marker": {
             "colorbar": {
              "outlinewidth": 0,
              "ticks": ""
             }
            },
            "type": "scattermapbox"
           }
          ],
          "scatterpolargl": [
           {
            "marker": {
             "colorbar": {
              "outlinewidth": 0,
              "ticks": ""
             }
            },
            "type": "scatterpolargl"
           }
          ],
          "scatterpolar": [
           {
            "marker": {
             "colorbar": {
              "outlinewidth": 0,
              "ticks": ""
             }
            },
            "type": "scatterpolar"
           }
          ],
          "scatter": [
           {
            "marker": {
             "line": {
              "color": "#283442"
             }
            },
            "type": "scatter"
           }
          ],
          "scatterternary": [
           {
            "marker": {
             "colorbar": {
              "outlinewidth": 0,
              "ticks": ""
             }
            },
            "type": "scatterternary"
           }
          ],
          "surface": [
           {
            "colorbar": {
             "outlinewidth": 0,
             "ticks": ""
            },
            "colorscale": [
             [
              0.0,
              "#0d0887"
             ],
             [
              0.1111111111111111,
              "#46039f"
             ],
             [
              0.2222222222222222,
              "#7201a8"
             ],
             [
              0.3333333333333333,
              "#9c179e"
             ],
             [
              0.4444444444444444,
              "#bd3786"
             ],
             [
              0.5555555555555556,
              "#d8576b"
             ],
             [
              0.6666666666666666,
              "#ed7953"
             ],
             [
              0.7777777777777778,
              "#fb9f3a"
             ],
             [
              0.8888888888888888,
              "#fdca26"
             ],
             [
              1.0,
              "#f0f921"
             ]
            ],
            "type": "surface"
           }
          ],
          "table": [
           {
            "cells": {
             "fill": {
              "color": "#506784"
             },
             "line": {
              "color": "rgb(17,17,17)"
             }
            },
            "header": {
             "fill": {
              "color": "#2a3f5f"
             },
             "line": {
              "color": "rgb(17,17,17)"
             }
            },
            "type": "table"
           }
          ]
         },
         "layout": {
          "annotationdefaults": {
           "arrowcolor": "#f2f5fa",
           "arrowhead": 0,
           "arrowwidth": 1
          },
          "autotypenumbers": "strict",
          "coloraxis": {
           "colorbar": {
            "outlinewidth": 0,
            "ticks": ""
           }
          },
          "colorscale": {
           "diverging": [
            [
             0,
             "#8e0152"
            ],
            [
             0.1,
             "#c51b7d"
            ],
            [
             0.2,
             "#de77ae"
            ],
            [
             0.3,
             "#f1b6da"
            ],
            [
             0.4,
             "#fde0ef"
            ],
            [
             0.5,
             "#f7f7f7"
            ],
            [
             0.6,
             "#e6f5d0"
            ],
            [
             0.7,
             "#b8e186"
            ],
            [
             0.8,
             "#7fbc41"
            ],
            [
             0.9,
             "#4d9221"
            ],
            [
             1,
             "#276419"
            ]
           ],
           "sequential": [
            [
             0.0,
             "#0d0887"
            ],
            [
             0.1111111111111111,
             "#46039f"
            ],
            [
             0.2222222222222222,
             "#7201a8"
            ],
            [
             0.3333333333333333,
             "#9c179e"
            ],
            [
             0.4444444444444444,
             "#bd3786"
            ],
            [
             0.5555555555555556,
             "#d8576b"
            ],
            [
             0.6666666666666666,
             "#ed7953"
            ],
            [
             0.7777777777777778,
             "#fb9f3a"
            ],
            [
             0.8888888888888888,
             "#fdca26"
            ],
            [
             1.0,
             "#f0f921"
            ]
           ],
           "sequentialminus": [
            [
             0.0,
             "#0d0887"
            ],
            [
             0.1111111111111111,
             "#46039f"
            ],
            [
             0.2222222222222222,
             "#7201a8"
            ],
            [
             0.3333333333333333,
             "#9c179e"
            ],
            [
             0.4444444444444444,
             "#bd3786"
            ],
            [
             0.5555555555555556,
             "#d8576b"
            ],
            [
             0.6666666666666666,
             "#ed7953"
            ],
            [
             0.7777777777777778,
             "#fb9f3a"
            ],
            [
             0.8888888888888888,
             "#fdca26"
            ],
            [
             1.0,
             "#f0f921"
            ]
           ]
          },
          "colorway": [
           "#636efa",
           "#EF553B",
           "#00cc96",
           "#ab63fa",
           "#FFA15A",
           "#19d3f3",
           "#FF6692",
           "#B6E880",
           "#FF97FF",
           "#FECB52"
          ],
          "font": {
           "color": "#f2f5fa"
          },
          "geo": {
           "bgcolor": "rgb(17,17,17)",
           "lakecolor": "rgb(17,17,17)",
           "landcolor": "rgb(17,17,17)",
           "showlakes": true,
           "showland": true,
           "subunitcolor": "#506784"
          },
          "hoverlabel": {
           "align": "left"
          },
          "hovermode": "closest",
          "mapbox": {
           "style": "dark"
          },
          "paper_bgcolor": "rgb(17,17,17)",
          "plot_bgcolor": "rgb(17,17,17)",
          "polar": {
           "angularaxis": {
            "gridcolor": "#506784",
            "linecolor": "#506784",
            "ticks": ""
           },
           "bgcolor": "rgb(17,17,17)",
           "radialaxis": {
            "gridcolor": "#506784",
            "linecolor": "#506784",
            "ticks": ""
           }
          },
          "scene": {
           "xaxis": {
            "backgroundcolor": "rgb(17,17,17)",
            "gridcolor": "#506784",
            "gridwidth": 2,
            "linecolor": "#506784",
            "showbackground": true,
            "ticks": "",
            "zerolinecolor": "#C8D4E3"
           },
           "yaxis": {
            "backgroundcolor": "rgb(17,17,17)",
            "gridcolor": "#506784",
            "gridwidth": 2,
            "linecolor": "#506784",
            "showbackground": true,
            "ticks": "",
            "zerolinecolor": "#C8D4E3"
           },
           "zaxis": {
            "backgroundcolor": "rgb(17,17,17)",
            "gridcolor": "#506784",
            "gridwidth": 2,
            "linecolor": "#506784",
            "showbackground": true,
            "ticks": "",
            "zerolinecolor": "#C8D4E3"
           }
          },
          "shapedefaults": {
           "line": {
            "color": "#f2f5fa"
           }
          },
          "sliderdefaults": {
           "bgcolor": "#C8D4E3",
           "bordercolor": "rgb(17,17,17)",
           "borderwidth": 1,
           "tickwidth": 0
          },
          "ternary": {
           "aaxis": {
            "gridcolor": "#506784",
            "linecolor": "#506784",
            "ticks": ""
           },
           "baxis": {
            "gridcolor": "#506784",
            "linecolor": "#506784",
            "ticks": ""
           },
           "bgcolor": "rgb(17,17,17)",
           "caxis": {
            "gridcolor": "#506784",
            "linecolor": "#506784",
            "ticks": ""
           }
          },
          "title": {
           "x": 0.05
          },
          "updatemenudefaults": {
           "bgcolor": "#506784",
           "borderwidth": 0
          },
          "xaxis": {
           "automargin": true,
           "gridcolor": "#283442",
           "linecolor": "#506784",
           "ticks": "",
           "title": {
            "standoff": 15
           },
           "zerolinecolor": "#283442",
           "zerolinewidth": 2
          },
          "yaxis": {
           "automargin": true,
           "gridcolor": "#283442",
           "linecolor": "#506784",
           "ticks": "",
           "title": {
            "standoff": 15
           },
           "zerolinecolor": "#283442",
           "zerolinewidth": 2
          }
         }
        },
        "scene": {
         "domain": {
          "x": [
           0.0,
           1.0
          ],
          "y": [
           0.0,
           1.0
          ]
         },
         "xaxis": {
          "title": {
           "text": "X"
          }
         },
         "yaxis": {
          "title": {
           "text": "Y"
          }
         },
         "zaxis": {
          "title": {
           "text": "Z"
          }
         }
        },
        "coloraxis": {
         "colorbar": {
          "title": {
           "text": "tIdx"
          }
         },
         "colorscale": [
          [
           0.0,
           "rgb(150,0,90)"
          ],
          [
           0.125,
           "rgb(0,0,200)"
          ],
          [
           0.25,
           "rgb(0,25,255)"
          ],
          [
           0.375,
           "rgb(0,152,255)"
          ],
          [
           0.5,
           "rgb(44,255,150)"
          ],
          [
           0.625,
           "rgb(151,255,0)"
          ],
          [
           0.75,
           "rgb(255,234,0)"
          ],
          [
           0.875,
           "rgb(255,111,0)"
          ],
          [
           1.0,
           "rgb(255,0,0)"
          ]
         ]
        },
        "legend": {
         "tracegroupgap": 0,
         "itemsizing": "constant"
        },
        "margin": {
         "t": 60
        }
       },
       "config": {
        "plotlyServerURL": "https://plot.ly"
       }
      },
      "text/html": [
       "<div>                            <div id=\"d0d9103b-7f8a-42d4-8b3a-18c1c401fe58\" class=\"plotly-graph-div\" style=\"height:525px; width:100%;\"></div>            <script type=\"text/javascript\">                require([\"plotly\"], function(Plotly) {                    window.PLOTLYENV=window.PLOTLYENV || {};                                    if (document.getElementById(\"d0d9103b-7f8a-42d4-8b3a-18c1c401fe58\")) {                    Plotly.newPlot(                        \"d0d9103b-7f8a-42d4-8b3a-18c1c401fe58\",                        [{\"hovertemplate\":\"X=%{x}\\u003cbr\\u003eY=%{y}\\u003cbr\\u003eZ=%{z}\\u003cbr\\u003ept=%{marker.size}\\u003cbr\\u003etIdx=%{marker.color}\\u003cextra\\u003e\\u003c\\u002fextra\\u003e\",\"legendgroup\":\"\",\"marker\":{\"color\":[0.0,0.0,-1.0,0.0,0.0,0.0,-1.0,0.0,0.0,1.0,1.0,0.0,0.0,1.0,0.0,1.0,1.0,1.0,1.0,1.0,1.0,1.0,2.0,1.0,2.0,2.0,1.0,2.0,3.0,3.0,3.0,3.0],\"coloraxis\":\"coloraxis\",\"opacity\":0.5,\"size\":[5.429415225982666,0.6081729531288147,1.9733420610427856,1.3163951635360718,2.733966112136841,0.6446159482002258,1.9690138101577759,0.6289293169975281,0.5108833312988281,1.1707555055618286,1.1588191986083984,1.1909750699996948,2.0548150539398193,1.3339203596115112,2.0361104011535645,43.182132720947266,7.180440425872803,6.838322162628174,0.7990854978561401,6.540283679962158,5.935789585113525,19.336912155151367,6.375602722167969,28.59280776977539,5.872469902038574,5.258073329925537,0.9352484345436096,4.3812971115112305,58.224815368652344,113.52828216552734,108.6135025024414,93.19868469238281],\"sizemode\":\"area\",\"sizeref\":0.2838207054138184,\"symbol\":\"circle\",\"line\":{\"width\":0}},\"mode\":\"markers\",\"name\":\"\",\"scene\":\"scene\",\"showlegend\":false,\"x\":[0.4765247106552124,2.060394287109375,0.796140193939209,0.49241510033607483,1.5043977499008179,0.5099642872810364,0.7963659763336182,0.49603110551834106,0.49603211879730225,-1.1970014572143555,-1.2008448839187622,0.45484983921051025,0.488547146320343,-0.9394121170043945,1.4640408754348755,-1.3883676528930664,-1.7735252380371094,-1.7738075256347656,-1.558084487915039,-1.5148839950561523,-1.7748527526855469,-1.3806838989257812,-0.07535076141357422,-1.4020256996154785,-0.08168691396713257,-0.09156012535095215,-1.5733389854431152,-0.11341261863708496,0.5200929641723633,0.4879298210144043,0.48917853832244873,0.49674737453460693],\"y\":[0.7626745700836182,3.982333183288574,0.9171181917190552,0.6865851283073425,1.3591046333312988,0.8154962062835693,0.9174587726593018,0.7961084246635437,0.7655313611030579,-2.334413528442383,-2.340780735015869,0.6274768114089966,0.74968421459198,-2.924154281616211,1.3262934684753418,-0.6972968578338623,-1.4630308151245117,-1.463027000427246,-1.14402437210083,-0.9294133186340332,-1.4630327224731445,-0.6878607273101807,-0.10533404350280762,-0.661689281463623,-0.11552739143371582,-0.13159489631652832,-0.8759052753448486,-0.16657257080078125,0.42116332054138184,0.3869478702545166,0.38782334327697754,0.3934662342071533],\"z\":[7.322221755981445,3.7022809982299805,-3.1507797241210938,4.770708084106445,6.06634521484375,7.479061126708984,-3.1502552032470703,7.526288986206055,7.372432708740234,-4.201669692993164,-4.191755294799805,5.064359664916992,7.274496078491211,-2.9367713928222656,6.063165664672852,-3.712099075317383,-2.535440444946289,-2.5349302291870117,-4.268980026245117,-3.4681921005249023,-2.5334043502807617,-3.7572383880615234,-4.83375358581543,-3.750673294067383,-4.817991256713867,-4.801008224487305,-3.85335636138916,-4.787126541137695,-5.682256698608398,-5.670263290405273,-5.674249649047852,-5.692686080932617],\"type\":\"scatter3d\"}],                        {\"template\":{\"data\":{\"barpolar\":[{\"marker\":{\"line\":{\"color\":\"rgb(17,17,17)\",\"width\":0.5},\"pattern\":{\"fillmode\":\"overlay\",\"size\":10,\"solidity\":0.2}},\"type\":\"barpolar\"}],\"bar\":[{\"error_x\":{\"color\":\"#f2f5fa\"},\"error_y\":{\"color\":\"#f2f5fa\"},\"marker\":{\"line\":{\"color\":\"rgb(17,17,17)\",\"width\":0.5},\"pattern\":{\"fillmode\":\"overlay\",\"size\":10,\"solidity\":0.2}},\"type\":\"bar\"}],\"carpet\":[{\"aaxis\":{\"endlinecolor\":\"#A2B1C6\",\"gridcolor\":\"#506784\",\"linecolor\":\"#506784\",\"minorgridcolor\":\"#506784\",\"startlinecolor\":\"#A2B1C6\"},\"baxis\":{\"endlinecolor\":\"#A2B1C6\",\"gridcolor\":\"#506784\",\"linecolor\":\"#506784\",\"minorgridcolor\":\"#506784\",\"startlinecolor\":\"#A2B1C6\"},\"type\":\"carpet\"}],\"choropleth\":[{\"colorbar\":{\"outlinewidth\":0,\"ticks\":\"\"},\"type\":\"choropleth\"}],\"contourcarpet\":[{\"colorbar\":{\"outlinewidth\":0,\"ticks\":\"\"},\"type\":\"contourcarpet\"}],\"contour\":[{\"colorbar\":{\"outlinewidth\":0,\"ticks\":\"\"},\"colorscale\":[[0.0,\"#0d0887\"],[0.1111111111111111,\"#46039f\"],[0.2222222222222222,\"#7201a8\"],[0.3333333333333333,\"#9c179e\"],[0.4444444444444444,\"#bd3786\"],[0.5555555555555556,\"#d8576b\"],[0.6666666666666666,\"#ed7953\"],[0.7777777777777778,\"#fb9f3a\"],[0.8888888888888888,\"#fdca26\"],[1.0,\"#f0f921\"]],\"type\":\"contour\"}],\"heatmapgl\":[{\"colorbar\":{\"outlinewidth\":0,\"ticks\":\"\"},\"colorscale\":[[0.0,\"#0d0887\"],[0.1111111111111111,\"#46039f\"],[0.2222222222222222,\"#7201a8\"],[0.3333333333333333,\"#9c179e\"],[0.4444444444444444,\"#bd3786\"],[0.5555555555555556,\"#d8576b\"],[0.6666666666666666,\"#ed7953\"],[0.7777777777777778,\"#fb9f3a\"],[0.8888888888888888,\"#fdca26\"],[1.0,\"#f0f921\"]],\"type\":\"heatmapgl\"}],\"heatmap\":[{\"colorbar\":{\"outlinewidth\":0,\"ticks\":\"\"},\"colorscale\":[[0.0,\"#0d0887\"],[0.1111111111111111,\"#46039f\"],[0.2222222222222222,\"#7201a8\"],[0.3333333333333333,\"#9c179e\"],[0.4444444444444444,\"#bd3786\"],[0.5555555555555556,\"#d8576b\"],[0.6666666666666666,\"#ed7953\"],[0.7777777777777778,\"#fb9f3a\"],[0.8888888888888888,\"#fdca26\"],[1.0,\"#f0f921\"]],\"type\":\"heatmap\"}],\"histogram2dcontour\":[{\"colorbar\":{\"outlinewidth\":0,\"ticks\":\"\"},\"colorscale\":[[0.0,\"#0d0887\"],[0.1111111111111111,\"#46039f\"],[0.2222222222222222,\"#7201a8\"],[0.3333333333333333,\"#9c179e\"],[0.4444444444444444,\"#bd3786\"],[0.5555555555555556,\"#d8576b\"],[0.6666666666666666,\"#ed7953\"],[0.7777777777777778,\"#fb9f3a\"],[0.8888888888888888,\"#fdca26\"],[1.0,\"#f0f921\"]],\"type\":\"histogram2dcontour\"}],\"histogram2d\":[{\"colorbar\":{\"outlinewidth\":0,\"ticks\":\"\"},\"colorscale\":[[0.0,\"#0d0887\"],[0.1111111111111111,\"#46039f\"],[0.2222222222222222,\"#7201a8\"],[0.3333333333333333,\"#9c179e\"],[0.4444444444444444,\"#bd3786\"],[0.5555555555555556,\"#d8576b\"],[0.6666666666666666,\"#ed7953\"],[0.7777777777777778,\"#fb9f3a\"],[0.8888888888888888,\"#fdca26\"],[1.0,\"#f0f921\"]],\"type\":\"histogram2d\"}],\"histogram\":[{\"marker\":{\"pattern\":{\"fillmode\":\"overlay\",\"size\":10,\"solidity\":0.2}},\"type\":\"histogram\"}],\"mesh3d\":[{\"colorbar\":{\"outlinewidth\":0,\"ticks\":\"\"},\"type\":\"mesh3d\"}],\"parcoords\":[{\"line\":{\"colorbar\":{\"outlinewidth\":0,\"ticks\":\"\"}},\"type\":\"parcoords\"}],\"pie\":[{\"automargin\":true,\"type\":\"pie\"}],\"scatter3d\":[{\"line\":{\"colorbar\":{\"outlinewidth\":0,\"ticks\":\"\"}},\"marker\":{\"colorbar\":{\"outlinewidth\":0,\"ticks\":\"\"}},\"type\":\"scatter3d\"}],\"scattercarpet\":[{\"marker\":{\"colorbar\":{\"outlinewidth\":0,\"ticks\":\"\"}},\"type\":\"scattercarpet\"}],\"scattergeo\":[{\"marker\":{\"colorbar\":{\"outlinewidth\":0,\"ticks\":\"\"}},\"type\":\"scattergeo\"}],\"scattergl\":[{\"marker\":{\"line\":{\"color\":\"#283442\"}},\"type\":\"scattergl\"}],\"scattermapbox\":[{\"marker\":{\"colorbar\":{\"outlinewidth\":0,\"ticks\":\"\"}},\"type\":\"scattermapbox\"}],\"scatterpolargl\":[{\"marker\":{\"colorbar\":{\"outlinewidth\":0,\"ticks\":\"\"}},\"type\":\"scatterpolargl\"}],\"scatterpolar\":[{\"marker\":{\"colorbar\":{\"outlinewidth\":0,\"ticks\":\"\"}},\"type\":\"scatterpolar\"}],\"scatter\":[{\"marker\":{\"line\":{\"color\":\"#283442\"}},\"type\":\"scatter\"}],\"scatterternary\":[{\"marker\":{\"colorbar\":{\"outlinewidth\":0,\"ticks\":\"\"}},\"type\":\"scatterternary\"}],\"surface\":[{\"colorbar\":{\"outlinewidth\":0,\"ticks\":\"\"},\"colorscale\":[[0.0,\"#0d0887\"],[0.1111111111111111,\"#46039f\"],[0.2222222222222222,\"#7201a8\"],[0.3333333333333333,\"#9c179e\"],[0.4444444444444444,\"#bd3786\"],[0.5555555555555556,\"#d8576b\"],[0.6666666666666666,\"#ed7953\"],[0.7777777777777778,\"#fb9f3a\"],[0.8888888888888888,\"#fdca26\"],[1.0,\"#f0f921\"]],\"type\":\"surface\"}],\"table\":[{\"cells\":{\"fill\":{\"color\":\"#506784\"},\"line\":{\"color\":\"rgb(17,17,17)\"}},\"header\":{\"fill\":{\"color\":\"#2a3f5f\"},\"line\":{\"color\":\"rgb(17,17,17)\"}},\"type\":\"table\"}]},\"layout\":{\"annotationdefaults\":{\"arrowcolor\":\"#f2f5fa\",\"arrowhead\":0,\"arrowwidth\":1},\"autotypenumbers\":\"strict\",\"coloraxis\":{\"colorbar\":{\"outlinewidth\":0,\"ticks\":\"\"}},\"colorscale\":{\"diverging\":[[0,\"#8e0152\"],[0.1,\"#c51b7d\"],[0.2,\"#de77ae\"],[0.3,\"#f1b6da\"],[0.4,\"#fde0ef\"],[0.5,\"#f7f7f7\"],[0.6,\"#e6f5d0\"],[0.7,\"#b8e186\"],[0.8,\"#7fbc41\"],[0.9,\"#4d9221\"],[1,\"#276419\"]],\"sequential\":[[0.0,\"#0d0887\"],[0.1111111111111111,\"#46039f\"],[0.2222222222222222,\"#7201a8\"],[0.3333333333333333,\"#9c179e\"],[0.4444444444444444,\"#bd3786\"],[0.5555555555555556,\"#d8576b\"],[0.6666666666666666,\"#ed7953\"],[0.7777777777777778,\"#fb9f3a\"],[0.8888888888888888,\"#fdca26\"],[1.0,\"#f0f921\"]],\"sequentialminus\":[[0.0,\"#0d0887\"],[0.1111111111111111,\"#46039f\"],[0.2222222222222222,\"#7201a8\"],[0.3333333333333333,\"#9c179e\"],[0.4444444444444444,\"#bd3786\"],[0.5555555555555556,\"#d8576b\"],[0.6666666666666666,\"#ed7953\"],[0.7777777777777778,\"#fb9f3a\"],[0.8888888888888888,\"#fdca26\"],[1.0,\"#f0f921\"]]},\"colorway\":[\"#636efa\",\"#EF553B\",\"#00cc96\",\"#ab63fa\",\"#FFA15A\",\"#19d3f3\",\"#FF6692\",\"#B6E880\",\"#FF97FF\",\"#FECB52\"],\"font\":{\"color\":\"#f2f5fa\"},\"geo\":{\"bgcolor\":\"rgb(17,17,17)\",\"lakecolor\":\"rgb(17,17,17)\",\"landcolor\":\"rgb(17,17,17)\",\"showlakes\":true,\"showland\":true,\"subunitcolor\":\"#506784\"},\"hoverlabel\":{\"align\":\"left\"},\"hovermode\":\"closest\",\"mapbox\":{\"style\":\"dark\"},\"paper_bgcolor\":\"rgb(17,17,17)\",\"plot_bgcolor\":\"rgb(17,17,17)\",\"polar\":{\"angularaxis\":{\"gridcolor\":\"#506784\",\"linecolor\":\"#506784\",\"ticks\":\"\"},\"bgcolor\":\"rgb(17,17,17)\",\"radialaxis\":{\"gridcolor\":\"#506784\",\"linecolor\":\"#506784\",\"ticks\":\"\"}},\"scene\":{\"xaxis\":{\"backgroundcolor\":\"rgb(17,17,17)\",\"gridcolor\":\"#506784\",\"gridwidth\":2,\"linecolor\":\"#506784\",\"showbackground\":true,\"ticks\":\"\",\"zerolinecolor\":\"#C8D4E3\"},\"yaxis\":{\"backgroundcolor\":\"rgb(17,17,17)\",\"gridcolor\":\"#506784\",\"gridwidth\":2,\"linecolor\":\"#506784\",\"showbackground\":true,\"ticks\":\"\",\"zerolinecolor\":\"#C8D4E3\"},\"zaxis\":{\"backgroundcolor\":\"rgb(17,17,17)\",\"gridcolor\":\"#506784\",\"gridwidth\":2,\"linecolor\":\"#506784\",\"showbackground\":true,\"ticks\":\"\",\"zerolinecolor\":\"#C8D4E3\"}},\"shapedefaults\":{\"line\":{\"color\":\"#f2f5fa\"}},\"sliderdefaults\":{\"bgcolor\":\"#C8D4E3\",\"bordercolor\":\"rgb(17,17,17)\",\"borderwidth\":1,\"tickwidth\":0},\"ternary\":{\"aaxis\":{\"gridcolor\":\"#506784\",\"linecolor\":\"#506784\",\"ticks\":\"\"},\"baxis\":{\"gridcolor\":\"#506784\",\"linecolor\":\"#506784\",\"ticks\":\"\"},\"bgcolor\":\"rgb(17,17,17)\",\"caxis\":{\"gridcolor\":\"#506784\",\"linecolor\":\"#506784\",\"ticks\":\"\"}},\"title\":{\"x\":0.05},\"updatemenudefaults\":{\"bgcolor\":\"#506784\",\"borderwidth\":0},\"xaxis\":{\"automargin\":true,\"gridcolor\":\"#283442\",\"linecolor\":\"#506784\",\"ticks\":\"\",\"title\":{\"standoff\":15},\"zerolinecolor\":\"#283442\",\"zerolinewidth\":2},\"yaxis\":{\"automargin\":true,\"gridcolor\":\"#283442\",\"linecolor\":\"#506784\",\"ticks\":\"\",\"title\":{\"standoff\":15},\"zerolinecolor\":\"#283442\",\"zerolinewidth\":2}}},\"scene\":{\"domain\":{\"x\":[0.0,1.0],\"y\":[0.0,1.0]},\"xaxis\":{\"title\":{\"text\":\"X\"}},\"yaxis\":{\"title\":{\"text\":\"Y\"}},\"zaxis\":{\"title\":{\"text\":\"Z\"}}},\"coloraxis\":{\"colorbar\":{\"title\":{\"text\":\"tIdx\"}},\"colorscale\":[[0.0,\"rgb(150,0,90)\"],[0.125,\"rgb(0,0,200)\"],[0.25,\"rgb(0,25,255)\"],[0.375,\"rgb(0,152,255)\"],[0.5,\"rgb(44,255,150)\"],[0.625,\"rgb(151,255,0)\"],[0.75,\"rgb(255,234,0)\"],[0.875,\"rgb(255,111,0)\"],[1.0,\"rgb(255,0,0)\"]]},\"legend\":{\"tracegroupgap\":0,\"itemsizing\":\"constant\"},\"margin\":{\"t\":60}},                        {\"responsive\": true}                    ).then(function(){\n",
       "                            \n",
       "var gd = document.getElementById('d0d9103b-7f8a-42d4-8b3a-18c1c401fe58');\n",
       "var x = new MutationObserver(function (mutations, observer) {{\n",
       "        var display = window.getComputedStyle(gd).display;\n",
       "        if (!display || display === 'none') {{\n",
       "            console.log([gd, 'removed!']);\n",
       "            Plotly.purge(gd);\n",
       "            observer.disconnect();\n",
       "        }}\n",
       "}});\n",
       "\n",
       "// Listen for the removal of the full notebook cells\n",
       "var notebookContainer = gd.closest('#notebook-container');\n",
       "if (notebookContainer) {{\n",
       "    x.observe(notebookContainer, {childList: true});\n",
       "}}\n",
       "\n",
       "// Listen for the clearing of the current output cell\n",
       "var outputEl = gd.closest('.output');\n",
       "if (outputEl) {{\n",
       "    x.observe(outputEl, {childList: true});\n",
       "}}\n",
       "\n",
       "                        })                };                });            </script>        </div>"
      ]
     },
     "metadata": {},
     "output_type": "display_data"
    }
   ],
   "execution_count": 26
  },
  {
   "metadata": {
    "ExecuteTime": {
     "end_time": "2025-03-05T09:21:31.421479Z",
     "start_time": "2025-03-05T09:21:31.222552Z"
    }
   },
   "cell_type": "code",
   "source": [
    "from sklearn.cluster import DBSCAN\n",
    "\n",
    "#clusterer = hdbscan.HDBSCAN(metric='precomputed', min_cluster_size=4, min_samples=2, cluster_selection_epsilon=0.05)\n",
    "clusterer = DBSCAN(eps=1.0, min_samples=4)\n",
    "\n",
    "t0 = time()\n",
    "cluster_labels = clusterer.fit_predict(norm_coords, sample_weight=pt)\n",
    "t1 = time()\n",
    "print(t1 - t0)\n",
    "plot_coordinates(result[\"pred\"][filt, 1:4], result[\"pt\"][filt], torch.tensor(cluster_labels)).show()\n"
   ],
   "id": "de29678634e96a7b",
   "outputs": [
    {
     "name": "stdout",
     "output_type": "stream",
     "text": [
      "0.005666017532348633\n",
      "[('X', (47, 1)), ('Y', (47, 1)), ('Z', (47, 1)), ('tIdx', (47, 1)), ('pt', (47, 1))]\n"
     ]
    },
    {
     "data": {
      "application/vnd.plotly.v1+json": {
       "data": [
        {
         "hovertemplate": "X=%{x}<br>Y=%{y}<br>Z=%{z}<br>pt=%{marker.size}<br>tIdx=%{marker.color}<extra></extra>",
         "legendgroup": "",
         "marker": {
          "color": [
           0.0,
           0.0,
           1.0,
           0.0,
           -1.0,
           -1.0,
           2.0,
           -1.0,
           -1.0,
           1.0,
           0.0,
           1.0,
           1.0,
           -1.0,
           -1.0,
           3.0,
           4.0,
           5.0,
           6.0,
           7.0,
           5.0,
           3.0,
           8.0,
           6.0,
           5.0,
           5.0,
           5.0,
           5.0,
           5.0,
           5.0,
           7.0,
           5.0,
           7.0,
           2.0,
           9.0,
           2.0,
           7.0,
           9.0,
           10.0,
           7.0,
           3.0,
           11.0,
           11.0,
           12.0,
           3.0,
           12.0,
           12.0
          ],
          "coloraxis": "coloraxis",
          "opacity": 0.5,
          "size": [
           5.216217041015625,
           2.8779313564300537,
           4.781583786010742,
           5.201897621154785,
           1.1283886432647705,
           1.4790658950805664,
           1.0375325679779053,
           1.2261675596237183,
           3.0635132789611816,
           1.2777342796325684,
           4.959547519683838,
           4.508871555328369,
           4.270727634429932,
           0.5232042074203491,
           0.7054126262664795,
           136.40850830078125,
           47.96998596191406,
           184.125244140625,
           15.4256591796875,
           42.840152740478516,
           161.47142028808594,
           136.87876892089844,
           8.651361465454102,
           7.852224349975586,
           18.58675193786621,
           54.31939697265625,
           49.082584381103516,
           16.83722496032715,
           36.65693283081055,
           20.384780883789062,
           11.087272644042969,
           22.26816749572754,
           10.073822021484375,
           7.5476975440979,
           8.027702331542969,
           3.5462992191314697,
           3.954371213912964,
           7.9175567626953125,
           9.64089584350586,
           2.297090768814087,
           7.037780284881592,
           4.7475409507751465,
           4.648265361785889,
           8.497712135314941,
           12.30878734588623,
           6.461857318878174,
           5.19363260269165
          ],
          "sizemode": "area",
          "sizeref": 0.4603131103515625,
          "symbol": "circle",
          "line": {
           "width": 0
          }
         },
         "mode": "markers",
         "name": "",
         "scene": "scene",
         "showlegend": false,
         "x": [
          -0.48713767528533936,
          0.15796494483947754,
          -0.09517890214920044,
          -0.48724937438964844,
          -0.06181001663208008,
          -3.315865993499756,
          -3.597691535949707,
          0.027304768562316895,
          -0.7527557611465454,
          -0.13356000185012817,
          -0.4624054431915283,
          -0.09437686204910278,
          -0.0911986231803894,
          1.3551769256591797,
          -2.8669729232788086,
          2.5328493118286133,
          -0.30333924293518066,
          -2.429722309112549,
          0.03933250904083252,
          -1.671905517578125,
          -2.4296603202819824,
          2.546412467956543,
          2.116917610168457,
          0.1098930835723877,
          -2.407378673553467,
          -2.4353318214416504,
          -2.434706687927246,
          -2.4075403213500977,
          -2.4220566749572754,
          -2.4201765060424805,
          -1.511425495147705,
          -2.3703484535217285,
          -1.4938483238220215,
          -3.2450337409973145,
          0.25489258766174316,
          -3.1988143920898438,
          -2.1918206214904785,
          0.2463827133178711,
          -0.30340588092803955,
          -1.5440425872802734,
          2.593926429748535,
          -0.19776344299316406,
          -0.19835591316223145,
          1.1595702171325684,
          2.597095489501953,
          1.1534624099731445,
          0.9966316223144531
         ],
         "y": [
          2.189202308654785,
          1.6480464935302734,
          -0.18081820011138916,
          2.1893444061279297,
          0.6486057043075562,
          -0.0319826602935791,
          1.5806584358215332,
          2.562300682067871,
          -3.798463821411133,
          -0.2046339511871338,
          2.161046028137207,
          -0.18367618322372437,
          -0.18338829278945923,
          1.864171028137207,
          2.605013847351074,
          0.39429616928100586,
          2.054427146911621,
          -1.1288607120513916,
          0.3108537197113037,
          1.844365119934082,
          -1.1298604011535645,
          0.38235270977020264,
          -1.4690423011779785,
          0.36299049854278564,
          -1.1367583274841309,
          -1.1378235816955566,
          -1.1382675170898438,
          -1.136991262435913,
          -1.1380908489227295,
          -1.1397721767425537,
          1.7434139251708984,
          -1.0436148643493652,
          1.749852180480957,
          1.4017181396484375,
          -3.1543502807617188,
          1.437540054321289,
          1.779109001159668,
          -3.189316749572754,
          -3.296733856201172,
          1.723245620727539,
          0.3660883903503418,
          2.054553985595703,
          2.0535202026367188,
          1.4805793762207031,
          0.37113797664642334,
          1.4822907447814941,
          1.5494251251220703
         ],
         "z": [
          -4.489553451538086,
          -4.854707717895508,
          9.540733337402344,
          -4.490108489990234,
          -7.933082580566406,
          4.214221000671387,
          1.1107072830200195,
          5.373956680297852,
          3.091557502746582,
          10.010051727294922,
          -4.590703964233398,
          9.611438751220703,
          9.661678314208984,
          4.606515884399414,
          1.5523481369018555,
          2.941220283508301,
          4.197595596313477,
          -2.9692792892456055,
          7.600072860717773,
          -1.0645098686218262,
          -2.97042179107666,
          2.9721670150756836,
          -1.8046841621398926,
          8.058698654174805,
          -2.9659910202026367,
          -2.9767818450927734,
          -2.9772157669067383,
          -2.9660444259643555,
          -2.973971366882324,
          -2.9733047485351562,
          -1.4824934005737305,
          -2.5327463150024414,
          -1.5378875732421875,
          0.8453917503356934,
          1.1869838237762451,
          0.7501213550567627,
          -0.5688894987106323,
          1.1888632774353027,
          4.1339006423950195,
          -1.3828821182250977,
          3.1117477416992188,
          0.47097063064575195,
          0.46922731399536133,
          1.108544945716858,
          3.0523834228515625,
          1.107752799987793,
          1.0099059343338013
         ],
         "type": "scatter3d"
        }
       ],
       "layout": {
        "template": {
         "data": {
          "barpolar": [
           {
            "marker": {
             "line": {
              "color": "rgb(17,17,17)",
              "width": 0.5
             },
             "pattern": {
              "fillmode": "overlay",
              "size": 10,
              "solidity": 0.2
             }
            },
            "type": "barpolar"
           }
          ],
          "bar": [
           {
            "error_x": {
             "color": "#f2f5fa"
            },
            "error_y": {
             "color": "#f2f5fa"
            },
            "marker": {
             "line": {
              "color": "rgb(17,17,17)",
              "width": 0.5
             },
             "pattern": {
              "fillmode": "overlay",
              "size": 10,
              "solidity": 0.2
             }
            },
            "type": "bar"
           }
          ],
          "carpet": [
           {
            "aaxis": {
             "endlinecolor": "#A2B1C6",
             "gridcolor": "#506784",
             "linecolor": "#506784",
             "minorgridcolor": "#506784",
             "startlinecolor": "#A2B1C6"
            },
            "baxis": {
             "endlinecolor": "#A2B1C6",
             "gridcolor": "#506784",
             "linecolor": "#506784",
             "minorgridcolor": "#506784",
             "startlinecolor": "#A2B1C6"
            },
            "type": "carpet"
           }
          ],
          "choropleth": [
           {
            "colorbar": {
             "outlinewidth": 0,
             "ticks": ""
            },
            "type": "choropleth"
           }
          ],
          "contourcarpet": [
           {
            "colorbar": {
             "outlinewidth": 0,
             "ticks": ""
            },
            "type": "contourcarpet"
           }
          ],
          "contour": [
           {
            "colorbar": {
             "outlinewidth": 0,
             "ticks": ""
            },
            "colorscale": [
             [
              0.0,
              "#0d0887"
             ],
             [
              0.1111111111111111,
              "#46039f"
             ],
             [
              0.2222222222222222,
              "#7201a8"
             ],
             [
              0.3333333333333333,
              "#9c179e"
             ],
             [
              0.4444444444444444,
              "#bd3786"
             ],
             [
              0.5555555555555556,
              "#d8576b"
             ],
             [
              0.6666666666666666,
              "#ed7953"
             ],
             [
              0.7777777777777778,
              "#fb9f3a"
             ],
             [
              0.8888888888888888,
              "#fdca26"
             ],
             [
              1.0,
              "#f0f921"
             ]
            ],
            "type": "contour"
           }
          ],
          "heatmapgl": [
           {
            "colorbar": {
             "outlinewidth": 0,
             "ticks": ""
            },
            "colorscale": [
             [
              0.0,
              "#0d0887"
             ],
             [
              0.1111111111111111,
              "#46039f"
             ],
             [
              0.2222222222222222,
              "#7201a8"
             ],
             [
              0.3333333333333333,
              "#9c179e"
             ],
             [
              0.4444444444444444,
              "#bd3786"
             ],
             [
              0.5555555555555556,
              "#d8576b"
             ],
             [
              0.6666666666666666,
              "#ed7953"
             ],
             [
              0.7777777777777778,
              "#fb9f3a"
             ],
             [
              0.8888888888888888,
              "#fdca26"
             ],
             [
              1.0,
              "#f0f921"
             ]
            ],
            "type": "heatmapgl"
           }
          ],
          "heatmap": [
           {
            "colorbar": {
             "outlinewidth": 0,
             "ticks": ""
            },
            "colorscale": [
             [
              0.0,
              "#0d0887"
             ],
             [
              0.1111111111111111,
              "#46039f"
             ],
             [
              0.2222222222222222,
              "#7201a8"
             ],
             [
              0.3333333333333333,
              "#9c179e"
             ],
             [
              0.4444444444444444,
              "#bd3786"
             ],
             [
              0.5555555555555556,
              "#d8576b"
             ],
             [
              0.6666666666666666,
              "#ed7953"
             ],
             [
              0.7777777777777778,
              "#fb9f3a"
             ],
             [
              0.8888888888888888,
              "#fdca26"
             ],
             [
              1.0,
              "#f0f921"
             ]
            ],
            "type": "heatmap"
           }
          ],
          "histogram2dcontour": [
           {
            "colorbar": {
             "outlinewidth": 0,
             "ticks": ""
            },
            "colorscale": [
             [
              0.0,
              "#0d0887"
             ],
             [
              0.1111111111111111,
              "#46039f"
             ],
             [
              0.2222222222222222,
              "#7201a8"
             ],
             [
              0.3333333333333333,
              "#9c179e"
             ],
             [
              0.4444444444444444,
              "#bd3786"
             ],
             [
              0.5555555555555556,
              "#d8576b"
             ],
             [
              0.6666666666666666,
              "#ed7953"
             ],
             [
              0.7777777777777778,
              "#fb9f3a"
             ],
             [
              0.8888888888888888,
              "#fdca26"
             ],
             [
              1.0,
              "#f0f921"
             ]
            ],
            "type": "histogram2dcontour"
           }
          ],
          "histogram2d": [
           {
            "colorbar": {
             "outlinewidth": 0,
             "ticks": ""
            },
            "colorscale": [
             [
              0.0,
              "#0d0887"
             ],
             [
              0.1111111111111111,
              "#46039f"
             ],
             [
              0.2222222222222222,
              "#7201a8"
             ],
             [
              0.3333333333333333,
              "#9c179e"
             ],
             [
              0.4444444444444444,
              "#bd3786"
             ],
             [
              0.5555555555555556,
              "#d8576b"
             ],
             [
              0.6666666666666666,
              "#ed7953"
             ],
             [
              0.7777777777777778,
              "#fb9f3a"
             ],
             [
              0.8888888888888888,
              "#fdca26"
             ],
             [
              1.0,
              "#f0f921"
             ]
            ],
            "type": "histogram2d"
           }
          ],
          "histogram": [
           {
            "marker": {
             "pattern": {
              "fillmode": "overlay",
              "size": 10,
              "solidity": 0.2
             }
            },
            "type": "histogram"
           }
          ],
          "mesh3d": [
           {
            "colorbar": {
             "outlinewidth": 0,
             "ticks": ""
            },
            "type": "mesh3d"
           }
          ],
          "parcoords": [
           {
            "line": {
             "colorbar": {
              "outlinewidth": 0,
              "ticks": ""
             }
            },
            "type": "parcoords"
           }
          ],
          "pie": [
           {
            "automargin": true,
            "type": "pie"
           }
          ],
          "scatter3d": [
           {
            "line": {
             "colorbar": {
              "outlinewidth": 0,
              "ticks": ""
             }
            },
            "marker": {
             "colorbar": {
              "outlinewidth": 0,
              "ticks": ""
             }
            },
            "type": "scatter3d"
           }
          ],
          "scattercarpet": [
           {
            "marker": {
             "colorbar": {
              "outlinewidth": 0,
              "ticks": ""
             }
            },
            "type": "scattercarpet"
           }
          ],
          "scattergeo": [
           {
            "marker": {
             "colorbar": {
              "outlinewidth": 0,
              "ticks": ""
             }
            },
            "type": "scattergeo"
           }
          ],
          "scattergl": [
           {
            "marker": {
             "line": {
              "color": "#283442"
             }
            },
            "type": "scattergl"
           }
          ],
          "scattermapbox": [
           {
            "marker": {
             "colorbar": {
              "outlinewidth": 0,
              "ticks": ""
             }
            },
            "type": "scattermapbox"
           }
          ],
          "scatterpolargl": [
           {
            "marker": {
             "colorbar": {
              "outlinewidth": 0,
              "ticks": ""
             }
            },
            "type": "scatterpolargl"
           }
          ],
          "scatterpolar": [
           {
            "marker": {
             "colorbar": {
              "outlinewidth": 0,
              "ticks": ""
             }
            },
            "type": "scatterpolar"
           }
          ],
          "scatter": [
           {
            "marker": {
             "line": {
              "color": "#283442"
             }
            },
            "type": "scatter"
           }
          ],
          "scatterternary": [
           {
            "marker": {
             "colorbar": {
              "outlinewidth": 0,
              "ticks": ""
             }
            },
            "type": "scatterternary"
           }
          ],
          "surface": [
           {
            "colorbar": {
             "outlinewidth": 0,
             "ticks": ""
            },
            "colorscale": [
             [
              0.0,
              "#0d0887"
             ],
             [
              0.1111111111111111,
              "#46039f"
             ],
             [
              0.2222222222222222,
              "#7201a8"
             ],
             [
              0.3333333333333333,
              "#9c179e"
             ],
             [
              0.4444444444444444,
              "#bd3786"
             ],
             [
              0.5555555555555556,
              "#d8576b"
             ],
             [
              0.6666666666666666,
              "#ed7953"
             ],
             [
              0.7777777777777778,
              "#fb9f3a"
             ],
             [
              0.8888888888888888,
              "#fdca26"
             ],
             [
              1.0,
              "#f0f921"
             ]
            ],
            "type": "surface"
           }
          ],
          "table": [
           {
            "cells": {
             "fill": {
              "color": "#506784"
             },
             "line": {
              "color": "rgb(17,17,17)"
             }
            },
            "header": {
             "fill": {
              "color": "#2a3f5f"
             },
             "line": {
              "color": "rgb(17,17,17)"
             }
            },
            "type": "table"
           }
          ]
         },
         "layout": {
          "annotationdefaults": {
           "arrowcolor": "#f2f5fa",
           "arrowhead": 0,
           "arrowwidth": 1
          },
          "autotypenumbers": "strict",
          "coloraxis": {
           "colorbar": {
            "outlinewidth": 0,
            "ticks": ""
           }
          },
          "colorscale": {
           "diverging": [
            [
             0,
             "#8e0152"
            ],
            [
             0.1,
             "#c51b7d"
            ],
            [
             0.2,
             "#de77ae"
            ],
            [
             0.3,
             "#f1b6da"
            ],
            [
             0.4,
             "#fde0ef"
            ],
            [
             0.5,
             "#f7f7f7"
            ],
            [
             0.6,
             "#e6f5d0"
            ],
            [
             0.7,
             "#b8e186"
            ],
            [
             0.8,
             "#7fbc41"
            ],
            [
             0.9,
             "#4d9221"
            ],
            [
             1,
             "#276419"
            ]
           ],
           "sequential": [
            [
             0.0,
             "#0d0887"
            ],
            [
             0.1111111111111111,
             "#46039f"
            ],
            [
             0.2222222222222222,
             "#7201a8"
            ],
            [
             0.3333333333333333,
             "#9c179e"
            ],
            [
             0.4444444444444444,
             "#bd3786"
            ],
            [
             0.5555555555555556,
             "#d8576b"
            ],
            [
             0.6666666666666666,
             "#ed7953"
            ],
            [
             0.7777777777777778,
             "#fb9f3a"
            ],
            [
             0.8888888888888888,
             "#fdca26"
            ],
            [
             1.0,
             "#f0f921"
            ]
           ],
           "sequentialminus": [
            [
             0.0,
             "#0d0887"
            ],
            [
             0.1111111111111111,
             "#46039f"
            ],
            [
             0.2222222222222222,
             "#7201a8"
            ],
            [
             0.3333333333333333,
             "#9c179e"
            ],
            [
             0.4444444444444444,
             "#bd3786"
            ],
            [
             0.5555555555555556,
             "#d8576b"
            ],
            [
             0.6666666666666666,
             "#ed7953"
            ],
            [
             0.7777777777777778,
             "#fb9f3a"
            ],
            [
             0.8888888888888888,
             "#fdca26"
            ],
            [
             1.0,
             "#f0f921"
            ]
           ]
          },
          "colorway": [
           "#636efa",
           "#EF553B",
           "#00cc96",
           "#ab63fa",
           "#FFA15A",
           "#19d3f3",
           "#FF6692",
           "#B6E880",
           "#FF97FF",
           "#FECB52"
          ],
          "font": {
           "color": "#f2f5fa"
          },
          "geo": {
           "bgcolor": "rgb(17,17,17)",
           "lakecolor": "rgb(17,17,17)",
           "landcolor": "rgb(17,17,17)",
           "showlakes": true,
           "showland": true,
           "subunitcolor": "#506784"
          },
          "hoverlabel": {
           "align": "left"
          },
          "hovermode": "closest",
          "mapbox": {
           "style": "dark"
          },
          "paper_bgcolor": "rgb(17,17,17)",
          "plot_bgcolor": "rgb(17,17,17)",
          "polar": {
           "angularaxis": {
            "gridcolor": "#506784",
            "linecolor": "#506784",
            "ticks": ""
           },
           "bgcolor": "rgb(17,17,17)",
           "radialaxis": {
            "gridcolor": "#506784",
            "linecolor": "#506784",
            "ticks": ""
           }
          },
          "scene": {
           "xaxis": {
            "backgroundcolor": "rgb(17,17,17)",
            "gridcolor": "#506784",
            "gridwidth": 2,
            "linecolor": "#506784",
            "showbackground": true,
            "ticks": "",
            "zerolinecolor": "#C8D4E3"
           },
           "yaxis": {
            "backgroundcolor": "rgb(17,17,17)",
            "gridcolor": "#506784",
            "gridwidth": 2,
            "linecolor": "#506784",
            "showbackground": true,
            "ticks": "",
            "zerolinecolor": "#C8D4E3"
           },
           "zaxis": {
            "backgroundcolor": "rgb(17,17,17)",
            "gridcolor": "#506784",
            "gridwidth": 2,
            "linecolor": "#506784",
            "showbackground": true,
            "ticks": "",
            "zerolinecolor": "#C8D4E3"
           }
          },
          "shapedefaults": {
           "line": {
            "color": "#f2f5fa"
           }
          },
          "sliderdefaults": {
           "bgcolor": "#C8D4E3",
           "bordercolor": "rgb(17,17,17)",
           "borderwidth": 1,
           "tickwidth": 0
          },
          "ternary": {
           "aaxis": {
            "gridcolor": "#506784",
            "linecolor": "#506784",
            "ticks": ""
           },
           "baxis": {
            "gridcolor": "#506784",
            "linecolor": "#506784",
            "ticks": ""
           },
           "bgcolor": "rgb(17,17,17)",
           "caxis": {
            "gridcolor": "#506784",
            "linecolor": "#506784",
            "ticks": ""
           }
          },
          "title": {
           "x": 0.05
          },
          "updatemenudefaults": {
           "bgcolor": "#506784",
           "borderwidth": 0
          },
          "xaxis": {
           "automargin": true,
           "gridcolor": "#283442",
           "linecolor": "#506784",
           "ticks": "",
           "title": {
            "standoff": 15
           },
           "zerolinecolor": "#283442",
           "zerolinewidth": 2
          },
          "yaxis": {
           "automargin": true,
           "gridcolor": "#283442",
           "linecolor": "#506784",
           "ticks": "",
           "title": {
            "standoff": 15
           },
           "zerolinecolor": "#283442",
           "zerolinewidth": 2
          }
         }
        },
        "scene": {
         "domain": {
          "x": [
           0.0,
           1.0
          ],
          "y": [
           0.0,
           1.0
          ]
         },
         "xaxis": {
          "title": {
           "text": "X"
          }
         },
         "yaxis": {
          "title": {
           "text": "Y"
          }
         },
         "zaxis": {
          "title": {
           "text": "Z"
          }
         }
        },
        "coloraxis": {
         "colorbar": {
          "title": {
           "text": "tIdx"
          }
         },
         "colorscale": [
          [
           0.0,
           "rgb(150,0,90)"
          ],
          [
           0.125,
           "rgb(0,0,200)"
          ],
          [
           0.25,
           "rgb(0,25,255)"
          ],
          [
           0.375,
           "rgb(0,152,255)"
          ],
          [
           0.5,
           "rgb(44,255,150)"
          ],
          [
           0.625,
           "rgb(151,255,0)"
          ],
          [
           0.75,
           "rgb(255,234,0)"
          ],
          [
           0.875,
           "rgb(255,111,0)"
          ],
          [
           1.0,
           "rgb(255,0,0)"
          ]
         ]
        },
        "legend": {
         "tracegroupgap": 0,
         "itemsizing": "constant"
        },
        "margin": {
         "t": 60
        }
       },
       "config": {
        "plotlyServerURL": "https://plot.ly"
       }
      },
      "text/html": [
       "<div>                            <div id=\"eef7c19e-0363-42b5-b21d-c7f729648b74\" class=\"plotly-graph-div\" style=\"height:525px; width:100%;\"></div>            <script type=\"text/javascript\">                require([\"plotly\"], function(Plotly) {                    window.PLOTLYENV=window.PLOTLYENV || {};                                    if (document.getElementById(\"eef7c19e-0363-42b5-b21d-c7f729648b74\")) {                    Plotly.newPlot(                        \"eef7c19e-0363-42b5-b21d-c7f729648b74\",                        [{\"hovertemplate\":\"X=%{x}\\u003cbr\\u003eY=%{y}\\u003cbr\\u003eZ=%{z}\\u003cbr\\u003ept=%{marker.size}\\u003cbr\\u003etIdx=%{marker.color}\\u003cextra\\u003e\\u003c\\u002fextra\\u003e\",\"legendgroup\":\"\",\"marker\":{\"color\":[0.0,0.0,1.0,0.0,-1.0,-1.0,2.0,-1.0,-1.0,1.0,0.0,1.0,1.0,-1.0,-1.0,3.0,4.0,5.0,6.0,7.0,5.0,3.0,8.0,6.0,5.0,5.0,5.0,5.0,5.0,5.0,7.0,5.0,7.0,2.0,9.0,2.0,7.0,9.0,10.0,7.0,3.0,11.0,11.0,12.0,3.0,12.0,12.0],\"coloraxis\":\"coloraxis\",\"opacity\":0.5,\"size\":[5.216217041015625,2.8779313564300537,4.781583786010742,5.201897621154785,1.1283886432647705,1.4790658950805664,1.0375325679779053,1.2261675596237183,3.0635132789611816,1.2777342796325684,4.959547519683838,4.508871555328369,4.270727634429932,0.5232042074203491,0.7054126262664795,136.40850830078125,47.96998596191406,184.125244140625,15.4256591796875,42.840152740478516,161.47142028808594,136.87876892089844,8.651361465454102,7.852224349975586,18.58675193786621,54.31939697265625,49.082584381103516,16.83722496032715,36.65693283081055,20.384780883789062,11.087272644042969,22.26816749572754,10.073822021484375,7.5476975440979,8.027702331542969,3.5462992191314697,3.954371213912964,7.9175567626953125,9.64089584350586,2.297090768814087,7.037780284881592,4.7475409507751465,4.648265361785889,8.497712135314941,12.30878734588623,6.461857318878174,5.19363260269165],\"sizemode\":\"area\",\"sizeref\":0.4603131103515625,\"symbol\":\"circle\",\"line\":{\"width\":0}},\"mode\":\"markers\",\"name\":\"\",\"scene\":\"scene\",\"showlegend\":false,\"x\":[-0.48713767528533936,0.15796494483947754,-0.09517890214920044,-0.48724937438964844,-0.06181001663208008,-3.315865993499756,-3.597691535949707,0.027304768562316895,-0.7527557611465454,-0.13356000185012817,-0.4624054431915283,-0.09437686204910278,-0.0911986231803894,1.3551769256591797,-2.8669729232788086,2.5328493118286133,-0.30333924293518066,-2.429722309112549,0.03933250904083252,-1.671905517578125,-2.4296603202819824,2.546412467956543,2.116917610168457,0.1098930835723877,-2.407378673553467,-2.4353318214416504,-2.434706687927246,-2.4075403213500977,-2.4220566749572754,-2.4201765060424805,-1.511425495147705,-2.3703484535217285,-1.4938483238220215,-3.2450337409973145,0.25489258766174316,-3.1988143920898438,-2.1918206214904785,0.2463827133178711,-0.30340588092803955,-1.5440425872802734,2.593926429748535,-0.19776344299316406,-0.19835591316223145,1.1595702171325684,2.597095489501953,1.1534624099731445,0.9966316223144531],\"y\":[2.189202308654785,1.6480464935302734,-0.18081820011138916,2.1893444061279297,0.6486057043075562,-0.0319826602935791,1.5806584358215332,2.562300682067871,-3.798463821411133,-0.2046339511871338,2.161046028137207,-0.18367618322372437,-0.18338829278945923,1.864171028137207,2.605013847351074,0.39429616928100586,2.054427146911621,-1.1288607120513916,0.3108537197113037,1.844365119934082,-1.1298604011535645,0.38235270977020264,-1.4690423011779785,0.36299049854278564,-1.1367583274841309,-1.1378235816955566,-1.1382675170898438,-1.136991262435913,-1.1380908489227295,-1.1397721767425537,1.7434139251708984,-1.0436148643493652,1.749852180480957,1.4017181396484375,-3.1543502807617188,1.437540054321289,1.779109001159668,-3.189316749572754,-3.296733856201172,1.723245620727539,0.3660883903503418,2.054553985595703,2.0535202026367188,1.4805793762207031,0.37113797664642334,1.4822907447814941,1.5494251251220703],\"z\":[-4.489553451538086,-4.854707717895508,9.540733337402344,-4.490108489990234,-7.933082580566406,4.214221000671387,1.1107072830200195,5.373956680297852,3.091557502746582,10.010051727294922,-4.590703964233398,9.611438751220703,9.661678314208984,4.606515884399414,1.5523481369018555,2.941220283508301,4.197595596313477,-2.9692792892456055,7.600072860717773,-1.0645098686218262,-2.97042179107666,2.9721670150756836,-1.8046841621398926,8.058698654174805,-2.9659910202026367,-2.9767818450927734,-2.9772157669067383,-2.9660444259643555,-2.973971366882324,-2.9733047485351562,-1.4824934005737305,-2.5327463150024414,-1.5378875732421875,0.8453917503356934,1.1869838237762451,0.7501213550567627,-0.5688894987106323,1.1888632774353027,4.1339006423950195,-1.3828821182250977,3.1117477416992188,0.47097063064575195,0.46922731399536133,1.108544945716858,3.0523834228515625,1.107752799987793,1.0099059343338013],\"type\":\"scatter3d\"}],                        {\"template\":{\"data\":{\"barpolar\":[{\"marker\":{\"line\":{\"color\":\"rgb(17,17,17)\",\"width\":0.5},\"pattern\":{\"fillmode\":\"overlay\",\"size\":10,\"solidity\":0.2}},\"type\":\"barpolar\"}],\"bar\":[{\"error_x\":{\"color\":\"#f2f5fa\"},\"error_y\":{\"color\":\"#f2f5fa\"},\"marker\":{\"line\":{\"color\":\"rgb(17,17,17)\",\"width\":0.5},\"pattern\":{\"fillmode\":\"overlay\",\"size\":10,\"solidity\":0.2}},\"type\":\"bar\"}],\"carpet\":[{\"aaxis\":{\"endlinecolor\":\"#A2B1C6\",\"gridcolor\":\"#506784\",\"linecolor\":\"#506784\",\"minorgridcolor\":\"#506784\",\"startlinecolor\":\"#A2B1C6\"},\"baxis\":{\"endlinecolor\":\"#A2B1C6\",\"gridcolor\":\"#506784\",\"linecolor\":\"#506784\",\"minorgridcolor\":\"#506784\",\"startlinecolor\":\"#A2B1C6\"},\"type\":\"carpet\"}],\"choropleth\":[{\"colorbar\":{\"outlinewidth\":0,\"ticks\":\"\"},\"type\":\"choropleth\"}],\"contourcarpet\":[{\"colorbar\":{\"outlinewidth\":0,\"ticks\":\"\"},\"type\":\"contourcarpet\"}],\"contour\":[{\"colorbar\":{\"outlinewidth\":0,\"ticks\":\"\"},\"colorscale\":[[0.0,\"#0d0887\"],[0.1111111111111111,\"#46039f\"],[0.2222222222222222,\"#7201a8\"],[0.3333333333333333,\"#9c179e\"],[0.4444444444444444,\"#bd3786\"],[0.5555555555555556,\"#d8576b\"],[0.6666666666666666,\"#ed7953\"],[0.7777777777777778,\"#fb9f3a\"],[0.8888888888888888,\"#fdca26\"],[1.0,\"#f0f921\"]],\"type\":\"contour\"}],\"heatmapgl\":[{\"colorbar\":{\"outlinewidth\":0,\"ticks\":\"\"},\"colorscale\":[[0.0,\"#0d0887\"],[0.1111111111111111,\"#46039f\"],[0.2222222222222222,\"#7201a8\"],[0.3333333333333333,\"#9c179e\"],[0.4444444444444444,\"#bd3786\"],[0.5555555555555556,\"#d8576b\"],[0.6666666666666666,\"#ed7953\"],[0.7777777777777778,\"#fb9f3a\"],[0.8888888888888888,\"#fdca26\"],[1.0,\"#f0f921\"]],\"type\":\"heatmapgl\"}],\"heatmap\":[{\"colorbar\":{\"outlinewidth\":0,\"ticks\":\"\"},\"colorscale\":[[0.0,\"#0d0887\"],[0.1111111111111111,\"#46039f\"],[0.2222222222222222,\"#7201a8\"],[0.3333333333333333,\"#9c179e\"],[0.4444444444444444,\"#bd3786\"],[0.5555555555555556,\"#d8576b\"],[0.6666666666666666,\"#ed7953\"],[0.7777777777777778,\"#fb9f3a\"],[0.8888888888888888,\"#fdca26\"],[1.0,\"#f0f921\"]],\"type\":\"heatmap\"}],\"histogram2dcontour\":[{\"colorbar\":{\"outlinewidth\":0,\"ticks\":\"\"},\"colorscale\":[[0.0,\"#0d0887\"],[0.1111111111111111,\"#46039f\"],[0.2222222222222222,\"#7201a8\"],[0.3333333333333333,\"#9c179e\"],[0.4444444444444444,\"#bd3786\"],[0.5555555555555556,\"#d8576b\"],[0.6666666666666666,\"#ed7953\"],[0.7777777777777778,\"#fb9f3a\"],[0.8888888888888888,\"#fdca26\"],[1.0,\"#f0f921\"]],\"type\":\"histogram2dcontour\"}],\"histogram2d\":[{\"colorbar\":{\"outlinewidth\":0,\"ticks\":\"\"},\"colorscale\":[[0.0,\"#0d0887\"],[0.1111111111111111,\"#46039f\"],[0.2222222222222222,\"#7201a8\"],[0.3333333333333333,\"#9c179e\"],[0.4444444444444444,\"#bd3786\"],[0.5555555555555556,\"#d8576b\"],[0.6666666666666666,\"#ed7953\"],[0.7777777777777778,\"#fb9f3a\"],[0.8888888888888888,\"#fdca26\"],[1.0,\"#f0f921\"]],\"type\":\"histogram2d\"}],\"histogram\":[{\"marker\":{\"pattern\":{\"fillmode\":\"overlay\",\"size\":10,\"solidity\":0.2}},\"type\":\"histogram\"}],\"mesh3d\":[{\"colorbar\":{\"outlinewidth\":0,\"ticks\":\"\"},\"type\":\"mesh3d\"}],\"parcoords\":[{\"line\":{\"colorbar\":{\"outlinewidth\":0,\"ticks\":\"\"}},\"type\":\"parcoords\"}],\"pie\":[{\"automargin\":true,\"type\":\"pie\"}],\"scatter3d\":[{\"line\":{\"colorbar\":{\"outlinewidth\":0,\"ticks\":\"\"}},\"marker\":{\"colorbar\":{\"outlinewidth\":0,\"ticks\":\"\"}},\"type\":\"scatter3d\"}],\"scattercarpet\":[{\"marker\":{\"colorbar\":{\"outlinewidth\":0,\"ticks\":\"\"}},\"type\":\"scattercarpet\"}],\"scattergeo\":[{\"marker\":{\"colorbar\":{\"outlinewidth\":0,\"ticks\":\"\"}},\"type\":\"scattergeo\"}],\"scattergl\":[{\"marker\":{\"line\":{\"color\":\"#283442\"}},\"type\":\"scattergl\"}],\"scattermapbox\":[{\"marker\":{\"colorbar\":{\"outlinewidth\":0,\"ticks\":\"\"}},\"type\":\"scattermapbox\"}],\"scatterpolargl\":[{\"marker\":{\"colorbar\":{\"outlinewidth\":0,\"ticks\":\"\"}},\"type\":\"scatterpolargl\"}],\"scatterpolar\":[{\"marker\":{\"colorbar\":{\"outlinewidth\":0,\"ticks\":\"\"}},\"type\":\"scatterpolar\"}],\"scatter\":[{\"marker\":{\"line\":{\"color\":\"#283442\"}},\"type\":\"scatter\"}],\"scatterternary\":[{\"marker\":{\"colorbar\":{\"outlinewidth\":0,\"ticks\":\"\"}},\"type\":\"scatterternary\"}],\"surface\":[{\"colorbar\":{\"outlinewidth\":0,\"ticks\":\"\"},\"colorscale\":[[0.0,\"#0d0887\"],[0.1111111111111111,\"#46039f\"],[0.2222222222222222,\"#7201a8\"],[0.3333333333333333,\"#9c179e\"],[0.4444444444444444,\"#bd3786\"],[0.5555555555555556,\"#d8576b\"],[0.6666666666666666,\"#ed7953\"],[0.7777777777777778,\"#fb9f3a\"],[0.8888888888888888,\"#fdca26\"],[1.0,\"#f0f921\"]],\"type\":\"surface\"}],\"table\":[{\"cells\":{\"fill\":{\"color\":\"#506784\"},\"line\":{\"color\":\"rgb(17,17,17)\"}},\"header\":{\"fill\":{\"color\":\"#2a3f5f\"},\"line\":{\"color\":\"rgb(17,17,17)\"}},\"type\":\"table\"}]},\"layout\":{\"annotationdefaults\":{\"arrowcolor\":\"#f2f5fa\",\"arrowhead\":0,\"arrowwidth\":1},\"autotypenumbers\":\"strict\",\"coloraxis\":{\"colorbar\":{\"outlinewidth\":0,\"ticks\":\"\"}},\"colorscale\":{\"diverging\":[[0,\"#8e0152\"],[0.1,\"#c51b7d\"],[0.2,\"#de77ae\"],[0.3,\"#f1b6da\"],[0.4,\"#fde0ef\"],[0.5,\"#f7f7f7\"],[0.6,\"#e6f5d0\"],[0.7,\"#b8e186\"],[0.8,\"#7fbc41\"],[0.9,\"#4d9221\"],[1,\"#276419\"]],\"sequential\":[[0.0,\"#0d0887\"],[0.1111111111111111,\"#46039f\"],[0.2222222222222222,\"#7201a8\"],[0.3333333333333333,\"#9c179e\"],[0.4444444444444444,\"#bd3786\"],[0.5555555555555556,\"#d8576b\"],[0.6666666666666666,\"#ed7953\"],[0.7777777777777778,\"#fb9f3a\"],[0.8888888888888888,\"#fdca26\"],[1.0,\"#f0f921\"]],\"sequentialminus\":[[0.0,\"#0d0887\"],[0.1111111111111111,\"#46039f\"],[0.2222222222222222,\"#7201a8\"],[0.3333333333333333,\"#9c179e\"],[0.4444444444444444,\"#bd3786\"],[0.5555555555555556,\"#d8576b\"],[0.6666666666666666,\"#ed7953\"],[0.7777777777777778,\"#fb9f3a\"],[0.8888888888888888,\"#fdca26\"],[1.0,\"#f0f921\"]]},\"colorway\":[\"#636efa\",\"#EF553B\",\"#00cc96\",\"#ab63fa\",\"#FFA15A\",\"#19d3f3\",\"#FF6692\",\"#B6E880\",\"#FF97FF\",\"#FECB52\"],\"font\":{\"color\":\"#f2f5fa\"},\"geo\":{\"bgcolor\":\"rgb(17,17,17)\",\"lakecolor\":\"rgb(17,17,17)\",\"landcolor\":\"rgb(17,17,17)\",\"showlakes\":true,\"showland\":true,\"subunitcolor\":\"#506784\"},\"hoverlabel\":{\"align\":\"left\"},\"hovermode\":\"closest\",\"mapbox\":{\"style\":\"dark\"},\"paper_bgcolor\":\"rgb(17,17,17)\",\"plot_bgcolor\":\"rgb(17,17,17)\",\"polar\":{\"angularaxis\":{\"gridcolor\":\"#506784\",\"linecolor\":\"#506784\",\"ticks\":\"\"},\"bgcolor\":\"rgb(17,17,17)\",\"radialaxis\":{\"gridcolor\":\"#506784\",\"linecolor\":\"#506784\",\"ticks\":\"\"}},\"scene\":{\"xaxis\":{\"backgroundcolor\":\"rgb(17,17,17)\",\"gridcolor\":\"#506784\",\"gridwidth\":2,\"linecolor\":\"#506784\",\"showbackground\":true,\"ticks\":\"\",\"zerolinecolor\":\"#C8D4E3\"},\"yaxis\":{\"backgroundcolor\":\"rgb(17,17,17)\",\"gridcolor\":\"#506784\",\"gridwidth\":2,\"linecolor\":\"#506784\",\"showbackground\":true,\"ticks\":\"\",\"zerolinecolor\":\"#C8D4E3\"},\"zaxis\":{\"backgroundcolor\":\"rgb(17,17,17)\",\"gridcolor\":\"#506784\",\"gridwidth\":2,\"linecolor\":\"#506784\",\"showbackground\":true,\"ticks\":\"\",\"zerolinecolor\":\"#C8D4E3\"}},\"shapedefaults\":{\"line\":{\"color\":\"#f2f5fa\"}},\"sliderdefaults\":{\"bgcolor\":\"#C8D4E3\",\"bordercolor\":\"rgb(17,17,17)\",\"borderwidth\":1,\"tickwidth\":0},\"ternary\":{\"aaxis\":{\"gridcolor\":\"#506784\",\"linecolor\":\"#506784\",\"ticks\":\"\"},\"baxis\":{\"gridcolor\":\"#506784\",\"linecolor\":\"#506784\",\"ticks\":\"\"},\"bgcolor\":\"rgb(17,17,17)\",\"caxis\":{\"gridcolor\":\"#506784\",\"linecolor\":\"#506784\",\"ticks\":\"\"}},\"title\":{\"x\":0.05},\"updatemenudefaults\":{\"bgcolor\":\"#506784\",\"borderwidth\":0},\"xaxis\":{\"automargin\":true,\"gridcolor\":\"#283442\",\"linecolor\":\"#506784\",\"ticks\":\"\",\"title\":{\"standoff\":15},\"zerolinecolor\":\"#283442\",\"zerolinewidth\":2},\"yaxis\":{\"automargin\":true,\"gridcolor\":\"#283442\",\"linecolor\":\"#506784\",\"ticks\":\"\",\"title\":{\"standoff\":15},\"zerolinecolor\":\"#283442\",\"zerolinewidth\":2}}},\"scene\":{\"domain\":{\"x\":[0.0,1.0],\"y\":[0.0,1.0]},\"xaxis\":{\"title\":{\"text\":\"X\"}},\"yaxis\":{\"title\":{\"text\":\"Y\"}},\"zaxis\":{\"title\":{\"text\":\"Z\"}}},\"coloraxis\":{\"colorbar\":{\"title\":{\"text\":\"tIdx\"}},\"colorscale\":[[0.0,\"rgb(150,0,90)\"],[0.125,\"rgb(0,0,200)\"],[0.25,\"rgb(0,25,255)\"],[0.375,\"rgb(0,152,255)\"],[0.5,\"rgb(44,255,150)\"],[0.625,\"rgb(151,255,0)\"],[0.75,\"rgb(255,234,0)\"],[0.875,\"rgb(255,111,0)\"],[1.0,\"rgb(255,0,0)\"]]},\"legend\":{\"tracegroupgap\":0,\"itemsizing\":\"constant\"},\"margin\":{\"t\":60}},                        {\"responsive\": true}                    ).then(function(){\n",
       "                            \n",
       "var gd = document.getElementById('eef7c19e-0363-42b5-b21d-c7f729648b74');\n",
       "var x = new MutationObserver(function (mutations, observer) {{\n",
       "        var display = window.getComputedStyle(gd).display;\n",
       "        if (!display || display === 'none') {{\n",
       "            console.log([gd, 'removed!']);\n",
       "            Plotly.purge(gd);\n",
       "            observer.disconnect();\n",
       "        }}\n",
       "}});\n",
       "\n",
       "// Listen for the removal of the full notebook cells\n",
       "var notebookContainer = gd.closest('#notebook-container');\n",
       "if (notebookContainer) {{\n",
       "    x.observe(notebookContainer, {childList: true});\n",
       "}}\n",
       "\n",
       "// Listen for the clearing of the current output cell\n",
       "var outputEl = gd.closest('.output');\n",
       "if (outputEl) {{\n",
       "    x.observe(outputEl, {childList: true});\n",
       "}}\n",
       "\n",
       "                        })                };                });            </script>        </div>"
      ]
     },
     "metadata": {},
     "output_type": "display_data"
    }
   ],
   "execution_count": 15
  },
  {
   "metadata": {
    "ExecuteTime": {
     "end_time": "2025-03-04T17:48:18.482578Z",
     "start_time": "2025-03-04T17:48:18.341707Z"
    }
   },
   "cell_type": "code",
   "source": [
    "filename = get_path(\"/work/gkrzmanc/jetclustering/results/train/Eval_no_pid_eval_2025_03_04_15_54_50/eval_0.pkl\", \"results\")\n",
    "# for rinv=0.7, see /work/gkrzmanc/jetclustering/results/train/Test_betaPt_BC_rinv07_2025_01_03_15_38_58\n",
    "\n",
    "result = CPU_Unpickler(open(filename, \"rb\")).load()\n",
    "dataset = EventDataset.from_directory(result[\"filename\"], mmap=True)\n",
    "# plotly 3d plot of result[\"pred\"], colored by result[\"GT_cluster\"]\n",
    "from src.plotting.plot_coordinates import plot_coordinates\n",
    "filt = result[\"event_idx\"] == 5\n",
    "# normalized coordinates\n",
    "norm_coords = result[\"pred\"][filt, 1:4] / np.linalg.norm(result[\"pred\"][filt, 1:4] , axis=1 ,keepdims=1)\n",
    "plot_coordinates(norm_coords, torch.tensor(result[\"pt\"][filt]), torch.tensor(result[\"GT_cluster\"][filt])).show()\n"
   ],
   "id": "c0c09fd4b6a69064",
   "outputs": [
    {
     "name": "stdout",
     "output_type": "stream",
     "text": [
      "[('X', (439, 1)), ('Y', (439, 1)), ('Z', (439, 1)), ('tIdx', (439, 1)), ('pt', (439, 1))]\n"
     ]
    },
    {
     "name": "stderr",
     "output_type": "stream",
     "text": [
      "/work/gkrzmanc/jetclustering/code/src/utils/utils.py:91: FutureWarning:\n",
      "\n",
      "You are using `torch.load` with `weights_only=False` (the current default value), which uses the default pickle module implicitly. It is possible to construct malicious pickle data which will execute arbitrary code during unpickling (See https://github.com/pytorch/pytorch/blob/main/SECURITY.md#untrusted-models for more details). In a future release, the default value for `weights_only` will be flipped to `True`. This limits the functions that could be executed during unpickling. Arbitrary objects will no longer be allowed to be loaded via this mode unless they are explicitly allowlisted by the user via `torch.serialization.add_safe_globals`. We recommend you start setting `weights_only=True` for any use case where you don't have full control of the loaded file. Please open an issue on GitHub for any issues related to this experimental feature.\n",
      "\n",
      "/tmp/ipykernel_40067/2366440542.py:11: UserWarning:\n",
      "\n",
      "To copy construct from a tensor, it is recommended to use sourceTensor.clone().detach() or sourceTensor.clone().detach().requires_grad_(True), rather than torch.tensor(sourceTensor).\n",
      "\n"
     ]
    },
    {
     "data": {
      "application/vnd.plotly.v1+json": {
       "data": [
        {
         "hovertemplate": "X=%{x}<br>Y=%{y}<br>Z=%{z}<br>pt=%{marker.size}<br>tIdx=%{marker.color}<extra></extra>",
         "legendgroup": "",
         "marker": {
          "color": [
           -1.0,
           1.0,
           -1.0,
           -1.0,
           -1.0,
           -1.0,
           -1.0,
           -1.0,
           -1.0,
           -1.0,
           -1.0,
           -1.0,
           -1.0,
           -1.0,
           -1.0,
           -1.0,
           -1.0,
           -1.0,
           -1.0,
           -1.0,
           -1.0,
           -1.0,
           -1.0,
           1.0,
           -1.0,
           -1.0,
           -1.0,
           -1.0,
           -1.0,
           -1.0,
           -1.0,
           -1.0,
           1.0,
           -1.0,
           1.0,
           1.0,
           -1.0,
           -1.0,
           -1.0,
           -1.0,
           -1.0,
           -1.0,
           -1.0,
           -1.0,
           -1.0,
           -1.0,
           -1.0,
           -1.0,
           -1.0,
           -1.0,
           -1.0,
           -1.0,
           -1.0,
           -1.0,
           -1.0,
           -1.0,
           -1.0,
           -1.0,
           -1.0,
           -1.0,
           -1.0,
           -1.0,
           -1.0,
           -1.0,
           -1.0,
           -1.0,
           -1.0,
           -1.0,
           -1.0,
           -1.0,
           -1.0,
           -1.0,
           -1.0,
           -1.0,
           -1.0,
           -1.0,
           -1.0,
           -1.0,
           -1.0,
           -1.0,
           -1.0,
           -1.0,
           -1.0,
           -1.0,
           -1.0,
           -1.0,
           -1.0,
           -1.0,
           -1.0,
           -1.0,
           -1.0,
           -1.0,
           0.0,
           -1.0,
           -1.0,
           -1.0,
           -1.0,
           -1.0,
           -1.0,
           -1.0,
           -1.0,
           -1.0,
           -1.0,
           -1.0,
           -1.0,
           1.0,
           -1.0,
           -1.0,
           -1.0,
           -1.0,
           -1.0,
           -1.0,
           -1.0,
           -1.0,
           -1.0,
           -1.0,
           -1.0,
           -1.0,
           -1.0,
           -1.0,
           -1.0,
           -1.0,
           -1.0,
           -1.0,
           -1.0,
           -1.0,
           -1.0,
           -1.0,
           -1.0,
           -1.0,
           -1.0,
           -1.0,
           0.0,
           -1.0,
           -1.0,
           -1.0,
           -1.0,
           -1.0,
           -1.0,
           1.0,
           1.0,
           -1.0,
           -1.0,
           -1.0,
           -1.0,
           -1.0,
           -1.0,
           -1.0,
           -1.0,
           -1.0,
           -1.0,
           -1.0,
           -1.0,
           -1.0,
           -1.0,
           -1.0,
           -1.0,
           -1.0,
           -1.0,
           -1.0,
           -1.0,
           -1.0,
           -1.0,
           -1.0,
           0.0,
           -1.0,
           -1.0,
           -1.0,
           -1.0,
           -1.0,
           -1.0,
           -1.0,
           -1.0,
           0.0,
           0.0,
           -1.0,
           -1.0,
           0.0,
           0.0,
           -1.0,
           -1.0,
           -1.0,
           0.0,
           -1.0,
           -1.0,
           -1.0,
           -1.0,
           -1.0,
           1.0,
           -1.0,
           -1.0,
           -1.0,
           -1.0,
           -1.0,
           -1.0,
           -1.0,
           -1.0,
           -1.0,
           -1.0,
           -1.0,
           -1.0,
           -1.0,
           -1.0,
           -1.0,
           -1.0,
           1.0,
           1.0,
           1.0,
           1.0,
           -1.0,
           -1.0,
           -1.0,
           -1.0,
           -1.0,
           -1.0,
           -1.0,
           -1.0,
           -1.0,
           -1.0,
           -1.0,
           -1.0,
           -1.0,
           -1.0,
           -1.0,
           -1.0,
           -1.0,
           -1.0,
           -1.0,
           -1.0,
           -1.0,
           -1.0,
           -1.0,
           -1.0,
           -1.0,
           -1.0,
           -1.0,
           -1.0,
           -1.0,
           -1.0,
           -1.0,
           -1.0,
           -1.0,
           -1.0,
           -1.0,
           0.0,
           -1.0,
           -1.0,
           -1.0,
           -1.0,
           -1.0,
           -1.0,
           -1.0,
           -1.0,
           -1.0,
           -1.0,
           -1.0,
           -1.0,
           -1.0,
           -1.0,
           -1.0,
           -1.0,
           -1.0,
           -1.0,
           -1.0,
           -1.0,
           0.0,
           -1.0,
           -1.0,
           -1.0,
           -1.0,
           -1.0,
           -1.0,
           -1.0,
           -1.0,
           -1.0,
           -1.0,
           -1.0,
           -1.0,
           -1.0,
           -1.0,
           -1.0,
           -1.0,
           -1.0,
           -1.0,
           -1.0,
           -1.0,
           -1.0,
           -1.0,
           -1.0,
           -1.0,
           -1.0,
           -1.0,
           -1.0,
           -1.0,
           -1.0,
           -1.0,
           -1.0,
           -1.0,
           -1.0,
           -1.0,
           -1.0,
           -1.0,
           -1.0,
           -1.0,
           -1.0,
           -1.0,
           -1.0,
           -1.0,
           -1.0,
           -1.0,
           -1.0,
           -1.0,
           -1.0,
           -1.0,
           -1.0,
           -1.0,
           -1.0,
           -1.0,
           -1.0,
           -1.0,
           -1.0,
           -1.0,
           -1.0,
           -1.0,
           -1.0,
           -1.0,
           -1.0,
           -1.0,
           -1.0,
           -1.0,
           -1.0,
           -1.0,
           -1.0,
           -1.0,
           -1.0,
           -1.0,
           -1.0,
           -1.0,
           0.0,
           0.0,
           0.0,
           0.0,
           -1.0,
           -1.0,
           -1.0,
           0.0,
           -1.0,
           -1.0,
           -1.0,
           1.0,
           1.0,
           -1.0,
           1.0,
           1.0,
           -1.0,
           -1.0,
           -1.0,
           -1.0,
           -1.0,
           1.0,
           -1.0,
           -1.0,
           -1.0,
           -1.0,
           1.0,
           -1.0,
           -1.0,
           -1.0,
           0.0,
           0.0,
           0.0,
           -1.0,
           -1.0,
           -1.0,
           -1.0,
           0.0,
           -1.0,
           -1.0,
           -1.0,
           -1.0,
           -1.0,
           -1.0,
           -1.0,
           -1.0,
           -1.0,
           -1.0,
           -1.0,
           0.0,
           0.0,
           0.0,
           0.0,
           0.0,
           0.0,
           -1.0,
           -1.0,
           -1.0,
           -1.0,
           1.0,
           -1.0,
           1.0,
           1.0,
           1.0,
           1.0,
           1.0,
           1.0,
           -1.0,
           -1.0,
           -1.0,
           -1.0,
           -1.0,
           1.0,
           -1.0,
           -1.0,
           -1.0,
           -1.0,
           -1.0,
           -1.0,
           -1.0,
           -1.0,
           -1.0,
           -1.0,
           -1.0,
           1.0,
           -1.0,
           -1.0,
           -1.0,
           1.0,
           -1.0,
           1.0,
           -1.0,
           -1.0,
           1.0,
           1.0,
           -1.0,
           -1.0,
           -1.0,
           -1.0,
           -1.0,
           -1.0
          ],
          "coloraxis": "coloraxis",
          "opacity": 0.5,
          "size": [
           0.615234375,
           0.54052734375,
           4.40234375,
           0.2548828125,
           0.1575927734375,
           0.4326171875,
           0.62255859375,
           0.4228515625,
           0.8134765625,
           0.363525390625,
           0.07470703125,
           0.7978515625,
           0.08807373046875,
           0.0762939453125,
           1.267578125,
           1.6337890625,
           0.1307373046875,
           0.0352783203125,
           0.62451171875,
           0.319091796875,
           0.52978515625,
           0.7236328125,
           0.339111328125,
           1.0107421875,
           0.369384765625,
           0.6435546875,
           0.2607421875,
           1.3203125,
           0.138916015625,
           0.2401123046875,
           0.4150390625,
           0.853515625,
           0.630859375,
           0.126708984375,
           1.4365234375,
           17.875,
           0.19287109375,
           0.763671875,
           0.64404296875,
           1.947265625,
           0.45751953125,
           1.384765625,
           0.395263671875,
           1.021484375,
           0.81494140625,
           1.9208984375,
           1.65625,
           0.86767578125,
           0.53857421875,
           0.146484375,
           0.53955078125,
           0.8193359375,
           0.1912841796875,
           0.225830078125,
           0.273193359375,
           0.6396484375,
           0.446533203125,
           0.16455078125,
           0.28515625,
           0.433349609375,
           1.3857421875,
           0.279296875,
           0.67626953125,
           0.1248779296875,
           0.214111328125,
           0.54833984375,
           0.146728515625,
           1.0751953125,
           0.346435546875,
           1.37890625,
           0.775390625,
           0.2176513671875,
           0.31201171875,
           0.414306640625,
           0.55419921875,
           0.1690673828125,
           0.8564453125,
           0.455078125,
           0.81005859375,
           0.77099609375,
           0.318115234375,
           0.215087890625,
           0.5185546875,
           0.97900390625,
           0.166015625,
           0.6728515625,
           1.556640625,
           0.312255859375,
           0.5341796875,
           0.943359375,
           0.1639404296875,
           0.302490234375,
           0.998046875,
           0.630859375,
           1.5556640625,
           0.72412109375,
           0.306396484375,
           1.314453125,
           0.330078125,
           0.892578125,
           1.0263671875,
           0.58837890625,
           0.77197265625,
           0.050201416015625,
           0.91259765625,
           0.85205078125,
           0.205078125,
           0.474365234375,
           1.7919921875,
           0.0692138671875,
           1.12109375,
           1.716796875,
           0.4130859375,
           1.1943359375,
           0.358642578125,
           0.12548828125,
           0.404296875,
           0.341796875,
           0.345458984375,
           0.10125732421875,
           0.458984375,
           1.39453125,
           1.14453125,
           0.36181640625,
           0.324951171875,
           0.10906982421875,
           0.2998046875,
           0.53564453125,
           0.1842041015625,
           0.1630859375,
           0.461669921875,
           0.267822265625,
           0.10333251953125,
           0.79443359375,
           1.1484375,
           0.1407470703125,
           0.142578125,
           5.671875,
           16.875,
           38.21875,
           71.0,
           0.387939453125,
           0.251708984375,
           0.56298828125,
           0.63720703125,
           0.20068359375,
           0.1806640625,
           0.422119140625,
           0.309326171875,
           0.1455078125,
           0.10345458984375,
           0.2027587890625,
           0.1556396484375,
           0.324462890625,
           0.5107421875,
           0.11572265625,
           0.1982421875,
           0.17333984375,
           0.2471923828125,
           0.78466796875,
           0.95166015625,
           0.1201171875,
           0.1767578125,
           0.568359375,
           0.0205078125,
           0.305419921875,
           0.294677734375,
           0.019012451171875,
           0.48876953125,
           0.426513671875,
           0.1439208984375,
           0.1402587890625,
           0.191650390625,
           0.50439453125,
           0.8486328125,
           0.21142578125,
           0.10382080078125,
           1.5556640625,
           0.0721435546875,
           0.043792724609375,
           0.5126953125,
           0.95068359375,
           0.319580078125,
           1.099609375,
           0.9619140625,
           0.01233673095703125,
           0.2138671875,
           0.49462890625,
           0.8818359375,
           0.16259765625,
           0.261962890625,
           1.134765625,
           0.42333984375,
           0.003917694091796875,
           0.375244140625,
           0.140625,
           0.14697265625,
           0.87890625,
           0.47509765625,
           0.1939697265625,
           0.54248046875,
           0.490966796875,
           0.018890380859375,
           0.4970703125,
           0.10858154296875,
           2.75390625,
           0.39990234375,
           5.22265625,
           0.441650390625,
           0.1529541015625,
           0.50439453125,
           0.529296875,
           0.1573486328125,
           0.298583984375,
           0.0921630859375,
           0.144775390625,
           0.22509765625,
           0.9853515625,
           0.469970703125,
           0.367919921875,
           0.2017822265625,
           0.0704345703125,
           0.18798828125,
           1.46484375,
           0.49755859375,
           0.277099609375,
           0.100341796875,
           0.3359375,
           0.043121337890625,
           0.40625,
           0.1861572265625,
           0.434814453125,
           0.0079803466796875,
           0.10430908203125,
           0.348388671875,
           0.0196533203125,
           0.1290283203125,
           0.28515625,
           0.052886962890625,
           0.2352294921875,
           0.334716796875,
           0.344970703125,
           0.0195465087890625,
           0.2305908203125,
           0.026031494140625,
           0.31640625,
           0.40771484375,
           0.06927490234375,
           0.763671875,
           0.252197265625,
           0.5537109375,
           0.274169921875,
           0.474365234375,
           0.1246337890625,
           0.59521484375,
           0.92724609375,
           0.2269287109375,
           0.20947265625,
           0.1251220703125,
           0.377685546875,
           0.05828857421875,
           0.191162109375,
           0.0811767578125,
           0.02642822265625,
           0.0379638671875,
           0.380615234375,
           0.01161956787109375,
           0.623046875,
           0.247802734375,
           0.046142578125,
           0.3125,
           0.6796875,
           0.132568359375,
           0.15234375,
           0.030548095703125,
           0.151123046875,
           0.277587890625,
           0.252685546875,
           0.09893798828125,
           0.38330078125,
           0.0889892578125,
           0.03594970703125,
           0.07366943359375,
           0.0775146484375,
           1.017578125,
           0.1290283203125,
           0.38330078125,
           0.134033203125,
           0.31005859375,
           0.37548828125,
           0.08538818359375,
           0.10205078125,
           2.009765625,
           0.10345458984375,
           1.25,
           0.0791015625,
           0.271240234375,
           0.01467132568359375,
           0.1295166015625,
           0.218994140625,
           0.0706787109375,
           0.01202392578125,
           0.1790771484375,
           0.18310546875,
           0.48681640625,
           0.055572509765625,
           0.343505859375,
           0.01806640625,
           0.13720703125,
           0.112060546875,
           0.05694580078125,
           0.07147216796875,
           0.19970703125,
           0.12493896484375,
           0.2388916015625,
           0.10479736328125,
           0.2342529296875,
           0.083984375,
           0.3427734375,
           0.06854248046875,
           0.59521484375,
           0.040771484375,
           0.60400390625,
           0.234130859375,
           0.08056640625,
           0.0772705078125,
           0.1656494140625,
           0.0215301513671875,
           0.157958984375,
           0.196044921875,
           0.135986328125,
           0.02520751953125,
           0.06500244140625,
           0.126953125,
           0.0672607421875,
           0.115234375,
           0.210693359375,
           0.029205322265625,
           29.71875,
           13.7890625,
           11.1484375,
           1.21875,
           2.265625,
           2.9296875,
           6.015625,
           9.1875,
           0.40673828125,
           2.337890625,
           1.568359375,
           4.26171875,
           1.39453125,
           0.07220458984375,
           0.72509765625,
           0.320068359375,
           0.6005859375,
           3.63671875,
           2.693359375,
           2.37109375,
           0.59765625,
           0.1495361328125,
           0.1451416015625,
           0.468505859375,
           0.8642578125,
           7.68359375,
           0.75537109375,
           0.11578369140625,
           0.7314453125,
           1.6982421875,
           25.75,
           1.4951171875,
           2.8984375,
           0.443603515625,
           3.453125,
           2.4296875,
           3.826171875,
           0.5439453125,
           0.31689453125,
           0.79345703125,
           1.474609375,
           3.0859375,
           2.138671875,
           1.23046875,
           1.5556640625,
           4.03125,
           4.01953125,
           0.97705078125,
           1.888671875,
           17.796875,
           0.7734375,
           1.4599609375,
           26.34375,
           3.89453125,
           1.916015625,
           1.146484375,
           5.328125,
           0.044525146484375,
           0.132080078125,
           0.69189453125,
           0.09136962890625,
           0.28662109375,
           0.306884765625,
           0.3935546875,
           2.294921875,
           1.2705078125,
           3.626953125,
           0.71142578125,
           0.8720703125,
           0.07440185546875,
           0.2484130859375,
           0.044952392578125,
           0.142822265625,
           0.9345703125,
           2.109375,
           0.2337646484375,
           1.990234375,
           0.40869140625,
           1.7880859375,
           1.4111328125,
           0.8876953125,
           0.11041259765625,
           1.013671875,
           0.232666015625,
           1.837890625,
           0.273681640625,
           0.1556396484375,
           1.0732421875,
           1.416015625,
           1.4990234375,
           0.0195465087890625,
           1.3310546875,
           3.244140625,
           0.06817626953125,
           0.1566162109375,
           0.11688232421875,
           0.1859130859375,
           0.84814453125,
           0.016815185546875,
           0.013031005859375,
           0.060516357421875
          ],
          "sizemode": "area",
          "sizeref": 0.1775,
          "symbol": "circle",
          "line": {
           "width": 0
          }
         },
         "mode": "markers",
         "name": "",
         "scene": "scene",
         "showlegend": false,
         "x": [
          -0.0011398595524951816,
          0.809627890586853,
          0.06974762678146362,
          0.0963250994682312,
          0.04117647558450699,
          0.041160568594932556,
          0.07165680080652237,
          -0.8779297471046448,
          -0.5878046154975891,
          -0.08863263577222824,
          0.029038336127996445,
          -0.18764065206050873,
          0.059420179575681686,
          0.02056777849793434,
          -0.7368565797805786,
          -0.05108256638050079,
          -0.026935776695609093,
          -0.19005054235458374,
          -0.6567605137825012,
          0.05606631189584732,
          -0.04781376197934151,
          0.7773208618164062,
          0.19786116480827332,
          0.7527506351470947,
          -0.7066736221313477,
          -0.6901432871818542,
          -0.6761177778244019,
          -0.7099840044975281,
          -0.602024257183075,
          -0.5585185289382935,
          -0.6319113969802856,
          0.2904660105705261,
          0.7303995490074158,
          -0.45350757241249084,
          0.848791241645813,
          0.8328090906143188,
          0.06413032859563828,
          0.0710625872015953,
          0.05069432407617569,
          0.10986027866601944,
          0.1970905065536499,
          0.2279222011566162,
          -0.04842767491936684,
          -0.47877660393714905,
          -0.054754987359046936,
          -0.40584075450897217,
          -0.1883830726146698,
          -0.7887542247772217,
          -0.03422154113650322,
          0.07333353906869888,
          0.03365639969706535,
          0.052973322570323944,
          0.04122944548726082,
          0.052910223603248596,
          0.025029484182596207,
          0.7223454117774963,
          -0.6870201230049133,
          -0.556106448173523,
          0.12420516461133957,
          -0.4224154055118561,
          -0.7816706299781799,
          -0.366450697183609,
          0.48679953813552856,
          0.05666666105389595,
          0.763699471950531,
          -0.7150017023086548,
          0.033930446952581406,
          0.030831286683678627,
          -0.9209955334663391,
          -0.4054332971572876,
          0.046205002814531326,
          -0.7186921238899231,
          -0.7330082654953003,
          0.04797657951712608,
          -0.7936450242996216,
          -0.7193343043327332,
          -0.730349600315094,
          -0.7116192579269409,
          -0.7141682505607605,
          -0.6940267086029053,
          0.20943017303943634,
          -0.7015073895454407,
          0.025537943467497826,
          -0.24608799815177917,
          -0.0421074703335762,
          -0.11350720375776291,
          -0.6745553612709045,
          0.013017826713621616,
          0.9792338609695435,
          0.8296754956245422,
          0.8472424149513245,
          0.05232561379671097,
          -0.7321237325668335,
          -0.05570441484451294,
          -0.7420641183853149,
          -0.7219606041908264,
          -0.7297453284263611,
          -0.7223954796791077,
          -0.6876248121261597,
          -0.7353065609931946,
          -0.7228459119796753,
          -0.17189143598079681,
          -0.38604849576950073,
          -0.024125978350639343,
          -0.5239417552947998,
          0.9031001925468445,
          0.03663995862007141,
          0.05142136290669441,
          0.055118899792432785,
          0.032401856034994125,
          0.03710038587450981,
          0.15421798825263977,
          -0.1702696979045868,
          0.19591106474399567,
          -0.6432356238365173,
          0.02205345593392849,
          0.040139004588127136,
          0.04921097680926323,
          -7.249904447235167E-4,
          -0.22495222091674805,
          -0.7264729142189026,
          -0.6920855641365051,
          -0.9181551337242126,
          -0.7301520705223083,
          -0.70099937915802,
          -0.3870975077152252,
          -0.5571581721305847,
          -0.28836140036582947,
          0.020672721788287163,
          -0.0027095857076346874,
          0.05337756127119064,
          0.04265901446342468,
          -0.30283021926879883,
          -0.47514113783836365,
          -0.728896975517273,
          -0.7021428346633911,
          0.00931551307439804,
          0.9118783473968506,
          -0.5564721822738647,
          0.8940155506134033,
          0.9217650890350342,
          0.037775445729494095,
          0.027295434847474098,
          0.05244326964020729,
          -0.25380825996398926,
          -0.25703030824661255,
          0.11356037855148315,
          0.010189581662416458,
          -0.6997936367988586,
          -0.7163465619087219,
          -0.6102805733680725,
          -0.7050689458847046,
          -0.7190935015678406,
          -0.7321537137031555,
          -0.7419948577880859,
          -0.7279207110404968,
          -0.7188764214515686,
          -0.42464178800582886,
          -0.7253665328025818,
          -0.7330521941184998,
          -0.7217390537261963,
          -0.4202941656112671,
          -0.13390839099884033,
          -0.05241693556308746,
          -0.20245100557804108,
          -0.2756772041320801,
          -0.5093344449996948,
          -0.13546434044837952,
          -0.1414567232131958,
          -0.09718021750450134,
          -0.1876874715089798,
          0.045983266085386276,
          0.4467388391494751,
          -0.6732386350631714,
          -0.6460868120193481,
          -0.7732229232788086,
          -0.2314450740814209,
          -0.653906524181366,
          -0.6579458117485046,
          -0.33056291937828064,
          -0.2684735059738159,
          -0.5791526436805725,
          -0.6413567662239075,
          0.5648340582847595,
          0.8456774950027466,
          -0.1616477370262146,
          0.38907694816589355,
          0.7367023229598999,
          0.873211145401001,
          -0.5645747780799866,
          -0.6627042889595032,
          -0.7364152669906616,
          -0.7114137411117554,
          -0.25183168053627014,
          -0.7274817228317261,
          -0.6655542254447937,
          -0.4479897618293762,
          -0.684563398361206,
          -0.6741992235183716,
          0.3975055515766144,
          -0.7103220820426941,
          0.4325457215309143,
          0.0768018588423729,
          0.5752980709075928,
          -0.6452240943908691,
          0.7414750456809998,
          0.8289605975151062,
          0.8546562790870667,
          0.8655644059181213,
          0.0054762051440775394,
          0.022736096754670143,
          0.02128562331199646,
          -0.07149296253919601,
          0.02446196787059307,
          0.03633088245987892,
          0.013175562024116516,
          0.07835343480110168,
          0.07143526524305344,
          0.13227644562721252,
          0.08236099034547806,
          0.07790619879961014,
          0.046067021787166595,
          0.565322756767273,
          0.7316933870315552,
          -0.4346209466457367,
          -0.07084443420171738,
          0.0010278142290189862,
          0.13256415724754333,
          0.024044102057814598,
          0.12312287092208862,
          0.07185087352991104,
          0.23499110341072083,
          -0.17068572342395782,
          -0.6682272553443909,
          -0.7276057004928589,
          0.3221725821495056,
          -0.677288830280304,
          -0.822158694267273,
          -0.5051053166389465,
          -0.11646917462348938,
          0.16467739641666412,
          0.8650332093238831,
          -0.3163501024246216,
          -0.16679412126541138,
          -0.23082387447357178,
          0.04417457431554794,
          0.008096275851130486,
          -0.033422280102968216,
          0.12107793241739273,
          0.014182604849338531,
          0.29028740525245667,
          0.34212586283683777,
          0.4193885326385498,
          0.4197191894054413,
          -0.7085763216018677,
          -0.7196729183197021,
          -0.5033406019210815,
          0.6543252468109131,
          0.031390879303216934,
          -0.0037865526974201202,
          0.00328606809489429,
          0.061127278953790665,
          -0.060382697731256485,
          -0.23022930324077606,
          -0.4674068093299866,
          -0.671694815158844,
          -0.2490738481283188,
          -0.705955982208252,
          -0.8240906596183777,
          -0.6267858743667603,
          -0.7222918272018433,
          -0.7588716745376587,
          -0.4952603876590729,
          -0.40812769532203674,
          0.4208625555038452,
          -0.02420545183122158,
          -0.05676959827542305,
          0.035987257957458496,
          0.017881469801068306,
          0.015257909893989563,
          0.002173120155930519,
          -0.08461256325244904,
          -0.046754371374845505,
          -0.1855904459953308,
          0.053307805210351944,
          -0.01872209459543228,
          0.032131556421518326,
          0.1030074954032898,
          0.6574462652206421,
          -0.6904854774475098,
          -0.5693529844284058,
          -0.6202643513679504,
          -0.7345667481422424,
          -0.6136926412582397,
          -0.7273955345153809,
          -0.7009496092796326,
          -0.7254331707954407,
          -0.47035640478134155,
          -0.6992074251174927,
          -0.6876731514930725,
          -0.6709646582603455,
          0.10886523872613907,
          -0.6495754718780518,
          -0.6562865376472473,
          -0.2569567561149597,
          -0.09854105114936829,
          -0.021854696795344353,
          -0.06706412136554718,
          0.4222886264324188,
          0.055413663387298584,
          -0.2184714376926422,
          -0.658990204334259,
          -0.6959242224693298,
          0.008863944560289383,
          -0.025872543454170227,
          -0.08362074196338654,
          0.04926034435629845,
          -0.0019682766869664192,
          0.0455695241689682,
          0.036311402916908264,
          0.07174324989318848,
          -0.009514701552689075,
          0.19290976226329803,
          -0.006408065557479858,
          -0.061075177043676376,
          -0.17157086730003357,
          -0.14536869525909424,
          -0.13993486762046814,
          0.05780040845274925,
          -0.1653759479522705,
          -0.1879323422908783,
          -0.06380297243595123,
          0.04797293245792389,
          0.04131830483675003,
          0.03306829556822777,
          0.040519848465919495,
          0.06560929119586945,
          -0.06223201006650925,
          -0.6714877486228943,
          -0.668586254119873,
          -0.6725595593452454,
          -0.6120314002037048,
          -0.6815723180770874,
          -0.688214123249054,
          -0.6789411306381226,
          -0.6614192128181458,
          -0.17518550157546997,
          -0.2100098580121994,
          -0.38580837845802307,
          0.8662015199661255,
          0.8518232107162476,
          0.5880253314971924,
          0.7809062600135803,
          0.8193395733833313,
          0.09380659461021423,
          0.3780820071697235,
          -0.7491925358772278,
          -0.7431026697158813,
          -0.5127692222595215,
          0.6245383024215698,
          0.2704538106918335,
          0.8577351570129395,
          0.3282805383205414,
          0.8782883286476135,
          0.792903482913971,
          -0.6156633496284485,
          0.9703330993652344,
          0.7723748087882996,
          -0.6627740263938904,
          -0.601904571056366,
          -0.6411561965942383,
          -0.864931583404541,
          -0.6601561307907104,
          -0.6716697216033936,
          -0.6482905149459839,
          -0.6513003706932068,
          0.8156620264053345,
          0.2553466856479645,
          0.40835994482040405,
          -0.7588714957237244,
          0.3685096204280853,
          0.5121188163757324,
          0.24431969225406647,
          0.528382420539856,
          -0.6706420183181763,
          0.33355942368507385,
          0.8524879813194275,
          -0.6735787391662598,
          -0.6395411491394043,
          -0.6202766299247742,
          -0.664509117603302,
          -0.6512538194656372,
          -0.6353956460952759,
          -0.6672720909118652,
          -0.6575061678886414,
          -0.5257205963134766,
          -0.4624637961387634,
          0.7692215442657471,
          0.810077965259552,
          0.5855278372764587,
          0.7745266556739807,
          0.8632791042327881,
          0.8638334274291992,
          0.8771855235099792,
          0.8550805449485779,
          -0.6622002720832825,
          -0.673192024230957,
          -0.8964987397193909,
          0.20889988541603088,
          -0.06234037131071091,
          0.3726654350757599,
          0.5980188846588135,
          0.4161195158958435,
          0.2633375823497772,
          0.44150376319885254,
          -0.9211280345916748,
          -0.7881079912185669,
          0.012994705699384212,
          0.07774166762828827,
          0.5950238704681396,
          0.502331018447876,
          0.30125540494918823,
          0.6298440098762512,
          -0.9458382725715637,
          -0.5367382168769836,
          0.9245848655700684,
          0.9231136441230774,
          0.573512613773346,
          0.43961405754089355,
          -0.6633566617965698,
          -0.6650965213775635,
          0.7325651049613953,
          0.8398680686950684,
          -0.6661885380744934,
          -0.44028589129447937,
          0.3038759231567383,
          0.4990460276603699,
          -0.2007579207420349,
          -0.5200492739677429
         ],
         "y": [
          -0.018674299120903015,
          0.24805636703968048,
          -0.02638666331768036,
          -0.03306969255208969,
          -0.017424896359443665,
          -0.030737752094864845,
          -0.5156904458999634,
          0.42971450090408325,
          -0.3598346412181854,
          0.0025287913158535957,
          0.045539405196905136,
          0.004702780395746231,
          0.013240671716630459,
          -0.03213915973901749,
          0.027393633499741554,
          -0.8171963095664978,
          -0.8919878602027893,
          -0.08416147530078888,
          0.689404308795929,
          -0.016640733927488327,
          0.016104018315672874,
          0.2865713834762573,
          0.8189224004745483,
          0.2309594303369522,
          -0.6838052272796631,
          -0.7131826877593994,
          -0.626899778842926,
          -0.6844364404678345,
          -0.6548484563827515,
          -0.41763070225715637,
          -0.6937478184700012,
          -0.4657087028026581,
          0.5598005056381226,
          -0.4464969336986542,
          0.07950218766927719,
          -0.022913211956620216,
          -0.015928789973258972,
          -0.016184942796826363,
          -0.016305657103657722,
          -0.0336410328745842,
          -0.0248273853212595,
          -0.04283851385116577,
          -0.1739131659269333,
          0.6939753890037537,
          0.15316353738307953,
          0.6542943120002747,
          -0.9770134091377258,
          -0.5959995985031128,
          -0.012953829020261765,
          -0.004930038936436176,
          -0.021871350705623627,
          -0.0161505825817585,
          -0.024803703650832176,
          -0.02386685088276863,
          -0.034202493727207184,
          -0.4132509231567383,
          -0.6035439372062683,
          -0.4333980679512024,
          0.5805549621582031,
          -0.1635126769542694,
          -0.6186167597770691,
          -0.8033138513565063,
          -0.7620169520378113,
          0.7827224135398865,
          0.5227838158607483,
          -0.22576400637626648,
          -0.02015569992363453,
          -0.014565558172762394,
          -0.04092080146074295,
          0.8701378703117371,
          -0.016367660835385323,
          -0.6679295897483826,
          -0.6398253440856934,
          -0.021323807537555695,
          -0.09139224141836166,
          -0.6653264760971069,
          -0.6470897197723389,
          -0.6876797676086426,
          -0.6666207313537598,
          -0.6999855637550354,
          -0.43153998255729675,
          -0.6703540682792664,
          0.0626009851694107,
          0.18839475512504578,
          0.08309358358383179,
          -0.08366020768880844,
          -0.3400706946849823,
          -0.10761280357837677,
          0.04952056705951691,
          -0.5200297832489014,
          0.5171307921409607,
          -0.0775466337800026,
          -0.21038158237934113,
          0.9902110695838928,
          -0.6174695491790771,
          -0.6635432839393616,
          -0.6468299031257629,
          -0.6614500284194946,
          -0.6986761093139648,
          -0.6413640379905701,
          -0.665330171585083,
          -0.7770305871963501,
          -0.6442868113517761,
          -0.40529075264930725,
          -0.7833847403526306,
          0.09154053777456284,
          -0.024557696655392647,
          -0.016349326819181442,
          -0.021512918174266815,
          -0.02181260660290718,
          -0.018776504322886467,
          -0.04554426670074463,
          0.02602347545325756,
          -0.9747735857963562,
          -0.2177213579416275,
          -0.023143144324421883,
          -0.018208302557468414,
          -0.01644260250031948,
          0.9994505643844604,
          0.972690999507904,
          -0.6697397828102112,
          -0.7035051584243774,
          0.38310813903808594,
          -0.6577508449554443,
          -0.67193603515625,
          -0.5492812395095825,
          -0.5276050567626953,
          0.9435939192771912,
          -0.015241469256579876,
          -0.04492774233222008,
          -0.01811555027961731,
          -0.018077418208122253,
          -0.25946685671806335,
          -0.26939913630485535,
          -0.653998076915741,
          -0.6899176836013794,
          -0.03532273694872856,
          0.3178308308124542,
          0.8293931484222412,
          0.03781206160783768,
          0.08286594599485397,
          -0.050469983369112015,
          0.07995034754276276,
          -0.016701437532901764,
          0.15639181435108185,
          0.05851634591817856,
          -0.008189890533685684,
          -0.36512112617492676,
          -0.7020251154899597,
          -0.6736712455749512,
          -0.6515661478042603,
          -0.6910709142684937,
          -0.6708459854125977,
          -0.6423221230506897,
          -0.6225466132164001,
          -0.6505694389343262,
          -0.6756730675697327,
          -0.44943225383758545,
          -0.6615647673606873,
          -0.6432532072067261,
          -0.6649566888809204,
          -0.4092273712158203,
          0.032632894814014435,
          0.16534635424613953,
          -0.21276633441448212,
          0.09687406569719315,
          -0.16456137597560883,
          -0.18940792977809906,
          0.08642453700304031,
          0.1196681335568428,
          -0.032438285648822784,
          0.34186479449272156,
          0.8946600556373596,
          -0.32397565245628357,
          -0.4083586633205414,
          0.608862578868866,
          0.14442893862724304,
          -0.3993036150932312,
          -0.1743355393409729,
          -0.3535681664943695,
          -0.9425238370895386,
          -0.37502676248550415,
          -0.6718838214874268,
          -0.7799630165100098,
          -0.4555708169937134,
          -0.15977051854133606,
          -0.7915419936180115,
          -0.47926077246665955,
          0.24287672340869904,
          -0.7208194732666016,
          -0.7241337895393372,
          -0.6321106553077698,
          -0.677838146686554,
          -0.3872012495994568,
          -0.651806116104126,
          -0.6909002065658569,
          -0.44872164726257324,
          -0.7227917909622192,
          -0.7326792478561401,
          -0.3689688444137573,
          -0.6710150837898254,
          0.06982285529375076,
          -0.1892741173505783,
          0.07957816123962402,
          -0.6898192167282104,
          -0.06892593950033188,
          0.13048169016838074,
          -0.028767811134457588,
          0.14862792193889618,
          -0.035451214760541916,
          -0.018043309450149536,
          -0.018779629841446877,
          0.01965133287012577,
          -0.025112882256507874,
          -0.03029714524745941,
          -0.04282688722014427,
          -0.03382624313235283,
          -0.033939991146326065,
          -0.08381835371255875,
          -0.01021291222423315,
          -0.005703117232769728,
          0.004994526505470276,
          -0.26929670572280884,
          -0.04601676017045975,
          0.8795770406723022,
          0.5408568382263184,
          0.029619168490171432,
          0.012167303822934628,
          -0.017177939414978027,
          -0.0717184841632843,
          -0.017756158486008644,
          -0.04214857891201973,
          -0.13990864157676697,
          -0.6378054618835449,
          -0.663585901260376,
          -0.049804434180259705,
          -0.6988391280174255,
          0.22298948466777802,
          -0.5779998898506165,
          -0.17491208016872406,
          -0.08955225348472595,
          -0.0895887091755867,
          -0.26539257168769836,
          0.05829829350113869,
          -0.20114991068840027,
          -0.01662137545645237,
          -0.030352897942066193,
          -0.038138411939144135,
          0.05358550325036049,
          0.048927322030067444,
          -0.9456944465637207,
          -0.6073108911514282,
          -0.3322969675064087,
          -0.12640447914600372,
          -0.6854430437088013,
          -0.6659093499183655,
          -0.7328958511352539,
          -0.10776042193174362,
          -0.024222394451498985,
          -0.0576920285820961,
          -0.05186845362186432,
          -0.05206436291337013,
          -0.0724758729338646,
          -0.1268094927072525,
          0.7879969477653503,
          -0.3192436695098877,
          -0.19456051290035248,
          -0.2197311669588089,
          -0.25283119082450867,
          -0.6192461848258972,
          -0.6764324307441711,
          -0.64186030626297,
          -0.5592206120491028,
          -0.1008397787809372,
          0.09852902591228485,
          -0.008655737154185772,
          0.013468414545059204,
          -0.054650820791721344,
          -0.04026064649224281,
          -0.03207840025424957,
          -0.03104386478662491,
          0.010438408702611923,
          -0.027150141075253487,
          0.025454584509134293,
          -0.016149064525961876,
          -0.02786032296717167,
          -0.021587898954749107,
          -0.010810716077685356,
          -0.1884923130273819,
          -0.711418867111206,
          -0.7119019627571106,
          -0.653114378452301,
          -0.6363973617553711,
          -0.6532569527626038,
          -0.651462733745575,
          -0.6877374649047852,
          -0.655946671962738,
          -0.6725693941116333,
          -0.6962853670120239,
          -0.7070018649101257,
          -0.6577903628349304,
          -0.010506951250135899,
          -0.6487892866134644,
          -0.6375510096549988,
          0.1308039128780365,
          0.03622090816497803,
          -0.9069985151290894,
          -0.5168417692184448,
          -0.40273910760879517,
          -0.8759897351264954,
          -0.6727734804153442,
          -0.6471818089485168,
          -0.7024239897727966,
          -0.023641349747776985,
          -0.04431089013814926,
          -0.06400628387928009,
          -0.02317158132791519,
          0.025820933282375336,
          -0.035109542310237885,
          -0.01541768666356802,
          -0.04409339278936386,
          -0.04388292878866196,
          -0.07859423011541367,
          0.04085201770067215,
          -0.17328405380249023,
          0.05247490480542183,
          0.11458826810121536,
          -0.013600061647593975,
          0.963301956653595,
          0.8890361189842224,
          0.07153508067131042,
          -0.014001845382153988,
          -0.029653750360012054,
          -0.03645433485507965,
          -0.027713103219866753,
          -0.006913586985319853,
          0.00663621723651886,
          0.00894822645932436,
          -0.2977917194366455,
          -0.313458114862442,
          -0.3080196976661682,
          -0.4416261911392212,
          -0.061333343386650085,
          -0.3066385090351105,
          -0.33916619420051575,
          -0.36527809500694275,
          0.9838041663169861,
          0.9681852459907532,
          0.8773671984672546,
          -0.003829403780400753,
          0.07985233515501022,
          0.25836631655693054,
          0.13452787697315216,
          0.2665937542915344,
          -0.9683425426483154,
          -0.7811500430107117,
          0.3929261267185211,
          0.3114566504955292,
          0.8538468480110168,
          0.32818177342414856,
          0.9615811705589294,
          0.07323306053876877,
          -0.9220800399780273,
          -0.1374577283859253,
          0.3432832658290863,
          0.41103264689445496,
          0.01775982603430748,
          0.4314282536506653,
          -0.2899169623851776,
          -0.4214915335178375,
          -0.3455054461956024,
          0.24258819222450256,
          -0.102960966527462,
          -0.29542696475982666,
          -0.3633171319961548,
          -0.307557612657547,
          0.0820944681763649,
          -0.7632875442504883,
          -0.7734123468399048,
          0.23747409880161285,
          -0.9232854247093201,
          -0.854989230632782,
          0.9128401279449463,
          0.5675595998764038,
          0.027125036343932152,
          -0.9275726079940796,
          -0.28065618872642517,
          -0.2998053729534149,
          -0.4101729393005371,
          -0.3804727792739868,
          -0.29005908966064453,
          -0.34813305735588074,
          -0.37179136276245117,
          0.4314357340335846,
          0.3162822127342224,
          -0.5938930511474609,
          0.8830918073654175,
          0.11067628860473633,
          0.06756053864955902,
          0.7670525312423706,
          0.22792351245880127,
          0.16409516334533691,
          -0.004199131857603788,
          0.08020174503326416,
          -0.007221693638712168,
          0.6982879638671875,
          0.48155930638313293,
          0.03843793272972107,
          0.97738116979599,
          0.35574689507484436,
          0.48920130729675293,
          -0.6148430705070496,
          -0.7834866046905518,
          -0.942107617855072,
          -0.7420948147773743,
          0.16041319072246552,
          0.2871788740158081,
          -0.9968980550765991,
          -0.9789736866950989,
          -0.3179907202720642,
          -0.814441442489624,
          0.9018077254295349,
          0.5895714163780212,
          0.21353040635585785,
          0.8400093913078308,
          -0.04482244327664375,
          -0.005752770695835352,
          0.7624872922897339,
          0.10339661687612534,
          0.41904616355895996,
          0.4018731415271759,
          0.21101903915405273,
          0.2975347936153412,
          -0.584449291229248,
          0.8266994953155518,
          -0.7861741781234741,
          -0.835517168045044,
          -0.02581600658595562,
          -0.07100936770439148
         ],
         "z": [
          -0.9998250007629395,
          0.5319499969482422,
          -0.9972156286239624,
          -0.9948004484176636,
          -0.9989999532699585,
          -0.9986796379089355,
          -0.8537731766700745,
          -0.21115121245384216,
          -0.7245720624923706,
          -0.9960612058639526,
          -0.9985404014587402,
          -0.9822264313697815,
          -0.9981452226638794,
          -0.9992717504501343,
          -0.6754940152168274,
          -0.5740912556648254,
          -0.4512561559677124,
          -0.9781603813171387,
          -0.3055933713912964,
          -0.9982883334159851,
          -0.9987264275550842,
          -0.5600439310073853,
          -0.5387179255485535,
          0.6164610385894775,
          0.1817217320203781,
          0.12277030944824219,
          0.38711950182914734,
          0.16573922336101532,
          0.45688092708587646,
          0.7166879773139954,
          0.3455459177494049,
          0.8359096646308899,
          0.391330748796463,
          0.7713438272476196,
          0.5227168798446655,
          0.55308598279953,
          -0.997814416885376,
          -0.9973405599594116,
          -0.9985811710357666,
          -0.9933775663375854,
          -0.9800708889961243,
          -0.9727365374565125,
          -0.9835695624351501,
          -0.5377463698387146,
          -0.9866827726364136,
          -0.6381160616874695,
          -0.09978191554546356,
          -0.1505032479763031,
          -0.9993303418159485,
          -0.9972952604293823,
          -0.9991941452026367,
          -0.9984652996063232,
          -0.9988417625427246,
          -0.9983140230178833,
          -0.999101459980011,
          -0.5544734001159668,
          0.404645711183548,
          0.709162712097168,
          0.8046918511390686,
          0.8915317058563232,
          0.07939998805522919,
          0.4694686830043793,
          0.42703187465667725,
          -0.6197859048843384,
          0.37876150012016296,
          -0.661666989326477,
          -0.9992209672927856,
          -0.9994184374809265,
          -0.3874182403087616,
          0.28014954924583435,
          -0.9987978935241699,
          0.19326607882976532,
          0.23091615736484528,
          -0.9986208081245422,
          -0.601477324962616,
          0.1997470110654831,
          0.21877937018871307,
          0.14385561645030975,
          0.21349605917930603,
          0.16836634278297424,
          0.8774464130401611,
          0.24189414083957672,
          -0.9977118968963623,
          -0.9507618546485901,
          -0.9956517815589905,
          -0.9900086522102356,
          -0.6552305221557617,
          -0.9941076040267944,
          0.19659288227558136,
          -0.2029966562986374,
          0.12147442251443863,
          -0.9956146478652954,
          -0.6478692293167114,
          0.1279810070991516,
          0.2609063684940338,
          0.19617179036140442,
          0.22154611349105835,
          0.20156511664390564,
          0.19754396378993988,
          0.2190350741147995,
          0.18662703037261963,
          0.6055384874343872,
          0.6601977348327637,
          0.9138693809509277,
          0.3343551456928253,
          0.41955986618995667,
          -0.9990267157554626,
          -0.9985432028770447,
          -0.9982479810714722,
          -0.9992368221282959,
          -0.9991351366043091,
          -0.9869865775108337,
          -0.9850537776947021,
          -0.10693623870611191,
          -0.7340608835220337,
          -0.999488890171051,
          -0.999028205871582,
          -0.9986530542373657,
          0.03313785791397095,
          0.05717131122946739,
          0.15390141308307648,
          -0.16154895722866058,
          -0.10109037160873413,
          0.18504545092582703,
          0.23895969986915588,
          0.740571141242981,
          0.6412547826766968,
          0.1627214252948761,
          -0.999670147895813,
          -0.9989866018295288,
          -0.9984101057052612,
          -0.9989261031150818,
          -0.9170446395874023,
          -0.8376544117927551,
          0.20247386395931244,
          0.17609374225139618,
          -0.9993324875831604,
          -0.25973355770111084,
          0.04945412278175354,
          0.4464375972747803,
          0.37879058718681335,
          -0.9980109333992004,
          -0.9964250922203064,
          -0.9984842538833618,
          -0.9545276165008545,
          -0.9646300673484802,
          -0.993497371673584,
          -0.9309042692184448,
          0.13209658861160278,
          0.1816994696855545,
          0.4505765736103058,
          0.15905536711215973,
          0.18130184710025787,
          0.22665655612945557,
          0.24875561892986298,
          0.21654295921325684,
          0.16334791481494904,
          0.7859325408935547,
          0.19019854068756104,
          0.2210426777601242,
          0.19215941429138184,
          0.8098676800727844,
          -0.9904562830924988,
          -0.9848415851593018,
          -0.9558996558189392,
          -0.9563563466072083,
          -0.8446880578994751,
          -0.9725091457366943,
          -0.9861647486686707,
          -0.9880462884902954,
          -0.9816930294036865,
          -0.9386234879493713,
          -0.0028078414034098387,
          -0.6646723747253418,
          -0.6448372006416321,
          0.17723599076271057,
          -0.9620672464370728,
          -0.6426219344139099,
          -0.7326080799102783,
          -0.8750529885292053,
          -0.19892406463623047,
          -0.7238350510597229,
          -0.37045037746429443,
          -0.26948121190071106,
          -0.2780015170574188,
          -0.9738292098045349,
          -0.47125405073165894,
          0.47705212235450745,
          0.42250826954841614,
          0.40208765864372253,
          0.19092769920825958,
          0.2410990446805954,
          0.18554221093654633,
          0.8869363069534302,
          0.21428793668746948,
          0.2823023200035095,
          0.7732748985290527,
          0.09457867592573166,
          0.0929328203201294,
          0.8401495218276978,
          0.21255925297737122,
          0.8989043235778809,
          0.9789161086082458,
          0.814063549041748,
          0.3283829689025879,
          0.6674308776855469,
          0.5438740253448486,
          0.5183965563774109,
          0.4782344102859497,
          -0.9993563890457153,
          -0.9995787143707275,
          -0.9995970129966736,
          -0.9972475171089172,
          -0.9993852972984314,
          -0.9988804459571838,
          -0.9989956617355347,
          -0.9963515400886536,
          -0.9968676567077637,
          -0.9876626133918762,
          -0.9965502619743347,
          -0.9969444274902344,
          -0.9989258646965027,
          -0.7796726822853088,
          -0.6800788640975952,
          0.19351699948310852,
          -0.8381258845329285,
          -0.9995606541633606,
          -0.9910997748374939,
          -0.9995632767677307,
          -0.9897965788841248,
          -0.9972572922706604,
          -0.9710832238197327,
          -0.9753419756889343,
          0.38298389315605164,
          0.17390695214271545,
          0.9453699588775635,
          0.2300080507993698,
          -0.5237659215927124,
          0.6409249305725098,
          -0.9776710867881775,
          -0.9822737574577332,
          -0.49365103244781494,
          -0.9107630848884583,
          -0.9842667579650879,
          -0.9519762992858887,
          -0.9988855719566345,
          -0.9995064735412598,
          -0.9987133741378784,
          -0.9911956191062927,
          -0.9987016320228577,
          -0.14627093076705933,
          -0.7170239090919495,
          0.844802975654602,
          0.898809015750885,
          0.16759295761585236,
          0.19655945897102356,
          0.4577246904373169,
          0.7484959363937378,
          -0.999213695526123,
          -0.9983272552490234,
          -0.9986485242843628,
          -0.9967711567878723,
          -0.9955406188964844,
          -0.9648388028144836,
          0.40073904395103455,
          -0.6685128808021545,
          -0.9487404227256775,
          -0.6733085513114929,
          -0.5069034099578857,
          0.4729415476322174,
          0.14399182796478271,
          0.11013153195381165,
          0.6648228764533997,
          0.9073385000228882,
          0.901757538318634,
          -0.9996694922447205,
          -0.9982964992523193,
          -0.997856855392456,
          -0.9990292191505432,
          -0.9993689060211182,
          -0.9995157122612,
          -0.9963592290878296,
          -0.9985373616218567,
          -0.982297420501709,
          -0.9984475374221802,
          -0.9994364976882935,
          -0.9992504715919495,
          -0.9946218729019165,
          -0.729544460773468,
          0.13081692159175873,
          0.4111359417438507,
          0.4344121217727661,
          0.23539365828037262,
          0.44343745708465576,
          0.21562045812606812,
          0.18890966475009918,
          0.2085203230381012,
          0.5713275074958801,
          0.16215910017490387,
          0.16508808732032776,
          0.342225581407547,
          0.994001030921936,
          0.39638879895210266,
          0.4035053551197052,
          -0.9575299024581909,
          -0.9944735765457153,
          -0.4205664098262787,
          -0.8534500002861023,
          -0.8120797872543335,
          -0.47913601994514465,
          0.7068564295768738,
          0.38325926661491394,
          0.14929836988449097,
          -0.9996812343597412,
          -0.9986827373504639,
          -0.994439959526062,
          -0.9985170960426331,
          -0.9996646642684937,
          -0.9983440041542053,
          -0.9992216229438782,
          -0.9964480400085449,
          -0.9989913702011108,
          -0.9780638217926025,
          -0.9991446733474731,
          -0.9829763174057007,
          -0.9837732911109924,
          -0.9827194213867188,
          -0.9900673031806946,
          0.2621228098869324,
          0.4269258677959442,
          -0.9795734286308289,
          -0.9978642463684082,
          -0.998408317565918,
          -0.9984807372093201,
          -0.9990687966346741,
          -0.999154806137085,
          -0.9978233575820923,
          -0.9980216026306152,
          -0.6785457730293274,
          -0.6743414998054504,
          -0.6728948950767517,
          -0.6560365557670593,
          -0.729175865650177,
          -0.6575212478637695,
          -0.6511568427085876,
          -0.6550546288490295,
          0.03793833404779434,
          0.13606302440166473,
          0.28526952862739563,
          0.49968013167381287,
          0.5177072882652283,
          0.7664679288864136,
          0.6099898219108582,
          0.5075535178184509,
          0.23132891952991486,
          0.49684855341911316,
          -0.5332163572311401,
          -0.5922779440879822,
          0.08951752632856369,
          0.7086949944496155,
          -0.047079022973775864,
          0.508849024772644,
          0.2049398124217987,
          0.45794638991355896,
          0.5034486651420593,
          0.6723175048828125,
          0.2411186546087265,
          0.46616169810295105,
          -0.6904191970825195,
          -0.6782740950584412,
          -0.6852334141731262,
          -0.4393681287765503,
          -0.7440382242202759,
          -0.6793988347053528,
          -0.6691187620162964,
          -0.693697452545166,
          0.5726743936538696,
          0.5934562087059021,
          0.48484575748443604,
          -0.6063992977142334,
          0.10837338864803314,
          0.08202214539051056,
          0.3271557092666626,
          0.6314175724983215,
          -0.7412850856781006,
          0.1683662235736847,
          0.4410174787044525,
          -0.6755800843238831,
          -0.6501885652542114,
          -0.6859281659126282,
          -0.6886897087097168,
          -0.674293577671051,
          -0.6767891049385071,
          -0.6071336269378662,
          -0.6838502883911133,
          -0.609022855758667,
          0.07922202348709106,
          0.629324197769165,
          0.5824167728424072,
          0.26227378845214844,
          0.590050220489502,
          0.47730711102485657,
          0.5037599802017212,
          0.47340619564056396,
          0.5184448957443237,
          -0.2718174457550049,
          -0.5611712336540222,
          0.44137564301490784,
          0.03296774998307228,
          0.9325007796287537,
          0.7885445356369019,
          0.5141414403915405,
          0.46151190996170044,
          0.20757274329662323,
          0.5043507218360901,
          -0.3546701669692993,
          -0.5444391965866089,
          -0.07762427628040314,
          -0.18859106302261353,
          0.7381250262260437,
          0.2904283404350281,
          0.3098192811012268,
          0.5056700110435486,
          -0.24452947080135345,
          0.07934940606355667,
          0.3783303201198578,
          0.3844843804836273,
          0.2994934916496277,
          0.8922156095504761,
          -0.6199662685394287,
          -0.6294002532958984,
          0.6471624970436096,
          0.45397672057151794,
          -0.4632622301578522,
          -0.3503090441226959,
          0.5381353497505188,
          0.22992178797721863,
          0.9793006777763367,
          -0.8511794805526733
         ],
         "type": "scatter3d"
        }
       ],
       "layout": {
        "template": {
         "data": {
          "barpolar": [
           {
            "marker": {
             "line": {
              "color": "rgb(17,17,17)",
              "width": 0.5
             },
             "pattern": {
              "fillmode": "overlay",
              "size": 10,
              "solidity": 0.2
             }
            },
            "type": "barpolar"
           }
          ],
          "bar": [
           {
            "error_x": {
             "color": "#f2f5fa"
            },
            "error_y": {
             "color": "#f2f5fa"
            },
            "marker": {
             "line": {
              "color": "rgb(17,17,17)",
              "width": 0.5
             },
             "pattern": {
              "fillmode": "overlay",
              "size": 10,
              "solidity": 0.2
             }
            },
            "type": "bar"
           }
          ],
          "carpet": [
           {
            "aaxis": {
             "endlinecolor": "#A2B1C6",
             "gridcolor": "#506784",
             "linecolor": "#506784",
             "minorgridcolor": "#506784",
             "startlinecolor": "#A2B1C6"
            },
            "baxis": {
             "endlinecolor": "#A2B1C6",
             "gridcolor": "#506784",
             "linecolor": "#506784",
             "minorgridcolor": "#506784",
             "startlinecolor": "#A2B1C6"
            },
            "type": "carpet"
           }
          ],
          "choropleth": [
           {
            "colorbar": {
             "outlinewidth": 0,
             "ticks": ""
            },
            "type": "choropleth"
           }
          ],
          "contourcarpet": [
           {
            "colorbar": {
             "outlinewidth": 0,
             "ticks": ""
            },
            "type": "contourcarpet"
           }
          ],
          "contour": [
           {
            "colorbar": {
             "outlinewidth": 0,
             "ticks": ""
            },
            "colorscale": [
             [
              0.0,
              "#0d0887"
             ],
             [
              0.1111111111111111,
              "#46039f"
             ],
             [
              0.2222222222222222,
              "#7201a8"
             ],
             [
              0.3333333333333333,
              "#9c179e"
             ],
             [
              0.4444444444444444,
              "#bd3786"
             ],
             [
              0.5555555555555556,
              "#d8576b"
             ],
             [
              0.6666666666666666,
              "#ed7953"
             ],
             [
              0.7777777777777778,
              "#fb9f3a"
             ],
             [
              0.8888888888888888,
              "#fdca26"
             ],
             [
              1.0,
              "#f0f921"
             ]
            ],
            "type": "contour"
           }
          ],
          "heatmapgl": [
           {
            "colorbar": {
             "outlinewidth": 0,
             "ticks": ""
            },
            "colorscale": [
             [
              0.0,
              "#0d0887"
             ],
             [
              0.1111111111111111,
              "#46039f"
             ],
             [
              0.2222222222222222,
              "#7201a8"
             ],
             [
              0.3333333333333333,
              "#9c179e"
             ],
             [
              0.4444444444444444,
              "#bd3786"
             ],
             [
              0.5555555555555556,
              "#d8576b"
             ],
             [
              0.6666666666666666,
              "#ed7953"
             ],
             [
              0.7777777777777778,
              "#fb9f3a"
             ],
             [
              0.8888888888888888,
              "#fdca26"
             ],
             [
              1.0,
              "#f0f921"
             ]
            ],
            "type": "heatmapgl"
           }
          ],
          "heatmap": [
           {
            "colorbar": {
             "outlinewidth": 0,
             "ticks": ""
            },
            "colorscale": [
             [
              0.0,
              "#0d0887"
             ],
             [
              0.1111111111111111,
              "#46039f"
             ],
             [
              0.2222222222222222,
              "#7201a8"
             ],
             [
              0.3333333333333333,
              "#9c179e"
             ],
             [
              0.4444444444444444,
              "#bd3786"
             ],
             [
              0.5555555555555556,
              "#d8576b"
             ],
             [
              0.6666666666666666,
              "#ed7953"
             ],
             [
              0.7777777777777778,
              "#fb9f3a"
             ],
             [
              0.8888888888888888,
              "#fdca26"
             ],
             [
              1.0,
              "#f0f921"
             ]
            ],
            "type": "heatmap"
           }
          ],
          "histogram2dcontour": [
           {
            "colorbar": {
             "outlinewidth": 0,
             "ticks": ""
            },
            "colorscale": [
             [
              0.0,
              "#0d0887"
             ],
             [
              0.1111111111111111,
              "#46039f"
             ],
             [
              0.2222222222222222,
              "#7201a8"
             ],
             [
              0.3333333333333333,
              "#9c179e"
             ],
             [
              0.4444444444444444,
              "#bd3786"
             ],
             [
              0.5555555555555556,
              "#d8576b"
             ],
             [
              0.6666666666666666,
              "#ed7953"
             ],
             [
              0.7777777777777778,
              "#fb9f3a"
             ],
             [
              0.8888888888888888,
              "#fdca26"
             ],
             [
              1.0,
              "#f0f921"
             ]
            ],
            "type": "histogram2dcontour"
           }
          ],
          "histogram2d": [
           {
            "colorbar": {
             "outlinewidth": 0,
             "ticks": ""
            },
            "colorscale": [
             [
              0.0,
              "#0d0887"
             ],
             [
              0.1111111111111111,
              "#46039f"
             ],
             [
              0.2222222222222222,
              "#7201a8"
             ],
             [
              0.3333333333333333,
              "#9c179e"
             ],
             [
              0.4444444444444444,
              "#bd3786"
             ],
             [
              0.5555555555555556,
              "#d8576b"
             ],
             [
              0.6666666666666666,
              "#ed7953"
             ],
             [
              0.7777777777777778,
              "#fb9f3a"
             ],
             [
              0.8888888888888888,
              "#fdca26"
             ],
             [
              1.0,
              "#f0f921"
             ]
            ],
            "type": "histogram2d"
           }
          ],
          "histogram": [
           {
            "marker": {
             "pattern": {
              "fillmode": "overlay",
              "size": 10,
              "solidity": 0.2
             }
            },
            "type": "histogram"
           }
          ],
          "mesh3d": [
           {
            "colorbar": {
             "outlinewidth": 0,
             "ticks": ""
            },
            "type": "mesh3d"
           }
          ],
          "parcoords": [
           {
            "line": {
             "colorbar": {
              "outlinewidth": 0,
              "ticks": ""
             }
            },
            "type": "parcoords"
           }
          ],
          "pie": [
           {
            "automargin": true,
            "type": "pie"
           }
          ],
          "scatter3d": [
           {
            "line": {
             "colorbar": {
              "outlinewidth": 0,
              "ticks": ""
             }
            },
            "marker": {
             "colorbar": {
              "outlinewidth": 0,
              "ticks": ""
             }
            },
            "type": "scatter3d"
           }
          ],
          "scattercarpet": [
           {
            "marker": {
             "colorbar": {
              "outlinewidth": 0,
              "ticks": ""
             }
            },
            "type": "scattercarpet"
           }
          ],
          "scattergeo": [
           {
            "marker": {
             "colorbar": {
              "outlinewidth": 0,
              "ticks": ""
             }
            },
            "type": "scattergeo"
           }
          ],
          "scattergl": [
           {
            "marker": {
             "line": {
              "color": "#283442"
             }
            },
            "type": "scattergl"
           }
          ],
          "scattermapbox": [
           {
            "marker": {
             "colorbar": {
              "outlinewidth": 0,
              "ticks": ""
             }
            },
            "type": "scattermapbox"
           }
          ],
          "scatterpolargl": [
           {
            "marker": {
             "colorbar": {
              "outlinewidth": 0,
              "ticks": ""
             }
            },
            "type": "scatterpolargl"
           }
          ],
          "scatterpolar": [
           {
            "marker": {
             "colorbar": {
              "outlinewidth": 0,
              "ticks": ""
             }
            },
            "type": "scatterpolar"
           }
          ],
          "scatter": [
           {
            "marker": {
             "line": {
              "color": "#283442"
             }
            },
            "type": "scatter"
           }
          ],
          "scatterternary": [
           {
            "marker": {
             "colorbar": {
              "outlinewidth": 0,
              "ticks": ""
             }
            },
            "type": "scatterternary"
           }
          ],
          "surface": [
           {
            "colorbar": {
             "outlinewidth": 0,
             "ticks": ""
            },
            "colorscale": [
             [
              0.0,
              "#0d0887"
             ],
             [
              0.1111111111111111,
              "#46039f"
             ],
             [
              0.2222222222222222,
              "#7201a8"
             ],
             [
              0.3333333333333333,
              "#9c179e"
             ],
             [
              0.4444444444444444,
              "#bd3786"
             ],
             [
              0.5555555555555556,
              "#d8576b"
             ],
             [
              0.6666666666666666,
              "#ed7953"
             ],
             [
              0.7777777777777778,
              "#fb9f3a"
             ],
             [
              0.8888888888888888,
              "#fdca26"
             ],
             [
              1.0,
              "#f0f921"
             ]
            ],
            "type": "surface"
           }
          ],
          "table": [
           {
            "cells": {
             "fill": {
              "color": "#506784"
             },
             "line": {
              "color": "rgb(17,17,17)"
             }
            },
            "header": {
             "fill": {
              "color": "#2a3f5f"
             },
             "line": {
              "color": "rgb(17,17,17)"
             }
            },
            "type": "table"
           }
          ]
         },
         "layout": {
          "annotationdefaults": {
           "arrowcolor": "#f2f5fa",
           "arrowhead": 0,
           "arrowwidth": 1
          },
          "autotypenumbers": "strict",
          "coloraxis": {
           "colorbar": {
            "outlinewidth": 0,
            "ticks": ""
           }
          },
          "colorscale": {
           "diverging": [
            [
             0,
             "#8e0152"
            ],
            [
             0.1,
             "#c51b7d"
            ],
            [
             0.2,
             "#de77ae"
            ],
            [
             0.3,
             "#f1b6da"
            ],
            [
             0.4,
             "#fde0ef"
            ],
            [
             0.5,
             "#f7f7f7"
            ],
            [
             0.6,
             "#e6f5d0"
            ],
            [
             0.7,
             "#b8e186"
            ],
            [
             0.8,
             "#7fbc41"
            ],
            [
             0.9,
             "#4d9221"
            ],
            [
             1,
             "#276419"
            ]
           ],
           "sequential": [
            [
             0.0,
             "#0d0887"
            ],
            [
             0.1111111111111111,
             "#46039f"
            ],
            [
             0.2222222222222222,
             "#7201a8"
            ],
            [
             0.3333333333333333,
             "#9c179e"
            ],
            [
             0.4444444444444444,
             "#bd3786"
            ],
            [
             0.5555555555555556,
             "#d8576b"
            ],
            [
             0.6666666666666666,
             "#ed7953"
            ],
            [
             0.7777777777777778,
             "#fb9f3a"
            ],
            [
             0.8888888888888888,
             "#fdca26"
            ],
            [
             1.0,
             "#f0f921"
            ]
           ],
           "sequentialminus": [
            [
             0.0,
             "#0d0887"
            ],
            [
             0.1111111111111111,
             "#46039f"
            ],
            [
             0.2222222222222222,
             "#7201a8"
            ],
            [
             0.3333333333333333,
             "#9c179e"
            ],
            [
             0.4444444444444444,
             "#bd3786"
            ],
            [
             0.5555555555555556,
             "#d8576b"
            ],
            [
             0.6666666666666666,
             "#ed7953"
            ],
            [
             0.7777777777777778,
             "#fb9f3a"
            ],
            [
             0.8888888888888888,
             "#fdca26"
            ],
            [
             1.0,
             "#f0f921"
            ]
           ]
          },
          "colorway": [
           "#636efa",
           "#EF553B",
           "#00cc96",
           "#ab63fa",
           "#FFA15A",
           "#19d3f3",
           "#FF6692",
           "#B6E880",
           "#FF97FF",
           "#FECB52"
          ],
          "font": {
           "color": "#f2f5fa"
          },
          "geo": {
           "bgcolor": "rgb(17,17,17)",
           "lakecolor": "rgb(17,17,17)",
           "landcolor": "rgb(17,17,17)",
           "showlakes": true,
           "showland": true,
           "subunitcolor": "#506784"
          },
          "hoverlabel": {
           "align": "left"
          },
          "hovermode": "closest",
          "mapbox": {
           "style": "dark"
          },
          "paper_bgcolor": "rgb(17,17,17)",
          "plot_bgcolor": "rgb(17,17,17)",
          "polar": {
           "angularaxis": {
            "gridcolor": "#506784",
            "linecolor": "#506784",
            "ticks": ""
           },
           "bgcolor": "rgb(17,17,17)",
           "radialaxis": {
            "gridcolor": "#506784",
            "linecolor": "#506784",
            "ticks": ""
           }
          },
          "scene": {
           "xaxis": {
            "backgroundcolor": "rgb(17,17,17)",
            "gridcolor": "#506784",
            "gridwidth": 2,
            "linecolor": "#506784",
            "showbackground": true,
            "ticks": "",
            "zerolinecolor": "#C8D4E3"
           },
           "yaxis": {
            "backgroundcolor": "rgb(17,17,17)",
            "gridcolor": "#506784",
            "gridwidth": 2,
            "linecolor": "#506784",
            "showbackground": true,
            "ticks": "",
            "zerolinecolor": "#C8D4E3"
           },
           "zaxis": {
            "backgroundcolor": "rgb(17,17,17)",
            "gridcolor": "#506784",
            "gridwidth": 2,
            "linecolor": "#506784",
            "showbackground": true,
            "ticks": "",
            "zerolinecolor": "#C8D4E3"
           }
          },
          "shapedefaults": {
           "line": {
            "color": "#f2f5fa"
           }
          },
          "sliderdefaults": {
           "bgcolor": "#C8D4E3",
           "bordercolor": "rgb(17,17,17)",
           "borderwidth": 1,
           "tickwidth": 0
          },
          "ternary": {
           "aaxis": {
            "gridcolor": "#506784",
            "linecolor": "#506784",
            "ticks": ""
           },
           "baxis": {
            "gridcolor": "#506784",
            "linecolor": "#506784",
            "ticks": ""
           },
           "bgcolor": "rgb(17,17,17)",
           "caxis": {
            "gridcolor": "#506784",
            "linecolor": "#506784",
            "ticks": ""
           }
          },
          "title": {
           "x": 0.05
          },
          "updatemenudefaults": {
           "bgcolor": "#506784",
           "borderwidth": 0
          },
          "xaxis": {
           "automargin": true,
           "gridcolor": "#283442",
           "linecolor": "#506784",
           "ticks": "",
           "title": {
            "standoff": 15
           },
           "zerolinecolor": "#283442",
           "zerolinewidth": 2
          },
          "yaxis": {
           "automargin": true,
           "gridcolor": "#283442",
           "linecolor": "#506784",
           "ticks": "",
           "title": {
            "standoff": 15
           },
           "zerolinecolor": "#283442",
           "zerolinewidth": 2
          }
         }
        },
        "scene": {
         "domain": {
          "x": [
           0.0,
           1.0
          ],
          "y": [
           0.0,
           1.0
          ]
         },
         "xaxis": {
          "title": {
           "text": "X"
          }
         },
         "yaxis": {
          "title": {
           "text": "Y"
          }
         },
         "zaxis": {
          "title": {
           "text": "Z"
          }
         }
        },
        "coloraxis": {
         "colorbar": {
          "title": {
           "text": "tIdx"
          }
         },
         "colorscale": [
          [
           0.0,
           "rgb(150,0,90)"
          ],
          [
           0.125,
           "rgb(0,0,200)"
          ],
          [
           0.25,
           "rgb(0,25,255)"
          ],
          [
           0.375,
           "rgb(0,152,255)"
          ],
          [
           0.5,
           "rgb(44,255,150)"
          ],
          [
           0.625,
           "rgb(151,255,0)"
          ],
          [
           0.75,
           "rgb(255,234,0)"
          ],
          [
           0.875,
           "rgb(255,111,0)"
          ],
          [
           1.0,
           "rgb(255,0,0)"
          ]
         ]
        },
        "legend": {
         "tracegroupgap": 0,
         "itemsizing": "constant"
        },
        "margin": {
         "t": 60
        }
       },
       "config": {
        "plotlyServerURL": "https://plot.ly"
       }
      },
      "text/html": [
       "<div>                            <div id=\"bfb0eb75-027a-48e2-b0f0-f19659adb662\" class=\"plotly-graph-div\" style=\"height:525px; width:100%;\"></div>            <script type=\"text/javascript\">                require([\"plotly\"], function(Plotly) {                    window.PLOTLYENV=window.PLOTLYENV || {};                                    if (document.getElementById(\"bfb0eb75-027a-48e2-b0f0-f19659adb662\")) {                    Plotly.newPlot(                        \"bfb0eb75-027a-48e2-b0f0-f19659adb662\",                        [{\"hovertemplate\":\"X=%{x}\\u003cbr\\u003eY=%{y}\\u003cbr\\u003eZ=%{z}\\u003cbr\\u003ept=%{marker.size}\\u003cbr\\u003etIdx=%{marker.color}\\u003cextra\\u003e\\u003c\\u002fextra\\u003e\",\"legendgroup\":\"\",\"marker\":{\"color\":[-1.0,1.0,-1.0,-1.0,-1.0,-1.0,-1.0,-1.0,-1.0,-1.0,-1.0,-1.0,-1.0,-1.0,-1.0,-1.0,-1.0,-1.0,-1.0,-1.0,-1.0,-1.0,-1.0,1.0,-1.0,-1.0,-1.0,-1.0,-1.0,-1.0,-1.0,-1.0,1.0,-1.0,1.0,1.0,-1.0,-1.0,-1.0,-1.0,-1.0,-1.0,-1.0,-1.0,-1.0,-1.0,-1.0,-1.0,-1.0,-1.0,-1.0,-1.0,-1.0,-1.0,-1.0,-1.0,-1.0,-1.0,-1.0,-1.0,-1.0,-1.0,-1.0,-1.0,-1.0,-1.0,-1.0,-1.0,-1.0,-1.0,-1.0,-1.0,-1.0,-1.0,-1.0,-1.0,-1.0,-1.0,-1.0,-1.0,-1.0,-1.0,-1.0,-1.0,-1.0,-1.0,-1.0,-1.0,-1.0,-1.0,-1.0,-1.0,0.0,-1.0,-1.0,-1.0,-1.0,-1.0,-1.0,-1.0,-1.0,-1.0,-1.0,-1.0,-1.0,1.0,-1.0,-1.0,-1.0,-1.0,-1.0,-1.0,-1.0,-1.0,-1.0,-1.0,-1.0,-1.0,-1.0,-1.0,-1.0,-1.0,-1.0,-1.0,-1.0,-1.0,-1.0,-1.0,-1.0,-1.0,-1.0,-1.0,0.0,-1.0,-1.0,-1.0,-1.0,-1.0,-1.0,1.0,1.0,-1.0,-1.0,-1.0,-1.0,-1.0,-1.0,-1.0,-1.0,-1.0,-1.0,-1.0,-1.0,-1.0,-1.0,-1.0,-1.0,-1.0,-1.0,-1.0,-1.0,-1.0,-1.0,-1.0,0.0,-1.0,-1.0,-1.0,-1.0,-1.0,-1.0,-1.0,-1.0,0.0,0.0,-1.0,-1.0,0.0,0.0,-1.0,-1.0,-1.0,0.0,-1.0,-1.0,-1.0,-1.0,-1.0,1.0,-1.0,-1.0,-1.0,-1.0,-1.0,-1.0,-1.0,-1.0,-1.0,-1.0,-1.0,-1.0,-1.0,-1.0,-1.0,-1.0,1.0,1.0,1.0,1.0,-1.0,-1.0,-1.0,-1.0,-1.0,-1.0,-1.0,-1.0,-1.0,-1.0,-1.0,-1.0,-1.0,-1.0,-1.0,-1.0,-1.0,-1.0,-1.0,-1.0,-1.0,-1.0,-1.0,-1.0,-1.0,-1.0,-1.0,-1.0,-1.0,-1.0,-1.0,-1.0,-1.0,-1.0,-1.0,0.0,-1.0,-1.0,-1.0,-1.0,-1.0,-1.0,-1.0,-1.0,-1.0,-1.0,-1.0,-1.0,-1.0,-1.0,-1.0,-1.0,-1.0,-1.0,-1.0,-1.0,0.0,-1.0,-1.0,-1.0,-1.0,-1.0,-1.0,-1.0,-1.0,-1.0,-1.0,-1.0,-1.0,-1.0,-1.0,-1.0,-1.0,-1.0,-1.0,-1.0,-1.0,-1.0,-1.0,-1.0,-1.0,-1.0,-1.0,-1.0,-1.0,-1.0,-1.0,-1.0,-1.0,-1.0,-1.0,-1.0,-1.0,-1.0,-1.0,-1.0,-1.0,-1.0,-1.0,-1.0,-1.0,-1.0,-1.0,-1.0,-1.0,-1.0,-1.0,-1.0,-1.0,-1.0,-1.0,-1.0,-1.0,-1.0,-1.0,-1.0,-1.0,-1.0,-1.0,-1.0,-1.0,-1.0,-1.0,-1.0,-1.0,-1.0,-1.0,-1.0,-1.0,0.0,0.0,0.0,0.0,-1.0,-1.0,-1.0,0.0,-1.0,-1.0,-1.0,1.0,1.0,-1.0,1.0,1.0,-1.0,-1.0,-1.0,-1.0,-1.0,1.0,-1.0,-1.0,-1.0,-1.0,1.0,-1.0,-1.0,-1.0,0.0,0.0,0.0,-1.0,-1.0,-1.0,-1.0,0.0,-1.0,-1.0,-1.0,-1.0,-1.0,-1.0,-1.0,-1.0,-1.0,-1.0,-1.0,0.0,0.0,0.0,0.0,0.0,0.0,-1.0,-1.0,-1.0,-1.0,1.0,-1.0,1.0,1.0,1.0,1.0,1.0,1.0,-1.0,-1.0,-1.0,-1.0,-1.0,1.0,-1.0,-1.0,-1.0,-1.0,-1.0,-1.0,-1.0,-1.0,-1.0,-1.0,-1.0,1.0,-1.0,-1.0,-1.0,1.0,-1.0,1.0,-1.0,-1.0,1.0,1.0,-1.0,-1.0,-1.0,-1.0,-1.0,-1.0],\"coloraxis\":\"coloraxis\",\"opacity\":0.5,\"size\":[0.615234375,0.54052734375,4.40234375,0.2548828125,0.1575927734375,0.4326171875,0.62255859375,0.4228515625,0.8134765625,0.363525390625,0.07470703125,0.7978515625,0.08807373046875,0.0762939453125,1.267578125,1.6337890625,0.1307373046875,0.0352783203125,0.62451171875,0.319091796875,0.52978515625,0.7236328125,0.339111328125,1.0107421875,0.369384765625,0.6435546875,0.2607421875,1.3203125,0.138916015625,0.2401123046875,0.4150390625,0.853515625,0.630859375,0.126708984375,1.4365234375,17.875,0.19287109375,0.763671875,0.64404296875,1.947265625,0.45751953125,1.384765625,0.395263671875,1.021484375,0.81494140625,1.9208984375,1.65625,0.86767578125,0.53857421875,0.146484375,0.53955078125,0.8193359375,0.1912841796875,0.225830078125,0.273193359375,0.6396484375,0.446533203125,0.16455078125,0.28515625,0.433349609375,1.3857421875,0.279296875,0.67626953125,0.1248779296875,0.214111328125,0.54833984375,0.146728515625,1.0751953125,0.346435546875,1.37890625,0.775390625,0.2176513671875,0.31201171875,0.414306640625,0.55419921875,0.1690673828125,0.8564453125,0.455078125,0.81005859375,0.77099609375,0.318115234375,0.215087890625,0.5185546875,0.97900390625,0.166015625,0.6728515625,1.556640625,0.312255859375,0.5341796875,0.943359375,0.1639404296875,0.302490234375,0.998046875,0.630859375,1.5556640625,0.72412109375,0.306396484375,1.314453125,0.330078125,0.892578125,1.0263671875,0.58837890625,0.77197265625,0.050201416015625,0.91259765625,0.85205078125,0.205078125,0.474365234375,1.7919921875,0.0692138671875,1.12109375,1.716796875,0.4130859375,1.1943359375,0.358642578125,0.12548828125,0.404296875,0.341796875,0.345458984375,0.10125732421875,0.458984375,1.39453125,1.14453125,0.36181640625,0.324951171875,0.10906982421875,0.2998046875,0.53564453125,0.1842041015625,0.1630859375,0.461669921875,0.267822265625,0.10333251953125,0.79443359375,1.1484375,0.1407470703125,0.142578125,5.671875,16.875,38.21875,71.0,0.387939453125,0.251708984375,0.56298828125,0.63720703125,0.20068359375,0.1806640625,0.422119140625,0.309326171875,0.1455078125,0.10345458984375,0.2027587890625,0.1556396484375,0.324462890625,0.5107421875,0.11572265625,0.1982421875,0.17333984375,0.2471923828125,0.78466796875,0.95166015625,0.1201171875,0.1767578125,0.568359375,0.0205078125,0.305419921875,0.294677734375,0.019012451171875,0.48876953125,0.426513671875,0.1439208984375,0.1402587890625,0.191650390625,0.50439453125,0.8486328125,0.21142578125,0.10382080078125,1.5556640625,0.0721435546875,0.043792724609375,0.5126953125,0.95068359375,0.319580078125,1.099609375,0.9619140625,0.01233673095703125,0.2138671875,0.49462890625,0.8818359375,0.16259765625,0.261962890625,1.134765625,0.42333984375,0.003917694091796875,0.375244140625,0.140625,0.14697265625,0.87890625,0.47509765625,0.1939697265625,0.54248046875,0.490966796875,0.018890380859375,0.4970703125,0.10858154296875,2.75390625,0.39990234375,5.22265625,0.441650390625,0.1529541015625,0.50439453125,0.529296875,0.1573486328125,0.298583984375,0.0921630859375,0.144775390625,0.22509765625,0.9853515625,0.469970703125,0.367919921875,0.2017822265625,0.0704345703125,0.18798828125,1.46484375,0.49755859375,0.277099609375,0.100341796875,0.3359375,0.043121337890625,0.40625,0.1861572265625,0.434814453125,0.0079803466796875,0.10430908203125,0.348388671875,0.0196533203125,0.1290283203125,0.28515625,0.052886962890625,0.2352294921875,0.334716796875,0.344970703125,0.0195465087890625,0.2305908203125,0.026031494140625,0.31640625,0.40771484375,0.06927490234375,0.763671875,0.252197265625,0.5537109375,0.274169921875,0.474365234375,0.1246337890625,0.59521484375,0.92724609375,0.2269287109375,0.20947265625,0.1251220703125,0.377685546875,0.05828857421875,0.191162109375,0.0811767578125,0.02642822265625,0.0379638671875,0.380615234375,0.01161956787109375,0.623046875,0.247802734375,0.046142578125,0.3125,0.6796875,0.132568359375,0.15234375,0.030548095703125,0.151123046875,0.277587890625,0.252685546875,0.09893798828125,0.38330078125,0.0889892578125,0.03594970703125,0.07366943359375,0.0775146484375,1.017578125,0.1290283203125,0.38330078125,0.134033203125,0.31005859375,0.37548828125,0.08538818359375,0.10205078125,2.009765625,0.10345458984375,1.25,0.0791015625,0.271240234375,0.01467132568359375,0.1295166015625,0.218994140625,0.0706787109375,0.01202392578125,0.1790771484375,0.18310546875,0.48681640625,0.055572509765625,0.343505859375,0.01806640625,0.13720703125,0.112060546875,0.05694580078125,0.07147216796875,0.19970703125,0.12493896484375,0.2388916015625,0.10479736328125,0.2342529296875,0.083984375,0.3427734375,0.06854248046875,0.59521484375,0.040771484375,0.60400390625,0.234130859375,0.08056640625,0.0772705078125,0.1656494140625,0.0215301513671875,0.157958984375,0.196044921875,0.135986328125,0.02520751953125,0.06500244140625,0.126953125,0.0672607421875,0.115234375,0.210693359375,0.029205322265625,29.71875,13.7890625,11.1484375,1.21875,2.265625,2.9296875,6.015625,9.1875,0.40673828125,2.337890625,1.568359375,4.26171875,1.39453125,0.07220458984375,0.72509765625,0.320068359375,0.6005859375,3.63671875,2.693359375,2.37109375,0.59765625,0.1495361328125,0.1451416015625,0.468505859375,0.8642578125,7.68359375,0.75537109375,0.11578369140625,0.7314453125,1.6982421875,25.75,1.4951171875,2.8984375,0.443603515625,3.453125,2.4296875,3.826171875,0.5439453125,0.31689453125,0.79345703125,1.474609375,3.0859375,2.138671875,1.23046875,1.5556640625,4.03125,4.01953125,0.97705078125,1.888671875,17.796875,0.7734375,1.4599609375,26.34375,3.89453125,1.916015625,1.146484375,5.328125,0.044525146484375,0.132080078125,0.69189453125,0.09136962890625,0.28662109375,0.306884765625,0.3935546875,2.294921875,1.2705078125,3.626953125,0.71142578125,0.8720703125,0.07440185546875,0.2484130859375,0.044952392578125,0.142822265625,0.9345703125,2.109375,0.2337646484375,1.990234375,0.40869140625,1.7880859375,1.4111328125,0.8876953125,0.11041259765625,1.013671875,0.232666015625,1.837890625,0.273681640625,0.1556396484375,1.0732421875,1.416015625,1.4990234375,0.0195465087890625,1.3310546875,3.244140625,0.06817626953125,0.1566162109375,0.11688232421875,0.1859130859375,0.84814453125,0.016815185546875,0.013031005859375,0.060516357421875],\"sizemode\":\"area\",\"sizeref\":0.1775,\"symbol\":\"circle\",\"line\":{\"width\":0}},\"mode\":\"markers\",\"name\":\"\",\"scene\":\"scene\",\"showlegend\":false,\"x\":[-0.0011398595524951816,0.809627890586853,0.06974762678146362,0.0963250994682312,0.04117647558450699,0.041160568594932556,0.07165680080652237,-0.8779297471046448,-0.5878046154975891,-0.08863263577222824,0.029038336127996445,-0.18764065206050873,0.059420179575681686,0.02056777849793434,-0.7368565797805786,-0.05108256638050079,-0.026935776695609093,-0.19005054235458374,-0.6567605137825012,0.05606631189584732,-0.04781376197934151,0.7773208618164062,0.19786116480827332,0.7527506351470947,-0.7066736221313477,-0.6901432871818542,-0.6761177778244019,-0.7099840044975281,-0.602024257183075,-0.5585185289382935,-0.6319113969802856,0.2904660105705261,0.7303995490074158,-0.45350757241249084,0.848791241645813,0.8328090906143188,0.06413032859563828,0.0710625872015953,0.05069432407617569,0.10986027866601944,0.1970905065536499,0.2279222011566162,-0.04842767491936684,-0.47877660393714905,-0.054754987359046936,-0.40584075450897217,-0.1883830726146698,-0.7887542247772217,-0.03422154113650322,0.07333353906869888,0.03365639969706535,0.052973322570323944,0.04122944548726082,0.052910223603248596,0.025029484182596207,0.7223454117774963,-0.6870201230049133,-0.556106448173523,0.12420516461133957,-0.4224154055118561,-0.7816706299781799,-0.366450697183609,0.48679953813552856,0.05666666105389595,0.763699471950531,-0.7150017023086548,0.033930446952581406,0.030831286683678627,-0.9209955334663391,-0.4054332971572876,0.046205002814531326,-0.7186921238899231,-0.7330082654953003,0.04797657951712608,-0.7936450242996216,-0.7193343043327332,-0.730349600315094,-0.7116192579269409,-0.7141682505607605,-0.6940267086029053,0.20943017303943634,-0.7015073895454407,0.025537943467497826,-0.24608799815177917,-0.0421074703335762,-0.11350720375776291,-0.6745553612709045,0.013017826713621616,0.9792338609695435,0.8296754956245422,0.8472424149513245,0.05232561379671097,-0.7321237325668335,-0.05570441484451294,-0.7420641183853149,-0.7219606041908264,-0.7297453284263611,-0.7223954796791077,-0.6876248121261597,-0.7353065609931946,-0.7228459119796753,-0.17189143598079681,-0.38604849576950073,-0.024125978350639343,-0.5239417552947998,0.9031001925468445,0.03663995862007141,0.05142136290669441,0.055118899792432785,0.032401856034994125,0.03710038587450981,0.15421798825263977,-0.1702696979045868,0.19591106474399567,-0.6432356238365173,0.02205345593392849,0.040139004588127136,0.04921097680926323,-0.0007249904447235167,-0.22495222091674805,-0.7264729142189026,-0.6920855641365051,-0.9181551337242126,-0.7301520705223083,-0.70099937915802,-0.3870975077152252,-0.5571581721305847,-0.28836140036582947,0.020672721788287163,-0.0027095857076346874,0.05337756127119064,0.04265901446342468,-0.30283021926879883,-0.47514113783836365,-0.728896975517273,-0.7021428346633911,0.00931551307439804,0.9118783473968506,-0.5564721822738647,0.8940155506134033,0.9217650890350342,0.037775445729494095,0.027295434847474098,0.05244326964020729,-0.25380825996398926,-0.25703030824661255,0.11356037855148315,0.010189581662416458,-0.6997936367988586,-0.7163465619087219,-0.6102805733680725,-0.7050689458847046,-0.7190935015678406,-0.7321537137031555,-0.7419948577880859,-0.7279207110404968,-0.7188764214515686,-0.42464178800582886,-0.7253665328025818,-0.7330521941184998,-0.7217390537261963,-0.4202941656112671,-0.13390839099884033,-0.05241693556308746,-0.20245100557804108,-0.2756772041320801,-0.5093344449996948,-0.13546434044837952,-0.1414567232131958,-0.09718021750450134,-0.1876874715089798,0.045983266085386276,0.4467388391494751,-0.6732386350631714,-0.6460868120193481,-0.7732229232788086,-0.2314450740814209,-0.653906524181366,-0.6579458117485046,-0.33056291937828064,-0.2684735059738159,-0.5791526436805725,-0.6413567662239075,0.5648340582847595,0.8456774950027466,-0.1616477370262146,0.38907694816589355,0.7367023229598999,0.873211145401001,-0.5645747780799866,-0.6627042889595032,-0.7364152669906616,-0.7114137411117554,-0.25183168053627014,-0.7274817228317261,-0.6655542254447937,-0.4479897618293762,-0.684563398361206,-0.6741992235183716,0.3975055515766144,-0.7103220820426941,0.4325457215309143,0.0768018588423729,0.5752980709075928,-0.6452240943908691,0.7414750456809998,0.8289605975151062,0.8546562790870667,0.8655644059181213,0.0054762051440775394,0.022736096754670143,0.02128562331199646,-0.07149296253919601,0.02446196787059307,0.03633088245987892,0.013175562024116516,0.07835343480110168,0.07143526524305344,0.13227644562721252,0.08236099034547806,0.07790619879961014,0.046067021787166595,0.565322756767273,0.7316933870315552,-0.4346209466457367,-0.07084443420171738,0.0010278142290189862,0.13256415724754333,0.024044102057814598,0.12312287092208862,0.07185087352991104,0.23499110341072083,-0.17068572342395782,-0.6682272553443909,-0.7276057004928589,0.3221725821495056,-0.677288830280304,-0.822158694267273,-0.5051053166389465,-0.11646917462348938,0.16467739641666412,0.8650332093238831,-0.3163501024246216,-0.16679412126541138,-0.23082387447357178,0.04417457431554794,0.008096275851130486,-0.033422280102968216,0.12107793241739273,0.014182604849338531,0.29028740525245667,0.34212586283683777,0.4193885326385498,0.4197191894054413,-0.7085763216018677,-0.7196729183197021,-0.5033406019210815,0.6543252468109131,0.031390879303216934,-0.0037865526974201202,0.00328606809489429,0.061127278953790665,-0.060382697731256485,-0.23022930324077606,-0.4674068093299866,-0.671694815158844,-0.2490738481283188,-0.705955982208252,-0.8240906596183777,-0.6267858743667603,-0.7222918272018433,-0.7588716745376587,-0.4952603876590729,-0.40812769532203674,0.4208625555038452,-0.02420545183122158,-0.05676959827542305,0.035987257957458496,0.017881469801068306,0.015257909893989563,0.002173120155930519,-0.08461256325244904,-0.046754371374845505,-0.1855904459953308,0.053307805210351944,-0.01872209459543228,0.032131556421518326,0.1030074954032898,0.6574462652206421,-0.6904854774475098,-0.5693529844284058,-0.6202643513679504,-0.7345667481422424,-0.6136926412582397,-0.7273955345153809,-0.7009496092796326,-0.7254331707954407,-0.47035640478134155,-0.6992074251174927,-0.6876731514930725,-0.6709646582603455,0.10886523872613907,-0.6495754718780518,-0.6562865376472473,-0.2569567561149597,-0.09854105114936829,-0.021854696795344353,-0.06706412136554718,0.4222886264324188,0.055413663387298584,-0.2184714376926422,-0.658990204334259,-0.6959242224693298,0.008863944560289383,-0.025872543454170227,-0.08362074196338654,0.04926034435629845,-0.0019682766869664192,0.0455695241689682,0.036311402916908264,0.07174324989318848,-0.009514701552689075,0.19290976226329803,-0.006408065557479858,-0.061075177043676376,-0.17157086730003357,-0.14536869525909424,-0.13993486762046814,0.05780040845274925,-0.1653759479522705,-0.1879323422908783,-0.06380297243595123,0.04797293245792389,0.04131830483675003,0.03306829556822777,0.040519848465919495,0.06560929119586945,-0.06223201006650925,-0.6714877486228943,-0.668586254119873,-0.6725595593452454,-0.6120314002037048,-0.6815723180770874,-0.688214123249054,-0.6789411306381226,-0.6614192128181458,-0.17518550157546997,-0.2100098580121994,-0.38580837845802307,0.8662015199661255,0.8518232107162476,0.5880253314971924,0.7809062600135803,0.8193395733833313,0.09380659461021423,0.3780820071697235,-0.7491925358772278,-0.7431026697158813,-0.5127692222595215,0.6245383024215698,0.2704538106918335,0.8577351570129395,0.3282805383205414,0.8782883286476135,0.792903482913971,-0.6156633496284485,0.9703330993652344,0.7723748087882996,-0.6627740263938904,-0.601904571056366,-0.6411561965942383,-0.864931583404541,-0.6601561307907104,-0.6716697216033936,-0.6482905149459839,-0.6513003706932068,0.8156620264053345,0.2553466856479645,0.40835994482040405,-0.7588714957237244,0.3685096204280853,0.5121188163757324,0.24431969225406647,0.528382420539856,-0.6706420183181763,0.33355942368507385,0.8524879813194275,-0.6735787391662598,-0.6395411491394043,-0.6202766299247742,-0.664509117603302,-0.6512538194656372,-0.6353956460952759,-0.6672720909118652,-0.6575061678886414,-0.5257205963134766,-0.4624637961387634,0.7692215442657471,0.810077965259552,0.5855278372764587,0.7745266556739807,0.8632791042327881,0.8638334274291992,0.8771855235099792,0.8550805449485779,-0.6622002720832825,-0.673192024230957,-0.8964987397193909,0.20889988541603088,-0.06234037131071091,0.3726654350757599,0.5980188846588135,0.4161195158958435,0.2633375823497772,0.44150376319885254,-0.9211280345916748,-0.7881079912185669,0.012994705699384212,0.07774166762828827,0.5950238704681396,0.502331018447876,0.30125540494918823,0.6298440098762512,-0.9458382725715637,-0.5367382168769836,0.9245848655700684,0.9231136441230774,0.573512613773346,0.43961405754089355,-0.6633566617965698,-0.6650965213775635,0.7325651049613953,0.8398680686950684,-0.6661885380744934,-0.44028589129447937,0.3038759231567383,0.4990460276603699,-0.2007579207420349,-0.5200492739677429],\"y\":[-0.018674299120903015,0.24805636703968048,-0.02638666331768036,-0.03306969255208969,-0.017424896359443665,-0.030737752094864845,-0.5156904458999634,0.42971450090408325,-0.3598346412181854,0.0025287913158535957,0.045539405196905136,0.004702780395746231,0.013240671716630459,-0.03213915973901749,0.027393633499741554,-0.8171963095664978,-0.8919878602027893,-0.08416147530078888,0.689404308795929,-0.016640733927488327,0.016104018315672874,0.2865713834762573,0.8189224004745483,0.2309594303369522,-0.6838052272796631,-0.7131826877593994,-0.626899778842926,-0.6844364404678345,-0.6548484563827515,-0.41763070225715637,-0.6937478184700012,-0.4657087028026581,0.5598005056381226,-0.4464969336986542,0.07950218766927719,-0.022913211956620216,-0.015928789973258972,-0.016184942796826363,-0.016305657103657722,-0.0336410328745842,-0.0248273853212595,-0.04283851385116577,-0.1739131659269333,0.6939753890037537,0.15316353738307953,0.6542943120002747,-0.9770134091377258,-0.5959995985031128,-0.012953829020261765,-0.004930038936436176,-0.021871350705623627,-0.0161505825817585,-0.024803703650832176,-0.02386685088276863,-0.034202493727207184,-0.4132509231567383,-0.6035439372062683,-0.4333980679512024,0.5805549621582031,-0.1635126769542694,-0.6186167597770691,-0.8033138513565063,-0.7620169520378113,0.7827224135398865,0.5227838158607483,-0.22576400637626648,-0.02015569992363453,-0.014565558172762394,-0.04092080146074295,0.8701378703117371,-0.016367660835385323,-0.6679295897483826,-0.6398253440856934,-0.021323807537555695,-0.09139224141836166,-0.6653264760971069,-0.6470897197723389,-0.6876797676086426,-0.6666207313537598,-0.6999855637550354,-0.43153998255729675,-0.6703540682792664,0.0626009851694107,0.18839475512504578,0.08309358358383179,-0.08366020768880844,-0.3400706946849823,-0.10761280357837677,0.04952056705951691,-0.5200297832489014,0.5171307921409607,-0.0775466337800026,-0.21038158237934113,0.9902110695838928,-0.6174695491790771,-0.6635432839393616,-0.6468299031257629,-0.6614500284194946,-0.6986761093139648,-0.6413640379905701,-0.665330171585083,-0.7770305871963501,-0.6442868113517761,-0.40529075264930725,-0.7833847403526306,0.09154053777456284,-0.024557696655392647,-0.016349326819181442,-0.021512918174266815,-0.02181260660290718,-0.018776504322886467,-0.04554426670074463,0.02602347545325756,-0.9747735857963562,-0.2177213579416275,-0.023143144324421883,-0.018208302557468414,-0.01644260250031948,0.9994505643844604,0.972690999507904,-0.6697397828102112,-0.7035051584243774,0.38310813903808594,-0.6577508449554443,-0.67193603515625,-0.5492812395095825,-0.5276050567626953,0.9435939192771912,-0.015241469256579876,-0.04492774233222008,-0.01811555027961731,-0.018077418208122253,-0.25946685671806335,-0.26939913630485535,-0.653998076915741,-0.6899176836013794,-0.03532273694872856,0.3178308308124542,0.8293931484222412,0.03781206160783768,0.08286594599485397,-0.050469983369112015,0.07995034754276276,-0.016701437532901764,0.15639181435108185,0.05851634591817856,-0.008189890533685684,-0.36512112617492676,-0.7020251154899597,-0.6736712455749512,-0.6515661478042603,-0.6910709142684937,-0.6708459854125977,-0.6423221230506897,-0.6225466132164001,-0.6505694389343262,-0.6756730675697327,-0.44943225383758545,-0.6615647673606873,-0.6432532072067261,-0.6649566888809204,-0.4092273712158203,0.032632894814014435,0.16534635424613953,-0.21276633441448212,0.09687406569719315,-0.16456137597560883,-0.18940792977809906,0.08642453700304031,0.1196681335568428,-0.032438285648822784,0.34186479449272156,0.8946600556373596,-0.32397565245628357,-0.4083586633205414,0.608862578868866,0.14442893862724304,-0.3993036150932312,-0.1743355393409729,-0.3535681664943695,-0.9425238370895386,-0.37502676248550415,-0.6718838214874268,-0.7799630165100098,-0.4555708169937134,-0.15977051854133606,-0.7915419936180115,-0.47926077246665955,0.24287672340869904,-0.7208194732666016,-0.7241337895393372,-0.6321106553077698,-0.677838146686554,-0.3872012495994568,-0.651806116104126,-0.6909002065658569,-0.44872164726257324,-0.7227917909622192,-0.7326792478561401,-0.3689688444137573,-0.6710150837898254,0.06982285529375076,-0.1892741173505783,0.07957816123962402,-0.6898192167282104,-0.06892593950033188,0.13048169016838074,-0.028767811134457588,0.14862792193889618,-0.035451214760541916,-0.018043309450149536,-0.018779629841446877,0.01965133287012577,-0.025112882256507874,-0.03029714524745941,-0.04282688722014427,-0.03382624313235283,-0.033939991146326065,-0.08381835371255875,-0.01021291222423315,-0.005703117232769728,0.004994526505470276,-0.26929670572280884,-0.04601676017045975,0.8795770406723022,0.5408568382263184,0.029619168490171432,0.012167303822934628,-0.017177939414978027,-0.0717184841632843,-0.017756158486008644,-0.04214857891201973,-0.13990864157676697,-0.6378054618835449,-0.663585901260376,-0.049804434180259705,-0.6988391280174255,0.22298948466777802,-0.5779998898506165,-0.17491208016872406,-0.08955225348472595,-0.0895887091755867,-0.26539257168769836,0.05829829350113869,-0.20114991068840027,-0.01662137545645237,-0.030352897942066193,-0.038138411939144135,0.05358550325036049,0.048927322030067444,-0.9456944465637207,-0.6073108911514282,-0.3322969675064087,-0.12640447914600372,-0.6854430437088013,-0.6659093499183655,-0.7328958511352539,-0.10776042193174362,-0.024222394451498985,-0.0576920285820961,-0.05186845362186432,-0.05206436291337013,-0.0724758729338646,-0.1268094927072525,0.7879969477653503,-0.3192436695098877,-0.19456051290035248,-0.2197311669588089,-0.25283119082450867,-0.6192461848258972,-0.6764324307441711,-0.64186030626297,-0.5592206120491028,-0.1008397787809372,0.09852902591228485,-0.008655737154185772,0.013468414545059204,-0.054650820791721344,-0.04026064649224281,-0.03207840025424957,-0.03104386478662491,0.010438408702611923,-0.027150141075253487,0.025454584509134293,-0.016149064525961876,-0.02786032296717167,-0.021587898954749107,-0.010810716077685356,-0.1884923130273819,-0.711418867111206,-0.7119019627571106,-0.653114378452301,-0.6363973617553711,-0.6532569527626038,-0.651462733745575,-0.6877374649047852,-0.655946671962738,-0.6725693941116333,-0.6962853670120239,-0.7070018649101257,-0.6577903628349304,-0.010506951250135899,-0.6487892866134644,-0.6375510096549988,0.1308039128780365,0.03622090816497803,-0.9069985151290894,-0.5168417692184448,-0.40273910760879517,-0.8759897351264954,-0.6727734804153442,-0.6471818089485168,-0.7024239897727966,-0.023641349747776985,-0.04431089013814926,-0.06400628387928009,-0.02317158132791519,0.025820933282375336,-0.035109542310237885,-0.01541768666356802,-0.04409339278936386,-0.04388292878866196,-0.07859423011541367,0.04085201770067215,-0.17328405380249023,0.05247490480542183,0.11458826810121536,-0.013600061647593975,0.963301956653595,0.8890361189842224,0.07153508067131042,-0.014001845382153988,-0.029653750360012054,-0.03645433485507965,-0.027713103219866753,-0.006913586985319853,0.00663621723651886,0.00894822645932436,-0.2977917194366455,-0.313458114862442,-0.3080196976661682,-0.4416261911392212,-0.061333343386650085,-0.3066385090351105,-0.33916619420051575,-0.36527809500694275,0.9838041663169861,0.9681852459907532,0.8773671984672546,-0.003829403780400753,0.07985233515501022,0.25836631655693054,0.13452787697315216,0.2665937542915344,-0.9683425426483154,-0.7811500430107117,0.3929261267185211,0.3114566504955292,0.8538468480110168,0.32818177342414856,0.9615811705589294,0.07323306053876877,-0.9220800399780273,-0.1374577283859253,0.3432832658290863,0.41103264689445496,0.01775982603430748,0.4314282536506653,-0.2899169623851776,-0.4214915335178375,-0.3455054461956024,0.24258819222450256,-0.102960966527462,-0.29542696475982666,-0.3633171319961548,-0.307557612657547,0.0820944681763649,-0.7632875442504883,-0.7734123468399048,0.23747409880161285,-0.9232854247093201,-0.854989230632782,0.9128401279449463,0.5675595998764038,0.027125036343932152,-0.9275726079940796,-0.28065618872642517,-0.2998053729534149,-0.4101729393005371,-0.3804727792739868,-0.29005908966064453,-0.34813305735588074,-0.37179136276245117,0.4314357340335846,0.3162822127342224,-0.5938930511474609,0.8830918073654175,0.11067628860473633,0.06756053864955902,0.7670525312423706,0.22792351245880127,0.16409516334533691,-0.004199131857603788,0.08020174503326416,-0.007221693638712168,0.6982879638671875,0.48155930638313293,0.03843793272972107,0.97738116979599,0.35574689507484436,0.48920130729675293,-0.6148430705070496,-0.7834866046905518,-0.942107617855072,-0.7420948147773743,0.16041319072246552,0.2871788740158081,-0.9968980550765991,-0.9789736866950989,-0.3179907202720642,-0.814441442489624,0.9018077254295349,0.5895714163780212,0.21353040635585785,0.8400093913078308,-0.04482244327664375,-0.005752770695835352,0.7624872922897339,0.10339661687612534,0.41904616355895996,0.4018731415271759,0.21101903915405273,0.2975347936153412,-0.584449291229248,0.8266994953155518,-0.7861741781234741,-0.835517168045044,-0.02581600658595562,-0.07100936770439148],\"z\":[-0.9998250007629395,0.5319499969482422,-0.9972156286239624,-0.9948004484176636,-0.9989999532699585,-0.9986796379089355,-0.8537731766700745,-0.21115121245384216,-0.7245720624923706,-0.9960612058639526,-0.9985404014587402,-0.9822264313697815,-0.9981452226638794,-0.9992717504501343,-0.6754940152168274,-0.5740912556648254,-0.4512561559677124,-0.9781603813171387,-0.3055933713912964,-0.9982883334159851,-0.9987264275550842,-0.5600439310073853,-0.5387179255485535,0.6164610385894775,0.1817217320203781,0.12277030944824219,0.38711950182914734,0.16573922336101532,0.45688092708587646,0.7166879773139954,0.3455459177494049,0.8359096646308899,0.391330748796463,0.7713438272476196,0.5227168798446655,0.55308598279953,-0.997814416885376,-0.9973405599594116,-0.9985811710357666,-0.9933775663375854,-0.9800708889961243,-0.9727365374565125,-0.9835695624351501,-0.5377463698387146,-0.9866827726364136,-0.6381160616874695,-0.09978191554546356,-0.1505032479763031,-0.9993303418159485,-0.9972952604293823,-0.9991941452026367,-0.9984652996063232,-0.9988417625427246,-0.9983140230178833,-0.999101459980011,-0.5544734001159668,0.404645711183548,0.709162712097168,0.8046918511390686,0.8915317058563232,0.07939998805522919,0.4694686830043793,0.42703187465667725,-0.6197859048843384,0.37876150012016296,-0.661666989326477,-0.9992209672927856,-0.9994184374809265,-0.3874182403087616,0.28014954924583435,-0.9987978935241699,0.19326607882976532,0.23091615736484528,-0.9986208081245422,-0.601477324962616,0.1997470110654831,0.21877937018871307,0.14385561645030975,0.21349605917930603,0.16836634278297424,0.8774464130401611,0.24189414083957672,-0.9977118968963623,-0.9507618546485901,-0.9956517815589905,-0.9900086522102356,-0.6552305221557617,-0.9941076040267944,0.19659288227558136,-0.2029966562986374,0.12147442251443863,-0.9956146478652954,-0.6478692293167114,0.1279810070991516,0.2609063684940338,0.19617179036140442,0.22154611349105835,0.20156511664390564,0.19754396378993988,0.2190350741147995,0.18662703037261963,0.6055384874343872,0.6601977348327637,0.9138693809509277,0.3343551456928253,0.41955986618995667,-0.9990267157554626,-0.9985432028770447,-0.9982479810714722,-0.9992368221282959,-0.9991351366043091,-0.9869865775108337,-0.9850537776947021,-0.10693623870611191,-0.7340608835220337,-0.999488890171051,-0.999028205871582,-0.9986530542373657,0.03313785791397095,0.05717131122946739,0.15390141308307648,-0.16154895722866058,-0.10109037160873413,0.18504545092582703,0.23895969986915588,0.740571141242981,0.6412547826766968,0.1627214252948761,-0.999670147895813,-0.9989866018295288,-0.9984101057052612,-0.9989261031150818,-0.9170446395874023,-0.8376544117927551,0.20247386395931244,0.17609374225139618,-0.9993324875831604,-0.25973355770111084,0.04945412278175354,0.4464375972747803,0.37879058718681335,-0.9980109333992004,-0.9964250922203064,-0.9984842538833618,-0.9545276165008545,-0.9646300673484802,-0.993497371673584,-0.9309042692184448,0.13209658861160278,0.1816994696855545,0.4505765736103058,0.15905536711215973,0.18130184710025787,0.22665655612945557,0.24875561892986298,0.21654295921325684,0.16334791481494904,0.7859325408935547,0.19019854068756104,0.2210426777601242,0.19215941429138184,0.8098676800727844,-0.9904562830924988,-0.9848415851593018,-0.9558996558189392,-0.9563563466072083,-0.8446880578994751,-0.9725091457366943,-0.9861647486686707,-0.9880462884902954,-0.9816930294036865,-0.9386234879493713,-0.0028078414034098387,-0.6646723747253418,-0.6448372006416321,0.17723599076271057,-0.9620672464370728,-0.6426219344139099,-0.7326080799102783,-0.8750529885292053,-0.19892406463623047,-0.7238350510597229,-0.37045037746429443,-0.26948121190071106,-0.2780015170574188,-0.9738292098045349,-0.47125405073165894,0.47705212235450745,0.42250826954841614,0.40208765864372253,0.19092769920825958,0.2410990446805954,0.18554221093654633,0.8869363069534302,0.21428793668746948,0.2823023200035095,0.7732748985290527,0.09457867592573166,0.0929328203201294,0.8401495218276978,0.21255925297737122,0.8989043235778809,0.9789161086082458,0.814063549041748,0.3283829689025879,0.6674308776855469,0.5438740253448486,0.5183965563774109,0.4782344102859497,-0.9993563890457153,-0.9995787143707275,-0.9995970129966736,-0.9972475171089172,-0.9993852972984314,-0.9988804459571838,-0.9989956617355347,-0.9963515400886536,-0.9968676567077637,-0.9876626133918762,-0.9965502619743347,-0.9969444274902344,-0.9989258646965027,-0.7796726822853088,-0.6800788640975952,0.19351699948310852,-0.8381258845329285,-0.9995606541633606,-0.9910997748374939,-0.9995632767677307,-0.9897965788841248,-0.9972572922706604,-0.9710832238197327,-0.9753419756889343,0.38298389315605164,0.17390695214271545,0.9453699588775635,0.2300080507993698,-0.5237659215927124,0.6409249305725098,-0.9776710867881775,-0.9822737574577332,-0.49365103244781494,-0.9107630848884583,-0.9842667579650879,-0.9519762992858887,-0.9988855719566345,-0.9995064735412598,-0.9987133741378784,-0.9911956191062927,-0.9987016320228577,-0.14627093076705933,-0.7170239090919495,0.844802975654602,0.898809015750885,0.16759295761585236,0.19655945897102356,0.4577246904373169,0.7484959363937378,-0.999213695526123,-0.9983272552490234,-0.9986485242843628,-0.9967711567878723,-0.9955406188964844,-0.9648388028144836,0.40073904395103455,-0.6685128808021545,-0.9487404227256775,-0.6733085513114929,-0.5069034099578857,0.4729415476322174,0.14399182796478271,0.11013153195381165,0.6648228764533997,0.9073385000228882,0.901757538318634,-0.9996694922447205,-0.9982964992523193,-0.997856855392456,-0.9990292191505432,-0.9993689060211182,-0.9995157122612,-0.9963592290878296,-0.9985373616218567,-0.982297420501709,-0.9984475374221802,-0.9994364976882935,-0.9992504715919495,-0.9946218729019165,-0.729544460773468,0.13081692159175873,0.4111359417438507,0.4344121217727661,0.23539365828037262,0.44343745708465576,0.21562045812606812,0.18890966475009918,0.2085203230381012,0.5713275074958801,0.16215910017490387,0.16508808732032776,0.342225581407547,0.994001030921936,0.39638879895210266,0.4035053551197052,-0.9575299024581909,-0.9944735765457153,-0.4205664098262787,-0.8534500002861023,-0.8120797872543335,-0.47913601994514465,0.7068564295768738,0.38325926661491394,0.14929836988449097,-0.9996812343597412,-0.9986827373504639,-0.994439959526062,-0.9985170960426331,-0.9996646642684937,-0.9983440041542053,-0.9992216229438782,-0.9964480400085449,-0.9989913702011108,-0.9780638217926025,-0.9991446733474731,-0.9829763174057007,-0.9837732911109924,-0.9827194213867188,-0.9900673031806946,0.2621228098869324,0.4269258677959442,-0.9795734286308289,-0.9978642463684082,-0.998408317565918,-0.9984807372093201,-0.9990687966346741,-0.999154806137085,-0.9978233575820923,-0.9980216026306152,-0.6785457730293274,-0.6743414998054504,-0.6728948950767517,-0.6560365557670593,-0.729175865650177,-0.6575212478637695,-0.6511568427085876,-0.6550546288490295,0.03793833404779434,0.13606302440166473,0.28526952862739563,0.49968013167381287,0.5177072882652283,0.7664679288864136,0.6099898219108582,0.5075535178184509,0.23132891952991486,0.49684855341911316,-0.5332163572311401,-0.5922779440879822,0.08951752632856369,0.7086949944496155,-0.047079022973775864,0.508849024772644,0.2049398124217987,0.45794638991355896,0.5034486651420593,0.6723175048828125,0.2411186546087265,0.46616169810295105,-0.6904191970825195,-0.6782740950584412,-0.6852334141731262,-0.4393681287765503,-0.7440382242202759,-0.6793988347053528,-0.6691187620162964,-0.693697452545166,0.5726743936538696,0.5934562087059021,0.48484575748443604,-0.6063992977142334,0.10837338864803314,0.08202214539051056,0.3271557092666626,0.6314175724983215,-0.7412850856781006,0.1683662235736847,0.4410174787044525,-0.6755800843238831,-0.6501885652542114,-0.6859281659126282,-0.6886897087097168,-0.674293577671051,-0.6767891049385071,-0.6071336269378662,-0.6838502883911133,-0.609022855758667,0.07922202348709106,0.629324197769165,0.5824167728424072,0.26227378845214844,0.590050220489502,0.47730711102485657,0.5037599802017212,0.47340619564056396,0.5184448957443237,-0.2718174457550049,-0.5611712336540222,0.44137564301490784,0.03296774998307228,0.9325007796287537,0.7885445356369019,0.5141414403915405,0.46151190996170044,0.20757274329662323,0.5043507218360901,-0.3546701669692993,-0.5444391965866089,-0.07762427628040314,-0.18859106302261353,0.7381250262260437,0.2904283404350281,0.3098192811012268,0.5056700110435486,-0.24452947080135345,0.07934940606355667,0.3783303201198578,0.3844843804836273,0.2994934916496277,0.8922156095504761,-0.6199662685394287,-0.6294002532958984,0.6471624970436096,0.45397672057151794,-0.4632622301578522,-0.3503090441226959,0.5381353497505188,0.22992178797721863,0.9793006777763367,-0.8511794805526733],\"type\":\"scatter3d\"}],                        {\"template\":{\"data\":{\"barpolar\":[{\"marker\":{\"line\":{\"color\":\"rgb(17,17,17)\",\"width\":0.5},\"pattern\":{\"fillmode\":\"overlay\",\"size\":10,\"solidity\":0.2}},\"type\":\"barpolar\"}],\"bar\":[{\"error_x\":{\"color\":\"#f2f5fa\"},\"error_y\":{\"color\":\"#f2f5fa\"},\"marker\":{\"line\":{\"color\":\"rgb(17,17,17)\",\"width\":0.5},\"pattern\":{\"fillmode\":\"overlay\",\"size\":10,\"solidity\":0.2}},\"type\":\"bar\"}],\"carpet\":[{\"aaxis\":{\"endlinecolor\":\"#A2B1C6\",\"gridcolor\":\"#506784\",\"linecolor\":\"#506784\",\"minorgridcolor\":\"#506784\",\"startlinecolor\":\"#A2B1C6\"},\"baxis\":{\"endlinecolor\":\"#A2B1C6\",\"gridcolor\":\"#506784\",\"linecolor\":\"#506784\",\"minorgridcolor\":\"#506784\",\"startlinecolor\":\"#A2B1C6\"},\"type\":\"carpet\"}],\"choropleth\":[{\"colorbar\":{\"outlinewidth\":0,\"ticks\":\"\"},\"type\":\"choropleth\"}],\"contourcarpet\":[{\"colorbar\":{\"outlinewidth\":0,\"ticks\":\"\"},\"type\":\"contourcarpet\"}],\"contour\":[{\"colorbar\":{\"outlinewidth\":0,\"ticks\":\"\"},\"colorscale\":[[0.0,\"#0d0887\"],[0.1111111111111111,\"#46039f\"],[0.2222222222222222,\"#7201a8\"],[0.3333333333333333,\"#9c179e\"],[0.4444444444444444,\"#bd3786\"],[0.5555555555555556,\"#d8576b\"],[0.6666666666666666,\"#ed7953\"],[0.7777777777777778,\"#fb9f3a\"],[0.8888888888888888,\"#fdca26\"],[1.0,\"#f0f921\"]],\"type\":\"contour\"}],\"heatmapgl\":[{\"colorbar\":{\"outlinewidth\":0,\"ticks\":\"\"},\"colorscale\":[[0.0,\"#0d0887\"],[0.1111111111111111,\"#46039f\"],[0.2222222222222222,\"#7201a8\"],[0.3333333333333333,\"#9c179e\"],[0.4444444444444444,\"#bd3786\"],[0.5555555555555556,\"#d8576b\"],[0.6666666666666666,\"#ed7953\"],[0.7777777777777778,\"#fb9f3a\"],[0.8888888888888888,\"#fdca26\"],[1.0,\"#f0f921\"]],\"type\":\"heatmapgl\"}],\"heatmap\":[{\"colorbar\":{\"outlinewidth\":0,\"ticks\":\"\"},\"colorscale\":[[0.0,\"#0d0887\"],[0.1111111111111111,\"#46039f\"],[0.2222222222222222,\"#7201a8\"],[0.3333333333333333,\"#9c179e\"],[0.4444444444444444,\"#bd3786\"],[0.5555555555555556,\"#d8576b\"],[0.6666666666666666,\"#ed7953\"],[0.7777777777777778,\"#fb9f3a\"],[0.8888888888888888,\"#fdca26\"],[1.0,\"#f0f921\"]],\"type\":\"heatmap\"}],\"histogram2dcontour\":[{\"colorbar\":{\"outlinewidth\":0,\"ticks\":\"\"},\"colorscale\":[[0.0,\"#0d0887\"],[0.1111111111111111,\"#46039f\"],[0.2222222222222222,\"#7201a8\"],[0.3333333333333333,\"#9c179e\"],[0.4444444444444444,\"#bd3786\"],[0.5555555555555556,\"#d8576b\"],[0.6666666666666666,\"#ed7953\"],[0.7777777777777778,\"#fb9f3a\"],[0.8888888888888888,\"#fdca26\"],[1.0,\"#f0f921\"]],\"type\":\"histogram2dcontour\"}],\"histogram2d\":[{\"colorbar\":{\"outlinewidth\":0,\"ticks\":\"\"},\"colorscale\":[[0.0,\"#0d0887\"],[0.1111111111111111,\"#46039f\"],[0.2222222222222222,\"#7201a8\"],[0.3333333333333333,\"#9c179e\"],[0.4444444444444444,\"#bd3786\"],[0.5555555555555556,\"#d8576b\"],[0.6666666666666666,\"#ed7953\"],[0.7777777777777778,\"#fb9f3a\"],[0.8888888888888888,\"#fdca26\"],[1.0,\"#f0f921\"]],\"type\":\"histogram2d\"}],\"histogram\":[{\"marker\":{\"pattern\":{\"fillmode\":\"overlay\",\"size\":10,\"solidity\":0.2}},\"type\":\"histogram\"}],\"mesh3d\":[{\"colorbar\":{\"outlinewidth\":0,\"ticks\":\"\"},\"type\":\"mesh3d\"}],\"parcoords\":[{\"line\":{\"colorbar\":{\"outlinewidth\":0,\"ticks\":\"\"}},\"type\":\"parcoords\"}],\"pie\":[{\"automargin\":true,\"type\":\"pie\"}],\"scatter3d\":[{\"line\":{\"colorbar\":{\"outlinewidth\":0,\"ticks\":\"\"}},\"marker\":{\"colorbar\":{\"outlinewidth\":0,\"ticks\":\"\"}},\"type\":\"scatter3d\"}],\"scattercarpet\":[{\"marker\":{\"colorbar\":{\"outlinewidth\":0,\"ticks\":\"\"}},\"type\":\"scattercarpet\"}],\"scattergeo\":[{\"marker\":{\"colorbar\":{\"outlinewidth\":0,\"ticks\":\"\"}},\"type\":\"scattergeo\"}],\"scattergl\":[{\"marker\":{\"line\":{\"color\":\"#283442\"}},\"type\":\"scattergl\"}],\"scattermapbox\":[{\"marker\":{\"colorbar\":{\"outlinewidth\":0,\"ticks\":\"\"}},\"type\":\"scattermapbox\"}],\"scatterpolargl\":[{\"marker\":{\"colorbar\":{\"outlinewidth\":0,\"ticks\":\"\"}},\"type\":\"scatterpolargl\"}],\"scatterpolar\":[{\"marker\":{\"colorbar\":{\"outlinewidth\":0,\"ticks\":\"\"}},\"type\":\"scatterpolar\"}],\"scatter\":[{\"marker\":{\"line\":{\"color\":\"#283442\"}},\"type\":\"scatter\"}],\"scatterternary\":[{\"marker\":{\"colorbar\":{\"outlinewidth\":0,\"ticks\":\"\"}},\"type\":\"scatterternary\"}],\"surface\":[{\"colorbar\":{\"outlinewidth\":0,\"ticks\":\"\"},\"colorscale\":[[0.0,\"#0d0887\"],[0.1111111111111111,\"#46039f\"],[0.2222222222222222,\"#7201a8\"],[0.3333333333333333,\"#9c179e\"],[0.4444444444444444,\"#bd3786\"],[0.5555555555555556,\"#d8576b\"],[0.6666666666666666,\"#ed7953\"],[0.7777777777777778,\"#fb9f3a\"],[0.8888888888888888,\"#fdca26\"],[1.0,\"#f0f921\"]],\"type\":\"surface\"}],\"table\":[{\"cells\":{\"fill\":{\"color\":\"#506784\"},\"line\":{\"color\":\"rgb(17,17,17)\"}},\"header\":{\"fill\":{\"color\":\"#2a3f5f\"},\"line\":{\"color\":\"rgb(17,17,17)\"}},\"type\":\"table\"}]},\"layout\":{\"annotationdefaults\":{\"arrowcolor\":\"#f2f5fa\",\"arrowhead\":0,\"arrowwidth\":1},\"autotypenumbers\":\"strict\",\"coloraxis\":{\"colorbar\":{\"outlinewidth\":0,\"ticks\":\"\"}},\"colorscale\":{\"diverging\":[[0,\"#8e0152\"],[0.1,\"#c51b7d\"],[0.2,\"#de77ae\"],[0.3,\"#f1b6da\"],[0.4,\"#fde0ef\"],[0.5,\"#f7f7f7\"],[0.6,\"#e6f5d0\"],[0.7,\"#b8e186\"],[0.8,\"#7fbc41\"],[0.9,\"#4d9221\"],[1,\"#276419\"]],\"sequential\":[[0.0,\"#0d0887\"],[0.1111111111111111,\"#46039f\"],[0.2222222222222222,\"#7201a8\"],[0.3333333333333333,\"#9c179e\"],[0.4444444444444444,\"#bd3786\"],[0.5555555555555556,\"#d8576b\"],[0.6666666666666666,\"#ed7953\"],[0.7777777777777778,\"#fb9f3a\"],[0.8888888888888888,\"#fdca26\"],[1.0,\"#f0f921\"]],\"sequentialminus\":[[0.0,\"#0d0887\"],[0.1111111111111111,\"#46039f\"],[0.2222222222222222,\"#7201a8\"],[0.3333333333333333,\"#9c179e\"],[0.4444444444444444,\"#bd3786\"],[0.5555555555555556,\"#d8576b\"],[0.6666666666666666,\"#ed7953\"],[0.7777777777777778,\"#fb9f3a\"],[0.8888888888888888,\"#fdca26\"],[1.0,\"#f0f921\"]]},\"colorway\":[\"#636efa\",\"#EF553B\",\"#00cc96\",\"#ab63fa\",\"#FFA15A\",\"#19d3f3\",\"#FF6692\",\"#B6E880\",\"#FF97FF\",\"#FECB52\"],\"font\":{\"color\":\"#f2f5fa\"},\"geo\":{\"bgcolor\":\"rgb(17,17,17)\",\"lakecolor\":\"rgb(17,17,17)\",\"landcolor\":\"rgb(17,17,17)\",\"showlakes\":true,\"showland\":true,\"subunitcolor\":\"#506784\"},\"hoverlabel\":{\"align\":\"left\"},\"hovermode\":\"closest\",\"mapbox\":{\"style\":\"dark\"},\"paper_bgcolor\":\"rgb(17,17,17)\",\"plot_bgcolor\":\"rgb(17,17,17)\",\"polar\":{\"angularaxis\":{\"gridcolor\":\"#506784\",\"linecolor\":\"#506784\",\"ticks\":\"\"},\"bgcolor\":\"rgb(17,17,17)\",\"radialaxis\":{\"gridcolor\":\"#506784\",\"linecolor\":\"#506784\",\"ticks\":\"\"}},\"scene\":{\"xaxis\":{\"backgroundcolor\":\"rgb(17,17,17)\",\"gridcolor\":\"#506784\",\"gridwidth\":2,\"linecolor\":\"#506784\",\"showbackground\":true,\"ticks\":\"\",\"zerolinecolor\":\"#C8D4E3\"},\"yaxis\":{\"backgroundcolor\":\"rgb(17,17,17)\",\"gridcolor\":\"#506784\",\"gridwidth\":2,\"linecolor\":\"#506784\",\"showbackground\":true,\"ticks\":\"\",\"zerolinecolor\":\"#C8D4E3\"},\"zaxis\":{\"backgroundcolor\":\"rgb(17,17,17)\",\"gridcolor\":\"#506784\",\"gridwidth\":2,\"linecolor\":\"#506784\",\"showbackground\":true,\"ticks\":\"\",\"zerolinecolor\":\"#C8D4E3\"}},\"shapedefaults\":{\"line\":{\"color\":\"#f2f5fa\"}},\"sliderdefaults\":{\"bgcolor\":\"#C8D4E3\",\"bordercolor\":\"rgb(17,17,17)\",\"borderwidth\":1,\"tickwidth\":0},\"ternary\":{\"aaxis\":{\"gridcolor\":\"#506784\",\"linecolor\":\"#506784\",\"ticks\":\"\"},\"baxis\":{\"gridcolor\":\"#506784\",\"linecolor\":\"#506784\",\"ticks\":\"\"},\"bgcolor\":\"rgb(17,17,17)\",\"caxis\":{\"gridcolor\":\"#506784\",\"linecolor\":\"#506784\",\"ticks\":\"\"}},\"title\":{\"x\":0.05},\"updatemenudefaults\":{\"bgcolor\":\"#506784\",\"borderwidth\":0},\"xaxis\":{\"automargin\":true,\"gridcolor\":\"#283442\",\"linecolor\":\"#506784\",\"ticks\":\"\",\"title\":{\"standoff\":15},\"zerolinecolor\":\"#283442\",\"zerolinewidth\":2},\"yaxis\":{\"automargin\":true,\"gridcolor\":\"#283442\",\"linecolor\":\"#506784\",\"ticks\":\"\",\"title\":{\"standoff\":15},\"zerolinecolor\":\"#283442\",\"zerolinewidth\":2}}},\"scene\":{\"domain\":{\"x\":[0.0,1.0],\"y\":[0.0,1.0]},\"xaxis\":{\"title\":{\"text\":\"X\"}},\"yaxis\":{\"title\":{\"text\":\"Y\"}},\"zaxis\":{\"title\":{\"text\":\"Z\"}}},\"coloraxis\":{\"colorbar\":{\"title\":{\"text\":\"tIdx\"}},\"colorscale\":[[0.0,\"rgb(150,0,90)\"],[0.125,\"rgb(0,0,200)\"],[0.25,\"rgb(0,25,255)\"],[0.375,\"rgb(0,152,255)\"],[0.5,\"rgb(44,255,150)\"],[0.625,\"rgb(151,255,0)\"],[0.75,\"rgb(255,234,0)\"],[0.875,\"rgb(255,111,0)\"],[1.0,\"rgb(255,0,0)\"]]},\"legend\":{\"tracegroupgap\":0,\"itemsizing\":\"constant\"},\"margin\":{\"t\":60}},                        {\"responsive\": true}                    ).then(function(){\n",
       "                            \n",
       "var gd = document.getElementById('bfb0eb75-027a-48e2-b0f0-f19659adb662');\n",
       "var x = new MutationObserver(function (mutations, observer) {{\n",
       "        var display = window.getComputedStyle(gd).display;\n",
       "        if (!display || display === 'none') {{\n",
       "            console.log([gd, 'removed!']);\n",
       "            Plotly.purge(gd);\n",
       "            observer.disconnect();\n",
       "        }}\n",
       "}});\n",
       "\n",
       "// Listen for the removal of the full notebook cells\n",
       "var notebookContainer = gd.closest('#notebook-container');\n",
       "if (notebookContainer) {{\n",
       "    x.observe(notebookContainer, {childList: true});\n",
       "}}\n",
       "\n",
       "// Listen for the clearing of the current output cell\n",
       "var outputEl = gd.closest('.output');\n",
       "if (outputEl) {{\n",
       "    x.observe(outputEl, {childList: true});\n",
       "}}\n",
       "\n",
       "                        })                };                });            </script>        </div>"
      ]
     },
     "metadata": {},
     "output_type": "display_data"
    }
   ],
   "execution_count": 9
  },
  {
   "metadata": {},
   "cell_type": "code",
   "outputs": [],
   "execution_count": null,
   "source": "",
   "id": "19729e3e192bd791"
  },
  {
   "metadata": {
    "ExecuteTime": {
     "end_time": "2025-02-12T11:30:18.197063Z",
     "start_time": "2025-02-12T11:30:15.639834Z"
    }
   },
   "cell_type": "code",
   "source": [
    "import hdbscan\n",
    "clusterer = hdbscan.HDBSCAN(min_cluster_size=10, min_samples=10, cluster_selection_epsilon=0.1)\n",
    "from time import time\n",
    "t0 = time()\n",
    "cluster_labels = clusterer.fit_predict(norm_coords)\n",
    "t1 = time()\n",
    "print(t1 - t0)\n",
    "plot_coordinates(result[\"pred\"][filt, 1:4], result[\"pt\"][filt], torch.tensor(cluster_labels)).show()\n"
   ],
   "id": "2cdfdce76e7e5e08",
   "outputs": [
    {
     "name": "stdout",
     "output_type": "stream",
     "text": [
      "0.005829334259033203\n",
      "[('X', (141, 1)), ('Y', (141, 1)), ('Z', (141, 1)), ('tIdx', (141, 1)), ('pt', (141, 1))]\n"
     ]
    },
    {
     "name": "stderr",
     "output_type": "stream",
     "text": [
      "/work/gkrzmanc/1gatr/lib/python3.10/site-packages/sklearn/utils/deprecation.py:151: FutureWarning:\n",
      "\n",
      "'force_all_finite' was renamed to 'ensure_all_finite' in 1.6 and will be removed in 1.8.\n",
      "\n",
      "/work/gkrzmanc/1gatr/lib/python3.10/site-packages/sklearn/utils/deprecation.py:151: FutureWarning:\n",
      "\n",
      "'force_all_finite' was renamed to 'ensure_all_finite' in 1.6 and will be removed in 1.8.\n",
      "\n"
     ]
    },
    {
     "data": {
      "application/vnd.plotly.v1+json": {
       "data": [
        {
         "hovertemplate": "X=%{x}<br>Y=%{y}<br>Z=%{z}<br>pt=%{marker.size}<br>tIdx=%{marker.color}<extra></extra>",
         "legendgroup": "",
         "marker": {
          "color": [
           2.0,
           1.0,
           1.0,
           2.0,
           2.0,
           2.0,
           1.0,
           2.0,
           1.0,
           2.0,
           1.0,
           2.0,
           2.0,
           1.0,
           -1.0,
           2.0,
           1.0,
           0.0,
           1.0,
           1.0,
           0.0,
           1.0,
           2.0,
           1.0,
           -1.0,
           1.0,
           -1.0,
           2.0,
           1.0,
           0.0,
           0.0,
           1.0,
           1.0,
           0.0,
           1.0,
           2.0,
           2.0,
           -1.0,
           1.0,
           0.0,
           2.0,
           0.0,
           2.0,
           0.0,
           0.0,
           -1.0,
           -1.0,
           0.0,
           -1.0,
           1.0,
           2.0,
           -1.0,
           0.0,
           1.0,
           -1.0,
           0.0,
           2.0,
           0.0,
           1.0,
           -1.0,
           2.0,
           2.0,
           1.0,
           1.0,
           0.0,
           1.0,
           0.0,
           -1.0,
           2.0,
           2.0,
           1.0,
           1.0,
           2.0,
           -1.0,
           0.0,
           -1.0,
           2.0,
           2.0,
           0.0,
           2.0,
           2.0,
           1.0,
           1.0,
           1.0,
           -1.0,
           0.0,
           0.0,
           -1.0,
           1.0,
           2.0,
           0.0,
           2.0,
           -1.0,
           1.0,
           0.0,
           0.0,
           -1.0,
           1.0,
           -1.0,
           1.0,
           -1.0,
           0.0,
           -1.0,
           1.0,
           -1.0,
           -1.0,
           2.0,
           0.0,
           2.0,
           1.0,
           2.0,
           -1.0,
           0.0,
           2.0,
           1.0,
           0.0,
           2.0,
           0.0,
           -1.0,
           1.0,
           2.0,
           0.0,
           0.0,
           0.0,
           -1.0,
           2.0,
           1.0,
           2.0,
           2.0,
           1.0,
           -1.0,
           2.0,
           1.0,
           0.0,
           1.0,
           -1.0,
           2.0,
           0.0,
           1.0,
           0.0,
           0.0
          ],
          "coloraxis": "coloraxis",
          "size": [
           56.21875,
           30.3125,
           8.1953125,
           7.85546875,
           6.6015625,
           5.43359375,
           4.359375,
           4.11328125,
           3.79296875,
           3.615234375,
           3.3828125,
           3.3125,
           3.169921875,
           2.876953125,
           2.810546875,
           2.677734375,
           2.646484375,
           2.5703125,
           2.5625,
           2.54296875,
           2.51171875,
           2.50390625,
           2.357421875,
           2.330078125,
           2.310546875,
           2.224609375,
           2.181640625,
           2.119140625,
           2.111328125,
           2.0390625,
           1.9365234375,
           1.923828125,
           1.8955078125,
           1.859375,
           1.787109375,
           1.767578125,
           1.6845703125,
           1.6826171875,
           1.6708984375,
           1.662109375,
           1.6552734375,
           1.6376953125,
           1.5673828125,
           1.564453125,
           1.533203125,
           1.5087890625,
           1.4853515625,
           1.4580078125,
           1.4033203125,
           1.4013671875,
           1.396484375,
           1.375,
           1.345703125,
           1.3291015625,
           1.326171875,
           1.294921875,
           1.2822265625,
           1.2763671875,
           1.275390625,
           1.2529296875,
           1.21875,
           1.2099609375,
           1.185546875,
           1.181640625,
           1.1689453125,
           1.1669921875,
           1.1474609375,
           1.1376953125,
           1.1376953125,
           1.1103515625,
           1.0986328125,
           1.0810546875,
           1.0791015625,
           1.064453125,
           1.0419921875,
           1.0390625,
           1.0234375,
           1.021484375,
           0.98779296875,
           0.9326171875,
           0.92822265625,
           0.91748046875,
           0.916015625,
           0.91455078125,
           0.9091796875,
           0.89697265625,
           0.888671875,
           0.88330078125,
           0.869140625,
           0.85498046875,
           0.8515625,
           0.84765625,
           0.84375,
           0.84130859375,
           0.8408203125,
           0.83837890625,
           0.82763671875,
           0.826171875,
           0.82275390625,
           0.818359375,
           0.8173828125,
           0.810546875,
           0.806640625,
           0.7880859375,
           0.76953125,
           0.7666015625,
           0.76123046875,
           0.7607421875,
           0.75732421875,
           0.75732421875,
           0.75,
           0.7470703125,
           0.74365234375,
           0.72705078125,
           0.712890625,
           0.71240234375,
           0.70849609375,
           0.70703125,
           0.70166015625,
           0.69970703125,
           0.69677734375,
           0.69580078125,
           0.68896484375,
           0.68408203125,
           0.65966796875,
           0.654296875,
           0.63916015625,
           0.63330078125,
           0.6328125,
           0.6318359375,
           0.6298828125,
           0.6279296875,
           0.623046875,
           0.61767578125,
           0.61767578125,
           0.61376953125,
           0.61376953125,
           0.61083984375,
           0.6083984375,
           0.6064453125,
           0.6015625
          ],
          "sizemode": "area",
          "sizeref": 0.140546875,
          "symbol": "circle",
          "line": {
           "width": 0
          }
         },
         "mode": "markers",
         "name": "",
         "scene": "scene",
         "showlegend": false,
         "x": [
          1.8411712646484375,
          -2.522686719894409,
          -2.4129951000213623,
          1.9901788234710693,
          1.6636333465576172,
          1.6867585182189941,
          -2.3150012493133545,
          1.7260633707046509,
          -1.747094988822937,
          1.6223530769348145,
          -2.061624765396118,
          1.9998637437820435,
          1.6998132467269897,
          -2.3290047645568848,
          3.0216383934020996,
          1.840533971786499,
          -2.2175347805023193,
          0.36496007442474365,
          0.15621675550937653,
          -2.407304525375366,
          -1.974696159362793,
          -2.872187852859497,
          1.8141885995864868,
          -2.7332513332366943,
          -0.5611585378646851,
          -2.169691562652588,
          2.278728723526001,
          1.689452886581421,
          -2.301179885864258,
          -0.7461513876914978,
          -2.2872955799102783,
          -2.5275323390960693,
          -1.7118428945541382,
          -1.6773886680603027,
          -2.574779510498047,
          1.561798095703125,
          1.7997194528579712,
          3.645848035812378,
          -2.235827922821045,
          1.8425447940826416,
          0.41018256545066833,
          -1.212222695350647,
          1.9937679767608643,
          1.5113431215286255,
          -0.8121848702430725,
          -3.029036045074463,
          2.2207300662994385,
          -2.6509389877319336,
          3.599907636642456,
          -2.5486032962799072,
          1.6542530059814453,
          -2.10996150970459,
          1.5152677297592163,
          -2.1622543334960938,
          1.7261897325515747,
          1.2757388353347778,
          1.6777442693710327,
          -2.0802419185638428,
          -1.777970552444458,
          -3.620804786682129,
          1.6916468143463135,
          1.6863940954208374,
          -2.5542445182800293,
          -0.6825491786003113,
          2.595134735107422,
          -2.843463182449341,
          2.387848138809204,
          -0.354938805103302,
          1.5272729396820068,
          1.8800228834152222,
          -2.120563507080078,
          -1.9567219018936157,
          1.8392518758773804,
          3.3408432006835938,
          -0.7955878973007202,
          3.2810914516448975,
          1.6434342861175537,
          1.7120492458343506,
          1.0976753234863281,
          0.16248370707035065,
          1.7139579057693481,
          -2.5007987022399902,
          -2.1329963207244873,
          -2.4087326526641846,
          -3.048182249069214,
          -1.6931315660476685,
          -1.667431116104126,
          -2.529144763946533,
          -0.7144979238510132,
          2.798675775527954,
          -2.318450450897217,
          3.0250344276428223,
          3.3414969444274902,
          -1.683628797531128,
          0.8422178626060486,
          -1.2700635194778442,
          3.224628448486328,
          -2.1929819583892822,
          3.2866179943084717,
          -2.264336109161377,
          0.015907974913716316,
          -2.0944478511810303,
          3.215803861618042,
          -1.8754534721374512,
          -2.7968456745147705,
          3.7824931144714355,
          2.0464158058166504,
          -2.7814836502075195,
          1.783958911895752,
          -1.7874057292938232,
          1.5332332849502563,
          3.0009734630584717,
          -3.0661377906799316,
          0.8484869003295898,
          -2.1037070751190186,
          1.5366361141204834,
          1.2627863883972168,
          -1.126605749130249,
          2.282327175140381,
          -0.9385878443717957,
          2.4155123233795166,
          -2.885427713394165,
          1.556852102279663,
          1.7129369974136353,
          2.7353992462158203,
          1.3975930213928223,
          -1.8982449769973755,
          2.6141178607940674,
          0.9802422523498535,
          -1.9378496408462524,
          -3.3062102794647217,
          1.6210947036743164,
          -1.8668112754821777,
          -1.29080331325531,
          -2.6802406311035156,
          3.518674373626709,
          2.160449981689453,
          -1.0534309148788452,
          -2.5538363456726074,
          2.947633981704712,
          0.35545453429222107
         ],
         "y": [
          11.484721183776855,
          8.731682777404785,
          8.241484642028809,
          10.398521423339844,
          10.179244041442871,
          9.956130027770996,
          7.946946144104004,
          9.621484756469727,
          8.317768096923828,
          9.602851867675781,
          8.096202850341797,
          8.428861618041992,
          7.713281631469727,
          7.759325981140137,
          2.001000165939331,
          8.673704147338867,
          7.815395355224609,
          -1.8945016860961914,
          5.307507038116455,
          7.635284423828125,
          -4.762759208679199,
          6.974043846130371,
          9.353918075561523,
          7.169582843780518,
          7.842984199523926,
          7.738143444061279,
          3.8158230781555176,
          9.230376243591309,
          7.659114837646484,
          -1.241110920906067,
          -4.673916816711426,
          7.331056118011475,
          8.126399040222168,
          -6.183385372161865,
          7.399578094482422,
          7.569636821746826,
          9.191303253173828,
          2.0824391841888428,
          7.539384841918945,
          -5.831722736358643,
          1.1391910314559937,
          -6.635079383850098,
          8.075276374816895,
          -3.04512357711792,
          -0.6494570374488831,
          0.5757555365562439,
          3.355726718902588,
          -2.798525333404541,
          0.47095903754234314,
          7.09736967086792,
          8.699042320251465,
          0.3937191665172577,
          -6.4269280433654785,
          7.501816749572754,
          0.9359796047210693,
          -6.08197546005249,
          8.978398323059082,
          -2.8815436363220215,
          7.695521831512451,
          4.2803826332092285,
          9.004857063293457,
          8.947896003723145,
          6.97410249710083,
          1.9161756038665771,
          -3.0744786262512207,
          6.716772556304932,
          -3.30195689201355,
          6.058880805969238,
          3.539236545562744,
          8.700676918029785,
          7.578433990478516,
          6.164597034454346,
          8.811245918273926,
          -1.006975769996643,
          -5.035004138946533,
          0.25036776065826416,
          8.851595878601074,
          4.802543640136719,
          -3.9611656665802,
          1.8577446937561035,
          8.845459938049316,
          5.3601861000061035,
          7.407097816467285,
          7.300731182098389,
          5.122791767120361,
          -1.0425262451171875,
          -2.0254790782928467,
          4.59906005859375,
          5.5377349853515625,
          7.0722126960754395,
          -3.6198534965515137,
          7.7057366371154785,
          0.7627019286155701,
          7.704476833343506,
          -5.568854808807373,
          -2.8196332454681396,
          2.8956897258758545,
          7.310884475708008,
          -1.9668323993682861,
          7.258252143859863,
          2.040471076965332,
          -1.3508975505828857,
          3.6582324504852295,
          7.501095294952393,
          3.844759941101074,
          5.517116546630859,
          5.136075019836426,
          -1.670976161956787,
          8.753059387207031,
          3.6817221641540527,
          8.523528099060059,
          3.124119997024536,
          -1.3789392709732056,
          6.031548976898193,
          7.365862846374512,
          -4.676599025726318,
          7.970692157745361,
          -5.706074237823486,
          1.5437520742416382,
          2.5718445777893066,
          5.178225994110107,
          -1.7867119312286377,
          -3.9174883365631104,
          -6.325456142425537,
          2.165548801422119,
          7.667225360870361,
          7.437671184539795,
          6.005098342895508,
          2.5892181396484375,
          7.4688401222229,
          2.550855875015259,
          8.82972240447998,
          7.493037223815918,
          -5.2092204093933105,
          6.904902935028076,
          2.0044095516204834,
          6.942010879516602,
          -3.196828842163086,
          6.915232181549072,
          -2.55283522605896,
          -5.1857733726501465
         ],
         "z": [
          0.9599736928939819,
          0.9545231461524963,
          0.9484756588935852,
          0.8629654049873352,
          0.9065804481506348,
          0.9346697926521301,
          0.9416508674621582,
          0.9376319050788879,
          0.6251171231269836,
          0.9200356602668762,
          0.814395546913147,
          0.20510144531726837,
          0.14036493003368378,
          0.9411420226097107,
          0.011215683072805405,
          0.22863861918449402,
          0.9380825161933899,
          0.013005613349378109,
          0.029080139473080635,
          0.937067449092865,
          0.006106241140514612,
          0.8271619081497192,
          0.8916909098625183,
          0.8522865176200867,
          0.021532395854592323,
          0.9406567811965942,
          0.012383528053760529,
          0.9469900131225586,
          0.9406611323356628,
          0.02189617231488228,
          0.00513895507901907,
          0.9315266609191895,
          0.6846194863319397,
          0.00252342177554965,
          0.9255027770996094,
          0.12604449689388275,
          0.8625036478042603,
          0.022475941106677055,
          0.9427933096885681,
          0.002689987886697054,
          0.023181047290563583,
          0.0020413780584931374,
          0.23801666498184204,
          0.004571772180497646,
          0.0267456267029047,
          0.07405140995979309,
          0.013269828632473946,
          0.014075732789933681,
          0.018177680671215057,
          0.8879609704017639,
          0.5017601251602173,
          0.052536748349666595,
          0.0013182642869651318,
          0.9114360809326172,
          0.013911278918385506,
          0.002193354768678546,
          0.9450902938842773,
          0.01495618000626564,
          0.7675567269325256,
          0.3331969380378723,
          0.9254684448242188,
          0.9329370260238647,
          0.9176525473594666,
          0.013932841829955578,
          0.00535422982648015,
          0.8387388586997986,
          0.004764800425618887,
          0.02386591210961342,
          0.04008623957633972,
          0.5606747269630432,
          0.9332547783851624,
          0.02354300580918789,
          0.7222034931182861,
          0.010339915752410889,
          0.0051331170834600925,
          0.015859361737966537,
          0.928329586982727,
          0.07042752951383591,
          0.0033885720185935497,
          0.02866990491747856,
          0.9165403246879578,
          0.03584417700767517,
          0.9447782635688782,
          0.9416751265525818,
          0.5410656929016113,
          0.02953338623046875,
          0.009083312004804611,
          0.32500940561294556,
          0.07135940343141556,
          0.21336644887924194,
          0.00776125630363822,
          0.0751323252916336,
          0.020248418673872948,
          0.7727653980255127,
          0.0019125656690448523,
          0.0154165243729949,
          0.014082311652600765,
          0.9479771256446838,
          0.00926204677671194,
          0.9451633095741272,
          0.018092600628733635,
          0.03380986675620079,
          0.013082841411232948,
          0.8813718557357788,
          0.03869924694299698,
          0.043908167630434036,
          0.07465846836566925,
          0.020705657079815865,
          0.840247631072998,
          0.01788754016160965,
          0.7686178684234619,
          0.04338349774479866,
          0.03050147369503975,
          0.04970092326402664,
          0.8392722010612488,
          0.002669614041224122,
          0.11674889177083969,
          0.00298236939124763,
          0.012624367140233517,
          0.01754012331366539,
          0.09177706390619278,
          0.021733084693551064,
          0.004724114201962948,
          0.0017189689679071307,
          0.030842922627925873,
          0.02060762234032154,
          0.90532386302948,
          0.11719930917024612,
          0.019032690674066544,
          0.8460276126861572,
          0.1660507172346115,
          0.8996521830558777,
          0.7967191338539124,
          0.003243226557970047,
          0.913471519947052,
          0.0244155190885067,
          0.18375305831432343,
          0.006471569649875164,
          0.9159026741981506,
          0.007738111540675163,
          0.002430642256513238
         ],
         "type": "scatter3d"
        }
       ],
       "layout": {
        "template": {
         "data": {
          "barpolar": [
           {
            "marker": {
             "line": {
              "color": "rgb(17,17,17)",
              "width": 0.5
             },
             "pattern": {
              "fillmode": "overlay",
              "size": 10,
              "solidity": 0.2
             }
            },
            "type": "barpolar"
           }
          ],
          "bar": [
           {
            "error_x": {
             "color": "#f2f5fa"
            },
            "error_y": {
             "color": "#f2f5fa"
            },
            "marker": {
             "line": {
              "color": "rgb(17,17,17)",
              "width": 0.5
             },
             "pattern": {
              "fillmode": "overlay",
              "size": 10,
              "solidity": 0.2
             }
            },
            "type": "bar"
           }
          ],
          "carpet": [
           {
            "aaxis": {
             "endlinecolor": "#A2B1C6",
             "gridcolor": "#506784",
             "linecolor": "#506784",
             "minorgridcolor": "#506784",
             "startlinecolor": "#A2B1C6"
            },
            "baxis": {
             "endlinecolor": "#A2B1C6",
             "gridcolor": "#506784",
             "linecolor": "#506784",
             "minorgridcolor": "#506784",
             "startlinecolor": "#A2B1C6"
            },
            "type": "carpet"
           }
          ],
          "choropleth": [
           {
            "colorbar": {
             "outlinewidth": 0,
             "ticks": ""
            },
            "type": "choropleth"
           }
          ],
          "contourcarpet": [
           {
            "colorbar": {
             "outlinewidth": 0,
             "ticks": ""
            },
            "type": "contourcarpet"
           }
          ],
          "contour": [
           {
            "colorbar": {
             "outlinewidth": 0,
             "ticks": ""
            },
            "colorscale": [
             [
              0.0,
              "#0d0887"
             ],
             [
              0.1111111111111111,
              "#46039f"
             ],
             [
              0.2222222222222222,
              "#7201a8"
             ],
             [
              0.3333333333333333,
              "#9c179e"
             ],
             [
              0.4444444444444444,
              "#bd3786"
             ],
             [
              0.5555555555555556,
              "#d8576b"
             ],
             [
              0.6666666666666666,
              "#ed7953"
             ],
             [
              0.7777777777777778,
              "#fb9f3a"
             ],
             [
              0.8888888888888888,
              "#fdca26"
             ],
             [
              1.0,
              "#f0f921"
             ]
            ],
            "type": "contour"
           }
          ],
          "heatmapgl": [
           {
            "colorbar": {
             "outlinewidth": 0,
             "ticks": ""
            },
            "colorscale": [
             [
              0.0,
              "#0d0887"
             ],
             [
              0.1111111111111111,
              "#46039f"
             ],
             [
              0.2222222222222222,
              "#7201a8"
             ],
             [
              0.3333333333333333,
              "#9c179e"
             ],
             [
              0.4444444444444444,
              "#bd3786"
             ],
             [
              0.5555555555555556,
              "#d8576b"
             ],
             [
              0.6666666666666666,
              "#ed7953"
             ],
             [
              0.7777777777777778,
              "#fb9f3a"
             ],
             [
              0.8888888888888888,
              "#fdca26"
             ],
             [
              1.0,
              "#f0f921"
             ]
            ],
            "type": "heatmapgl"
           }
          ],
          "heatmap": [
           {
            "colorbar": {
             "outlinewidth": 0,
             "ticks": ""
            },
            "colorscale": [
             [
              0.0,
              "#0d0887"
             ],
             [
              0.1111111111111111,
              "#46039f"
             ],
             [
              0.2222222222222222,
              "#7201a8"
             ],
             [
              0.3333333333333333,
              "#9c179e"
             ],
             [
              0.4444444444444444,
              "#bd3786"
             ],
             [
              0.5555555555555556,
              "#d8576b"
             ],
             [
              0.6666666666666666,
              "#ed7953"
             ],
             [
              0.7777777777777778,
              "#fb9f3a"
             ],
             [
              0.8888888888888888,
              "#fdca26"
             ],
             [
              1.0,
              "#f0f921"
             ]
            ],
            "type": "heatmap"
           }
          ],
          "histogram2dcontour": [
           {
            "colorbar": {
             "outlinewidth": 0,
             "ticks": ""
            },
            "colorscale": [
             [
              0.0,
              "#0d0887"
             ],
             [
              0.1111111111111111,
              "#46039f"
             ],
             [
              0.2222222222222222,
              "#7201a8"
             ],
             [
              0.3333333333333333,
              "#9c179e"
             ],
             [
              0.4444444444444444,
              "#bd3786"
             ],
             [
              0.5555555555555556,
              "#d8576b"
             ],
             [
              0.6666666666666666,
              "#ed7953"
             ],
             [
              0.7777777777777778,
              "#fb9f3a"
             ],
             [
              0.8888888888888888,
              "#fdca26"
             ],
             [
              1.0,
              "#f0f921"
             ]
            ],
            "type": "histogram2dcontour"
           }
          ],
          "histogram2d": [
           {
            "colorbar": {
             "outlinewidth": 0,
             "ticks": ""
            },
            "colorscale": [
             [
              0.0,
              "#0d0887"
             ],
             [
              0.1111111111111111,
              "#46039f"
             ],
             [
              0.2222222222222222,
              "#7201a8"
             ],
             [
              0.3333333333333333,
              "#9c179e"
             ],
             [
              0.4444444444444444,
              "#bd3786"
             ],
             [
              0.5555555555555556,
              "#d8576b"
             ],
             [
              0.6666666666666666,
              "#ed7953"
             ],
             [
              0.7777777777777778,
              "#fb9f3a"
             ],
             [
              0.8888888888888888,
              "#fdca26"
             ],
             [
              1.0,
              "#f0f921"
             ]
            ],
            "type": "histogram2d"
           }
          ],
          "histogram": [
           {
            "marker": {
             "pattern": {
              "fillmode": "overlay",
              "size": 10,
              "solidity": 0.2
             }
            },
            "type": "histogram"
           }
          ],
          "mesh3d": [
           {
            "colorbar": {
             "outlinewidth": 0,
             "ticks": ""
            },
            "type": "mesh3d"
           }
          ],
          "parcoords": [
           {
            "line": {
             "colorbar": {
              "outlinewidth": 0,
              "ticks": ""
             }
            },
            "type": "parcoords"
           }
          ],
          "pie": [
           {
            "automargin": true,
            "type": "pie"
           }
          ],
          "scatter3d": [
           {
            "line": {
             "colorbar": {
              "outlinewidth": 0,
              "ticks": ""
             }
            },
            "marker": {
             "colorbar": {
              "outlinewidth": 0,
              "ticks": ""
             }
            },
            "type": "scatter3d"
           }
          ],
          "scattercarpet": [
           {
            "marker": {
             "colorbar": {
              "outlinewidth": 0,
              "ticks": ""
             }
            },
            "type": "scattercarpet"
           }
          ],
          "scattergeo": [
           {
            "marker": {
             "colorbar": {
              "outlinewidth": 0,
              "ticks": ""
             }
            },
            "type": "scattergeo"
           }
          ],
          "scattergl": [
           {
            "marker": {
             "line": {
              "color": "#283442"
             }
            },
            "type": "scattergl"
           }
          ],
          "scattermapbox": [
           {
            "marker": {
             "colorbar": {
              "outlinewidth": 0,
              "ticks": ""
             }
            },
            "type": "scattermapbox"
           }
          ],
          "scatterpolargl": [
           {
            "marker": {
             "colorbar": {
              "outlinewidth": 0,
              "ticks": ""
             }
            },
            "type": "scatterpolargl"
           }
          ],
          "scatterpolar": [
           {
            "marker": {
             "colorbar": {
              "outlinewidth": 0,
              "ticks": ""
             }
            },
            "type": "scatterpolar"
           }
          ],
          "scatter": [
           {
            "marker": {
             "line": {
              "color": "#283442"
             }
            },
            "type": "scatter"
           }
          ],
          "scatterternary": [
           {
            "marker": {
             "colorbar": {
              "outlinewidth": 0,
              "ticks": ""
             }
            },
            "type": "scatterternary"
           }
          ],
          "surface": [
           {
            "colorbar": {
             "outlinewidth": 0,
             "ticks": ""
            },
            "colorscale": [
             [
              0.0,
              "#0d0887"
             ],
             [
              0.1111111111111111,
              "#46039f"
             ],
             [
              0.2222222222222222,
              "#7201a8"
             ],
             [
              0.3333333333333333,
              "#9c179e"
             ],
             [
              0.4444444444444444,
              "#bd3786"
             ],
             [
              0.5555555555555556,
              "#d8576b"
             ],
             [
              0.6666666666666666,
              "#ed7953"
             ],
             [
              0.7777777777777778,
              "#fb9f3a"
             ],
             [
              0.8888888888888888,
              "#fdca26"
             ],
             [
              1.0,
              "#f0f921"
             ]
            ],
            "type": "surface"
           }
          ],
          "table": [
           {
            "cells": {
             "fill": {
              "color": "#506784"
             },
             "line": {
              "color": "rgb(17,17,17)"
             }
            },
            "header": {
             "fill": {
              "color": "#2a3f5f"
             },
             "line": {
              "color": "rgb(17,17,17)"
             }
            },
            "type": "table"
           }
          ]
         },
         "layout": {
          "annotationdefaults": {
           "arrowcolor": "#f2f5fa",
           "arrowhead": 0,
           "arrowwidth": 1
          },
          "autotypenumbers": "strict",
          "coloraxis": {
           "colorbar": {
            "outlinewidth": 0,
            "ticks": ""
           }
          },
          "colorscale": {
           "diverging": [
            [
             0,
             "#8e0152"
            ],
            [
             0.1,
             "#c51b7d"
            ],
            [
             0.2,
             "#de77ae"
            ],
            [
             0.3,
             "#f1b6da"
            ],
            [
             0.4,
             "#fde0ef"
            ],
            [
             0.5,
             "#f7f7f7"
            ],
            [
             0.6,
             "#e6f5d0"
            ],
            [
             0.7,
             "#b8e186"
            ],
            [
             0.8,
             "#7fbc41"
            ],
            [
             0.9,
             "#4d9221"
            ],
            [
             1,
             "#276419"
            ]
           ],
           "sequential": [
            [
             0.0,
             "#0d0887"
            ],
            [
             0.1111111111111111,
             "#46039f"
            ],
            [
             0.2222222222222222,
             "#7201a8"
            ],
            [
             0.3333333333333333,
             "#9c179e"
            ],
            [
             0.4444444444444444,
             "#bd3786"
            ],
            [
             0.5555555555555556,
             "#d8576b"
            ],
            [
             0.6666666666666666,
             "#ed7953"
            ],
            [
             0.7777777777777778,
             "#fb9f3a"
            ],
            [
             0.8888888888888888,
             "#fdca26"
            ],
            [
             1.0,
             "#f0f921"
            ]
           ],
           "sequentialminus": [
            [
             0.0,
             "#0d0887"
            ],
            [
             0.1111111111111111,
             "#46039f"
            ],
            [
             0.2222222222222222,
             "#7201a8"
            ],
            [
             0.3333333333333333,
             "#9c179e"
            ],
            [
             0.4444444444444444,
             "#bd3786"
            ],
            [
             0.5555555555555556,
             "#d8576b"
            ],
            [
             0.6666666666666666,
             "#ed7953"
            ],
            [
             0.7777777777777778,
             "#fb9f3a"
            ],
            [
             0.8888888888888888,
             "#fdca26"
            ],
            [
             1.0,
             "#f0f921"
            ]
           ]
          },
          "colorway": [
           "#636efa",
           "#EF553B",
           "#00cc96",
           "#ab63fa",
           "#FFA15A",
           "#19d3f3",
           "#FF6692",
           "#B6E880",
           "#FF97FF",
           "#FECB52"
          ],
          "font": {
           "color": "#f2f5fa"
          },
          "geo": {
           "bgcolor": "rgb(17,17,17)",
           "lakecolor": "rgb(17,17,17)",
           "landcolor": "rgb(17,17,17)",
           "showlakes": true,
           "showland": true,
           "subunitcolor": "#506784"
          },
          "hoverlabel": {
           "align": "left"
          },
          "hovermode": "closest",
          "mapbox": {
           "style": "dark"
          },
          "paper_bgcolor": "rgb(17,17,17)",
          "plot_bgcolor": "rgb(17,17,17)",
          "polar": {
           "angularaxis": {
            "gridcolor": "#506784",
            "linecolor": "#506784",
            "ticks": ""
           },
           "bgcolor": "rgb(17,17,17)",
           "radialaxis": {
            "gridcolor": "#506784",
            "linecolor": "#506784",
            "ticks": ""
           }
          },
          "scene": {
           "xaxis": {
            "backgroundcolor": "rgb(17,17,17)",
            "gridcolor": "#506784",
            "gridwidth": 2,
            "linecolor": "#506784",
            "showbackground": true,
            "ticks": "",
            "zerolinecolor": "#C8D4E3"
           },
           "yaxis": {
            "backgroundcolor": "rgb(17,17,17)",
            "gridcolor": "#506784",
            "gridwidth": 2,
            "linecolor": "#506784",
            "showbackground": true,
            "ticks": "",
            "zerolinecolor": "#C8D4E3"
           },
           "zaxis": {
            "backgroundcolor": "rgb(17,17,17)",
            "gridcolor": "#506784",
            "gridwidth": 2,
            "linecolor": "#506784",
            "showbackground": true,
            "ticks": "",
            "zerolinecolor": "#C8D4E3"
           }
          },
          "shapedefaults": {
           "line": {
            "color": "#f2f5fa"
           }
          },
          "sliderdefaults": {
           "bgcolor": "#C8D4E3",
           "bordercolor": "rgb(17,17,17)",
           "borderwidth": 1,
           "tickwidth": 0
          },
          "ternary": {
           "aaxis": {
            "gridcolor": "#506784",
            "linecolor": "#506784",
            "ticks": ""
           },
           "baxis": {
            "gridcolor": "#506784",
            "linecolor": "#506784",
            "ticks": ""
           },
           "bgcolor": "rgb(17,17,17)",
           "caxis": {
            "gridcolor": "#506784",
            "linecolor": "#506784",
            "ticks": ""
           }
          },
          "title": {
           "x": 0.05
          },
          "updatemenudefaults": {
           "bgcolor": "#506784",
           "borderwidth": 0
          },
          "xaxis": {
           "automargin": true,
           "gridcolor": "#283442",
           "linecolor": "#506784",
           "ticks": "",
           "title": {
            "standoff": 15
           },
           "zerolinecolor": "#283442",
           "zerolinewidth": 2
          },
          "yaxis": {
           "automargin": true,
           "gridcolor": "#283442",
           "linecolor": "#506784",
           "ticks": "",
           "title": {
            "standoff": 15
           },
           "zerolinecolor": "#283442",
           "zerolinewidth": 2
          }
         }
        },
        "scene": {
         "domain": {
          "x": [
           0.0,
           1.0
          ],
          "y": [
           0.0,
           1.0
          ]
         },
         "xaxis": {
          "title": {
           "text": "X"
          }
         },
         "yaxis": {
          "title": {
           "text": "Y"
          }
         },
         "zaxis": {
          "title": {
           "text": "Z"
          }
         }
        },
        "coloraxis": {
         "colorbar": {
          "title": {
           "text": "tIdx"
          }
         },
         "colorscale": [
          [
           0.0,
           "rgb(150,0,90)"
          ],
          [
           0.125,
           "rgb(0,0,200)"
          ],
          [
           0.25,
           "rgb(0,25,255)"
          ],
          [
           0.375,
           "rgb(0,152,255)"
          ],
          [
           0.5,
           "rgb(44,255,150)"
          ],
          [
           0.625,
           "rgb(151,255,0)"
          ],
          [
           0.75,
           "rgb(255,234,0)"
          ],
          [
           0.875,
           "rgb(255,111,0)"
          ],
          [
           1.0,
           "rgb(255,0,0)"
          ]
         ]
        },
        "legend": {
         "tracegroupgap": 0,
         "itemsizing": "constant"
        },
        "margin": {
         "t": 60
        }
       },
       "config": {
        "plotlyServerURL": "https://plot.ly"
       }
      },
      "text/html": [
       "<div>                            <div id=\"07d0a11a-594c-4139-a3b1-339e7b1143f3\" class=\"plotly-graph-div\" style=\"height:525px; width:100%;\"></div>            <script type=\"text/javascript\">                require([\"plotly\"], function(Plotly) {                    window.PLOTLYENV=window.PLOTLYENV || {};                                    if (document.getElementById(\"07d0a11a-594c-4139-a3b1-339e7b1143f3\")) {                    Plotly.newPlot(                        \"07d0a11a-594c-4139-a3b1-339e7b1143f3\",                        [{\"hovertemplate\":\"X=%{x}\\u003cbr\\u003eY=%{y}\\u003cbr\\u003eZ=%{z}\\u003cbr\\u003ept=%{marker.size}\\u003cbr\\u003etIdx=%{marker.color}\\u003cextra\\u003e\\u003c\\u002fextra\\u003e\",\"legendgroup\":\"\",\"marker\":{\"color\":[2.0,1.0,1.0,2.0,2.0,2.0,1.0,2.0,1.0,2.0,1.0,2.0,2.0,1.0,-1.0,2.0,1.0,0.0,1.0,1.0,0.0,1.0,2.0,1.0,-1.0,1.0,-1.0,2.0,1.0,0.0,0.0,1.0,1.0,0.0,1.0,2.0,2.0,-1.0,1.0,0.0,2.0,0.0,2.0,0.0,0.0,-1.0,-1.0,0.0,-1.0,1.0,2.0,-1.0,0.0,1.0,-1.0,0.0,2.0,0.0,1.0,-1.0,2.0,2.0,1.0,1.0,0.0,1.0,0.0,-1.0,2.0,2.0,1.0,1.0,2.0,-1.0,0.0,-1.0,2.0,2.0,0.0,2.0,2.0,1.0,1.0,1.0,-1.0,0.0,0.0,-1.0,1.0,2.0,0.0,2.0,-1.0,1.0,0.0,0.0,-1.0,1.0,-1.0,1.0,-1.0,0.0,-1.0,1.0,-1.0,-1.0,2.0,0.0,2.0,1.0,2.0,-1.0,0.0,2.0,1.0,0.0,2.0,0.0,-1.0,1.0,2.0,0.0,0.0,0.0,-1.0,2.0,1.0,2.0,2.0,1.0,-1.0,2.0,1.0,0.0,1.0,-1.0,2.0,0.0,1.0,0.0,0.0],\"coloraxis\":\"coloraxis\",\"size\":[56.21875,30.3125,8.1953125,7.85546875,6.6015625,5.43359375,4.359375,4.11328125,3.79296875,3.615234375,3.3828125,3.3125,3.169921875,2.876953125,2.810546875,2.677734375,2.646484375,2.5703125,2.5625,2.54296875,2.51171875,2.50390625,2.357421875,2.330078125,2.310546875,2.224609375,2.181640625,2.119140625,2.111328125,2.0390625,1.9365234375,1.923828125,1.8955078125,1.859375,1.787109375,1.767578125,1.6845703125,1.6826171875,1.6708984375,1.662109375,1.6552734375,1.6376953125,1.5673828125,1.564453125,1.533203125,1.5087890625,1.4853515625,1.4580078125,1.4033203125,1.4013671875,1.396484375,1.375,1.345703125,1.3291015625,1.326171875,1.294921875,1.2822265625,1.2763671875,1.275390625,1.2529296875,1.21875,1.2099609375,1.185546875,1.181640625,1.1689453125,1.1669921875,1.1474609375,1.1376953125,1.1376953125,1.1103515625,1.0986328125,1.0810546875,1.0791015625,1.064453125,1.0419921875,1.0390625,1.0234375,1.021484375,0.98779296875,0.9326171875,0.92822265625,0.91748046875,0.916015625,0.91455078125,0.9091796875,0.89697265625,0.888671875,0.88330078125,0.869140625,0.85498046875,0.8515625,0.84765625,0.84375,0.84130859375,0.8408203125,0.83837890625,0.82763671875,0.826171875,0.82275390625,0.818359375,0.8173828125,0.810546875,0.806640625,0.7880859375,0.76953125,0.7666015625,0.76123046875,0.7607421875,0.75732421875,0.75732421875,0.75,0.7470703125,0.74365234375,0.72705078125,0.712890625,0.71240234375,0.70849609375,0.70703125,0.70166015625,0.69970703125,0.69677734375,0.69580078125,0.68896484375,0.68408203125,0.65966796875,0.654296875,0.63916015625,0.63330078125,0.6328125,0.6318359375,0.6298828125,0.6279296875,0.623046875,0.61767578125,0.61767578125,0.61376953125,0.61376953125,0.61083984375,0.6083984375,0.6064453125,0.6015625],\"sizemode\":\"area\",\"sizeref\":0.140546875,\"symbol\":\"circle\",\"line\":{\"width\":0}},\"mode\":\"markers\",\"name\":\"\",\"scene\":\"scene\",\"showlegend\":false,\"x\":[1.8411712646484375,-2.522686719894409,-2.4129951000213623,1.9901788234710693,1.6636333465576172,1.6867585182189941,-2.3150012493133545,1.7260633707046509,-1.747094988822937,1.6223530769348145,-2.061624765396118,1.9998637437820435,1.6998132467269897,-2.3290047645568848,3.0216383934020996,1.840533971786499,-2.2175347805023193,0.36496007442474365,0.15621675550937653,-2.407304525375366,-1.974696159362793,-2.872187852859497,1.8141885995864868,-2.7332513332366943,-0.5611585378646851,-2.169691562652588,2.278728723526001,1.689452886581421,-2.301179885864258,-0.7461513876914978,-2.2872955799102783,-2.5275323390960693,-1.7118428945541382,-1.6773886680603027,-2.574779510498047,1.561798095703125,1.7997194528579712,3.645848035812378,-2.235827922821045,1.8425447940826416,0.41018256545066833,-1.212222695350647,1.9937679767608643,1.5113431215286255,-0.8121848702430725,-3.029036045074463,2.2207300662994385,-2.6509389877319336,3.599907636642456,-2.5486032962799072,1.6542530059814453,-2.10996150970459,1.5152677297592163,-2.1622543334960938,1.7261897325515747,1.2757388353347778,1.6777442693710327,-2.0802419185638428,-1.777970552444458,-3.620804786682129,1.6916468143463135,1.6863940954208374,-2.5542445182800293,-0.6825491786003113,2.595134735107422,-2.843463182449341,2.387848138809204,-0.354938805103302,1.5272729396820068,1.8800228834152222,-2.120563507080078,-1.9567219018936157,1.8392518758773804,3.3408432006835938,-0.7955878973007202,3.2810914516448975,1.6434342861175537,1.7120492458343506,1.0976753234863281,0.16248370707035065,1.7139579057693481,-2.5007987022399902,-2.1329963207244873,-2.4087326526641846,-3.048182249069214,-1.6931315660476685,-1.667431116104126,-2.529144763946533,-0.7144979238510132,2.798675775527954,-2.318450450897217,3.0250344276428223,3.3414969444274902,-1.683628797531128,0.8422178626060486,-1.2700635194778442,3.224628448486328,-2.1929819583892822,3.2866179943084717,-2.264336109161377,0.015907974913716316,-2.0944478511810303,3.215803861618042,-1.8754534721374512,-2.7968456745147705,3.7824931144714355,2.0464158058166504,-2.7814836502075195,1.783958911895752,-1.7874057292938232,1.5332332849502563,3.0009734630584717,-3.0661377906799316,0.8484869003295898,-2.1037070751190186,1.5366361141204834,1.2627863883972168,-1.126605749130249,2.282327175140381,-0.9385878443717957,2.4155123233795166,-2.885427713394165,1.556852102279663,1.7129369974136353,2.7353992462158203,1.3975930213928223,-1.8982449769973755,2.6141178607940674,0.9802422523498535,-1.9378496408462524,-3.3062102794647217,1.6210947036743164,-1.8668112754821777,-1.29080331325531,-2.6802406311035156,3.518674373626709,2.160449981689453,-1.0534309148788452,-2.5538363456726074,2.947633981704712,0.35545453429222107],\"y\":[11.484721183776855,8.731682777404785,8.241484642028809,10.398521423339844,10.179244041442871,9.956130027770996,7.946946144104004,9.621484756469727,8.317768096923828,9.602851867675781,8.096202850341797,8.428861618041992,7.713281631469727,7.759325981140137,2.001000165939331,8.673704147338867,7.815395355224609,-1.8945016860961914,5.307507038116455,7.635284423828125,-4.762759208679199,6.974043846130371,9.353918075561523,7.169582843780518,7.842984199523926,7.738143444061279,3.8158230781555176,9.230376243591309,7.659114837646484,-1.241110920906067,-4.673916816711426,7.331056118011475,8.126399040222168,-6.183385372161865,7.399578094482422,7.569636821746826,9.191303253173828,2.0824391841888428,7.539384841918945,-5.831722736358643,1.1391910314559937,-6.635079383850098,8.075276374816895,-3.04512357711792,-0.6494570374488831,0.5757555365562439,3.355726718902588,-2.798525333404541,0.47095903754234314,7.09736967086792,8.699042320251465,0.3937191665172577,-6.4269280433654785,7.501816749572754,0.9359796047210693,-6.08197546005249,8.978398323059082,-2.8815436363220215,7.695521831512451,4.2803826332092285,9.004857063293457,8.947896003723145,6.97410249710083,1.9161756038665771,-3.0744786262512207,6.716772556304932,-3.30195689201355,6.058880805969238,3.539236545562744,8.700676918029785,7.578433990478516,6.164597034454346,8.811245918273926,-1.006975769996643,-5.035004138946533,0.25036776065826416,8.851595878601074,4.802543640136719,-3.9611656665802,1.8577446937561035,8.845459938049316,5.3601861000061035,7.407097816467285,7.300731182098389,5.122791767120361,-1.0425262451171875,-2.0254790782928467,4.59906005859375,5.5377349853515625,7.0722126960754395,-3.6198534965515137,7.7057366371154785,0.7627019286155701,7.704476833343506,-5.568854808807373,-2.8196332454681396,2.8956897258758545,7.310884475708008,-1.9668323993682861,7.258252143859863,2.040471076965332,-1.3508975505828857,3.6582324504852295,7.501095294952393,3.844759941101074,5.517116546630859,5.136075019836426,-1.670976161956787,8.753059387207031,3.6817221641540527,8.523528099060059,3.124119997024536,-1.3789392709732056,6.031548976898193,7.365862846374512,-4.676599025726318,7.970692157745361,-5.706074237823486,1.5437520742416382,2.5718445777893066,5.178225994110107,-1.7867119312286377,-3.9174883365631104,-6.325456142425537,2.165548801422119,7.667225360870361,7.437671184539795,6.005098342895508,2.5892181396484375,7.4688401222229,2.550855875015259,8.82972240447998,7.493037223815918,-5.2092204093933105,6.904902935028076,2.0044095516204834,6.942010879516602,-3.196828842163086,6.915232181549072,-2.55283522605896,-5.1857733726501465],\"z\":[0.9599736928939819,0.9545231461524963,0.9484756588935852,0.8629654049873352,0.9065804481506348,0.9346697926521301,0.9416508674621582,0.9376319050788879,0.6251171231269836,0.9200356602668762,0.814395546913147,0.20510144531726837,0.14036493003368378,0.9411420226097107,0.011215683072805405,0.22863861918449402,0.9380825161933899,0.013005613349378109,0.029080139473080635,0.937067449092865,0.006106241140514612,0.8271619081497192,0.8916909098625183,0.8522865176200867,0.021532395854592323,0.9406567811965942,0.012383528053760529,0.9469900131225586,0.9406611323356628,0.02189617231488228,0.00513895507901907,0.9315266609191895,0.6846194863319397,0.00252342177554965,0.9255027770996094,0.12604449689388275,0.8625036478042603,0.022475941106677055,0.9427933096885681,0.002689987886697054,0.023181047290563583,0.0020413780584931374,0.23801666498184204,0.004571772180497646,0.0267456267029047,0.07405140995979309,0.013269828632473946,0.014075732789933681,0.018177680671215057,0.8879609704017639,0.5017601251602173,0.052536748349666595,0.0013182642869651318,0.9114360809326172,0.013911278918385506,0.002193354768678546,0.9450902938842773,0.01495618000626564,0.7675567269325256,0.3331969380378723,0.9254684448242188,0.9329370260238647,0.9176525473594666,0.013932841829955578,0.00535422982648015,0.8387388586997986,0.004764800425618887,0.02386591210961342,0.04008623957633972,0.5606747269630432,0.9332547783851624,0.02354300580918789,0.7222034931182861,0.010339915752410889,0.0051331170834600925,0.015859361737966537,0.928329586982727,0.07042752951383591,0.0033885720185935497,0.02866990491747856,0.9165403246879578,0.03584417700767517,0.9447782635688782,0.9416751265525818,0.5410656929016113,0.02953338623046875,0.009083312004804611,0.32500940561294556,0.07135940343141556,0.21336644887924194,0.00776125630363822,0.0751323252916336,0.020248418673872948,0.7727653980255127,0.0019125656690448523,0.0154165243729949,0.014082311652600765,0.9479771256446838,0.00926204677671194,0.9451633095741272,0.018092600628733635,0.03380986675620079,0.013082841411232948,0.8813718557357788,0.03869924694299698,0.043908167630434036,0.07465846836566925,0.020705657079815865,0.840247631072998,0.01788754016160965,0.7686178684234619,0.04338349774479866,0.03050147369503975,0.04970092326402664,0.8392722010612488,0.002669614041224122,0.11674889177083969,0.00298236939124763,0.012624367140233517,0.01754012331366539,0.09177706390619278,0.021733084693551064,0.004724114201962948,0.0017189689679071307,0.030842922627925873,0.02060762234032154,0.90532386302948,0.11719930917024612,0.019032690674066544,0.8460276126861572,0.1660507172346115,0.8996521830558777,0.7967191338539124,0.003243226557970047,0.913471519947052,0.0244155190885067,0.18375305831432343,0.006471569649875164,0.9159026741981506,0.007738111540675163,0.002430642256513238],\"type\":\"scatter3d\"}],                        {\"template\":{\"data\":{\"barpolar\":[{\"marker\":{\"line\":{\"color\":\"rgb(17,17,17)\",\"width\":0.5},\"pattern\":{\"fillmode\":\"overlay\",\"size\":10,\"solidity\":0.2}},\"type\":\"barpolar\"}],\"bar\":[{\"error_x\":{\"color\":\"#f2f5fa\"},\"error_y\":{\"color\":\"#f2f5fa\"},\"marker\":{\"line\":{\"color\":\"rgb(17,17,17)\",\"width\":0.5},\"pattern\":{\"fillmode\":\"overlay\",\"size\":10,\"solidity\":0.2}},\"type\":\"bar\"}],\"carpet\":[{\"aaxis\":{\"endlinecolor\":\"#A2B1C6\",\"gridcolor\":\"#506784\",\"linecolor\":\"#506784\",\"minorgridcolor\":\"#506784\",\"startlinecolor\":\"#A2B1C6\"},\"baxis\":{\"endlinecolor\":\"#A2B1C6\",\"gridcolor\":\"#506784\",\"linecolor\":\"#506784\",\"minorgridcolor\":\"#506784\",\"startlinecolor\":\"#A2B1C6\"},\"type\":\"carpet\"}],\"choropleth\":[{\"colorbar\":{\"outlinewidth\":0,\"ticks\":\"\"},\"type\":\"choropleth\"}],\"contourcarpet\":[{\"colorbar\":{\"outlinewidth\":0,\"ticks\":\"\"},\"type\":\"contourcarpet\"}],\"contour\":[{\"colorbar\":{\"outlinewidth\":0,\"ticks\":\"\"},\"colorscale\":[[0.0,\"#0d0887\"],[0.1111111111111111,\"#46039f\"],[0.2222222222222222,\"#7201a8\"],[0.3333333333333333,\"#9c179e\"],[0.4444444444444444,\"#bd3786\"],[0.5555555555555556,\"#d8576b\"],[0.6666666666666666,\"#ed7953\"],[0.7777777777777778,\"#fb9f3a\"],[0.8888888888888888,\"#fdca26\"],[1.0,\"#f0f921\"]],\"type\":\"contour\"}],\"heatmapgl\":[{\"colorbar\":{\"outlinewidth\":0,\"ticks\":\"\"},\"colorscale\":[[0.0,\"#0d0887\"],[0.1111111111111111,\"#46039f\"],[0.2222222222222222,\"#7201a8\"],[0.3333333333333333,\"#9c179e\"],[0.4444444444444444,\"#bd3786\"],[0.5555555555555556,\"#d8576b\"],[0.6666666666666666,\"#ed7953\"],[0.7777777777777778,\"#fb9f3a\"],[0.8888888888888888,\"#fdca26\"],[1.0,\"#f0f921\"]],\"type\":\"heatmapgl\"}],\"heatmap\":[{\"colorbar\":{\"outlinewidth\":0,\"ticks\":\"\"},\"colorscale\":[[0.0,\"#0d0887\"],[0.1111111111111111,\"#46039f\"],[0.2222222222222222,\"#7201a8\"],[0.3333333333333333,\"#9c179e\"],[0.4444444444444444,\"#bd3786\"],[0.5555555555555556,\"#d8576b\"],[0.6666666666666666,\"#ed7953\"],[0.7777777777777778,\"#fb9f3a\"],[0.8888888888888888,\"#fdca26\"],[1.0,\"#f0f921\"]],\"type\":\"heatmap\"}],\"histogram2dcontour\":[{\"colorbar\":{\"outlinewidth\":0,\"ticks\":\"\"},\"colorscale\":[[0.0,\"#0d0887\"],[0.1111111111111111,\"#46039f\"],[0.2222222222222222,\"#7201a8\"],[0.3333333333333333,\"#9c179e\"],[0.4444444444444444,\"#bd3786\"],[0.5555555555555556,\"#d8576b\"],[0.6666666666666666,\"#ed7953\"],[0.7777777777777778,\"#fb9f3a\"],[0.8888888888888888,\"#fdca26\"],[1.0,\"#f0f921\"]],\"type\":\"histogram2dcontour\"}],\"histogram2d\":[{\"colorbar\":{\"outlinewidth\":0,\"ticks\":\"\"},\"colorscale\":[[0.0,\"#0d0887\"],[0.1111111111111111,\"#46039f\"],[0.2222222222222222,\"#7201a8\"],[0.3333333333333333,\"#9c179e\"],[0.4444444444444444,\"#bd3786\"],[0.5555555555555556,\"#d8576b\"],[0.6666666666666666,\"#ed7953\"],[0.7777777777777778,\"#fb9f3a\"],[0.8888888888888888,\"#fdca26\"],[1.0,\"#f0f921\"]],\"type\":\"histogram2d\"}],\"histogram\":[{\"marker\":{\"pattern\":{\"fillmode\":\"overlay\",\"size\":10,\"solidity\":0.2}},\"type\":\"histogram\"}],\"mesh3d\":[{\"colorbar\":{\"outlinewidth\":0,\"ticks\":\"\"},\"type\":\"mesh3d\"}],\"parcoords\":[{\"line\":{\"colorbar\":{\"outlinewidth\":0,\"ticks\":\"\"}},\"type\":\"parcoords\"}],\"pie\":[{\"automargin\":true,\"type\":\"pie\"}],\"scatter3d\":[{\"line\":{\"colorbar\":{\"outlinewidth\":0,\"ticks\":\"\"}},\"marker\":{\"colorbar\":{\"outlinewidth\":0,\"ticks\":\"\"}},\"type\":\"scatter3d\"}],\"scattercarpet\":[{\"marker\":{\"colorbar\":{\"outlinewidth\":0,\"ticks\":\"\"}},\"type\":\"scattercarpet\"}],\"scattergeo\":[{\"marker\":{\"colorbar\":{\"outlinewidth\":0,\"ticks\":\"\"}},\"type\":\"scattergeo\"}],\"scattergl\":[{\"marker\":{\"line\":{\"color\":\"#283442\"}},\"type\":\"scattergl\"}],\"scattermapbox\":[{\"marker\":{\"colorbar\":{\"outlinewidth\":0,\"ticks\":\"\"}},\"type\":\"scattermapbox\"}],\"scatterpolargl\":[{\"marker\":{\"colorbar\":{\"outlinewidth\":0,\"ticks\":\"\"}},\"type\":\"scatterpolargl\"}],\"scatterpolar\":[{\"marker\":{\"colorbar\":{\"outlinewidth\":0,\"ticks\":\"\"}},\"type\":\"scatterpolar\"}],\"scatter\":[{\"marker\":{\"line\":{\"color\":\"#283442\"}},\"type\":\"scatter\"}],\"scatterternary\":[{\"marker\":{\"colorbar\":{\"outlinewidth\":0,\"ticks\":\"\"}},\"type\":\"scatterternary\"}],\"surface\":[{\"colorbar\":{\"outlinewidth\":0,\"ticks\":\"\"},\"colorscale\":[[0.0,\"#0d0887\"],[0.1111111111111111,\"#46039f\"],[0.2222222222222222,\"#7201a8\"],[0.3333333333333333,\"#9c179e\"],[0.4444444444444444,\"#bd3786\"],[0.5555555555555556,\"#d8576b\"],[0.6666666666666666,\"#ed7953\"],[0.7777777777777778,\"#fb9f3a\"],[0.8888888888888888,\"#fdca26\"],[1.0,\"#f0f921\"]],\"type\":\"surface\"}],\"table\":[{\"cells\":{\"fill\":{\"color\":\"#506784\"},\"line\":{\"color\":\"rgb(17,17,17)\"}},\"header\":{\"fill\":{\"color\":\"#2a3f5f\"},\"line\":{\"color\":\"rgb(17,17,17)\"}},\"type\":\"table\"}]},\"layout\":{\"annotationdefaults\":{\"arrowcolor\":\"#f2f5fa\",\"arrowhead\":0,\"arrowwidth\":1},\"autotypenumbers\":\"strict\",\"coloraxis\":{\"colorbar\":{\"outlinewidth\":0,\"ticks\":\"\"}},\"colorscale\":{\"diverging\":[[0,\"#8e0152\"],[0.1,\"#c51b7d\"],[0.2,\"#de77ae\"],[0.3,\"#f1b6da\"],[0.4,\"#fde0ef\"],[0.5,\"#f7f7f7\"],[0.6,\"#e6f5d0\"],[0.7,\"#b8e186\"],[0.8,\"#7fbc41\"],[0.9,\"#4d9221\"],[1,\"#276419\"]],\"sequential\":[[0.0,\"#0d0887\"],[0.1111111111111111,\"#46039f\"],[0.2222222222222222,\"#7201a8\"],[0.3333333333333333,\"#9c179e\"],[0.4444444444444444,\"#bd3786\"],[0.5555555555555556,\"#d8576b\"],[0.6666666666666666,\"#ed7953\"],[0.7777777777777778,\"#fb9f3a\"],[0.8888888888888888,\"#fdca26\"],[1.0,\"#f0f921\"]],\"sequentialminus\":[[0.0,\"#0d0887\"],[0.1111111111111111,\"#46039f\"],[0.2222222222222222,\"#7201a8\"],[0.3333333333333333,\"#9c179e\"],[0.4444444444444444,\"#bd3786\"],[0.5555555555555556,\"#d8576b\"],[0.6666666666666666,\"#ed7953\"],[0.7777777777777778,\"#fb9f3a\"],[0.8888888888888888,\"#fdca26\"],[1.0,\"#f0f921\"]]},\"colorway\":[\"#636efa\",\"#EF553B\",\"#00cc96\",\"#ab63fa\",\"#FFA15A\",\"#19d3f3\",\"#FF6692\",\"#B6E880\",\"#FF97FF\",\"#FECB52\"],\"font\":{\"color\":\"#f2f5fa\"},\"geo\":{\"bgcolor\":\"rgb(17,17,17)\",\"lakecolor\":\"rgb(17,17,17)\",\"landcolor\":\"rgb(17,17,17)\",\"showlakes\":true,\"showland\":true,\"subunitcolor\":\"#506784\"},\"hoverlabel\":{\"align\":\"left\"},\"hovermode\":\"closest\",\"mapbox\":{\"style\":\"dark\"},\"paper_bgcolor\":\"rgb(17,17,17)\",\"plot_bgcolor\":\"rgb(17,17,17)\",\"polar\":{\"angularaxis\":{\"gridcolor\":\"#506784\",\"linecolor\":\"#506784\",\"ticks\":\"\"},\"bgcolor\":\"rgb(17,17,17)\",\"radialaxis\":{\"gridcolor\":\"#506784\",\"linecolor\":\"#506784\",\"ticks\":\"\"}},\"scene\":{\"xaxis\":{\"backgroundcolor\":\"rgb(17,17,17)\",\"gridcolor\":\"#506784\",\"gridwidth\":2,\"linecolor\":\"#506784\",\"showbackground\":true,\"ticks\":\"\",\"zerolinecolor\":\"#C8D4E3\"},\"yaxis\":{\"backgroundcolor\":\"rgb(17,17,17)\",\"gridcolor\":\"#506784\",\"gridwidth\":2,\"linecolor\":\"#506784\",\"showbackground\":true,\"ticks\":\"\",\"zerolinecolor\":\"#C8D4E3\"},\"zaxis\":{\"backgroundcolor\":\"rgb(17,17,17)\",\"gridcolor\":\"#506784\",\"gridwidth\":2,\"linecolor\":\"#506784\",\"showbackground\":true,\"ticks\":\"\",\"zerolinecolor\":\"#C8D4E3\"}},\"shapedefaults\":{\"line\":{\"color\":\"#f2f5fa\"}},\"sliderdefaults\":{\"bgcolor\":\"#C8D4E3\",\"bordercolor\":\"rgb(17,17,17)\",\"borderwidth\":1,\"tickwidth\":0},\"ternary\":{\"aaxis\":{\"gridcolor\":\"#506784\",\"linecolor\":\"#506784\",\"ticks\":\"\"},\"baxis\":{\"gridcolor\":\"#506784\",\"linecolor\":\"#506784\",\"ticks\":\"\"},\"bgcolor\":\"rgb(17,17,17)\",\"caxis\":{\"gridcolor\":\"#506784\",\"linecolor\":\"#506784\",\"ticks\":\"\"}},\"title\":{\"x\":0.05},\"updatemenudefaults\":{\"bgcolor\":\"#506784\",\"borderwidth\":0},\"xaxis\":{\"automargin\":true,\"gridcolor\":\"#283442\",\"linecolor\":\"#506784\",\"ticks\":\"\",\"title\":{\"standoff\":15},\"zerolinecolor\":\"#283442\",\"zerolinewidth\":2},\"yaxis\":{\"automargin\":true,\"gridcolor\":\"#283442\",\"linecolor\":\"#506784\",\"ticks\":\"\",\"title\":{\"standoff\":15},\"zerolinecolor\":\"#283442\",\"zerolinewidth\":2}}},\"scene\":{\"domain\":{\"x\":[0.0,1.0],\"y\":[0.0,1.0]},\"xaxis\":{\"title\":{\"text\":\"X\"}},\"yaxis\":{\"title\":{\"text\":\"Y\"}},\"zaxis\":{\"title\":{\"text\":\"Z\"}}},\"coloraxis\":{\"colorbar\":{\"title\":{\"text\":\"tIdx\"}},\"colorscale\":[[0.0,\"rgb(150,0,90)\"],[0.125,\"rgb(0,0,200)\"],[0.25,\"rgb(0,25,255)\"],[0.375,\"rgb(0,152,255)\"],[0.5,\"rgb(44,255,150)\"],[0.625,\"rgb(151,255,0)\"],[0.75,\"rgb(255,234,0)\"],[0.875,\"rgb(255,111,0)\"],[1.0,\"rgb(255,0,0)\"]]},\"legend\":{\"tracegroupgap\":0,\"itemsizing\":\"constant\"},\"margin\":{\"t\":60}},                        {\"responsive\": true}                    ).then(function(){\n",
       "                            \n",
       "var gd = document.getElementById('07d0a11a-594c-4139-a3b1-339e7b1143f3');\n",
       "var x = new MutationObserver(function (mutations, observer) {{\n",
       "        var display = window.getComputedStyle(gd).display;\n",
       "        if (!display || display === 'none') {{\n",
       "            console.log([gd, 'removed!']);\n",
       "            Plotly.purge(gd);\n",
       "            observer.disconnect();\n",
       "        }}\n",
       "}});\n",
       "\n",
       "// Listen for the removal of the full notebook cells\n",
       "var notebookContainer = gd.closest('#notebook-container');\n",
       "if (notebookContainer) {{\n",
       "    x.observe(notebookContainer, {childList: true});\n",
       "}}\n",
       "\n",
       "// Listen for the clearing of the current output cell\n",
       "var outputEl = gd.closest('.output');\n",
       "if (outputEl) {{\n",
       "    x.observe(outputEl, {childList: true});\n",
       "}}\n",
       "\n",
       "                        })                };                });            </script>        </div>"
      ]
     },
     "metadata": {},
     "output_type": "display_data"
    }
   ],
   "execution_count": 6
  },
  {
   "metadata": {
    "ExecuteTime": {
     "end_time": "2025-02-12T11:30:18.274639Z",
     "start_time": "2025-02-12T11:30:18.261125Z"
    }
   },
   "cell_type": "code",
   "source": [
    "def get_distance_matrix(v):\n",
    "    # compute the cosine similarity between vectors in matrix, fast format\n",
    "    # v is a numpy array\n",
    "    # returns a numpy array\n",
    "    dot_product = np.dot(v, v.T)\n",
    "    magnitude = np.sqrt(np.sum(np.square(v), axis=1))\n",
    "    magnitude = magnitude[:, np.newaxis]\n",
    "    return dot_product / (magnitude * magnitude.T)\n",
    "\n",
    "def get_distance_matrix_Lorentz(v):\n",
    "    # Lorentz cosine similarity distance metric\n",
    "    # Lorentz dot product:\n",
    "    dot_product = np.outer(coords[:, 0], coords[:, 0])  - np.outer(coords[:, 1], coords[:, 1]) - np.outer(coords[:, 2], coords[:, 2]) - np.outer(coords[:, 3], coords[:, 3])\n",
    "    #magnitude = np.sqrt(np.abs(np.sum(np.square(v), axis=1)))\n",
    "    # lorentz magnitude\n",
    "    magnitude = np.sqrt(np.abs(v[:, 0]**2 - v[:, 1]**2 - v[:, 2] ** 2 - v[:, 3]**2))\n",
    "    magnitude = magnitude[:, np.newaxis]\n",
    "    return dot_product / (magnitude * magnitude.T)"
   ],
   "id": "2dd7ac91e991f2ea",
   "outputs": [],
   "execution_count": 7
  },
  {
   "metadata": {
    "ExecuteTime": {
     "end_time": "2025-01-20T11:10:19.367089Z",
     "start_time": "2025-01-20T11:10:19.258556Z"
    }
   },
   "cell_type": "code",
   "source": [
    "\n",
    "import sklearn\n",
    "\n",
    "def cosine_similarity(vec1, vec2):\n",
    "    # Ensure the vectors are numpy arrays\n",
    "    vec1 = np.array(vec1)\n",
    "    vec2 = np.array(vec2)\n",
    "\n",
    "    # Compute the dot product and the magnitudes\n",
    "    dot_product = np.dot(vec1, vec2)\n",
    "    magnitude_vec1 = np.linalg.norm(vec1)\n",
    "    magnitude_vec2 = np.linalg.norm(vec2)\n",
    "\n",
    "    # Compute cosine similarity\n",
    "    if magnitude_vec1 == 0 or magnitude_vec2 == 0:\n",
    "        return 0.0  # Handle edge case where a vector has zero magnitude\n",
    "    return dot_product / (magnitude_vec1 * magnitude_vec2)\n",
    "\n",
    "def lorentz_norm(vec1, vec2):\n",
    "    diff = vec1-vec2\n",
    "    norm_squared = np.abs(diff[0]**2 - diff[1]**2 - diff[2] ** 2 - diff[3]**2)\n",
    "    return np.sqrt(norm_squared)\n",
    "\n",
    "\n",
    "clusterer = hdbscan.HDBSCAN(min_cluster_size=5, min_samples=10, cluster_selection_epsilon=0.1)\n",
    "from time import time\n",
    "coords = result[\"pred\"][filt, 1:4]\n",
    "t0 = time()\n",
    "cluster_labels = clusterer.fit_predict(coords)\n",
    "t1 = time()\n",
    "print(t1-t0)\n",
    "plot_coordinates(result[\"pred\"][filt, 1:4], result[\"pt\"][filt], torch.tensor(cluster_labels)).show()\n"
   ],
   "id": "a910d5bb50d552a9",
   "outputs": [
    {
     "name": "stdout",
     "output_type": "stream",
     "text": [
      "0.010918378829956055\n",
      "[('X', (141, 1)), ('Y', (141, 1)), ('Z', (141, 1)), ('tIdx', (141, 1)), ('pt', (141, 1))]\n"
     ]
    },
    {
     "name": "stderr",
     "output_type": "stream",
     "text": [
      "/work/gkrzmanc/1gatr/lib/python3.10/site-packages/sklearn/utils/deprecation.py:151: FutureWarning:\n",
      "\n",
      "'force_all_finite' was renamed to 'ensure_all_finite' in 1.6 and will be removed in 1.8.\n",
      "\n",
      "/work/gkrzmanc/1gatr/lib/python3.10/site-packages/sklearn/utils/deprecation.py:151: FutureWarning:\n",
      "\n",
      "'force_all_finite' was renamed to 'ensure_all_finite' in 1.6 and will be removed in 1.8.\n",
      "\n"
     ]
    },
    {
     "data": {
      "application/vnd.plotly.v1+json": {
       "data": [
        {
         "hovertemplate": "X=%{x}<br>Y=%{y}<br>Z=%{z}<br>pt=%{marker.size}<br>tIdx=%{marker.color}<extra></extra>",
         "legendgroup": "",
         "marker": {
          "color": [
           -1.0,
           3.0,
           3.0,
           2.0,
           2.0,
           2.0,
           3.0,
           2.0,
           3.0,
           2.0,
           3.0,
           2.0,
           2.0,
           3.0,
           1.0,
           2.0,
           3.0,
           0.0,
           -1.0,
           3.0,
           0.0,
           3.0,
           2.0,
           3.0,
           3.0,
           3.0,
           1.0,
           2.0,
           3.0,
           0.0,
           0.0,
           3.0,
           3.0,
           -1.0,
           3.0,
           2.0,
           2.0,
           -1.0,
           3.0,
           -1.0,
           -1.0,
           -1.0,
           2.0,
           0.0,
           0.0,
           -1.0,
           1.0,
           0.0,
           -1.0,
           3.0,
           2.0,
           0.0,
           -1.0,
           3.0,
           -1.0,
           0.0,
           2.0,
           0.0,
           3.0,
           -1.0,
           2.0,
           2.0,
           3.0,
           -1.0,
           -1.0,
           3.0,
           0.0,
           -1.0,
           -1.0,
           2.0,
           3.0,
           3.0,
           2.0,
           -1.0,
           0.0,
           -1.0,
           2.0,
           -1.0,
           0.0,
           -1.0,
           2.0,
           3.0,
           3.0,
           3.0,
           -1.0,
           0.0,
           0.0,
           -1.0,
           -1.0,
           -1.0,
           0.0,
           2.0,
           -1.0,
           3.0,
           0.0,
           0.0,
           1.0,
           3.0,
           -1.0,
           3.0,
           -1.0,
           0.0,
           1.0,
           3.0,
           -1.0,
           -1.0,
           -1.0,
           0.0,
           2.0,
           -1.0,
           2.0,
           1.0,
           0.0,
           2.0,
           3.0,
           0.0,
           2.0,
           0.0,
           1.0,
           -1.0,
           -1.0,
           0.0,
           0.0,
           -1.0,
           1.0,
           2.0,
           3.0,
           -1.0,
           1.0,
           3.0,
           -1.0,
           2.0,
           3.0,
           0.0,
           3.0,
           1.0,
           2.0,
           0.0,
           3.0,
           -1.0,
           0.0
          ],
          "coloraxis": "coloraxis",
          "size": [
           56.21875,
           30.3125,
           8.1953125,
           7.85546875,
           6.6015625,
           5.43359375,
           4.359375,
           4.11328125,
           3.79296875,
           3.615234375,
           3.3828125,
           3.3125,
           3.169921875,
           2.876953125,
           2.810546875,
           2.677734375,
           2.646484375,
           2.5703125,
           2.5625,
           2.54296875,
           2.51171875,
           2.50390625,
           2.357421875,
           2.330078125,
           2.310546875,
           2.224609375,
           2.181640625,
           2.119140625,
           2.111328125,
           2.0390625,
           1.9365234375,
           1.923828125,
           1.8955078125,
           1.859375,
           1.787109375,
           1.767578125,
           1.6845703125,
           1.6826171875,
           1.6708984375,
           1.662109375,
           1.6552734375,
           1.6376953125,
           1.5673828125,
           1.564453125,
           1.533203125,
           1.5087890625,
           1.4853515625,
           1.4580078125,
           1.4033203125,
           1.4013671875,
           1.396484375,
           1.375,
           1.345703125,
           1.3291015625,
           1.326171875,
           1.294921875,
           1.2822265625,
           1.2763671875,
           1.275390625,
           1.2529296875,
           1.21875,
           1.2099609375,
           1.185546875,
           1.181640625,
           1.1689453125,
           1.1669921875,
           1.1474609375,
           1.1376953125,
           1.1376953125,
           1.1103515625,
           1.0986328125,
           1.0810546875,
           1.0791015625,
           1.064453125,
           1.0419921875,
           1.0390625,
           1.0234375,
           1.021484375,
           0.98779296875,
           0.9326171875,
           0.92822265625,
           0.91748046875,
           0.916015625,
           0.91455078125,
           0.9091796875,
           0.89697265625,
           0.888671875,
           0.88330078125,
           0.869140625,
           0.85498046875,
           0.8515625,
           0.84765625,
           0.84375,
           0.84130859375,
           0.8408203125,
           0.83837890625,
           0.82763671875,
           0.826171875,
           0.82275390625,
           0.818359375,
           0.8173828125,
           0.810546875,
           0.806640625,
           0.7880859375,
           0.76953125,
           0.7666015625,
           0.76123046875,
           0.7607421875,
           0.75732421875,
           0.75732421875,
           0.75,
           0.7470703125,
           0.74365234375,
           0.72705078125,
           0.712890625,
           0.71240234375,
           0.70849609375,
           0.70703125,
           0.70166015625,
           0.69970703125,
           0.69677734375,
           0.69580078125,
           0.68896484375,
           0.68408203125,
           0.65966796875,
           0.654296875,
           0.63916015625,
           0.63330078125,
           0.6328125,
           0.6318359375,
           0.6298828125,
           0.6279296875,
           0.623046875,
           0.61767578125,
           0.61767578125,
           0.61376953125,
           0.61376953125,
           0.61083984375,
           0.6083984375,
           0.6064453125,
           0.6015625
          ],
          "sizemode": "area",
          "sizeref": 0.140546875,
          "symbol": "circle",
          "line": {
           "width": 0
          }
         },
         "mode": "markers",
         "name": "",
         "scene": "scene",
         "showlegend": false,
         "x": [
          1.8411712646484375,
          -2.522686719894409,
          -2.4129951000213623,
          1.9901788234710693,
          1.6636333465576172,
          1.6867585182189941,
          -2.3150012493133545,
          1.7260633707046509,
          -1.747094988822937,
          1.6223530769348145,
          -2.061624765396118,
          1.9998637437820435,
          1.6998132467269897,
          -2.3290047645568848,
          3.0216383934020996,
          1.840533971786499,
          -2.2175347805023193,
          0.36496007442474365,
          0.15621675550937653,
          -2.407304525375366,
          -1.974696159362793,
          -2.872187852859497,
          1.8141885995864868,
          -2.7332513332366943,
          -0.5611585378646851,
          -2.169691562652588,
          2.278728723526001,
          1.689452886581421,
          -2.301179885864258,
          -0.7461513876914978,
          -2.2872955799102783,
          -2.5275323390960693,
          -1.7118428945541382,
          -1.6773886680603027,
          -2.574779510498047,
          1.561798095703125,
          1.7997194528579712,
          3.645848035812378,
          -2.235827922821045,
          1.8425447940826416,
          0.41018256545066833,
          -1.212222695350647,
          1.9937679767608643,
          1.5113431215286255,
          -0.8121848702430725,
          -3.029036045074463,
          2.2207300662994385,
          -2.6509389877319336,
          3.599907636642456,
          -2.5486032962799072,
          1.6542530059814453,
          -2.10996150970459,
          1.5152677297592163,
          -2.1622543334960938,
          1.7261897325515747,
          1.2757388353347778,
          1.6777442693710327,
          -2.0802419185638428,
          -1.777970552444458,
          -3.620804786682129,
          1.6916468143463135,
          1.6863940954208374,
          -2.5542445182800293,
          -0.6825491786003113,
          2.595134735107422,
          -2.843463182449341,
          2.387848138809204,
          -0.354938805103302,
          1.5272729396820068,
          1.8800228834152222,
          -2.120563507080078,
          -1.9567219018936157,
          1.8392518758773804,
          3.3408432006835938,
          -0.7955878973007202,
          3.2810914516448975,
          1.6434342861175537,
          1.7120492458343506,
          1.0976753234863281,
          0.16248370707035065,
          1.7139579057693481,
          -2.5007987022399902,
          -2.1329963207244873,
          -2.4087326526641846,
          -3.048182249069214,
          -1.6931315660476685,
          -1.667431116104126,
          -2.529144763946533,
          -0.7144979238510132,
          2.798675775527954,
          -2.318450450897217,
          3.0250344276428223,
          3.3414969444274902,
          -1.683628797531128,
          0.8422178626060486,
          -1.2700635194778442,
          3.224628448486328,
          -2.1929819583892822,
          3.2866179943084717,
          -2.264336109161377,
          0.015907974913716316,
          -2.0944478511810303,
          3.215803861618042,
          -1.8754534721374512,
          -2.7968456745147705,
          3.7824931144714355,
          2.0464158058166504,
          -2.7814836502075195,
          1.783958911895752,
          -1.7874057292938232,
          1.5332332849502563,
          3.0009734630584717,
          -3.0661377906799316,
          0.8484869003295898,
          -2.1037070751190186,
          1.5366361141204834,
          1.2627863883972168,
          -1.126605749130249,
          2.282327175140381,
          -0.9385878443717957,
          2.4155123233795166,
          -2.885427713394165,
          1.556852102279663,
          1.7129369974136353,
          2.7353992462158203,
          1.3975930213928223,
          -1.8982449769973755,
          2.6141178607940674,
          0.9802422523498535,
          -1.9378496408462524,
          -3.3062102794647217,
          1.6210947036743164,
          -1.8668112754821777,
          -1.29080331325531,
          -2.6802406311035156,
          3.518674373626709,
          2.160449981689453,
          -1.0534309148788452,
          -2.5538363456726074,
          2.947633981704712,
          0.35545453429222107
         ],
         "y": [
          11.484721183776855,
          8.731682777404785,
          8.241484642028809,
          10.398521423339844,
          10.179244041442871,
          9.956130027770996,
          7.946946144104004,
          9.621484756469727,
          8.317768096923828,
          9.602851867675781,
          8.096202850341797,
          8.428861618041992,
          7.713281631469727,
          7.759325981140137,
          2.001000165939331,
          8.673704147338867,
          7.815395355224609,
          -1.8945016860961914,
          5.307507038116455,
          7.635284423828125,
          -4.762759208679199,
          6.974043846130371,
          9.353918075561523,
          7.169582843780518,
          7.842984199523926,
          7.738143444061279,
          3.8158230781555176,
          9.230376243591309,
          7.659114837646484,
          -1.241110920906067,
          -4.673916816711426,
          7.331056118011475,
          8.126399040222168,
          -6.183385372161865,
          7.399578094482422,
          7.569636821746826,
          9.191303253173828,
          2.0824391841888428,
          7.539384841918945,
          -5.831722736358643,
          1.1391910314559937,
          -6.635079383850098,
          8.075276374816895,
          -3.04512357711792,
          -0.6494570374488831,
          0.5757555365562439,
          3.355726718902588,
          -2.798525333404541,
          0.47095903754234314,
          7.09736967086792,
          8.699042320251465,
          0.3937191665172577,
          -6.4269280433654785,
          7.501816749572754,
          0.9359796047210693,
          -6.08197546005249,
          8.978398323059082,
          -2.8815436363220215,
          7.695521831512451,
          4.2803826332092285,
          9.004857063293457,
          8.947896003723145,
          6.97410249710083,
          1.9161756038665771,
          -3.0744786262512207,
          6.716772556304932,
          -3.30195689201355,
          6.058880805969238,
          3.539236545562744,
          8.700676918029785,
          7.578433990478516,
          6.164597034454346,
          8.811245918273926,
          -1.006975769996643,
          -5.035004138946533,
          0.25036776065826416,
          8.851595878601074,
          4.802543640136719,
          -3.9611656665802,
          1.8577446937561035,
          8.845459938049316,
          5.3601861000061035,
          7.407097816467285,
          7.300731182098389,
          5.122791767120361,
          -1.0425262451171875,
          -2.0254790782928467,
          4.59906005859375,
          5.5377349853515625,
          7.0722126960754395,
          -3.6198534965515137,
          7.7057366371154785,
          0.7627019286155701,
          7.704476833343506,
          -5.568854808807373,
          -2.8196332454681396,
          2.8956897258758545,
          7.310884475708008,
          -1.9668323993682861,
          7.258252143859863,
          2.040471076965332,
          -1.3508975505828857,
          3.6582324504852295,
          7.501095294952393,
          3.844759941101074,
          5.517116546630859,
          5.136075019836426,
          -1.670976161956787,
          8.753059387207031,
          3.6817221641540527,
          8.523528099060059,
          3.124119997024536,
          -1.3789392709732056,
          6.031548976898193,
          7.365862846374512,
          -4.676599025726318,
          7.970692157745361,
          -5.706074237823486,
          1.5437520742416382,
          2.5718445777893066,
          5.178225994110107,
          -1.7867119312286377,
          -3.9174883365631104,
          -6.325456142425537,
          2.165548801422119,
          7.667225360870361,
          7.437671184539795,
          6.005098342895508,
          2.5892181396484375,
          7.4688401222229,
          2.550855875015259,
          8.82972240447998,
          7.493037223815918,
          -5.2092204093933105,
          6.904902935028076,
          2.0044095516204834,
          6.942010879516602,
          -3.196828842163086,
          6.915232181549072,
          -2.55283522605896,
          -5.1857733726501465
         ],
         "z": [
          0.9599736928939819,
          0.9545231461524963,
          0.9484756588935852,
          0.8629654049873352,
          0.9065804481506348,
          0.9346697926521301,
          0.9416508674621582,
          0.9376319050788879,
          0.6251171231269836,
          0.9200356602668762,
          0.814395546913147,
          0.20510144531726837,
          0.14036493003368378,
          0.9411420226097107,
          0.011215683072805405,
          0.22863861918449402,
          0.9380825161933899,
          0.013005613349378109,
          0.029080139473080635,
          0.937067449092865,
          0.006106241140514612,
          0.8271619081497192,
          0.8916909098625183,
          0.8522865176200867,
          0.021532395854592323,
          0.9406567811965942,
          0.012383528053760529,
          0.9469900131225586,
          0.9406611323356628,
          0.02189617231488228,
          0.00513895507901907,
          0.9315266609191895,
          0.6846194863319397,
          0.00252342177554965,
          0.9255027770996094,
          0.12604449689388275,
          0.8625036478042603,
          0.022475941106677055,
          0.9427933096885681,
          0.002689987886697054,
          0.023181047290563583,
          0.0020413780584931374,
          0.23801666498184204,
          0.004571772180497646,
          0.0267456267029047,
          0.07405140995979309,
          0.013269828632473946,
          0.014075732789933681,
          0.018177680671215057,
          0.8879609704017639,
          0.5017601251602173,
          0.052536748349666595,
          0.0013182642869651318,
          0.9114360809326172,
          0.013911278918385506,
          0.002193354768678546,
          0.9450902938842773,
          0.01495618000626564,
          0.7675567269325256,
          0.3331969380378723,
          0.9254684448242188,
          0.9329370260238647,
          0.9176525473594666,
          0.013932841829955578,
          0.00535422982648015,
          0.8387388586997986,
          0.004764800425618887,
          0.02386591210961342,
          0.04008623957633972,
          0.5606747269630432,
          0.9332547783851624,
          0.02354300580918789,
          0.7222034931182861,
          0.010339915752410889,
          0.0051331170834600925,
          0.015859361737966537,
          0.928329586982727,
          0.07042752951383591,
          0.0033885720185935497,
          0.02866990491747856,
          0.9165403246879578,
          0.03584417700767517,
          0.9447782635688782,
          0.9416751265525818,
          0.5410656929016113,
          0.02953338623046875,
          0.009083312004804611,
          0.32500940561294556,
          0.07135940343141556,
          0.21336644887924194,
          0.00776125630363822,
          0.0751323252916336,
          0.020248418673872948,
          0.7727653980255127,
          0.0019125656690448523,
          0.0154165243729949,
          0.014082311652600765,
          0.9479771256446838,
          0.00926204677671194,
          0.9451633095741272,
          0.018092600628733635,
          0.03380986675620079,
          0.013082841411232948,
          0.8813718557357788,
          0.03869924694299698,
          0.043908167630434036,
          0.07465846836566925,
          0.020705657079815865,
          0.840247631072998,
          0.01788754016160965,
          0.7686178684234619,
          0.04338349774479866,
          0.03050147369503975,
          0.04970092326402664,
          0.8392722010612488,
          0.002669614041224122,
          0.11674889177083969,
          0.00298236939124763,
          0.012624367140233517,
          0.01754012331366539,
          0.09177706390619278,
          0.021733084693551064,
          0.004724114201962948,
          0.0017189689679071307,
          0.030842922627925873,
          0.02060762234032154,
          0.90532386302948,
          0.11719930917024612,
          0.019032690674066544,
          0.8460276126861572,
          0.1660507172346115,
          0.8996521830558777,
          0.7967191338539124,
          0.003243226557970047,
          0.913471519947052,
          0.0244155190885067,
          0.18375305831432343,
          0.006471569649875164,
          0.9159026741981506,
          0.007738111540675163,
          0.002430642256513238
         ],
         "type": "scatter3d"
        }
       ],
       "layout": {
        "template": {
         "data": {
          "barpolar": [
           {
            "marker": {
             "line": {
              "color": "rgb(17,17,17)",
              "width": 0.5
             },
             "pattern": {
              "fillmode": "overlay",
              "size": 10,
              "solidity": 0.2
             }
            },
            "type": "barpolar"
           }
          ],
          "bar": [
           {
            "error_x": {
             "color": "#f2f5fa"
            },
            "error_y": {
             "color": "#f2f5fa"
            },
            "marker": {
             "line": {
              "color": "rgb(17,17,17)",
              "width": 0.5
             },
             "pattern": {
              "fillmode": "overlay",
              "size": 10,
              "solidity": 0.2
             }
            },
            "type": "bar"
           }
          ],
          "carpet": [
           {
            "aaxis": {
             "endlinecolor": "#A2B1C6",
             "gridcolor": "#506784",
             "linecolor": "#506784",
             "minorgridcolor": "#506784",
             "startlinecolor": "#A2B1C6"
            },
            "baxis": {
             "endlinecolor": "#A2B1C6",
             "gridcolor": "#506784",
             "linecolor": "#506784",
             "minorgridcolor": "#506784",
             "startlinecolor": "#A2B1C6"
            },
            "type": "carpet"
           }
          ],
          "choropleth": [
           {
            "colorbar": {
             "outlinewidth": 0,
             "ticks": ""
            },
            "type": "choropleth"
           }
          ],
          "contourcarpet": [
           {
            "colorbar": {
             "outlinewidth": 0,
             "ticks": ""
            },
            "type": "contourcarpet"
           }
          ],
          "contour": [
           {
            "colorbar": {
             "outlinewidth": 0,
             "ticks": ""
            },
            "colorscale": [
             [
              0.0,
              "#0d0887"
             ],
             [
              0.1111111111111111,
              "#46039f"
             ],
             [
              0.2222222222222222,
              "#7201a8"
             ],
             [
              0.3333333333333333,
              "#9c179e"
             ],
             [
              0.4444444444444444,
              "#bd3786"
             ],
             [
              0.5555555555555556,
              "#d8576b"
             ],
             [
              0.6666666666666666,
              "#ed7953"
             ],
             [
              0.7777777777777778,
              "#fb9f3a"
             ],
             [
              0.8888888888888888,
              "#fdca26"
             ],
             [
              1.0,
              "#f0f921"
             ]
            ],
            "type": "contour"
           }
          ],
          "heatmapgl": [
           {
            "colorbar": {
             "outlinewidth": 0,
             "ticks": ""
            },
            "colorscale": [
             [
              0.0,
              "#0d0887"
             ],
             [
              0.1111111111111111,
              "#46039f"
             ],
             [
              0.2222222222222222,
              "#7201a8"
             ],
             [
              0.3333333333333333,
              "#9c179e"
             ],
             [
              0.4444444444444444,
              "#bd3786"
             ],
             [
              0.5555555555555556,
              "#d8576b"
             ],
             [
              0.6666666666666666,
              "#ed7953"
             ],
             [
              0.7777777777777778,
              "#fb9f3a"
             ],
             [
              0.8888888888888888,
              "#fdca26"
             ],
             [
              1.0,
              "#f0f921"
             ]
            ],
            "type": "heatmapgl"
           }
          ],
          "heatmap": [
           {
            "colorbar": {
             "outlinewidth": 0,
             "ticks": ""
            },
            "colorscale": [
             [
              0.0,
              "#0d0887"
             ],
             [
              0.1111111111111111,
              "#46039f"
             ],
             [
              0.2222222222222222,
              "#7201a8"
             ],
             [
              0.3333333333333333,
              "#9c179e"
             ],
             [
              0.4444444444444444,
              "#bd3786"
             ],
             [
              0.5555555555555556,
              "#d8576b"
             ],
             [
              0.6666666666666666,
              "#ed7953"
             ],
             [
              0.7777777777777778,
              "#fb9f3a"
             ],
             [
              0.8888888888888888,
              "#fdca26"
             ],
             [
              1.0,
              "#f0f921"
             ]
            ],
            "type": "heatmap"
           }
          ],
          "histogram2dcontour": [
           {
            "colorbar": {
             "outlinewidth": 0,
             "ticks": ""
            },
            "colorscale": [
             [
              0.0,
              "#0d0887"
             ],
             [
              0.1111111111111111,
              "#46039f"
             ],
             [
              0.2222222222222222,
              "#7201a8"
             ],
             [
              0.3333333333333333,
              "#9c179e"
             ],
             [
              0.4444444444444444,
              "#bd3786"
             ],
             [
              0.5555555555555556,
              "#d8576b"
             ],
             [
              0.6666666666666666,
              "#ed7953"
             ],
             [
              0.7777777777777778,
              "#fb9f3a"
             ],
             [
              0.8888888888888888,
              "#fdca26"
             ],
             [
              1.0,
              "#f0f921"
             ]
            ],
            "type": "histogram2dcontour"
           }
          ],
          "histogram2d": [
           {
            "colorbar": {
             "outlinewidth": 0,
             "ticks": ""
            },
            "colorscale": [
             [
              0.0,
              "#0d0887"
             ],
             [
              0.1111111111111111,
              "#46039f"
             ],
             [
              0.2222222222222222,
              "#7201a8"
             ],
             [
              0.3333333333333333,
              "#9c179e"
             ],
             [
              0.4444444444444444,
              "#bd3786"
             ],
             [
              0.5555555555555556,
              "#d8576b"
             ],
             [
              0.6666666666666666,
              "#ed7953"
             ],
             [
              0.7777777777777778,
              "#fb9f3a"
             ],
             [
              0.8888888888888888,
              "#fdca26"
             ],
             [
              1.0,
              "#f0f921"
             ]
            ],
            "type": "histogram2d"
           }
          ],
          "histogram": [
           {
            "marker": {
             "pattern": {
              "fillmode": "overlay",
              "size": 10,
              "solidity": 0.2
             }
            },
            "type": "histogram"
           }
          ],
          "mesh3d": [
           {
            "colorbar": {
             "outlinewidth": 0,
             "ticks": ""
            },
            "type": "mesh3d"
           }
          ],
          "parcoords": [
           {
            "line": {
             "colorbar": {
              "outlinewidth": 0,
              "ticks": ""
             }
            },
            "type": "parcoords"
           }
          ],
          "pie": [
           {
            "automargin": true,
            "type": "pie"
           }
          ],
          "scatter3d": [
           {
            "line": {
             "colorbar": {
              "outlinewidth": 0,
              "ticks": ""
             }
            },
            "marker": {
             "colorbar": {
              "outlinewidth": 0,
              "ticks": ""
             }
            },
            "type": "scatter3d"
           }
          ],
          "scattercarpet": [
           {
            "marker": {
             "colorbar": {
              "outlinewidth": 0,
              "ticks": ""
             }
            },
            "type": "scattercarpet"
           }
          ],
          "scattergeo": [
           {
            "marker": {
             "colorbar": {
              "outlinewidth": 0,
              "ticks": ""
             }
            },
            "type": "scattergeo"
           }
          ],
          "scattergl": [
           {
            "marker": {
             "line": {
              "color": "#283442"
             }
            },
            "type": "scattergl"
           }
          ],
          "scattermapbox": [
           {
            "marker": {
             "colorbar": {
              "outlinewidth": 0,
              "ticks": ""
             }
            },
            "type": "scattermapbox"
           }
          ],
          "scatterpolargl": [
           {
            "marker": {
             "colorbar": {
              "outlinewidth": 0,
              "ticks": ""
             }
            },
            "type": "scatterpolargl"
           }
          ],
          "scatterpolar": [
           {
            "marker": {
             "colorbar": {
              "outlinewidth": 0,
              "ticks": ""
             }
            },
            "type": "scatterpolar"
           }
          ],
          "scatter": [
           {
            "marker": {
             "line": {
              "color": "#283442"
             }
            },
            "type": "scatter"
           }
          ],
          "scatterternary": [
           {
            "marker": {
             "colorbar": {
              "outlinewidth": 0,
              "ticks": ""
             }
            },
            "type": "scatterternary"
           }
          ],
          "surface": [
           {
            "colorbar": {
             "outlinewidth": 0,
             "ticks": ""
            },
            "colorscale": [
             [
              0.0,
              "#0d0887"
             ],
             [
              0.1111111111111111,
              "#46039f"
             ],
             [
              0.2222222222222222,
              "#7201a8"
             ],
             [
              0.3333333333333333,
              "#9c179e"
             ],
             [
              0.4444444444444444,
              "#bd3786"
             ],
             [
              0.5555555555555556,
              "#d8576b"
             ],
             [
              0.6666666666666666,
              "#ed7953"
             ],
             [
              0.7777777777777778,
              "#fb9f3a"
             ],
             [
              0.8888888888888888,
              "#fdca26"
             ],
             [
              1.0,
              "#f0f921"
             ]
            ],
            "type": "surface"
           }
          ],
          "table": [
           {
            "cells": {
             "fill": {
              "color": "#506784"
             },
             "line": {
              "color": "rgb(17,17,17)"
             }
            },
            "header": {
             "fill": {
              "color": "#2a3f5f"
             },
             "line": {
              "color": "rgb(17,17,17)"
             }
            },
            "type": "table"
           }
          ]
         },
         "layout": {
          "annotationdefaults": {
           "arrowcolor": "#f2f5fa",
           "arrowhead": 0,
           "arrowwidth": 1
          },
          "autotypenumbers": "strict",
          "coloraxis": {
           "colorbar": {
            "outlinewidth": 0,
            "ticks": ""
           }
          },
          "colorscale": {
           "diverging": [
            [
             0,
             "#8e0152"
            ],
            [
             0.1,
             "#c51b7d"
            ],
            [
             0.2,
             "#de77ae"
            ],
            [
             0.3,
             "#f1b6da"
            ],
            [
             0.4,
             "#fde0ef"
            ],
            [
             0.5,
             "#f7f7f7"
            ],
            [
             0.6,
             "#e6f5d0"
            ],
            [
             0.7,
             "#b8e186"
            ],
            [
             0.8,
             "#7fbc41"
            ],
            [
             0.9,
             "#4d9221"
            ],
            [
             1,
             "#276419"
            ]
           ],
           "sequential": [
            [
             0.0,
             "#0d0887"
            ],
            [
             0.1111111111111111,
             "#46039f"
            ],
            [
             0.2222222222222222,
             "#7201a8"
            ],
            [
             0.3333333333333333,
             "#9c179e"
            ],
            [
             0.4444444444444444,
             "#bd3786"
            ],
            [
             0.5555555555555556,
             "#d8576b"
            ],
            [
             0.6666666666666666,
             "#ed7953"
            ],
            [
             0.7777777777777778,
             "#fb9f3a"
            ],
            [
             0.8888888888888888,
             "#fdca26"
            ],
            [
             1.0,
             "#f0f921"
            ]
           ],
           "sequentialminus": [
            [
             0.0,
             "#0d0887"
            ],
            [
             0.1111111111111111,
             "#46039f"
            ],
            [
             0.2222222222222222,
             "#7201a8"
            ],
            [
             0.3333333333333333,
             "#9c179e"
            ],
            [
             0.4444444444444444,
             "#bd3786"
            ],
            [
             0.5555555555555556,
             "#d8576b"
            ],
            [
             0.6666666666666666,
             "#ed7953"
            ],
            [
             0.7777777777777778,
             "#fb9f3a"
            ],
            [
             0.8888888888888888,
             "#fdca26"
            ],
            [
             1.0,
             "#f0f921"
            ]
           ]
          },
          "colorway": [
           "#636efa",
           "#EF553B",
           "#00cc96",
           "#ab63fa",
           "#FFA15A",
           "#19d3f3",
           "#FF6692",
           "#B6E880",
           "#FF97FF",
           "#FECB52"
          ],
          "font": {
           "color": "#f2f5fa"
          },
          "geo": {
           "bgcolor": "rgb(17,17,17)",
           "lakecolor": "rgb(17,17,17)",
           "landcolor": "rgb(17,17,17)",
           "showlakes": true,
           "showland": true,
           "subunitcolor": "#506784"
          },
          "hoverlabel": {
           "align": "left"
          },
          "hovermode": "closest",
          "mapbox": {
           "style": "dark"
          },
          "paper_bgcolor": "rgb(17,17,17)",
          "plot_bgcolor": "rgb(17,17,17)",
          "polar": {
           "angularaxis": {
            "gridcolor": "#506784",
            "linecolor": "#506784",
            "ticks": ""
           },
           "bgcolor": "rgb(17,17,17)",
           "radialaxis": {
            "gridcolor": "#506784",
            "linecolor": "#506784",
            "ticks": ""
           }
          },
          "scene": {
           "xaxis": {
            "backgroundcolor": "rgb(17,17,17)",
            "gridcolor": "#506784",
            "gridwidth": 2,
            "linecolor": "#506784",
            "showbackground": true,
            "ticks": "",
            "zerolinecolor": "#C8D4E3"
           },
           "yaxis": {
            "backgroundcolor": "rgb(17,17,17)",
            "gridcolor": "#506784",
            "gridwidth": 2,
            "linecolor": "#506784",
            "showbackground": true,
            "ticks": "",
            "zerolinecolor": "#C8D4E3"
           },
           "zaxis": {
            "backgroundcolor": "rgb(17,17,17)",
            "gridcolor": "#506784",
            "gridwidth": 2,
            "linecolor": "#506784",
            "showbackground": true,
            "ticks": "",
            "zerolinecolor": "#C8D4E3"
           }
          },
          "shapedefaults": {
           "line": {
            "color": "#f2f5fa"
           }
          },
          "sliderdefaults": {
           "bgcolor": "#C8D4E3",
           "bordercolor": "rgb(17,17,17)",
           "borderwidth": 1,
           "tickwidth": 0
          },
          "ternary": {
           "aaxis": {
            "gridcolor": "#506784",
            "linecolor": "#506784",
            "ticks": ""
           },
           "baxis": {
            "gridcolor": "#506784",
            "linecolor": "#506784",
            "ticks": ""
           },
           "bgcolor": "rgb(17,17,17)",
           "caxis": {
            "gridcolor": "#506784",
            "linecolor": "#506784",
            "ticks": ""
           }
          },
          "title": {
           "x": 0.05
          },
          "updatemenudefaults": {
           "bgcolor": "#506784",
           "borderwidth": 0
          },
          "xaxis": {
           "automargin": true,
           "gridcolor": "#283442",
           "linecolor": "#506784",
           "ticks": "",
           "title": {
            "standoff": 15
           },
           "zerolinecolor": "#283442",
           "zerolinewidth": 2
          },
          "yaxis": {
           "automargin": true,
           "gridcolor": "#283442",
           "linecolor": "#506784",
           "ticks": "",
           "title": {
            "standoff": 15
           },
           "zerolinecolor": "#283442",
           "zerolinewidth": 2
          }
         }
        },
        "scene": {
         "domain": {
          "x": [
           0.0,
           1.0
          ],
          "y": [
           0.0,
           1.0
          ]
         },
         "xaxis": {
          "title": {
           "text": "X"
          }
         },
         "yaxis": {
          "title": {
           "text": "Y"
          }
         },
         "zaxis": {
          "title": {
           "text": "Z"
          }
         }
        },
        "coloraxis": {
         "colorbar": {
          "title": {
           "text": "tIdx"
          }
         },
         "colorscale": [
          [
           0.0,
           "rgb(150,0,90)"
          ],
          [
           0.125,
           "rgb(0,0,200)"
          ],
          [
           0.25,
           "rgb(0,25,255)"
          ],
          [
           0.375,
           "rgb(0,152,255)"
          ],
          [
           0.5,
           "rgb(44,255,150)"
          ],
          [
           0.625,
           "rgb(151,255,0)"
          ],
          [
           0.75,
           "rgb(255,234,0)"
          ],
          [
           0.875,
           "rgb(255,111,0)"
          ],
          [
           1.0,
           "rgb(255,0,0)"
          ]
         ]
        },
        "legend": {
         "tracegroupgap": 0,
         "itemsizing": "constant"
        },
        "margin": {
         "t": 60
        }
       },
       "config": {
        "plotlyServerURL": "https://plot.ly"
       }
      },
      "text/html": [
       "<div>                            <div id=\"309382cb-a64d-4f90-8a84-de58ec70554a\" class=\"plotly-graph-div\" style=\"height:525px; width:100%;\"></div>            <script type=\"text/javascript\">                require([\"plotly\"], function(Plotly) {                    window.PLOTLYENV=window.PLOTLYENV || {};                                    if (document.getElementById(\"309382cb-a64d-4f90-8a84-de58ec70554a\")) {                    Plotly.newPlot(                        \"309382cb-a64d-4f90-8a84-de58ec70554a\",                        [{\"hovertemplate\":\"X=%{x}\\u003cbr\\u003eY=%{y}\\u003cbr\\u003eZ=%{z}\\u003cbr\\u003ept=%{marker.size}\\u003cbr\\u003etIdx=%{marker.color}\\u003cextra\\u003e\\u003c\\u002fextra\\u003e\",\"legendgroup\":\"\",\"marker\":{\"color\":[-1.0,3.0,3.0,2.0,2.0,2.0,3.0,2.0,3.0,2.0,3.0,2.0,2.0,3.0,1.0,2.0,3.0,0.0,-1.0,3.0,0.0,3.0,2.0,3.0,3.0,3.0,1.0,2.0,3.0,0.0,0.0,3.0,3.0,-1.0,3.0,2.0,2.0,-1.0,3.0,-1.0,-1.0,-1.0,2.0,0.0,0.0,-1.0,1.0,0.0,-1.0,3.0,2.0,0.0,-1.0,3.0,-1.0,0.0,2.0,0.0,3.0,-1.0,2.0,2.0,3.0,-1.0,-1.0,3.0,0.0,-1.0,-1.0,2.0,3.0,3.0,2.0,-1.0,0.0,-1.0,2.0,-1.0,0.0,-1.0,2.0,3.0,3.0,3.0,-1.0,0.0,0.0,-1.0,-1.0,-1.0,0.0,2.0,-1.0,3.0,0.0,0.0,1.0,3.0,-1.0,3.0,-1.0,0.0,1.0,3.0,-1.0,-1.0,-1.0,0.0,2.0,-1.0,2.0,1.0,0.0,2.0,3.0,0.0,2.0,0.0,1.0,-1.0,-1.0,0.0,0.0,-1.0,1.0,2.0,3.0,-1.0,1.0,3.0,-1.0,2.0,3.0,0.0,3.0,1.0,2.0,0.0,3.0,-1.0,0.0],\"coloraxis\":\"coloraxis\",\"size\":[56.21875,30.3125,8.1953125,7.85546875,6.6015625,5.43359375,4.359375,4.11328125,3.79296875,3.615234375,3.3828125,3.3125,3.169921875,2.876953125,2.810546875,2.677734375,2.646484375,2.5703125,2.5625,2.54296875,2.51171875,2.50390625,2.357421875,2.330078125,2.310546875,2.224609375,2.181640625,2.119140625,2.111328125,2.0390625,1.9365234375,1.923828125,1.8955078125,1.859375,1.787109375,1.767578125,1.6845703125,1.6826171875,1.6708984375,1.662109375,1.6552734375,1.6376953125,1.5673828125,1.564453125,1.533203125,1.5087890625,1.4853515625,1.4580078125,1.4033203125,1.4013671875,1.396484375,1.375,1.345703125,1.3291015625,1.326171875,1.294921875,1.2822265625,1.2763671875,1.275390625,1.2529296875,1.21875,1.2099609375,1.185546875,1.181640625,1.1689453125,1.1669921875,1.1474609375,1.1376953125,1.1376953125,1.1103515625,1.0986328125,1.0810546875,1.0791015625,1.064453125,1.0419921875,1.0390625,1.0234375,1.021484375,0.98779296875,0.9326171875,0.92822265625,0.91748046875,0.916015625,0.91455078125,0.9091796875,0.89697265625,0.888671875,0.88330078125,0.869140625,0.85498046875,0.8515625,0.84765625,0.84375,0.84130859375,0.8408203125,0.83837890625,0.82763671875,0.826171875,0.82275390625,0.818359375,0.8173828125,0.810546875,0.806640625,0.7880859375,0.76953125,0.7666015625,0.76123046875,0.7607421875,0.75732421875,0.75732421875,0.75,0.7470703125,0.74365234375,0.72705078125,0.712890625,0.71240234375,0.70849609375,0.70703125,0.70166015625,0.69970703125,0.69677734375,0.69580078125,0.68896484375,0.68408203125,0.65966796875,0.654296875,0.63916015625,0.63330078125,0.6328125,0.6318359375,0.6298828125,0.6279296875,0.623046875,0.61767578125,0.61767578125,0.61376953125,0.61376953125,0.61083984375,0.6083984375,0.6064453125,0.6015625],\"sizemode\":\"area\",\"sizeref\":0.140546875,\"symbol\":\"circle\",\"line\":{\"width\":0}},\"mode\":\"markers\",\"name\":\"\",\"scene\":\"scene\",\"showlegend\":false,\"x\":[1.8411712646484375,-2.522686719894409,-2.4129951000213623,1.9901788234710693,1.6636333465576172,1.6867585182189941,-2.3150012493133545,1.7260633707046509,-1.747094988822937,1.6223530769348145,-2.061624765396118,1.9998637437820435,1.6998132467269897,-2.3290047645568848,3.0216383934020996,1.840533971786499,-2.2175347805023193,0.36496007442474365,0.15621675550937653,-2.407304525375366,-1.974696159362793,-2.872187852859497,1.8141885995864868,-2.7332513332366943,-0.5611585378646851,-2.169691562652588,2.278728723526001,1.689452886581421,-2.301179885864258,-0.7461513876914978,-2.2872955799102783,-2.5275323390960693,-1.7118428945541382,-1.6773886680603027,-2.574779510498047,1.561798095703125,1.7997194528579712,3.645848035812378,-2.235827922821045,1.8425447940826416,0.41018256545066833,-1.212222695350647,1.9937679767608643,1.5113431215286255,-0.8121848702430725,-3.029036045074463,2.2207300662994385,-2.6509389877319336,3.599907636642456,-2.5486032962799072,1.6542530059814453,-2.10996150970459,1.5152677297592163,-2.1622543334960938,1.7261897325515747,1.2757388353347778,1.6777442693710327,-2.0802419185638428,-1.777970552444458,-3.620804786682129,1.6916468143463135,1.6863940954208374,-2.5542445182800293,-0.6825491786003113,2.595134735107422,-2.843463182449341,2.387848138809204,-0.354938805103302,1.5272729396820068,1.8800228834152222,-2.120563507080078,-1.9567219018936157,1.8392518758773804,3.3408432006835938,-0.7955878973007202,3.2810914516448975,1.6434342861175537,1.7120492458343506,1.0976753234863281,0.16248370707035065,1.7139579057693481,-2.5007987022399902,-2.1329963207244873,-2.4087326526641846,-3.048182249069214,-1.6931315660476685,-1.667431116104126,-2.529144763946533,-0.7144979238510132,2.798675775527954,-2.318450450897217,3.0250344276428223,3.3414969444274902,-1.683628797531128,0.8422178626060486,-1.2700635194778442,3.224628448486328,-2.1929819583892822,3.2866179943084717,-2.264336109161377,0.015907974913716316,-2.0944478511810303,3.215803861618042,-1.8754534721374512,-2.7968456745147705,3.7824931144714355,2.0464158058166504,-2.7814836502075195,1.783958911895752,-1.7874057292938232,1.5332332849502563,3.0009734630584717,-3.0661377906799316,0.8484869003295898,-2.1037070751190186,1.5366361141204834,1.2627863883972168,-1.126605749130249,2.282327175140381,-0.9385878443717957,2.4155123233795166,-2.885427713394165,1.556852102279663,1.7129369974136353,2.7353992462158203,1.3975930213928223,-1.8982449769973755,2.6141178607940674,0.9802422523498535,-1.9378496408462524,-3.3062102794647217,1.6210947036743164,-1.8668112754821777,-1.29080331325531,-2.6802406311035156,3.518674373626709,2.160449981689453,-1.0534309148788452,-2.5538363456726074,2.947633981704712,0.35545453429222107],\"y\":[11.484721183776855,8.731682777404785,8.241484642028809,10.398521423339844,10.179244041442871,9.956130027770996,7.946946144104004,9.621484756469727,8.317768096923828,9.602851867675781,8.096202850341797,8.428861618041992,7.713281631469727,7.759325981140137,2.001000165939331,8.673704147338867,7.815395355224609,-1.8945016860961914,5.307507038116455,7.635284423828125,-4.762759208679199,6.974043846130371,9.353918075561523,7.169582843780518,7.842984199523926,7.738143444061279,3.8158230781555176,9.230376243591309,7.659114837646484,-1.241110920906067,-4.673916816711426,7.331056118011475,8.126399040222168,-6.183385372161865,7.399578094482422,7.569636821746826,9.191303253173828,2.0824391841888428,7.539384841918945,-5.831722736358643,1.1391910314559937,-6.635079383850098,8.075276374816895,-3.04512357711792,-0.6494570374488831,0.5757555365562439,3.355726718902588,-2.798525333404541,0.47095903754234314,7.09736967086792,8.699042320251465,0.3937191665172577,-6.4269280433654785,7.501816749572754,0.9359796047210693,-6.08197546005249,8.978398323059082,-2.8815436363220215,7.695521831512451,4.2803826332092285,9.004857063293457,8.947896003723145,6.97410249710083,1.9161756038665771,-3.0744786262512207,6.716772556304932,-3.30195689201355,6.058880805969238,3.539236545562744,8.700676918029785,7.578433990478516,6.164597034454346,8.811245918273926,-1.006975769996643,-5.035004138946533,0.25036776065826416,8.851595878601074,4.802543640136719,-3.9611656665802,1.8577446937561035,8.845459938049316,5.3601861000061035,7.407097816467285,7.300731182098389,5.122791767120361,-1.0425262451171875,-2.0254790782928467,4.59906005859375,5.5377349853515625,7.0722126960754395,-3.6198534965515137,7.7057366371154785,0.7627019286155701,7.704476833343506,-5.568854808807373,-2.8196332454681396,2.8956897258758545,7.310884475708008,-1.9668323993682861,7.258252143859863,2.040471076965332,-1.3508975505828857,3.6582324504852295,7.501095294952393,3.844759941101074,5.517116546630859,5.136075019836426,-1.670976161956787,8.753059387207031,3.6817221641540527,8.523528099060059,3.124119997024536,-1.3789392709732056,6.031548976898193,7.365862846374512,-4.676599025726318,7.970692157745361,-5.706074237823486,1.5437520742416382,2.5718445777893066,5.178225994110107,-1.7867119312286377,-3.9174883365631104,-6.325456142425537,2.165548801422119,7.667225360870361,7.437671184539795,6.005098342895508,2.5892181396484375,7.4688401222229,2.550855875015259,8.82972240447998,7.493037223815918,-5.2092204093933105,6.904902935028076,2.0044095516204834,6.942010879516602,-3.196828842163086,6.915232181549072,-2.55283522605896,-5.1857733726501465],\"z\":[0.9599736928939819,0.9545231461524963,0.9484756588935852,0.8629654049873352,0.9065804481506348,0.9346697926521301,0.9416508674621582,0.9376319050788879,0.6251171231269836,0.9200356602668762,0.814395546913147,0.20510144531726837,0.14036493003368378,0.9411420226097107,0.011215683072805405,0.22863861918449402,0.9380825161933899,0.013005613349378109,0.029080139473080635,0.937067449092865,0.006106241140514612,0.8271619081497192,0.8916909098625183,0.8522865176200867,0.021532395854592323,0.9406567811965942,0.012383528053760529,0.9469900131225586,0.9406611323356628,0.02189617231488228,0.00513895507901907,0.9315266609191895,0.6846194863319397,0.00252342177554965,0.9255027770996094,0.12604449689388275,0.8625036478042603,0.022475941106677055,0.9427933096885681,0.002689987886697054,0.023181047290563583,0.0020413780584931374,0.23801666498184204,0.004571772180497646,0.0267456267029047,0.07405140995979309,0.013269828632473946,0.014075732789933681,0.018177680671215057,0.8879609704017639,0.5017601251602173,0.052536748349666595,0.0013182642869651318,0.9114360809326172,0.013911278918385506,0.002193354768678546,0.9450902938842773,0.01495618000626564,0.7675567269325256,0.3331969380378723,0.9254684448242188,0.9329370260238647,0.9176525473594666,0.013932841829955578,0.00535422982648015,0.8387388586997986,0.004764800425618887,0.02386591210961342,0.04008623957633972,0.5606747269630432,0.9332547783851624,0.02354300580918789,0.7222034931182861,0.010339915752410889,0.0051331170834600925,0.015859361737966537,0.928329586982727,0.07042752951383591,0.0033885720185935497,0.02866990491747856,0.9165403246879578,0.03584417700767517,0.9447782635688782,0.9416751265525818,0.5410656929016113,0.02953338623046875,0.009083312004804611,0.32500940561294556,0.07135940343141556,0.21336644887924194,0.00776125630363822,0.0751323252916336,0.020248418673872948,0.7727653980255127,0.0019125656690448523,0.0154165243729949,0.014082311652600765,0.9479771256446838,0.00926204677671194,0.9451633095741272,0.018092600628733635,0.03380986675620079,0.013082841411232948,0.8813718557357788,0.03869924694299698,0.043908167630434036,0.07465846836566925,0.020705657079815865,0.840247631072998,0.01788754016160965,0.7686178684234619,0.04338349774479866,0.03050147369503975,0.04970092326402664,0.8392722010612488,0.002669614041224122,0.11674889177083969,0.00298236939124763,0.012624367140233517,0.01754012331366539,0.09177706390619278,0.021733084693551064,0.004724114201962948,0.0017189689679071307,0.030842922627925873,0.02060762234032154,0.90532386302948,0.11719930917024612,0.019032690674066544,0.8460276126861572,0.1660507172346115,0.8996521830558777,0.7967191338539124,0.003243226557970047,0.913471519947052,0.0244155190885067,0.18375305831432343,0.006471569649875164,0.9159026741981506,0.007738111540675163,0.002430642256513238],\"type\":\"scatter3d\"}],                        {\"template\":{\"data\":{\"barpolar\":[{\"marker\":{\"line\":{\"color\":\"rgb(17,17,17)\",\"width\":0.5},\"pattern\":{\"fillmode\":\"overlay\",\"size\":10,\"solidity\":0.2}},\"type\":\"barpolar\"}],\"bar\":[{\"error_x\":{\"color\":\"#f2f5fa\"},\"error_y\":{\"color\":\"#f2f5fa\"},\"marker\":{\"line\":{\"color\":\"rgb(17,17,17)\",\"width\":0.5},\"pattern\":{\"fillmode\":\"overlay\",\"size\":10,\"solidity\":0.2}},\"type\":\"bar\"}],\"carpet\":[{\"aaxis\":{\"endlinecolor\":\"#A2B1C6\",\"gridcolor\":\"#506784\",\"linecolor\":\"#506784\",\"minorgridcolor\":\"#506784\",\"startlinecolor\":\"#A2B1C6\"},\"baxis\":{\"endlinecolor\":\"#A2B1C6\",\"gridcolor\":\"#506784\",\"linecolor\":\"#506784\",\"minorgridcolor\":\"#506784\",\"startlinecolor\":\"#A2B1C6\"},\"type\":\"carpet\"}],\"choropleth\":[{\"colorbar\":{\"outlinewidth\":0,\"ticks\":\"\"},\"type\":\"choropleth\"}],\"contourcarpet\":[{\"colorbar\":{\"outlinewidth\":0,\"ticks\":\"\"},\"type\":\"contourcarpet\"}],\"contour\":[{\"colorbar\":{\"outlinewidth\":0,\"ticks\":\"\"},\"colorscale\":[[0.0,\"#0d0887\"],[0.1111111111111111,\"#46039f\"],[0.2222222222222222,\"#7201a8\"],[0.3333333333333333,\"#9c179e\"],[0.4444444444444444,\"#bd3786\"],[0.5555555555555556,\"#d8576b\"],[0.6666666666666666,\"#ed7953\"],[0.7777777777777778,\"#fb9f3a\"],[0.8888888888888888,\"#fdca26\"],[1.0,\"#f0f921\"]],\"type\":\"contour\"}],\"heatmapgl\":[{\"colorbar\":{\"outlinewidth\":0,\"ticks\":\"\"},\"colorscale\":[[0.0,\"#0d0887\"],[0.1111111111111111,\"#46039f\"],[0.2222222222222222,\"#7201a8\"],[0.3333333333333333,\"#9c179e\"],[0.4444444444444444,\"#bd3786\"],[0.5555555555555556,\"#d8576b\"],[0.6666666666666666,\"#ed7953\"],[0.7777777777777778,\"#fb9f3a\"],[0.8888888888888888,\"#fdca26\"],[1.0,\"#f0f921\"]],\"type\":\"heatmapgl\"}],\"heatmap\":[{\"colorbar\":{\"outlinewidth\":0,\"ticks\":\"\"},\"colorscale\":[[0.0,\"#0d0887\"],[0.1111111111111111,\"#46039f\"],[0.2222222222222222,\"#7201a8\"],[0.3333333333333333,\"#9c179e\"],[0.4444444444444444,\"#bd3786\"],[0.5555555555555556,\"#d8576b\"],[0.6666666666666666,\"#ed7953\"],[0.7777777777777778,\"#fb9f3a\"],[0.8888888888888888,\"#fdca26\"],[1.0,\"#f0f921\"]],\"type\":\"heatmap\"}],\"histogram2dcontour\":[{\"colorbar\":{\"outlinewidth\":0,\"ticks\":\"\"},\"colorscale\":[[0.0,\"#0d0887\"],[0.1111111111111111,\"#46039f\"],[0.2222222222222222,\"#7201a8\"],[0.3333333333333333,\"#9c179e\"],[0.4444444444444444,\"#bd3786\"],[0.5555555555555556,\"#d8576b\"],[0.6666666666666666,\"#ed7953\"],[0.7777777777777778,\"#fb9f3a\"],[0.8888888888888888,\"#fdca26\"],[1.0,\"#f0f921\"]],\"type\":\"histogram2dcontour\"}],\"histogram2d\":[{\"colorbar\":{\"outlinewidth\":0,\"ticks\":\"\"},\"colorscale\":[[0.0,\"#0d0887\"],[0.1111111111111111,\"#46039f\"],[0.2222222222222222,\"#7201a8\"],[0.3333333333333333,\"#9c179e\"],[0.4444444444444444,\"#bd3786\"],[0.5555555555555556,\"#d8576b\"],[0.6666666666666666,\"#ed7953\"],[0.7777777777777778,\"#fb9f3a\"],[0.8888888888888888,\"#fdca26\"],[1.0,\"#f0f921\"]],\"type\":\"histogram2d\"}],\"histogram\":[{\"marker\":{\"pattern\":{\"fillmode\":\"overlay\",\"size\":10,\"solidity\":0.2}},\"type\":\"histogram\"}],\"mesh3d\":[{\"colorbar\":{\"outlinewidth\":0,\"ticks\":\"\"},\"type\":\"mesh3d\"}],\"parcoords\":[{\"line\":{\"colorbar\":{\"outlinewidth\":0,\"ticks\":\"\"}},\"type\":\"parcoords\"}],\"pie\":[{\"automargin\":true,\"type\":\"pie\"}],\"scatter3d\":[{\"line\":{\"colorbar\":{\"outlinewidth\":0,\"ticks\":\"\"}},\"marker\":{\"colorbar\":{\"outlinewidth\":0,\"ticks\":\"\"}},\"type\":\"scatter3d\"}],\"scattercarpet\":[{\"marker\":{\"colorbar\":{\"outlinewidth\":0,\"ticks\":\"\"}},\"type\":\"scattercarpet\"}],\"scattergeo\":[{\"marker\":{\"colorbar\":{\"outlinewidth\":0,\"ticks\":\"\"}},\"type\":\"scattergeo\"}],\"scattergl\":[{\"marker\":{\"line\":{\"color\":\"#283442\"}},\"type\":\"scattergl\"}],\"scattermapbox\":[{\"marker\":{\"colorbar\":{\"outlinewidth\":0,\"ticks\":\"\"}},\"type\":\"scattermapbox\"}],\"scatterpolargl\":[{\"marker\":{\"colorbar\":{\"outlinewidth\":0,\"ticks\":\"\"}},\"type\":\"scatterpolargl\"}],\"scatterpolar\":[{\"marker\":{\"colorbar\":{\"outlinewidth\":0,\"ticks\":\"\"}},\"type\":\"scatterpolar\"}],\"scatter\":[{\"marker\":{\"line\":{\"color\":\"#283442\"}},\"type\":\"scatter\"}],\"scatterternary\":[{\"marker\":{\"colorbar\":{\"outlinewidth\":0,\"ticks\":\"\"}},\"type\":\"scatterternary\"}],\"surface\":[{\"colorbar\":{\"outlinewidth\":0,\"ticks\":\"\"},\"colorscale\":[[0.0,\"#0d0887\"],[0.1111111111111111,\"#46039f\"],[0.2222222222222222,\"#7201a8\"],[0.3333333333333333,\"#9c179e\"],[0.4444444444444444,\"#bd3786\"],[0.5555555555555556,\"#d8576b\"],[0.6666666666666666,\"#ed7953\"],[0.7777777777777778,\"#fb9f3a\"],[0.8888888888888888,\"#fdca26\"],[1.0,\"#f0f921\"]],\"type\":\"surface\"}],\"table\":[{\"cells\":{\"fill\":{\"color\":\"#506784\"},\"line\":{\"color\":\"rgb(17,17,17)\"}},\"header\":{\"fill\":{\"color\":\"#2a3f5f\"},\"line\":{\"color\":\"rgb(17,17,17)\"}},\"type\":\"table\"}]},\"layout\":{\"annotationdefaults\":{\"arrowcolor\":\"#f2f5fa\",\"arrowhead\":0,\"arrowwidth\":1},\"autotypenumbers\":\"strict\",\"coloraxis\":{\"colorbar\":{\"outlinewidth\":0,\"ticks\":\"\"}},\"colorscale\":{\"diverging\":[[0,\"#8e0152\"],[0.1,\"#c51b7d\"],[0.2,\"#de77ae\"],[0.3,\"#f1b6da\"],[0.4,\"#fde0ef\"],[0.5,\"#f7f7f7\"],[0.6,\"#e6f5d0\"],[0.7,\"#b8e186\"],[0.8,\"#7fbc41\"],[0.9,\"#4d9221\"],[1,\"#276419\"]],\"sequential\":[[0.0,\"#0d0887\"],[0.1111111111111111,\"#46039f\"],[0.2222222222222222,\"#7201a8\"],[0.3333333333333333,\"#9c179e\"],[0.4444444444444444,\"#bd3786\"],[0.5555555555555556,\"#d8576b\"],[0.6666666666666666,\"#ed7953\"],[0.7777777777777778,\"#fb9f3a\"],[0.8888888888888888,\"#fdca26\"],[1.0,\"#f0f921\"]],\"sequentialminus\":[[0.0,\"#0d0887\"],[0.1111111111111111,\"#46039f\"],[0.2222222222222222,\"#7201a8\"],[0.3333333333333333,\"#9c179e\"],[0.4444444444444444,\"#bd3786\"],[0.5555555555555556,\"#d8576b\"],[0.6666666666666666,\"#ed7953\"],[0.7777777777777778,\"#fb9f3a\"],[0.8888888888888888,\"#fdca26\"],[1.0,\"#f0f921\"]]},\"colorway\":[\"#636efa\",\"#EF553B\",\"#00cc96\",\"#ab63fa\",\"#FFA15A\",\"#19d3f3\",\"#FF6692\",\"#B6E880\",\"#FF97FF\",\"#FECB52\"],\"font\":{\"color\":\"#f2f5fa\"},\"geo\":{\"bgcolor\":\"rgb(17,17,17)\",\"lakecolor\":\"rgb(17,17,17)\",\"landcolor\":\"rgb(17,17,17)\",\"showlakes\":true,\"showland\":true,\"subunitcolor\":\"#506784\"},\"hoverlabel\":{\"align\":\"left\"},\"hovermode\":\"closest\",\"mapbox\":{\"style\":\"dark\"},\"paper_bgcolor\":\"rgb(17,17,17)\",\"plot_bgcolor\":\"rgb(17,17,17)\",\"polar\":{\"angularaxis\":{\"gridcolor\":\"#506784\",\"linecolor\":\"#506784\",\"ticks\":\"\"},\"bgcolor\":\"rgb(17,17,17)\",\"radialaxis\":{\"gridcolor\":\"#506784\",\"linecolor\":\"#506784\",\"ticks\":\"\"}},\"scene\":{\"xaxis\":{\"backgroundcolor\":\"rgb(17,17,17)\",\"gridcolor\":\"#506784\",\"gridwidth\":2,\"linecolor\":\"#506784\",\"showbackground\":true,\"ticks\":\"\",\"zerolinecolor\":\"#C8D4E3\"},\"yaxis\":{\"backgroundcolor\":\"rgb(17,17,17)\",\"gridcolor\":\"#506784\",\"gridwidth\":2,\"linecolor\":\"#506784\",\"showbackground\":true,\"ticks\":\"\",\"zerolinecolor\":\"#C8D4E3\"},\"zaxis\":{\"backgroundcolor\":\"rgb(17,17,17)\",\"gridcolor\":\"#506784\",\"gridwidth\":2,\"linecolor\":\"#506784\",\"showbackground\":true,\"ticks\":\"\",\"zerolinecolor\":\"#C8D4E3\"}},\"shapedefaults\":{\"line\":{\"color\":\"#f2f5fa\"}},\"sliderdefaults\":{\"bgcolor\":\"#C8D4E3\",\"bordercolor\":\"rgb(17,17,17)\",\"borderwidth\":1,\"tickwidth\":0},\"ternary\":{\"aaxis\":{\"gridcolor\":\"#506784\",\"linecolor\":\"#506784\",\"ticks\":\"\"},\"baxis\":{\"gridcolor\":\"#506784\",\"linecolor\":\"#506784\",\"ticks\":\"\"},\"bgcolor\":\"rgb(17,17,17)\",\"caxis\":{\"gridcolor\":\"#506784\",\"linecolor\":\"#506784\",\"ticks\":\"\"}},\"title\":{\"x\":0.05},\"updatemenudefaults\":{\"bgcolor\":\"#506784\",\"borderwidth\":0},\"xaxis\":{\"automargin\":true,\"gridcolor\":\"#283442\",\"linecolor\":\"#506784\",\"ticks\":\"\",\"title\":{\"standoff\":15},\"zerolinecolor\":\"#283442\",\"zerolinewidth\":2},\"yaxis\":{\"automargin\":true,\"gridcolor\":\"#283442\",\"linecolor\":\"#506784\",\"ticks\":\"\",\"title\":{\"standoff\":15},\"zerolinecolor\":\"#283442\",\"zerolinewidth\":2}}},\"scene\":{\"domain\":{\"x\":[0.0,1.0],\"y\":[0.0,1.0]},\"xaxis\":{\"title\":{\"text\":\"X\"}},\"yaxis\":{\"title\":{\"text\":\"Y\"}},\"zaxis\":{\"title\":{\"text\":\"Z\"}}},\"coloraxis\":{\"colorbar\":{\"title\":{\"text\":\"tIdx\"}},\"colorscale\":[[0.0,\"rgb(150,0,90)\"],[0.125,\"rgb(0,0,200)\"],[0.25,\"rgb(0,25,255)\"],[0.375,\"rgb(0,152,255)\"],[0.5,\"rgb(44,255,150)\"],[0.625,\"rgb(151,255,0)\"],[0.75,\"rgb(255,234,0)\"],[0.875,\"rgb(255,111,0)\"],[1.0,\"rgb(255,0,0)\"]]},\"legend\":{\"tracegroupgap\":0,\"itemsizing\":\"constant\"},\"margin\":{\"t\":60}},                        {\"responsive\": true}                    ).then(function(){\n",
       "                            \n",
       "var gd = document.getElementById('309382cb-a64d-4f90-8a84-de58ec70554a');\n",
       "var x = new MutationObserver(function (mutations, observer) {{\n",
       "        var display = window.getComputedStyle(gd).display;\n",
       "        if (!display || display === 'none') {{\n",
       "            console.log([gd, 'removed!']);\n",
       "            Plotly.purge(gd);\n",
       "            observer.disconnect();\n",
       "        }}\n",
       "}});\n",
       "\n",
       "// Listen for the removal of the full notebook cells\n",
       "var notebookContainer = gd.closest('#notebook-container');\n",
       "if (notebookContainer) {{\n",
       "    x.observe(notebookContainer, {childList: true});\n",
       "}}\n",
       "\n",
       "// Listen for the clearing of the current output cell\n",
       "var outputEl = gd.closest('.output');\n",
       "if (outputEl) {{\n",
       "    x.observe(outputEl, {childList: true});\n",
       "}}\n",
       "\n",
       "                        })                };                });            </script>        </div>"
      ]
     },
     "metadata": {},
     "output_type": "display_data"
    }
   ],
   "execution_count": 25
  },
  {
   "metadata": {
    "ExecuteTime": {
     "end_time": "2025-01-20T11:14:21.791759Z",
     "start_time": "2025-01-20T11:14:21.687717Z"
    }
   },
   "cell_type": "code",
   "source": [
    "clusterer = hdbscan.HDBSCAN(min_cluster_size=5, min_samples=15, cluster_selection_epsilon=0.1, metric=\"precomputed\")\n",
    "from time import time\n",
    "t0 = time()\n",
    "\n",
    "cluster_labels = clusterer.fit_predict(get_distance_matrix(np.array(norm_coords.double())))\n",
    "print(cluster_labels.shape, \"cluster_labels.shape\")\n",
    "t1 = time()\n",
    "print(t1-t0)\n",
    "#plot_coordinates(result[\"pred\"][filt, 1:4], result[\"pt\"][filt], torch.tensor(cluster_labels)).show()\n"
   ],
   "id": "3cc8032e63dd7ff5",
   "outputs": [
    {
     "name": "stdout",
     "output_type": "stream",
     "text": [
      "(141,) cluster_labels.shape\n",
      "0.011168956756591797\n",
      "[('X', (141, 1)), ('Y', (141, 1)), ('Z', (141, 1)), ('tIdx', (141, 1)), ('pt', (141, 1))]\n"
     ]
    },
    {
     "data": {
      "application/vnd.plotly.v1+json": {
       "data": [
        {
         "hovertemplate": "X=%{x}<br>Y=%{y}<br>Z=%{z}<br>pt=%{marker.size}<br>tIdx=%{marker.color}<extra></extra>",
         "legendgroup": "",
         "marker": {
          "color": [
           -1.0,
           -1.0,
           -1.0,
           -1.0,
           -1.0,
           -1.0,
           -1.0,
           -1.0,
           -1.0,
           -1.0,
           -1.0,
           -1.0,
           -1.0,
           -1.0,
           -1.0,
           -1.0,
           -1.0,
           0.0,
           0.0,
           -1.0,
           0.0,
           -1.0,
           -1.0,
           -1.0,
           -1.0,
           -1.0,
           -1.0,
           -1.0,
           -1.0,
           -1.0,
           -1.0,
           -1.0,
           -1.0,
           0.0,
           -1.0,
           -1.0,
           -1.0,
           -1.0,
           -1.0,
           0.0,
           -1.0,
           0.0,
           -1.0,
           -1.0,
           -1.0,
           -1.0,
           -1.0,
           -1.0,
           -1.0,
           -1.0,
           -1.0,
           -1.0,
           0.0,
           -1.0,
           -1.0,
           1.0,
           -1.0,
           -1.0,
           -1.0,
           -1.0,
           -1.0,
           -1.0,
           -1.0,
           -1.0,
           -1.0,
           -1.0,
           -1.0,
           -1.0,
           -1.0,
           -1.0,
           -1.0,
           -1.0,
           -1.0,
           -1.0,
           1.0,
           -1.0,
           -1.0,
           -1.0,
           1.0,
           -1.0,
           -1.0,
           -1.0,
           -1.0,
           -1.0,
           -1.0,
           -1.0,
           -1.0,
           -1.0,
           -1.0,
           -1.0,
           -1.0,
           -1.0,
           -1.0,
           -1.0,
           1.0,
           -1.0,
           -1.0,
           -1.0,
           -1.0,
           -1.0,
           -1.0,
           -1.0,
           -1.0,
           -1.0,
           -1.0,
           -1.0,
           -1.0,
           -1.0,
           -1.0,
           -1.0,
           -1.0,
           -1.0,
           -1.0,
           -1.0,
           -1.0,
           1.0,
           -1.0,
           1.0,
           -1.0,
           -1.0,
           -1.0,
           -1.0,
           -1.0,
           1.0,
           -1.0,
           -1.0,
           -1.0,
           -1.0,
           -1.0,
           -1.0,
           -1.0,
           -1.0,
           -1.0,
           1.0,
           -1.0,
           -1.0,
           -1.0,
           1.0,
           -1.0,
           -1.0,
           1.0
          ],
          "coloraxis": "coloraxis",
          "size": [
           56.21875,
           30.3125,
           8.1953125,
           7.85546875,
           6.6015625,
           5.43359375,
           4.359375,
           4.11328125,
           3.79296875,
           3.615234375,
           3.3828125,
           3.3125,
           3.169921875,
           2.876953125,
           2.810546875,
           2.677734375,
           2.646484375,
           2.5703125,
           2.5625,
           2.54296875,
           2.51171875,
           2.50390625,
           2.357421875,
           2.330078125,
           2.310546875,
           2.224609375,
           2.181640625,
           2.119140625,
           2.111328125,
           2.0390625,
           1.9365234375,
           1.923828125,
           1.8955078125,
           1.859375,
           1.787109375,
           1.767578125,
           1.6845703125,
           1.6826171875,
           1.6708984375,
           1.662109375,
           1.6552734375,
           1.6376953125,
           1.5673828125,
           1.564453125,
           1.533203125,
           1.5087890625,
           1.4853515625,
           1.4580078125,
           1.4033203125,
           1.4013671875,
           1.396484375,
           1.375,
           1.345703125,
           1.3291015625,
           1.326171875,
           1.294921875,
           1.2822265625,
           1.2763671875,
           1.275390625,
           1.2529296875,
           1.21875,
           1.2099609375,
           1.185546875,
           1.181640625,
           1.1689453125,
           1.1669921875,
           1.1474609375,
           1.1376953125,
           1.1376953125,
           1.1103515625,
           1.0986328125,
           1.0810546875,
           1.0791015625,
           1.064453125,
           1.0419921875,
           1.0390625,
           1.0234375,
           1.021484375,
           0.98779296875,
           0.9326171875,
           0.92822265625,
           0.91748046875,
           0.916015625,
           0.91455078125,
           0.9091796875,
           0.89697265625,
           0.888671875,
           0.88330078125,
           0.869140625,
           0.85498046875,
           0.8515625,
           0.84765625,
           0.84375,
           0.84130859375,
           0.8408203125,
           0.83837890625,
           0.82763671875,
           0.826171875,
           0.82275390625,
           0.818359375,
           0.8173828125,
           0.810546875,
           0.806640625,
           0.7880859375,
           0.76953125,
           0.7666015625,
           0.76123046875,
           0.7607421875,
           0.75732421875,
           0.75732421875,
           0.75,
           0.7470703125,
           0.74365234375,
           0.72705078125,
           0.712890625,
           0.71240234375,
           0.70849609375,
           0.70703125,
           0.70166015625,
           0.69970703125,
           0.69677734375,
           0.69580078125,
           0.68896484375,
           0.68408203125,
           0.65966796875,
           0.654296875,
           0.63916015625,
           0.63330078125,
           0.6328125,
           0.6318359375,
           0.6298828125,
           0.6279296875,
           0.623046875,
           0.61767578125,
           0.61767578125,
           0.61376953125,
           0.61376953125,
           0.61083984375,
           0.6083984375,
           0.6064453125,
           0.6015625
          ],
          "sizemode": "area",
          "sizeref": 0.140546875,
          "symbol": "circle",
          "line": {
           "width": 0
          }
         },
         "mode": "markers",
         "name": "",
         "scene": "scene",
         "showlegend": false,
         "x": [
          1.8411712646484375,
          -2.522686719894409,
          -2.4129951000213623,
          1.9901788234710693,
          1.6636333465576172,
          1.6867585182189941,
          -2.3150012493133545,
          1.7260633707046509,
          -1.747094988822937,
          1.6223530769348145,
          -2.061624765396118,
          1.9998637437820435,
          1.6998132467269897,
          -2.3290047645568848,
          3.0216383934020996,
          1.840533971786499,
          -2.2175347805023193,
          0.36496007442474365,
          0.15621675550937653,
          -2.407304525375366,
          -1.974696159362793,
          -2.872187852859497,
          1.8141885995864868,
          -2.7332513332366943,
          -0.5611585378646851,
          -2.169691562652588,
          2.278728723526001,
          1.689452886581421,
          -2.301179885864258,
          -0.7461513876914978,
          -2.2872955799102783,
          -2.5275323390960693,
          -1.7118428945541382,
          -1.6773886680603027,
          -2.574779510498047,
          1.561798095703125,
          1.7997194528579712,
          3.645848035812378,
          -2.235827922821045,
          1.8425447940826416,
          0.41018256545066833,
          -1.212222695350647,
          1.9937679767608643,
          1.5113431215286255,
          -0.8121848702430725,
          -3.029036045074463,
          2.2207300662994385,
          -2.6509389877319336,
          3.599907636642456,
          -2.5486032962799072,
          1.6542530059814453,
          -2.10996150970459,
          1.5152677297592163,
          -2.1622543334960938,
          1.7261897325515747,
          1.2757388353347778,
          1.6777442693710327,
          -2.0802419185638428,
          -1.777970552444458,
          -3.620804786682129,
          1.6916468143463135,
          1.6863940954208374,
          -2.5542445182800293,
          -0.6825491786003113,
          2.595134735107422,
          -2.843463182449341,
          2.387848138809204,
          -0.354938805103302,
          1.5272729396820068,
          1.8800228834152222,
          -2.120563507080078,
          -1.9567219018936157,
          1.8392518758773804,
          3.3408432006835938,
          -0.7955878973007202,
          3.2810914516448975,
          1.6434342861175537,
          1.7120492458343506,
          1.0976753234863281,
          0.16248370707035065,
          1.7139579057693481,
          -2.5007987022399902,
          -2.1329963207244873,
          -2.4087326526641846,
          -3.048182249069214,
          -1.6931315660476685,
          -1.667431116104126,
          -2.529144763946533,
          -0.7144979238510132,
          2.798675775527954,
          -2.318450450897217,
          3.0250344276428223,
          3.3414969444274902,
          -1.683628797531128,
          0.8422178626060486,
          -1.2700635194778442,
          3.224628448486328,
          -2.1929819583892822,
          3.2866179943084717,
          -2.264336109161377,
          0.015907974913716316,
          -2.0944478511810303,
          3.215803861618042,
          -1.8754534721374512,
          -2.7968456745147705,
          3.7824931144714355,
          2.0464158058166504,
          -2.7814836502075195,
          1.783958911895752,
          -1.7874057292938232,
          1.5332332849502563,
          3.0009734630584717,
          -3.0661377906799316,
          0.8484869003295898,
          -2.1037070751190186,
          1.5366361141204834,
          1.2627863883972168,
          -1.126605749130249,
          2.282327175140381,
          -0.9385878443717957,
          2.4155123233795166,
          -2.885427713394165,
          1.556852102279663,
          1.7129369974136353,
          2.7353992462158203,
          1.3975930213928223,
          -1.8982449769973755,
          2.6141178607940674,
          0.9802422523498535,
          -1.9378496408462524,
          -3.3062102794647217,
          1.6210947036743164,
          -1.8668112754821777,
          -1.29080331325531,
          -2.6802406311035156,
          3.518674373626709,
          2.160449981689453,
          -1.0534309148788452,
          -2.5538363456726074,
          2.947633981704712,
          0.35545453429222107
         ],
         "y": [
          11.484721183776855,
          8.731682777404785,
          8.241484642028809,
          10.398521423339844,
          10.179244041442871,
          9.956130027770996,
          7.946946144104004,
          9.621484756469727,
          8.317768096923828,
          9.602851867675781,
          8.096202850341797,
          8.428861618041992,
          7.713281631469727,
          7.759325981140137,
          2.001000165939331,
          8.673704147338867,
          7.815395355224609,
          -1.8945016860961914,
          5.307507038116455,
          7.635284423828125,
          -4.762759208679199,
          6.974043846130371,
          9.353918075561523,
          7.169582843780518,
          7.842984199523926,
          7.738143444061279,
          3.8158230781555176,
          9.230376243591309,
          7.659114837646484,
          -1.241110920906067,
          -4.673916816711426,
          7.331056118011475,
          8.126399040222168,
          -6.183385372161865,
          7.399578094482422,
          7.569636821746826,
          9.191303253173828,
          2.0824391841888428,
          7.539384841918945,
          -5.831722736358643,
          1.1391910314559937,
          -6.635079383850098,
          8.075276374816895,
          -3.04512357711792,
          -0.6494570374488831,
          0.5757555365562439,
          3.355726718902588,
          -2.798525333404541,
          0.47095903754234314,
          7.09736967086792,
          8.699042320251465,
          0.3937191665172577,
          -6.4269280433654785,
          7.501816749572754,
          0.9359796047210693,
          -6.08197546005249,
          8.978398323059082,
          -2.8815436363220215,
          7.695521831512451,
          4.2803826332092285,
          9.004857063293457,
          8.947896003723145,
          6.97410249710083,
          1.9161756038665771,
          -3.0744786262512207,
          6.716772556304932,
          -3.30195689201355,
          6.058880805969238,
          3.539236545562744,
          8.700676918029785,
          7.578433990478516,
          6.164597034454346,
          8.811245918273926,
          -1.006975769996643,
          -5.035004138946533,
          0.25036776065826416,
          8.851595878601074,
          4.802543640136719,
          -3.9611656665802,
          1.8577446937561035,
          8.845459938049316,
          5.3601861000061035,
          7.407097816467285,
          7.300731182098389,
          5.122791767120361,
          -1.0425262451171875,
          -2.0254790782928467,
          4.59906005859375,
          5.5377349853515625,
          7.0722126960754395,
          -3.6198534965515137,
          7.7057366371154785,
          0.7627019286155701,
          7.704476833343506,
          -5.568854808807373,
          -2.8196332454681396,
          2.8956897258758545,
          7.310884475708008,
          -1.9668323993682861,
          7.258252143859863,
          2.040471076965332,
          -1.3508975505828857,
          3.6582324504852295,
          7.501095294952393,
          3.844759941101074,
          5.517116546630859,
          5.136075019836426,
          -1.670976161956787,
          8.753059387207031,
          3.6817221641540527,
          8.523528099060059,
          3.124119997024536,
          -1.3789392709732056,
          6.031548976898193,
          7.365862846374512,
          -4.676599025726318,
          7.970692157745361,
          -5.706074237823486,
          1.5437520742416382,
          2.5718445777893066,
          5.178225994110107,
          -1.7867119312286377,
          -3.9174883365631104,
          -6.325456142425537,
          2.165548801422119,
          7.667225360870361,
          7.437671184539795,
          6.005098342895508,
          2.5892181396484375,
          7.4688401222229,
          2.550855875015259,
          8.82972240447998,
          7.493037223815918,
          -5.2092204093933105,
          6.904902935028076,
          2.0044095516204834,
          6.942010879516602,
          -3.196828842163086,
          6.915232181549072,
          -2.55283522605896,
          -5.1857733726501465
         ],
         "z": [
          0.9599736928939819,
          0.9545231461524963,
          0.9484756588935852,
          0.8629654049873352,
          0.9065804481506348,
          0.9346697926521301,
          0.9416508674621582,
          0.9376319050788879,
          0.6251171231269836,
          0.9200356602668762,
          0.814395546913147,
          0.20510144531726837,
          0.14036493003368378,
          0.9411420226097107,
          0.011215683072805405,
          0.22863861918449402,
          0.9380825161933899,
          0.013005613349378109,
          0.029080139473080635,
          0.937067449092865,
          0.006106241140514612,
          0.8271619081497192,
          0.8916909098625183,
          0.8522865176200867,
          0.021532395854592323,
          0.9406567811965942,
          0.012383528053760529,
          0.9469900131225586,
          0.9406611323356628,
          0.02189617231488228,
          0.00513895507901907,
          0.9315266609191895,
          0.6846194863319397,
          0.00252342177554965,
          0.9255027770996094,
          0.12604449689388275,
          0.8625036478042603,
          0.022475941106677055,
          0.9427933096885681,
          0.002689987886697054,
          0.023181047290563583,
          0.0020413780584931374,
          0.23801666498184204,
          0.004571772180497646,
          0.0267456267029047,
          0.07405140995979309,
          0.013269828632473946,
          0.014075732789933681,
          0.018177680671215057,
          0.8879609704017639,
          0.5017601251602173,
          0.052536748349666595,
          0.0013182642869651318,
          0.9114360809326172,
          0.013911278918385506,
          0.002193354768678546,
          0.9450902938842773,
          0.01495618000626564,
          0.7675567269325256,
          0.3331969380378723,
          0.9254684448242188,
          0.9329370260238647,
          0.9176525473594666,
          0.013932841829955578,
          0.00535422982648015,
          0.8387388586997986,
          0.004764800425618887,
          0.02386591210961342,
          0.04008623957633972,
          0.5606747269630432,
          0.9332547783851624,
          0.02354300580918789,
          0.7222034931182861,
          0.010339915752410889,
          0.0051331170834600925,
          0.015859361737966537,
          0.928329586982727,
          0.07042752951383591,
          0.0033885720185935497,
          0.02866990491747856,
          0.9165403246879578,
          0.03584417700767517,
          0.9447782635688782,
          0.9416751265525818,
          0.5410656929016113,
          0.02953338623046875,
          0.009083312004804611,
          0.32500940561294556,
          0.07135940343141556,
          0.21336644887924194,
          0.00776125630363822,
          0.0751323252916336,
          0.020248418673872948,
          0.7727653980255127,
          0.0019125656690448523,
          0.0154165243729949,
          0.014082311652600765,
          0.9479771256446838,
          0.00926204677671194,
          0.9451633095741272,
          0.018092600628733635,
          0.03380986675620079,
          0.013082841411232948,
          0.8813718557357788,
          0.03869924694299698,
          0.043908167630434036,
          0.07465846836566925,
          0.020705657079815865,
          0.840247631072998,
          0.01788754016160965,
          0.7686178684234619,
          0.04338349774479866,
          0.03050147369503975,
          0.04970092326402664,
          0.8392722010612488,
          0.002669614041224122,
          0.11674889177083969,
          0.00298236939124763,
          0.012624367140233517,
          0.01754012331366539,
          0.09177706390619278,
          0.021733084693551064,
          0.004724114201962948,
          0.0017189689679071307,
          0.030842922627925873,
          0.02060762234032154,
          0.90532386302948,
          0.11719930917024612,
          0.019032690674066544,
          0.8460276126861572,
          0.1660507172346115,
          0.8996521830558777,
          0.7967191338539124,
          0.003243226557970047,
          0.913471519947052,
          0.0244155190885067,
          0.18375305831432343,
          0.006471569649875164,
          0.9159026741981506,
          0.007738111540675163,
          0.002430642256513238
         ],
         "type": "scatter3d"
        }
       ],
       "layout": {
        "template": {
         "data": {
          "barpolar": [
           {
            "marker": {
             "line": {
              "color": "rgb(17,17,17)",
              "width": 0.5
             },
             "pattern": {
              "fillmode": "overlay",
              "size": 10,
              "solidity": 0.2
             }
            },
            "type": "barpolar"
           }
          ],
          "bar": [
           {
            "error_x": {
             "color": "#f2f5fa"
            },
            "error_y": {
             "color": "#f2f5fa"
            },
            "marker": {
             "line": {
              "color": "rgb(17,17,17)",
              "width": 0.5
             },
             "pattern": {
              "fillmode": "overlay",
              "size": 10,
              "solidity": 0.2
             }
            },
            "type": "bar"
           }
          ],
          "carpet": [
           {
            "aaxis": {
             "endlinecolor": "#A2B1C6",
             "gridcolor": "#506784",
             "linecolor": "#506784",
             "minorgridcolor": "#506784",
             "startlinecolor": "#A2B1C6"
            },
            "baxis": {
             "endlinecolor": "#A2B1C6",
             "gridcolor": "#506784",
             "linecolor": "#506784",
             "minorgridcolor": "#506784",
             "startlinecolor": "#A2B1C6"
            },
            "type": "carpet"
           }
          ],
          "choropleth": [
           {
            "colorbar": {
             "outlinewidth": 0,
             "ticks": ""
            },
            "type": "choropleth"
           }
          ],
          "contourcarpet": [
           {
            "colorbar": {
             "outlinewidth": 0,
             "ticks": ""
            },
            "type": "contourcarpet"
           }
          ],
          "contour": [
           {
            "colorbar": {
             "outlinewidth": 0,
             "ticks": ""
            },
            "colorscale": [
             [
              0.0,
              "#0d0887"
             ],
             [
              0.1111111111111111,
              "#46039f"
             ],
             [
              0.2222222222222222,
              "#7201a8"
             ],
             [
              0.3333333333333333,
              "#9c179e"
             ],
             [
              0.4444444444444444,
              "#bd3786"
             ],
             [
              0.5555555555555556,
              "#d8576b"
             ],
             [
              0.6666666666666666,
              "#ed7953"
             ],
             [
              0.7777777777777778,
              "#fb9f3a"
             ],
             [
              0.8888888888888888,
              "#fdca26"
             ],
             [
              1.0,
              "#f0f921"
             ]
            ],
            "type": "contour"
           }
          ],
          "heatmapgl": [
           {
            "colorbar": {
             "outlinewidth": 0,
             "ticks": ""
            },
            "colorscale": [
             [
              0.0,
              "#0d0887"
             ],
             [
              0.1111111111111111,
              "#46039f"
             ],
             [
              0.2222222222222222,
              "#7201a8"
             ],
             [
              0.3333333333333333,
              "#9c179e"
             ],
             [
              0.4444444444444444,
              "#bd3786"
             ],
             [
              0.5555555555555556,
              "#d8576b"
             ],
             [
              0.6666666666666666,
              "#ed7953"
             ],
             [
              0.7777777777777778,
              "#fb9f3a"
             ],
             [
              0.8888888888888888,
              "#fdca26"
             ],
             [
              1.0,
              "#f0f921"
             ]
            ],
            "type": "heatmapgl"
           }
          ],
          "heatmap": [
           {
            "colorbar": {
             "outlinewidth": 0,
             "ticks": ""
            },
            "colorscale": [
             [
              0.0,
              "#0d0887"
             ],
             [
              0.1111111111111111,
              "#46039f"
             ],
             [
              0.2222222222222222,
              "#7201a8"
             ],
             [
              0.3333333333333333,
              "#9c179e"
             ],
             [
              0.4444444444444444,
              "#bd3786"
             ],
             [
              0.5555555555555556,
              "#d8576b"
             ],
             [
              0.6666666666666666,
              "#ed7953"
             ],
             [
              0.7777777777777778,
              "#fb9f3a"
             ],
             [
              0.8888888888888888,
              "#fdca26"
             ],
             [
              1.0,
              "#f0f921"
             ]
            ],
            "type": "heatmap"
           }
          ],
          "histogram2dcontour": [
           {
            "colorbar": {
             "outlinewidth": 0,
             "ticks": ""
            },
            "colorscale": [
             [
              0.0,
              "#0d0887"
             ],
             [
              0.1111111111111111,
              "#46039f"
             ],
             [
              0.2222222222222222,
              "#7201a8"
             ],
             [
              0.3333333333333333,
              "#9c179e"
             ],
             [
              0.4444444444444444,
              "#bd3786"
             ],
             [
              0.5555555555555556,
              "#d8576b"
             ],
             [
              0.6666666666666666,
              "#ed7953"
             ],
             [
              0.7777777777777778,
              "#fb9f3a"
             ],
             [
              0.8888888888888888,
              "#fdca26"
             ],
             [
              1.0,
              "#f0f921"
             ]
            ],
            "type": "histogram2dcontour"
           }
          ],
          "histogram2d": [
           {
            "colorbar": {
             "outlinewidth": 0,
             "ticks": ""
            },
            "colorscale": [
             [
              0.0,
              "#0d0887"
             ],
             [
              0.1111111111111111,
              "#46039f"
             ],
             [
              0.2222222222222222,
              "#7201a8"
             ],
             [
              0.3333333333333333,
              "#9c179e"
             ],
             [
              0.4444444444444444,
              "#bd3786"
             ],
             [
              0.5555555555555556,
              "#d8576b"
             ],
             [
              0.6666666666666666,
              "#ed7953"
             ],
             [
              0.7777777777777778,
              "#fb9f3a"
             ],
             [
              0.8888888888888888,
              "#fdca26"
             ],
             [
              1.0,
              "#f0f921"
             ]
            ],
            "type": "histogram2d"
           }
          ],
          "histogram": [
           {
            "marker": {
             "pattern": {
              "fillmode": "overlay",
              "size": 10,
              "solidity": 0.2
             }
            },
            "type": "histogram"
           }
          ],
          "mesh3d": [
           {
            "colorbar": {
             "outlinewidth": 0,
             "ticks": ""
            },
            "type": "mesh3d"
           }
          ],
          "parcoords": [
           {
            "line": {
             "colorbar": {
              "outlinewidth": 0,
              "ticks": ""
             }
            },
            "type": "parcoords"
           }
          ],
          "pie": [
           {
            "automargin": true,
            "type": "pie"
           }
          ],
          "scatter3d": [
           {
            "line": {
             "colorbar": {
              "outlinewidth": 0,
              "ticks": ""
             }
            },
            "marker": {
             "colorbar": {
              "outlinewidth": 0,
              "ticks": ""
             }
            },
            "type": "scatter3d"
           }
          ],
          "scattercarpet": [
           {
            "marker": {
             "colorbar": {
              "outlinewidth": 0,
              "ticks": ""
             }
            },
            "type": "scattercarpet"
           }
          ],
          "scattergeo": [
           {
            "marker": {
             "colorbar": {
              "outlinewidth": 0,
              "ticks": ""
             }
            },
            "type": "scattergeo"
           }
          ],
          "scattergl": [
           {
            "marker": {
             "line": {
              "color": "#283442"
             }
            },
            "type": "scattergl"
           }
          ],
          "scattermapbox": [
           {
            "marker": {
             "colorbar": {
              "outlinewidth": 0,
              "ticks": ""
             }
            },
            "type": "scattermapbox"
           }
          ],
          "scatterpolargl": [
           {
            "marker": {
             "colorbar": {
              "outlinewidth": 0,
              "ticks": ""
             }
            },
            "type": "scatterpolargl"
           }
          ],
          "scatterpolar": [
           {
            "marker": {
             "colorbar": {
              "outlinewidth": 0,
              "ticks": ""
             }
            },
            "type": "scatterpolar"
           }
          ],
          "scatter": [
           {
            "marker": {
             "line": {
              "color": "#283442"
             }
            },
            "type": "scatter"
           }
          ],
          "scatterternary": [
           {
            "marker": {
             "colorbar": {
              "outlinewidth": 0,
              "ticks": ""
             }
            },
            "type": "scatterternary"
           }
          ],
          "surface": [
           {
            "colorbar": {
             "outlinewidth": 0,
             "ticks": ""
            },
            "colorscale": [
             [
              0.0,
              "#0d0887"
             ],
             [
              0.1111111111111111,
              "#46039f"
             ],
             [
              0.2222222222222222,
              "#7201a8"
             ],
             [
              0.3333333333333333,
              "#9c179e"
             ],
             [
              0.4444444444444444,
              "#bd3786"
             ],
             [
              0.5555555555555556,
              "#d8576b"
             ],
             [
              0.6666666666666666,
              "#ed7953"
             ],
             [
              0.7777777777777778,
              "#fb9f3a"
             ],
             [
              0.8888888888888888,
              "#fdca26"
             ],
             [
              1.0,
              "#f0f921"
             ]
            ],
            "type": "surface"
           }
          ],
          "table": [
           {
            "cells": {
             "fill": {
              "color": "#506784"
             },
             "line": {
              "color": "rgb(17,17,17)"
             }
            },
            "header": {
             "fill": {
              "color": "#2a3f5f"
             },
             "line": {
              "color": "rgb(17,17,17)"
             }
            },
            "type": "table"
           }
          ]
         },
         "layout": {
          "annotationdefaults": {
           "arrowcolor": "#f2f5fa",
           "arrowhead": 0,
           "arrowwidth": 1
          },
          "autotypenumbers": "strict",
          "coloraxis": {
           "colorbar": {
            "outlinewidth": 0,
            "ticks": ""
           }
          },
          "colorscale": {
           "diverging": [
            [
             0,
             "#8e0152"
            ],
            [
             0.1,
             "#c51b7d"
            ],
            [
             0.2,
             "#de77ae"
            ],
            [
             0.3,
             "#f1b6da"
            ],
            [
             0.4,
             "#fde0ef"
            ],
            [
             0.5,
             "#f7f7f7"
            ],
            [
             0.6,
             "#e6f5d0"
            ],
            [
             0.7,
             "#b8e186"
            ],
            [
             0.8,
             "#7fbc41"
            ],
            [
             0.9,
             "#4d9221"
            ],
            [
             1,
             "#276419"
            ]
           ],
           "sequential": [
            [
             0.0,
             "#0d0887"
            ],
            [
             0.1111111111111111,
             "#46039f"
            ],
            [
             0.2222222222222222,
             "#7201a8"
            ],
            [
             0.3333333333333333,
             "#9c179e"
            ],
            [
             0.4444444444444444,
             "#bd3786"
            ],
            [
             0.5555555555555556,
             "#d8576b"
            ],
            [
             0.6666666666666666,
             "#ed7953"
            ],
            [
             0.7777777777777778,
             "#fb9f3a"
            ],
            [
             0.8888888888888888,
             "#fdca26"
            ],
            [
             1.0,
             "#f0f921"
            ]
           ],
           "sequentialminus": [
            [
             0.0,
             "#0d0887"
            ],
            [
             0.1111111111111111,
             "#46039f"
            ],
            [
             0.2222222222222222,
             "#7201a8"
            ],
            [
             0.3333333333333333,
             "#9c179e"
            ],
            [
             0.4444444444444444,
             "#bd3786"
            ],
            [
             0.5555555555555556,
             "#d8576b"
            ],
            [
             0.6666666666666666,
             "#ed7953"
            ],
            [
             0.7777777777777778,
             "#fb9f3a"
            ],
            [
             0.8888888888888888,
             "#fdca26"
            ],
            [
             1.0,
             "#f0f921"
            ]
           ]
          },
          "colorway": [
           "#636efa",
           "#EF553B",
           "#00cc96",
           "#ab63fa",
           "#FFA15A",
           "#19d3f3",
           "#FF6692",
           "#B6E880",
           "#FF97FF",
           "#FECB52"
          ],
          "font": {
           "color": "#f2f5fa"
          },
          "geo": {
           "bgcolor": "rgb(17,17,17)",
           "lakecolor": "rgb(17,17,17)",
           "landcolor": "rgb(17,17,17)",
           "showlakes": true,
           "showland": true,
           "subunitcolor": "#506784"
          },
          "hoverlabel": {
           "align": "left"
          },
          "hovermode": "closest",
          "mapbox": {
           "style": "dark"
          },
          "paper_bgcolor": "rgb(17,17,17)",
          "plot_bgcolor": "rgb(17,17,17)",
          "polar": {
           "angularaxis": {
            "gridcolor": "#506784",
            "linecolor": "#506784",
            "ticks": ""
           },
           "bgcolor": "rgb(17,17,17)",
           "radialaxis": {
            "gridcolor": "#506784",
            "linecolor": "#506784",
            "ticks": ""
           }
          },
          "scene": {
           "xaxis": {
            "backgroundcolor": "rgb(17,17,17)",
            "gridcolor": "#506784",
            "gridwidth": 2,
            "linecolor": "#506784",
            "showbackground": true,
            "ticks": "",
            "zerolinecolor": "#C8D4E3"
           },
           "yaxis": {
            "backgroundcolor": "rgb(17,17,17)",
            "gridcolor": "#506784",
            "gridwidth": 2,
            "linecolor": "#506784",
            "showbackground": true,
            "ticks": "",
            "zerolinecolor": "#C8D4E3"
           },
           "zaxis": {
            "backgroundcolor": "rgb(17,17,17)",
            "gridcolor": "#506784",
            "gridwidth": 2,
            "linecolor": "#506784",
            "showbackground": true,
            "ticks": "",
            "zerolinecolor": "#C8D4E3"
           }
          },
          "shapedefaults": {
           "line": {
            "color": "#f2f5fa"
           }
          },
          "sliderdefaults": {
           "bgcolor": "#C8D4E3",
           "bordercolor": "rgb(17,17,17)",
           "borderwidth": 1,
           "tickwidth": 0
          },
          "ternary": {
           "aaxis": {
            "gridcolor": "#506784",
            "linecolor": "#506784",
            "ticks": ""
           },
           "baxis": {
            "gridcolor": "#506784",
            "linecolor": "#506784",
            "ticks": ""
           },
           "bgcolor": "rgb(17,17,17)",
           "caxis": {
            "gridcolor": "#506784",
            "linecolor": "#506784",
            "ticks": ""
           }
          },
          "title": {
           "x": 0.05
          },
          "updatemenudefaults": {
           "bgcolor": "#506784",
           "borderwidth": 0
          },
          "xaxis": {
           "automargin": true,
           "gridcolor": "#283442",
           "linecolor": "#506784",
           "ticks": "",
           "title": {
            "standoff": 15
           },
           "zerolinecolor": "#283442",
           "zerolinewidth": 2
          },
          "yaxis": {
           "automargin": true,
           "gridcolor": "#283442",
           "linecolor": "#506784",
           "ticks": "",
           "title": {
            "standoff": 15
           },
           "zerolinecolor": "#283442",
           "zerolinewidth": 2
          }
         }
        },
        "scene": {
         "domain": {
          "x": [
           0.0,
           1.0
          ],
          "y": [
           0.0,
           1.0
          ]
         },
         "xaxis": {
          "title": {
           "text": "X"
          }
         },
         "yaxis": {
          "title": {
           "text": "Y"
          }
         },
         "zaxis": {
          "title": {
           "text": "Z"
          }
         }
        },
        "coloraxis": {
         "colorbar": {
          "title": {
           "text": "tIdx"
          }
         },
         "colorscale": [
          [
           0.0,
           "rgb(150,0,90)"
          ],
          [
           0.125,
           "rgb(0,0,200)"
          ],
          [
           0.25,
           "rgb(0,25,255)"
          ],
          [
           0.375,
           "rgb(0,152,255)"
          ],
          [
           0.5,
           "rgb(44,255,150)"
          ],
          [
           0.625,
           "rgb(151,255,0)"
          ],
          [
           0.75,
           "rgb(255,234,0)"
          ],
          [
           0.875,
           "rgb(255,111,0)"
          ],
          [
           1.0,
           "rgb(255,0,0)"
          ]
         ]
        },
        "legend": {
         "tracegroupgap": 0,
         "itemsizing": "constant"
        },
        "margin": {
         "t": 60
        }
       },
       "config": {
        "plotlyServerURL": "https://plot.ly"
       }
      },
      "text/html": [
       "<div>                            <div id=\"c58a0420-48c1-4565-a6c2-006f03c3ffaf\" class=\"plotly-graph-div\" style=\"height:525px; width:100%;\"></div>            <script type=\"text/javascript\">                require([\"plotly\"], function(Plotly) {                    window.PLOTLYENV=window.PLOTLYENV || {};                                    if (document.getElementById(\"c58a0420-48c1-4565-a6c2-006f03c3ffaf\")) {                    Plotly.newPlot(                        \"c58a0420-48c1-4565-a6c2-006f03c3ffaf\",                        [{\"hovertemplate\":\"X=%{x}\\u003cbr\\u003eY=%{y}\\u003cbr\\u003eZ=%{z}\\u003cbr\\u003ept=%{marker.size}\\u003cbr\\u003etIdx=%{marker.color}\\u003cextra\\u003e\\u003c\\u002fextra\\u003e\",\"legendgroup\":\"\",\"marker\":{\"color\":[-1.0,-1.0,-1.0,-1.0,-1.0,-1.0,-1.0,-1.0,-1.0,-1.0,-1.0,-1.0,-1.0,-1.0,-1.0,-1.0,-1.0,0.0,0.0,-1.0,0.0,-1.0,-1.0,-1.0,-1.0,-1.0,-1.0,-1.0,-1.0,-1.0,-1.0,-1.0,-1.0,0.0,-1.0,-1.0,-1.0,-1.0,-1.0,0.0,-1.0,0.0,-1.0,-1.0,-1.0,-1.0,-1.0,-1.0,-1.0,-1.0,-1.0,-1.0,0.0,-1.0,-1.0,1.0,-1.0,-1.0,-1.0,-1.0,-1.0,-1.0,-1.0,-1.0,-1.0,-1.0,-1.0,-1.0,-1.0,-1.0,-1.0,-1.0,-1.0,-1.0,1.0,-1.0,-1.0,-1.0,1.0,-1.0,-1.0,-1.0,-1.0,-1.0,-1.0,-1.0,-1.0,-1.0,-1.0,-1.0,-1.0,-1.0,-1.0,-1.0,1.0,-1.0,-1.0,-1.0,-1.0,-1.0,-1.0,-1.0,-1.0,-1.0,-1.0,-1.0,-1.0,-1.0,-1.0,-1.0,-1.0,-1.0,-1.0,-1.0,-1.0,1.0,-1.0,1.0,-1.0,-1.0,-1.0,-1.0,-1.0,1.0,-1.0,-1.0,-1.0,-1.0,-1.0,-1.0,-1.0,-1.0,-1.0,1.0,-1.0,-1.0,-1.0,1.0,-1.0,-1.0,1.0],\"coloraxis\":\"coloraxis\",\"size\":[56.21875,30.3125,8.1953125,7.85546875,6.6015625,5.43359375,4.359375,4.11328125,3.79296875,3.615234375,3.3828125,3.3125,3.169921875,2.876953125,2.810546875,2.677734375,2.646484375,2.5703125,2.5625,2.54296875,2.51171875,2.50390625,2.357421875,2.330078125,2.310546875,2.224609375,2.181640625,2.119140625,2.111328125,2.0390625,1.9365234375,1.923828125,1.8955078125,1.859375,1.787109375,1.767578125,1.6845703125,1.6826171875,1.6708984375,1.662109375,1.6552734375,1.6376953125,1.5673828125,1.564453125,1.533203125,1.5087890625,1.4853515625,1.4580078125,1.4033203125,1.4013671875,1.396484375,1.375,1.345703125,1.3291015625,1.326171875,1.294921875,1.2822265625,1.2763671875,1.275390625,1.2529296875,1.21875,1.2099609375,1.185546875,1.181640625,1.1689453125,1.1669921875,1.1474609375,1.1376953125,1.1376953125,1.1103515625,1.0986328125,1.0810546875,1.0791015625,1.064453125,1.0419921875,1.0390625,1.0234375,1.021484375,0.98779296875,0.9326171875,0.92822265625,0.91748046875,0.916015625,0.91455078125,0.9091796875,0.89697265625,0.888671875,0.88330078125,0.869140625,0.85498046875,0.8515625,0.84765625,0.84375,0.84130859375,0.8408203125,0.83837890625,0.82763671875,0.826171875,0.82275390625,0.818359375,0.8173828125,0.810546875,0.806640625,0.7880859375,0.76953125,0.7666015625,0.76123046875,0.7607421875,0.75732421875,0.75732421875,0.75,0.7470703125,0.74365234375,0.72705078125,0.712890625,0.71240234375,0.70849609375,0.70703125,0.70166015625,0.69970703125,0.69677734375,0.69580078125,0.68896484375,0.68408203125,0.65966796875,0.654296875,0.63916015625,0.63330078125,0.6328125,0.6318359375,0.6298828125,0.6279296875,0.623046875,0.61767578125,0.61767578125,0.61376953125,0.61376953125,0.61083984375,0.6083984375,0.6064453125,0.6015625],\"sizemode\":\"area\",\"sizeref\":0.140546875,\"symbol\":\"circle\",\"line\":{\"width\":0}},\"mode\":\"markers\",\"name\":\"\",\"scene\":\"scene\",\"showlegend\":false,\"x\":[1.8411712646484375,-2.522686719894409,-2.4129951000213623,1.9901788234710693,1.6636333465576172,1.6867585182189941,-2.3150012493133545,1.7260633707046509,-1.747094988822937,1.6223530769348145,-2.061624765396118,1.9998637437820435,1.6998132467269897,-2.3290047645568848,3.0216383934020996,1.840533971786499,-2.2175347805023193,0.36496007442474365,0.15621675550937653,-2.407304525375366,-1.974696159362793,-2.872187852859497,1.8141885995864868,-2.7332513332366943,-0.5611585378646851,-2.169691562652588,2.278728723526001,1.689452886581421,-2.301179885864258,-0.7461513876914978,-2.2872955799102783,-2.5275323390960693,-1.7118428945541382,-1.6773886680603027,-2.574779510498047,1.561798095703125,1.7997194528579712,3.645848035812378,-2.235827922821045,1.8425447940826416,0.41018256545066833,-1.212222695350647,1.9937679767608643,1.5113431215286255,-0.8121848702430725,-3.029036045074463,2.2207300662994385,-2.6509389877319336,3.599907636642456,-2.5486032962799072,1.6542530059814453,-2.10996150970459,1.5152677297592163,-2.1622543334960938,1.7261897325515747,1.2757388353347778,1.6777442693710327,-2.0802419185638428,-1.777970552444458,-3.620804786682129,1.6916468143463135,1.6863940954208374,-2.5542445182800293,-0.6825491786003113,2.595134735107422,-2.843463182449341,2.387848138809204,-0.354938805103302,1.5272729396820068,1.8800228834152222,-2.120563507080078,-1.9567219018936157,1.8392518758773804,3.3408432006835938,-0.7955878973007202,3.2810914516448975,1.6434342861175537,1.7120492458343506,1.0976753234863281,0.16248370707035065,1.7139579057693481,-2.5007987022399902,-2.1329963207244873,-2.4087326526641846,-3.048182249069214,-1.6931315660476685,-1.667431116104126,-2.529144763946533,-0.7144979238510132,2.798675775527954,-2.318450450897217,3.0250344276428223,3.3414969444274902,-1.683628797531128,0.8422178626060486,-1.2700635194778442,3.224628448486328,-2.1929819583892822,3.2866179943084717,-2.264336109161377,0.015907974913716316,-2.0944478511810303,3.215803861618042,-1.8754534721374512,-2.7968456745147705,3.7824931144714355,2.0464158058166504,-2.7814836502075195,1.783958911895752,-1.7874057292938232,1.5332332849502563,3.0009734630584717,-3.0661377906799316,0.8484869003295898,-2.1037070751190186,1.5366361141204834,1.2627863883972168,-1.126605749130249,2.282327175140381,-0.9385878443717957,2.4155123233795166,-2.885427713394165,1.556852102279663,1.7129369974136353,2.7353992462158203,1.3975930213928223,-1.8982449769973755,2.6141178607940674,0.9802422523498535,-1.9378496408462524,-3.3062102794647217,1.6210947036743164,-1.8668112754821777,-1.29080331325531,-2.6802406311035156,3.518674373626709,2.160449981689453,-1.0534309148788452,-2.5538363456726074,2.947633981704712,0.35545453429222107],\"y\":[11.484721183776855,8.731682777404785,8.241484642028809,10.398521423339844,10.179244041442871,9.956130027770996,7.946946144104004,9.621484756469727,8.317768096923828,9.602851867675781,8.096202850341797,8.428861618041992,7.713281631469727,7.759325981140137,2.001000165939331,8.673704147338867,7.815395355224609,-1.8945016860961914,5.307507038116455,7.635284423828125,-4.762759208679199,6.974043846130371,9.353918075561523,7.169582843780518,7.842984199523926,7.738143444061279,3.8158230781555176,9.230376243591309,7.659114837646484,-1.241110920906067,-4.673916816711426,7.331056118011475,8.126399040222168,-6.183385372161865,7.399578094482422,7.569636821746826,9.191303253173828,2.0824391841888428,7.539384841918945,-5.831722736358643,1.1391910314559937,-6.635079383850098,8.075276374816895,-3.04512357711792,-0.6494570374488831,0.5757555365562439,3.355726718902588,-2.798525333404541,0.47095903754234314,7.09736967086792,8.699042320251465,0.3937191665172577,-6.4269280433654785,7.501816749572754,0.9359796047210693,-6.08197546005249,8.978398323059082,-2.8815436363220215,7.695521831512451,4.2803826332092285,9.004857063293457,8.947896003723145,6.97410249710083,1.9161756038665771,-3.0744786262512207,6.716772556304932,-3.30195689201355,6.058880805969238,3.539236545562744,8.700676918029785,7.578433990478516,6.164597034454346,8.811245918273926,-1.006975769996643,-5.035004138946533,0.25036776065826416,8.851595878601074,4.802543640136719,-3.9611656665802,1.8577446937561035,8.845459938049316,5.3601861000061035,7.407097816467285,7.300731182098389,5.122791767120361,-1.0425262451171875,-2.0254790782928467,4.59906005859375,5.5377349853515625,7.0722126960754395,-3.6198534965515137,7.7057366371154785,0.7627019286155701,7.704476833343506,-5.568854808807373,-2.8196332454681396,2.8956897258758545,7.310884475708008,-1.9668323993682861,7.258252143859863,2.040471076965332,-1.3508975505828857,3.6582324504852295,7.501095294952393,3.844759941101074,5.517116546630859,5.136075019836426,-1.670976161956787,8.753059387207031,3.6817221641540527,8.523528099060059,3.124119997024536,-1.3789392709732056,6.031548976898193,7.365862846374512,-4.676599025726318,7.970692157745361,-5.706074237823486,1.5437520742416382,2.5718445777893066,5.178225994110107,-1.7867119312286377,-3.9174883365631104,-6.325456142425537,2.165548801422119,7.667225360870361,7.437671184539795,6.005098342895508,2.5892181396484375,7.4688401222229,2.550855875015259,8.82972240447998,7.493037223815918,-5.2092204093933105,6.904902935028076,2.0044095516204834,6.942010879516602,-3.196828842163086,6.915232181549072,-2.55283522605896,-5.1857733726501465],\"z\":[0.9599736928939819,0.9545231461524963,0.9484756588935852,0.8629654049873352,0.9065804481506348,0.9346697926521301,0.9416508674621582,0.9376319050788879,0.6251171231269836,0.9200356602668762,0.814395546913147,0.20510144531726837,0.14036493003368378,0.9411420226097107,0.011215683072805405,0.22863861918449402,0.9380825161933899,0.013005613349378109,0.029080139473080635,0.937067449092865,0.006106241140514612,0.8271619081497192,0.8916909098625183,0.8522865176200867,0.021532395854592323,0.9406567811965942,0.012383528053760529,0.9469900131225586,0.9406611323356628,0.02189617231488228,0.00513895507901907,0.9315266609191895,0.6846194863319397,0.00252342177554965,0.9255027770996094,0.12604449689388275,0.8625036478042603,0.022475941106677055,0.9427933096885681,0.002689987886697054,0.023181047290563583,0.0020413780584931374,0.23801666498184204,0.004571772180497646,0.0267456267029047,0.07405140995979309,0.013269828632473946,0.014075732789933681,0.018177680671215057,0.8879609704017639,0.5017601251602173,0.052536748349666595,0.0013182642869651318,0.9114360809326172,0.013911278918385506,0.002193354768678546,0.9450902938842773,0.01495618000626564,0.7675567269325256,0.3331969380378723,0.9254684448242188,0.9329370260238647,0.9176525473594666,0.013932841829955578,0.00535422982648015,0.8387388586997986,0.004764800425618887,0.02386591210961342,0.04008623957633972,0.5606747269630432,0.9332547783851624,0.02354300580918789,0.7222034931182861,0.010339915752410889,0.0051331170834600925,0.015859361737966537,0.928329586982727,0.07042752951383591,0.0033885720185935497,0.02866990491747856,0.9165403246879578,0.03584417700767517,0.9447782635688782,0.9416751265525818,0.5410656929016113,0.02953338623046875,0.009083312004804611,0.32500940561294556,0.07135940343141556,0.21336644887924194,0.00776125630363822,0.0751323252916336,0.020248418673872948,0.7727653980255127,0.0019125656690448523,0.0154165243729949,0.014082311652600765,0.9479771256446838,0.00926204677671194,0.9451633095741272,0.018092600628733635,0.03380986675620079,0.013082841411232948,0.8813718557357788,0.03869924694299698,0.043908167630434036,0.07465846836566925,0.020705657079815865,0.840247631072998,0.01788754016160965,0.7686178684234619,0.04338349774479866,0.03050147369503975,0.04970092326402664,0.8392722010612488,0.002669614041224122,0.11674889177083969,0.00298236939124763,0.012624367140233517,0.01754012331366539,0.09177706390619278,0.021733084693551064,0.004724114201962948,0.0017189689679071307,0.030842922627925873,0.02060762234032154,0.90532386302948,0.11719930917024612,0.019032690674066544,0.8460276126861572,0.1660507172346115,0.8996521830558777,0.7967191338539124,0.003243226557970047,0.913471519947052,0.0244155190885067,0.18375305831432343,0.006471569649875164,0.9159026741981506,0.007738111540675163,0.002430642256513238],\"type\":\"scatter3d\"}],                        {\"template\":{\"data\":{\"barpolar\":[{\"marker\":{\"line\":{\"color\":\"rgb(17,17,17)\",\"width\":0.5},\"pattern\":{\"fillmode\":\"overlay\",\"size\":10,\"solidity\":0.2}},\"type\":\"barpolar\"}],\"bar\":[{\"error_x\":{\"color\":\"#f2f5fa\"},\"error_y\":{\"color\":\"#f2f5fa\"},\"marker\":{\"line\":{\"color\":\"rgb(17,17,17)\",\"width\":0.5},\"pattern\":{\"fillmode\":\"overlay\",\"size\":10,\"solidity\":0.2}},\"type\":\"bar\"}],\"carpet\":[{\"aaxis\":{\"endlinecolor\":\"#A2B1C6\",\"gridcolor\":\"#506784\",\"linecolor\":\"#506784\",\"minorgridcolor\":\"#506784\",\"startlinecolor\":\"#A2B1C6\"},\"baxis\":{\"endlinecolor\":\"#A2B1C6\",\"gridcolor\":\"#506784\",\"linecolor\":\"#506784\",\"minorgridcolor\":\"#506784\",\"startlinecolor\":\"#A2B1C6\"},\"type\":\"carpet\"}],\"choropleth\":[{\"colorbar\":{\"outlinewidth\":0,\"ticks\":\"\"},\"type\":\"choropleth\"}],\"contourcarpet\":[{\"colorbar\":{\"outlinewidth\":0,\"ticks\":\"\"},\"type\":\"contourcarpet\"}],\"contour\":[{\"colorbar\":{\"outlinewidth\":0,\"ticks\":\"\"},\"colorscale\":[[0.0,\"#0d0887\"],[0.1111111111111111,\"#46039f\"],[0.2222222222222222,\"#7201a8\"],[0.3333333333333333,\"#9c179e\"],[0.4444444444444444,\"#bd3786\"],[0.5555555555555556,\"#d8576b\"],[0.6666666666666666,\"#ed7953\"],[0.7777777777777778,\"#fb9f3a\"],[0.8888888888888888,\"#fdca26\"],[1.0,\"#f0f921\"]],\"type\":\"contour\"}],\"heatmapgl\":[{\"colorbar\":{\"outlinewidth\":0,\"ticks\":\"\"},\"colorscale\":[[0.0,\"#0d0887\"],[0.1111111111111111,\"#46039f\"],[0.2222222222222222,\"#7201a8\"],[0.3333333333333333,\"#9c179e\"],[0.4444444444444444,\"#bd3786\"],[0.5555555555555556,\"#d8576b\"],[0.6666666666666666,\"#ed7953\"],[0.7777777777777778,\"#fb9f3a\"],[0.8888888888888888,\"#fdca26\"],[1.0,\"#f0f921\"]],\"type\":\"heatmapgl\"}],\"heatmap\":[{\"colorbar\":{\"outlinewidth\":0,\"ticks\":\"\"},\"colorscale\":[[0.0,\"#0d0887\"],[0.1111111111111111,\"#46039f\"],[0.2222222222222222,\"#7201a8\"],[0.3333333333333333,\"#9c179e\"],[0.4444444444444444,\"#bd3786\"],[0.5555555555555556,\"#d8576b\"],[0.6666666666666666,\"#ed7953\"],[0.7777777777777778,\"#fb9f3a\"],[0.8888888888888888,\"#fdca26\"],[1.0,\"#f0f921\"]],\"type\":\"heatmap\"}],\"histogram2dcontour\":[{\"colorbar\":{\"outlinewidth\":0,\"ticks\":\"\"},\"colorscale\":[[0.0,\"#0d0887\"],[0.1111111111111111,\"#46039f\"],[0.2222222222222222,\"#7201a8\"],[0.3333333333333333,\"#9c179e\"],[0.4444444444444444,\"#bd3786\"],[0.5555555555555556,\"#d8576b\"],[0.6666666666666666,\"#ed7953\"],[0.7777777777777778,\"#fb9f3a\"],[0.8888888888888888,\"#fdca26\"],[1.0,\"#f0f921\"]],\"type\":\"histogram2dcontour\"}],\"histogram2d\":[{\"colorbar\":{\"outlinewidth\":0,\"ticks\":\"\"},\"colorscale\":[[0.0,\"#0d0887\"],[0.1111111111111111,\"#46039f\"],[0.2222222222222222,\"#7201a8\"],[0.3333333333333333,\"#9c179e\"],[0.4444444444444444,\"#bd3786\"],[0.5555555555555556,\"#d8576b\"],[0.6666666666666666,\"#ed7953\"],[0.7777777777777778,\"#fb9f3a\"],[0.8888888888888888,\"#fdca26\"],[1.0,\"#f0f921\"]],\"type\":\"histogram2d\"}],\"histogram\":[{\"marker\":{\"pattern\":{\"fillmode\":\"overlay\",\"size\":10,\"solidity\":0.2}},\"type\":\"histogram\"}],\"mesh3d\":[{\"colorbar\":{\"outlinewidth\":0,\"ticks\":\"\"},\"type\":\"mesh3d\"}],\"parcoords\":[{\"line\":{\"colorbar\":{\"outlinewidth\":0,\"ticks\":\"\"}},\"type\":\"parcoords\"}],\"pie\":[{\"automargin\":true,\"type\":\"pie\"}],\"scatter3d\":[{\"line\":{\"colorbar\":{\"outlinewidth\":0,\"ticks\":\"\"}},\"marker\":{\"colorbar\":{\"outlinewidth\":0,\"ticks\":\"\"}},\"type\":\"scatter3d\"}],\"scattercarpet\":[{\"marker\":{\"colorbar\":{\"outlinewidth\":0,\"ticks\":\"\"}},\"type\":\"scattercarpet\"}],\"scattergeo\":[{\"marker\":{\"colorbar\":{\"outlinewidth\":0,\"ticks\":\"\"}},\"type\":\"scattergeo\"}],\"scattergl\":[{\"marker\":{\"line\":{\"color\":\"#283442\"}},\"type\":\"scattergl\"}],\"scattermapbox\":[{\"marker\":{\"colorbar\":{\"outlinewidth\":0,\"ticks\":\"\"}},\"type\":\"scattermapbox\"}],\"scatterpolargl\":[{\"marker\":{\"colorbar\":{\"outlinewidth\":0,\"ticks\":\"\"}},\"type\":\"scatterpolargl\"}],\"scatterpolar\":[{\"marker\":{\"colorbar\":{\"outlinewidth\":0,\"ticks\":\"\"}},\"type\":\"scatterpolar\"}],\"scatter\":[{\"marker\":{\"line\":{\"color\":\"#283442\"}},\"type\":\"scatter\"}],\"scatterternary\":[{\"marker\":{\"colorbar\":{\"outlinewidth\":0,\"ticks\":\"\"}},\"type\":\"scatterternary\"}],\"surface\":[{\"colorbar\":{\"outlinewidth\":0,\"ticks\":\"\"},\"colorscale\":[[0.0,\"#0d0887\"],[0.1111111111111111,\"#46039f\"],[0.2222222222222222,\"#7201a8\"],[0.3333333333333333,\"#9c179e\"],[0.4444444444444444,\"#bd3786\"],[0.5555555555555556,\"#d8576b\"],[0.6666666666666666,\"#ed7953\"],[0.7777777777777778,\"#fb9f3a\"],[0.8888888888888888,\"#fdca26\"],[1.0,\"#f0f921\"]],\"type\":\"surface\"}],\"table\":[{\"cells\":{\"fill\":{\"color\":\"#506784\"},\"line\":{\"color\":\"rgb(17,17,17)\"}},\"header\":{\"fill\":{\"color\":\"#2a3f5f\"},\"line\":{\"color\":\"rgb(17,17,17)\"}},\"type\":\"table\"}]},\"layout\":{\"annotationdefaults\":{\"arrowcolor\":\"#f2f5fa\",\"arrowhead\":0,\"arrowwidth\":1},\"autotypenumbers\":\"strict\",\"coloraxis\":{\"colorbar\":{\"outlinewidth\":0,\"ticks\":\"\"}},\"colorscale\":{\"diverging\":[[0,\"#8e0152\"],[0.1,\"#c51b7d\"],[0.2,\"#de77ae\"],[0.3,\"#f1b6da\"],[0.4,\"#fde0ef\"],[0.5,\"#f7f7f7\"],[0.6,\"#e6f5d0\"],[0.7,\"#b8e186\"],[0.8,\"#7fbc41\"],[0.9,\"#4d9221\"],[1,\"#276419\"]],\"sequential\":[[0.0,\"#0d0887\"],[0.1111111111111111,\"#46039f\"],[0.2222222222222222,\"#7201a8\"],[0.3333333333333333,\"#9c179e\"],[0.4444444444444444,\"#bd3786\"],[0.5555555555555556,\"#d8576b\"],[0.6666666666666666,\"#ed7953\"],[0.7777777777777778,\"#fb9f3a\"],[0.8888888888888888,\"#fdca26\"],[1.0,\"#f0f921\"]],\"sequentialminus\":[[0.0,\"#0d0887\"],[0.1111111111111111,\"#46039f\"],[0.2222222222222222,\"#7201a8\"],[0.3333333333333333,\"#9c179e\"],[0.4444444444444444,\"#bd3786\"],[0.5555555555555556,\"#d8576b\"],[0.6666666666666666,\"#ed7953\"],[0.7777777777777778,\"#fb9f3a\"],[0.8888888888888888,\"#fdca26\"],[1.0,\"#f0f921\"]]},\"colorway\":[\"#636efa\",\"#EF553B\",\"#00cc96\",\"#ab63fa\",\"#FFA15A\",\"#19d3f3\",\"#FF6692\",\"#B6E880\",\"#FF97FF\",\"#FECB52\"],\"font\":{\"color\":\"#f2f5fa\"},\"geo\":{\"bgcolor\":\"rgb(17,17,17)\",\"lakecolor\":\"rgb(17,17,17)\",\"landcolor\":\"rgb(17,17,17)\",\"showlakes\":true,\"showland\":true,\"subunitcolor\":\"#506784\"},\"hoverlabel\":{\"align\":\"left\"},\"hovermode\":\"closest\",\"mapbox\":{\"style\":\"dark\"},\"paper_bgcolor\":\"rgb(17,17,17)\",\"plot_bgcolor\":\"rgb(17,17,17)\",\"polar\":{\"angularaxis\":{\"gridcolor\":\"#506784\",\"linecolor\":\"#506784\",\"ticks\":\"\"},\"bgcolor\":\"rgb(17,17,17)\",\"radialaxis\":{\"gridcolor\":\"#506784\",\"linecolor\":\"#506784\",\"ticks\":\"\"}},\"scene\":{\"xaxis\":{\"backgroundcolor\":\"rgb(17,17,17)\",\"gridcolor\":\"#506784\",\"gridwidth\":2,\"linecolor\":\"#506784\",\"showbackground\":true,\"ticks\":\"\",\"zerolinecolor\":\"#C8D4E3\"},\"yaxis\":{\"backgroundcolor\":\"rgb(17,17,17)\",\"gridcolor\":\"#506784\",\"gridwidth\":2,\"linecolor\":\"#506784\",\"showbackground\":true,\"ticks\":\"\",\"zerolinecolor\":\"#C8D4E3\"},\"zaxis\":{\"backgroundcolor\":\"rgb(17,17,17)\",\"gridcolor\":\"#506784\",\"gridwidth\":2,\"linecolor\":\"#506784\",\"showbackground\":true,\"ticks\":\"\",\"zerolinecolor\":\"#C8D4E3\"}},\"shapedefaults\":{\"line\":{\"color\":\"#f2f5fa\"}},\"sliderdefaults\":{\"bgcolor\":\"#C8D4E3\",\"bordercolor\":\"rgb(17,17,17)\",\"borderwidth\":1,\"tickwidth\":0},\"ternary\":{\"aaxis\":{\"gridcolor\":\"#506784\",\"linecolor\":\"#506784\",\"ticks\":\"\"},\"baxis\":{\"gridcolor\":\"#506784\",\"linecolor\":\"#506784\",\"ticks\":\"\"},\"bgcolor\":\"rgb(17,17,17)\",\"caxis\":{\"gridcolor\":\"#506784\",\"linecolor\":\"#506784\",\"ticks\":\"\"}},\"title\":{\"x\":0.05},\"updatemenudefaults\":{\"bgcolor\":\"#506784\",\"borderwidth\":0},\"xaxis\":{\"automargin\":true,\"gridcolor\":\"#283442\",\"linecolor\":\"#506784\",\"ticks\":\"\",\"title\":{\"standoff\":15},\"zerolinecolor\":\"#283442\",\"zerolinewidth\":2},\"yaxis\":{\"automargin\":true,\"gridcolor\":\"#283442\",\"linecolor\":\"#506784\",\"ticks\":\"\",\"title\":{\"standoff\":15},\"zerolinecolor\":\"#283442\",\"zerolinewidth\":2}}},\"scene\":{\"domain\":{\"x\":[0.0,1.0],\"y\":[0.0,1.0]},\"xaxis\":{\"title\":{\"text\":\"X\"}},\"yaxis\":{\"title\":{\"text\":\"Y\"}},\"zaxis\":{\"title\":{\"text\":\"Z\"}}},\"coloraxis\":{\"colorbar\":{\"title\":{\"text\":\"tIdx\"}},\"colorscale\":[[0.0,\"rgb(150,0,90)\"],[0.125,\"rgb(0,0,200)\"],[0.25,\"rgb(0,25,255)\"],[0.375,\"rgb(0,152,255)\"],[0.5,\"rgb(44,255,150)\"],[0.625,\"rgb(151,255,0)\"],[0.75,\"rgb(255,234,0)\"],[0.875,\"rgb(255,111,0)\"],[1.0,\"rgb(255,0,0)\"]]},\"legend\":{\"tracegroupgap\":0,\"itemsizing\":\"constant\"},\"margin\":{\"t\":60}},                        {\"responsive\": true}                    ).then(function(){\n",
       "                            \n",
       "var gd = document.getElementById('c58a0420-48c1-4565-a6c2-006f03c3ffaf');\n",
       "var x = new MutationObserver(function (mutations, observer) {{\n",
       "        var display = window.getComputedStyle(gd).display;\n",
       "        if (!display || display === 'none') {{\n",
       "            console.log([gd, 'removed!']);\n",
       "            Plotly.purge(gd);\n",
       "            observer.disconnect();\n",
       "        }}\n",
       "}});\n",
       "\n",
       "// Listen for the removal of the full notebook cells\n",
       "var notebookContainer = gd.closest('#notebook-container');\n",
       "if (notebookContainer) {{\n",
       "    x.observe(notebookContainer, {childList: true});\n",
       "}}\n",
       "\n",
       "// Listen for the clearing of the current output cell\n",
       "var outputEl = gd.closest('.output');\n",
       "if (outputEl) {{\n",
       "    x.observe(outputEl, {childList: true});\n",
       "}}\n",
       "\n",
       "                        })                };                });            </script>        </div>"
      ]
     },
     "metadata": {},
     "output_type": "display_data"
    }
   ],
   "execution_count": 33
  },
  {
   "metadata": {
    "ExecuteTime": {
     "end_time": "2025-01-20T11:11:01.513232Z",
     "start_time": "2025-01-20T11:11:01.493501Z"
    }
   },
   "cell_type": "code",
   "source": "",
   "id": "2c07216975e2e25e",
   "outputs": [
    {
     "data": {
      "text/plain": [
       "tensor([[ 1.5776e-01,  9.8405e-01,  8.2254e-02],\n",
       "        [-2.7604e-01,  9.5545e-01,  1.0445e-01],\n",
       "        [-2.7929e-01,  9.5391e-01,  1.0978e-01],\n",
       "        [ 1.8736e-01,  9.7893e-01,  8.1240e-02],\n",
       "        [ 1.6067e-01,  9.8312e-01,  8.7558e-02],\n",
       "        [ 1.6633e-01,  9.8175e-01,  9.2166e-02],\n",
       "        [-2.7789e-01,  9.5394e-01,  1.1303e-01],\n",
       "        [ 1.7577e-01,  9.7979e-01,  9.5482e-02],\n",
       "        [-2.0500e-01,  9.7601e-01,  7.3351e-02],\n",
       "        [ 1.6585e-01,  9.8166e-01,  9.4051e-02],\n",
       "        [-2.4560e-01,  9.6450e-01,  9.7019e-02],\n",
       "        [ 2.3079e-01,  9.7272e-01,  2.3669e-02],\n",
       "        [ 2.1518e-01,  9.7641e-01,  1.7769e-02],\n",
       "        [-2.8556e-01,  9.5139e-01,  1.1540e-01],\n",
       "        [ 8.3375e-01,  5.5213e-01,  3.0947e-03],\n",
       "        [ 2.0751e-01,  9.7789e-01,  2.5777e-02],\n",
       "        [-2.7116e-01,  9.5567e-01,  1.1471e-01],\n",
       "        [ 1.8916e-01, -9.8192e-01,  6.7408e-03],\n",
       "        [ 2.9420e-02,  9.9955e-01,  5.4766e-03],\n",
       "        [-2.9866e-01,  9.4725e-01,  1.1626e-01],\n",
       "        [-3.8300e-01, -9.2375e-01,  1.1843e-03],\n",
       "        [-3.7854e-01,  9.1914e-01,  1.0902e-01],\n",
       "        [ 1.8957e-01,  9.7744e-01,  9.3177e-02],\n",
       "        [-3.5404e-01,  9.2869e-01,  1.1040e-01],\n",
       "        [-7.1366e-02,  9.9745e-01,  2.7384e-03],\n",
       "        [-2.6815e-01,  9.5634e-01,  1.1625e-01],\n",
       "        [ 5.1271e-01,  8.5856e-01,  2.7863e-03],\n",
       "        [ 1.7913e-01,  9.7869e-01,  1.0041e-01],\n",
       "        [-2.8577e-01,  9.5115e-01,  1.1682e-01],\n",
       "        [-5.1519e-01, -8.5694e-01,  1.5119e-02],\n",
       "        [-4.3956e-01, -8.9821e-01,  9.8758e-04],\n",
       "        [-3.2362e-01,  9.3864e-01,  1.1927e-01],\n",
       "        [-2.0543e-01,  9.7522e-01,  8.2158e-02],\n",
       "        [-2.6181e-01, -9.6512e-01,  3.9386e-04],\n",
       "        [-3.2637e-01,  9.3794e-01,  1.1731e-01],\n",
       "        [ 2.0204e-01,  9.7924e-01,  1.6306e-02],\n",
       "        [ 1.9135e-01,  9.7723e-01,  9.1702e-02],\n",
       "        [ 8.6832e-01,  4.9597e-01,  5.3530e-03],\n",
       "        [-2.8229e-01,  9.5191e-01,  1.1904e-01],\n",
       "        [ 3.0127e-01, -9.5354e-01,  4.3984e-04],\n",
       "        [ 3.3871e-01,  9.4070e-01,  1.9142e-02],\n",
       "        [-1.7972e-01, -9.8372e-01,  3.0265e-04],\n",
       "        [ 2.3960e-01,  9.7045e-01,  2.8604e-02],\n",
       "        [ 4.4457e-01, -8.9574e-01,  1.3448e-03],\n",
       "        [-7.8075e-01, -6.2432e-01,  2.5710e-02],\n",
       "        [-9.8213e-01,  1.8668e-01,  2.4010e-02],\n",
       "        [ 5.5187e-01,  8.3392e-01,  3.2977e-03],\n",
       "        [-6.8770e-01, -7.2599e-01,  3.6515e-03],\n",
       "        [ 9.9154e-01,  1.2972e-01,  5.0068e-03],\n",
       "        [-3.3564e-01,  9.3470e-01,  1.1694e-01],\n",
       "        [ 1.8652e-01,  9.8082e-01,  5.6574e-02],\n",
       "        [-9.8274e-01,  1.8338e-01,  2.4470e-02],\n",
       "        [ 2.2948e-01, -9.7331e-01,  1.9964e-04],\n",
       "        [-2.7509e-01,  9.5440e-01,  1.1596e-01],\n",
       "        [ 8.7907e-01,  4.7665e-01,  7.0843e-03],\n",
       "        [ 2.0529e-01, -9.7870e-01,  3.5295e-04],\n",
       "        [ 1.8271e-01,  9.7776e-01,  1.0292e-01],\n",
       "        [-5.8532e-01, -8.1079e-01,  4.2083e-03],\n",
       "        [-2.2405e-01,  9.6976e-01,  9.6725e-02],\n",
       "        [-6.4469e-01,  7.6213e-01,  5.9327e-02],\n",
       "        [ 1.8370e-01,  9.7783e-01,  1.0050e-01],\n",
       "        [ 1.8424e-01,  9.7758e-01,  1.0193e-01],\n",
       "        [-3.4131e-01,  9.3192e-01,  1.2262e-01],\n",
       "        [-3.3554e-01,  9.4200e-01,  6.8494e-03],\n",
       "        [ 6.4502e-01, -7.6416e-01,  1.3308e-03],\n",
       "        [-3.8729e-01,  9.1485e-01,  1.1424e-01],\n",
       "        [ 5.8599e-01, -8.1032e-01,  1.1693e-03],\n",
       "        [-5.8481e-02,  9.9828e-01,  3.9322e-03],\n",
       "        [ 3.9619e-01,  9.1811e-01,  1.0399e-02],\n",
       "        [ 2.1079e-01,  9.7551e-01,  6.2862e-02],\n",
       "        [-2.6759e-01,  9.5631e-01,  1.1777e-01],\n",
       "        [-3.0254e-01,  9.5313e-01,  3.6401e-03],\n",
       "        [ 2.0368e-01,  9.7577e-01,  7.9977e-02],\n",
       "        [ 9.5745e-01, -2.8859e-01,  2.9633e-03],\n",
       "        [-1.5607e-01, -9.8774e-01,  1.0070e-03],\n",
       "        [ 9.9709e-01,  7.6084e-02,  4.8195e-03],\n",
       "        [ 1.8158e-01,  9.7801e-01,  1.0257e-01],\n",
       "        [ 3.3576e-01,  9.4185e-01,  1.3812e-02],\n",
       "        [ 2.6705e-01, -9.6368e-01,  8.2438e-04],\n",
       "        [ 8.7120e-02,  9.9608e-01,  1.5372e-02],\n",
       "        [ 1.8925e-01,  9.7670e-01,  1.0120e-01],\n",
       "        [-4.2279e-01,  9.0621e-01,  6.0599e-03],\n",
       "        [-2.7467e-01,  9.5381e-01,  1.2166e-01],\n",
       "        [-3.1099e-01,  9.4260e-01,  1.2158e-01],\n",
       "        [-5.0925e-01,  8.5586e-01,  9.0395e-02],\n",
       "        [-8.5143e-01, -5.2426e-01,  1.4852e-02],\n",
       "        [-6.3556e-01, -7.7204e-01,  3.4622e-03],\n",
       "        [-4.8095e-01,  8.7457e-01,  6.1805e-02],\n",
       "        [-1.2795e-01,  9.9170e-01,  1.2779e-02],\n",
       "        [ 3.6782e-01,  9.2947e-01,  2.8042e-02],\n",
       "        [-5.3934e-01, -8.4209e-01,  1.8055e-03],\n",
       "        [ 3.6541e-01,  9.3080e-01,  9.0755e-03],\n",
       "        [ 9.7491e-01,  2.2252e-01,  5.9076e-03],\n",
       "        [-2.1247e-01,  9.7229e-01,  9.7521e-02],\n",
       "        [ 1.4954e-01, -9.8876e-01,  3.3958e-04],\n",
       "        [-4.1069e-01, -9.1176e-01,  4.9851e-03],\n",
       "        [ 7.4403e-01,  6.6814e-01,  3.2493e-03],\n",
       "        [-2.8512e-01,  9.5053e-01,  1.2325e-01],\n",
       "        [ 8.5808e-01, -5.1351e-01,  2.4182e-03],\n",
       "        [-2.9554e-01,  9.4733e-01,  1.2336e-01],\n",
       "        [ 7.7957e-03,  9.9993e-01,  8.8663e-03],\n",
       "        [-8.4029e-01, -5.4198e-01,  1.3564e-02],\n",
       "        [ 6.6023e-01,  7.5106e-01,  2.6860e-03],\n",
       "        [-2.4100e-01,  9.6389e-01,  1.1326e-01],\n",
       "        [-5.8824e-01,  8.0864e-01,  8.1394e-03],\n",
       "        [ 5.6545e-01,  8.2476e-01,  6.5639e-03],\n",
       "        [ 3.7011e-01,  9.2889e-01,  1.3502e-02],\n",
       "        [-8.5719e-01, -5.1496e-01,  6.3810e-03],\n",
       "        [ 1.9883e-01,  9.7555e-01,  9.3648e-02],\n",
       "        [-4.3673e-01,  8.9958e-01,  4.3706e-03],\n",
       "        [ 1.7635e-01,  9.8035e-01,  8.8404e-02],\n",
       "        [ 6.9272e-01,  7.2114e-01,  1.0014e-02],\n",
       "        [-9.1198e-01, -4.1014e-01,  9.0722e-03],\n",
       "        [ 1.3930e-01,  9.9022e-01,  8.1595e-03],\n",
       "        [-2.7299e-01,  9.5583e-01,  1.0891e-01],\n",
       "        [ 3.1216e-01, -9.5003e-01,  5.4232e-04],\n",
       "        [ 1.5646e-01,  9.8758e-01,  1.4465e-02],\n",
       "        [-1.9370e-01, -9.8106e-01,  5.1277e-04],\n",
       "        [ 8.2830e-01,  5.6026e-01,  4.5816e-03],\n",
       "        [-3.4282e-01,  9.3938e-01,  6.4066e-03],\n",
       "        [ 4.2269e-01,  9.0613e-01,  1.6060e-02],\n",
       "        [-8.5018e-01, -5.2645e-01,  6.4036e-03],\n",
       "        [ 3.6932e-01, -9.2930e-01,  1.1207e-03],\n",
       "        [ 2.6139e-01, -9.6523e-01,  2.6231e-04],\n",
       "        [ 7.8401e-01,  6.2068e-01,  8.8401e-03],\n",
       "        [ 1.7933e-01,  9.8379e-01,  2.6442e-03],\n",
       "        [-2.4559e-01,  9.6227e-01,  1.1713e-01],\n",
       "        [ 3.9907e-01,  9.1674e-01,  1.7892e-02],\n",
       "        [ 3.5405e-01,  9.3520e-01,  6.8744e-03],\n",
       "        [-2.4965e-01,  9.6218e-01,  1.0899e-01],\n",
       "        [-7.9112e-01,  6.1037e-01,  3.9733e-02],\n",
       "        [ 1.7968e-01,  9.7866e-01,  9.9715e-02],\n",
       "        [-2.4047e-01,  9.6521e-01,  1.0263e-01],\n",
       "        [-2.4052e-01, -9.7064e-01,  6.0432e-04],\n",
       "        [-3.5914e-01,  9.2522e-01,  1.2240e-01],\n",
       "        [ 8.6889e-01,  4.9496e-01,  6.0291e-03],\n",
       "        [ 2.9706e-01,  9.5452e-01,  2.5266e-02],\n",
       "        [-3.1297e-01, -9.4976e-01,  1.9227e-03],\n",
       "        [-3.4379e-01,  9.3092e-01,  1.2330e-01],\n",
       "        [ 7.5591e-01, -6.5467e-01,  1.9844e-03],\n",
       "        [ 6.8384e-02, -9.9766e-01,  4.6762e-04]])"
      ]
     },
     "execution_count": 27,
     "metadata": {},
     "output_type": "execute_result"
    }
   ],
   "execution_count": 27
  },
  {
   "metadata": {
    "ExecuteTime": {
     "end_time": "2025-01-15T13:26:47.541174Z",
     "start_time": "2025-01-15T13:26:42.640256Z"
    }
   },
   "cell_type": "code",
   "source": [
    "from src.jetfinder.basicjetfinder import basicjetfinder\n",
    "from src.jetfinder.basicjetfinder_types import PseudoJet"
   ],
   "id": "3d306ff55aba8f56",
   "outputs": [],
   "execution_count": 62
  },
  {
   "metadata": {
    "ExecuteTime": {
     "end_time": "2025-02-12T11:30:57.051315Z",
     "start_time": "2025-02-12T11:30:56.738611Z"
    }
   },
   "cell_type": "code",
   "source": "event = dataset[1]",
   "id": "f22d322fe5c58d62",
   "outputs": [],
   "execution_count": 11
  },
  {
   "metadata": {
    "ExecuteTime": {
     "end_time": "2025-02-12T11:30:57.798195Z",
     "start_time": "2025-02-12T11:30:57.789047Z"
    }
   },
   "cell_type": "code",
   "source": [
    "def get_pseudojets(event):\n",
    "    pseudojets = []\n",
    "    for i in range(len(event.pfcands)):\n",
    "        pseudojets.append(PseudoJet(event.pfcands.pxyz[i, 0].item(), event.pfcands.pxyz[i, 1].item(), event.pfcands.pxyz[i, 2].item(), event.pfcands.E[i].item()))\n",
    "    return pseudojets\n",
    "def get_pseudojets_fastjet(event):\n",
    "    pseudojets = []\n",
    "    for i in range(len(event.pfcands)):\n",
    "        pseudojets.append(fastjet.PseudoJet(event.pfcands.pxyz[i, 0].item(), event.pfcands.pxyz[i, 1].item(), event.pfcands.pxyz[i, 2].item(), event.pfcands.E[i].item()))\n",
    "    return pseudojets"
   ],
   "id": "d82147109550e95d",
   "outputs": [],
   "execution_count": 12
  },
  {
   "metadata": {
    "ExecuteTime": {
     "end_time": "2025-01-15T13:26:48.214374164Z",
     "start_time": "2025-01-05T10:22:51.003001Z"
    }
   },
   "cell_type": "code",
   "source": [
    "pj = get_pseudojets(event)\n",
    "init_jets, history = basicjetfinder(pj, return_raw=True)"
   ],
   "id": "109f80517d6d8ebe",
   "outputs": [],
   "execution_count": 9
  },
  {
   "metadata": {
    "ExecuteTime": {
     "end_time": "2025-01-15T13:26:48.218588253Z",
     "start_time": "2025-01-05T10:22:51.189299Z"
    }
   },
   "cell_type": "code",
   "source": "pj[0].phi, pj[0].rap",
   "id": "d447c0086cf78673",
   "outputs": [
    {
     "data": {
      "text/plain": [
       "(5.176739997422374, -1.1044922730459195)"
      ]
     },
     "execution_count": 10,
     "metadata": {},
     "output_type": "execute_result"
    }
   ],
   "execution_count": 10
  },
  {
   "metadata": {
    "ExecuteTime": {
     "end_time": "2025-01-15T13:26:48.220185691Z",
     "start_time": "2025-01-05T10:22:51.295388Z"
    }
   },
   "cell_type": "code",
   "source": "event.pfcands.phi[0].item(), event.pfcands.eta[0].item()",
   "id": "829888c538a224ce",
   "outputs": [
    {
     "data": {
      "text/plain": [
       "(-1.1064453125, -1.1044921875)"
      ]
     },
     "execution_count": 11,
     "metadata": {},
     "output_type": "execute_result"
    }
   ],
   "execution_count": 11
  },
  {
   "metadata": {
    "ExecuteTime": {
     "end_time": "2025-01-15T13:26:48.222836564Z",
     "start_time": "2025-01-05T10:22:53.423595Z"
    }
   },
   "cell_type": "code",
   "source": [
    "history.parent1[-1], history.parent2[-1]\n",
    "history.jetp_index[305]"
   ],
   "id": "5066f1dbfc75c415",
   "outputs": [
    {
     "data": {
      "text/plain": [
       "305"
      ]
     },
     "execution_count": 12,
     "metadata": {},
     "output_type": "execute_result"
    }
   ],
   "execution_count": 12
  },
  {
   "metadata": {
    "ExecuteTime": {
     "end_time": "2025-01-15T13:26:48.225401392Z",
     "start_time": "2025-01-05T10:22:53.613292Z"
    }
   },
   "cell_type": "code",
   "source": "jets = basicjetfinder(pj, return_raw=0, ptmin=100)",
   "id": "111438c86429cb73",
   "outputs": [],
   "execution_count": 13
  },
  {
   "metadata": {
    "ExecuteTime": {
     "end_time": "2025-01-15T13:26:48.227766958Z",
     "start_time": "2025-01-05T10:23:02.561963Z"
    }
   },
   "cell_type": "code",
   "source": [
    "fig, ax = plt.subplots()\n",
    "print(len(jets))\n",
    "import numpy as np\n",
    "pts = [jet.pt for jet in jets]\n",
    "ax.hist(pts, bins=np.linspace(100, 300, 30))\n",
    "fig.show()"
   ],
   "id": "c9b6a5bae8fb77a0",
   "outputs": [
    {
     "name": "stdout",
     "output_type": "stream",
     "text": [
      "12\n"
     ]
    },
    {
     "data": {
      "text/plain": [
       "<Figure size 640x480 with 1 Axes>"
      ],
      "image/png": "[encoded data removed]"
     },
     "metadata": {},
     "output_type": "display_data"
    }
   ],
   "execution_count": 15
  },
  {
   "metadata": {
    "ExecuteTime": {
     "end_time": "2025-01-15T13:26:48.228831708Z",
     "start_time": "2025-01-05T10:23:12.488535Z"
    }
   },
   "cell_type": "code",
   "source": "pts",
   "id": "8173000a212c5561",
   "outputs": [
    {
     "data": {
      "text/plain": [
       "[106.4914540483752,\n",
       " 126.82878103484677,\n",
       " 128.75701244217592,\n",
       " 139.36815083799416,\n",
       " 141.45818096650805,\n",
       " 157.3921266403816,\n",
       " 263.460560295077,\n",
       " 510.77385760617676,\n",
       " 1265.8454239380796,\n",
       " 3240.9516711140454,\n",
       " 9355.60575745164,\n",
       " 12409.915133671686]"
      ]
     },
     "execution_count": 16,
     "metadata": {},
     "output_type": "execute_result"
    }
   ],
   "execution_count": 16
  },
  {
   "metadata": {
    "ExecuteTime": {
     "end_time": "2025-01-15T13:26:48.232599293Z",
     "start_time": "2025-01-04T21:42:24.952081Z"
    }
   },
   "cell_type": "code",
   "source": "history.parent1[-1], history.parent2[-1]\n",
   "id": "ca12ef3d85430a6c",
   "outputs": [
    {
     "data": {
      "text/plain": [
       "(305, -1)"
      ]
     },
     "execution_count": 14,
     "metadata": {},
     "output_type": "execute_result"
    }
   ],
   "execution_count": 14
  },
  {
   "metadata": {
    "ExecuteTime": {
     "end_time": "2025-01-15T13:26:48.235836146Z",
     "start_time": "2025-01-04T21:42:25.992473Z"
    }
   },
   "cell_type": "code",
   "source": "history.parent1",
   "id": "648b5a6c3f3469db",
   "outputs": [
    {
     "data": {
      "text/plain": [
       "array([ -1,  -1,  -1,  -1,  -1,  -1,  -1,  -1,  -1,  -1,  -1,  -1,  -1,\n",
       "        -1,  -1,  -1,  -1,  -1,  -1,  -1,  -1,  -1,  -1,  -1,  -1,  -1,\n",
       "        -1,  -1,  -1,  -1,  -1,  -1,  -1,  -1,  -1,  -1,  -1,  -1,  -1,\n",
       "        -1,  -1,  -1,  -1,  -1,  -1,  -1,  -1,  -1,  -1,  -1,  -1,  -1,\n",
       "        -1,  -1,  -1,  -1,  -1,  -1,  -1,  -1,  -1,  -1,  -1,  -1,  -1,\n",
       "        -1,  -1,  -1,  -1,  -1,  -1,  -1,  -1,  -1,  -1,  -1,  -1,  -1,\n",
       "        -1,  -1,  -1,  -1,  -1,  -1,  -1,  -1,  -1,  -1,  -1,  -1,  -1,\n",
       "        -1,  -1,  -1,  -1,  -1,  -1,  -1,  -1,  -1,  -1,  -1,  -1,  -1,\n",
       "        -1,  -1,  -1,  -1,  -1,  -1,  -1,  -1,  -1,  -1,  -1,  -1,  -1,\n",
       "        -1,  -1,  -1,  -1,  -1,  -1,  -1,  -1,  -1,  -1,  -1,  -1,  -1,\n",
       "        -1,  -1,  -1,  -1,  -1,  -1,  -1,  -1,  -1,  -1,  -1,  -1,  -1,\n",
       "        -1,  -1,  -1,  -1,  -1,  -1,  -1,  -1,  -1,  -1,  -1,  -1,  -1,\n",
       "        -1,  -1,  -1,  -1,  -1,  -1,  -1,  -1,  -1,  -1,  -1,  -1,  -1,\n",
       "        -1,  -1,  -1,  -1,  -1,  -1,  -1,  -1,  -1,  -1,  -1,  -1,  -1,\n",
       "        -1,  -1,  -1,  -1,  -1,  -1,  -1,  -1,  -1,  -1,  -1,  -1,  -1,\n",
       "        -1,  -1,  -1,  -1,  -1,  -1,  -1,  -1,  -1,  -1,  -1,  -1,  -1,\n",
       "        -1,  -1,  -1,  -1,  -1,  -1,  -1,  -1,  -1,  -1,  -1,  -1,  -1,\n",
       "        -1,  -1,  -1,  -1,  -1,  -1,  -1,  -1,  -1,  -1,  -1,  -1,  -1,\n",
       "        -1,  -1,  -1,  -1,  -1,  -1,  -1,  -1,  -1,  -1,  -1,  -1,  -1,\n",
       "        -1,  -1,  -1,  -1,  -1,  -1,  -1,  -1,  -1,  -1,  -1,  -1,  -1,\n",
       "        -1,  -1,  -1,  -1,  -1,  -1,  -1,  -1,  -1,  -1,  -1,  -1,  -1,\n",
       "        -1,  -1,  -1,  -1,  -1,  -1,  -1,  -1,  -1,  -1,  -1,  -1,  -1,\n",
       "        -1,  -1,  -1,  -1,  -1,  -1,  -1,  -1,  -1,  -1,  -1,  -1,  -1,\n",
       "        -1,  -1,  -1,  -1,  -1,  -1,  -1,  -1,  -1,  -1,  -1,  -1,  -1,\n",
       "        -1,  -1,  -1,  -1,  -1,  -1,  -1,  -1,  -1,  -1,  -1,  -1,  -1,\n",
       "        -1,  -1,  -1,  -1,  -1,  -1,  -1,  -1,  -1,  -1,   1, 335,   0,\n",
       "       337, 338, 339, 340,   6, 341,   7, 343, 345, 346, 347, 348,   5,\n",
       "       349, 351, 352, 353, 127, 350, 356, 354, 358,  13, 359, 357, 362,\n",
       "       363, 361, 365, 366, 367, 368, 369, 370, 371, 372, 364, 374, 373,\n",
       "       376, 377, 378, 379,  82, 375, 382, 383, 344, 385, 386, 387, 384,\n",
       "       389, 390, 391, 392, 393, 394, 395, 396, 397, 398, 399, 400, 401,\n",
       "       402, 403, 404, 405, 406, 342, 408, 409, 410, 407, 412, 413, 414,\n",
       "       415, 416, 417, 418, 419, 420, 421, 422, 423, 411, 425, 424, 427,\n",
       "       428, 429, 430, 431, 432, 433, 434, 435, 436, 437, 438, 439, 440,\n",
       "       441, 442, 443, 444, 445, 446, 447, 448, 449, 450, 451, 452, 426,\n",
       "         9, 455, 453, 454, 458,  33, 460, 388, 459, 463, 464, 465,  25,\n",
       "       466, 468, 469, 456, 470, 472, 473, 474, 475, 476, 477, 478, 479,\n",
       "       480, 481, 482, 483, 484, 485, 486, 487, 488, 489, 462,  35, 491,\n",
       "       461, 494, 495, 493, 497, 498, 499,  20, 496, 502, 500, 504, 503,\n",
       "       506, 507, 505, 509, 510, 511, 512, 513, 514, 515, 516, 508, 518,\n",
       "       519, 501, 520,  22, 521,  92, 522, 524, 526,  91, 528, 248, 530,\n",
       "       527, 523,  65, 177, 533, 537, 538, 467, 539,  48,  40, 540,  93,\n",
       "       541,  37, 547, 548, 549, 550, 551, 552, 553, 554, 555, 556, 557,\n",
       "       558, 559, 560, 561, 542, 534,  57, 529, 564, 563, 568, 566, 570,\n",
       "       571, 572, 573, 574, 575, 565, 577, 569, 185, 102, 581,  62, 583,\n",
       "        52,  43, 586, 587, 588, 589, 590, 591, 582,  50, 594, 595, 596,\n",
       "       597, 598, 599, 600,  27, 602, 603, 604,  98, 606, 607, 543, 544,\n",
       "       608, 609, 567, 579, 614, 611, 605, 617, 593, 619, 620, 621,  89,\n",
       "       623, 624, 625, 626, 627, 628, 629, 612, 631, 632, 633, 634, 635,\n",
       "       636, 637, 610, 616, 640,  84, 192, 642, 644, 645, 646, 647, 545,\n",
       "       649, 650, 651, 652, 653, 654, 190, 104, 657, 658, 659, 660, 661,\n",
       "        49, 137, 664, 656, 126, 166, 305])"
      ]
     },
     "execution_count": 15,
     "metadata": {},
     "output_type": "execute_result"
    }
   ],
   "execution_count": 15
  },
  {
   "metadata": {
    "ExecuteTime": {
     "end_time": "2025-01-15T13:26:48.239141583Z",
     "start_time": "2025-01-04T21:42:40.173588Z"
    }
   },
   "cell_type": "code",
   "source": "history.parent2",
   "id": "7f4ba4d2fac40d0b",
   "outputs": [
    {
     "data": {
      "text/plain": [
       "array([ -1,  -1,  -1,  -1,  -1,  -1,  -1,  -1,  -1,  -1,  -1,  -1,  -1,\n",
       "        -1,  -1,  -1,  -1,  -1,  -1,  -1,  -1,  -1,  -1,  -1,  -1,  -1,\n",
       "        -1,  -1,  -1,  -1,  -1,  -1,  -1,  -1,  -1,  -1,  -1,  -1,  -1,\n",
       "        -1,  -1,  -1,  -1,  -1,  -1,  -1,  -1,  -1,  -1,  -1,  -1,  -1,\n",
       "        -1,  -1,  -1,  -1,  -1,  -1,  -1,  -1,  -1,  -1,  -1,  -1,  -1,\n",
       "        -1,  -1,  -1,  -1,  -1,  -1,  -1,  -1,  -1,  -1,  -1,  -1,  -1,\n",
       "        -1,  -1,  -1,  -1,  -1,  -1,  -1,  -1,  -1,  -1,  -1,  -1,  -1,\n",
       "        -1,  -1,  -1,  -1,  -1,  -1,  -1,  -1,  -1,  -1,  -1,  -1,  -1,\n",
       "        -1,  -1,  -1,  -1,  -1,  -1,  -1,  -1,  -1,  -1,  -1,  -1,  -1,\n",
       "        -1,  -1,  -1,  -1,  -1,  -1,  -1,  -1,  -1,  -1,  -1,  -1,  -1,\n",
       "        -1,  -1,  -1,  -1,  -1,  -1,  -1,  -1,  -1,  -1,  -1,  -1,  -1,\n",
       "        -1,  -1,  -1,  -1,  -1,  -1,  -1,  -1,  -1,  -1,  -1,  -1,  -1,\n",
       "        -1,  -1,  -1,  -1,  -1,  -1,  -1,  -1,  -1,  -1,  -1,  -1,  -1,\n",
       "        -1,  -1,  -1,  -1,  -1,  -1,  -1,  -1,  -1,  -1,  -1,  -1,  -1,\n",
       "        -1,  -1,  -1,  -1,  -1,  -1,  -1,  -1,  -1,  -1,  -1,  -1,  -1,\n",
       "        -1,  -1,  -1,  -1,  -1,  -1,  -1,  -1,  -1,  -1,  -1,  -1,  -1,\n",
       "        -1,  -1,  -1,  -1,  -1,  -1,  -1,  -1,  -1,  -1,  -1,  -1,  -1,\n",
       "        -1,  -1,  -1,  -1,  -1,  -1,  -1,  -1,  -1,  -1,  -1,  -1,  -1,\n",
       "        -1,  -1,  -1,  -1,  -1,  -1,  -1,  -1,  -1,  -1,  -1,  -1,  -1,\n",
       "        -1,  -1,  -1,  -1,  -1,  -1,  -1,  -1,  -1,  -1,  -1,  -1,  -1,\n",
       "        -1,  -1,  -1,  -1,  -1,  -1,  -1,  -1,  -1,  -1,  -1,  -1,  -1,\n",
       "        -1,  -1,  -1,  -1,  -1,  -1,  -1,  -1,  -1,  -1,  -1,  -1,  -1,\n",
       "        -1,  -1,  -1,  -1,  -1,  -1,  -1,  -1,  -1,  -1,  -1,  -1,  -1,\n",
       "        -1,  -1,  -1,  -1,  -1,  -1,  -1,  -1,  -1,  -1,  -1,  -1,  -1,\n",
       "        -1,  -1,  -1,  -1,  -1,  -1,  -1,  -1,  -1,  -1,  -1,  -1,  -1,\n",
       "        -1,  -1,  -1,  -1,  -1,  -1,  -1,  -1,  -1,  -1,   3,   2, 336,\n",
       "       213,   4, 134, 197, 243, 169,  31, 323, 222, 230, 325, 155,  12,\n",
       "       167, 142, 327, 198, 141,  45,  47, 106, 310, 116, 270,  16, 100,\n",
       "        74,  11, 221, 299,  59,  67,  58, 277, 129, 189,  17, 184, 303,\n",
       "       139, 146,  79,  -1, 123,  77, 294, 258,  32,  36,  18,  14, 360,\n",
       "       124,  63, 292,  19, 204, 112,  29, 103, 109, 263,  73, 131, 199,\n",
       "        55, 266,  54, 309,  41,  15,  21,  30,   8, 233, 285,  46, 241,\n",
       "        38,  68, 246,  96,  85, 122, 316, 191,  86,  90, 229, 157, 289,\n",
       "        26,  28, 117, 135,  24,  61, 214,  23, 326, 224, 201, 179, 237,\n",
       "        76, 115,  42, 172, 256, 143, 219,  78, 281, 308,  44, 206, 128,\n",
       "        53,  60,  -1, 183, 251,  34, 255, 175, 333, 105, 268, 133, 317,\n",
       "       381, 227, 321, 158,  94,  39, 355,  10, 252,  80, 101, 471, 290,\n",
       "        70, 284,  83, 275, 291, 210, 262, 261, 253,  -1, 153, 334, 280,\n",
       "       108, 140, 492, 147, 125, 174, 295, 232, 288, 287, 161, 265,  56,\n",
       "       307, 195, 247, 150, 164, 202, 274,  95,  64, 244,  -1, 186, 272,\n",
       "       208, 329, 162, 273, 111, 107, 223, 160, 218, 163, 286, 271,  -1,\n",
       "       250, 130, 330, 531, 313, 259,  69, 324, 152,  99, 165, 278, 242,\n",
       "        -1, 536, 217, 203, 211, 159, 145, 331,  88, 226, 535, 216, 151,\n",
       "       231, 187, 301,  -1, 260, 297,  72, 525, 264, 120,  87, 269, 235,\n",
       "       318, 228, 194, 220, 178, 576,  -1, 314, 188, 113, 245,  97, 156,\n",
       "       584, 585,  66, 132, 279,  81, 296,  -1, 282, 298, 180, 580, 234,\n",
       "        71, 200, 168,  -1, 170, 302, 171, 154, 207, 304, 110, 320, 238,\n",
       "       312, 181,  -1, 138,  -1, 283, 276,  -1, 267, 121, 328, 182, 622,\n",
       "       215, 209, 212, 173, 306, 193,  -1, 114,  75, 119, 149,  51, 240,\n",
       "       205,  -1,  -1, 148,  -1, 257, 236, 118, 176, 144, 196,  -1, 300,\n",
       "       322, 136, 293, 319, 332,  -1, 311, 249, 254, 315, 225, 643,  -1,\n",
       "        -1, 239,  -1,  -1,  -1,  -1,  -1])"
      ]
     },
     "execution_count": 16,
     "metadata": {},
     "output_type": "execute_result"
    }
   ],
   "execution_count": 16
  },
  {
   "metadata": {
    "ExecuteTime": {
     "end_time": "2025-02-12T11:37:26.356164Z",
     "start_time": "2025-02-12T11:37:26.334334Z"
    }
   },
   "cell_type": "code",
   "source": [
    "import fastjet\n",
    "jetdef = fastjet.JetDefinition(fastjet.antikt_algorithm, 0.8)\n",
    "array = get_pseudojets_fastjet(event)\n",
    "\n",
    "cluster = fastjet.ClusterSequence(array, jetdef)\n",
    "inc_jets = cluster.inclusive_jets()\n",
    "for elem in inc_jets:\n",
    "    pt = elem.pt()\n",
    "    if pt < 100:\n",
    "        continue\n",
    "    print(\"pt:\", elem.pt(), \"eta:\", elem.rap(), \"phi:\", elem.phi(), \"m\", elem.m())\n",
    "\n",
    "\n",
    "def get_jets(event, jetdef):\n",
    "    pt = []\n",
    "    eta = []\n",
    "    phis = []\n",
    "    mass = []\n",
    "    array = get_pseudojets_fastjet(event)\n",
    "\n",
    "    cluster = fastjet.ClusterSequence(array, jetdef)\n",
    "    inc_jets = cluster.inclusive_jets()\n",
    "    for elem in inc_jets:\n",
    "        if elem.pt() < 100:\n",
    "            continue\n",
    "        #print(\"pt:\", elem.pt(), \"eta:\", elem.rap(), \"phi:\", elem.phi())ž\n",
    "        pt.append(elem.pt())\n",
    "        eta.append(elem.rap())\n",
    "        phi = elem.phi()\n",
    "        if phi > np.pi:\n",
    "            phi -= 2*np.pi\n",
    "        phis.append(phi)\n",
    "        mass.append(elem.m())\n",
    "    return pt, eta, phis, mass\n"
   ],
   "id": "fe26fce41ce8a6e0",
   "outputs": [
    {
     "name": "stdout",
     "output_type": "stream",
     "text": [
      "pt: 170.28684882840693 eta: 1.4439809865649234 phi: 3.443388811838133 m 34.279811963116074\n"
     ]
    }
   ],
   "execution_count": 26
  },
  {
   "metadata": {
    "ExecuteTime": {
     "end_time": "2025-02-12T11:37:27.360232Z",
     "start_time": "2025-02-12T11:37:27.350919Z"
    }
   },
   "cell_type": "code",
   "source": "event.fatjets.pt.tolist(), event.fatjets.eta.tolist(), event.fatjets.phi.tolist()",
   "id": "d1e783a1ef0b7d2",
   "outputs": [
    {
     "data": {
      "text/plain": [
       "([170.28684997558594], [1.462087869644165], [-2.839796543121338])"
      ]
     },
     "execution_count": 27,
     "metadata": {},
     "output_type": "execute_result"
    }
   ],
   "execution_count": 27
  },
  {
   "metadata": {
    "ExecuteTime": {
     "end_time": "2025-02-12T11:37:44.517906Z",
     "start_time": "2025-02-12T11:37:44.500190Z"
    }
   },
   "cell_type": "code",
   "source": [
    "jetdef = fastjet.JetDefinition(fastjet.antikt_algorithm, 0.8)\n",
    "\n",
    "jets = get_jets(event, jetdef)\n",
    "print(jets)"
   ],
   "id": "4a70177cc18e6294",
   "outputs": [
    {
     "name": "stdout",
     "output_type": "stream",
     "text": [
      "([170.28684882840693], [1.4439809865649234], [-2.8397964953414534], [34.279811963116074])\n"
     ]
    }
   ],
   "execution_count": 32
  },
  {
   "metadata": {
    "ExecuteTime": {
     "end_time": "2025-01-15T13:26:48.246660551Z",
     "start_time": "2025-01-08T13:38:47.767966Z"
    }
   },
   "cell_type": "code",
   "source": [
    "model_clusters_file =\"/work/gkrzmanc/jetclustering/results/train/Test_betaPt_BC_2025_01_03_15_07_14/HDBSCAN_10_20.pkl\"\n",
    "model_output_file = \"/work/gkrzmanc/jetclustering/results/train/Test_betaPt_BC_2025_01_03_15_07_14/eval_0.pkl\"\n"
   ],
   "id": "2b10ddbf4eec8cb5",
   "outputs": [],
   "execution_count": 5
  },
  {
   "metadata": {
    "ExecuteTime": {
     "end_time": "2025-01-15T13:26:48.248147149Z",
     "start_time": "2025-01-08T13:38:47.884029Z"
    }
   },
   "cell_type": "code",
   "source": [
    "ds = EventDataset.from_directory(\"/work/gkrzmanc/jetclustering/preprocessed_data/scouting_PFNano_signals2/SVJ_hadronic_std/s-channel_mMed-900_mDark-20_rinv-0.3\",\n",
    "             model_clusters_file=model_clusters_file, model_output_file=model_output_file)"
   ],
   "id": "45e33b8f47a24359",
   "outputs": [
    {
     "name": "stderr",
     "output_type": "stream",
     "text": [
      "/work/gkrzmanc/jetclustering/code/src/utils/utils.py:91: FutureWarning: You are using `torch.load` with `weights_only=False` (the current default value), which uses the default pickle module implicitly. It is possible to construct malicious pickle data which will execute arbitrary code during unpickling (See https://github.com/pytorch/pytorch/blob/main/SECURITY.md#untrusted-models for more details). In a future release, the default value for `weights_only` will be flipped to `True`. This limits the functions that could be executed during unpickling. Arbitrary objects will no longer be allowed to be loaded via this mode unless they are explicitly allowlisted by the user via `torch.serialization.add_safe_globals`. We recommend you start setting `weights_only=True` for any use case where you don't have full control of the loaded file. Please open an issue on GitHub for any issues related to this experimental feature.\n",
      "  return lambda b: torch.load(io.BytesIO(b), map_location='cpu')\n"
     ]
    }
   ],
   "execution_count": 6
  },
  {
   "metadata": {
    "ExecuteTime": {
     "end_time": "2025-01-15T13:26:48.249374772Z",
     "start_time": "2025-01-08T13:38:48.434363Z"
    }
   },
   "cell_type": "code",
   "source": [
    "labels = CPU_Unpickler(open(\"/work/gkrzmanc/jetclustering/results/train/Test_betaPt_BC_2025_01_03_15_07_14/HDBSCAN_10_20.pkl\", \"rb\")).load()\n",
    "labels"
   ],
   "id": "9e23e7eff0c80073",
   "outputs": [
    {
     "data": {
      "text/plain": [
       "array([ 0,  2,  2, ...,  1,  0, -1])"
      ]
     },
     "execution_count": 7,
     "metadata": {},
     "output_type": "execute_result"
    }
   ],
   "execution_count": 7
  },
  {
   "metadata": {
    "ExecuteTime": {
     "end_time": "2025-01-15T13:26:48.250785451Z",
     "start_time": "2025-01-08T13:38:48.566720Z"
    }
   },
   "cell_type": "code",
   "source": [
    "from src.plotting.plot_event import plot_event\n",
    "clist = ['#1f78b4', '#b3df8a', '#33a02c', '#fb9a99', '#e31a1c', '#fdbe6f', '#ff7f00', '#cab2d6', '#6a3d9a', '#ffff99', '#b15928']\n",
    "colors = {\n",
    "    -1: \"gray\",\n",
    "    0: clist[0],\n",
    "    1: clist[1],\n",
    "    2: clist[2],\n",
    "    3: clist[3],\n",
    "    4: clist[4],\n",
    "    5: clist[5],\n",
    "    6: clist[6],\n",
    "    7: clist[7],\n",
    "}\n",
    "\n",
    "idx = 4\n",
    "c = [colors[i] for i in labels[result[\"event_idx\"] == idx]]\n",
    "\n",
    "plot_event(ds[idx], colors=c).show()\n",
    "\n",
    "print(ds[idx].model_jets.pt)"
   ],
   "id": "349e83cf3a97bbd6",
   "outputs": [
    {
     "name": "stdout",
     "output_type": "stream",
     "text": [
      "tensor([427.9641, 391.8387])\n"
     ]
    },
    {
     "data": {
      "text/plain": [
       "<Figure size 500x500 with 1 Axes>"
      ],
      "image/png": "[encoded data removed]"
     },
     "metadata": {},
     "output_type": "display_data"
    }
   ],
   "execution_count": 8
  },
  {
   "metadata": {},
   "cell_type": "code",
   "outputs": [],
   "execution_count": null,
   "source": "",
   "id": "4a2509d55bd64836"
  },
  {
   "metadata": {
    "ExecuteTime": {
     "end_time": "2025-01-15T13:26:48.252545623Z",
     "start_time": "2025-01-07T15:45:38.549155Z"
    }
   },
   "cell_type": "code",
   "source": [
    "pt_model_jet = []\n",
    "for i in range(200):\n",
    "    pt_model_jet += ds[i].model_jets.pt.tolist()"
   ],
   "id": "831cb3f91dc26650",
   "outputs": [
    {
     "ename": "NameError",
     "evalue": "name 'ds' is not defined",
     "output_type": "error",
     "traceback": [
      "\u001B[0;31m---------------------------------------------------------------------------\u001B[0m",
      "\u001B[0;31mNameError\u001B[0m                                 Traceback (most recent call last)",
      "Cell \u001B[0;32mIn[4], line 3\u001B[0m\n\u001B[1;32m      1\u001B[0m pt_model_jet \u001B[38;5;241m=\u001B[39m []\n\u001B[1;32m      2\u001B[0m \u001B[38;5;28;01mfor\u001B[39;00m i \u001B[38;5;129;01min\u001B[39;00m \u001B[38;5;28mrange\u001B[39m(\u001B[38;5;241m200\u001B[39m):\n\u001B[0;32m----> 3\u001B[0m     pt_model_jet \u001B[38;5;241m+\u001B[39m\u001B[38;5;241m=\u001B[39m \u001B[43mds\u001B[49m[i]\u001B[38;5;241m.\u001B[39mmodel_jets\u001B[38;5;241m.\u001B[39mpt\u001B[38;5;241m.\u001B[39mtolist()\n",
      "\u001B[0;31mNameError\u001B[0m: name 'ds' is not defined"
     ]
    }
   ],
   "execution_count": 4
  },
  {
   "metadata": {
    "ExecuteTime": {
     "end_time": "2025-01-15T13:26:48.253846859Z",
     "start_time": "2025-01-07T15:45:47.111072Z"
    }
   },
   "cell_type": "code",
   "source": [
    "fig, ax = plt.subplots()\n",
    "ax.hist(pt_model_jet, bins=np.linspace(0, 300, 30))\n",
    "fig.show()"
   ],
   "id": "ac8f0f719e587403",
   "outputs": [
    {
     "data": {
      "text/plain": [
       "<Figure size 640x480 with 1 Axes>"
      ],
      "image/png": "[encoded data removed]"
     },
     "metadata": {},
     "output_type": "display_data"
    }
   ],
   "execution_count": 6
  },
  {
   "metadata": {
    "ExecuteTime": {
     "end_time": "2025-01-15T13:26:48.255093897Z",
     "start_time": "2025-01-15T10:16:58.042882Z"
    }
   },
   "cell_type": "code",
   "source": [
    "v1 = np.array([1, 2, 2, 2])\n",
    "v2 = np.array([3, 3, 2, 1])\n",
    "from scipy.spatial.distance import minkowski"
   ],
   "id": "d4a0921e620054b5",
   "outputs": [],
   "execution_count": 25
  },
  {
   "metadata": {
    "ExecuteTime": {
     "end_time": "2025-01-15T13:26:48.256269976Z",
     "start_time": "2025-01-15T10:16:59.189155Z"
    }
   },
   "cell_type": "code",
   "source": "minkowski(v1, v2, 2)",
   "id": "f8dd3da5642a12bd",
   "outputs": [
    {
     "data": {
      "text/plain": [
       "2.449489742783178"
      ]
     },
     "execution_count": 26,
     "metadata": {},
     "output_type": "execute_result"
    }
   ],
   "execution_count": 26
  },
  {
   "metadata": {
    "ExecuteTime": {
     "end_time": "2025-01-15T13:26:48.257490963Z",
     "start_time": "2025-01-15T10:17:12.055427Z"
    }
   },
   "cell_type": "code",
   "source": "diff = v2-v1",
   "id": "b6a8812cb07ba219",
   "outputs": [],
   "execution_count": 27
  },
  {
   "metadata": {
    "ExecuteTime": {
     "end_time": "2025-01-20T15:16:23.853431Z",
     "start_time": "2025-01-20T15:16:23.118842Z"
    }
   },
   "cell_type": "code",
   "source": [
    "filename = get_path(\"/work/gkrzmanc/jetclustering/results/train/Eval_LGATr_no_coords_loss_1_2025_01_18_15_21_00/eval_3.pkl\", \"results\")\n",
    "# for rinv=0.7, see /work/gkrzmanc/jetclustering/results/train/Test_betaPt_BC_rinv07_2025_01_03_15_38_58\n",
    "\n",
    "result = CPU_Unpickler(open(filename, \"rb\")).load()\n",
    "dataset = EventDataset.from_directory(result[\"filename\"], mmap=True)\n"
   ],
   "id": "78667573e6fbbb9e",
   "outputs": [
    {
     "name": "stderr",
     "output_type": "stream",
     "text": [
      "/work/gkrzmanc/jetclustering/code/src/utils/utils.py:91: FutureWarning:\n",
      "\n",
      "You are using `torch.load` with `weights_only=False` (the current default value), which uses the default pickle module implicitly. It is possible to construct malicious pickle data which will execute arbitrary code during unpickling (See https://github.com/pytorch/pytorch/blob/main/SECURITY.md#untrusted-models for more details). In a future release, the default value for `weights_only` will be flipped to `True`. This limits the functions that could be executed during unpickling. Arbitrary objects will no longer be allowed to be loaded via this mode unless they are explicitly allowlisted by the user via `torch.serialization.add_safe_globals`. We recommend you start setting `weights_only=True` for any use case where you don't have full control of the loaded file. Please open an issue on GitHub for any issues related to this experimental feature.\n",
      "\n"
     ]
    }
   ],
   "execution_count": 34
  },
  {
   "metadata": {
    "ExecuteTime": {
     "end_time": "2025-01-20T15:17:12.581333Z",
     "start_time": "2025-01-20T15:17:12.483045Z"
    }
   },
   "cell_type": "code",
   "source": [
    "# plotly 3d plot of result[\"pred\"], colored by result[\"GT_cluster\"]\n",
    "from src.plotting.plot_coordinates import plot_coordinates\n",
    "filt = result[\"event_idx\"] == 6\n",
    "# normalized coordinates\n",
    "norm_coords = result[\"pred\"][filt, 1:4] #/ np.linalg.norm(result[\"pred\"][filt, 1:4] , axis=1 ,keepdims=1)\n",
    "plot_coordinates(norm_coords, torch.tensor(result[\"pt\"][filt]), torch.tensor(result[\"GT_cluster\"][filt])).show()\n"
   ],
   "id": "6aa3604655d72882",
   "outputs": [
    {
     "name": "stdout",
     "output_type": "stream",
     "text": [
      "[('X', (220, 1)), ('Y', (220, 1)), ('Z', (220, 1)), ('tIdx', (220, 1)), ('pt', (220, 1))]\n"
     ]
    },
    {
     "name": "stderr",
     "output_type": "stream",
     "text": [
      "/tmp/ipykernel_48257/4193388651.py:6: UserWarning:\n",
      "\n",
      "To copy construct from a tensor, it is recommended to use sourceTensor.clone().detach() or sourceTensor.clone().detach().requires_grad_(True), rather than torch.tensor(sourceTensor).\n",
      "\n"
     ]
    },
    {
     "data": {
      "application/vnd.plotly.v1+json": {
       "data": [
        {
         "hovertemplate": "X=%{x}<br>Y=%{y}<br>Z=%{z}<br>pt=%{marker.size}<br>tIdx=%{marker.color}<extra></extra>",
         "legendgroup": "",
         "marker": {
          "color": [
           1.0,
           -1.0,
           1.0,
           1.0,
           -1.0,
           1.0,
           1.0,
           1.0,
           0.0,
           1.0,
           -1.0,
           -1.0,
           1.0,
           0.0,
           -1.0,
           1.0,
           -1.0,
           1.0,
           0.0,
           -1.0,
           -1.0,
           -1.0,
           -1.0,
           1.0,
           -1.0,
           -1.0,
           -1.0,
           0.0,
           -1.0,
           -1.0,
           0.0,
           1.0,
           0.0,
           0.0,
           -1.0,
           -1.0,
           -1.0,
           0.0,
           0.0,
           -1.0,
           -1.0,
           -1.0,
           0.0,
           0.0,
           0.0,
           -1.0,
           -1.0,
           -1.0,
           0.0,
           -1.0,
           0.0,
           1.0,
           0.0,
           -1.0,
           1.0,
           0.0,
           -1.0,
           -1.0,
           0.0,
           1.0,
           -1.0,
           -1.0,
           -1.0,
           -1.0,
           0.0,
           -1.0,
           -1.0,
           -1.0,
           -1.0,
           -1.0,
           -1.0,
           -1.0,
           0.0,
           -1.0,
           -1.0,
           -1.0,
           -1.0,
           -1.0,
           -1.0,
           -1.0,
           1.0,
           -1.0,
           -1.0,
           -1.0,
           -1.0,
           0.0,
           -1.0,
           -1.0,
           -1.0,
           -1.0,
           0.0,
           0.0,
           -1.0,
           -1.0,
           -1.0,
           -1.0,
           -1.0,
           -1.0,
           -1.0,
           -1.0,
           -1.0,
           0.0,
           -1.0,
           -1.0,
           -1.0,
           -1.0,
           -1.0,
           -1.0,
           0.0,
           -1.0,
           0.0,
           -1.0,
           -1.0,
           -1.0,
           0.0,
           1.0,
           0.0,
           -1.0,
           -1.0,
           0.0,
           -1.0,
           -1.0,
           1.0,
           -1.0,
           -1.0,
           -1.0,
           -1.0,
           -1.0,
           -1.0,
           -1.0,
           -1.0,
           0.0,
           -1.0,
           1.0,
           -1.0,
           -1.0,
           0.0,
           1.0,
           -1.0,
           -1.0,
           -1.0,
           -1.0,
           -1.0,
           0.0,
           -1.0,
           -1.0,
           1.0,
           -1.0,
           0.0,
           0.0,
           -1.0,
           -1.0,
           -1.0,
           -1.0,
           0.0,
           0.0,
           -1.0,
           -1.0,
           -1.0,
           -1.0,
           -1.0,
           -1.0,
           0.0,
           -1.0,
           -1.0,
           -1.0,
           0.0,
           -1.0,
           -1.0,
           -1.0,
           -1.0,
           -1.0,
           -1.0,
           -1.0,
           -1.0,
           -1.0,
           -1.0,
           1.0,
           -1.0,
           -1.0,
           -1.0,
           -1.0,
           -1.0,
           -1.0,
           -1.0,
           1.0,
           -1.0,
           -1.0,
           -1.0,
           0.0,
           0.0,
           -1.0,
           1.0,
           -1.0,
           0.0,
           1.0,
           -1.0,
           -1.0,
           -1.0,
           -1.0,
           1.0,
           0.0,
           -1.0,
           -1.0,
           -1.0,
           -1.0,
           -1.0,
           -1.0,
           -1.0,
           -1.0,
           -1.0,
           -1.0,
           0.0,
           -1.0,
           -1.0,
           -1.0,
           -1.0,
           -1.0,
           -1.0,
           0.0
          ],
          "coloraxis": "coloraxis",
          "size": [
           159.5,
           34.96875,
           18.359375,
           17.578125,
           13.1640625,
           12.6796875,
           9.21875,
           8.484375,
           8.234375,
           7.23046875,
           7.06640625,
           6.51171875,
           5.50390625,
           5.36328125,
           5.26171875,
           4.3125,
           4.0234375,
           3.994140625,
           3.884765625,
           3.669921875,
           3.5,
           3.44921875,
           3.431640625,
           3.40625,
           3.228515625,
           3.0859375,
           3.03515625,
           2.84765625,
           2.72265625,
           2.70703125,
           2.6484375,
           2.630859375,
           2.603515625,
           2.515625,
           2.478515625,
           2.4375,
           2.353515625,
           2.30078125,
           2.30078125,
           2.232421875,
           2.203125,
           2.1953125,
           2.1640625,
           2.154296875,
           2.09375,
           2.068359375,
           2.068359375,
           2.046875,
           2.041015625,
           2.017578125,
           1.9921875,
           1.9560546875,
           1.953125,
           1.9296875,
           1.8818359375,
           1.8291015625,
           1.7568359375,
           1.7373046875,
           1.7119140625,
           1.70703125,
           1.7001953125,
           1.6611328125,
           1.6611328125,
           1.634765625,
           1.6328125,
           1.6318359375,
           1.6279296875,
           1.615234375,
           1.58984375,
           1.53125,
           1.52734375,
           1.509765625,
           1.50390625,
           1.494140625,
           1.490234375,
           1.486328125,
           1.466796875,
           1.45703125,
           1.4267578125,
           1.3740234375,
           1.359375,
           1.34375,
           1.3388671875,
           1.3330078125,
           1.3154296875,
           1.30859375,
           1.27734375,
           1.275390625,
           1.271484375,
           1.2568359375,
           1.2314453125,
           1.23046875,
           1.2216796875,
           1.220703125,
           1.21875,
           1.2119140625,
           1.19921875,
           1.1826171875,
           1.1806640625,
           1.1796875,
           1.177734375,
           1.1748046875,
           1.1552734375,
           1.15234375,
           1.14453125,
           1.0859375,
           1.0810546875,
           1.0810546875,
           1.080078125,
           1.072265625,
           1.0703125,
           1.0615234375,
           1.05859375,
           1.05859375,
           1.0556640625,
           1.0478515625,
           1.0458984375,
           1.0419921875,
           1.0390625,
           1.0390625,
           1.033203125,
           1.0302734375,
           1.0234375,
           1.0107421875,
           1.009765625,
           0.99072265625,
           0.9892578125,
           0.98193359375,
           0.9814453125,
           0.97705078125,
           0.96533203125,
           0.96240234375,
           0.9609375,
           0.95703125,
           0.95263671875,
           0.9482421875,
           0.9453125,
           0.93798828125,
           0.9296875,
           0.9169921875,
           0.9072265625,
           0.8955078125,
           0.89306640625,
           0.890625,
           0.880859375,
           0.87841796875,
           0.87744140625,
           0.87646484375,
           0.875,
           0.86962890625,
           0.857421875,
           0.8564453125,
           0.8564453125,
           0.8544921875,
           0.8525390625,
           0.8486328125,
           0.841796875,
           0.8232421875,
           0.81591796875,
           0.80419921875,
           0.80322265625,
           0.80224609375,
           0.798828125,
           0.78173828125,
           0.7763671875,
           0.77587890625,
           0.77587890625,
           0.76953125,
           0.76171875,
           0.76025390625,
           0.75830078125,
           0.75732421875,
           0.7509765625,
           0.74267578125,
           0.73779296875,
           0.73681640625,
           0.736328125,
           0.7333984375,
           0.720703125,
           0.71435546875,
           0.7138671875,
           0.71142578125,
           0.7099609375,
           0.703125,
           0.701171875,
           0.6953125,
           0.69091796875,
           0.68896484375,
           0.68505859375,
           0.6845703125,
           0.6826171875,
           0.681640625,
           0.669921875,
           0.65380859375,
           0.6533203125,
           0.6513671875,
           0.64892578125,
           0.64794921875,
           0.64794921875,
           0.6474609375,
           0.64697265625,
           0.64501953125,
           0.640625,
           0.63916015625,
           0.63818359375,
           0.634765625,
           0.6337890625,
           0.63037109375,
           0.6279296875,
           0.6259765625,
           0.6240234375,
           0.62158203125,
           0.62060546875,
           0.61865234375,
           0.615234375,
           0.61376953125,
           0.61083984375,
           0.6103515625,
           0.6083984375,
           0.6005859375
          ],
          "sizemode": "area",
          "sizeref": 0.39875,
          "symbol": "circle",
          "line": {
           "width": 0
          }
         },
         "mode": "markers",
         "name": "",
         "scene": "scene",
         "showlegend": false,
         "x": [
          -1.145566463470459,
          -9.17282772064209,
          -0.1544457972049713,
          -0.03206736594438553,
          -3.191534996032715,
          0.06160777062177658,
          -0.01849440112709999,
          -0.07442258298397064,
          0.24249786138534546,
          0.07763376832008362,
          -1.5661542415618896,
          1.5138580799102783,
          -0.035179972648620605,
          0.1322631537914276,
          -0.1867426335811615,
          -0.02442461997270584,
          -0.8579702377319336,
          -0.025149542838335037,
          0.063359335064888,
          -0.7400716543197632,
          -0.7001846432685852,
          -0.08937383443117142,
          -0.06883974373340607,
          -0.020012114197015762,
          -0.27416834235191345,
          -0.6095934510231018,
          -0.28896665573120117,
          0.12173996865749359,
          0.2396065890789032,
          -0.04889238625764847,
          0.005061838775873184,
          -0.008135572075843811,
          0.022905105724930763,
          9.161531925201416E-4,
          -0.07336436957120895,
          0.2475009709596634,
          -0.1814754605293274,
          -0.003176070749759674,
          -0.00991784781217575,
          -0.32287126779556274,
          -0.40930619835853577,
          -0.028525158762931824,
          -0.15037879347801208,
          0.06300292909145355,
          -0.01658960059285164,
          -0.3570789098739624,
          0.12885531783103943,
          -0.025219034403562546,
          -0.0712917149066925,
          -0.2646598219871521,
          -0.019399385899305344,
          -0.04249408096075058,
          0.08223821967840195,
          -0.13200430572032928,
          0.0119771808385849,
          0.0034895408898591995,
          -0.17140574753284454,
          0.08772282302379608,
          0.2343517541885376,
          0.010836375877261162,
          -0.10224762558937073,
          0.3142911195755005,
          -0.11850552260875702,
          -0.1623058021068573,
          -0.020945997908711433,
          -0.22512201964855194,
          -0.14978303015232086,
          0.06669245660305023,
          -0.05465732514858246,
          -0.0025866772048175335,
          -0.10953883826732635,
          0.081199511885643,
          0.04832106828689575,
          0.17550113797187805,
          -0.033505283296108246,
          -0.02620818093419075,
          0.09938223659992218,
          -0.022636981680989265,
          0.02242308109998703,
          -0.04074521362781525,
          -0.038519810885190964,
          0.09729605913162231,
          0.27140069007873535,
          -0.05003005266189575,
          0.019344374537467957,
          0.023949138820171356,
          -0.3510080575942993,
          -0.32405441999435425,
          0.10039915889501572,
          0.005976450629532337,
          -0.03436433896422386,
          -0.04855574667453766,
          0.06749404221773148,
          0.03396110236644745,
          -0.09369347244501114,
          0.19181981682777405,
          -0.09510169178247452,
          -0.02858716994524002,
          -0.11648781597614288,
          -0.16982495784759521,
          0.040474750101566315,
          0.07641766965389252,
          -0.015696704387664795,
          -0.011957932263612747,
          -0.06439025700092316,
          0.024435995146632195,
          -0.07680678367614746,
          -0.017858952283859253,
          -0.07167769968509674,
          -0.04418134689331055,
          0.042628247290849686,
          0.2034423053264618,
          -0.13793742656707764,
          -0.08002099394798279,
          0.04729217663407326,
          0.017960436642169952,
          -0.004174098372459412,
          -0.13969486951828003,
          -0.005818609148263931,
          0.03536226600408554,
          -0.0970236212015152,
          0.020566988736391068,
          0.04585854709148407,
          -0.06659353524446487,
          0.03408137708902359,
          -0.017989875748753548,
          -0.011268973350524902,
          -0.02298586070537567,
          -0.07207773625850677,
          0.05488932877779007,
          -0.0428549163043499,
          0.03718726709485054,
          0.10386288166046143,
          0.06478244811296463,
          -0.049350474029779434,
          -0.019686680287122726,
          0.19794988632202148,
          0.018894720822572708,
          -0.09328575432300568,
          0.0048791877925395966,
          -0.03858213499188423,
          -0.00832878053188324,
          -0.12840212881565094,
          0.0185209009796381,
          -0.03766559064388275,
          0.06204339861869812,
          0.0036713965237140656,
          -0.038168057799339294,
          -0.01399959996342659,
          -0.03032180666923523,
          -0.05279902368783951,
          -0.193888321518898,
          -0.024778110906481743,
          0.06445755809545517,
          -0.05161897465586662,
          0.20709624886512756,
          -0.045680999755859375,
          -0.005126815289258957,
          0.08210811764001846,
          -0.034338898956775665,
          0.1000724583864212,
          0.030750565230846405,
          -0.04400577023625374,
          3.6394596099853516E-4,
          -0.03562963008880615,
          0.02300225757062435,
          -0.044625021517276764,
          -0.021673329174518585,
          0.11569524556398392,
          -0.20308828353881836,
          0.055647291243076324,
          0.3032436966896057,
          -0.04011087119579315,
          -0.0401085764169693,
          0.005297832190990448,
          -0.02433885633945465,
          -0.005357099696993828,
          0.04145478457212448,
          -0.03483331948518753,
          -0.041098516434431076,
          0.0356760211288929,
          -0.051088348031044006,
          -0.028475917875766754,
          0.05039922893047333,
          0.025925859808921814,
          0.04737988859415054,
          -0.038079798221588135,
          -0.029578804969787598,
          0.008485380560159683,
          -0.035919830203056335,
          -0.035210806876420975,
          0.06112639605998993,
          0.04192691296339035,
          0.03462737798690796,
          -0.05213895067572594,
          0.05020655691623688,
          0.24719490110874176,
          -0.017039692029356956,
          0.03670356422662735,
          0.0507826954126358,
          0.05267968028783798,
          -0.016750125214457512,
          -0.027282752096652985,
          -0.09137330949306488,
          0.009974021464586258,
          0.0011080056428909302,
          -0.24741512537002563,
          -0.19731612503528595,
          -0.10197511315345764,
          0.0069472286850214005,
          -0.019670281559228897,
          0.023070931434631348,
          0.13288620114326477,
          0.0026833489537239075,
          0.2681457996368408,
          0.005945507436990738,
          -0.03972424566745758,
          0.026485387235879898,
          -0.14425107836723328,
          -0.05073212832212448
         ],
         "y": [
          44.173152923583984,
          1.6763535737991333,
          4.1546735763549805,
          3.946983814239502,
          0.5121366381645203,
          2.6225204467773438,
          1.708194375038147,
          1.3190487623214722,
          -1.238325834274292,
          1.0367403030395508,
          0.294779896736145,
          -0.017687246203422546,
          0.7392834424972534,
          -0.5043148398399353,
          1.192878246307373,
          0.23018452525138855,
          -0.0937630757689476,
          0.48921263217926025,
          -0.46524572372436523,
          0.13460345566272736,
          0.1290343701839447,
          -0.42159968614578247,
          -0.45335856080055237,
          0.17320093512535095,
          -0.27014854550361633,
          0.09480801224708557,
          0.1138511598110199,
          -0.38489222526550293,
          0.5089240074157715,
          -0.25325095653533936,
          0.09113259613513947,
          -0.08011235296726227,
          -0.15904337167739868,
          0.10945360362529755,
          -0.3611851930618286,
          -0.25554078817367554,
          0.1422576755285263,
          0.10234372317790985,
          0.11978735029697418,
          -0.32110679149627686,
          -0.001106449868530035,
          -0.11664755642414093,
          -0.35202375054359436,
          -0.36483922600746155,
          0.1255616694688797,
          0.1251968890428543,
          -0.3809102177619934,
          0.360446035861969,
          0.09347914159297943,
          -0.00944456085562706,
          0.13234074413776398,
          0.38413938879966736,
          -0.08355319499969482,
          -0.07494863122701645,
          -0.1270984411239624,
          0.12046545743942261,
          0.031215636059641838,
          0.283917635679245,
          -0.22621837258338928,
          -0.10765474289655685,
          -0.05018395930528641,
          0.007415375206619501,
          0.06429027765989304,
          0.15102256834506989,
          0.12829619646072388,
          -0.020383695140480995,
          -0.036758534610271454,
          -0.11159849166870117,
          -0.08789849281311035,
          0.12911255657672882,
          0.01573832333087921,
          -0.18406793475151062,
          -0.3661337196826935,
          0.20229937136173248,
          0.04454140365123749,
          -0.07747909426689148,
          0.03407933562994003,
          0.2451433390378952,
          -0.05064184218645096,
          -0.02676915004849434,
          0.3562154471874237,
          0.03936778008937836,
          -0.17530842125415802,
          -0.07972632348537445,
          0.0026791393756866455,
          -0.040674030780792236,
          0.06923139095306396,
          -0.1464168280363083,
          -0.1968105435371399,
          -0.12205876410007477,
          0.09740330278873444,
          -0.3500618636608124,
          0.06116318702697754,
          0.025653913617134094,
          0.026904746890068054,
          0.07573847472667694,
          -0.012444796040654182,
          0.011047989130020142,
          -0.0967923030257225,
          0.019441261887550354,
          0.10574030876159668,
          -0.34123894572257996,
          0.035743433982133865,
          -0.09674933552742004,
          -0.25610029697418213,
          0.14810211956501007,
          -0.14422498643398285,
          0.043499890714883804,
          0.04519820213317871,
          -0.06807196140289307,
          0.0236203670501709,
          -0.10907566547393799,
          0.034706130623817444,
          0.07019686698913574,
          -0.32806044816970825,
          -0.07895952463150024,
          0.08137988299131393,
          -0.033785149455070496,
          0.047107137739658356,
          0.024663634598255157,
          -0.10297558456659317,
          0.09862454235553741,
          0.3467845022678375,
          0.018742557615041733,
          -0.1172918975353241,
          0.1425522416830063,
          0.02333802729845047,
          -0.0657871887087822,
          0.005717810243368149,
          0.005799718201160431,
          0.12678202986717224,
          0.02564946562051773,
          -0.11743289232254028,
          -0.034194327890872955,
          -0.29518425464630127,
          0.053442761301994324,
          -0.25245940685272217,
          -0.06523191183805466,
          -0.07299986481666565,
          -0.06006929278373718,
          -0.013551868498325348,
          -0.001416967250406742,
          -0.0068840887397527695,
          -0.3139260709285736,
          0.02586068958044052,
          -0.018316034227609634,
          -0.058623477816581726,
          -0.003457404673099518,
          0.05847764015197754,
          0.05201653391122818,
          -0.007582411170005798,
          -0.24342606961727142,
          -0.09110108017921448,
          0.028537066653370857,
          -0.004813693463802338,
          -0.26205044984817505,
          0.02813364565372467,
          -0.023644335567951202,
          0.05865045636892319,
          -0.10463105142116547,
          0.2058057188987732,
          0.01688055321574211,
          0.018313296139240265,
          0.008065491914749146,
          0.035032302141189575,
          -0.06539855152368546,
          0.0025829486548900604,
          0.04494538530707359,
          0.16758787631988525,
          -0.2539977729320526,
          0.01861993782222271,
          -0.1306481808423996,
          0.0950707197189331,
          -0.013152604922652245,
          0.009537570178508759,
          0.035489656031131744,
          0.047833822667598724,
          -0.016572464257478714,
          -0.12069139629602432,
          0.002328811213374138,
          0.04854089766740799,
          -0.0185052789747715,
          0.050754763185977936,
          0.003845077008008957,
          0.0062447600066661835,
          0.022916674613952637,
          0.0360400564968586,
          -0.006708836182951927,
          0.0402669794857502,
          0.010295823216438293,
          -0.006546054035425186,
          0.0025092000141739845,
          -0.009739726781845093,
          0.05359366536140442,
          -0.01901191473007202,
          0.013321876525878906,
          -0.020110517740249634,
          -0.047452546656131744,
          -0.02735402062535286,
          -0.014164309948682785,
          0.03844656050205231,
          -0.05418328195810318,
          0.013757157139480114,
          -0.0227963849902153,
          0.0451679565012455,
          -0.023626532405614853,
          0.0317029170691967,
          0.12410106509923935,
          -0.023852989077568054,
          0.04490052908658981,
          -0.011871240101754665,
          -0.015537332743406296,
          -0.27054253220558167,
          0.018203571438789368,
          0.028964772820472717,
          -0.003254372626543045,
          -0.007085427641868591,
          0.021512102335691452,
          0.10553969442844391,
          -0.039854712784290314
         ],
         "z": [
          16.934005737304688,
          29.324642181396484,
          1.6329689025878906,
          1.6461281776428223,
          10.245269775390625,
          1.2487258911132812,
          0.8600143194198608,
          0.1211313009262085,
          -0.272579550743103,
          0.5000199675559998,
          4.913707733154297,
          -6.6543073654174805,
          0.11539880931377411,
          0.2234395146369934,
          -5.956740379333496,
          0.059739142656326294,
          -3.623108148574829,
          0.1335909068584442,
          0.06866855174303055,
          2.4196970462799072,
          2.293219566345215,
          0.19950802624225616,
          -0.48167550563812256,
          0.04972586780786514,
          -0.6224935054779053,
          2.0360488891601562,
          -0.4550785422325134,
          -0.08775391429662704,
          -2.623530864715576,
          0.3929612934589386,
          0.018656756728887558,
          -0.01752334088087082,
          -0.173678457736969,
          0.007063612341880798,
          0.20077374577522278,
          0.2358059287071228,
          0.3935275375843048,
          -0.03093075007200241,
          0.02484121173620224,
          2.4783079624176025,
          1.3881701231002808,
          0.09915456175804138,
          -0.10656123608350754,
          0.16426044702529907,
          -0.016387131065130234,
          -1.4773920774459839,
          -1.7871227264404297,
          -1.287170648574829,
          -0.031902015209198,
          -0.6962382197380066,
          0.011911185458302498,
          0.07231125235557556,
          0.07150933146476746,
          0.2512466609477997,
          -0.013713855296373367,
          -0.03628021478652954,
          -0.4510926306247711,
          1.140985369682312,
          -0.21302542090415955,
          -0.045295774936676025,
          0.15639646351337433,
          1.59432053565979,
          0.3248116075992584,
          -0.35758256912231445,
          0.01771138608455658,
          0.7627900838851929,
          0.34328493475914,
          0.23892438411712646,
          -0.12342536449432373,
          -0.32775118947029114,
          -0.18251806497573853,
          -0.49373385310173035,
          0.0559140108525753,
          1.260310173034668,
          0.07653127610683441,
          0.20805004239082336,
          0.1421893984079361,
          -1.067915678024292,
          0.081154465675354,
          -0.009983764961361885,
          0.09843280911445618,
          -0.17755001783370972,
          -0.1929617077112198,
          0.14817342162132263,
          -0.008570626378059387,
          -0.026238270103931427,
          0.06148534640669823,
          -0.06926185637712479,
          1.212209701538086,
          -0.33802565932273865,
          0.017878059297800064,
          -0.07358194887638092,
          -0.053463131189346313,
          0.009474970400333405,
          -0.037121593952178955,
          1.0548614263534546,
          0.040771063417196274,
          -0.018346257507801056,
          0.6529847979545593,
          0.7484455108642578,
          -0.27240321040153503,
          -0.08486877381801605,
          -0.017236441373825073,
          0.22752264142036438,
          0.30352622270584106,
          0.4987502992153168,
          0.8795862197875977,
          -0.01854146644473076,
          0.033648550510406494,
          0.047080617398023605,
          -0.02453210949897766,
          -0.30032992362976074,
          0.4527944326400757,
          -0.30011552572250366,
          -0.15293514728546143,
          -0.028545424342155457,
          0.06060219928622246,
          0.41089436411857605,
          -0.059685081243515015,
          -0.026073642075061798,
          0.4119086265563965,
          -0.2562134265899658,
          -0.0075821056962013245,
          -0.051130786538124084,
          0.4985712468624115,
          0.6703544855117798,
          0.004010587930679321,
          -0.011701047420501709,
          -0.043777741491794586,
          -0.033738747239112854,
          0.5023496150970459,
          0.004548918455839157,
          0.38430488109588623,
          -0.03894048184156418,
          0.23705267906188965,
          0.09033466875553131,
          0.1728883981704712,
          -0.03455973416566849,
          -0.6334809064865112,
          0.07378696650266647,
          0.011462215334177017,
          0.0403888076543808,
          0.4139549732208252,
          0.18187186121940613,
          -0.14739340543746948,
          -0.03550306707620621,
          -0.041997626423835754,
          -0.03709228336811066,
          0.011460080742835999,
          0.04897792637348175,
          -0.022002261132001877,
          -0.2015048861503601,
          -0.383110374212265,
          -0.1608130931854248,
          -0.012913325801491737,
          0.06318163871765137,
          0.06815429031848907,
          -0.021079346537590027,
          -0.4206259548664093,
          -0.37488484382629395,
          0.3491401970386505,
          -0.027882635593414307,
          0.0023272372782230377,
          0.03868488967418671,
          -0.02854609489440918,
          -0.2040747106075287,
          -0.02022966369986534,
          -0.055367521941661835,
          0.3735021948814392,
          -0.10776666551828384,
          -0.23825973272323608,
          -0.05463423579931259,
          0.5472646951675415,
          -0.022801809012889862,
          0.019406557083129883,
          0.05731916427612305,
          -0.031002052128314972,
          -0.01629875972867012,
          0.41086870431900024,
          -0.027547195553779602,
          0.034790970385074615,
          0.1792594939470291,
          0.17878663539886475,
          0.04149293899536133,
          0.06571963429450989,
          -0.016515761613845825,
          -0.0277192872017622,
          0.16277435421943665,
          0.020906049758195877,
          -0.008417649194598198,
          -0.0053132157772779465,
          0.209367036819458,
          -0.008367877453565598,
          -0.20157325267791748,
          -0.025798825547099113,
          -0.007884498685598373,
          0.2972039580345154,
          -0.16270066797733307,
          -0.033034004271030426,
          0.18459807336330414,
          -0.030292581766843796,
          -0.023575162515044212,
          -0.045117005705833435,
          0.4390559792518616,
          -0.029419880360364914,
          0.05676189064979553,
          -0.3105788826942444,
          -0.3331488370895386,
          -0.3605833649635315,
          0.05214318633079529,
          0.053797200322151184,
          -0.11211633682250977,
          -0.12172768265008926,
          0.04860451817512512,
          0.21482759714126587,
          0.001030251383781433,
          -0.0679427981376648,
          -0.016557499766349792,
          0.3949545621871948,
          -0.019975917413830757
         ],
         "type": "scatter3d"
        }
       ],
       "layout": {
        "template": {
         "data": {
          "barpolar": [
           {
            "marker": {
             "line": {
              "color": "rgb(17,17,17)",
              "width": 0.5
             },
             "pattern": {
              "fillmode": "overlay",
              "size": 10,
              "solidity": 0.2
             }
            },
            "type": "barpolar"
           }
          ],
          "bar": [
           {
            "error_x": {
             "color": "#f2f5fa"
            },
            "error_y": {
             "color": "#f2f5fa"
            },
            "marker": {
             "line": {
              "color": "rgb(17,17,17)",
              "width": 0.5
             },
             "pattern": {
              "fillmode": "overlay",
              "size": 10,
              "solidity": 0.2
             }
            },
            "type": "bar"
           }
          ],
          "carpet": [
           {
            "aaxis": {
             "endlinecolor": "#A2B1C6",
             "gridcolor": "#506784",
             "linecolor": "#506784",
             "minorgridcolor": "#506784",
             "startlinecolor": "#A2B1C6"
            },
            "baxis": {
             "endlinecolor": "#A2B1C6",
             "gridcolor": "#506784",
             "linecolor": "#506784",
             "minorgridcolor": "#506784",
             "startlinecolor": "#A2B1C6"
            },
            "type": "carpet"
           }
          ],
          "choropleth": [
           {
            "colorbar": {
             "outlinewidth": 0,
             "ticks": ""
            },
            "type": "choropleth"
           }
          ],
          "contourcarpet": [
           {
            "colorbar": {
             "outlinewidth": 0,
             "ticks": ""
            },
            "type": "contourcarpet"
           }
          ],
          "contour": [
           {
            "colorbar": {
             "outlinewidth": 0,
             "ticks": ""
            },
            "colorscale": [
             [
              0.0,
              "#0d0887"
             ],
             [
              0.1111111111111111,
              "#46039f"
             ],
             [
              0.2222222222222222,
              "#7201a8"
             ],
             [
              0.3333333333333333,
              "#9c179e"
             ],
             [
              0.4444444444444444,
              "#bd3786"
             ],
             [
              0.5555555555555556,
              "#d8576b"
             ],
             [
              0.6666666666666666,
              "#ed7953"
             ],
             [
              0.7777777777777778,
              "#fb9f3a"
             ],
             [
              0.8888888888888888,
              "#fdca26"
             ],
             [
              1.0,
              "#f0f921"
             ]
            ],
            "type": "contour"
           }
          ],
          "heatmapgl": [
           {
            "colorbar": {
             "outlinewidth": 0,
             "ticks": ""
            },
            "colorscale": [
             [
              0.0,
              "#0d0887"
             ],
             [
              0.1111111111111111,
              "#46039f"
             ],
             [
              0.2222222222222222,
              "#7201a8"
             ],
             [
              0.3333333333333333,
              "#9c179e"
             ],
             [
              0.4444444444444444,
              "#bd3786"
             ],
             [
              0.5555555555555556,
              "#d8576b"
             ],
             [
              0.6666666666666666,
              "#ed7953"
             ],
             [
              0.7777777777777778,
              "#fb9f3a"
             ],
             [
              0.8888888888888888,
              "#fdca26"
             ],
             [
              1.0,
              "#f0f921"
             ]
            ],
            "type": "heatmapgl"
           }
          ],
          "heatmap": [
           {
            "colorbar": {
             "outlinewidth": 0,
             "ticks": ""
            },
            "colorscale": [
             [
              0.0,
              "#0d0887"
             ],
             [
              0.1111111111111111,
              "#46039f"
             ],
             [
              0.2222222222222222,
              "#7201a8"
             ],
             [
              0.3333333333333333,
              "#9c179e"
             ],
             [
              0.4444444444444444,
              "#bd3786"
             ],
             [
              0.5555555555555556,
              "#d8576b"
             ],
             [
              0.6666666666666666,
              "#ed7953"
             ],
             [
              0.7777777777777778,
              "#fb9f3a"
             ],
             [
              0.8888888888888888,
              "#fdca26"
             ],
             [
              1.0,
              "#f0f921"
             ]
            ],
            "type": "heatmap"
           }
          ],
          "histogram2dcontour": [
           {
            "colorbar": {
             "outlinewidth": 0,
             "ticks": ""
            },
            "colorscale": [
             [
              0.0,
              "#0d0887"
             ],
             [
              0.1111111111111111,
              "#46039f"
             ],
             [
              0.2222222222222222,
              "#7201a8"
             ],
             [
              0.3333333333333333,
              "#9c179e"
             ],
             [
              0.4444444444444444,
              "#bd3786"
             ],
             [
              0.5555555555555556,
              "#d8576b"
             ],
             [
              0.6666666666666666,
              "#ed7953"
             ],
             [
              0.7777777777777778,
              "#fb9f3a"
             ],
             [
              0.8888888888888888,
              "#fdca26"
             ],
             [
              1.0,
              "#f0f921"
             ]
            ],
            "type": "histogram2dcontour"
           }
          ],
          "histogram2d": [
           {
            "colorbar": {
             "outlinewidth": 0,
             "ticks": ""
            },
            "colorscale": [
             [
              0.0,
              "#0d0887"
             ],
             [
              0.1111111111111111,
              "#46039f"
             ],
             [
              0.2222222222222222,
              "#7201a8"
             ],
             [
              0.3333333333333333,
              "#9c179e"
             ],
             [
              0.4444444444444444,
              "#bd3786"
             ],
             [
              0.5555555555555556,
              "#d8576b"
             ],
             [
              0.6666666666666666,
              "#ed7953"
             ],
             [
              0.7777777777777778,
              "#fb9f3a"
             ],
             [
              0.8888888888888888,
              "#fdca26"
             ],
             [
              1.0,
              "#f0f921"
             ]
            ],
            "type": "histogram2d"
           }
          ],
          "histogram": [
           {
            "marker": {
             "pattern": {
              "fillmode": "overlay",
              "size": 10,
              "solidity": 0.2
             }
            },
            "type": "histogram"
           }
          ],
          "mesh3d": [
           {
            "colorbar": {
             "outlinewidth": 0,
             "ticks": ""
            },
            "type": "mesh3d"
           }
          ],
          "parcoords": [
           {
            "line": {
             "colorbar": {
              "outlinewidth": 0,
              "ticks": ""
             }
            },
            "type": "parcoords"
           }
          ],
          "pie": [
           {
            "automargin": true,
            "type": "pie"
           }
          ],
          "scatter3d": [
           {
            "line": {
             "colorbar": {
              "outlinewidth": 0,
              "ticks": ""
             }
            },
            "marker": {
             "colorbar": {
              "outlinewidth": 0,
              "ticks": ""
             }
            },
            "type": "scatter3d"
           }
          ],
          "scattercarpet": [
           {
            "marker": {
             "colorbar": {
              "outlinewidth": 0,
              "ticks": ""
             }
            },
            "type": "scattercarpet"
           }
          ],
          "scattergeo": [
           {
            "marker": {
             "colorbar": {
              "outlinewidth": 0,
              "ticks": ""
             }
            },
            "type": "scattergeo"
           }
          ],
          "scattergl": [
           {
            "marker": {
             "line": {
              "color": "#283442"
             }
            },
            "type": "scattergl"
           }
          ],
          "scattermapbox": [
           {
            "marker": {
             "colorbar": {
              "outlinewidth": 0,
              "ticks": ""
             }
            },
            "type": "scattermapbox"
           }
          ],
          "scatterpolargl": [
           {
            "marker": {
             "colorbar": {
              "outlinewidth": 0,
              "ticks": ""
             }
            },
            "type": "scatterpolargl"
           }
          ],
          "scatterpolar": [
           {
            "marker": {
             "colorbar": {
              "outlinewidth": 0,
              "ticks": ""
             }
            },
            "type": "scatterpolar"
           }
          ],
          "scatter": [
           {
            "marker": {
             "line": {
              "color": "#283442"
             }
            },
            "type": "scatter"
           }
          ],
          "scatterternary": [
           {
            "marker": {
             "colorbar": {
              "outlinewidth": 0,
              "ticks": ""
             }
            },
            "type": "scatterternary"
           }
          ],
          "surface": [
           {
            "colorbar": {
             "outlinewidth": 0,
             "ticks": ""
            },
            "colorscale": [
             [
              0.0,
              "#0d0887"
             ],
             [
              0.1111111111111111,
              "#46039f"
             ],
             [
              0.2222222222222222,
              "#7201a8"
             ],
             [
              0.3333333333333333,
              "#9c179e"
             ],
             [
              0.4444444444444444,
              "#bd3786"
             ],
             [
              0.5555555555555556,
              "#d8576b"
             ],
             [
              0.6666666666666666,
              "#ed7953"
             ],
             [
              0.7777777777777778,
              "#fb9f3a"
             ],
             [
              0.8888888888888888,
              "#fdca26"
             ],
             [
              1.0,
              "#f0f921"
             ]
            ],
            "type": "surface"
           }
          ],
          "table": [
           {
            "cells": {
             "fill": {
              "color": "#506784"
             },
             "line": {
              "color": "rgb(17,17,17)"
             }
            },
            "header": {
             "fill": {
              "color": "#2a3f5f"
             },
             "line": {
              "color": "rgb(17,17,17)"
             }
            },
            "type": "table"
           }
          ]
         },
         "layout": {
          "annotationdefaults": {
           "arrowcolor": "#f2f5fa",
           "arrowhead": 0,
           "arrowwidth": 1
          },
          "autotypenumbers": "strict",
          "coloraxis": {
           "colorbar": {
            "outlinewidth": 0,
            "ticks": ""
           }
          },
          "colorscale": {
           "diverging": [
            [
             0,
             "#8e0152"
            ],
            [
             0.1,
             "#c51b7d"
            ],
            [
             0.2,
             "#de77ae"
            ],
            [
             0.3,
             "#f1b6da"
            ],
            [
             0.4,
             "#fde0ef"
            ],
            [
             0.5,
             "#f7f7f7"
            ],
            [
             0.6,
             "#e6f5d0"
            ],
            [
             0.7,
             "#b8e186"
            ],
            [
             0.8,
             "#7fbc41"
            ],
            [
             0.9,
             "#4d9221"
            ],
            [
             1,
             "#276419"
            ]
           ],
           "sequential": [
            [
             0.0,
             "#0d0887"
            ],
            [
             0.1111111111111111,
             "#46039f"
            ],
            [
             0.2222222222222222,
             "#7201a8"
            ],
            [
             0.3333333333333333,
             "#9c179e"
            ],
            [
             0.4444444444444444,
             "#bd3786"
            ],
            [
             0.5555555555555556,
             "#d8576b"
            ],
            [
             0.6666666666666666,
             "#ed7953"
            ],
            [
             0.7777777777777778,
             "#fb9f3a"
            ],
            [
             0.8888888888888888,
             "#fdca26"
            ],
            [
             1.0,
             "#f0f921"
            ]
           ],
           "sequentialminus": [
            [
             0.0,
             "#0d0887"
            ],
            [
             0.1111111111111111,
             "#46039f"
            ],
            [
             0.2222222222222222,
             "#7201a8"
            ],
            [
             0.3333333333333333,
             "#9c179e"
            ],
            [
             0.4444444444444444,
             "#bd3786"
            ],
            [
             0.5555555555555556,
             "#d8576b"
            ],
            [
             0.6666666666666666,
             "#ed7953"
            ],
            [
             0.7777777777777778,
             "#fb9f3a"
            ],
            [
             0.8888888888888888,
             "#fdca26"
            ],
            [
             1.0,
             "#f0f921"
            ]
           ]
          },
          "colorway": [
           "#636efa",
           "#EF553B",
           "#00cc96",
           "#ab63fa",
           "#FFA15A",
           "#19d3f3",
           "#FF6692",
           "#B6E880",
           "#FF97FF",
           "#FECB52"
          ],
          "font": {
           "color": "#f2f5fa"
          },
          "geo": {
           "bgcolor": "rgb(17,17,17)",
           "lakecolor": "rgb(17,17,17)",
           "landcolor": "rgb(17,17,17)",
           "showlakes": true,
           "showland": true,
           "subunitcolor": "#506784"
          },
          "hoverlabel": {
           "align": "left"
          },
          "hovermode": "closest",
          "mapbox": {
           "style": "dark"
          },
          "paper_bgcolor": "rgb(17,17,17)",
          "plot_bgcolor": "rgb(17,17,17)",
          "polar": {
           "angularaxis": {
            "gridcolor": "#506784",
            "linecolor": "#506784",
            "ticks": ""
           },
           "bgcolor": "rgb(17,17,17)",
           "radialaxis": {
            "gridcolor": "#506784",
            "linecolor": "#506784",
            "ticks": ""
           }
          },
          "scene": {
           "xaxis": {
            "backgroundcolor": "rgb(17,17,17)",
            "gridcolor": "#506784",
            "gridwidth": 2,
            "linecolor": "#506784",
            "showbackground": true,
            "ticks": "",
            "zerolinecolor": "#C8D4E3"
           },
           "yaxis": {
            "backgroundcolor": "rgb(17,17,17)",
            "gridcolor": "#506784",
            "gridwidth": 2,
            "linecolor": "#506784",
            "showbackground": true,
            "ticks": "",
            "zerolinecolor": "#C8D4E3"
           },
           "zaxis": {
            "backgroundcolor": "rgb(17,17,17)",
            "gridcolor": "#506784",
            "gridwidth": 2,
            "linecolor": "#506784",
            "showbackground": true,
            "ticks": "",
            "zerolinecolor": "#C8D4E3"
           }
          },
          "shapedefaults": {
           "line": {
            "color": "#f2f5fa"
           }
          },
          "sliderdefaults": {
           "bgcolor": "#C8D4E3",
           "bordercolor": "rgb(17,17,17)",
           "borderwidth": 1,
           "tickwidth": 0
          },
          "ternary": {
           "aaxis": {
            "gridcolor": "#506784",
            "linecolor": "#506784",
            "ticks": ""
           },
           "baxis": {
            "gridcolor": "#506784",
            "linecolor": "#506784",
            "ticks": ""
           },
           "bgcolor": "rgb(17,17,17)",
           "caxis": {
            "gridcolor": "#506784",
            "linecolor": "#506784",
            "ticks": ""
           }
          },
          "title": {
           "x": 0.05
          },
          "updatemenudefaults": {
           "bgcolor": "#506784",
           "borderwidth": 0
          },
          "xaxis": {
           "automargin": true,
           "gridcolor": "#283442",
           "linecolor": "#506784",
           "ticks": "",
           "title": {
            "standoff": 15
           },
           "zerolinecolor": "#283442",
           "zerolinewidth": 2
          },
          "yaxis": {
           "automargin": true,
           "gridcolor": "#283442",
           "linecolor": "#506784",
           "ticks": "",
           "title": {
            "standoff": 15
           },
           "zerolinecolor": "#283442",
           "zerolinewidth": 2
          }
         }
        },
        "scene": {
         "domain": {
          "x": [
           0.0,
           1.0
          ],
          "y": [
           0.0,
           1.0
          ]
         },
         "xaxis": {
          "title": {
           "text": "X"
          }
         },
         "yaxis": {
          "title": {
           "text": "Y"
          }
         },
         "zaxis": {
          "title": {
           "text": "Z"
          }
         }
        },
        "coloraxis": {
         "colorbar": {
          "title": {
           "text": "tIdx"
          }
         },
         "colorscale": [
          [
           0.0,
           "rgb(150,0,90)"
          ],
          [
           0.125,
           "rgb(0,0,200)"
          ],
          [
           0.25,
           "rgb(0,25,255)"
          ],
          [
           0.375,
           "rgb(0,152,255)"
          ],
          [
           0.5,
           "rgb(44,255,150)"
          ],
          [
           0.625,
           "rgb(151,255,0)"
          ],
          [
           0.75,
           "rgb(255,234,0)"
          ],
          [
           0.875,
           "rgb(255,111,0)"
          ],
          [
           1.0,
           "rgb(255,0,0)"
          ]
         ]
        },
        "legend": {
         "tracegroupgap": 0,
         "itemsizing": "constant"
        },
        "margin": {
         "t": 60
        }
       },
       "config": {
        "plotlyServerURL": "https://plot.ly"
       }
      },
      "text/html": [
       "<div>                            <div id=\"986225d6-6b94-43a4-9278-478cc3244377\" class=\"plotly-graph-div\" style=\"height:525px; width:100%;\"></div>            <script type=\"text/javascript\">                require([\"plotly\"], function(Plotly) {                    window.PLOTLYENV=window.PLOTLYENV || {};                                    if (document.getElementById(\"986225d6-6b94-43a4-9278-478cc3244377\")) {                    Plotly.newPlot(                        \"986225d6-6b94-43a4-9278-478cc3244377\",                        [{\"hovertemplate\":\"X=%{x}\\u003cbr\\u003eY=%{y}\\u003cbr\\u003eZ=%{z}\\u003cbr\\u003ept=%{marker.size}\\u003cbr\\u003etIdx=%{marker.color}\\u003cextra\\u003e\\u003c\\u002fextra\\u003e\",\"legendgroup\":\"\",\"marker\":{\"color\":[1.0,-1.0,1.0,1.0,-1.0,1.0,1.0,1.0,0.0,1.0,-1.0,-1.0,1.0,0.0,-1.0,1.0,-1.0,1.0,0.0,-1.0,-1.0,-1.0,-1.0,1.0,-1.0,-1.0,-1.0,0.0,-1.0,-1.0,0.0,1.0,0.0,0.0,-1.0,-1.0,-1.0,0.0,0.0,-1.0,-1.0,-1.0,0.0,0.0,0.0,-1.0,-1.0,-1.0,0.0,-1.0,0.0,1.0,0.0,-1.0,1.0,0.0,-1.0,-1.0,0.0,1.0,-1.0,-1.0,-1.0,-1.0,0.0,-1.0,-1.0,-1.0,-1.0,-1.0,-1.0,-1.0,0.0,-1.0,-1.0,-1.0,-1.0,-1.0,-1.0,-1.0,1.0,-1.0,-1.0,-1.0,-1.0,0.0,-1.0,-1.0,-1.0,-1.0,0.0,0.0,-1.0,-1.0,-1.0,-1.0,-1.0,-1.0,-1.0,-1.0,-1.0,0.0,-1.0,-1.0,-1.0,-1.0,-1.0,-1.0,0.0,-1.0,0.0,-1.0,-1.0,-1.0,0.0,1.0,0.0,-1.0,-1.0,0.0,-1.0,-1.0,1.0,-1.0,-1.0,-1.0,-1.0,-1.0,-1.0,-1.0,-1.0,0.0,-1.0,1.0,-1.0,-1.0,0.0,1.0,-1.0,-1.0,-1.0,-1.0,-1.0,0.0,-1.0,-1.0,1.0,-1.0,0.0,0.0,-1.0,-1.0,-1.0,-1.0,0.0,0.0,-1.0,-1.0,-1.0,-1.0,-1.0,-1.0,0.0,-1.0,-1.0,-1.0,0.0,-1.0,-1.0,-1.0,-1.0,-1.0,-1.0,-1.0,-1.0,-1.0,-1.0,1.0,-1.0,-1.0,-1.0,-1.0,-1.0,-1.0,-1.0,1.0,-1.0,-1.0,-1.0,0.0,0.0,-1.0,1.0,-1.0,0.0,1.0,-1.0,-1.0,-1.0,-1.0,1.0,0.0,-1.0,-1.0,-1.0,-1.0,-1.0,-1.0,-1.0,-1.0,-1.0,-1.0,0.0,-1.0,-1.0,-1.0,-1.0,-1.0,-1.0,0.0],\"coloraxis\":\"coloraxis\",\"size\":[159.5,34.96875,18.359375,17.578125,13.1640625,12.6796875,9.21875,8.484375,8.234375,7.23046875,7.06640625,6.51171875,5.50390625,5.36328125,5.26171875,4.3125,4.0234375,3.994140625,3.884765625,3.669921875,3.5,3.44921875,3.431640625,3.40625,3.228515625,3.0859375,3.03515625,2.84765625,2.72265625,2.70703125,2.6484375,2.630859375,2.603515625,2.515625,2.478515625,2.4375,2.353515625,2.30078125,2.30078125,2.232421875,2.203125,2.1953125,2.1640625,2.154296875,2.09375,2.068359375,2.068359375,2.046875,2.041015625,2.017578125,1.9921875,1.9560546875,1.953125,1.9296875,1.8818359375,1.8291015625,1.7568359375,1.7373046875,1.7119140625,1.70703125,1.7001953125,1.6611328125,1.6611328125,1.634765625,1.6328125,1.6318359375,1.6279296875,1.615234375,1.58984375,1.53125,1.52734375,1.509765625,1.50390625,1.494140625,1.490234375,1.486328125,1.466796875,1.45703125,1.4267578125,1.3740234375,1.359375,1.34375,1.3388671875,1.3330078125,1.3154296875,1.30859375,1.27734375,1.275390625,1.271484375,1.2568359375,1.2314453125,1.23046875,1.2216796875,1.220703125,1.21875,1.2119140625,1.19921875,1.1826171875,1.1806640625,1.1796875,1.177734375,1.1748046875,1.1552734375,1.15234375,1.14453125,1.0859375,1.0810546875,1.0810546875,1.080078125,1.072265625,1.0703125,1.0615234375,1.05859375,1.05859375,1.0556640625,1.0478515625,1.0458984375,1.0419921875,1.0390625,1.0390625,1.033203125,1.0302734375,1.0234375,1.0107421875,1.009765625,0.99072265625,0.9892578125,0.98193359375,0.9814453125,0.97705078125,0.96533203125,0.96240234375,0.9609375,0.95703125,0.95263671875,0.9482421875,0.9453125,0.93798828125,0.9296875,0.9169921875,0.9072265625,0.8955078125,0.89306640625,0.890625,0.880859375,0.87841796875,0.87744140625,0.87646484375,0.875,0.86962890625,0.857421875,0.8564453125,0.8564453125,0.8544921875,0.8525390625,0.8486328125,0.841796875,0.8232421875,0.81591796875,0.80419921875,0.80322265625,0.80224609375,0.798828125,0.78173828125,0.7763671875,0.77587890625,0.77587890625,0.76953125,0.76171875,0.76025390625,0.75830078125,0.75732421875,0.7509765625,0.74267578125,0.73779296875,0.73681640625,0.736328125,0.7333984375,0.720703125,0.71435546875,0.7138671875,0.71142578125,0.7099609375,0.703125,0.701171875,0.6953125,0.69091796875,0.68896484375,0.68505859375,0.6845703125,0.6826171875,0.681640625,0.669921875,0.65380859375,0.6533203125,0.6513671875,0.64892578125,0.64794921875,0.64794921875,0.6474609375,0.64697265625,0.64501953125,0.640625,0.63916015625,0.63818359375,0.634765625,0.6337890625,0.63037109375,0.6279296875,0.6259765625,0.6240234375,0.62158203125,0.62060546875,0.61865234375,0.615234375,0.61376953125,0.61083984375,0.6103515625,0.6083984375,0.6005859375],\"sizemode\":\"area\",\"sizeref\":0.39875,\"symbol\":\"circle\",\"line\":{\"width\":0}},\"mode\":\"markers\",\"name\":\"\",\"scene\":\"scene\",\"showlegend\":false,\"x\":[-1.145566463470459,-9.17282772064209,-0.1544457972049713,-0.03206736594438553,-3.191534996032715,0.06160777062177658,-0.01849440112709999,-0.07442258298397064,0.24249786138534546,0.07763376832008362,-1.5661542415618896,1.5138580799102783,-0.035179972648620605,0.1322631537914276,-0.1867426335811615,-0.02442461997270584,-0.8579702377319336,-0.025149542838335037,0.063359335064888,-0.7400716543197632,-0.7001846432685852,-0.08937383443117142,-0.06883974373340607,-0.020012114197015762,-0.27416834235191345,-0.6095934510231018,-0.28896665573120117,0.12173996865749359,0.2396065890789032,-0.04889238625764847,0.005061838775873184,-0.008135572075843811,0.022905105724930763,0.0009161531925201416,-0.07336436957120895,0.2475009709596634,-0.1814754605293274,-0.003176070749759674,-0.00991784781217575,-0.32287126779556274,-0.40930619835853577,-0.028525158762931824,-0.15037879347801208,0.06300292909145355,-0.01658960059285164,-0.3570789098739624,0.12885531783103943,-0.025219034403562546,-0.0712917149066925,-0.2646598219871521,-0.019399385899305344,-0.04249408096075058,0.08223821967840195,-0.13200430572032928,0.0119771808385849,0.0034895408898591995,-0.17140574753284454,0.08772282302379608,0.2343517541885376,0.010836375877261162,-0.10224762558937073,0.3142911195755005,-0.11850552260875702,-0.1623058021068573,-0.020945997908711433,-0.22512201964855194,-0.14978303015232086,0.06669245660305023,-0.05465732514858246,-0.0025866772048175335,-0.10953883826732635,0.081199511885643,0.04832106828689575,0.17550113797187805,-0.033505283296108246,-0.02620818093419075,0.09938223659992218,-0.022636981680989265,0.02242308109998703,-0.04074521362781525,-0.038519810885190964,0.09729605913162231,0.27140069007873535,-0.05003005266189575,0.019344374537467957,0.023949138820171356,-0.3510080575942993,-0.32405441999435425,0.10039915889501572,0.005976450629532337,-0.03436433896422386,-0.04855574667453766,0.06749404221773148,0.03396110236644745,-0.09369347244501114,0.19181981682777405,-0.09510169178247452,-0.02858716994524002,-0.11648781597614288,-0.16982495784759521,0.040474750101566315,0.07641766965389252,-0.015696704387664795,-0.011957932263612747,-0.06439025700092316,0.024435995146632195,-0.07680678367614746,-0.017858952283859253,-0.07167769968509674,-0.04418134689331055,0.042628247290849686,0.2034423053264618,-0.13793742656707764,-0.08002099394798279,0.04729217663407326,0.017960436642169952,-0.004174098372459412,-0.13969486951828003,-0.005818609148263931,0.03536226600408554,-0.0970236212015152,0.020566988736391068,0.04585854709148407,-0.06659353524446487,0.03408137708902359,-0.017989875748753548,-0.011268973350524902,-0.02298586070537567,-0.07207773625850677,0.05488932877779007,-0.0428549163043499,0.03718726709485054,0.10386288166046143,0.06478244811296463,-0.049350474029779434,-0.019686680287122726,0.19794988632202148,0.018894720822572708,-0.09328575432300568,0.0048791877925395966,-0.03858213499188423,-0.00832878053188324,-0.12840212881565094,0.0185209009796381,-0.03766559064388275,0.06204339861869812,0.0036713965237140656,-0.038168057799339294,-0.01399959996342659,-0.03032180666923523,-0.05279902368783951,-0.193888321518898,-0.024778110906481743,0.06445755809545517,-0.05161897465586662,0.20709624886512756,-0.045680999755859375,-0.005126815289258957,0.08210811764001846,-0.034338898956775665,0.1000724583864212,0.030750565230846405,-0.04400577023625374,0.00036394596099853516,-0.03562963008880615,0.02300225757062435,-0.044625021517276764,-0.021673329174518585,0.11569524556398392,-0.20308828353881836,0.055647291243076324,0.3032436966896057,-0.04011087119579315,-0.0401085764169693,0.005297832190990448,-0.02433885633945465,-0.005357099696993828,0.04145478457212448,-0.03483331948518753,-0.041098516434431076,0.0356760211288929,-0.051088348031044006,-0.028475917875766754,0.05039922893047333,0.025925859808921814,0.04737988859415054,-0.038079798221588135,-0.029578804969787598,0.008485380560159683,-0.035919830203056335,-0.035210806876420975,0.06112639605998993,0.04192691296339035,0.03462737798690796,-0.05213895067572594,0.05020655691623688,0.24719490110874176,-0.017039692029356956,0.03670356422662735,0.0507826954126358,0.05267968028783798,-0.016750125214457512,-0.027282752096652985,-0.09137330949306488,0.009974021464586258,0.0011080056428909302,-0.24741512537002563,-0.19731612503528595,-0.10197511315345764,0.0069472286850214005,-0.019670281559228897,0.023070931434631348,0.13288620114326477,0.0026833489537239075,0.2681457996368408,0.005945507436990738,-0.03972424566745758,0.026485387235879898,-0.14425107836723328,-0.05073212832212448],\"y\":[44.173152923583984,1.6763535737991333,4.1546735763549805,3.946983814239502,0.5121366381645203,2.6225204467773438,1.708194375038147,1.3190487623214722,-1.238325834274292,1.0367403030395508,0.294779896736145,-0.017687246203422546,0.7392834424972534,-0.5043148398399353,1.192878246307373,0.23018452525138855,-0.0937630757689476,0.48921263217926025,-0.46524572372436523,0.13460345566272736,0.1290343701839447,-0.42159968614578247,-0.45335856080055237,0.17320093512535095,-0.27014854550361633,0.09480801224708557,0.1138511598110199,-0.38489222526550293,0.5089240074157715,-0.25325095653533936,0.09113259613513947,-0.08011235296726227,-0.15904337167739868,0.10945360362529755,-0.3611851930618286,-0.25554078817367554,0.1422576755285263,0.10234372317790985,0.11978735029697418,-0.32110679149627686,-0.001106449868530035,-0.11664755642414093,-0.35202375054359436,-0.36483922600746155,0.1255616694688797,0.1251968890428543,-0.3809102177619934,0.360446035861969,0.09347914159297943,-0.00944456085562706,0.13234074413776398,0.38413938879966736,-0.08355319499969482,-0.07494863122701645,-0.1270984411239624,0.12046545743942261,0.031215636059641838,0.283917635679245,-0.22621837258338928,-0.10765474289655685,-0.05018395930528641,0.007415375206619501,0.06429027765989304,0.15102256834506989,0.12829619646072388,-0.020383695140480995,-0.036758534610271454,-0.11159849166870117,-0.08789849281311035,0.12911255657672882,0.01573832333087921,-0.18406793475151062,-0.3661337196826935,0.20229937136173248,0.04454140365123749,-0.07747909426689148,0.03407933562994003,0.2451433390378952,-0.05064184218645096,-0.02676915004849434,0.3562154471874237,0.03936778008937836,-0.17530842125415802,-0.07972632348537445,0.0026791393756866455,-0.040674030780792236,0.06923139095306396,-0.1464168280363083,-0.1968105435371399,-0.12205876410007477,0.09740330278873444,-0.3500618636608124,0.06116318702697754,0.025653913617134094,0.026904746890068054,0.07573847472667694,-0.012444796040654182,0.011047989130020142,-0.0967923030257225,0.019441261887550354,0.10574030876159668,-0.34123894572257996,0.035743433982133865,-0.09674933552742004,-0.25610029697418213,0.14810211956501007,-0.14422498643398285,0.043499890714883804,0.04519820213317871,-0.06807196140289307,0.0236203670501709,-0.10907566547393799,0.034706130623817444,0.07019686698913574,-0.32806044816970825,-0.07895952463150024,0.08137988299131393,-0.033785149455070496,0.047107137739658356,0.024663634598255157,-0.10297558456659317,0.09862454235553741,0.3467845022678375,0.018742557615041733,-0.1172918975353241,0.1425522416830063,0.02333802729845047,-0.0657871887087822,0.005717810243368149,0.005799718201160431,0.12678202986717224,0.02564946562051773,-0.11743289232254028,-0.034194327890872955,-0.29518425464630127,0.053442761301994324,-0.25245940685272217,-0.06523191183805466,-0.07299986481666565,-0.06006929278373718,-0.013551868498325348,-0.001416967250406742,-0.0068840887397527695,-0.3139260709285736,0.02586068958044052,-0.018316034227609634,-0.058623477816581726,-0.003457404673099518,0.05847764015197754,0.05201653391122818,-0.007582411170005798,-0.24342606961727142,-0.09110108017921448,0.028537066653370857,-0.004813693463802338,-0.26205044984817505,0.02813364565372467,-0.023644335567951202,0.05865045636892319,-0.10463105142116547,0.2058057188987732,0.01688055321574211,0.018313296139240265,0.008065491914749146,0.035032302141189575,-0.06539855152368546,0.0025829486548900604,0.04494538530707359,0.16758787631988525,-0.2539977729320526,0.01861993782222271,-0.1306481808423996,0.0950707197189331,-0.013152604922652245,0.009537570178508759,0.035489656031131744,0.047833822667598724,-0.016572464257478714,-0.12069139629602432,0.002328811213374138,0.04854089766740799,-0.0185052789747715,0.050754763185977936,0.003845077008008957,0.0062447600066661835,0.022916674613952637,0.0360400564968586,-0.006708836182951927,0.0402669794857502,0.010295823216438293,-0.006546054035425186,0.0025092000141739845,-0.009739726781845093,0.05359366536140442,-0.01901191473007202,0.013321876525878906,-0.020110517740249634,-0.047452546656131744,-0.02735402062535286,-0.014164309948682785,0.03844656050205231,-0.05418328195810318,0.013757157139480114,-0.0227963849902153,0.0451679565012455,-0.023626532405614853,0.0317029170691967,0.12410106509923935,-0.023852989077568054,0.04490052908658981,-0.011871240101754665,-0.015537332743406296,-0.27054253220558167,0.018203571438789368,0.028964772820472717,-0.003254372626543045,-0.007085427641868591,0.021512102335691452,0.10553969442844391,-0.039854712784290314],\"z\":[16.934005737304688,29.324642181396484,1.6329689025878906,1.6461281776428223,10.245269775390625,1.2487258911132812,0.8600143194198608,0.1211313009262085,-0.272579550743103,0.5000199675559998,4.913707733154297,-6.6543073654174805,0.11539880931377411,0.2234395146369934,-5.956740379333496,0.059739142656326294,-3.623108148574829,0.1335909068584442,0.06866855174303055,2.4196970462799072,2.293219566345215,0.19950802624225616,-0.48167550563812256,0.04972586780786514,-0.6224935054779053,2.0360488891601562,-0.4550785422325134,-0.08775391429662704,-2.623530864715576,0.3929612934589386,0.018656756728887558,-0.01752334088087082,-0.173678457736969,0.007063612341880798,0.20077374577522278,0.2358059287071228,0.3935275375843048,-0.03093075007200241,0.02484121173620224,2.4783079624176025,1.3881701231002808,0.09915456175804138,-0.10656123608350754,0.16426044702529907,-0.016387131065130234,-1.4773920774459839,-1.7871227264404297,-1.287170648574829,-0.031902015209198,-0.6962382197380066,0.011911185458302498,0.07231125235557556,0.07150933146476746,0.2512466609477997,-0.013713855296373367,-0.03628021478652954,-0.4510926306247711,1.140985369682312,-0.21302542090415955,-0.045295774936676025,0.15639646351337433,1.59432053565979,0.3248116075992584,-0.35758256912231445,0.01771138608455658,0.7627900838851929,0.34328493475914,0.23892438411712646,-0.12342536449432373,-0.32775118947029114,-0.18251806497573853,-0.49373385310173035,0.0559140108525753,1.260310173034668,0.07653127610683441,0.20805004239082336,0.1421893984079361,-1.067915678024292,0.081154465675354,-0.009983764961361885,0.09843280911445618,-0.17755001783370972,-0.1929617077112198,0.14817342162132263,-0.008570626378059387,-0.026238270103931427,0.06148534640669823,-0.06926185637712479,1.212209701538086,-0.33802565932273865,0.017878059297800064,-0.07358194887638092,-0.053463131189346313,0.009474970400333405,-0.037121593952178955,1.0548614263534546,0.040771063417196274,-0.018346257507801056,0.6529847979545593,0.7484455108642578,-0.27240321040153503,-0.08486877381801605,-0.017236441373825073,0.22752264142036438,0.30352622270584106,0.4987502992153168,0.8795862197875977,-0.01854146644473076,0.033648550510406494,0.047080617398023605,-0.02453210949897766,-0.30032992362976074,0.4527944326400757,-0.30011552572250366,-0.15293514728546143,-0.028545424342155457,0.06060219928622246,0.41089436411857605,-0.059685081243515015,-0.026073642075061798,0.4119086265563965,-0.2562134265899658,-0.0075821056962013245,-0.051130786538124084,0.4985712468624115,0.6703544855117798,0.004010587930679321,-0.011701047420501709,-0.043777741491794586,-0.033738747239112854,0.5023496150970459,0.004548918455839157,0.38430488109588623,-0.03894048184156418,0.23705267906188965,0.09033466875553131,0.1728883981704712,-0.03455973416566849,-0.6334809064865112,0.07378696650266647,0.011462215334177017,0.0403888076543808,0.4139549732208252,0.18187186121940613,-0.14739340543746948,-0.03550306707620621,-0.041997626423835754,-0.03709228336811066,0.011460080742835999,0.04897792637348175,-0.022002261132001877,-0.2015048861503601,-0.383110374212265,-0.1608130931854248,-0.012913325801491737,0.06318163871765137,0.06815429031848907,-0.021079346537590027,-0.4206259548664093,-0.37488484382629395,0.3491401970386505,-0.027882635593414307,0.0023272372782230377,0.03868488967418671,-0.02854609489440918,-0.2040747106075287,-0.02022966369986534,-0.055367521941661835,0.3735021948814392,-0.10776666551828384,-0.23825973272323608,-0.05463423579931259,0.5472646951675415,-0.022801809012889862,0.019406557083129883,0.05731916427612305,-0.031002052128314972,-0.01629875972867012,0.41086870431900024,-0.027547195553779602,0.034790970385074615,0.1792594939470291,0.17878663539886475,0.04149293899536133,0.06571963429450989,-0.016515761613845825,-0.0277192872017622,0.16277435421943665,0.020906049758195877,-0.008417649194598198,-0.0053132157772779465,0.209367036819458,-0.008367877453565598,-0.20157325267791748,-0.025798825547099113,-0.007884498685598373,0.2972039580345154,-0.16270066797733307,-0.033034004271030426,0.18459807336330414,-0.030292581766843796,-0.023575162515044212,-0.045117005705833435,0.4390559792518616,-0.029419880360364914,0.05676189064979553,-0.3105788826942444,-0.3331488370895386,-0.3605833649635315,0.05214318633079529,0.053797200322151184,-0.11211633682250977,-0.12172768265008926,0.04860451817512512,0.21482759714126587,0.001030251383781433,-0.0679427981376648,-0.016557499766349792,0.3949545621871948,-0.019975917413830757],\"type\":\"scatter3d\"}],                        {\"template\":{\"data\":{\"barpolar\":[{\"marker\":{\"line\":{\"color\":\"rgb(17,17,17)\",\"width\":0.5},\"pattern\":{\"fillmode\":\"overlay\",\"size\":10,\"solidity\":0.2}},\"type\":\"barpolar\"}],\"bar\":[{\"error_x\":{\"color\":\"#f2f5fa\"},\"error_y\":{\"color\":\"#f2f5fa\"},\"marker\":{\"line\":{\"color\":\"rgb(17,17,17)\",\"width\":0.5},\"pattern\":{\"fillmode\":\"overlay\",\"size\":10,\"solidity\":0.2}},\"type\":\"bar\"}],\"carpet\":[{\"aaxis\":{\"endlinecolor\":\"#A2B1C6\",\"gridcolor\":\"#506784\",\"linecolor\":\"#506784\",\"minorgridcolor\":\"#506784\",\"startlinecolor\":\"#A2B1C6\"},\"baxis\":{\"endlinecolor\":\"#A2B1C6\",\"gridcolor\":\"#506784\",\"linecolor\":\"#506784\",\"minorgridcolor\":\"#506784\",\"startlinecolor\":\"#A2B1C6\"},\"type\":\"carpet\"}],\"choropleth\":[{\"colorbar\":{\"outlinewidth\":0,\"ticks\":\"\"},\"type\":\"choropleth\"}],\"contourcarpet\":[{\"colorbar\":{\"outlinewidth\":0,\"ticks\":\"\"},\"type\":\"contourcarpet\"}],\"contour\":[{\"colorbar\":{\"outlinewidth\":0,\"ticks\":\"\"},\"colorscale\":[[0.0,\"#0d0887\"],[0.1111111111111111,\"#46039f\"],[0.2222222222222222,\"#7201a8\"],[0.3333333333333333,\"#9c179e\"],[0.4444444444444444,\"#bd3786\"],[0.5555555555555556,\"#d8576b\"],[0.6666666666666666,\"#ed7953\"],[0.7777777777777778,\"#fb9f3a\"],[0.8888888888888888,\"#fdca26\"],[1.0,\"#f0f921\"]],\"type\":\"contour\"}],\"heatmapgl\":[{\"colorbar\":{\"outlinewidth\":0,\"ticks\":\"\"},\"colorscale\":[[0.0,\"#0d0887\"],[0.1111111111111111,\"#46039f\"],[0.2222222222222222,\"#7201a8\"],[0.3333333333333333,\"#9c179e\"],[0.4444444444444444,\"#bd3786\"],[0.5555555555555556,\"#d8576b\"],[0.6666666666666666,\"#ed7953\"],[0.7777777777777778,\"#fb9f3a\"],[0.8888888888888888,\"#fdca26\"],[1.0,\"#f0f921\"]],\"type\":\"heatmapgl\"}],\"heatmap\":[{\"colorbar\":{\"outlinewidth\":0,\"ticks\":\"\"},\"colorscale\":[[0.0,\"#0d0887\"],[0.1111111111111111,\"#46039f\"],[0.2222222222222222,\"#7201a8\"],[0.3333333333333333,\"#9c179e\"],[0.4444444444444444,\"#bd3786\"],[0.5555555555555556,\"#d8576b\"],[0.6666666666666666,\"#ed7953\"],[0.7777777777777778,\"#fb9f3a\"],[0.8888888888888888,\"#fdca26\"],[1.0,\"#f0f921\"]],\"type\":\"heatmap\"}],\"histogram2dcontour\":[{\"colorbar\":{\"outlinewidth\":0,\"ticks\":\"\"},\"colorscale\":[[0.0,\"#0d0887\"],[0.1111111111111111,\"#46039f\"],[0.2222222222222222,\"#7201a8\"],[0.3333333333333333,\"#9c179e\"],[0.4444444444444444,\"#bd3786\"],[0.5555555555555556,\"#d8576b\"],[0.6666666666666666,\"#ed7953\"],[0.7777777777777778,\"#fb9f3a\"],[0.8888888888888888,\"#fdca26\"],[1.0,\"#f0f921\"]],\"type\":\"histogram2dcontour\"}],\"histogram2d\":[{\"colorbar\":{\"outlinewidth\":0,\"ticks\":\"\"},\"colorscale\":[[0.0,\"#0d0887\"],[0.1111111111111111,\"#46039f\"],[0.2222222222222222,\"#7201a8\"],[0.3333333333333333,\"#9c179e\"],[0.4444444444444444,\"#bd3786\"],[0.5555555555555556,\"#d8576b\"],[0.6666666666666666,\"#ed7953\"],[0.7777777777777778,\"#fb9f3a\"],[0.8888888888888888,\"#fdca26\"],[1.0,\"#f0f921\"]],\"type\":\"histogram2d\"}],\"histogram\":[{\"marker\":{\"pattern\":{\"fillmode\":\"overlay\",\"size\":10,\"solidity\":0.2}},\"type\":\"histogram\"}],\"mesh3d\":[{\"colorbar\":{\"outlinewidth\":0,\"ticks\":\"\"},\"type\":\"mesh3d\"}],\"parcoords\":[{\"line\":{\"colorbar\":{\"outlinewidth\":0,\"ticks\":\"\"}},\"type\":\"parcoords\"}],\"pie\":[{\"automargin\":true,\"type\":\"pie\"}],\"scatter3d\":[{\"line\":{\"colorbar\":{\"outlinewidth\":0,\"ticks\":\"\"}},\"marker\":{\"colorbar\":{\"outlinewidth\":0,\"ticks\":\"\"}},\"type\":\"scatter3d\"}],\"scattercarpet\":[{\"marker\":{\"colorbar\":{\"outlinewidth\":0,\"ticks\":\"\"}},\"type\":\"scattercarpet\"}],\"scattergeo\":[{\"marker\":{\"colorbar\":{\"outlinewidth\":0,\"ticks\":\"\"}},\"type\":\"scattergeo\"}],\"scattergl\":[{\"marker\":{\"line\":{\"color\":\"#283442\"}},\"type\":\"scattergl\"}],\"scattermapbox\":[{\"marker\":{\"colorbar\":{\"outlinewidth\":0,\"ticks\":\"\"}},\"type\":\"scattermapbox\"}],\"scatterpolargl\":[{\"marker\":{\"colorbar\":{\"outlinewidth\":0,\"ticks\":\"\"}},\"type\":\"scatterpolargl\"}],\"scatterpolar\":[{\"marker\":{\"colorbar\":{\"outlinewidth\":0,\"ticks\":\"\"}},\"type\":\"scatterpolar\"}],\"scatter\":[{\"marker\":{\"line\":{\"color\":\"#283442\"}},\"type\":\"scatter\"}],\"scatterternary\":[{\"marker\":{\"colorbar\":{\"outlinewidth\":0,\"ticks\":\"\"}},\"type\":\"scatterternary\"}],\"surface\":[{\"colorbar\":{\"outlinewidth\":0,\"ticks\":\"\"},\"colorscale\":[[0.0,\"#0d0887\"],[0.1111111111111111,\"#46039f\"],[0.2222222222222222,\"#7201a8\"],[0.3333333333333333,\"#9c179e\"],[0.4444444444444444,\"#bd3786\"],[0.5555555555555556,\"#d8576b\"],[0.6666666666666666,\"#ed7953\"],[0.7777777777777778,\"#fb9f3a\"],[0.8888888888888888,\"#fdca26\"],[1.0,\"#f0f921\"]],\"type\":\"surface\"}],\"table\":[{\"cells\":{\"fill\":{\"color\":\"#506784\"},\"line\":{\"color\":\"rgb(17,17,17)\"}},\"header\":{\"fill\":{\"color\":\"#2a3f5f\"},\"line\":{\"color\":\"rgb(17,17,17)\"}},\"type\":\"table\"}]},\"layout\":{\"annotationdefaults\":{\"arrowcolor\":\"#f2f5fa\",\"arrowhead\":0,\"arrowwidth\":1},\"autotypenumbers\":\"strict\",\"coloraxis\":{\"colorbar\":{\"outlinewidth\":0,\"ticks\":\"\"}},\"colorscale\":{\"diverging\":[[0,\"#8e0152\"],[0.1,\"#c51b7d\"],[0.2,\"#de77ae\"],[0.3,\"#f1b6da\"],[0.4,\"#fde0ef\"],[0.5,\"#f7f7f7\"],[0.6,\"#e6f5d0\"],[0.7,\"#b8e186\"],[0.8,\"#7fbc41\"],[0.9,\"#4d9221\"],[1,\"#276419\"]],\"sequential\":[[0.0,\"#0d0887\"],[0.1111111111111111,\"#46039f\"],[0.2222222222222222,\"#7201a8\"],[0.3333333333333333,\"#9c179e\"],[0.4444444444444444,\"#bd3786\"],[0.5555555555555556,\"#d8576b\"],[0.6666666666666666,\"#ed7953\"],[0.7777777777777778,\"#fb9f3a\"],[0.8888888888888888,\"#fdca26\"],[1.0,\"#f0f921\"]],\"sequentialminus\":[[0.0,\"#0d0887\"],[0.1111111111111111,\"#46039f\"],[0.2222222222222222,\"#7201a8\"],[0.3333333333333333,\"#9c179e\"],[0.4444444444444444,\"#bd3786\"],[0.5555555555555556,\"#d8576b\"],[0.6666666666666666,\"#ed7953\"],[0.7777777777777778,\"#fb9f3a\"],[0.8888888888888888,\"#fdca26\"],[1.0,\"#f0f921\"]]},\"colorway\":[\"#636efa\",\"#EF553B\",\"#00cc96\",\"#ab63fa\",\"#FFA15A\",\"#19d3f3\",\"#FF6692\",\"#B6E880\",\"#FF97FF\",\"#FECB52\"],\"font\":{\"color\":\"#f2f5fa\"},\"geo\":{\"bgcolor\":\"rgb(17,17,17)\",\"lakecolor\":\"rgb(17,17,17)\",\"landcolor\":\"rgb(17,17,17)\",\"showlakes\":true,\"showland\":true,\"subunitcolor\":\"#506784\"},\"hoverlabel\":{\"align\":\"left\"},\"hovermode\":\"closest\",\"mapbox\":{\"style\":\"dark\"},\"paper_bgcolor\":\"rgb(17,17,17)\",\"plot_bgcolor\":\"rgb(17,17,17)\",\"polar\":{\"angularaxis\":{\"gridcolor\":\"#506784\",\"linecolor\":\"#506784\",\"ticks\":\"\"},\"bgcolor\":\"rgb(17,17,17)\",\"radialaxis\":{\"gridcolor\":\"#506784\",\"linecolor\":\"#506784\",\"ticks\":\"\"}},\"scene\":{\"xaxis\":{\"backgroundcolor\":\"rgb(17,17,17)\",\"gridcolor\":\"#506784\",\"gridwidth\":2,\"linecolor\":\"#506784\",\"showbackground\":true,\"ticks\":\"\",\"zerolinecolor\":\"#C8D4E3\"},\"yaxis\":{\"backgroundcolor\":\"rgb(17,17,17)\",\"gridcolor\":\"#506784\",\"gridwidth\":2,\"linecolor\":\"#506784\",\"showbackground\":true,\"ticks\":\"\",\"zerolinecolor\":\"#C8D4E3\"},\"zaxis\":{\"backgroundcolor\":\"rgb(17,17,17)\",\"gridcolor\":\"#506784\",\"gridwidth\":2,\"linecolor\":\"#506784\",\"showbackground\":true,\"ticks\":\"\",\"zerolinecolor\":\"#C8D4E3\"}},\"shapedefaults\":{\"line\":{\"color\":\"#f2f5fa\"}},\"sliderdefaults\":{\"bgcolor\":\"#C8D4E3\",\"bordercolor\":\"rgb(17,17,17)\",\"borderwidth\":1,\"tickwidth\":0},\"ternary\":{\"aaxis\":{\"gridcolor\":\"#506784\",\"linecolor\":\"#506784\",\"ticks\":\"\"},\"baxis\":{\"gridcolor\":\"#506784\",\"linecolor\":\"#506784\",\"ticks\":\"\"},\"bgcolor\":\"rgb(17,17,17)\",\"caxis\":{\"gridcolor\":\"#506784\",\"linecolor\":\"#506784\",\"ticks\":\"\"}},\"title\":{\"x\":0.05},\"updatemenudefaults\":{\"bgcolor\":\"#506784\",\"borderwidth\":0},\"xaxis\":{\"automargin\":true,\"gridcolor\":\"#283442\",\"linecolor\":\"#506784\",\"ticks\":\"\",\"title\":{\"standoff\":15},\"zerolinecolor\":\"#283442\",\"zerolinewidth\":2},\"yaxis\":{\"automargin\":true,\"gridcolor\":\"#283442\",\"linecolor\":\"#506784\",\"ticks\":\"\",\"title\":{\"standoff\":15},\"zerolinecolor\":\"#283442\",\"zerolinewidth\":2}}},\"scene\":{\"domain\":{\"x\":[0.0,1.0],\"y\":[0.0,1.0]},\"xaxis\":{\"title\":{\"text\":\"X\"}},\"yaxis\":{\"title\":{\"text\":\"Y\"}},\"zaxis\":{\"title\":{\"text\":\"Z\"}}},\"coloraxis\":{\"colorbar\":{\"title\":{\"text\":\"tIdx\"}},\"colorscale\":[[0.0,\"rgb(150,0,90)\"],[0.125,\"rgb(0,0,200)\"],[0.25,\"rgb(0,25,255)\"],[0.375,\"rgb(0,152,255)\"],[0.5,\"rgb(44,255,150)\"],[0.625,\"rgb(151,255,0)\"],[0.75,\"rgb(255,234,0)\"],[0.875,\"rgb(255,111,0)\"],[1.0,\"rgb(255,0,0)\"]]},\"legend\":{\"tracegroupgap\":0,\"itemsizing\":\"constant\"},\"margin\":{\"t\":60}},                        {\"responsive\": true}                    ).then(function(){\n",
       "                            \n",
       "var gd = document.getElementById('986225d6-6b94-43a4-9278-478cc3244377');\n",
       "var x = new MutationObserver(function (mutations, observer) {{\n",
       "        var display = window.getComputedStyle(gd).display;\n",
       "        if (!display || display === 'none') {{\n",
       "            console.log([gd, 'removed!']);\n",
       "            Plotly.purge(gd);\n",
       "            observer.disconnect();\n",
       "        }}\n",
       "}});\n",
       "\n",
       "// Listen for the removal of the full notebook cells\n",
       "var notebookContainer = gd.closest('#notebook-container');\n",
       "if (notebookContainer) {{\n",
       "    x.observe(notebookContainer, {childList: true});\n",
       "}}\n",
       "\n",
       "// Listen for the clearing of the current output cell\n",
       "var outputEl = gd.closest('.output');\n",
       "if (outputEl) {{\n",
       "    x.observe(outputEl, {childList: true});\n",
       "}}\n",
       "\n",
       "                        })                };                });            </script>        </div>"
      ]
     },
     "metadata": {},
     "output_type": "display_data"
    }
   ],
   "execution_count": 37
  },
  {
   "metadata": {},
   "cell_type": "code",
   "outputs": [],
   "execution_count": null,
   "source": "clustering.ipynb",
   "id": "67e8075635fc7b15"
  },
  {
   "metadata": {
    "ExecuteTime": {
     "end_time": "2025-01-20T15:18:32.585983Z",
     "start_time": "2025-01-20T15:18:32.572863Z"
    }
   },
   "cell_type": "code",
   "source": "result[\"pt\"][result[\"event_idx\"]==6]",
   "id": "c2112079f56bb616",
   "outputs": [
    {
     "data": {
      "text/plain": [
       "tensor([159.5000,  34.9688,  18.3594,  17.5781,  13.1641,  12.6797,   9.2188,\n",
       "          8.4844,   8.2344,   7.2305,   7.0664,   6.5117,   5.5039,   5.3633,\n",
       "          5.2617,   4.3125,   4.0234,   3.9941,   3.8848,   3.6699,   3.5000,\n",
       "          3.4492,   3.4316,   3.4062,   3.2285,   3.0859,   3.0352,   2.8477,\n",
       "          2.7227,   2.7070,   2.6484,   2.6309,   2.6035,   2.5156,   2.4785,\n",
       "          2.4375,   2.3535,   2.3008,   2.3008,   2.2324,   2.2031,   2.1953,\n",
       "          2.1641,   2.1543,   2.0938,   2.0684,   2.0684,   2.0469,   2.0410,\n",
       "          2.0176,   1.9922,   1.9561,   1.9531,   1.9297,   1.8818,   1.8291,\n",
       "          1.7568,   1.7373,   1.7119,   1.7070,   1.7002,   1.6611,   1.6611,\n",
       "          1.6348,   1.6328,   1.6318,   1.6279,   1.6152,   1.5898,   1.5312,\n",
       "          1.5273,   1.5098,   1.5039,   1.4941,   1.4902,   1.4863,   1.4668,\n",
       "          1.4570,   1.4268,   1.3740,   1.3594,   1.3438,   1.3389,   1.3330,\n",
       "          1.3154,   1.3086,   1.2773,   1.2754,   1.2715,   1.2568,   1.2314,\n",
       "          1.2305,   1.2217,   1.2207,   1.2188,   1.2119,   1.1992,   1.1826,\n",
       "          1.1807,   1.1797,   1.1777,   1.1748,   1.1553,   1.1523,   1.1445,\n",
       "          1.0859,   1.0811,   1.0811,   1.0801,   1.0723,   1.0703,   1.0615,\n",
       "          1.0586,   1.0586,   1.0557,   1.0479,   1.0459,   1.0420,   1.0391,\n",
       "          1.0391,   1.0332,   1.0303,   1.0234,   1.0107,   1.0098,   0.9907,\n",
       "          0.9893,   0.9819,   0.9814,   0.9771,   0.9653,   0.9624,   0.9609,\n",
       "          0.9570,   0.9526,   0.9482,   0.9453,   0.9380,   0.9297,   0.9170,\n",
       "          0.9072,   0.8955,   0.8931,   0.8906,   0.8809,   0.8784,   0.8774,\n",
       "          0.8765,   0.8750,   0.8696,   0.8574,   0.8564,   0.8564,   0.8545,\n",
       "          0.8525,   0.8486,   0.8418,   0.8232,   0.8159,   0.8042,   0.8032,\n",
       "          0.8022,   0.7988,   0.7817,   0.7764,   0.7759,   0.7759,   0.7695,\n",
       "          0.7617,   0.7603,   0.7583,   0.7573,   0.7510,   0.7427,   0.7378,\n",
       "          0.7368,   0.7363,   0.7334,   0.7207,   0.7144,   0.7139,   0.7114,\n",
       "          0.7100,   0.7031,   0.7012,   0.6953,   0.6909,   0.6890,   0.6851,\n",
       "          0.6846,   0.6826,   0.6816,   0.6699,   0.6538,   0.6533,   0.6514,\n",
       "          0.6489,   0.6479,   0.6479,   0.6475,   0.6470,   0.6450,   0.6406,\n",
       "          0.6392,   0.6382,   0.6348,   0.6338,   0.6304,   0.6279,   0.6260,\n",
       "          0.6240,   0.6216,   0.6206,   0.6187,   0.6152,   0.6138,   0.6108,\n",
       "          0.6104,   0.6084,   0.6006])"
      ]
     },
     "execution_count": 39,
     "metadata": {},
     "output_type": "execute_result"
    }
   ],
   "execution_count": 39
  },
  {
   "metadata": {
    "ExecuteTime": {
     "end_time": "2025-01-20T15:19:21.065491Z",
     "start_time": "2025-01-20T15:19:20.974966Z"
    }
   },
   "cell_type": "code",
   "source": "plot_coordinates(dataset[6].pfcands.pxyz, torch.tensor(result[\"pt\"][filt]), torch.tensor(result[\"GT_cluster\"][filt])).show()\n",
   "id": "6e2a07e42eca8496",
   "outputs": [
    {
     "name": "stdout",
     "output_type": "stream",
     "text": [
      "[('X', (220, 1)), ('Y', (220, 1)), ('Z', (220, 1)), ('tIdx', (220, 1)), ('pt', (220, 1))]\n"
     ]
    },
    {
     "name": "stderr",
     "output_type": "stream",
     "text": [
      "/tmp/ipykernel_48257/919745444.py:1: UserWarning:\n",
      "\n",
      "To copy construct from a tensor, it is recommended to use sourceTensor.clone().detach() or sourceTensor.clone().detach().requires_grad_(True), rather than torch.tensor(sourceTensor).\n",
      "\n"
     ]
    },
    {
     "data": {
      "application/vnd.plotly.v1+json": {
       "data": [
        {
         "hovertemplate": "X=%{x}<br>Y=%{y}<br>Z=%{z}<br>pt=%{marker.size}<br>tIdx=%{marker.color}<extra></extra>",
         "legendgroup": "",
         "marker": {
          "color": [
           1.0,
           -1.0,
           1.0,
           1.0,
           -1.0,
           1.0,
           1.0,
           1.0,
           0.0,
           1.0,
           -1.0,
           -1.0,
           1.0,
           0.0,
           -1.0,
           1.0,
           -1.0,
           1.0,
           0.0,
           -1.0,
           -1.0,
           -1.0,
           -1.0,
           1.0,
           -1.0,
           -1.0,
           -1.0,
           0.0,
           -1.0,
           -1.0,
           0.0,
           1.0,
           0.0,
           0.0,
           -1.0,
           -1.0,
           -1.0,
           0.0,
           0.0,
           -1.0,
           -1.0,
           -1.0,
           0.0,
           0.0,
           0.0,
           -1.0,
           -1.0,
           -1.0,
           0.0,
           -1.0,
           0.0,
           1.0,
           0.0,
           -1.0,
           1.0,
           0.0,
           -1.0,
           -1.0,
           0.0,
           1.0,
           -1.0,
           -1.0,
           -1.0,
           -1.0,
           0.0,
           -1.0,
           -1.0,
           -1.0,
           -1.0,
           -1.0,
           -1.0,
           -1.0,
           0.0,
           -1.0,
           -1.0,
           -1.0,
           -1.0,
           -1.0,
           -1.0,
           -1.0,
           1.0,
           -1.0,
           -1.0,
           -1.0,
           -1.0,
           0.0,
           -1.0,
           -1.0,
           -1.0,
           -1.0,
           0.0,
           0.0,
           -1.0,
           -1.0,
           -1.0,
           -1.0,
           -1.0,
           -1.0,
           -1.0,
           -1.0,
           -1.0,
           0.0,
           -1.0,
           -1.0,
           -1.0,
           -1.0,
           -1.0,
           -1.0,
           0.0,
           -1.0,
           0.0,
           -1.0,
           -1.0,
           -1.0,
           0.0,
           1.0,
           0.0,
           -1.0,
           -1.0,
           0.0,
           -1.0,
           -1.0,
           1.0,
           -1.0,
           -1.0,
           -1.0,
           -1.0,
           -1.0,
           -1.0,
           -1.0,
           -1.0,
           0.0,
           -1.0,
           1.0,
           -1.0,
           -1.0,
           0.0,
           1.0,
           -1.0,
           -1.0,
           -1.0,
           -1.0,
           -1.0,
           0.0,
           -1.0,
           -1.0,
           1.0,
           -1.0,
           0.0,
           0.0,
           -1.0,
           -1.0,
           -1.0,
           -1.0,
           0.0,
           0.0,
           -1.0,
           -1.0,
           -1.0,
           -1.0,
           -1.0,
           -1.0,
           0.0,
           -1.0,
           -1.0,
           -1.0,
           0.0,
           -1.0,
           -1.0,
           -1.0,
           -1.0,
           -1.0,
           -1.0,
           -1.0,
           -1.0,
           -1.0,
           -1.0,
           1.0,
           -1.0,
           -1.0,
           -1.0,
           -1.0,
           -1.0,
           -1.0,
           -1.0,
           1.0,
           -1.0,
           -1.0,
           -1.0,
           0.0,
           0.0,
           -1.0,
           1.0,
           -1.0,
           0.0,
           1.0,
           -1.0,
           -1.0,
           -1.0,
           -1.0,
           1.0,
           0.0,
           -1.0,
           -1.0,
           -1.0,
           -1.0,
           -1.0,
           -1.0,
           -1.0,
           -1.0,
           -1.0,
           -1.0,
           0.0,
           -1.0,
           -1.0,
           -1.0,
           -1.0,
           -1.0,
           -1.0,
           0.0
          ],
          "coloraxis": "coloraxis",
          "size": [
           159.5,
           34.96875,
           18.359375,
           17.578125,
           13.1640625,
           12.6796875,
           9.21875,
           8.484375,
           8.234375,
           7.23046875,
           7.06640625,
           6.51171875,
           5.50390625,
           5.36328125,
           5.26171875,
           4.3125,
           4.0234375,
           3.994140625,
           3.884765625,
           3.669921875,
           3.5,
           3.44921875,
           3.431640625,
           3.40625,
           3.228515625,
           3.0859375,
           3.03515625,
           2.84765625,
           2.72265625,
           2.70703125,
           2.6484375,
           2.630859375,
           2.603515625,
           2.515625,
           2.478515625,
           2.4375,
           2.353515625,
           2.30078125,
           2.30078125,
           2.232421875,
           2.203125,
           2.1953125,
           2.1640625,
           2.154296875,
           2.09375,
           2.068359375,
           2.068359375,
           2.046875,
           2.041015625,
           2.017578125,
           1.9921875,
           1.9560546875,
           1.953125,
           1.9296875,
           1.8818359375,
           1.8291015625,
           1.7568359375,
           1.7373046875,
           1.7119140625,
           1.70703125,
           1.7001953125,
           1.6611328125,
           1.6611328125,
           1.634765625,
           1.6328125,
           1.6318359375,
           1.6279296875,
           1.615234375,
           1.58984375,
           1.53125,
           1.52734375,
           1.509765625,
           1.50390625,
           1.494140625,
           1.490234375,
           1.486328125,
           1.466796875,
           1.45703125,
           1.4267578125,
           1.3740234375,
           1.359375,
           1.34375,
           1.3388671875,
           1.3330078125,
           1.3154296875,
           1.30859375,
           1.27734375,
           1.275390625,
           1.271484375,
           1.2568359375,
           1.2314453125,
           1.23046875,
           1.2216796875,
           1.220703125,
           1.21875,
           1.2119140625,
           1.19921875,
           1.1826171875,
           1.1806640625,
           1.1796875,
           1.177734375,
           1.1748046875,
           1.1552734375,
           1.15234375,
           1.14453125,
           1.0859375,
           1.0810546875,
           1.0810546875,
           1.080078125,
           1.072265625,
           1.0703125,
           1.0615234375,
           1.05859375,
           1.05859375,
           1.0556640625,
           1.0478515625,
           1.0458984375,
           1.0419921875,
           1.0390625,
           1.0390625,
           1.033203125,
           1.0302734375,
           1.0234375,
           1.0107421875,
           1.009765625,
           0.99072265625,
           0.9892578125,
           0.98193359375,
           0.9814453125,
           0.97705078125,
           0.96533203125,
           0.96240234375,
           0.9609375,
           0.95703125,
           0.95263671875,
           0.9482421875,
           0.9453125,
           0.93798828125,
           0.9296875,
           0.9169921875,
           0.9072265625,
           0.8955078125,
           0.89306640625,
           0.890625,
           0.880859375,
           0.87841796875,
           0.87744140625,
           0.87646484375,
           0.875,
           0.86962890625,
           0.857421875,
           0.8564453125,
           0.8564453125,
           0.8544921875,
           0.8525390625,
           0.8486328125,
           0.841796875,
           0.8232421875,
           0.81591796875,
           0.80419921875,
           0.80322265625,
           0.80224609375,
           0.798828125,
           0.78173828125,
           0.7763671875,
           0.77587890625,
           0.77587890625,
           0.76953125,
           0.76171875,
           0.76025390625,
           0.75830078125,
           0.75732421875,
           0.7509765625,
           0.74267578125,
           0.73779296875,
           0.73681640625,
           0.736328125,
           0.7333984375,
           0.720703125,
           0.71435546875,
           0.7138671875,
           0.71142578125,
           0.7099609375,
           0.703125,
           0.701171875,
           0.6953125,
           0.69091796875,
           0.68896484375,
           0.68505859375,
           0.6845703125,
           0.6826171875,
           0.681640625,
           0.669921875,
           0.65380859375,
           0.6533203125,
           0.6513671875,
           0.64892578125,
           0.64794921875,
           0.64794921875,
           0.6474609375,
           0.64697265625,
           0.64501953125,
           0.640625,
           0.63916015625,
           0.63818359375,
           0.634765625,
           0.6337890625,
           0.63037109375,
           0.6279296875,
           0.6259765625,
           0.6240234375,
           0.62158203125,
           0.62060546875,
           0.61865234375,
           0.615234375,
           0.61376953125,
           0.61083984375,
           0.6103515625,
           0.6083984375,
           0.6005859375
          ],
          "sizemode": "area",
          "sizeref": 0.39875,
          "symbol": "circle",
          "line": {
           "width": 0
          }
         },
         "mode": "markers",
         "name": "",
         "scene": "scene",
         "showlegend": false,
         "x": [
          -4.12793493270874,
          -34.39967727661133,
          -0.6185178756713867,
          -0.07732567191123962,
          -12.99765682220459,
          0.37755414843559265,
          -0.004542407114058733,
          -0.3686274290084839,
          1.4518446922302246,
          0.6662861704826355,
          -6.943850040435791,
          6.510962963104248,
          -0.08870667219161987,
          1.1408414840698242,
          -0.8112109303474426,
          -0.09897902607917786,
          -3.9989686012268066,
          0.02533547207713127,
          0.2596585750579834,
          -3.6114792823791504,
          -3.4430415630340576,
          -0.9427974224090576,
          -0.6413302421569824,
          0.1479637771844864,
          -2.338512659072876,
          -3.050656795501709,
          -2.8031342029571533,
          0.6328779458999634,
          1.1715459823608398,
          -0.6351057887077332,
          0.5152474641799927,
          -0.37002992630004883,
          0.06735702604055405,
          0.5014517903327942,
          -0.6704810857772827,
          1.5660808086395264,
          -1.8174329996109009,
          0.5419580340385437,
          0.5615896582603455,
          -1.5774143934249878,
          -2.202998161315918,
          -1.013720154762268,
          -0.9804973006248474,
          0.22154946625232697,
          0.562439501285553,
          -1.9599592685699463,
          0.656032383441925,
          -0.14879590272903442,
          1.4603742361068726,
          -2.0156309604644775,
          0.5013442635536194,
          -0.10025078803300858,
          0.9018709659576416,
          -1.7374249696731567,
          -0.2937577962875366,
          0.13651154935359955,
          -1.735702395439148,
          0.5138875246047974,
          1.1869324445724487,
          -0.2565864324569702,
          -1.6213911771774292,
          1.6610350608825684,
          -1.4708079099655151,
          -1.1774863004684448,
          0.2941655218601227,
          -1.6222596168518066,
          -1.5894825458526611,
          0.6836154460906982,
          -1.0740110874176025,
          -0.057564664632081985,
          -1.4912723302841187,
          0.5755434036254883,
          0.15612362325191498,
          0.9843525290489197,
          0.9768427610397339,
          -0.5234110951423645,
          1.4542791843414307,
          -0.1526854783296585,
          -0.49982431530952454,
          -1.341572880744934,
          -0.12792165577411652,
          1.294181227684021,
          1.120571255683899,
          -0.900506854057312,
          -1.3026256561279297,
          -0.3931867480278015,
          -1.251834511756897,
          -1.1640820503234863,
          0.5672034025192261,
          0.025153987109661102,
          0.19934359192848206,
          -0.16949543356895447,
          -0.9613374471664429,
          1.191710114479065,
          1.122589349746704,
          1.131553053855896,
          1.1968128681182861,
          0.05137159675359726,
          -0.8893681764602661,
          -1.1752355098724365,
          0.4500316083431244,
          0.2622131407260895,
          1.1541857719421387,
          -0.24952532351016998,
          -0.27069488167762756,
          0.1841556578874588,
          -0.49356701970100403,
          1.03094482421875,
          0.7143377065658569,
          0.8250175714492798,
          -0.23176249861717224,
          0.9421731233596802,
          -1.029413104057312,
          -0.8081961870193481,
          0.1688535362482071,
          0.13723281025886536,
          -0.20047980546951294,
          -1.0108482837677002,
          0.2249867022037506,
          -0.04514498636126518,
          -0.7083249688148499,
          0.22995415329933167,
          0.11717339605093002,
          0.9279888272285461,
          0.26078730821609497,
          -0.14317545294761658,
          0.7294012904167175,
          0.7502824068069458,
          0.9339855909347534,
          -0.7207288146018982,
          -0.31689465045928955,
          -0.20839597284793854,
          0.6327207088470459,
          -0.6241544485092163,
          -0.13490919768810272,
          0.16354209184646606,
          0.599541962146759,
          0.14369834959506989,
          -0.7026962041854858,
          0.2609589397907257,
          0.487190842628479,
          0.8934829235076904,
          -0.8906726837158203,
          0.076006680727005,
          -0.8032786846160889,
          -0.6291242837905884,
          0.2611800730228424,
          0.5920856595039368,
          -0.32406696677207947,
          0.09703242778778076,
          0.6950924396514893,
          -0.5102196931838989,
          -0.222005233168602,
          0.8150096535682678,
          0.6067954301834106,
          0.5446067452430725,
          0.5265469551086426,
          -0.5007103085517883,
          0.6686011552810669,
          -0.24537621438503265,
          0.323517769575119,
          -0.7865349650382996,
          0.2563258707523346,
          -0.7362639307975769,
          0.1695857048034668,
          0.20038248598575592,
          0.2746374309062958,
          0.6489536762237549,
          0.4084237515926361,
          -0.45172104239463806,
          0.7198478579521179,
          0.7062424421310425,
          -0.3178417980670929,
          0.6656503081321716,
          -0.7069792747497559,
          0.10077623277902603,
          -0.26936522126197815,
          0.098179891705513,
          -0.1854586899280548,
          0.5889520645141602,
          -0.15457883477210999,
          -0.6870209574699402,
          -0.3004824221134186,
          -0.6238359808921814,
          -0.656621515750885,
          -0.15188658237457275,
          -0.5833857655525208,
          -0.6288359761238098,
          -0.6008774042129517,
          0.04108657315373421,
          0.35069239139556885,
          0.6790277361869812,
          0.20999924838542938,
          0.3749932646751404,
          -0.09504661709070206,
          0.0789966955780983,
          0.6485247611999512,
          -0.2742367088794708,
          0.5409148335456848,
          0.5866796970367432,
          -0.03315833583474159,
          0.41030457615852356,
          0.625477135181427,
          -0.6142215728759766,
          -0.5989366769790649,
          0.39849740266799927,
          -0.632266640663147,
          -0.5529099702835083,
          -0.6041032075881958,
          0.18807879090309143,
          0.6228002905845642,
          0.5112594366073608,
          0.3015126883983612,
          -0.4223620593547821,
          0.6076338887214661,
          0.5994020700454712,
          0.4846867620944977,
          -0.6090458631515503,
          -0.5111470818519592,
          -0.025508172810077667
         ],
         "y": [
          159.44656372070312,
          6.282978534698486,
          18.348953247070312,
          17.577957153320312,
          2.0864977836608887,
          12.674065589904785,
          9.218749046325684,
          8.476363182067871,
          -8.10537338256836,
          7.199704170227051,
          1.3103591203689575,
          -0.09920806437730789,
          5.5031914710998535,
          -5.240540981292725,
          5.198809623718262,
          4.31136417388916,
          -0.4430564045906067,
          3.994060516357422,
          -3.8760783672332764,
          0.6523374915122986,
          0.6288594007492065,
          -3.3178672790527344,
          -3.3711793422698975,
          3.4030349254608154,
          -2.2259089946746826,
          0.4653008282184601,
          1.1638777256011963,
          -2.7764387130737305,
          2.457709789276123,
          -2.631474494934082,
          -2.5978341102600098,
          2.6047072410583496,
          -2.602644205093384,
          -2.465139865875244,
          -2.3861045837402344,
          -1.8678319454193115,
          1.495316982269287,
          -2.2360401153564453,
          -2.2311906814575195,
          -1.579705834388733,
          -0.02364630252122879,
          -1.9472461938858032,
          -1.929194450378418,
          -2.142874240875244,
          -2.0167922973632812,
          0.6608107686042786,
          -1.9615637063980103,
          2.041459560394287,
          -1.4258513450622559,
          -0.08861660212278366,
          -1.9280728101730347,
          1.9534841775894165,
          -1.7324336767196655,
          -0.8396713733673096,
          1.8587664365768433,
          -1.824000358581543,
          0.27167966961860657,
          1.6595624685287476,
          -1.2336292266845703,
          1.6876370906829834,
          -0.5116194486618042,
          0.0179959274828434,
          0.7720663547515869,
          1.1340124607086182,
          -1.6060956716537476,
          -0.17652781307697296,
          -0.35171011090278625,
          -1.4634382724761963,
          -1.1722215414047241,
          1.5301676988601685,
          0.3299787938594818,
          -1.3957586288452148,
          -1.4957804679870605,
          1.1240580081939697,
          -1.1254229545593262,
          -1.3911190032958984,
          0.1912192404270172,
          1.4490091800689697,
          1.3363434076309204,
          0.29685431718826294,
          1.3533426523208618,
          0.3616063594818115,
          -0.7327248454093933,
          -0.9828516244888306,
          -0.18308961391448975,
          -1.2481273412704468,
          0.2540023624897003,
          -0.5210896134376526,
          -1.1379599571228027,
          -1.2565842866897583,
          -1.2152034044265747,
          -1.2187390327453613,
          -0.7538775205612183,
          -0.26446789503097534,
          -0.47449395060539246,
          0.4339624345302582,
          -0.07592508941888809,
          1.1815009117126465,
          -0.7765255570411682,
          0.10239192843437195,
          1.088361144065857,
          -1.1451681852340698,
          0.05011850595474243,
          -1.125003695487976,
          -1.1120593547821045,
          1.0702089071273804,
          -0.9618059992790222,
          -0.32531803846359253,
          -0.8101174235343933,
          0.6849085092544556,
          -1.0449185371398926,
          -0.48902130126953125,
          0.24683888256549835,
          0.6836955547332764,
          -1.0420724153518677,
          1.0388263463974,
          -1.0265045166015625,
          -0.252851277589798,
          1.0144120454788208,
          -1.038081407546997,
          -0.7521864771842957,
          1.00428307056427,
          1.0167077779769897,
          -0.4005454182624817,
          -0.9755083918571472,
          0.9803224802017212,
          0.6682850122451782,
          0.6334586143493652,
          -0.30150607228279114,
          -0.6596803665161133,
          0.9118353128433228,
          -0.939568817615509,
          -0.723232626914978,
          0.7254928350448608,
          -0.9430357217788696,
          -0.9340327382087708,
          -0.7308660745620728,
          0.9269156455993652,
          -0.6087174415588379,
          0.8790763020515442,
          0.7653137445449829,
          -0.060187119990587234,
          -0.06534374505281448,
          -0.8873758912086487,
          0.3614645004272461,
          0.6130421757698059,
          0.8376683592796326,
          0.646239161491394,
          -0.8127764463424683,
          -0.8641985058784485,
          -0.5020146369934082,
          -0.6878767609596252,
          -0.8271712064743042,
          0.2567414343357086,
          -0.5988506078720093,
          -0.6508310437202454,
          -0.6567878127098083,
          0.6534653306007385,
          0.4676479399204254,
          -0.7658504843711853,
          0.7351889610290527,
          -0.15799234807491302,
          -0.7565867304801941,
          0.262736052274704,
          -0.7576191425323486,
          -0.7495564818382263,
          -0.7256461977958679,
          -0.4135666489601135,
          0.642966091632843,
          -0.6115015149116516,
          0.23840951919555664,
          -0.2734256684780121,
          0.68039870262146,
          -0.3293585181236267,
          -0.21099485456943512,
          -0.7298921346664429,
          -0.6852893233299255,
          0.7267971038818359,
          -0.6964324116706848,
          -0.40427619218826294,
          -0.6969301700592041,
          -0.18474002182483673,
          0.643237829208374,
          -0.32436618208885193,
          0.24594764411449432,
          0.6785203218460083,
          -0.3701739013195038,
          -0.28149208426475525,
          -0.32901617884635925,
          -0.6833361983299255,
          -0.585645854473114,
          -0.059625498950481415,
          0.6361568570137024,
          0.5355798602104187,
          -0.6463695168495178,
          0.6465591788291931,
          -0.022809097543358803,
          -0.5870540738105774,
          0.35672029852867126,
          -0.2738841772079468,
          0.6461223363876343,
          -0.4976949989795685,
          0.13848735392093658,
          -0.1767980009317398,
          0.22034785151481628,
          0.49409228563308716,
          0.043903522193431854,
          0.3027511537075043,
          -0.17133308947086334,
          -0.5970536470413208,
          -0.03905210271477699,
          -0.35352230072021484,
          -0.5424400568008423,
          -0.4520409405231476,
          0.09640730917453766,
          -0.1320234090089798,
          0.37175804376602173,
          0.03990119695663452,
          0.3299656808376312,
          -0.6000440120697021
         ],
         "z": [
          61.14083480834961,
          109.97122955322266,
          7.215564727783203,
          7.334517478942871,
          41.73957061767578,
          6.029707908630371,
          4.626885890960693,
          0.7752528786659241,
          -1.7806880474090576,
          3.4755589962005615,
          21.793861389160156,
          -28.59650993347168,
          0.8492100834846497,
          2.297551155090332,
          -25.997623443603516,
          1.1710225343704224,
          -16.87262535095215,
          1.1058084964752197,
          0.579244077205658,
          11.780083656311035,
          11.246148109436035,
          1.6058093309402466,
          -3.5921437740325928,
          1.0644251108169556,
          -5.177775859832764,
          10.151461601257324,
          -4.433924674987793,
          -0.6300406455993652,
          -12.82355785369873,
          4.111102104187012,
          -0.5274890065193176,
          0.7163841128349304,
          -2.716092348098755,
          -0.08269701153039932,
          1.3216403722763062,
          1.5889374017715454,
          4.069220542907715,
          0.9018344283103943,
          -0.391412615776062,
          12.039240837097168,
          7.41935396194458,
          1.781711220741272,
          -0.6524865627288818,
          0.9034466743469238,
          0.44127538800239563,
          -8.149513244628906,
          -9.174704551696777,
          -7.438782215118408,
          0.7621334195137024,
          -5.311079978942871,
          -0.04259136691689491,
          0.3027705252170563,
          1.1697030067443848,
          3.1521291732788086,
          0.38933804631233215,
          0.7855040431022644,
          -4.533698558807373,
          6.735616683959961,
          -1.1976650953292847,
          0.9826887249946594,
          2.23941969871521,
          8.422775268554688,
          4.00758171081543,
          -2.76640248298645,
          -0.09213370084762573,
          5.46195650100708,
          3.557032823562622,
          2.907904863357544,
          -1.8647947311401367,
          -4.0519700050354,
          -2.4749655723571777,
          -3.7872776985168457,
          0.1647256463766098,
          7.093734264373779,
          -1.8194559812545776,
          3.5032808780670166,
          1.9343677759170532,
          -6.501946926116943,
          -1.7751282453536987,
          0.06405314058065414,
          0.3165855407714844,
          -2.325961112976074,
          -0.8704293966293335,
          1.9542534351348877,
          2.2462801933288574,
          -0.5211724638938904,
          0.17439444363117218,
          -0.292392373085022,
          6.843387603759766,
          -3.438567876815796,
          -0.18422462046146393,
          -0.2947443127632141,
          1.0910518169403076,
          0.7317593097686768,
          0.6701875925064087,
          6.2685227394104,
          -0.470370888710022,
          -0.5842012166976929,
          4.931369781494141,
          5.067688941955566,
          -2.963700771331787,
          -0.3169282078742981,
          -0.04669191688299179,
          2.5178756713867188,
          1.2257362604141235,
          3.525172710418701,
          5.625130653381348,
          -0.043692268431186676,
          -0.46555960178375244,
          -0.6100335121154785,
          0.23787593841552734,
          -1.4802660942077637,
          3.188589334487915,
          -3.0724215507507324,
          -0.509441614151001,
          0.4855785071849823,
          -0.7738745212554932,
          2.76883864402771,
          -1.3635772466659546,
          0.5195189714431763,
          2.7742621898651123,
          -2.7577595710754395,
          -0.02455144189298153,
          1.1486034393310547,
          3.9149115085601807,
          4.656937122344971,
          1.0383261442184448,
          0.06843826919794083,
          0.8771471977233887,
          0.39529815316200256,
          3.5153379440307617,
          -0.6704369783401489,
          2.177493095397949,
          0.7719159126281738,
          0.7281505465507507,
          -1.3414580821990967,
          0.5035542249679565,
          0.6679949760437012,
          -4.8761444091796875,
          -1.0225145816802979,
          -0.7311757206916809,
          -2.1196882724761963,
          2.656973361968994,
          0.518234372138977,
          -3.136991262435913,
          0.7593696117401123,
          0.9752068519592285,
          0.8128414154052734,
          -0.44922420382499695,
          -0.8105602860450745,
          0.27320539951324463,
          -0.5448623895645142,
          -3.463963508605957,
          -2.059335470199585,
          -0.12764528393745422,
          0.19211140275001526,
          -1.0394827127456665,
          1.0856672525405884,
          -3.655606508255005,
          -2.9078667163848877,
          1.1831400394439697,
          1.6322163343429565,
          -0.4802280366420746,
          2.275926351547241,
          0.747655987739563,
          -2.2988317012786865,
          0.2613760828971863,
          0.8071561455726624,
          1.343957543373108,
          -0.2024041712284088,
          -3.438488483428955,
          -0.07272830605506897,
          3.9545109272003174,
          0.6813639402389526,
          2.0802032947540283,
          -1.0636945962905884,
          0.9556541442871094,
          0.43755465745925903,
          2.1485953330993652,
          0.9282801747322083,
          -0.7442314624786377,
          2.0626821517944336,
          2.0584352016448975,
          -0.9227214455604553,
          -1.612755537033081,
          0.2215515375137329,
          -0.030013658106327057,
          2.889232635498047,
          -0.8279802203178406,
          -0.6055589914321899,
          -0.6357957124710083,
          2.1857616901397705,
          0.47749122977256775,
          -2.2516560554504395,
          0.04561474174261093,
          0.3451731503009796,
          0.8003113269805908,
          -2.0692408084869385,
          -0.4425398111343384,
          2.074037551879883,
          -0.028124365955591202,
          0.07948871701955795,
          1.1533164978027344,
          2.7074100971221924,
          -0.5179486870765686,
          -1.3112627267837524,
          -0.766014575958252,
          -0.8960452079772949,
          -2.3523616790771484,
          -1.014356017112732,
          -1.289072036743164,
          -2.8241827487945557,
          -0.1766979694366455,
          -1.7120229005813599,
          0.5458309650421143,
          -2.1791656017303467,
          0.9932394623756409,
          1.1185901165008545,
          1.3052642345428467,
          0.11618176102638245
         ],
         "type": "scatter3d"
        }
       ],
       "layout": {
        "template": {
         "data": {
          "barpolar": [
           {
            "marker": {
             "line": {
              "color": "rgb(17,17,17)",
              "width": 0.5
             },
             "pattern": {
              "fillmode": "overlay",
              "size": 10,
              "solidity": 0.2
             }
            },
            "type": "barpolar"
           }
          ],
          "bar": [
           {
            "error_x": {
             "color": "#f2f5fa"
            },
            "error_y": {
             "color": "#f2f5fa"
            },
            "marker": {
             "line": {
              "color": "rgb(17,17,17)",
              "width": 0.5
             },
             "pattern": {
              "fillmode": "overlay",
              "size": 10,
              "solidity": 0.2
             }
            },
            "type": "bar"
           }
          ],
          "carpet": [
           {
            "aaxis": {
             "endlinecolor": "#A2B1C6",
             "gridcolor": "#506784",
             "linecolor": "#506784",
             "minorgridcolor": "#506784",
             "startlinecolor": "#A2B1C6"
            },
            "baxis": {
             "endlinecolor": "#A2B1C6",
             "gridcolor": "#506784",
             "linecolor": "#506784",
             "minorgridcolor": "#506784",
             "startlinecolor": "#A2B1C6"
            },
            "type": "carpet"
           }
          ],
          "choropleth": [
           {
            "colorbar": {
             "outlinewidth": 0,
             "ticks": ""
            },
            "type": "choropleth"
           }
          ],
          "contourcarpet": [
           {
            "colorbar": {
             "outlinewidth": 0,
             "ticks": ""
            },
            "type": "contourcarpet"
           }
          ],
          "contour": [
           {
            "colorbar": {
             "outlinewidth": 0,
             "ticks": ""
            },
            "colorscale": [
             [
              0.0,
              "#0d0887"
             ],
             [
              0.1111111111111111,
              "#46039f"
             ],
             [
              0.2222222222222222,
              "#7201a8"
             ],
             [
              0.3333333333333333,
              "#9c179e"
             ],
             [
              0.4444444444444444,
              "#bd3786"
             ],
             [
              0.5555555555555556,
              "#d8576b"
             ],
             [
              0.6666666666666666,
              "#ed7953"
             ],
             [
              0.7777777777777778,
              "#fb9f3a"
             ],
             [
              0.8888888888888888,
              "#fdca26"
             ],
             [
              1.0,
              "#f0f921"
             ]
            ],
            "type": "contour"
           }
          ],
          "heatmapgl": [
           {
            "colorbar": {
             "outlinewidth": 0,
             "ticks": ""
            },
            "colorscale": [
             [
              0.0,
              "#0d0887"
             ],
             [
              0.1111111111111111,
              "#46039f"
             ],
             [
              0.2222222222222222,
              "#7201a8"
             ],
             [
              0.3333333333333333,
              "#9c179e"
             ],
             [
              0.4444444444444444,
              "#bd3786"
             ],
             [
              0.5555555555555556,
              "#d8576b"
             ],
             [
              0.6666666666666666,
              "#ed7953"
             ],
             [
              0.7777777777777778,
              "#fb9f3a"
             ],
             [
              0.8888888888888888,
              "#fdca26"
             ],
             [
              1.0,
              "#f0f921"
             ]
            ],
            "type": "heatmapgl"
           }
          ],
          "heatmap": [
           {
            "colorbar": {
             "outlinewidth": 0,
             "ticks": ""
            },
            "colorscale": [
             [
              0.0,
              "#0d0887"
             ],
             [
              0.1111111111111111,
              "#46039f"
             ],
             [
              0.2222222222222222,
              "#7201a8"
             ],
             [
              0.3333333333333333,
              "#9c179e"
             ],
             [
              0.4444444444444444,
              "#bd3786"
             ],
             [
              0.5555555555555556,
              "#d8576b"
             ],
             [
              0.6666666666666666,
              "#ed7953"
             ],
             [
              0.7777777777777778,
              "#fb9f3a"
             ],
             [
              0.8888888888888888,
              "#fdca26"
             ],
             [
              1.0,
              "#f0f921"
             ]
            ],
            "type": "heatmap"
           }
          ],
          "histogram2dcontour": [
           {
            "colorbar": {
             "outlinewidth": 0,
             "ticks": ""
            },
            "colorscale": [
             [
              0.0,
              "#0d0887"
             ],
             [
              0.1111111111111111,
              "#46039f"
             ],
             [
              0.2222222222222222,
              "#7201a8"
             ],
             [
              0.3333333333333333,
              "#9c179e"
             ],
             [
              0.4444444444444444,
              "#bd3786"
             ],
             [
              0.5555555555555556,
              "#d8576b"
             ],
             [
              0.6666666666666666,
              "#ed7953"
             ],
             [
              0.7777777777777778,
              "#fb9f3a"
             ],
             [
              0.8888888888888888,
              "#fdca26"
             ],
             [
              1.0,
              "#f0f921"
             ]
            ],
            "type": "histogram2dcontour"
           }
          ],
          "histogram2d": [
           {
            "colorbar": {
             "outlinewidth": 0,
             "ticks": ""
            },
            "colorscale": [
             [
              0.0,
              "#0d0887"
             ],
             [
              0.1111111111111111,
              "#46039f"
             ],
             [
              0.2222222222222222,
              "#7201a8"
             ],
             [
              0.3333333333333333,
              "#9c179e"
             ],
             [
              0.4444444444444444,
              "#bd3786"
             ],
             [
              0.5555555555555556,
              "#d8576b"
             ],
             [
              0.6666666666666666,
              "#ed7953"
             ],
             [
              0.7777777777777778,
              "#fb9f3a"
             ],
             [
              0.8888888888888888,
              "#fdca26"
             ],
             [
              1.0,
              "#f0f921"
             ]
            ],
            "type": "histogram2d"
           }
          ],
          "histogram": [
           {
            "marker": {
             "pattern": {
              "fillmode": "overlay",
              "size": 10,
              "solidity": 0.2
             }
            },
            "type": "histogram"
           }
          ],
          "mesh3d": [
           {
            "colorbar": {
             "outlinewidth": 0,
             "ticks": ""
            },
            "type": "mesh3d"
           }
          ],
          "parcoords": [
           {
            "line": {
             "colorbar": {
              "outlinewidth": 0,
              "ticks": ""
             }
            },
            "type": "parcoords"
           }
          ],
          "pie": [
           {
            "automargin": true,
            "type": "pie"
           }
          ],
          "scatter3d": [
           {
            "line": {
             "colorbar": {
              "outlinewidth": 0,
              "ticks": ""
             }
            },
            "marker": {
             "colorbar": {
              "outlinewidth": 0,
              "ticks": ""
             }
            },
            "type": "scatter3d"
           }
          ],
          "scattercarpet": [
           {
            "marker": {
             "colorbar": {
              "outlinewidth": 0,
              "ticks": ""
             }
            },
            "type": "scattercarpet"
           }
          ],
          "scattergeo": [
           {
            "marker": {
             "colorbar": {
              "outlinewidth": 0,
              "ticks": ""
             }
            },
            "type": "scattergeo"
           }
          ],
          "scattergl": [
           {
            "marker": {
             "line": {
              "color": "#283442"
             }
            },
            "type": "scattergl"
           }
          ],
          "scattermapbox": [
           {
            "marker": {
             "colorbar": {
              "outlinewidth": 0,
              "ticks": ""
             }
            },
            "type": "scattermapbox"
           }
          ],
          "scatterpolargl": [
           {
            "marker": {
             "colorbar": {
              "outlinewidth": 0,
              "ticks": ""
             }
            },
            "type": "scatterpolargl"
           }
          ],
          "scatterpolar": [
           {
            "marker": {
             "colorbar": {
              "outlinewidth": 0,
              "ticks": ""
             }
            },
            "type": "scatterpolar"
           }
          ],
          "scatter": [
           {
            "marker": {
             "line": {
              "color": "#283442"
             }
            },
            "type": "scatter"
           }
          ],
          "scatterternary": [
           {
            "marker": {
             "colorbar": {
              "outlinewidth": 0,
              "ticks": ""
             }
            },
            "type": "scatterternary"
           }
          ],
          "surface": [
           {
            "colorbar": {
             "outlinewidth": 0,
             "ticks": ""
            },
            "colorscale": [
             [
              0.0,
              "#0d0887"
             ],
             [
              0.1111111111111111,
              "#46039f"
             ],
             [
              0.2222222222222222,
              "#7201a8"
             ],
             [
              0.3333333333333333,
              "#9c179e"
             ],
             [
              0.4444444444444444,
              "#bd3786"
             ],
             [
              0.5555555555555556,
              "#d8576b"
             ],
             [
              0.6666666666666666,
              "#ed7953"
             ],
             [
              0.7777777777777778,
              "#fb9f3a"
             ],
             [
              0.8888888888888888,
              "#fdca26"
             ],
             [
              1.0,
              "#f0f921"
             ]
            ],
            "type": "surface"
           }
          ],
          "table": [
           {
            "cells": {
             "fill": {
              "color": "#506784"
             },
             "line": {
              "color": "rgb(17,17,17)"
             }
            },
            "header": {
             "fill": {
              "color": "#2a3f5f"
             },
             "line": {
              "color": "rgb(17,17,17)"
             }
            },
            "type": "table"
           }
          ]
         },
         "layout": {
          "annotationdefaults": {
           "arrowcolor": "#f2f5fa",
           "arrowhead": 0,
           "arrowwidth": 1
          },
          "autotypenumbers": "strict",
          "coloraxis": {
           "colorbar": {
            "outlinewidth": 0,
            "ticks": ""
           }
          },
          "colorscale": {
           "diverging": [
            [
             0,
             "#8e0152"
            ],
            [
             0.1,
             "#c51b7d"
            ],
            [
             0.2,
             "#de77ae"
            ],
            [
             0.3,
             "#f1b6da"
            ],
            [
             0.4,
             "#fde0ef"
            ],
            [
             0.5,
             "#f7f7f7"
            ],
            [
             0.6,
             "#e6f5d0"
            ],
            [
             0.7,
             "#b8e186"
            ],
            [
             0.8,
             "#7fbc41"
            ],
            [
             0.9,
             "#4d9221"
            ],
            [
             1,
             "#276419"
            ]
           ],
           "sequential": [
            [
             0.0,
             "#0d0887"
            ],
            [
             0.1111111111111111,
             "#46039f"
            ],
            [
             0.2222222222222222,
             "#7201a8"
            ],
            [
             0.3333333333333333,
             "#9c179e"
            ],
            [
             0.4444444444444444,
             "#bd3786"
            ],
            [
             0.5555555555555556,
             "#d8576b"
            ],
            [
             0.6666666666666666,
             "#ed7953"
            ],
            [
             0.7777777777777778,
             "#fb9f3a"
            ],
            [
             0.8888888888888888,
             "#fdca26"
            ],
            [
             1.0,
             "#f0f921"
            ]
           ],
           "sequentialminus": [
            [
             0.0,
             "#0d0887"
            ],
            [
             0.1111111111111111,
             "#46039f"
            ],
            [
             0.2222222222222222,
             "#7201a8"
            ],
            [
             0.3333333333333333,
             "#9c179e"
            ],
            [
             0.4444444444444444,
             "#bd3786"
            ],
            [
             0.5555555555555556,
             "#d8576b"
            ],
            [
             0.6666666666666666,
             "#ed7953"
            ],
            [
             0.7777777777777778,
             "#fb9f3a"
            ],
            [
             0.8888888888888888,
             "#fdca26"
            ],
            [
             1.0,
             "#f0f921"
            ]
           ]
          },
          "colorway": [
           "#636efa",
           "#EF553B",
           "#00cc96",
           "#ab63fa",
           "#FFA15A",
           "#19d3f3",
           "#FF6692",
           "#B6E880",
           "#FF97FF",
           "#FECB52"
          ],
          "font": {
           "color": "#f2f5fa"
          },
          "geo": {
           "bgcolor": "rgb(17,17,17)",
           "lakecolor": "rgb(17,17,17)",
           "landcolor": "rgb(17,17,17)",
           "showlakes": true,
           "showland": true,
           "subunitcolor": "#506784"
          },
          "hoverlabel": {
           "align": "left"
          },
          "hovermode": "closest",
          "mapbox": {
           "style": "dark"
          },
          "paper_bgcolor": "rgb(17,17,17)",
          "plot_bgcolor": "rgb(17,17,17)",
          "polar": {
           "angularaxis": {
            "gridcolor": "#506784",
            "linecolor": "#506784",
            "ticks": ""
           },
           "bgcolor": "rgb(17,17,17)",
           "radialaxis": {
            "gridcolor": "#506784",
            "linecolor": "#506784",
            "ticks": ""
           }
          },
          "scene": {
           "xaxis": {
            "backgroundcolor": "rgb(17,17,17)",
            "gridcolor": "#506784",
            "gridwidth": 2,
            "linecolor": "#506784",
            "showbackground": true,
            "ticks": "",
            "zerolinecolor": "#C8D4E3"
           },
           "yaxis": {
            "backgroundcolor": "rgb(17,17,17)",
            "gridcolor": "#506784",
            "gridwidth": 2,
            "linecolor": "#506784",
            "showbackground": true,
            "ticks": "",
            "zerolinecolor": "#C8D4E3"
           },
           "zaxis": {
            "backgroundcolor": "rgb(17,17,17)",
            "gridcolor": "#506784",
            "gridwidth": 2,
            "linecolor": "#506784",
            "showbackground": true,
            "ticks": "",
            "zerolinecolor": "#C8D4E3"
           }
          },
          "shapedefaults": {
           "line": {
            "color": "#f2f5fa"
           }
          },
          "sliderdefaults": {
           "bgcolor": "#C8D4E3",
           "bordercolor": "rgb(17,17,17)",
           "borderwidth": 1,
           "tickwidth": 0
          },
          "ternary": {
           "aaxis": {
            "gridcolor": "#506784",
            "linecolor": "#506784",
            "ticks": ""
           },
           "baxis": {
            "gridcolor": "#506784",
            "linecolor": "#506784",
            "ticks": ""
           },
           "bgcolor": "rgb(17,17,17)",
           "caxis": {
            "gridcolor": "#506784",
            "linecolor": "#506784",
            "ticks": ""
           }
          },
          "title": {
           "x": 0.05
          },
          "updatemenudefaults": {
           "bgcolor": "#506784",
           "borderwidth": 0
          },
          "xaxis": {
           "automargin": true,
           "gridcolor": "#283442",
           "linecolor": "#506784",
           "ticks": "",
           "title": {
            "standoff": 15
           },
           "zerolinecolor": "#283442",
           "zerolinewidth": 2
          },
          "yaxis": {
           "automargin": true,
           "gridcolor": "#283442",
           "linecolor": "#506784",
           "ticks": "",
           "title": {
            "standoff": 15
           },
           "zerolinecolor": "#283442",
           "zerolinewidth": 2
          }
         }
        },
        "scene": {
         "domain": {
          "x": [
           0.0,
           1.0
          ],
          "y": [
           0.0,
           1.0
          ]
         },
         "xaxis": {
          "title": {
           "text": "X"
          }
         },
         "yaxis": {
          "title": {
           "text": "Y"
          }
         },
         "zaxis": {
          "title": {
           "text": "Z"
          }
         }
        },
        "coloraxis": {
         "colorbar": {
          "title": {
           "text": "tIdx"
          }
         },
         "colorscale": [
          [
           0.0,
           "rgb(150,0,90)"
          ],
          [
           0.125,
           "rgb(0,0,200)"
          ],
          [
           0.25,
           "rgb(0,25,255)"
          ],
          [
           0.375,
           "rgb(0,152,255)"
          ],
          [
           0.5,
           "rgb(44,255,150)"
          ],
          [
           0.625,
           "rgb(151,255,0)"
          ],
          [
           0.75,
           "rgb(255,234,0)"
          ],
          [
           0.875,
           "rgb(255,111,0)"
          ],
          [
           1.0,
           "rgb(255,0,0)"
          ]
         ]
        },
        "legend": {
         "tracegroupgap": 0,
         "itemsizing": "constant"
        },
        "margin": {
         "t": 60
        }
       },
       "config": {
        "plotlyServerURL": "https://plot.ly"
       }
      },
      "text/html": [
       "<div>                            <div id=\"48954e1e-ca83-4a33-a675-6bdbf729140d\" class=\"plotly-graph-div\" style=\"height:525px; width:100%;\"></div>            <script type=\"text/javascript\">                require([\"plotly\"], function(Plotly) {                    window.PLOTLYENV=window.PLOTLYENV || {};                                    if (document.getElementById(\"48954e1e-ca83-4a33-a675-6bdbf729140d\")) {                    Plotly.newPlot(                        \"48954e1e-ca83-4a33-a675-6bdbf729140d\",                        [{\"hovertemplate\":\"X=%{x}\\u003cbr\\u003eY=%{y}\\u003cbr\\u003eZ=%{z}\\u003cbr\\u003ept=%{marker.size}\\u003cbr\\u003etIdx=%{marker.color}\\u003cextra\\u003e\\u003c\\u002fextra\\u003e\",\"legendgroup\":\"\",\"marker\":{\"color\":[1.0,-1.0,1.0,1.0,-1.0,1.0,1.0,1.0,0.0,1.0,-1.0,-1.0,1.0,0.0,-1.0,1.0,-1.0,1.0,0.0,-1.0,-1.0,-1.0,-1.0,1.0,-1.0,-1.0,-1.0,0.0,-1.0,-1.0,0.0,1.0,0.0,0.0,-1.0,-1.0,-1.0,0.0,0.0,-1.0,-1.0,-1.0,0.0,0.0,0.0,-1.0,-1.0,-1.0,0.0,-1.0,0.0,1.0,0.0,-1.0,1.0,0.0,-1.0,-1.0,0.0,1.0,-1.0,-1.0,-1.0,-1.0,0.0,-1.0,-1.0,-1.0,-1.0,-1.0,-1.0,-1.0,0.0,-1.0,-1.0,-1.0,-1.0,-1.0,-1.0,-1.0,1.0,-1.0,-1.0,-1.0,-1.0,0.0,-1.0,-1.0,-1.0,-1.0,0.0,0.0,-1.0,-1.0,-1.0,-1.0,-1.0,-1.0,-1.0,-1.0,-1.0,0.0,-1.0,-1.0,-1.0,-1.0,-1.0,-1.0,0.0,-1.0,0.0,-1.0,-1.0,-1.0,0.0,1.0,0.0,-1.0,-1.0,0.0,-1.0,-1.0,1.0,-1.0,-1.0,-1.0,-1.0,-1.0,-1.0,-1.0,-1.0,0.0,-1.0,1.0,-1.0,-1.0,0.0,1.0,-1.0,-1.0,-1.0,-1.0,-1.0,0.0,-1.0,-1.0,1.0,-1.0,0.0,0.0,-1.0,-1.0,-1.0,-1.0,0.0,0.0,-1.0,-1.0,-1.0,-1.0,-1.0,-1.0,0.0,-1.0,-1.0,-1.0,0.0,-1.0,-1.0,-1.0,-1.0,-1.0,-1.0,-1.0,-1.0,-1.0,-1.0,1.0,-1.0,-1.0,-1.0,-1.0,-1.0,-1.0,-1.0,1.0,-1.0,-1.0,-1.0,0.0,0.0,-1.0,1.0,-1.0,0.0,1.0,-1.0,-1.0,-1.0,-1.0,1.0,0.0,-1.0,-1.0,-1.0,-1.0,-1.0,-1.0,-1.0,-1.0,-1.0,-1.0,0.0,-1.0,-1.0,-1.0,-1.0,-1.0,-1.0,0.0],\"coloraxis\":\"coloraxis\",\"size\":[159.5,34.96875,18.359375,17.578125,13.1640625,12.6796875,9.21875,8.484375,8.234375,7.23046875,7.06640625,6.51171875,5.50390625,5.36328125,5.26171875,4.3125,4.0234375,3.994140625,3.884765625,3.669921875,3.5,3.44921875,3.431640625,3.40625,3.228515625,3.0859375,3.03515625,2.84765625,2.72265625,2.70703125,2.6484375,2.630859375,2.603515625,2.515625,2.478515625,2.4375,2.353515625,2.30078125,2.30078125,2.232421875,2.203125,2.1953125,2.1640625,2.154296875,2.09375,2.068359375,2.068359375,2.046875,2.041015625,2.017578125,1.9921875,1.9560546875,1.953125,1.9296875,1.8818359375,1.8291015625,1.7568359375,1.7373046875,1.7119140625,1.70703125,1.7001953125,1.6611328125,1.6611328125,1.634765625,1.6328125,1.6318359375,1.6279296875,1.615234375,1.58984375,1.53125,1.52734375,1.509765625,1.50390625,1.494140625,1.490234375,1.486328125,1.466796875,1.45703125,1.4267578125,1.3740234375,1.359375,1.34375,1.3388671875,1.3330078125,1.3154296875,1.30859375,1.27734375,1.275390625,1.271484375,1.2568359375,1.2314453125,1.23046875,1.2216796875,1.220703125,1.21875,1.2119140625,1.19921875,1.1826171875,1.1806640625,1.1796875,1.177734375,1.1748046875,1.1552734375,1.15234375,1.14453125,1.0859375,1.0810546875,1.0810546875,1.080078125,1.072265625,1.0703125,1.0615234375,1.05859375,1.05859375,1.0556640625,1.0478515625,1.0458984375,1.0419921875,1.0390625,1.0390625,1.033203125,1.0302734375,1.0234375,1.0107421875,1.009765625,0.99072265625,0.9892578125,0.98193359375,0.9814453125,0.97705078125,0.96533203125,0.96240234375,0.9609375,0.95703125,0.95263671875,0.9482421875,0.9453125,0.93798828125,0.9296875,0.9169921875,0.9072265625,0.8955078125,0.89306640625,0.890625,0.880859375,0.87841796875,0.87744140625,0.87646484375,0.875,0.86962890625,0.857421875,0.8564453125,0.8564453125,0.8544921875,0.8525390625,0.8486328125,0.841796875,0.8232421875,0.81591796875,0.80419921875,0.80322265625,0.80224609375,0.798828125,0.78173828125,0.7763671875,0.77587890625,0.77587890625,0.76953125,0.76171875,0.76025390625,0.75830078125,0.75732421875,0.7509765625,0.74267578125,0.73779296875,0.73681640625,0.736328125,0.7333984375,0.720703125,0.71435546875,0.7138671875,0.71142578125,0.7099609375,0.703125,0.701171875,0.6953125,0.69091796875,0.68896484375,0.68505859375,0.6845703125,0.6826171875,0.681640625,0.669921875,0.65380859375,0.6533203125,0.6513671875,0.64892578125,0.64794921875,0.64794921875,0.6474609375,0.64697265625,0.64501953125,0.640625,0.63916015625,0.63818359375,0.634765625,0.6337890625,0.63037109375,0.6279296875,0.6259765625,0.6240234375,0.62158203125,0.62060546875,0.61865234375,0.615234375,0.61376953125,0.61083984375,0.6103515625,0.6083984375,0.6005859375],\"sizemode\":\"area\",\"sizeref\":0.39875,\"symbol\":\"circle\",\"line\":{\"width\":0}},\"mode\":\"markers\",\"name\":\"\",\"scene\":\"scene\",\"showlegend\":false,\"x\":[-4.12793493270874,-34.39967727661133,-0.6185178756713867,-0.07732567191123962,-12.99765682220459,0.37755414843559265,-0.004542407114058733,-0.3686274290084839,1.4518446922302246,0.6662861704826355,-6.943850040435791,6.510962963104248,-0.08870667219161987,1.1408414840698242,-0.8112109303474426,-0.09897902607917786,-3.9989686012268066,0.02533547207713127,0.2596585750579834,-3.6114792823791504,-3.4430415630340576,-0.9427974224090576,-0.6413302421569824,0.1479637771844864,-2.338512659072876,-3.050656795501709,-2.8031342029571533,0.6328779458999634,1.1715459823608398,-0.6351057887077332,0.5152474641799927,-0.37002992630004883,0.06735702604055405,0.5014517903327942,-0.6704810857772827,1.5660808086395264,-1.8174329996109009,0.5419580340385437,0.5615896582603455,-1.5774143934249878,-2.202998161315918,-1.013720154762268,-0.9804973006248474,0.22154946625232697,0.562439501285553,-1.9599592685699463,0.656032383441925,-0.14879590272903442,1.4603742361068726,-2.0156309604644775,0.5013442635536194,-0.10025078803300858,0.9018709659576416,-1.7374249696731567,-0.2937577962875366,0.13651154935359955,-1.735702395439148,0.5138875246047974,1.1869324445724487,-0.2565864324569702,-1.6213911771774292,1.6610350608825684,-1.4708079099655151,-1.1774863004684448,0.2941655218601227,-1.6222596168518066,-1.5894825458526611,0.6836154460906982,-1.0740110874176025,-0.057564664632081985,-1.4912723302841187,0.5755434036254883,0.15612362325191498,0.9843525290489197,0.9768427610397339,-0.5234110951423645,1.4542791843414307,-0.1526854783296585,-0.49982431530952454,-1.341572880744934,-0.12792165577411652,1.294181227684021,1.120571255683899,-0.900506854057312,-1.3026256561279297,-0.3931867480278015,-1.251834511756897,-1.1640820503234863,0.5672034025192261,0.025153987109661102,0.19934359192848206,-0.16949543356895447,-0.9613374471664429,1.191710114479065,1.122589349746704,1.131553053855896,1.1968128681182861,0.05137159675359726,-0.8893681764602661,-1.1752355098724365,0.4500316083431244,0.2622131407260895,1.1541857719421387,-0.24952532351016998,-0.27069488167762756,0.1841556578874588,-0.49356701970100403,1.03094482421875,0.7143377065658569,0.8250175714492798,-0.23176249861717224,0.9421731233596802,-1.029413104057312,-0.8081961870193481,0.1688535362482071,0.13723281025886536,-0.20047980546951294,-1.0108482837677002,0.2249867022037506,-0.04514498636126518,-0.7083249688148499,0.22995415329933167,0.11717339605093002,0.9279888272285461,0.26078730821609497,-0.14317545294761658,0.7294012904167175,0.7502824068069458,0.9339855909347534,-0.7207288146018982,-0.31689465045928955,-0.20839597284793854,0.6327207088470459,-0.6241544485092163,-0.13490919768810272,0.16354209184646606,0.599541962146759,0.14369834959506989,-0.7026962041854858,0.2609589397907257,0.487190842628479,0.8934829235076904,-0.8906726837158203,0.076006680727005,-0.8032786846160889,-0.6291242837905884,0.2611800730228424,0.5920856595039368,-0.32406696677207947,0.09703242778778076,0.6950924396514893,-0.5102196931838989,-0.222005233168602,0.8150096535682678,0.6067954301834106,0.5446067452430725,0.5265469551086426,-0.5007103085517883,0.6686011552810669,-0.24537621438503265,0.323517769575119,-0.7865349650382996,0.2563258707523346,-0.7362639307975769,0.1695857048034668,0.20038248598575592,0.2746374309062958,0.6489536762237549,0.4084237515926361,-0.45172104239463806,0.7198478579521179,0.7062424421310425,-0.3178417980670929,0.6656503081321716,-0.7069792747497559,0.10077623277902603,-0.26936522126197815,0.098179891705513,-0.1854586899280548,0.5889520645141602,-0.15457883477210999,-0.6870209574699402,-0.3004824221134186,-0.6238359808921814,-0.656621515750885,-0.15188658237457275,-0.5833857655525208,-0.6288359761238098,-0.6008774042129517,0.04108657315373421,0.35069239139556885,0.6790277361869812,0.20999924838542938,0.3749932646751404,-0.09504661709070206,0.0789966955780983,0.6485247611999512,-0.2742367088794708,0.5409148335456848,0.5866796970367432,-0.03315833583474159,0.41030457615852356,0.625477135181427,-0.6142215728759766,-0.5989366769790649,0.39849740266799927,-0.632266640663147,-0.5529099702835083,-0.6041032075881958,0.18807879090309143,0.6228002905845642,0.5112594366073608,0.3015126883983612,-0.4223620593547821,0.6076338887214661,0.5994020700454712,0.4846867620944977,-0.6090458631515503,-0.5111470818519592,-0.025508172810077667],\"y\":[159.44656372070312,6.282978534698486,18.348953247070312,17.577957153320312,2.0864977836608887,12.674065589904785,9.218749046325684,8.476363182067871,-8.10537338256836,7.199704170227051,1.3103591203689575,-0.09920806437730789,5.5031914710998535,-5.240540981292725,5.198809623718262,4.31136417388916,-0.4430564045906067,3.994060516357422,-3.8760783672332764,0.6523374915122986,0.6288594007492065,-3.3178672790527344,-3.3711793422698975,3.4030349254608154,-2.2259089946746826,0.4653008282184601,1.1638777256011963,-2.7764387130737305,2.457709789276123,-2.631474494934082,-2.5978341102600098,2.6047072410583496,-2.602644205093384,-2.465139865875244,-2.3861045837402344,-1.8678319454193115,1.495316982269287,-2.2360401153564453,-2.2311906814575195,-1.579705834388733,-0.02364630252122879,-1.9472461938858032,-1.929194450378418,-2.142874240875244,-2.0167922973632812,0.6608107686042786,-1.9615637063980103,2.041459560394287,-1.4258513450622559,-0.08861660212278366,-1.9280728101730347,1.9534841775894165,-1.7324336767196655,-0.8396713733673096,1.8587664365768433,-1.824000358581543,0.27167966961860657,1.6595624685287476,-1.2336292266845703,1.6876370906829834,-0.5116194486618042,0.0179959274828434,0.7720663547515869,1.1340124607086182,-1.6060956716537476,-0.17652781307697296,-0.35171011090278625,-1.4634382724761963,-1.1722215414047241,1.5301676988601685,0.3299787938594818,-1.3957586288452148,-1.4957804679870605,1.1240580081939697,-1.1254229545593262,-1.3911190032958984,0.1912192404270172,1.4490091800689697,1.3363434076309204,0.29685431718826294,1.3533426523208618,0.3616063594818115,-0.7327248454093933,-0.9828516244888306,-0.18308961391448975,-1.2481273412704468,0.2540023624897003,-0.5210896134376526,-1.1379599571228027,-1.2565842866897583,-1.2152034044265747,-1.2187390327453613,-0.7538775205612183,-0.26446789503097534,-0.47449395060539246,0.4339624345302582,-0.07592508941888809,1.1815009117126465,-0.7765255570411682,0.10239192843437195,1.088361144065857,-1.1451681852340698,0.05011850595474243,-1.125003695487976,-1.1120593547821045,1.0702089071273804,-0.9618059992790222,-0.32531803846359253,-0.8101174235343933,0.6849085092544556,-1.0449185371398926,-0.48902130126953125,0.24683888256549835,0.6836955547332764,-1.0420724153518677,1.0388263463974,-1.0265045166015625,-0.252851277589798,1.0144120454788208,-1.038081407546997,-0.7521864771842957,1.00428307056427,1.0167077779769897,-0.4005454182624817,-0.9755083918571472,0.9803224802017212,0.6682850122451782,0.6334586143493652,-0.30150607228279114,-0.6596803665161133,0.9118353128433228,-0.939568817615509,-0.723232626914978,0.7254928350448608,-0.9430357217788696,-0.9340327382087708,-0.7308660745620728,0.9269156455993652,-0.6087174415588379,0.8790763020515442,0.7653137445449829,-0.060187119990587234,-0.06534374505281448,-0.8873758912086487,0.3614645004272461,0.6130421757698059,0.8376683592796326,0.646239161491394,-0.8127764463424683,-0.8641985058784485,-0.5020146369934082,-0.6878767609596252,-0.8271712064743042,0.2567414343357086,-0.5988506078720093,-0.6508310437202454,-0.6567878127098083,0.6534653306007385,0.4676479399204254,-0.7658504843711853,0.7351889610290527,-0.15799234807491302,-0.7565867304801941,0.262736052274704,-0.7576191425323486,-0.7495564818382263,-0.7256461977958679,-0.4135666489601135,0.642966091632843,-0.6115015149116516,0.23840951919555664,-0.2734256684780121,0.68039870262146,-0.3293585181236267,-0.21099485456943512,-0.7298921346664429,-0.6852893233299255,0.7267971038818359,-0.6964324116706848,-0.40427619218826294,-0.6969301700592041,-0.18474002182483673,0.643237829208374,-0.32436618208885193,0.24594764411449432,0.6785203218460083,-0.3701739013195038,-0.28149208426475525,-0.32901617884635925,-0.6833361983299255,-0.585645854473114,-0.059625498950481415,0.6361568570137024,0.5355798602104187,-0.6463695168495178,0.6465591788291931,-0.022809097543358803,-0.5870540738105774,0.35672029852867126,-0.2738841772079468,0.6461223363876343,-0.4976949989795685,0.13848735392093658,-0.1767980009317398,0.22034785151481628,0.49409228563308716,0.043903522193431854,0.3027511537075043,-0.17133308947086334,-0.5970536470413208,-0.03905210271477699,-0.35352230072021484,-0.5424400568008423,-0.4520409405231476,0.09640730917453766,-0.1320234090089798,0.37175804376602173,0.03990119695663452,0.3299656808376312,-0.6000440120697021],\"z\":[61.14083480834961,109.97122955322266,7.215564727783203,7.334517478942871,41.73957061767578,6.029707908630371,4.626885890960693,0.7752528786659241,-1.7806880474090576,3.4755589962005615,21.793861389160156,-28.59650993347168,0.8492100834846497,2.297551155090332,-25.997623443603516,1.1710225343704224,-16.87262535095215,1.1058084964752197,0.579244077205658,11.780083656311035,11.246148109436035,1.6058093309402466,-3.5921437740325928,1.0644251108169556,-5.177775859832764,10.151461601257324,-4.433924674987793,-0.6300406455993652,-12.82355785369873,4.111102104187012,-0.5274890065193176,0.7163841128349304,-2.716092348098755,-0.08269701153039932,1.3216403722763062,1.5889374017715454,4.069220542907715,0.9018344283103943,-0.391412615776062,12.039240837097168,7.41935396194458,1.781711220741272,-0.6524865627288818,0.9034466743469238,0.44127538800239563,-8.149513244628906,-9.174704551696777,-7.438782215118408,0.7621334195137024,-5.311079978942871,-0.04259136691689491,0.3027705252170563,1.1697030067443848,3.1521291732788086,0.38933804631233215,0.7855040431022644,-4.533698558807373,6.735616683959961,-1.1976650953292847,0.9826887249946594,2.23941969871521,8.422775268554688,4.00758171081543,-2.76640248298645,-0.09213370084762573,5.46195650100708,3.557032823562622,2.907904863357544,-1.8647947311401367,-4.0519700050354,-2.4749655723571777,-3.7872776985168457,0.1647256463766098,7.093734264373779,-1.8194559812545776,3.5032808780670166,1.9343677759170532,-6.501946926116943,-1.7751282453536987,0.06405314058065414,0.3165855407714844,-2.325961112976074,-0.8704293966293335,1.9542534351348877,2.2462801933288574,-0.5211724638938904,0.17439444363117218,-0.292392373085022,6.843387603759766,-3.438567876815796,-0.18422462046146393,-0.2947443127632141,1.0910518169403076,0.7317593097686768,0.6701875925064087,6.2685227394104,-0.470370888710022,-0.5842012166976929,4.931369781494141,5.067688941955566,-2.963700771331787,-0.3169282078742981,-0.04669191688299179,2.5178756713867188,1.2257362604141235,3.525172710418701,5.625130653381348,-0.043692268431186676,-0.46555960178375244,-0.6100335121154785,0.23787593841552734,-1.4802660942077637,3.188589334487915,-3.0724215507507324,-0.509441614151001,0.4855785071849823,-0.7738745212554932,2.76883864402771,-1.3635772466659546,0.5195189714431763,2.7742621898651123,-2.7577595710754395,-0.02455144189298153,1.1486034393310547,3.9149115085601807,4.656937122344971,1.0383261442184448,0.06843826919794083,0.8771471977233887,0.39529815316200256,3.5153379440307617,-0.6704369783401489,2.177493095397949,0.7719159126281738,0.7281505465507507,-1.3414580821990967,0.5035542249679565,0.6679949760437012,-4.8761444091796875,-1.0225145816802979,-0.7311757206916809,-2.1196882724761963,2.656973361968994,0.518234372138977,-3.136991262435913,0.7593696117401123,0.9752068519592285,0.8128414154052734,-0.44922420382499695,-0.8105602860450745,0.27320539951324463,-0.5448623895645142,-3.463963508605957,-2.059335470199585,-0.12764528393745422,0.19211140275001526,-1.0394827127456665,1.0856672525405884,-3.655606508255005,-2.9078667163848877,1.1831400394439697,1.6322163343429565,-0.4802280366420746,2.275926351547241,0.747655987739563,-2.2988317012786865,0.2613760828971863,0.8071561455726624,1.343957543373108,-0.2024041712284088,-3.438488483428955,-0.07272830605506897,3.9545109272003174,0.6813639402389526,2.0802032947540283,-1.0636945962905884,0.9556541442871094,0.43755465745925903,2.1485953330993652,0.9282801747322083,-0.7442314624786377,2.0626821517944336,2.0584352016448975,-0.9227214455604553,-1.612755537033081,0.2215515375137329,-0.030013658106327057,2.889232635498047,-0.8279802203178406,-0.6055589914321899,-0.6357957124710083,2.1857616901397705,0.47749122977256775,-2.2516560554504395,0.04561474174261093,0.3451731503009796,0.8003113269805908,-2.0692408084869385,-0.4425398111343384,2.074037551879883,-0.028124365955591202,0.07948871701955795,1.1533164978027344,2.7074100971221924,-0.5179486870765686,-1.3112627267837524,-0.766014575958252,-0.8960452079772949,-2.3523616790771484,-1.014356017112732,-1.289072036743164,-2.8241827487945557,-0.1766979694366455,-1.7120229005813599,0.5458309650421143,-2.1791656017303467,0.9932394623756409,1.1185901165008545,1.3052642345428467,0.11618176102638245],\"type\":\"scatter3d\"}],                        {\"template\":{\"data\":{\"barpolar\":[{\"marker\":{\"line\":{\"color\":\"rgb(17,17,17)\",\"width\":0.5},\"pattern\":{\"fillmode\":\"overlay\",\"size\":10,\"solidity\":0.2}},\"type\":\"barpolar\"}],\"bar\":[{\"error_x\":{\"color\":\"#f2f5fa\"},\"error_y\":{\"color\":\"#f2f5fa\"},\"marker\":{\"line\":{\"color\":\"rgb(17,17,17)\",\"width\":0.5},\"pattern\":{\"fillmode\":\"overlay\",\"size\":10,\"solidity\":0.2}},\"type\":\"bar\"}],\"carpet\":[{\"aaxis\":{\"endlinecolor\":\"#A2B1C6\",\"gridcolor\":\"#506784\",\"linecolor\":\"#506784\",\"minorgridcolor\":\"#506784\",\"startlinecolor\":\"#A2B1C6\"},\"baxis\":{\"endlinecolor\":\"#A2B1C6\",\"gridcolor\":\"#506784\",\"linecolor\":\"#506784\",\"minorgridcolor\":\"#506784\",\"startlinecolor\":\"#A2B1C6\"},\"type\":\"carpet\"}],\"choropleth\":[{\"colorbar\":{\"outlinewidth\":0,\"ticks\":\"\"},\"type\":\"choropleth\"}],\"contourcarpet\":[{\"colorbar\":{\"outlinewidth\":0,\"ticks\":\"\"},\"type\":\"contourcarpet\"}],\"contour\":[{\"colorbar\":{\"outlinewidth\":0,\"ticks\":\"\"},\"colorscale\":[[0.0,\"#0d0887\"],[0.1111111111111111,\"#46039f\"],[0.2222222222222222,\"#7201a8\"],[0.3333333333333333,\"#9c179e\"],[0.4444444444444444,\"#bd3786\"],[0.5555555555555556,\"#d8576b\"],[0.6666666666666666,\"#ed7953\"],[0.7777777777777778,\"#fb9f3a\"],[0.8888888888888888,\"#fdca26\"],[1.0,\"#f0f921\"]],\"type\":\"contour\"}],\"heatmapgl\":[{\"colorbar\":{\"outlinewidth\":0,\"ticks\":\"\"},\"colorscale\":[[0.0,\"#0d0887\"],[0.1111111111111111,\"#46039f\"],[0.2222222222222222,\"#7201a8\"],[0.3333333333333333,\"#9c179e\"],[0.4444444444444444,\"#bd3786\"],[0.5555555555555556,\"#d8576b\"],[0.6666666666666666,\"#ed7953\"],[0.7777777777777778,\"#fb9f3a\"],[0.8888888888888888,\"#fdca26\"],[1.0,\"#f0f921\"]],\"type\":\"heatmapgl\"}],\"heatmap\":[{\"colorbar\":{\"outlinewidth\":0,\"ticks\":\"\"},\"colorscale\":[[0.0,\"#0d0887\"],[0.1111111111111111,\"#46039f\"],[0.2222222222222222,\"#7201a8\"],[0.3333333333333333,\"#9c179e\"],[0.4444444444444444,\"#bd3786\"],[0.5555555555555556,\"#d8576b\"],[0.6666666666666666,\"#ed7953\"],[0.7777777777777778,\"#fb9f3a\"],[0.8888888888888888,\"#fdca26\"],[1.0,\"#f0f921\"]],\"type\":\"heatmap\"}],\"histogram2dcontour\":[{\"colorbar\":{\"outlinewidth\":0,\"ticks\":\"\"},\"colorscale\":[[0.0,\"#0d0887\"],[0.1111111111111111,\"#46039f\"],[0.2222222222222222,\"#7201a8\"],[0.3333333333333333,\"#9c179e\"],[0.4444444444444444,\"#bd3786\"],[0.5555555555555556,\"#d8576b\"],[0.6666666666666666,\"#ed7953\"],[0.7777777777777778,\"#fb9f3a\"],[0.8888888888888888,\"#fdca26\"],[1.0,\"#f0f921\"]],\"type\":\"histogram2dcontour\"}],\"histogram2d\":[{\"colorbar\":{\"outlinewidth\":0,\"ticks\":\"\"},\"colorscale\":[[0.0,\"#0d0887\"],[0.1111111111111111,\"#46039f\"],[0.2222222222222222,\"#7201a8\"],[0.3333333333333333,\"#9c179e\"],[0.4444444444444444,\"#bd3786\"],[0.5555555555555556,\"#d8576b\"],[0.6666666666666666,\"#ed7953\"],[0.7777777777777778,\"#fb9f3a\"],[0.8888888888888888,\"#fdca26\"],[1.0,\"#f0f921\"]],\"type\":\"histogram2d\"}],\"histogram\":[{\"marker\":{\"pattern\":{\"fillmode\":\"overlay\",\"size\":10,\"solidity\":0.2}},\"type\":\"histogram\"}],\"mesh3d\":[{\"colorbar\":{\"outlinewidth\":0,\"ticks\":\"\"},\"type\":\"mesh3d\"}],\"parcoords\":[{\"line\":{\"colorbar\":{\"outlinewidth\":0,\"ticks\":\"\"}},\"type\":\"parcoords\"}],\"pie\":[{\"automargin\":true,\"type\":\"pie\"}],\"scatter3d\":[{\"line\":{\"colorbar\":{\"outlinewidth\":0,\"ticks\":\"\"}},\"marker\":{\"colorbar\":{\"outlinewidth\":0,\"ticks\":\"\"}},\"type\":\"scatter3d\"}],\"scattercarpet\":[{\"marker\":{\"colorbar\":{\"outlinewidth\":0,\"ticks\":\"\"}},\"type\":\"scattercarpet\"}],\"scattergeo\":[{\"marker\":{\"colorbar\":{\"outlinewidth\":0,\"ticks\":\"\"}},\"type\":\"scattergeo\"}],\"scattergl\":[{\"marker\":{\"line\":{\"color\":\"#283442\"}},\"type\":\"scattergl\"}],\"scattermapbox\":[{\"marker\":{\"colorbar\":{\"outlinewidth\":0,\"ticks\":\"\"}},\"type\":\"scattermapbox\"}],\"scatterpolargl\":[{\"marker\":{\"colorbar\":{\"outlinewidth\":0,\"ticks\":\"\"}},\"type\":\"scatterpolargl\"}],\"scatterpolar\":[{\"marker\":{\"colorbar\":{\"outlinewidth\":0,\"ticks\":\"\"}},\"type\":\"scatterpolar\"}],\"scatter\":[{\"marker\":{\"line\":{\"color\":\"#283442\"}},\"type\":\"scatter\"}],\"scatterternary\":[{\"marker\":{\"colorbar\":{\"outlinewidth\":0,\"ticks\":\"\"}},\"type\":\"scatterternary\"}],\"surface\":[{\"colorbar\":{\"outlinewidth\":0,\"ticks\":\"\"},\"colorscale\":[[0.0,\"#0d0887\"],[0.1111111111111111,\"#46039f\"],[0.2222222222222222,\"#7201a8\"],[0.3333333333333333,\"#9c179e\"],[0.4444444444444444,\"#bd3786\"],[0.5555555555555556,\"#d8576b\"],[0.6666666666666666,\"#ed7953\"],[0.7777777777777778,\"#fb9f3a\"],[0.8888888888888888,\"#fdca26\"],[1.0,\"#f0f921\"]],\"type\":\"surface\"}],\"table\":[{\"cells\":{\"fill\":{\"color\":\"#506784\"},\"line\":{\"color\":\"rgb(17,17,17)\"}},\"header\":{\"fill\":{\"color\":\"#2a3f5f\"},\"line\":{\"color\":\"rgb(17,17,17)\"}},\"type\":\"table\"}]},\"layout\":{\"annotationdefaults\":{\"arrowcolor\":\"#f2f5fa\",\"arrowhead\":0,\"arrowwidth\":1},\"autotypenumbers\":\"strict\",\"coloraxis\":{\"colorbar\":{\"outlinewidth\":0,\"ticks\":\"\"}},\"colorscale\":{\"diverging\":[[0,\"#8e0152\"],[0.1,\"#c51b7d\"],[0.2,\"#de77ae\"],[0.3,\"#f1b6da\"],[0.4,\"#fde0ef\"],[0.5,\"#f7f7f7\"],[0.6,\"#e6f5d0\"],[0.7,\"#b8e186\"],[0.8,\"#7fbc41\"],[0.9,\"#4d9221\"],[1,\"#276419\"]],\"sequential\":[[0.0,\"#0d0887\"],[0.1111111111111111,\"#46039f\"],[0.2222222222222222,\"#7201a8\"],[0.3333333333333333,\"#9c179e\"],[0.4444444444444444,\"#bd3786\"],[0.5555555555555556,\"#d8576b\"],[0.6666666666666666,\"#ed7953\"],[0.7777777777777778,\"#fb9f3a\"],[0.8888888888888888,\"#fdca26\"],[1.0,\"#f0f921\"]],\"sequentialminus\":[[0.0,\"#0d0887\"],[0.1111111111111111,\"#46039f\"],[0.2222222222222222,\"#7201a8\"],[0.3333333333333333,\"#9c179e\"],[0.4444444444444444,\"#bd3786\"],[0.5555555555555556,\"#d8576b\"],[0.6666666666666666,\"#ed7953\"],[0.7777777777777778,\"#fb9f3a\"],[0.8888888888888888,\"#fdca26\"],[1.0,\"#f0f921\"]]},\"colorway\":[\"#636efa\",\"#EF553B\",\"#00cc96\",\"#ab63fa\",\"#FFA15A\",\"#19d3f3\",\"#FF6692\",\"#B6E880\",\"#FF97FF\",\"#FECB52\"],\"font\":{\"color\":\"#f2f5fa\"},\"geo\":{\"bgcolor\":\"rgb(17,17,17)\",\"lakecolor\":\"rgb(17,17,17)\",\"landcolor\":\"rgb(17,17,17)\",\"showlakes\":true,\"showland\":true,\"subunitcolor\":\"#506784\"},\"hoverlabel\":{\"align\":\"left\"},\"hovermode\":\"closest\",\"mapbox\":{\"style\":\"dark\"},\"paper_bgcolor\":\"rgb(17,17,17)\",\"plot_bgcolor\":\"rgb(17,17,17)\",\"polar\":{\"angularaxis\":{\"gridcolor\":\"#506784\",\"linecolor\":\"#506784\",\"ticks\":\"\"},\"bgcolor\":\"rgb(17,17,17)\",\"radialaxis\":{\"gridcolor\":\"#506784\",\"linecolor\":\"#506784\",\"ticks\":\"\"}},\"scene\":{\"xaxis\":{\"backgroundcolor\":\"rgb(17,17,17)\",\"gridcolor\":\"#506784\",\"gridwidth\":2,\"linecolor\":\"#506784\",\"showbackground\":true,\"ticks\":\"\",\"zerolinecolor\":\"#C8D4E3\"},\"yaxis\":{\"backgroundcolor\":\"rgb(17,17,17)\",\"gridcolor\":\"#506784\",\"gridwidth\":2,\"linecolor\":\"#506784\",\"showbackground\":true,\"ticks\":\"\",\"zerolinecolor\":\"#C8D4E3\"},\"zaxis\":{\"backgroundcolor\":\"rgb(17,17,17)\",\"gridcolor\":\"#506784\",\"gridwidth\":2,\"linecolor\":\"#506784\",\"showbackground\":true,\"ticks\":\"\",\"zerolinecolor\":\"#C8D4E3\"}},\"shapedefaults\":{\"line\":{\"color\":\"#f2f5fa\"}},\"sliderdefaults\":{\"bgcolor\":\"#C8D4E3\",\"bordercolor\":\"rgb(17,17,17)\",\"borderwidth\":1,\"tickwidth\":0},\"ternary\":{\"aaxis\":{\"gridcolor\":\"#506784\",\"linecolor\":\"#506784\",\"ticks\":\"\"},\"baxis\":{\"gridcolor\":\"#506784\",\"linecolor\":\"#506784\",\"ticks\":\"\"},\"bgcolor\":\"rgb(17,17,17)\",\"caxis\":{\"gridcolor\":\"#506784\",\"linecolor\":\"#506784\",\"ticks\":\"\"}},\"title\":{\"x\":0.05},\"updatemenudefaults\":{\"bgcolor\":\"#506784\",\"borderwidth\":0},\"xaxis\":{\"automargin\":true,\"gridcolor\":\"#283442\",\"linecolor\":\"#506784\",\"ticks\":\"\",\"title\":{\"standoff\":15},\"zerolinecolor\":\"#283442\",\"zerolinewidth\":2},\"yaxis\":{\"automargin\":true,\"gridcolor\":\"#283442\",\"linecolor\":\"#506784\",\"ticks\":\"\",\"title\":{\"standoff\":15},\"zerolinecolor\":\"#283442\",\"zerolinewidth\":2}}},\"scene\":{\"domain\":{\"x\":[0.0,1.0],\"y\":[0.0,1.0]},\"xaxis\":{\"title\":{\"text\":\"X\"}},\"yaxis\":{\"title\":{\"text\":\"Y\"}},\"zaxis\":{\"title\":{\"text\":\"Z\"}}},\"coloraxis\":{\"colorbar\":{\"title\":{\"text\":\"tIdx\"}},\"colorscale\":[[0.0,\"rgb(150,0,90)\"],[0.125,\"rgb(0,0,200)\"],[0.25,\"rgb(0,25,255)\"],[0.375,\"rgb(0,152,255)\"],[0.5,\"rgb(44,255,150)\"],[0.625,\"rgb(151,255,0)\"],[0.75,\"rgb(255,234,0)\"],[0.875,\"rgb(255,111,0)\"],[1.0,\"rgb(255,0,0)\"]]},\"legend\":{\"tracegroupgap\":0,\"itemsizing\":\"constant\"},\"margin\":{\"t\":60}},                        {\"responsive\": true}                    ).then(function(){\n",
       "                            \n",
       "var gd = document.getElementById('48954e1e-ca83-4a33-a675-6bdbf729140d');\n",
       "var x = new MutationObserver(function (mutations, observer) {{\n",
       "        var display = window.getComputedStyle(gd).display;\n",
       "        if (!display || display === 'none') {{\n",
       "            console.log([gd, 'removed!']);\n",
       "            Plotly.purge(gd);\n",
       "            observer.disconnect();\n",
       "        }}\n",
       "}});\n",
       "\n",
       "// Listen for the removal of the full notebook cells\n",
       "var notebookContainer = gd.closest('#notebook-container');\n",
       "if (notebookContainer) {{\n",
       "    x.observe(notebookContainer, {childList: true});\n",
       "}}\n",
       "\n",
       "// Listen for the clearing of the current output cell\n",
       "var outputEl = gd.closest('.output');\n",
       "if (outputEl) {{\n",
       "    x.observe(outputEl, {childList: true});\n",
       "}}\n",
       "\n",
       "                        })                };                });            </script>        </div>"
      ]
     },
     "metadata": {},
     "output_type": "display_data"
    }
   ],
   "execution_count": 45
  },
  {
   "metadata": {},
   "cell_type": "code",
   "outputs": [],
   "execution_count": null,
   "source": "",
   "id": "5987e409c20461ad"
  }
 ],
 "metadata": {
  "kernelspec": {
   "name": "python3",
   "language": "python",
   "display_name": "Python 3 (ipykernel)"
  }
 },
 "nbformat": 5,
 "nbformat_minor": 9
}
