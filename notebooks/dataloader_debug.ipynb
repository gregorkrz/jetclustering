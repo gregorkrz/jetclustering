{
 "cells": [
  {
   "metadata": {
    "ExecuteTime": {
     "end_time": "2024-12-18T14:37:13.415832Z",
     "start_time": "2024-12-18T14:37:10.623521Z"
    }
   },
   "cell_type": "code",
   "source": [
    "import os\n",
    "import ast\n",
    "import glob\n",
    "import functools\n",
    "import math\n",
    "import torch\n",
    "\n",
    "from torch.utils.data import DataLoader\n",
    "from src.logger.logger import _logger, _configLogger\n",
    "from src.dataset.dataset import EventDatasetCollection, EventDataset\n",
    "from src.utils.import_tools import import_module\n",
    "from src.dataset.functions_graph import graph_batch_func\n",
    "from src.dataset.functions_data import concat_events\n",
    "from src.utils.paths import get_path\n"
   ],
   "id": "e3d819c470939dc",
   "outputs": [
    {
     "name": "stderr",
     "output_type": "stream",
     "text": [
      "/work/gkrzmanc/gatr/lib/python3.10/site-packages/tqdm/auto.py:21: TqdmWarning: IProgress not found. Please update jupyter and ipywidgets. See https://ipywidgets.readthedocs.io/en/stable/user_install.html\n",
      "  from .autonotebook import tqdm as notebook_tqdm\n"
     ]
    }
   ],
   "execution_count": 1
  },
  {
   "metadata": {
    "ExecuteTime": {
     "end_time": "2024-12-18T14:37:13.702539Z",
     "start_time": "2024-12-18T14:37:13.651634Z"
    }
   },
   "cell_type": "code",
   "source": [
    "train_data = EventDataset.from_directory(\"/work/gkrzmanc/jetclustering/preprocessed_data/scouting_PFNano_signals1/SVJ_hadronic_std3/s-channel_mMed-1100_mDark-20_rinv-0.3_alpha-peak_13TeV-pythia8_n-2000\", mmap=True)\n",
    "print(\"N events:\", len(train_data))\n",
    "train_loader = DataLoader(\n",
    "        train_data,\n",
    "        batch_size=8,\n",
    "        drop_last=True,\n",
    "        pin_memory=True,\n",
    "        num_workers=1,\n",
    "        collate_fn=concat_events,\n",
    "        persistent_workers=1\n",
    "    )\n"
   ],
   "id": "8c937e192df126b9",
   "outputs": [
    {
     "name": "stdout",
     "output_type": "stream",
     "text": [
      "N events: 91316\n"
     ]
    }
   ],
   "execution_count": 2
  },
  {
   "metadata": {
    "ExecuteTime": {
     "end_time": "2024-12-18T14:37:13.894166Z",
     "start_time": "2024-12-18T14:37:13.723201Z"
    }
   },
   "cell_type": "code",
   "source": "b = next(iter(train_loader))",
   "id": "6ddf6f2f4c0f3c37",
   "outputs": [],
   "execution_count": 3
  },
  {
   "metadata": {
    "ExecuteTime": {
     "end_time": "2024-12-18T14:37:13.928361Z",
     "start_time": "2024-12-18T14:37:13.915193Z"
    }
   },
   "cell_type": "code",
   "source": "b.n_events",
   "id": "5f2a6492abfac378",
   "outputs": [
    {
     "data": {
      "text/plain": [
       "8"
      ]
     },
     "execution_count": 4,
     "metadata": {},
     "output_type": "execute_result"
    }
   ],
   "execution_count": 4
  },
  {
   "metadata": {
    "ExecuteTime": {
     "end_time": "2024-12-18T14:37:13.995401Z",
     "start_time": "2024-12-18T14:37:13.986881Z"
    }
   },
   "cell_type": "code",
   "source": "dir(b)",
   "id": "df59e9660ebabc72",
   "outputs": [
    {
     "data": {
      "text/plain": [
       "['MET',\n",
       " '__class__',\n",
       " '__delattr__',\n",
       " '__dict__',\n",
       " '__dir__',\n",
       " '__doc__',\n",
       " '__eq__',\n",
       " '__format__',\n",
       " '__ge__',\n",
       " '__getattribute__',\n",
       " '__gt__',\n",
       " '__hash__',\n",
       " '__init__',\n",
       " '__init_subclass__',\n",
       " '__le__',\n",
       " '__len__',\n",
       " '__lt__',\n",
       " '__module__',\n",
       " '__ne__',\n",
       " '__new__',\n",
       " '__reduce__',\n",
       " '__reduce_ex__',\n",
       " '__repr__',\n",
       " '__setattr__',\n",
       " '__sizeof__',\n",
       " '__str__',\n",
       " '__subclasshook__',\n",
       " '__weakref__',\n",
       " 'evt_collections',\n",
       " 'fatjets',\n",
       " 'genjets',\n",
       " 'init_attrs',\n",
       " 'jets',\n",
       " 'matrix_element_gen_particles',\n",
       " 'n_events',\n",
       " 'offline_pfcands',\n",
       " 'pfcands',\n",
       " 'serialize',\n",
       " 'special_pfcands']"
      ]
     },
     "execution_count": 5,
     "metadata": {},
     "output_type": "execute_result"
    }
   ],
   "execution_count": 5
  },
  {
   "metadata": {
    "ExecuteTime": {
     "end_time": "2024-12-18T14:37:14.126468Z",
     "start_time": "2024-12-18T14:37:14.116496Z"
    }
   },
   "cell_type": "code",
   "source": "len(b.pfcands), b.pfcands.batch_number",
   "id": "d286a98188187c6",
   "outputs": [
    {
     "data": {
      "text/plain": [
       "(2023, tensor([   0,  331,  636,  821, 1044, 1404, 1619, 1787, 2023]))"
      ]
     },
     "execution_count": 6,
     "metadata": {},
     "output_type": "execute_result"
    }
   ],
   "execution_count": 6
  },
  {
   "metadata": {
    "ExecuteTime": {
     "end_time": "2024-12-18T14:41:22.295628Z",
     "start_time": "2024-12-18T14:41:22.277888Z"
    }
   },
   "cell_type": "code",
   "source": [
    "def get_idx_for_event(obj, i):\n",
    "    return obj.batch_number[i], obj.batch_number[i+1]\n",
    "\n",
    "def get_labels(pfcands):\n",
    "    labels = torch.zeros(len(pfcands)).long()\n",
    "    R = 0.8\n",
    "    for i in range(len(b)):\n",
    "        s, e = get_idx_for_event(b.matrix_element_gen_particles, i)\n",
    "        dq_eta = b.matrix_element_gen_particles.eta[s:e]\n",
    "        dq_phi = b.matrix_element_gen_particles.phi[s:e]\n",
    "        # dq_pt = b.matrix_element_gen_particles.pt[s:e] # Maybe we can somehow weigh the loss by pt?\n",
    "        s, e = get_idx_for_event(pfcands, i)\n",
    "        pfcands_eta = pfcands.eta[s:e]\n",
    "        pfcands_phi = pfcands.phi[s:e]\n",
    "        # calculate the distance matrix between each dark quark and pfcands\n",
    "        dist_matrix = torch.cdist(\n",
    "            torch.stack([dq_eta, dq_phi], dim=1),\n",
    "            torch.stack([pfcands_eta, pfcands_phi], dim=1),\n",
    "            p=2\n",
    "        )\n",
    "        dist_matrix = dist_matrix.T\n",
    "        closest_quark_dist, closest_quark_idx = dist_matrix.min(dim=1)\n",
    "        closest_quark_idx[closest_quark_dist > R] = -1\n",
    "        labels[s:e] = closest_quark_idx\n",
    "    return labels"
   ],
   "id": "1311033e4b878a6b",
   "outputs": [],
   "execution_count": 22
  },
  {
   "metadata": {
    "ExecuteTime": {
     "end_time": "2024-12-18T14:41:51.645415Z",
     "start_time": "2024-12-18T14:41:51.640898Z"
    }
   },
   "cell_type": "code",
   "source": "",
   "id": "878ebfeda196f1ea",
   "outputs": [],
   "execution_count": null
  },
  {
   "metadata": {},
   "cell_type": "code",
   "outputs": [],
   "execution_count": null,
   "source": "",
   "id": "7475933352961325"
  }
 ],
 "metadata": {
  "kernelspec": {
   "name": "python3",
   "language": "python",
   "display_name": "Python 3 (ipykernel)"
  }
 },
 "nbformat": 5,
 "nbformat_minor": 9
}
