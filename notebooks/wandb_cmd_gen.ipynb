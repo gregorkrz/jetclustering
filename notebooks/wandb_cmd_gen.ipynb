{
 "cells": [
  {
   "metadata": {
    "ExecuteTime": {
     "end_time": "2025-03-05T11:03:51.160379Z",
     "start_time": "2025-03-05T11:03:51.154906Z"
    }
   },
   "cell_type": "code",
   "source": "import wandb\n",
   "id": "838f9f3375b3ef06",
   "outputs": [],
   "execution_count": 19
  },
  {
   "metadata": {
    "ExecuteTime": {
     "end_time": "2025-03-05T14:24:29.277738Z",
     "start_time": "2025-03-05T14:24:29.041133Z"
    }
   },
   "cell_type": "code",
   "source": [
    "# select wandb runs with a tag 'no_pid_eval'\n",
    "runs = wandb.Api().runs(\"fcc_ml/svj_clustering\", {\"tags\": \"no_pid_eval_1\"})"
   ],
   "id": "f7dd12c142a7f496",
   "outputs": [],
   "execution_count": 27
  },
  {
   "metadata": {
    "ExecuteTime": {
     "end_time": "2025-03-05T14:24:31.314623Z",
     "start_time": "2025-03-05T14:24:31.306493Z"
    }
   },
   "cell_type": "code",
   "source": [
    "template = \"python -m scripts.compute_clustering --output-suffix hdbscan_pt_min --min-samples 4 --epsilon 0.2 --spatial-part-only --pt-hdbscan --input train/{}\"\n",
    "template = \"python -m scripts.compute_clustering --output-suffix hdbscan_4_05 --min-samples 2 --epsilon 0.5 --min-cluster-size 4 --spatial-part-only --input train/{}\"\n",
    "\n",
    "# format with run.config.run_name and print it\n",
    "for run in runs:\n",
    "    print(template.format(run.config[\"run_name\"]))"
   ],
   "id": "7a767d8b7bf962d6",
   "outputs": [
    {
     "name": "stdout",
     "output_type": "stream",
     "text": [
      "python -m scripts.compute_clustering --output-suffix hdbscan_4_05 --min-samples 2 --epsilon 0.5 --min-cluster-size 4 --spatial-part-only --input train/Eval_no_pid_eval_1_2025_03_05_14_35_14\n",
      "python -m scripts.compute_clustering --output-suffix hdbscan_4_05 --min-samples 2 --epsilon 0.5 --min-cluster-size 4 --spatial-part-only --input train/Eval_no_pid_eval_1_2025_03_05_14_36_15\n",
      "python -m scripts.compute_clustering --output-suffix hdbscan_4_05 --min-samples 2 --epsilon 0.5 --min-cluster-size 4 --spatial-part-only --input train/Eval_no_pid_eval_1_2025_03_05_14_37_53\n",
      "python -m scripts.compute_clustering --output-suffix hdbscan_4_05 --min-samples 2 --epsilon 0.5 --min-cluster-size 4 --spatial-part-only --input train/Eval_no_pid_eval_1_2025_03_05_14_40_26\n",
      "python -m scripts.compute_clustering --output-suffix hdbscan_4_05 --min-samples 2 --epsilon 0.5 --min-cluster-size 4 --spatial-part-only --input train/Eval_no_pid_eval_1_2025_03_05_14_40_27\n",
      "python -m scripts.compute_clustering --output-suffix hdbscan_4_05 --min-samples 2 --epsilon 0.5 --min-cluster-size 4 --spatial-part-only --input train/Eval_no_pid_eval_1_2025_03_05_14_40_30\n",
      "python -m scripts.compute_clustering --output-suffix hdbscan_4_05 --min-samples 2 --epsilon 0.5 --min-cluster-size 4 --spatial-part-only --input train/Eval_no_pid_eval_1_2025_03_05_14_40_31\n",
      "python -m scripts.compute_clustering --output-suffix hdbscan_4_05 --min-samples 2 --epsilon 0.5 --min-cluster-size 4 --spatial-part-only --input train/Eval_no_pid_eval_1_2025_03_05_14_40_34\n",
      "python -m scripts.compute_clustering --output-suffix hdbscan_4_05 --min-samples 2 --epsilon 0.5 --min-cluster-size 4 --spatial-part-only --input train/Eval_no_pid_eval_1_2025_03_05_14_41_16\n",
      "python -m scripts.compute_clustering --output-suffix hdbscan_4_05 --min-samples 2 --epsilon 0.5 --min-cluster-size 4 --spatial-part-only --input train/Eval_no_pid_eval_1_2025_03_05_14_41_17\n",
      "python -m scripts.compute_clustering --output-suffix hdbscan_4_05 --min-samples 2 --epsilon 0.5 --min-cluster-size 4 --spatial-part-only --input train/Eval_no_pid_eval_1_2025_03_05_14_41_37\n",
      "python -m scripts.compute_clustering --output-suffix hdbscan_4_05 --min-samples 2 --epsilon 0.5 --min-cluster-size 4 --spatial-part-only --input train/Eval_no_pid_eval_1_2025_03_05_14_41_38\n"
     ]
    }
   ],
   "execution_count": 28
  },
  {
   "metadata": {
    "ExecuteTime": {
     "end_time": "2025-03-05T10:20:46.766093Z",
     "start_time": "2025-03-05T10:20:46.761733Z"
    }
   },
   "cell_type": "code",
   "source": "",
   "id": "4ec0759210f54f7b",
   "outputs": [],
   "execution_count": null
  },
  {
   "metadata": {},
   "cell_type": "code",
   "outputs": [],
   "execution_count": null,
   "source": "",
   "id": "ec30742e27c7207e"
  }
 ],
 "metadata": {
  "kernelspec": {
   "name": "python3",
   "language": "python",
   "display_name": "Python 3 (ipykernel)"
  }
 },
 "nbformat": 5,
 "nbformat_minor": 9
}
