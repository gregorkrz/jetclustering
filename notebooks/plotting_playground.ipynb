{
 "cells": [
  {
   "cell_type": "code",
   "execution_count": null,
   "id": "initial_id",
   "metadata": {
    "collapsed": true
   },
   "outputs": [],
   "source": [
    ""
   ]
  },
  {
   "metadata": {
    "ExecuteTime": {
     "end_time": "2025-05-19T14:18:52.936653Z",
     "start_time": "2025-05-19T14:18:52.005816Z"
    }
   },
   "cell_type": "code",
   "source": [
    "import matplotlib.pyplot as plt\n",
    "import numpy as np\n",
    "\n",
    "# Data\n",
    "labels = ['text1', 'text2', 'text3', 'text4', 'text5']\n",
    "values = np.random.rand(5)\n",
    "\n",
    "# Colors: one per label\n",
    "colors = plt.cm.tab10(np.arange(len(labels)))\n",
    "\n",
    "# Plot setup\n",
    "fig, ax = plt.subplots(figsize=(2, 2))  # Square plot\n",
    "\n",
    "# Create bars\n",
    "bars = ax.barh(range(len(labels)), values, color=colors)\n",
    "\n",
    "# Add labels on the bars\n",
    "for i, (bar, label) in enumerate(zip(bars, labels)):\n",
    "    ax.text(bar.get_width(), bar.get_y() + bar.get_height()/2, label,\n",
    "            va='center', ha='left', fontsize=8)\n",
    "\n",
    "# Clean up everything around\n",
    "ax.set_yticks([])\n",
    "ax.set_xticks([])\n",
    "ax.spines['top'].set_visible(False)\n",
    "ax.spines['right'].set_visible(False)\n",
    "ax.spines['left'].set_visible(False)\n",
    "ax.spines['bottom'].set_visible(False)\n",
    "\n",
    "ax.set_xlim(0, max(values)*1.1)  # Add padding on the right\n",
    "\n",
    "plt.tight_layout()\n",
    "plt.show()\n"
   ],
   "id": "6c89db30c7a70d4f",
   "outputs": [
    {
     "data": {
      "text/plain": [
       "<Figure size 200x200 with 1 Axes>"
      ],
      "image/png": "[encoded data removed]"
     },
     "metadata": {},
     "output_type": "display_data"
    }
   ],
   "execution_count": 1
  },
  {
   "metadata": {
    "ExecuteTime": {
     "end_time": "2025-05-19T14:20:27.149882Z",
     "start_time": "2025-05-19T14:20:27.082592Z"
    }
   },
   "cell_type": "code",
   "source": [
    "import matplotlib.pyplot as plt\n",
    "import numpy as np\n",
    "\n",
    "# Data\n",
    "labels = ['text1', 'text2', 'text3', 'text4', 'text5']\n",
    "values = np.random.rand(5)\n",
    "\n",
    "# Colors: one per label\n",
    "colors = plt.cm.tab10(np.arange(len(labels)))\n",
    "\n",
    "# Plot setup\n",
    "fig, ax = plt.subplots(figsize=(2, 2))  # Square plot\n",
    "\n",
    "# Create bars\n",
    "bars = ax.barh(range(len(labels)), values, color=colors)\n",
    "\n",
    "# Add labels inside the bars, left-aligned\n",
    "for i, (bar, label) in enumerate(zip(bars, labels)):\n",
    "    ax.text(0.05, bar.get_y() + bar.get_height()/2, label,\n",
    "            va='center', ha='left', fontsize=8, color='white', clip_on=True)\n",
    "\n",
    "# Clean up everything around\n",
    "ax.set_yticks([])\n",
    "ax.set_xticks([])\n",
    "for spine in ax.spines.values():\n",
    "    spine.set_visible(False)\n",
    "\n",
    "ax.set_xlim(0, max(values)*1.1)  # Padding to the right\n",
    "\n",
    "plt.tight_layout()\n",
    "plt.show()\n"
   ],
   "id": "d7d0a70cdca8ea0e",
   "outputs": [
    {
     "data": {
      "text/plain": [
       "<Figure size 200x200 with 1 Axes>"
      ],
      "image/png": "[encoded data removed]"
     },
     "metadata": {},
     "output_type": "display_data"
    }
   ],
   "execution_count": 2
  },
  {
   "metadata": {
    "ExecuteTime": {
     "end_time": "2025-05-19T14:46:31.714058Z",
     "start_time": "2025-05-19T14:46:31.610196Z"
    }
   },
   "cell_type": "code",
   "source": [
    "import matplotlib.pyplot as plt\n",
    "import numpy as np\n",
    "\n",
    "# Data\n",
    "labels = ['LGATr', 'LGATr_GP_IRC_SN', 'text3', 'text4', 'text5']\n",
    "values = [0.7, 0.71, 0.725, 0.728, 0.711]\n",
    "\n",
    "# Colors: one per label\n",
    "colors = plt.cm.tab10(np.arange(len(labels)))\n",
    "\n",
    "# Plot setup\n",
    "fig, ax = plt.subplots(figsize=(2, 2))  # Square plot\n",
    "\n",
    "def ax_tiny_histogram(ax, labels, colors, values):\n",
    "    # Create bars\n",
    "    bars = ax.barh(range(len(labels)), values, color=colors, alpha=0.5)\n",
    "\n",
    "    # Add labels inside the bars, left-aligned\n",
    "    for i, (bar, label) in enumerate(zip(bars, labels)):\n",
    "        ax.text(min(values)-0.002, bar.get_y() + bar.get_height()/2, label,\n",
    "                va='center', ha='left', fontsize=8, color='black', clip_on=True)\n",
    "        ax.text(max(values)+0.002, bar.get_y() + bar.get_height()/2,  f'{values[i]:.3f}',\n",
    "        va='center', ha='right', fontsize=8)\n",
    "\n",
    "    ax.set_yticks([])\n",
    "    ax.set_xticks([])  # Hide ticks for minimal look\n",
    "    for spine in ax.spines.values():\n",
    "        spine.set_visible(False)\n",
    "\n",
    "    ax.set_xlim(min(values)-0.005, max(values)+0.005)\n",
    "    return ax\n",
    "\n",
    "ax_tiny_histogram(ax,labels, colors, values)\n",
    "plt.tight_layout()\n",
    "plt.show()\n"
   ],
   "id": "3c83c5af70dd3e27",
   "outputs": [
    {
     "data": {
      "text/plain": [
       "<Figure size 200x200 with 1 Axes>"
      ],
      "image/png": "[encoded data removed]"
     },
     "metadata": {},
     "output_type": "display_data"
    }
   ],
   "execution_count": 17
  },
  {
   "metadata": {
    "ExecuteTime": {
     "end_time": "2025-05-19T14:46:35.602660Z",
     "start_time": "2025-05-19T14:46:35.271849Z"
    }
   },
   "cell_type": "code",
   "source": [
    "r_invs = [0.3,  0.5, 0.7]\n",
    "mediator_masses = [700, 800, 900, 1000, 1100, 1200]\n",
    "fig, ax = plt.subplots()\n",
    "ax.set_xticks(range(len(r_invs)))\n",
    "ax.set_xticklabels(r_invs)\n",
    "ax.set_yticks(range(len(mediator_masses)))\n",
    "ax.set_yticklabels(mediator_masses)\n",
    "ax.set_xlabel(\"$r_{inv}$\")\n",
    "ax.set_ylabel(\"$m_{Z'}$ [GeV]\")\n",
    "# put the tiny histogram in [0,0] tick, need to create a new ax at the right position\n",
    "ax_new = fig.add_axes([0.1, 0.1, 0.2, 0.2])\n",
    "ax_tiny_histogram(ax_new, labels, colors, values)\n",
    "\n"
   ],
   "id": "105a2ea4d6f16a0e",
   "outputs": [
    {
     "data": {
      "text/plain": [
       "<Axes: >"
      ]
     },
     "execution_count": 18,
     "metadata": {},
     "output_type": "execute_result"
    },
    {
     "data": {
      "text/plain": [
       "<Figure size 640x480 with 2 Axes>"
      ],
      "image/png": "[encoded data removed]"
     },
     "metadata": {},
     "output_type": "display_data"
    }
   ],
   "execution_count": 18
  },
  {
   "metadata": {},
   "cell_type": "code",
   "outputs": [],
   "execution_count": null,
   "source": "",
   "id": "536dfb070e3ea74"
  }
 ],
 "metadata": {
  "kernelspec": {
   "display_name": "Python 3",
   "language": "python",
   "name": "python3"
  },
  "language_info": {
   "codemirror_mode": {
    "name": "ipython",
    "version": 2
   },
   "file_extension": ".py",
   "mimetype": "text/x-python",
   "name": "python",
   "nbconvert_exporter": "python",
   "pygments_lexer": "ipython2",
   "version": "2.7.6"
  }
 },
 "nbformat": 4,
 "nbformat_minor": 5
}
