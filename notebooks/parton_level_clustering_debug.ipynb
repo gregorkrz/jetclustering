{
 "cells": [
  {
   "metadata": {
    "ExecuteTime": {
     "end_time": "2025-03-26T14:01:33.036983Z",
     "start_time": "2025-03-26T14:01:27.913144Z"
    }
   },
   "cell_type": "code",
   "source": [
    "# This file is for quick plotting of histograms of particle properties, to debug potential issues with cuts etc.\n",
    "import torch\n",
    "import sys\n",
    "import os.path as osp\n",
    "import os\n",
    "import sys\n",
    "import numpy as np\n",
    "from src.dataset.dataset import SimpleIterDataset, EventDataset\n",
    "from src.utils.utils import to_filelist\n",
    "import matplotlib.pyplot as plt\n",
    "import numpy as np\n",
    "import matplotlib\n",
    "import pickle\n",
    "import torch\n",
    "import os\n",
    "import matplotlib.pyplot as plt\n",
    "from src.utils.paths import get_path\n",
    "from src.utils.utils import CPU_Unpickler\n",
    "from pathlib import Path\n",
    "import fastjet\n",
    "from src.dataset.dataset import EventDataset\n",
    "import numpy as np\n",
    "from src.plotting.plot_coordinates import plot_coordinates\n",
    "\n",
    "matplotlib.rc('font', size=13)\n",
    "from src.plotting.plot_event import plot_event_comparison\n",
    "from src.dataset.functions_data import concat_events\n",
    "from src.utils.paths import get_path\n",
    "from dotenv import load_dotenv\n",
    "load_dotenv()\n"
   ],
   "id": "6bae9707acf4a848",
   "outputs": [
    {
     "data": {
      "text/plain": [
       "True"
      ]
     },
     "execution_count": 1,
     "metadata": {},
     "output_type": "execute_result"
    }
   ],
   "execution_count": 1
  },
  {
   "metadata": {
    "ExecuteTime": {
     "end_time": "2025-03-26T14:01:33.066009Z",
     "start_time": "2025-03-26T14:01:33.060240Z"
    }
   },
   "cell_type": "code",
   "source": [
    "def remove_from_list(lst):\n",
    "    out = []\n",
    "    for item in lst:\n",
    "        if item in [\"hgcal\", \"data.txt\", \"test_file.root\"]:\n",
    "            continue\n",
    "        out.append(item)\n",
    "    return out\n",
    "\n",
    "#path = \"/eos/user/g/gkrzmanc/jetclustering/data/SVJ_std_UL2018_scouting_test_large/SVJ_mMed-700GeV_mDark-20GeV_rinv-0.7_alpha-peak\"\n",
    "def get_iter(path_to_ds):\n",
    "    return iter()"
   ],
   "id": "e7a7ef680143801e",
   "outputs": [],
   "execution_count": 2
  },
  {
   "metadata": {
    "ExecuteTime": {
     "end_time": "2025-03-26T14:01:40.095236Z",
     "start_time": "2025-03-26T14:01:33.330168Z"
    }
   },
   "cell_type": "code",
   "source": [
    "\n",
    "filename_parton_level = get_path(\"train/Eval_eval_19March2025_2025_03_19_22_08_15/eval_1.pkl\", \"results\", fallback=True)\n",
    "result_parton_level = CPU_Unpickler(open(filename_parton_level, \"rb\")).load()\n",
    "print(result_parton_level[\"filename\"])\n",
    "dataset_parton_level = EventDataset.from_directory(result_parton_level[\"filename\"], mmap=True, model_output_file=filename_parton_level, parton_level=True)\n",
    "\n",
    "filename_gen_level = get_path(\"train/Eval_eval_19March2025_2025_03_19_22_08_18/eval_1.pkl\", \"results\", fallback=True)\n",
    "result_gen_level = CPU_Unpickler(open(filename_gen_level, \"rb\")).load()\n",
    "dataset_gen_level = EventDataset.from_directory(result_gen_level[\"filename\"], mmap=True, model_output_file=filename_gen_level, gen_level=True)\n",
    "\n",
    "filename_pfcands_level = get_path(\"train/Eval_eval_19March2025_2025_03_19_22_08_22/eval_1.pkl\", \"results\", fallback=True)\n",
    "result_pfcands_level = CPU_Unpickler(open(filename_pfcands_level, \"rb\")).load()\n",
    "dataset_pfcands_level = EventDataset.from_directory(result_pfcands_level[\"filename\"], mmap=True, model_output_file=filename_pfcands_level)\n"
   ],
   "id": "1c903a13377dcb3c",
   "outputs": [
    {
     "name": "stdout",
     "output_type": "stream",
     "text": [
      "/work/gkrzmanc/jetclustering/preprocessed_data/Feb26_2025_E1000_N500_full/PFNano_s-channel_mMed-1000_mDark-20_rinv-0.5_alpha-peak_13TeV-pythia8_n-1000\n"
     ]
    },
    {
     "name": "stderr",
     "output_type": "stream",
     "text": [
      "/work/gkrzmanc/jetclustering/code/src/utils/utils.py:91: FutureWarning: You are using `torch.load` with `weights_only=False` (the current default value), which uses the default pickle module implicitly. It is possible to construct malicious pickle data which will execute arbitrary code during unpickling (See https://github.com/pytorch/pytorch/blob/main/SECURITY.md#untrusted-models for more details). In a future release, the default value for `weights_only` will be flipped to `True`. This limits the functions that could be executed during unpickling. Arbitrary objects will no longer be allowed to be loaded via this mode unless they are explicitly allowlisted by the user via `torch.serialization.add_safe_globals`. We recommend you start setting `weights_only=True` for any use case where you don't have full control of the loaded file. Please open an issue on GitHub for any issues related to this experimental feature.\n",
      "  return lambda b: torch.load(io.BytesIO(b), map_location='cpu')\n"
     ]
    },
    {
     "name": "stdout",
     "output_type": "stream",
     "text": [
      "Batch idx torch.Size([501263]) tensor([3131, 3131, 3131, 3131, 3131, 3131, 3131, 3131, 3131, 3131, 3131, 3131,\n",
      "        3131, 3131, 3131, 3131, 3131, 3131, 3131, 3131, 3131, 3131, 3131, 3131,\n",
      "        3131, 3131, 3131, 3131, 3131, 3131, 3131, 3131, 3131, 3132, 3132, 3132,\n",
      "        3132, 3132, 3132, 3132, 3132, 3132, 3132, 3132, 3132, 3132, 3132, 3132,\n",
      "        3132, 3132, 3132, 3132, 3132, 3132, 3132, 3132, 3132, 3132, 3132, 3132,\n",
      "        3132, 3132, 3132, 3133, 3133, 3133, 3133, 3133, 3133, 3133, 3133, 3133,\n",
      "        3133, 3134, 3134, 3134, 3134, 3134, 3134, 3134, 3134, 3134, 3134, 3134,\n",
      "        3134, 3134, 3134, 3134, 3134, 3134, 3134, 3134, 3134, 3134, 3134, 3134,\n",
      "        3134, 3134, 3134, 3134, 3134, 3135, 3135, 3135, 3135, 3135, 3135, 3135,\n",
      "        3135, 3135, 3135, 3135, 3135, 3135, 3135, 3135, 3135, 3135, 3135, 3135,\n",
      "        3135, 3135, 3135, 3136, 3136, 3136, 3136, 3136, 3136, 3136, 3136, 3136,\n",
      "        3136, 3136, 3136, 3136, 3136, 3136, 3136, 3136, 3136, 3136, 3136, 3136,\n",
      "        3136, 3136, 3136, 3137, 3137, 3137, 3137, 3137, 3137, 3137, 3137, 3137,\n",
      "        3137, 3137, 3137, 3137, 3137, 3137, 3137, 3137, 3137, 3137, 3137, 3137,\n",
      "        3137, 3137, 3137, 3137, 3137, 3138, 3138, 3138, 3138, 3138, 3138, 3138,\n",
      "        3138, 3138, 3138, 3138, 3138, 3138, 3138, 3138, 3138, 3138, 3138, 3139,\n",
      "        3139, 3139, 3139, 3139, 3139, 3139, 3139, 3139, 3139, 3139, 3139, 3139])\n",
      "skipped [19289, 15787, 12804, 12703, 12368, 9642, 6843, 6378, 5789, 5629, 5624, 3766, 2690, 1883]\n",
      "result torch.Size([19983]) [78887.0, 78898.0, 78931.0, 78961.0, 78971.0, 78999.0, 79021.0, 79045.0, 79071.0, 79089.0]\n",
      "get_pfcands_key\n",
      "Batch idx torch.Size([2982887]) tensor([3131, 3131, 3131,  ..., 3139, 3139, 3139])\n",
      "skipped []\n",
      "result torch.Size([19969]) [467445.0, 467565.0, 467712.0, 467879.0, 467956.0, 468058.0, 468160.0, 468362.0, 468530.0, 468643.0]\n",
      "get_pfcands_key\n",
      "Batch idx torch.Size([5032092]) tensor([3131, 3131, 3131,  ..., 3139, 3139, 3139])\n",
      "skipped []\n",
      "result torch.Size([19969]) [784483.0, 784702.0, 784927.0, 785193.0, 785287.0, 785462.0, 785727.0, 786175.0, 786452.0, 786634.0]\n",
      "get_pfcands_key\n",
      "Found pfcands_key=pfcands\n"
     ]
    }
   ],
   "execution_count": 3
  },
  {
   "metadata": {
    "ExecuteTime": {
     "end_time": "2025-03-26T14:01:40.138249Z",
     "start_time": "2025-03-26T14:01:40.128129Z"
    }
   },
   "cell_type": "code",
   "source": "dataset_gen_level[0]",
   "id": "8175bcf087430364",
   "outputs": [
    {
     "data": {
      "text/plain": [
       "<src.dataset.functions_data.Event at 0x7f8742630df0>"
      ]
     },
     "execution_count": 4,
     "metadata": {},
     "output_type": "execute_result"
    }
   ],
   "execution_count": 4
  },
  {
   "metadata": {
    "ExecuteTime": {
     "end_time": "2025-03-26T14:01:50.734250Z",
     "start_time": "2025-03-26T14:01:50.717027Z"
    }
   },
   "cell_type": "code",
   "source": "dataset_parton_level[0]",
   "id": "e93a7d6c2a4ebec0",
   "outputs": [
    {
     "data": {
      "text/plain": [
       "<src.dataset.functions_data.Event at 0x7f83699c2e00>"
      ]
     },
     "execution_count": 5,
     "metadata": {},
     "output_type": "execute_result"
    }
   ],
   "execution_count": 5
  },
  {
   "metadata": {
    "ExecuteTime": {
     "end_time": "2025-03-26T14:01:53.461228Z",
     "start_time": "2025-03-26T14:01:53.443790Z"
    }
   },
   "cell_type": "code",
   "source": "dataset_pfcands_level[0]",
   "id": "66e9f682b4f8c364",
   "outputs": [
    {
     "data": {
      "text/plain": [
       "<src.dataset.functions_data.Event at 0x7f83699902b0>"
      ]
     },
     "execution_count": 6,
     "metadata": {},
     "output_type": "execute_result"
    }
   ],
   "execution_count": 6
  },
  {
   "metadata": {
    "ExecuteTime": {
     "end_time": "2025-03-26T14:19:22.465519Z",
     "start_time": "2025-03-26T14:19:10.976384Z"
    }
   },
   "cell_type": "code",
   "source": [
    "# make a histogram of the number of particles within R=0.8 of dark quarks\n",
    "data = {\n",
    "    \"PL\": [],\n",
    "    \"GL\": [],\n",
    "    \"PFCands\": []\n",
    "}\n",
    "R = 2.0\n",
    "from tqdm import tqdm\n",
    "for i in tqdm(range(200)):\n",
    "    event = dataset_pfcands_level[i]\n",
    "    particles = event.pfcands\n",
    "    data[\"PFCands\"] += [0]\n",
    "    for dq in range(len(event.matrix_element_gen_particles)):\n",
    "        coords = event.matrix_element_gen_particles.eta[dq], event.matrix_element_gen_particles.phi[dq]\n",
    "        for p in range(len(particles)):\n",
    "            if np.sqrt((particles.eta[p] - coords[0])**2 + (particles.phi[p] - coords[1])**2) < R:\n",
    "                data[\"PFCands\"][-1] += 1\n",
    "    event = dataset_parton_level[i]\n",
    "    particles = event.final_parton_level_particles\n",
    "    data[\"PL\"] += [0]\n",
    "    for dq in range(len(event.matrix_element_gen_particles)):\n",
    "        coords = event.matrix_element_gen_particles.eta[dq], event.matrix_element_gen_particles.phi[dq]\n",
    "        for p in range(len(particles)):\n",
    "            if np.sqrt((particles.eta[p] - coords[0])**2 + (particles.phi[p] - coords[1])**2) < R:\n",
    "                data[\"PL\"][-1] += 1\n",
    "    particles = event.final_gen_particles\n",
    "    data[\"GL\"] += [0]\n",
    "    for dq in range(len(event.matrix_element_gen_particles)):\n",
    "        coords = event.matrix_element_gen_particles.eta[dq], event.matrix_element_gen_particles.phi[dq]\n",
    "        for p in range(len(particles)):\n",
    "            if np.sqrt((particles.eta[p] - coords[0])**2 + (particles.phi[p] - coords[1])**2) < 0.8:\n",
    "                data[\"GL\"][-1] += 1"
   ],
   "id": "232234c10680aaba",
   "outputs": [
    {
     "name": "stderr",
     "output_type": "stream",
     "text": [
      "  0%|          | 0/200 [00:00<?, ?it/s]/tmp/ipykernel_22622/2504941977.py:16: DeprecationWarning: __array_wrap__ must accept context and return_scalar arguments (positionally) in the future. (Deprecated NumPy 2.0)\n",
      "  if np.sqrt((particles.eta[p] - coords[0])**2 + (particles.phi[p] - coords[1])**2) < R:\n",
      "/tmp/ipykernel_22622/2504941977.py:24: DeprecationWarning: __array_wrap__ must accept context and return_scalar arguments (positionally) in the future. (Deprecated NumPy 2.0)\n",
      "  if np.sqrt((particles.eta[p] - coords[0])**2 + (particles.phi[p] - coords[1])**2) < R:\n",
      "/tmp/ipykernel_22622/2504941977.py:31: DeprecationWarning: __array_wrap__ must accept context and return_scalar arguments (positionally) in the future. (Deprecated NumPy 2.0)\n",
      "  if np.sqrt((particles.eta[p] - coords[0])**2 + (particles.phi[p] - coords[1])**2) < 0.8:\n",
      "100%|██████████| 200/200 [00:11<00:00, 17.44it/s]\n"
     ]
    }
   ],
   "execution_count": 15
  },
  {
   "metadata": {
    "ExecuteTime": {
     "end_time": "2025-03-26T14:18:44.349092Z",
     "start_time": "2025-03-26T14:18:44.095676Z"
    }
   },
   "cell_type": "code",
   "source": [
    "fig, ax = plt.subplots()\n",
    "bins = np.linspace(0, 100, 30)\n",
    "ax.hist(data[\"PL\"], bins=bins, histtype=\"step\", label=\"Parton level\")\n",
    "ax.hist(data[\"GL\"], bins=bins, histtype=\"step\", label=\"Gen level\")\n",
    "ax.hist(data[\"PFCands\"], bins=bins, histtype=\"step\", label=\"PFCands\")\n",
    "ax.legend()\n",
    "fig.show()"
   ],
   "id": "f9271904d6e00747",
   "outputs": [
    {
     "data": {
      "text/plain": [
       "<Figure size 640x480 with 1 Axes>"
      ],
      "image/png": "[encoded data removed]"
     },
     "metadata": {},
     "output_type": "display_data"
    }
   ],
   "execution_count": 14
  },
  {
   "metadata": {
    "ExecuteTime": {
     "end_time": "2025-03-26T14:19:26.343487Z",
     "start_time": "2025-03-26T14:19:26.019458Z"
    }
   },
   "cell_type": "code",
   "source": [
    "fig, ax = plt.subplots()\n",
    "bins = np.linspace(0, 100, 30)\n",
    "ax.hist(data[\"PL\"], bins=bins, histtype=\"step\", label=\"Parton level\")\n",
    "ax.hist(data[\"GL\"], bins=bins, histtype=\"step\", label=\"Gen level\")\n",
    "ax.hist(data[\"PFCands\"], bins=bins, histtype=\"step\", label=\"PFCands\")\n",
    "ax.legend()\n",
    "ax.set_title(\"R=2.0\")\n",
    "fig.show()"
   ],
   "id": "f934c81528bf400e",
   "outputs": [
    {
     "data": {
      "text/plain": [
       "<Figure size 640x480 with 1 Axes>"
      ],
      "image/png": "[encoded data removed]"
     },
     "metadata": {},
     "output_type": "display_data"
    }
   ],
   "execution_count": 16
  },
  {
   "metadata": {},
   "cell_type": "code",
   "outputs": [],
   "execution_count": null,
   "source": "",
   "id": "f094b8a0a5862408"
  }
 ],
 "metadata": {
  "kernelspec": {
   "display_name": "Python 3",
   "language": "python",
   "name": "python3"
  },
  "language_info": {
   "codemirror_mode": {
    "name": "ipython",
    "version": 2
   },
   "file_extension": ".py",
   "mimetype": "text/x-python",
   "name": "python",
   "nbconvert_exporter": "python",
   "pygments_lexer": "ipython2",
   "version": "2.7.6"
  }
 },
 "nbformat": 4,
 "nbformat_minor": 5
}
