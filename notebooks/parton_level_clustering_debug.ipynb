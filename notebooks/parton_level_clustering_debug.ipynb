{
 "cells": [
  {
   "metadata": {
    "ExecuteTime": {
     "end_time": "2025-03-26T13:21:30.905731Z",
     "start_time": "2025-03-26T13:21:30.895899Z"
    }
   },
   "cell_type": "code",
   "source": [
    "# This file is for quick plotting of histograms of particle properties, to debug potential issues with cuts etc.\n",
    "import torch\n",
    "import sys\n",
    "import os.path as osp\n",
    "import os\n",
    "import sys\n",
    "import numpy as np\n",
    "from src.dataset.dataset import SimpleIterDataset, EventDataset\n",
    "from src.utils.utils import to_filelist\n",
    "import matplotlib.pyplot as plt\n",
    "import numpy as np\n",
    "import matplotlib\n",
    "matplotlib.rc('font', size=13)\n",
    "from src.plotting.plot_event import plot_event_comparison\n",
    "from src.dataset.functions_data import concat_events\n",
    "from src.utils.paths import get_path\n",
    "from dotenv import load_dotenv\n",
    "load_dotenv()\n"
   ],
   "id": "6bae9707acf4a848",
   "outputs": [
    {
     "data": {
      "text/plain": [
       "True"
      ]
     },
     "execution_count": 3,
     "metadata": {},
     "output_type": "execute_result"
    }
   ],
   "execution_count": 3
  },
  {
   "metadata": {
    "ExecuteTime": {
     "end_time": "2025-03-26T13:21:32.217852Z",
     "start_time": "2025-03-26T13:21:32.210132Z"
    }
   },
   "cell_type": "code",
   "source": [
    "def remove_from_list(lst):\n",
    "    out = []\n",
    "    for item in lst:\n",
    "        if item in [\"hgcal\", \"data.txt\", \"test_file.root\"]:\n",
    "            continue\n",
    "        out.append(item)\n",
    "    return out\n",
    "\n",
    "#path = \"/eos/user/g/gkrzmanc/jetclustering/data/SVJ_std_UL2018_scouting_test_large/SVJ_mMed-700GeV_mDark-20GeV_rinv-0.7_alpha-peak\"\n",
    "def get_iter(path_to_ds):\n",
    "    return iter()\n",
    "\n"
   ],
   "id": "e7a7ef680143801e",
   "outputs": [],
   "execution_count": 4
  },
  {
   "metadata": {
    "ExecuteTime": {
     "end_time": "2025-03-26T13:40:40.104872Z",
     "start_time": "2025-03-26T13:40:40.099641Z"
    }
   },
   "cell_type": "code",
   "source": [
    "path_to_ds = \"/work/gkrzmanc/jetclustering/preprocessed_data/Feb26_2025_E1000_N500_noPartonFilter_C_F/PFNano_s-channel_mMed-700_mDark-20_rinv-0.7_alpha-peak_13TeV-pythia8_n-1000\"\n",
    "\n"
   ],
   "id": "1549361c5b028634",
   "outputs": [],
   "execution_count": 10
  },
  {
   "metadata": {},
   "cell_type": "code",
   "outputs": [],
   "execution_count": null,
   "source": [
    "\n",
    "filename_parton_level = get_path(\"/work/gkrzmanc/jetclustering/results/train/Eval_no_pid_eval_1_2025_03_05_14_41_16/eval_1.pkl\", \"results\")\n",
    "result_parton_level = CPU_Unpickler(open(filename_parton_level, \"rb\")).load()\n",
    "dataset_parton_level = EventDataset.from_directory(result_parton_level[\"filename\"], mmap=True)\n",
    "\n",
    "filename_gen_level = get_path(\"/work/gkrzmanc/jetclustering/results/train/Eval_no_pid_eval_1_2025_03_05_14_40_30/eval_1.pkl\", \"results\")\n",
    "result_gen_level = CPU_Unpickler(open(filename_gen_level, \"rb\")).load()\n",
    "dataset_gen_level = EventDataset.from_directory(result_gen_level[\"filename\"], mmap=True)\n",
    "\n",
    "filename_pfcands_level = get_path(\"/work/gkrzmanc/jetclustering/results/train/Eval_no_pid_eval_1_2025_03_05_14_41_38/eval_1.pkl\", \"results\")\n",
    "result_pfcands_level = CPU_Unpickler(open(filename_pfcands_level, \"rb\")).load()\n",
    "dataset_pfcands_level = EventDataset.from_directory(result_pfcands_level[\"filename\"], mmap=True)\n"
   ],
   "id": "1c903a13377dcb3c"
  }
 ],
 "metadata": {
  "kernelspec": {
   "display_name": "Python 3",
   "language": "python",
   "name": "python3"
  },
  "language_info": {
   "codemirror_mode": {
    "name": "ipython",
    "version": 2
   },
   "file_extension": ".py",
   "mimetype": "text/x-python",
   "name": "python",
   "nbconvert_exporter": "python",
   "pygments_lexer": "ipython2",
   "version": "2.7.6"
  }
 },
 "nbformat": 4,
 "nbformat_minor": 5
}
