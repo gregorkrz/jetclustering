{
 "cells": [
  {
   "metadata": {
    "ExecuteTime": {
     "end_time": "2025-01-05T10:22:47.044259Z",
     "start_time": "2025-01-05T10:22:43.351317Z"
    }
   },
   "cell_type": "code",
   "source": [
    "import pickle\n",
    "import torch\n",
    "import os\n",
    "import matplotlib.pyplot as plt\n",
    "from src.utils.paths import get_path\n",
    "from src.utils.utils import CPU_Unpickler\n",
    "from pathlib import Path\n",
    "from src.dataset.dataset import EventDataset\n",
    "\n",
    "filename = get_path(\"/work/gkrzmanc/jetclustering/results/train/Test_betaPt_BC_2025_01_03_15_07_14/eval_0.pkl\", \"results\")\n",
    "# for rinv=0.7, see /work/gkrzmanc/jetclustering/results/train/Test_betaPt_BC_rinv07_2025_01_03_15_38_58\n",
    "\n",
    "result = CPU_Unpickler(open(filename, \"rb\")).load()\n",
    "dataset = EventDataset.from_directory(result[\"filename\"], mmap=True)\n"
   ],
   "id": "862bda2d2f12153f",
   "outputs": [
    {
     "name": "stderr",
     "output_type": "stream",
     "text": [
      "/work/gkrzmanc/gatr/lib/python3.10/site-packages/tqdm/auto.py:21: TqdmWarning: IProgress not found. Please update jupyter and ipywidgets. See https://ipywidgets.readthedocs.io/en/stable/user_install.html\n",
      "  from .autonotebook import tqdm as notebook_tqdm\n"
     ]
    }
   ],
   "execution_count": 1
  },
  {
   "metadata": {
    "ExecuteTime": {
     "end_time": "2025-01-05T10:22:50.203515Z",
     "start_time": "2025-01-05T10:22:50.195665Z"
    }
   },
   "cell_type": "code",
   "source": "result.keys()",
   "id": "9087767e438ba4e7",
   "outputs": [
    {
     "data": {
      "text/plain": [
       "dict_keys(['event_idx', 'GT_cluster', 'pred', 'eta', 'phi', 'pt', 'AK8_cluster', 'radius_cluster_GenJets', 'radius_cluster_FatJets', 'filename'])"
      ]
     },
     "execution_count": 5,
     "metadata": {},
     "output_type": "execute_result"
    }
   ],
   "execution_count": 5
  },
  {
   "metadata": {
    "ExecuteTime": {
     "end_time": "2025-01-05T10:22:50.620214Z",
     "start_time": "2025-01-05T10:22:50.615654Z"
    }
   },
   "cell_type": "code",
   "source": [
    "from src.jetfinder.basicjetfinder import basicjetfinder\n",
    "from src.jetfinder.basicjetfinder_types import PseudoJet"
   ],
   "id": "3d306ff55aba8f56",
   "outputs": [],
   "execution_count": 6
  },
  {
   "metadata": {
    "ExecuteTime": {
     "end_time": "2025-01-05T10:22:50.696913Z",
     "start_time": "2025-01-05T10:22:50.683413Z"
    }
   },
   "cell_type": "code",
   "source": "event = dataset[1]",
   "id": "f22d322fe5c58d62",
   "outputs": [],
   "execution_count": 7
  },
  {
   "metadata": {
    "ExecuteTime": {
     "end_time": "2025-01-05T10:22:50.941308Z",
     "start_time": "2025-01-05T10:22:50.807181Z"
    }
   },
   "cell_type": "code",
   "source": [
    "def get_pseudojets(event):\n",
    "    pseudojets = []\n",
    "    for i in range(len(event.pfcands)):\n",
    "        pseudojets.append(PseudoJet(event.pfcands.pxyz[i, 0].item(), event.pfcands.pxyz[i, 1].item(), event.pfcands.pxyz[i, 2].item(), event.pfcands.E[i].item()))\n",
    "    return pseudojets\n",
    "import fastjet\n",
    "def get_pseudojets_fastjet(event):\n",
    "    pseudojets = []\n",
    "    for i in range(len(event.pfcands)):\n",
    "        pseudojets.append(fastjet.PseudoJet(event.pfcands.pxyz[i, 0].item(), event.pfcands.pxyz[i, 1].item(), event.pfcands.pxyz[i, 2].item(), event.pfcands.E[i].item()))\n",
    "    return pseudojets"
   ],
   "id": "d82147109550e95d",
   "outputs": [],
   "execution_count": 8
  },
  {
   "metadata": {
    "ExecuteTime": {
     "end_time": "2025-01-05T10:22:51.076233Z",
     "start_time": "2025-01-05T10:22:51.003001Z"
    }
   },
   "cell_type": "code",
   "source": [
    "pj = get_pseudojets(event)\n",
    "init_jets, history = basicjetfinder(pj, return_raw=True)"
   ],
   "id": "109f80517d6d8ebe",
   "outputs": [],
   "execution_count": 9
  },
  {
   "metadata": {
    "ExecuteTime": {
     "end_time": "2025-01-05T10:22:51.197257Z",
     "start_time": "2025-01-05T10:22:51.189299Z"
    }
   },
   "cell_type": "code",
   "source": "pj[0].phi, pj[0].rap",
   "id": "d447c0086cf78673",
   "outputs": [
    {
     "data": {
      "text/plain": [
       "(5.176739997422374, -1.1044922730459195)"
      ]
     },
     "execution_count": 10,
     "metadata": {},
     "output_type": "execute_result"
    }
   ],
   "execution_count": 10
  },
  {
   "metadata": {
    "ExecuteTime": {
     "end_time": "2025-01-05T10:22:51.303567Z",
     "start_time": "2025-01-05T10:22:51.295388Z"
    }
   },
   "cell_type": "code",
   "source": "event.pfcands.phi[0].item(), event.pfcands.eta[0].item()",
   "id": "829888c538a224ce",
   "outputs": [
    {
     "data": {
      "text/plain": [
       "(-1.1064453125, -1.1044921875)"
      ]
     },
     "execution_count": 11,
     "metadata": {},
     "output_type": "execute_result"
    }
   ],
   "execution_count": 11
  },
  {
   "metadata": {
    "ExecuteTime": {
     "end_time": "2025-01-05T10:22:53.432392Z",
     "start_time": "2025-01-05T10:22:53.423595Z"
    }
   },
   "cell_type": "code",
   "source": [
    "history.parent1[-1], history.parent2[-1]\n",
    "history.jetp_index[305]"
   ],
   "id": "5066f1dbfc75c415",
   "outputs": [
    {
     "data": {
      "text/plain": [
       "305"
      ]
     },
     "execution_count": 12,
     "metadata": {},
     "output_type": "execute_result"
    }
   ],
   "execution_count": 12
  },
  {
   "metadata": {
    "ExecuteTime": {
     "end_time": "2025-01-05T10:22:53.722390Z",
     "start_time": "2025-01-05T10:22:53.613292Z"
    }
   },
   "cell_type": "code",
   "source": "jets = basicjetfinder(pj, return_raw=0, ptmin=100)",
   "id": "111438c86429cb73",
   "outputs": [],
   "execution_count": 13
  },
  {
   "metadata": {
    "ExecuteTime": {
     "end_time": "2025-01-05T10:23:02.841143Z",
     "start_time": "2025-01-05T10:23:02.561963Z"
    }
   },
   "cell_type": "code",
   "source": [
    "fig, ax = plt.subplots()\n",
    "print(len(jets))\n",
    "import numpy as np\n",
    "pts = [jet.pt for jet in jets]\n",
    "ax.hist(pts, bins=np.linspace(100, 300, 30))\n",
    "fig.show()"
   ],
   "id": "c9b6a5bae8fb77a0",
   "outputs": [
    {
     "name": "stdout",
     "output_type": "stream",
     "text": [
      "12\n"
     ]
    },
    {
     "data": {
      "text/plain": [
       "<Figure size 640x480 with 1 Axes>"
      ],
      "image/png": "[encoded data removed]"
     },
     "metadata": {},
     "output_type": "display_data"
    }
   ],
   "execution_count": 15
  },
  {
   "metadata": {
    "ExecuteTime": {
     "end_time": "2025-01-05T10:23:12.497416Z",
     "start_time": "2025-01-05T10:23:12.488535Z"
    }
   },
   "cell_type": "code",
   "source": "pts",
   "id": "8173000a212c5561",
   "outputs": [
    {
     "data": {
      "text/plain": [
       "[106.4914540483752,\n",
       " 126.82878103484677,\n",
       " 128.75701244217592,\n",
       " 139.36815083799416,\n",
       " 141.45818096650805,\n",
       " 157.3921266403816,\n",
       " 263.460560295077,\n",
       " 510.77385760617676,\n",
       " 1265.8454239380796,\n",
       " 3240.9516711140454,\n",
       " 9355.60575745164,\n",
       " 12409.915133671686]"
      ]
     },
     "execution_count": 16,
     "metadata": {},
     "output_type": "execute_result"
    }
   ],
   "execution_count": 16
  },
  {
   "metadata": {
    "ExecuteTime": {
     "end_time": "2025-01-04T21:42:24.960611Z",
     "start_time": "2025-01-04T21:42:24.952081Z"
    }
   },
   "cell_type": "code",
   "source": "history.parent1[-1], history.parent2[-1]\n",
   "id": "ca12ef3d85430a6c",
   "outputs": [
    {
     "data": {
      "text/plain": [
       "(305, -1)"
      ]
     },
     "execution_count": 14,
     "metadata": {},
     "output_type": "execute_result"
    }
   ],
   "execution_count": 14
  },
  {
   "metadata": {
    "ExecuteTime": {
     "end_time": "2025-01-04T21:42:26.003586Z",
     "start_time": "2025-01-04T21:42:25.992473Z"
    }
   },
   "cell_type": "code",
   "source": "history.parent1",
   "id": "648b5a6c3f3469db",
   "outputs": [
    {
     "data": {
      "text/plain": [
       "array([ -1,  -1,  -1,  -1,  -1,  -1,  -1,  -1,  -1,  -1,  -1,  -1,  -1,\n",
       "        -1,  -1,  -1,  -1,  -1,  -1,  -1,  -1,  -1,  -1,  -1,  -1,  -1,\n",
       "        -1,  -1,  -1,  -1,  -1,  -1,  -1,  -1,  -1,  -1,  -1,  -1,  -1,\n",
       "        -1,  -1,  -1,  -1,  -1,  -1,  -1,  -1,  -1,  -1,  -1,  -1,  -1,\n",
       "        -1,  -1,  -1,  -1,  -1,  -1,  -1,  -1,  -1,  -1,  -1,  -1,  -1,\n",
       "        -1,  -1,  -1,  -1,  -1,  -1,  -1,  -1,  -1,  -1,  -1,  -1,  -1,\n",
       "        -1,  -1,  -1,  -1,  -1,  -1,  -1,  -1,  -1,  -1,  -1,  -1,  -1,\n",
       "        -1,  -1,  -1,  -1,  -1,  -1,  -1,  -1,  -1,  -1,  -1,  -1,  -1,\n",
       "        -1,  -1,  -1,  -1,  -1,  -1,  -1,  -1,  -1,  -1,  -1,  -1,  -1,\n",
       "        -1,  -1,  -1,  -1,  -1,  -1,  -1,  -1,  -1,  -1,  -1,  -1,  -1,\n",
       "        -1,  -1,  -1,  -1,  -1,  -1,  -1,  -1,  -1,  -1,  -1,  -1,  -1,\n",
       "        -1,  -1,  -1,  -1,  -1,  -1,  -1,  -1,  -1,  -1,  -1,  -1,  -1,\n",
       "        -1,  -1,  -1,  -1,  -1,  -1,  -1,  -1,  -1,  -1,  -1,  -1,  -1,\n",
       "        -1,  -1,  -1,  -1,  -1,  -1,  -1,  -1,  -1,  -1,  -1,  -1,  -1,\n",
       "        -1,  -1,  -1,  -1,  -1,  -1,  -1,  -1,  -1,  -1,  -1,  -1,  -1,\n",
       "        -1,  -1,  -1,  -1,  -1,  -1,  -1,  -1,  -1,  -1,  -1,  -1,  -1,\n",
       "        -1,  -1,  -1,  -1,  -1,  -1,  -1,  -1,  -1,  -1,  -1,  -1,  -1,\n",
       "        -1,  -1,  -1,  -1,  -1,  -1,  -1,  -1,  -1,  -1,  -1,  -1,  -1,\n",
       "        -1,  -1,  -1,  -1,  -1,  -1,  -1,  -1,  -1,  -1,  -1,  -1,  -1,\n",
       "        -1,  -1,  -1,  -1,  -1,  -1,  -1,  -1,  -1,  -1,  -1,  -1,  -1,\n",
       "        -1,  -1,  -1,  -1,  -1,  -1,  -1,  -1,  -1,  -1,  -1,  -1,  -1,\n",
       "        -1,  -1,  -1,  -1,  -1,  -1,  -1,  -1,  -1,  -1,  -1,  -1,  -1,\n",
       "        -1,  -1,  -1,  -1,  -1,  -1,  -1,  -1,  -1,  -1,  -1,  -1,  -1,\n",
       "        -1,  -1,  -1,  -1,  -1,  -1,  -1,  -1,  -1,  -1,  -1,  -1,  -1,\n",
       "        -1,  -1,  -1,  -1,  -1,  -1,  -1,  -1,  -1,  -1,  -1,  -1,  -1,\n",
       "        -1,  -1,  -1,  -1,  -1,  -1,  -1,  -1,  -1,  -1,   1, 335,   0,\n",
       "       337, 338, 339, 340,   6, 341,   7, 343, 345, 346, 347, 348,   5,\n",
       "       349, 351, 352, 353, 127, 350, 356, 354, 358,  13, 359, 357, 362,\n",
       "       363, 361, 365, 366, 367, 368, 369, 370, 371, 372, 364, 374, 373,\n",
       "       376, 377, 378, 379,  82, 375, 382, 383, 344, 385, 386, 387, 384,\n",
       "       389, 390, 391, 392, 393, 394, 395, 396, 397, 398, 399, 400, 401,\n",
       "       402, 403, 404, 405, 406, 342, 408, 409, 410, 407, 412, 413, 414,\n",
       "       415, 416, 417, 418, 419, 420, 421, 422, 423, 411, 425, 424, 427,\n",
       "       428, 429, 430, 431, 432, 433, 434, 435, 436, 437, 438, 439, 440,\n",
       "       441, 442, 443, 444, 445, 446, 447, 448, 449, 450, 451, 452, 426,\n",
       "         9, 455, 453, 454, 458,  33, 460, 388, 459, 463, 464, 465,  25,\n",
       "       466, 468, 469, 456, 470, 472, 473, 474, 475, 476, 477, 478, 479,\n",
       "       480, 481, 482, 483, 484, 485, 486, 487, 488, 489, 462,  35, 491,\n",
       "       461, 494, 495, 493, 497, 498, 499,  20, 496, 502, 500, 504, 503,\n",
       "       506, 507, 505, 509, 510, 511, 512, 513, 514, 515, 516, 508, 518,\n",
       "       519, 501, 520,  22, 521,  92, 522, 524, 526,  91, 528, 248, 530,\n",
       "       527, 523,  65, 177, 533, 537, 538, 467, 539,  48,  40, 540,  93,\n",
       "       541,  37, 547, 548, 549, 550, 551, 552, 553, 554, 555, 556, 557,\n",
       "       558, 559, 560, 561, 542, 534,  57, 529, 564, 563, 568, 566, 570,\n",
       "       571, 572, 573, 574, 575, 565, 577, 569, 185, 102, 581,  62, 583,\n",
       "        52,  43, 586, 587, 588, 589, 590, 591, 582,  50, 594, 595, 596,\n",
       "       597, 598, 599, 600,  27, 602, 603, 604,  98, 606, 607, 543, 544,\n",
       "       608, 609, 567, 579, 614, 611, 605, 617, 593, 619, 620, 621,  89,\n",
       "       623, 624, 625, 626, 627, 628, 629, 612, 631, 632, 633, 634, 635,\n",
       "       636, 637, 610, 616, 640,  84, 192, 642, 644, 645, 646, 647, 545,\n",
       "       649, 650, 651, 652, 653, 654, 190, 104, 657, 658, 659, 660, 661,\n",
       "        49, 137, 664, 656, 126, 166, 305])"
      ]
     },
     "execution_count": 15,
     "metadata": {},
     "output_type": "execute_result"
    }
   ],
   "execution_count": 15
  },
  {
   "metadata": {
    "ExecuteTime": {
     "end_time": "2025-01-04T21:42:40.184802Z",
     "start_time": "2025-01-04T21:42:40.173588Z"
    }
   },
   "cell_type": "code",
   "source": "history.parent2",
   "id": "7f4ba4d2fac40d0b",
   "outputs": [
    {
     "data": {
      "text/plain": [
       "array([ -1,  -1,  -1,  -1,  -1,  -1,  -1,  -1,  -1,  -1,  -1,  -1,  -1,\n",
       "        -1,  -1,  -1,  -1,  -1,  -1,  -1,  -1,  -1,  -1,  -1,  -1,  -1,\n",
       "        -1,  -1,  -1,  -1,  -1,  -1,  -1,  -1,  -1,  -1,  -1,  -1,  -1,\n",
       "        -1,  -1,  -1,  -1,  -1,  -1,  -1,  -1,  -1,  -1,  -1,  -1,  -1,\n",
       "        -1,  -1,  -1,  -1,  -1,  -1,  -1,  -1,  -1,  -1,  -1,  -1,  -1,\n",
       "        -1,  -1,  -1,  -1,  -1,  -1,  -1,  -1,  -1,  -1,  -1,  -1,  -1,\n",
       "        -1,  -1,  -1,  -1,  -1,  -1,  -1,  -1,  -1,  -1,  -1,  -1,  -1,\n",
       "        -1,  -1,  -1,  -1,  -1,  -1,  -1,  -1,  -1,  -1,  -1,  -1,  -1,\n",
       "        -1,  -1,  -1,  -1,  -1,  -1,  -1,  -1,  -1,  -1,  -1,  -1,  -1,\n",
       "        -1,  -1,  -1,  -1,  -1,  -1,  -1,  -1,  -1,  -1,  -1,  -1,  -1,\n",
       "        -1,  -1,  -1,  -1,  -1,  -1,  -1,  -1,  -1,  -1,  -1,  -1,  -1,\n",
       "        -1,  -1,  -1,  -1,  -1,  -1,  -1,  -1,  -1,  -1,  -1,  -1,  -1,\n",
       "        -1,  -1,  -1,  -1,  -1,  -1,  -1,  -1,  -1,  -1,  -1,  -1,  -1,\n",
       "        -1,  -1,  -1,  -1,  -1,  -1,  -1,  -1,  -1,  -1,  -1,  -1,  -1,\n",
       "        -1,  -1,  -1,  -1,  -1,  -1,  -1,  -1,  -1,  -1,  -1,  -1,  -1,\n",
       "        -1,  -1,  -1,  -1,  -1,  -1,  -1,  -1,  -1,  -1,  -1,  -1,  -1,\n",
       "        -1,  -1,  -1,  -1,  -1,  -1,  -1,  -1,  -1,  -1,  -1,  -1,  -1,\n",
       "        -1,  -1,  -1,  -1,  -1,  -1,  -1,  -1,  -1,  -1,  -1,  -1,  -1,\n",
       "        -1,  -1,  -1,  -1,  -1,  -1,  -1,  -1,  -1,  -1,  -1,  -1,  -1,\n",
       "        -1,  -1,  -1,  -1,  -1,  -1,  -1,  -1,  -1,  -1,  -1,  -1,  -1,\n",
       "        -1,  -1,  -1,  -1,  -1,  -1,  -1,  -1,  -1,  -1,  -1,  -1,  -1,\n",
       "        -1,  -1,  -1,  -1,  -1,  -1,  -1,  -1,  -1,  -1,  -1,  -1,  -1,\n",
       "        -1,  -1,  -1,  -1,  -1,  -1,  -1,  -1,  -1,  -1,  -1,  -1,  -1,\n",
       "        -1,  -1,  -1,  -1,  -1,  -1,  -1,  -1,  -1,  -1,  -1,  -1,  -1,\n",
       "        -1,  -1,  -1,  -1,  -1,  -1,  -1,  -1,  -1,  -1,  -1,  -1,  -1,\n",
       "        -1,  -1,  -1,  -1,  -1,  -1,  -1,  -1,  -1,  -1,   3,   2, 336,\n",
       "       213,   4, 134, 197, 243, 169,  31, 323, 222, 230, 325, 155,  12,\n",
       "       167, 142, 327, 198, 141,  45,  47, 106, 310, 116, 270,  16, 100,\n",
       "        74,  11, 221, 299,  59,  67,  58, 277, 129, 189,  17, 184, 303,\n",
       "       139, 146,  79,  -1, 123,  77, 294, 258,  32,  36,  18,  14, 360,\n",
       "       124,  63, 292,  19, 204, 112,  29, 103, 109, 263,  73, 131, 199,\n",
       "        55, 266,  54, 309,  41,  15,  21,  30,   8, 233, 285,  46, 241,\n",
       "        38,  68, 246,  96,  85, 122, 316, 191,  86,  90, 229, 157, 289,\n",
       "        26,  28, 117, 135,  24,  61, 214,  23, 326, 224, 201, 179, 237,\n",
       "        76, 115,  42, 172, 256, 143, 219,  78, 281, 308,  44, 206, 128,\n",
       "        53,  60,  -1, 183, 251,  34, 255, 175, 333, 105, 268, 133, 317,\n",
       "       381, 227, 321, 158,  94,  39, 355,  10, 252,  80, 101, 471, 290,\n",
       "        70, 284,  83, 275, 291, 210, 262, 261, 253,  -1, 153, 334, 280,\n",
       "       108, 140, 492, 147, 125, 174, 295, 232, 288, 287, 161, 265,  56,\n",
       "       307, 195, 247, 150, 164, 202, 274,  95,  64, 244,  -1, 186, 272,\n",
       "       208, 329, 162, 273, 111, 107, 223, 160, 218, 163, 286, 271,  -1,\n",
       "       250, 130, 330, 531, 313, 259,  69, 324, 152,  99, 165, 278, 242,\n",
       "        -1, 536, 217, 203, 211, 159, 145, 331,  88, 226, 535, 216, 151,\n",
       "       231, 187, 301,  -1, 260, 297,  72, 525, 264, 120,  87, 269, 235,\n",
       "       318, 228, 194, 220, 178, 576,  -1, 314, 188, 113, 245,  97, 156,\n",
       "       584, 585,  66, 132, 279,  81, 296,  -1, 282, 298, 180, 580, 234,\n",
       "        71, 200, 168,  -1, 170, 302, 171, 154, 207, 304, 110, 320, 238,\n",
       "       312, 181,  -1, 138,  -1, 283, 276,  -1, 267, 121, 328, 182, 622,\n",
       "       215, 209, 212, 173, 306, 193,  -1, 114,  75, 119, 149,  51, 240,\n",
       "       205,  -1,  -1, 148,  -1, 257, 236, 118, 176, 144, 196,  -1, 300,\n",
       "       322, 136, 293, 319, 332,  -1, 311, 249, 254, 315, 225, 643,  -1,\n",
       "        -1, 239,  -1,  -1,  -1,  -1,  -1])"
      ]
     },
     "execution_count": 16,
     "metadata": {},
     "output_type": "execute_result"
    }
   ],
   "execution_count": 16
  },
  {
   "metadata": {
    "ExecuteTime": {
     "end_time": "2025-01-05T17:09:34.389019Z",
     "start_time": "2025-01-05T17:09:34.362991Z"
    }
   },
   "cell_type": "code",
   "source": [
    "import fastjet\n",
    "jetdef = fastjet.JetDefinition(fastjet.antikt_algorithm, 0.8)\n",
    "array = get_pseudojets_fastjet(event)\n",
    "\n",
    "cluster = fastjet.ClusterSequence(array, jetdef)\n",
    "inc_jets = cluster.inclusive_jets()\n",
    "\n",
    "for elem in inc_jets:\n",
    "    pt = elem.pt()\n",
    "    if pt < 100:\n",
    "        continue\n",
    "    print(\"pt:\", elem.pt(), \"eta:\", elem.rap())"
   ],
   "id": "fe26fce41ce8a6e0",
   "outputs": [
    {
     "name": "stdout",
     "output_type": "stream",
     "text": [
      "pt: 132.20828148108546 eta: -0.0754104485813396\n",
      "pt: 200.7486894820125 eta: -1.148074263928614\n",
      "pt: 401.81239814256105 eta: -1.1010204529261447\n"
     ]
    }
   ],
   "execution_count": 34
  },
  {
   "metadata": {
    "ExecuteTime": {
     "end_time": "2025-01-05T17:10:04.726391Z",
     "start_time": "2025-01-05T17:10:04.717676Z"
    }
   },
   "cell_type": "code",
   "source": "event.fatjets.pt.tolist(), event.fatjets.eta.tolist()",
   "id": "d1e783a1ef0b7d2",
   "outputs": [
    {
     "data": {
      "text/plain": [
       "([401.8123779296875, 200.74868774414062, 126.27354431152344],\n",
       " [-1.1161537170410156, -1.205527901649475, -0.07039077579975128])"
      ]
     },
     "execution_count": 37,
     "metadata": {},
     "output_type": "execute_result"
    }
   ],
   "execution_count": 37
  },
  {
   "metadata": {},
   "cell_type": "code",
   "outputs": [],
   "execution_count": null,
   "source": "",
   "id": "4a70177cc18e6294"
  }
 ],
 "metadata": {
  "kernelspec": {
   "name": "python3",
   "language": "python",
   "display_name": "Python 3 (ipykernel)"
  }
 },
 "nbformat": 5,
 "nbformat_minor": 9
}
